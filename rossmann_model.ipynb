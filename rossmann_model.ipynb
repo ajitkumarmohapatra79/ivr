{
 "cells": [
  {
   "cell_type": "code",
   "execution_count": 1,
   "metadata": {},
   "outputs": [],
   "source": [
    "%matplotlib inline\n",
    "%reload_ext autoreload\n",
    "%autoreload 2"
   ]
  },
  {
   "cell_type": "code",
   "execution_count": 2,
   "metadata": {},
   "outputs": [],
   "source": [
    "import pandas as pd\n",
    "import numpy as np\n",
    "import torch"
   ]
  },
  {
   "cell_type": "code",
   "execution_count": 3,
   "metadata": {},
   "outputs": [],
   "source": [
    "PATH='ivr_data/rossmann/'"
   ]
  },
  {
   "cell_type": "code",
   "execution_count": 4,
   "metadata": {},
   "outputs": [],
   "source": [
    "train_df = pd.read_feather(f'{PATH}joined')\n",
    "test_df = pd.read_feather(f'{PATH}joined_test')"
   ]
  },
  {
   "cell_type": "code",
   "execution_count": 5,
   "metadata": {},
   "outputs": [
    {
     "data": {
      "text/plain": [
       "(844338, 41088)"
      ]
     },
     "execution_count": 5,
     "metadata": {},
     "output_type": "execute_result"
    }
   ],
   "source": [
    "len(train_df),len(test_df)"
   ]
  },
  {
   "cell_type": "code",
   "execution_count": 6,
   "metadata": {},
   "outputs": [],
   "source": [
    "import sys\n",
    "# sys.path.append(\"/mnt/azmnt/code/Users/bho829/fastai\")\n",
    "sys.path.append(\"/mnt/azmnt/code/Users/bho829/fastai/fastai\")"
   ]
  },
  {
   "cell_type": "code",
   "execution_count": 7,
   "metadata": {},
   "outputs": [],
   "source": [
    "from xfinity.fastai.tabular.transform import *"
   ]
  },
  {
   "cell_type": "code",
   "execution_count": 8,
   "metadata": {},
   "outputs": [],
   "source": [
    "procs=[FillMissing, Categorify, Normalize]"
   ]
  },
  {
   "cell_type": "code",
   "execution_count": 41,
   "metadata": {},
   "outputs": [],
   "source": [
    "vec_vars = []\n",
    "cat_vars = ['Store', 'DayOfWeek', 'Year', 'Month', 'Day', 'StateHoliday', 'CompetitionMonthsOpen',\n",
    "    'Promo2Weeks', 'StoreType', 'Assortment', 'PromoInterval', 'CompetitionOpenSinceYear', 'Promo2SinceYear',\n",
    "    'State', 'Week', 'Events', 'Promo_fw', 'Promo_bw', 'StateHoliday_fw', 'StateHoliday_bw',\n",
    "    'SchoolHoliday_fw', 'SchoolHoliday_bw']\n",
    "\n",
    "cont_vars = ['CompetitionDistance', 'Max_TemperatureC', 'Mean_TemperatureC', 'Min_TemperatureC',\n",
    "   'Max_Humidity', 'Mean_Humidity', 'Min_Humidity', 'Max_Wind_SpeedKm_h', \n",
    "   'Mean_Wind_SpeedKm_h', 'CloudCover', 'trend', 'trend_DE',\n",
    "   'AfterStateHoliday', 'BeforeStateHoliday', 'Promo', 'SchoolHoliday']"
   ]
  },
  {
   "cell_type": "code",
   "execution_count": 42,
   "metadata": {},
   "outputs": [
    {
     "data": {
      "text/plain": [
       "0      1270.0\n",
       "1       570.0\n",
       "2     14130.0\n",
       "3       620.0\n",
       "4     29910.0\n",
       "5       310.0\n",
       "6     24000.0\n",
       "7      7520.0\n",
       "8      2030.0\n",
       "9      3160.0\n",
       "10      960.0\n",
       "11     1070.0\n",
       "12      310.0\n",
       "13     1300.0\n",
       "14     4110.0\n",
       "15     3270.0\n",
       "16       50.0\n",
       "17    13840.0\n",
       "18     3240.0\n",
       "19     2340.0\n",
       "Name: CompetitionDistance, dtype: float64"
      ]
     },
     "execution_count": 42,
     "metadata": {},
     "output_type": "execute_result"
    }
   ],
   "source": [
    "train_df['CompetitionDistance'].head(20)"
   ]
  },
  {
   "cell_type": "code",
   "execution_count": 77,
   "metadata": {},
   "outputs": [
    {
     "data": {
      "text/plain": [
       "7"
      ]
     },
     "execution_count": 77,
     "metadata": {},
     "output_type": "execute_result"
    }
   ],
   "source": [
    "len(train_df['DayOfWeek'].unique())"
   ]
  },
  {
   "cell_type": "code",
   "execution_count": 79,
   "metadata": {},
   "outputs": [
    {
     "data": {
      "text/plain": [
       "array([5, 4, 3, 2, 1, 7, 6])"
      ]
     },
     "execution_count": 79,
     "metadata": {},
     "output_type": "execute_result"
    }
   ],
   "source": [
    "train_df['DayOfWeek'].unique()"
   ]
  },
  {
   "cell_type": "code",
   "execution_count": 78,
   "metadata": {},
   "outputs": [
    {
     "data": {
      "text/html": [
       "<div>\n",
       "<style scoped>\n",
       "    .dataframe tbody tr th:only-of-type {\n",
       "        vertical-align: middle;\n",
       "    }\n",
       "\n",
       "    .dataframe tbody tr th {\n",
       "        vertical-align: top;\n",
       "    }\n",
       "\n",
       "    .dataframe thead th {\n",
       "        text-align: right;\n",
       "    }\n",
       "</style>\n",
       "<table border=\"1\" class=\"dataframe\">\n",
       "  <thead>\n",
       "    <tr style=\"text-align: right;\">\n",
       "      <th></th>\n",
       "      <th>index</th>\n",
       "      <th>Store</th>\n",
       "      <th>DayOfWeek</th>\n",
       "      <th>Date</th>\n",
       "      <th>Sales</th>\n",
       "      <th>Customers</th>\n",
       "      <th>Open</th>\n",
       "      <th>Promo</th>\n",
       "      <th>StateHoliday</th>\n",
       "      <th>SchoolHoliday</th>\n",
       "      <th>...</th>\n",
       "      <th>AfterStateHoliday</th>\n",
       "      <th>BeforeStateHoliday</th>\n",
       "      <th>AfterPromo</th>\n",
       "      <th>BeforePromo</th>\n",
       "      <th>SchoolHoliday_bw</th>\n",
       "      <th>StateHoliday_bw</th>\n",
       "      <th>Promo_bw</th>\n",
       "      <th>SchoolHoliday_fw</th>\n",
       "      <th>StateHoliday_fw</th>\n",
       "      <th>Promo_fw</th>\n",
       "    </tr>\n",
       "  </thead>\n",
       "  <tbody>\n",
       "    <tr>\n",
       "      <th>0</th>\n",
       "      <td>0</td>\n",
       "      <td>1</td>\n",
       "      <td>5</td>\n",
       "      <td>2015-07-31</td>\n",
       "      <td>5263</td>\n",
       "      <td>555</td>\n",
       "      <td>1</td>\n",
       "      <td>1</td>\n",
       "      <td>False</td>\n",
       "      <td>1</td>\n",
       "      <td>...</td>\n",
       "      <td>57</td>\n",
       "      <td>0</td>\n",
       "      <td>0</td>\n",
       "      <td>0</td>\n",
       "      <td>5.0</td>\n",
       "      <td>0.0</td>\n",
       "      <td>5.0</td>\n",
       "      <td>7.0</td>\n",
       "      <td>0.0</td>\n",
       "      <td>5.0</td>\n",
       "    </tr>\n",
       "    <tr>\n",
       "      <th>1</th>\n",
       "      <td>1</td>\n",
       "      <td>2</td>\n",
       "      <td>5</td>\n",
       "      <td>2015-07-31</td>\n",
       "      <td>6064</td>\n",
       "      <td>625</td>\n",
       "      <td>1</td>\n",
       "      <td>1</td>\n",
       "      <td>False</td>\n",
       "      <td>1</td>\n",
       "      <td>...</td>\n",
       "      <td>67</td>\n",
       "      <td>0</td>\n",
       "      <td>0</td>\n",
       "      <td>0</td>\n",
       "      <td>5.0</td>\n",
       "      <td>0.0</td>\n",
       "      <td>5.0</td>\n",
       "      <td>1.0</td>\n",
       "      <td>0.0</td>\n",
       "      <td>1.0</td>\n",
       "    </tr>\n",
       "    <tr>\n",
       "      <th>2</th>\n",
       "      <td>2</td>\n",
       "      <td>3</td>\n",
       "      <td>5</td>\n",
       "      <td>2015-07-31</td>\n",
       "      <td>8314</td>\n",
       "      <td>821</td>\n",
       "      <td>1</td>\n",
       "      <td>1</td>\n",
       "      <td>False</td>\n",
       "      <td>1</td>\n",
       "      <td>...</td>\n",
       "      <td>57</td>\n",
       "      <td>0</td>\n",
       "      <td>0</td>\n",
       "      <td>0</td>\n",
       "      <td>5.0</td>\n",
       "      <td>0.0</td>\n",
       "      <td>5.0</td>\n",
       "      <td>5.0</td>\n",
       "      <td>0.0</td>\n",
       "      <td>5.0</td>\n",
       "    </tr>\n",
       "    <tr>\n",
       "      <th>3</th>\n",
       "      <td>3</td>\n",
       "      <td>4</td>\n",
       "      <td>5</td>\n",
       "      <td>2015-07-31</td>\n",
       "      <td>13995</td>\n",
       "      <td>1498</td>\n",
       "      <td>1</td>\n",
       "      <td>1</td>\n",
       "      <td>False</td>\n",
       "      <td>1</td>\n",
       "      <td>...</td>\n",
       "      <td>67</td>\n",
       "      <td>0</td>\n",
       "      <td>0</td>\n",
       "      <td>0</td>\n",
       "      <td>5.0</td>\n",
       "      <td>0.0</td>\n",
       "      <td>5.0</td>\n",
       "      <td>1.0</td>\n",
       "      <td>0.0</td>\n",
       "      <td>1.0</td>\n",
       "    </tr>\n",
       "    <tr>\n",
       "      <th>4</th>\n",
       "      <td>4</td>\n",
       "      <td>5</td>\n",
       "      <td>5</td>\n",
       "      <td>2015-07-31</td>\n",
       "      <td>4822</td>\n",
       "      <td>559</td>\n",
       "      <td>1</td>\n",
       "      <td>1</td>\n",
       "      <td>False</td>\n",
       "      <td>1</td>\n",
       "      <td>...</td>\n",
       "      <td>57</td>\n",
       "      <td>0</td>\n",
       "      <td>0</td>\n",
       "      <td>0</td>\n",
       "      <td>5.0</td>\n",
       "      <td>0.0</td>\n",
       "      <td>5.0</td>\n",
       "      <td>1.0</td>\n",
       "      <td>0.0</td>\n",
       "      <td>1.0</td>\n",
       "    </tr>\n",
       "  </tbody>\n",
       "</table>\n",
       "<p>5 rows × 93 columns</p>\n",
       "</div>"
      ],
      "text/plain": [
       "   index  Store  DayOfWeek       Date  Sales  Customers  Open  Promo  \\\n",
       "0      0      1          5 2015-07-31   5263        555     1      1   \n",
       "1      1      2          5 2015-07-31   6064        625     1      1   \n",
       "2      2      3          5 2015-07-31   8314        821     1      1   \n",
       "3      3      4          5 2015-07-31  13995       1498     1      1   \n",
       "4      4      5          5 2015-07-31   4822        559     1      1   \n",
       "\n",
       "   StateHoliday  SchoolHoliday    ...     AfterStateHoliday  \\\n",
       "0         False              1    ...                    57   \n",
       "1         False              1    ...                    67   \n",
       "2         False              1    ...                    57   \n",
       "3         False              1    ...                    67   \n",
       "4         False              1    ...                    57   \n",
       "\n",
       "   BeforeStateHoliday  AfterPromo  BeforePromo  SchoolHoliday_bw  \\\n",
       "0                   0           0            0               5.0   \n",
       "1                   0           0            0               5.0   \n",
       "2                   0           0            0               5.0   \n",
       "3                   0           0            0               5.0   \n",
       "4                   0           0            0               5.0   \n",
       "\n",
       "   StateHoliday_bw  Promo_bw  SchoolHoliday_fw  StateHoliday_fw  Promo_fw  \n",
       "0              0.0       5.0               7.0              0.0       5.0  \n",
       "1              0.0       5.0               1.0              0.0       1.0  \n",
       "2              0.0       5.0               5.0              0.0       5.0  \n",
       "3              0.0       5.0               1.0              0.0       1.0  \n",
       "4              0.0       5.0               1.0              0.0       1.0  \n",
       "\n",
       "[5 rows x 93 columns]"
      ]
     },
     "execution_count": 78,
     "metadata": {},
     "output_type": "execute_result"
    }
   ],
   "source": [
    "train_df.head()"
   ]
  },
  {
   "cell_type": "code",
   "execution_count": 73,
   "metadata": {},
   "outputs": [
    {
     "data": {
      "text/plain": [
       "24"
      ]
     },
     "execution_count": 73,
     "metadata": {},
     "output_type": "execute_result"
    }
   ],
   "source": [
    "len(cat_vars)"
   ]
  },
  {
   "cell_type": "code",
   "execution_count": 74,
   "metadata": {},
   "outputs": [
    {
     "data": {
      "text/plain": [
       "['Store',\n",
       " 'DayOfWeek',\n",
       " 'Year',\n",
       " 'Month',\n",
       " 'Day',\n",
       " 'StateHoliday',\n",
       " 'CompetitionMonthsOpen',\n",
       " 'Promo2Weeks',\n",
       " 'StoreType',\n",
       " 'Assortment',\n",
       " 'PromoInterval',\n",
       " 'CompetitionOpenSinceYear',\n",
       " 'Promo2SinceYear',\n",
       " 'State',\n",
       " 'Week',\n",
       " 'Events',\n",
       " 'Promo_fw',\n",
       " 'Promo_bw',\n",
       " 'StateHoliday_fw',\n",
       " 'StateHoliday_bw',\n",
       " 'SchoolHoliday_fw',\n",
       " 'SchoolHoliday_bw',\n",
       " 'CompetitionDistance_na',\n",
       " 'CloudCover_na']"
      ]
     },
     "execution_count": 74,
     "metadata": {},
     "output_type": "execute_result"
    }
   ],
   "source": [
    "cat_vars"
   ]
  },
  {
   "cell_type": "code",
   "execution_count": 44,
   "metadata": {},
   "outputs": [
    {
     "data": {
      "text/plain": [
       "16"
      ]
     },
     "execution_count": 44,
     "metadata": {},
     "output_type": "execute_result"
    }
   ],
   "source": [
    "len(cont_vars)"
   ]
  },
  {
   "cell_type": "code",
   "execution_count": 45,
   "metadata": {},
   "outputs": [],
   "source": [
    "dep_var = 'Sales'\n",
    "df = train_df[vec_vars + cat_vars + cont_vars + [dep_var,'Date']].copy()"
   ]
  },
  {
   "cell_type": "code",
   "execution_count": 48,
   "metadata": {},
   "outputs": [
    {
     "data": {
      "text/plain": [
       "(Timestamp('2015-08-01 00:00:00'), Timestamp('2015-09-17 00:00:00'))"
      ]
     },
     "execution_count": 48,
     "metadata": {},
     "output_type": "execute_result"
    }
   ],
   "source": [
    "test_df['Date'].min(), test_df['Date'].max()"
   ]
  },
  {
   "cell_type": "code",
   "execution_count": 49,
   "metadata": {},
   "outputs": [
    {
     "data": {
      "text/plain": [
       "41395"
      ]
     },
     "execution_count": 49,
     "metadata": {},
     "output_type": "execute_result"
    }
   ],
   "source": [
    "cut = train_df['Date'][(train_df['Date'] == train_df['Date'][len(test_df)])].index.max()\n",
    "cut"
   ]
  },
  {
   "cell_type": "code",
   "execution_count": 50,
   "metadata": {},
   "outputs": [
    {
     "data": {
      "text/plain": [
       "(844338, 93)"
      ]
     },
     "execution_count": 50,
     "metadata": {},
     "output_type": "execute_result"
    }
   ],
   "source": [
    "train_df.shape"
   ]
  },
  {
   "cell_type": "code",
   "execution_count": 51,
   "metadata": {},
   "outputs": [
    {
     "data": {
      "text/plain": [
       "(41088, 92)"
      ]
     },
     "execution_count": 51,
     "metadata": {},
     "output_type": "execute_result"
    }
   ],
   "source": [
    "test_df.shape"
   ]
  },
  {
   "cell_type": "code",
   "execution_count": 52,
   "metadata": {},
   "outputs": [],
   "source": [
    "valid_idx = range(cut)"
   ]
  },
  {
   "cell_type": "code",
   "execution_count": 53,
   "metadata": {},
   "outputs": [
    {
     "data": {
      "text/plain": [
       "range(0, 41395)"
      ]
     },
     "execution_count": 53,
     "metadata": {},
     "output_type": "execute_result"
    }
   ],
   "source": [
    "valid_idx"
   ]
  },
  {
   "cell_type": "code",
   "execution_count": 54,
   "metadata": {},
   "outputs": [
    {
     "data": {
      "text/plain": [
       "0     5263\n",
       "1     6064\n",
       "2     8314\n",
       "3    13995\n",
       "4     4822\n",
       "Name: Sales, dtype: int64"
      ]
     },
     "execution_count": 54,
     "metadata": {},
     "output_type": "execute_result"
    }
   ],
   "source": [
    "df[dep_var].head()"
   ]
  },
  {
   "cell_type": "code",
   "execution_count": 55,
   "metadata": {},
   "outputs": [],
   "source": [
    "from xfinity.fastai.tabular.data import *"
   ]
  },
  {
   "cell_type": "code",
   "execution_count": 56,
   "metadata": {},
   "outputs": [],
   "source": [
    "path = PATH"
   ]
  },
  {
   "cell_type": "code",
   "execution_count": 57,
   "metadata": {},
   "outputs": [],
   "source": [
    "from xfinity.fastai.data_block import FloatList"
   ]
  },
  {
   "cell_type": "code",
   "execution_count": 58,
   "metadata": {},
   "outputs": [],
   "source": [
    "data = (TabularList.from_df(df, path=path, vec_names=vec_vars, cat_names=cat_vars, cont_names=cont_vars, procs=procs,)\n",
    "                .split_by_idx(valid_idx)\n",
    "                .label_from_df(cols=dep_var, label_cls=FloatList, log=True)\n",
    "                .add_test(TabularList.from_df(test_df, path=path, vec_names=vec_vars, cat_names=cat_vars, cont_names=cont_vars))\n",
    "                .databunch())"
   ]
  },
  {
   "cell_type": "code",
   "execution_count": 59,
   "metadata": {},
   "outputs": [
    {
     "data": {
      "text/plain": [
       "xfinity.fastai.tabular.data.TabularDataBunch"
      ]
     },
     "execution_count": 59,
     "metadata": {},
     "output_type": "execute_result"
    }
   ],
   "source": [
    "type(data)"
   ]
  },
  {
   "cell_type": "code",
   "execution_count": 60,
   "metadata": {},
   "outputs": [
    {
     "data": {
      "text/plain": [
       "1"
      ]
     },
     "execution_count": 60,
     "metadata": {},
     "output_type": "execute_result"
    }
   ],
   "source": [
    "data.c"
   ]
  },
  {
   "cell_type": "code",
   "execution_count": 61,
   "metadata": {},
   "outputs": [],
   "source": [
    "# data.x"
   ]
  },
  {
   "cell_type": "code",
   "execution_count": 62,
   "metadata": {},
   "outputs": [],
   "source": [
    "# from xfinity.fastai.gen_doc.nbdoc import doc\n",
    "\n",
    "# doc(FloatList)"
   ]
  },
  {
   "cell_type": "code",
   "execution_count": 63,
   "metadata": {},
   "outputs": [],
   "source": [
    "from xfinity.fastai.torch_core import *"
   ]
  },
  {
   "cell_type": "code",
   "execution_count": 64,
   "metadata": {},
   "outputs": [],
   "source": [
    "\n",
    "max_log_y = np.log(np.max(train_df['Sales'])*1.2)\n",
    "y_range = torch.tensor([0, max_log_y], device=defaults.device)"
   ]
  },
  {
   "cell_type": "code",
   "execution_count": 65,
   "metadata": {},
   "outputs": [],
   "source": [
    "from xfinity.fastai.tabular.learner import tabular_ext_learner"
   ]
  },
  {
   "cell_type": "code",
   "execution_count": 66,
   "metadata": {},
   "outputs": [],
   "source": [
    "from xfinity.fastai.metrics import exp_rmspe"
   ]
  },
  {
   "cell_type": "code",
   "execution_count": 67,
   "metadata": {},
   "outputs": [],
   "source": [
    "learn = tabular_ext_learner(data, layers=[1000,500], ps=[0.001,0.01], emb_drop=0.04, \n",
    "                        y_range=y_range, metrics=exp_rmspe)\n"
   ]
  },
  {
   "cell_type": "code",
   "execution_count": 68,
   "metadata": {},
   "outputs": [
    {
     "data": {
      "text/plain": [
       "FlattenedLoss of MSELoss()"
      ]
     },
     "execution_count": 68,
     "metadata": {},
     "output_type": "execute_result"
    }
   ],
   "source": [
    "learn.loss_func"
   ]
  },
  {
   "cell_type": "code",
   "execution_count": 69,
   "metadata": {},
   "outputs": [],
   "source": [
    "# learn.data.train_dl"
   ]
  },
  {
   "cell_type": "code",
   "execution_count": 70,
   "metadata": {},
   "outputs": [],
   "source": [
    "# for i, dl in enumerate(learn.data.train_dl):\n",
    "#     if i > 0:\n",
    "#         break\n",
    "#     print('i={}'.format(i))\n",
    "#     print(dl)\n"
   ]
  },
  {
   "cell_type": "code",
   "execution_count": 71,
   "metadata": {},
   "outputs": [
    {
     "data": {
      "text/plain": [
       "TabularExtModel(\n",
       "  (vecs): ModuleList()\n",
       "  (vecs_drop): Dropout(p=0.04, inplace=False)\n",
       "  (embeds): ModuleList(\n",
       "    (0): Embedding(1116, 81)\n",
       "    (1): Embedding(8, 5)\n",
       "    (2): Embedding(4, 3)\n",
       "    (3): Embedding(13, 7)\n",
       "    (4): Embedding(32, 11)\n",
       "    (5): Embedding(3, 3)\n",
       "    (6): Embedding(26, 10)\n",
       "    (7): Embedding(27, 10)\n",
       "    (8): Embedding(5, 4)\n",
       "    (9): Embedding(4, 3)\n",
       "    (10): Embedding(4, 3)\n",
       "    (11): Embedding(24, 9)\n",
       "    (12): Embedding(9, 5)\n",
       "    (13): Embedding(13, 7)\n",
       "    (14): Embedding(53, 15)\n",
       "    (15): Embedding(22, 9)\n",
       "    (16): Embedding(7, 5)\n",
       "    (17): Embedding(7, 5)\n",
       "    (18): Embedding(4, 3)\n",
       "    (19): Embedding(4, 3)\n",
       "    (20): Embedding(9, 5)\n",
       "    (21): Embedding(9, 5)\n",
       "    (22): Embedding(3, 3)\n",
       "    (23): Embedding(3, 3)\n",
       "  )\n",
       "  (emb_drop): Dropout(p=0.04, inplace=False)\n",
       "  (bn_cont): BatchNorm1d(16, eps=1e-05, momentum=0.1, affine=True, track_running_stats=True)\n",
       "  (layers): Sequential(\n",
       "    (0): Linear(in_features=233, out_features=1000, bias=True)\n",
       "    (1): ReLU(inplace=True)\n",
       "    (2): BatchNorm1d(1000, eps=1e-05, momentum=0.1, affine=True, track_running_stats=True)\n",
       "    (3): Dropout(p=0.001, inplace=False)\n",
       "    (4): Linear(in_features=1000, out_features=500, bias=True)\n",
       "    (5): ReLU(inplace=True)\n",
       "    (6): BatchNorm1d(500, eps=1e-05, momentum=0.1, affine=True, track_running_stats=True)\n",
       "    (7): Dropout(p=0.01, inplace=False)\n",
       "    (8): Linear(in_features=500, out_features=1, bias=True)\n",
       "  )\n",
       ")"
      ]
     },
     "execution_count": 71,
     "metadata": {},
     "output_type": "execute_result"
    }
   ],
   "source": [
    "learn.model"
   ]
  },
  {
   "cell_type": "code",
   "execution_count": 34,
   "metadata": {},
   "outputs": [],
   "source": [
    "# len(data.train_ds.cont_names)"
   ]
  },
  {
   "cell_type": "code",
   "execution_count": 35,
   "metadata": {},
   "outputs": [
    {
     "data": {
      "text/html": [
       "\n",
       "    <div>\n",
       "        <style>\n",
       "            /* Turns off some styling */\n",
       "            progress {\n",
       "                /* gets rid of default border in Firefox and Opera. */\n",
       "                border: none;\n",
       "                /* Needs to be in here for Safari polyfill so background images work as expected. */\n",
       "                background-size: auto;\n",
       "            }\n",
       "            .progress-bar-interrupted, .progress-bar-interrupted::-webkit-progress-bar {\n",
       "                background: #F44336;\n",
       "            }\n",
       "        </style>\n",
       "      <progress value='0' class='' max='1', style='width:300px; height:20px; vertical-align: middle;'></progress>\n",
       "      0.00% [0/1 00:00<00:00]\n",
       "    </div>\n",
       "    \n",
       "<table border=\"1\" class=\"dataframe\">\n",
       "  <thead>\n",
       "    <tr style=\"text-align: left;\">\n",
       "      <th>epoch</th>\n",
       "      <th>train_loss</th>\n",
       "      <th>valid_loss</th>\n",
       "      <th>exp_rmspe</th>\n",
       "      <th>time</th>\n",
       "    </tr>\n",
       "  </thead>\n",
       "  <tbody>\n",
       "  </tbody>\n",
       "</table><p>\n",
       "\n",
       "    <div>\n",
       "        <style>\n",
       "            /* Turns off some styling */\n",
       "            progress {\n",
       "                /* gets rid of default border in Firefox and Opera. */\n",
       "                border: none;\n",
       "                /* Needs to be in here for Safari polyfill so background images work as expected. */\n",
       "                background-size: auto;\n",
       "            }\n",
       "            .progress-bar-interrupted, .progress-bar-interrupted::-webkit-progress-bar {\n",
       "                background: #F44336;\n",
       "            }\n",
       "        </style>\n",
       "      <progress value='97' class='' max='12545', style='width:300px; height:20px; vertical-align: middle;'></progress>\n",
       "      0.77% [97/12545 00:03<07:19 7.4881]\n",
       "    </div>\n",
       "    "
      ],
      "text/plain": [
       "<IPython.core.display.HTML object>"
      ]
     },
     "metadata": {},
     "output_type": "display_data"
    },
    {
     "name": "stdout",
     "output_type": "stream",
     "text": [
      "epoch 0\n",
      "self.sched.is_done=True\n",
      "self.stop_div=True\n",
      "smooth_loss=7.277245044708252\n",
      "self.best_loss=7.277245044708252\n",
      "torch.isnan(smooth_loss)=False\n",
      "call break on epoch end\n",
      "LR Finder is complete, type {learner_name}.recorder.plot() to see the graph.\n"
     ]
    }
   ],
   "source": [
    "learn.lr_find()"
   ]
  },
  {
   "cell_type": "code",
   "execution_count": 36,
   "metadata": {},
   "outputs": [
    {
     "data": {
      "image/png": "[encoded data removed]",
      "text/plain": [
       "<Figure size 432x288 with 1 Axes>"
      ]
     },
     "metadata": {
      "needs_background": "light"
     },
     "output_type": "display_data"
    }
   ],
   "source": [
    "learn.recorder.plot()"
   ]
  },
  {
   "cell_type": "code",
   "execution_count": 72,
   "metadata": {},
   "outputs": [
    {
     "data": {
      "text/html": [
       "\n",
       "    <div>\n",
       "        <style>\n",
       "            /* Turns off some styling */\n",
       "            progress {\n",
       "                /* gets rid of default border in Firefox and Opera. */\n",
       "                border: none;\n",
       "                /* Needs to be in here for Safari polyfill so background images work as expected. */\n",
       "                background-size: auto;\n",
       "            }\n",
       "            .progress-bar-interrupted, .progress-bar-interrupted::-webkit-progress-bar {\n",
       "                background: #F44336;\n",
       "            }\n",
       "        </style>\n",
       "      <progress value='0' class='' max='5', style='width:300px; height:20px; vertical-align: middle;'></progress>\n",
       "      0.00% [0/5 00:00<00:00]\n",
       "    </div>\n",
       "    \n",
       "<table border=\"1\" class=\"dataframe\">\n",
       "  <thead>\n",
       "    <tr style=\"text-align: left;\">\n",
       "      <th>epoch</th>\n",
       "      <th>train_loss</th>\n",
       "      <th>valid_loss</th>\n",
       "      <th>exp_rmspe</th>\n",
       "      <th>time</th>\n",
       "    </tr>\n",
       "  </thead>\n",
       "  <tbody>\n",
       "  </tbody>\n",
       "</table><p>\n",
       "\n",
       "    <div>\n",
       "        <style>\n",
       "            /* Turns off some styling */\n",
       "            progress {\n",
       "                /* gets rid of default border in Firefox and Opera. */\n",
       "                border: none;\n",
       "                /* Needs to be in here for Safari polyfill so background images work as expected. */\n",
       "                background-size: auto;\n",
       "            }\n",
       "            .progress-bar-interrupted, .progress-bar-interrupted::-webkit-progress-bar {\n",
       "                background: #F44336;\n",
       "            }\n",
       "        </style>\n",
       "      <progress value='22' class='' max='12545', style='width:300px; height:20px; vertical-align: middle;'></progress>\n",
       "      0.18% [22/12545 00:01<11:46 12.1998]\n",
       "    </div>\n",
       "    "
      ],
      "text/plain": [
       "<IPython.core.display.HTML object>"
      ]
     },
     "metadata": {},
     "output_type": "display_data"
    },
    {
     "name": "stdout",
     "output_type": "stream",
     "text": [
      "epoch 0\n",
      "process n_embs\n",
      "x_cat shape=torch.Size([64, 24])\n",
      "x_cat=tensor([[1073,    4,    1,  ...,    2,    1,    1],\n",
      "        [  16,    2,    2,  ...,    1,    1,    1],\n",
      "        [ 289,    4,    2,  ...,    1,    1,    1],\n",
      "        ...,\n",
      "        [ 246,    3,    3,  ...,    3,    1,    1],\n",
      "        [ 889,    4,    2,  ...,    1,    1,    1],\n",
      "        [  96,    4,    2,  ...,    1,    1,    1]])\n",
      "process n_cont\n",
      "x_cont shape=torch.Size([64, 16])\n",
      "x_cont=tensor([[-0.4794,  0.0130, -0.0956,  ...,  0.5687,  1.1119, -0.4796],\n",
      "        [-0.2795,  1.2157,  1.4551,  ..., -1.2794,  1.1119, -0.4796],\n",
      "        [ 0.1395,  1.5765,  1.5960,  ...,  0.9692,  1.1119, -0.4796],\n",
      "        ...,\n",
      "        [-0.1014,  0.0130,  0.0454,  ...,  1.0308,  1.1119, -0.4796],\n",
      "        [ 1.6940,  1.8170,  1.7370,  ..., -1.4334, -0.8994, -0.4796],\n",
      "        [ 0.4266,  0.2536,  0.3273,  ...,  0.7228, -0.8994, -0.4796]])\n",
      "process n_embs\n",
      "x_cat shape=torch.Size([64, 24])\n",
      "x_cat=tensor([[ 763,    5,    1,  ...,    1,    1,    1],\n",
      "        [ 660,    4,    1,  ...,    1,    1,    1],\n",
      "        [ 618,    2,    1,  ...,    1,    1,    1],\n",
      "        ...,\n",
      "        [ 952,    6,    3,  ...,    3,    1,    1],\n",
      "        [1050,    5,    2,  ...,    1,    1,    1],\n",
      "        [ 527,    5,    2,  ...,    1,    1,    1]])\n",
      "process n_cont\n",
      "x_cont shape=torch.Size([64, 16])\n",
      "x_cont=tensor([[ 3.4330,  1.0954,  1.0322,  ..., -0.5093, -0.8994, -0.4796],\n",
      "        [-0.5448,  0.2536,  0.0454,  ..., -0.3245, -0.8994, -0.4796],\n",
      "        [ 0.5714,  0.3738,  0.3273,  ...,  1.1232, -0.8994, -0.4796],\n",
      "        ...,\n",
      "        [ 0.1088, -1.3099, -1.2233,  ...,  1.0924, -0.8994, -0.4796],\n",
      "        [ 0.9892, -0.3478, -0.2366,  ..., -0.9714,  1.1119, -0.4796],\n",
      "        [ 0.0486,  0.9752,  0.8912,  ...,  1.1848,  1.1119, -0.4796]])\n",
      "process n_embs\n",
      "x_cat shape=torch.Size([64, 24])\n",
      "x_cat=tensor([[ 166,    5,    3,  ...,    1,    1,    1],\n",
      "        [   2,    2,    1,  ...,    1,    1,    1],\n",
      "        [1108,    1,    2,  ...,    1,    1,    1],\n",
      "        ...,\n",
      "        [  44,    3,    1,  ...,    1,    1,    1],\n",
      "        [ 782,    3,    1,  ...,    1,    1,    1],\n",
      "        [ 146,    5,    3,  ...,    3,    1,    1]])\n",
      "process n_cont\n",
      "x_cont shape=torch.Size([64, 16])\n",
      "x_cont=tensor([[-0.6857, -0.5883, -0.5185,  ...,  0.9692, -0.8994, -0.4796],\n",
      "        [-0.6255,  0.0130,  0.1863,  ..., -2.9735, -0.8994, -0.4796],\n",
      "        [-0.6294, -1.9112, -1.6462,  ...,  0.4455,  1.1119, -0.4796],\n",
      "        ...,\n",
      "        [-0.6294, -0.1072, -0.0956,  ...,  0.9384,  1.1119, -0.4796],\n",
      "        [-0.0078,  0.0130,  0.1863,  ..., -0.6017, -0.8994, -0.4796],\n",
      "        [ 0.3330, -0.1072, -0.0956,  ..., -1.4026,  1.1119, -0.4796]])\n",
      "process n_embs\n",
      "x_cat shape=torch.Size([64, 24])\n",
      "x_cat=tensor([[ 601,    2,    2,  ...,    8,    1,    1],\n",
      "        [ 228,    5,    1,  ...,    1,    1,    1],\n",
      "        [ 752,    5,    2,  ...,    1,    1,    1],\n",
      "        ...,\n",
      "        [1059,    2,    2,  ...,    2,    1,    1],\n",
      "        [ 438,    1,    2,  ...,    1,    1,    1],\n",
      "        [  42,    3,    2,  ...,    1,    1,    1]])\n",
      "process n_cont\n",
      "x_cont shape=torch.Size([64, 16])\n",
      "x_cont=tensor([[ 0.3548, -0.7085, -0.3775,  ..., -0.6017, -0.8994,  2.0852],\n",
      "        [ 0.6855, -0.3478,  0.0454,  ...,  1.0924,  1.1119, -0.4796],\n",
      "        [-0.5743, -0.8288, -1.0824,  ..., -1.1870, -0.8994, -0.4796],\n",
      "        ...,\n",
      "        [-0.2654,  1.0954,  0.7502,  ...,  1.0000,  1.1119, -0.4796],\n",
      "        [-0.5563, -1.6707, -1.5053,  ..., -1.5258,  1.1119, -0.4796],\n",
      "        [-0.6614,  0.9752,  0.6092,  ..., -1.6798,  1.1119, -0.4796]])\n",
      "process n_embs\n",
      "x_cat shape=torch.Size([64, 24])\n",
      "x_cat=tensor([[384,   6,   1,  ...,   1,   1,   1],\n",
      "        [770,   2,   1,  ...,   1,   1,   1],\n",
      "        [134,   6,   2,  ...,   1,   1,   1],\n",
      "        ...,\n",
      "        [632,   3,   1,  ...,   1,   1,   1],\n",
      "        [814,   2,   3,  ...,   1,   1,   1],\n",
      "        [871,   6,   2,  ...,   1,   1,   1]])\n",
      "process n_cont\n",
      "x_cont shape=torch.Size([64, 16])\n",
      "x_cont=tensor([[-0.6819,  0.8549,  0.6092,  ..., -2.2035, -0.8994, -0.4796],\n",
      "        [-0.6857,  0.8549,  0.6092,  ...,  1.1232, -0.8994, -0.4796],\n",
      "        [-0.5448,  0.9752,  1.1731,  ...,  1.0308, -0.8994, -0.4796],\n",
      "        ...,\n",
      "        [-0.2693, -0.8288, -0.8004,  ...,  0.5379,  1.1119, -0.4796],\n",
      "        [ 2.4450, -1.6707, -1.5053,  ..., -1.0638, -0.8994, -0.4796],\n",
      "        [ 0.6624,  1.0954,  1.3141,  ...,  0.7844, -0.8994, -0.4796]])\n",
      "process n_embs\n",
      "x_cat shape=torch.Size([64, 24])\n",
      "x_cat=tensor([[117,   6,   1,  ...,   1,   1,   1],\n",
      "        [257,   1,   2,  ...,   6,   1,   1],\n",
      "        [909,   3,   2,  ...,   3,   1,   2],\n",
      "        ...,\n",
      "        [945,   4,   2,  ...,   1,   1,   1],\n",
      "        [831,   4,   2,  ...,   1,   1,   1],\n",
      "        [489,   6,   1,  ...,   6,   1,   1]])\n",
      "process n_cont\n",
      "x_cont shape=torch.Size([64, 16])\n",
      "x_cont=tensor([[-0.2564, -0.5883, -0.6595,  ...,  0.7844, -0.8994, -0.4796],\n",
      "        [-0.6447,  1.0954,  1.5960,  ..., -0.6633,  1.1119,  2.0852],\n",
      "        [-0.4833,  0.2536, -0.5185,  ...,  0.0451, -0.8994, -0.4796],\n",
      "        ...,\n",
      "        [ 0.9008,  0.8549,  0.4683,  ..., -1.8646, -0.8994, -0.4796],\n",
      "        [-0.5960, -0.3478, -0.2366,  ..., -1.0022,  1.1119, -0.4796],\n",
      "        [ 1.2186,  1.6968,  1.7370,  ..., -1.1254, -0.8994, -0.4796]])\n",
      "process n_embs\n",
      "x_cat shape=torch.Size([64, 24])\n",
      "x_cat=tensor([[ 327,    3,    2,  ...,    6,    1,    1],\n",
      "        [ 672,    1,    2,  ...,    2,    1,    1],\n",
      "        [1094,    4,    1,  ...,    4,    1,    1],\n",
      "        ...,\n",
      "        [ 873,    4,    2,  ...,    6,    1,    1],\n",
      "        [ 322,    4,    3,  ...,    1,    1,    1],\n",
      "        [ 598,    5,    2,  ...,    1,    1,    1]])\n",
      "process n_cont\n",
      "x_cont shape=torch.Size([64, 16])\n",
      "x_cont=tensor([[-0.5204, -1.0693, -0.9414,  ...,  1.1540, -0.8994,  2.0852],\n",
      "        [-0.6678,  0.6144,  0.4683,  ...,  0.9692,  1.1119, -0.4796],\n",
      "        [-0.3936, -1.0693, -1.3643,  ...,  1.0924, -0.8994,  2.0852],\n",
      "        ...,\n",
      "        [-0.4371, -0.3478, -0.6595,  ..., -0.3553, -0.8994,  2.0852],\n",
      "        [ 1.5441, -1.9112, -1.7872,  ..., -1.0022, -0.8994, -0.4796],\n",
      "        [-0.6281,  0.6144,  0.8912,  ...,  0.5687,  1.1119, -0.4796]])\n",
      "process n_embs\n",
      "x_cat shape=torch.Size([64, 24])\n",
      "x_cat=tensor([[ 24,   3,   1,  ...,   1,   1,   1],\n",
      "        [234,   5,   1,  ...,   1,   1,   1],\n",
      "        [561,   5,   2,  ...,   1,   1,   1],\n",
      "        ...,\n",
      "        [265,   6,   1,  ...,   6,   1,   1],\n",
      "        [117,   4,   2,  ...,   2,   1,   1],\n",
      "        [ 73,   2,   2,  ...,   1,   1,   1]])\n",
      "process n_cont\n",
      "x_cont shape=torch.Size([64, 16])\n",
      "x_cont=tensor([[-0.1104,  0.9752,  0.4683,  ...,  0.9692,  1.1119, -0.4796],\n",
      "        [-0.1385, -1.3099, -1.0824,  ...,  0.5995,  1.1119, -0.4796],\n",
      "        [ 1.1340, -0.2275,  0.0454,  ...,  0.3531,  1.1119, -0.4796],\n",
      "        ...,\n",
      "        [-0.1116, -0.8288, -0.8004,  ...,  0.5687, -0.8994, -0.4796],\n",
      "        [-0.2564, -0.1072,  0.1863,  ...,  0.9076,  1.1119, -0.4796],\n",
      "        [-0.4871,  0.0130,  0.0454,  ...,  0.8768, -0.8994, -0.4796]])\n",
      "process n_embs\n",
      "x_cat shape=torch.Size([64, 24])\n",
      "x_cat=tensor([[1025,    5,    3,  ...,    1,    1,    1],\n",
      "        [ 866,    4,    2,  ...,    1,    1,    1],\n",
      "        [  91,    6,    2,  ...,    1,    1,    1],\n",
      "        ...,\n",
      "        [ 617,    3,    2,  ...,    6,    1,    1],\n",
      "        [ 775,    3,    1,  ...,    1,    1,    1],\n",
      "        [ 103,    5,    3,  ...,    1,    1,    1]])\n",
      "process n_cont\n",
      "x_cont shape=torch.Size([64, 16])\n",
      "x_cont=tensor([[-0.6063,  2.2981,  1.8780,  ...,  1.1848,  1.1119, -0.4796],\n",
      "        [ 0.5419,  0.0130, -0.0956,  ...,  0.9692,  1.1119, -0.4796],\n",
      "        [-0.3897, -0.7085, -0.8004,  ..., -0.2937, -0.8994, -0.4796],\n",
      "        ...,\n",
      "        [ 0.4471,  0.7346,  1.0322,  ..., -0.3861, -0.8994,  2.0852],\n",
      "        [ 0.1946, -0.2275, -0.3775,  ...,  1.1540, -0.8994, -0.4796],\n",
      "        [-0.0309, -1.5504, -1.3643,  ..., -0.9714, -0.8994, -0.4796]])\n",
      "process n_embs\n",
      "x_cat shape=torch.Size([64, 24])\n",
      "x_cat=tensor([[ 691,    4,    1,  ...,    1,    1,    1],\n",
      "        [ 559,    1,    2,  ...,    1,    1,    1],\n",
      "        [1058,    6,    1,  ...,    1,    1,    1],\n",
      "        ...,\n",
      "        [ 719,    4,    3,  ...,    6,    1,    2],\n",
      "        [ 841,    6,    1,  ...,    1,    1,    1],\n",
      "        [ 331,    2,    3,  ...,    1,    1,    1]])\n",
      "process n_cont\n",
      "x_cont shape=torch.Size([64, 16])\n",
      "x_cont=tensor([[-0.3103, -0.9491, -0.8004,  ...,  0.1375,  1.1119, -0.4796],\n",
      "        [-0.1975,  1.4562,  1.3141,  ...,  1.0924, -0.8994, -0.4796],\n",
      "        [-0.6755, -1.4301, -1.3643,  ...,  1.0000, -0.8994, -0.4796],\n",
      "        ...,\n",
      "        [ 0.3510,  0.3738, -0.2366,  ...,  0.5071, -0.8994,  2.0852],\n",
      "        [ 2.8448,  0.8549,  0.8912,  ...,  0.5995, -0.8994, -0.4796],\n",
      "        [-0.6127, -0.7085, -0.8004,  ...,  0.0143, -0.8994, -0.4796]])\n"
     ]
    },
    {
     "name": "stdout",
     "output_type": "stream",
     "text": [
      "process n_embs\n",
      "x_cat shape=torch.Size([64, 24])\n",
      "x_cat=tensor([[376,   5,   2,  ...,   1,   1,   1],\n",
      "        [423,   7,   1,  ...,   1,   1,   1],\n",
      "        [333,   4,   2,  ...,   6,   1,   1],\n",
      "        ...,\n",
      "        [655,   4,   1,  ...,   6,   1,   2],\n",
      "        [912,   1,   1,  ...,   6,   1,   1],\n",
      "        [809,   3,   1,  ...,   1,   1,   1]])\n",
      "process n_cont\n",
      "x_cont shape=torch.Size([64, 16])\n",
      "x_cont=tensor([[-0.6781, -0.5883, -0.5185,  ...,  0.5379, -0.8994, -0.4796],\n",
      "        [-0.5358, -1.4301, -1.3643,  ...,  0.1683, -0.8994, -0.4796],\n",
      "        [-0.2218,  0.8549,  1.0322,  ..., -0.3553, -0.8994,  2.0852],\n",
      "        ...,\n",
      "        [-0.5755,  2.1778,  2.0189,  ..., -0.7558,  1.1119,  2.0852],\n",
      "        [-0.3013,  0.9752,  0.8912,  ..., -1.2794,  1.1119,  2.0852],\n",
      "        [ 0.9379,  0.2536,  0.1863,  ...,  1.0308,  1.1119, -0.4796]])\n",
      "process n_embs\n",
      "x_cat shape=torch.Size([64, 24])\n",
      "x_cat=tensor([[ 711,    5,    3,  ...,    1,    1,    1],\n",
      "        [ 655,    2,    3,  ...,    1,    1,    1],\n",
      "        [1020,    2,    2,  ...,    1,    1,    1],\n",
      "        ...,\n",
      "        [ 867,    7,    1,  ...,    6,    1,    1],\n",
      "        [1021,    5,    3,  ...,    2,    1,    1],\n",
      "        [ 300,    1,    3,  ...,    1,    1,    1]])\n",
      "process n_cont\n",
      "x_cont shape=torch.Size([64, 16])\n",
      "x_cont=tensor([[ 1.4941,  1.6968,  1.4551,  ..., -0.7866, -0.8994, -0.4796],\n",
      "        [-0.5755, -0.5883, -0.5185,  ...,  0.2299,  1.1119, -0.4796],\n",
      "        [-0.6934,  0.7346,  1.0322,  ...,  1.1232, -0.8994, -0.4796],\n",
      "        ...,\n",
      "        [ 2.0964,  1.9373,  2.3009,  ..., -0.8790, -0.8994, -0.4796],\n",
      "        [-0.5602,  0.7346,  0.7502,  ...,  1.1848, -0.8994, -0.4796],\n",
      "        [-0.6832,  1.0954,  0.6092,  ...,  0.9692,  1.1119, -0.4796]])\n",
      "process n_embs\n",
      "x_cat shape=torch.Size([64, 24])\n",
      "x_cat=tensor([[816,   6,   2,  ...,   1,   1,   1],\n",
      "        [550,   1,   3,  ...,   8,   1,   1],\n",
      "        [338,   2,   2,  ...,   1,   1,   1],\n",
      "        ...,\n",
      "        [211,   2,   2,  ...,   1,   1,   1],\n",
      "        [562,   6,   2,  ...,   1,   1,   1],\n",
      "        [343,   2,   2,  ...,   1,   1,   1]])\n",
      "process n_cont\n",
      "x_cont shape=torch.Size([64, 16])\n",
      "x_cont=tensor([[-0.6396,  1.0954,  1.1731,  ...,  0.3531, -0.8994, -0.4796],\n",
      "        [-0.6922, -1.1896, -1.2233,  ..., -1.5258,  1.1119,  2.0852],\n",
      "        [-0.4948, -0.5883, -0.0956,  ...,  0.0451, -0.8994, -0.4796],\n",
      "        ...,\n",
      "        [-0.6537,  0.4941,  0.6092,  ..., -1.9262, -0.8994, -0.4796],\n",
      "        [-0.5435, -0.5883, -0.3775,  ...,  0.1375, -0.8994, -0.4796],\n",
      "        [ 1.6914, -0.2275,  0.0454,  ..., -0.4169, -0.8994, -0.4796]])\n",
      "process n_embs\n",
      "x_cat shape=torch.Size([64, 24])\n",
      "x_cat=tensor([[ 253,    5,    2,  ...,    1,    1,    1],\n",
      "        [ 230,    4,    2,  ...,    1,    1,    1],\n",
      "        [1014,    3,    2,  ...,    1,    1,    2],\n",
      "        ...,\n",
      "        [ 793,    2,    3,  ...,    1,    1,    1],\n",
      "        [ 971,    3,    1,  ...,    1,    1,    1],\n",
      "        [ 840,    3,    2,  ...,    1,    1,    1]])\n",
      "process n_cont\n",
      "x_cont shape=torch.Size([64, 16])\n",
      "x_cont=tensor([[-0.6665,  0.4941,  0.0454,  ...,  0.5379, -0.8994, -0.4796],\n",
      "        [ 0.1575, -0.3478, -0.2366,  ..., -0.3245,  1.1119, -0.4796],\n",
      "        [-0.6716,  0.9752,  0.6092,  ...,  0.6919,  1.1119, -0.4796],\n",
      "        ...,\n",
      "        [-0.3513, -0.9491, -0.9414,  ..., -0.8482,  1.1119, -0.4796],\n",
      "        [-0.5525, -0.1072,  0.0454,  ..., -1.8646, -0.8994, -0.4796],\n",
      "        [-0.5614,  0.7346,  0.6092,  ...,  1.1232,  1.1119, -0.4796]])\n",
      "process n_embs\n",
      "x_cat shape=torch.Size([64, 24])\n",
      "x_cat=tensor([[201,   5,   2,  ...,   1,   1,   1],\n",
      "        [250,   6,   2,  ...,   1,   1,   1],\n",
      "        [982,   2,   1,  ...,   4,   1,   1],\n",
      "        ...,\n",
      "        [277,   2,   1,  ...,   1,   1,   1],\n",
      "        [ 22,   4,   3,  ...,   2,   1,   1],\n",
      "        [894,   1,   1,  ...,   2,   1,   1]])\n",
      "process n_cont\n",
      "x_cont shape=torch.Size([64, 16])\n",
      "x_cont=tensor([[ 1.8978, -0.5883, -0.3775,  ..., -0.3245, -0.8994, -0.4796],\n",
      "        [-0.2475,  0.6144,  0.6092,  ...,  0.8152, -0.8994, -0.4796],\n",
      "        [ 2.1118, -0.7085, -0.5185,  ...,  0.7228,  1.1119, -0.4796],\n",
      "        ...,\n",
      "        [ 0.3061, -0.8288, -1.3643,  ...,  0.9384,  1.1119, -0.4796],\n",
      "        [-0.5653,  0.9752,  1.1731,  ..., -0.8174, -0.8994, -0.4796],\n",
      "        [-0.6742, -0.2275, -0.2366,  ...,  1.1232, -0.8994,  2.0852]])\n",
      "process n_embs\n",
      "x_cat shape=torch.Size([64, 24])\n",
      "x_cat=tensor([[466,   6,   3,  ...,   1,   1,   1],\n",
      "        [182,   5,   1,  ...,   1,   1,   1],\n",
      "        [166,   1,   2,  ...,   6,   1,   1],\n",
      "        ...,\n",
      "        [244,   4,   1,  ...,   1,   1,   1],\n",
      "        [598,   4,   3,  ...,   4,   1,   1],\n",
      "        [218,   4,   1,  ...,   1,   1,   1]])\n",
      "process n_cont\n",
      "x_cont shape=torch.Size([64, 16])\n",
      "x_cont=tensor([[-0.3000, -1.0693, -1.0824,  ..., -1.1562, -0.8994, -0.4796],\n",
      "        [-0.5204, -0.8288, -0.9414,  ...,  0.9692,  1.1119, -0.4796],\n",
      "        [-0.6857,  0.8549,  1.4551,  ..., -1.0946, -0.8994,  2.0852],\n",
      "        ...,\n",
      "        [-0.6076,  1.0954,  1.1731,  ..., -1.6182,  1.1119, -0.4796],\n",
      "        [-0.6281,  0.7346,  0.1863,  ...,  0.9692, -0.8994,  2.0852],\n",
      "        [-0.6165,  0.3738,  0.6092,  ...,  0.9692,  1.1119, -0.4796]])\n",
      "process n_embs\n",
      "x_cat shape=torch.Size([64, 24])\n",
      "x_cat=tensor([[ 730,    4,    2,  ...,    5,    1,    2],\n",
      "        [ 112,    2,    3,  ...,    1,    1,    1],\n",
      "        [ 923,    5,    1,  ...,    2,    1,    1],\n",
      "        ...,\n",
      "        [1003,    6,    3,  ...,    3,    1,    1],\n",
      "        [  23,    3,    2,  ...,    4,    1,    1],\n",
      "        [1041,    2,    3,  ...,    4,    1,    1]])\n",
      "process n_cont\n",
      "x_cont shape=torch.Size([64, 16])\n",
      "x_cont=tensor([[-0.5461,  0.0130, -0.3775,  ...,  1.1540,  1.1119,  2.0852],\n",
      "        [-0.4897,  0.3738,  0.3273,  ...,  1.1848, -0.8994, -0.4796],\n",
      "        [-0.6627,  0.2536,  0.1863,  ..., -2.8811, -0.8994, -0.4796],\n",
      "        ...,\n",
      "        [-0.6768, -0.1072, -0.0956,  ..., -1.3718, -0.8994, -0.4796],\n",
      "        [-0.1783,  1.0954,  1.5960,  ..., -0.8174,  1.1119,  2.0852],\n",
      "        [-0.4935, -1.0693, -1.0824,  ...,  0.0143, -0.8994, -0.4796]])\n",
      "process n_embs\n",
      "x_cat shape=torch.Size([64, 24])\n",
      "x_cat=tensor([[754,   2,   2,  ...,   4,   1,   1],\n",
      "        [955,   1,   2,  ...,   1,   1,   1],\n",
      "        [278,   4,   2,  ...,   3,   1,   1],\n",
      "        ...,\n",
      "        [617,   3,   2,  ...,   1,   1,   1],\n",
      "        [603,   2,   2,  ...,   1,   1,   1],\n",
      "        [719,   6,   1,  ...,   6,   1,   1]])\n",
      "process n_cont\n",
      "x_cont shape=torch.Size([64, 16])\n",
      "x_cont=tensor([[-0.6499, -0.1072, -0.3775,  ..., -0.4169, -0.8994, -0.4796],\n",
      "        [-0.4820,  0.6144,  0.4683,  ...,  0.1991,  1.1119, -0.4796],\n",
      "        [ 0.4881, -0.2275, -0.0956,  ..., -1.8646,  1.1119, -0.4796],\n",
      "        ...,\n",
      "        [ 0.4471,  0.9752,  0.8912,  ..., -1.6798,  1.1119, -0.4796],\n",
      "        [-0.6550,  0.0130, -0.0956,  ...,  0.8768, -0.8994, -0.4796],\n",
      "        [ 0.3510, -0.1072, -0.0956,  ..., -1.1254, -0.8994, -0.4796]])\n",
      "process n_embs\n",
      "x_cat shape=torch.Size([64, 24])\n",
      "x_cat=tensor([[942,   6,   2,  ...,   1,   1,   1],\n",
      "        [121,   2,   2,  ...,   1,   1,   1],\n",
      "        [455,   4,   2,  ...,   1,   1,   1],\n",
      "        ...,\n",
      "        [ 72,   1,   1,  ...,   1,   1,   1],\n",
      "        [717,   2,   2,  ...,   6,   1,   1],\n",
      "        [572,   4,   1,  ...,   1,   1,   1]])\n",
      "process n_cont\n",
      "x_cont shape=torch.Size([64, 16])\n",
      "x_cont=tensor([[ 0.1805,  0.7346,  0.6092,  ..., -0.9098, -0.8994, -0.4796],\n",
      "        [-0.2411,  0.6144,  0.4683,  ...,  0.8768, -0.8994, -0.4796],\n",
      "        [ 0.2831, -0.2275, -0.3775,  ..., -0.5709,  1.1119, -0.4796],\n",
      "        ...,\n",
      "        [-0.4166, -0.8288, -0.8004,  ...,  0.6919, -0.8994, -0.4796],\n",
      "        [-0.6588,  0.6144,  0.3273,  ...,  0.9076, -0.8994,  2.0852],\n",
      "        [ 0.4843, -0.9491, -0.8004,  ..., -0.0781, -0.8994, -0.4796]])\n",
      "process n_embs\n",
      "x_cat shape=torch.Size([64, 24])\n",
      "x_cat=tensor([[ 422,    4,    2,  ...,    1,    1,    1],\n",
      "        [1084,    4,    2,  ...,    8,    1,    1],\n",
      "        [ 362,    6,    2,  ...,    8,    1,    1],\n",
      "        ...,\n",
      "        [1023,    2,    2,  ...,    4,    1,    1],\n",
      "        [1063,    6,    2,  ...,    1,    1,    1],\n",
      "        [ 597,    2,    2,  ...,    1,    1,    1]])\n",
      "process n_cont\n",
      "x_cont shape=torch.Size([64, 16])\n",
      "x_cont=tensor([[-0.3295, -0.3478, -0.3775,  ...,  0.7228,  1.1119, -0.4796],\n",
      "        [-0.6742, -0.1072, -0.0956,  ..., -1.8646,  1.1119,  2.0852],\n",
      "        [-0.6550, -0.7085, -0.3775,  ..., -2.0186, -0.8994,  2.0852],\n",
      "        ...,\n",
      "        [-0.2193, -0.1072, -0.0956,  ..., -1.9262,  1.1119, -0.4796],\n",
      "        [ 0.1024, -2.7531, -2.9150,  ..., -1.3718, -0.8994, -0.4796],\n",
      "        [-0.6793,  0.0130, -0.2366,  ...,  0.2299,  1.1119, -0.4796]])\n"
     ]
    },
    {
     "name": "stdout",
     "output_type": "stream",
     "text": [
      "process n_embs\n",
      "x_cat shape=torch.Size([64, 24])\n",
      "x_cat=tensor([[684,   1,   2,  ...,   2,   1,   1],\n",
      "        [928,   6,   1,  ...,   6,   1,   1],\n",
      "        [655,   2,   1,  ...,   6,   1,   1],\n",
      "        ...,\n",
      "        [118,   6,   2,  ...,   1,   1,   1],\n",
      "        [690,   1,   1,  ...,   1,   1,   1],\n",
      "        [600,   4,   1,  ...,   4,   1,   1]])\n",
      "process n_cont\n",
      "x_cont shape=torch.Size([64, 16])\n",
      "x_cont=tensor([[-0.6114, -0.5883, -0.8004,  ..., -0.2321,  1.1119,  2.0852],\n",
      "        [-0.5589,  1.5765,  1.5960,  ..., -0.2629, -0.8994, -0.4796],\n",
      "        [-0.5755,  0.9752,  1.0322,  ...,  0.2607, -0.8994,  2.0852],\n",
      "        ...,\n",
      "        [-0.2398,  0.4941,  0.3273,  ..., -1.1254, -0.8994, -0.4796],\n",
      "        [-0.6857,  0.8549,  0.8912,  ...,  0.6919, -0.8994, -0.4796],\n",
      "        [ 1.5236, -0.5883, -0.3775,  ...,  0.5687,  1.1119, -0.4796]])\n",
      "process n_embs\n",
      "x_cat shape=torch.Size([64, 24])\n",
      "x_cat=tensor([[153,   5,   3,  ...,   1,   1,   1],\n",
      "        [441,   3,   2,  ...,   6,   1,   1],\n",
      "        [627,   4,   2,  ...,   1,   1,   2],\n",
      "        ...,\n",
      "        [720,   1,   1,  ...,   1,   1,   1],\n",
      "        [398,   1,   1,  ...,   2,   1,   1],\n",
      "        [949,   3,   1,  ...,   3,   1,   1]])\n",
      "process n_cont\n",
      "x_cont shape=torch.Size([64, 16])\n",
      "x_cont=tensor([[ 1.3826, -1.6707, -1.5053,  ..., -0.9714, -0.8994, -0.4796],\n",
      "        [-0.3743,  1.2157,  1.3141,  ..., -0.6017,  1.1119,  2.0852],\n",
      "        [-0.1898,  0.9752,  0.7502,  ...,  0.7228,  1.1119, -0.4796],\n",
      "        ...,\n",
      "        [ 1.2647,  0.0130,  0.3273,  ...,  0.4455,  1.1119, -0.4796],\n",
      "        [-0.5012,  1.2157,  1.0322,  ...,  0.6919, -0.8994, -0.4796],\n",
      "        [-0.5871,  1.4562,  1.7370,  ..., -0.5709, -0.8994, -0.4796]])\n",
      "process n_embs\n",
      "x_cat shape=torch.Size([64, 24])\n",
      "x_cat=tensor([[ 971,    4,    1,  ...,    1,    1,    1],\n",
      "        [ 564,    4,    2,  ...,    1,    1,    1],\n",
      "        [  35,    1,    1,  ...,    6,    1,    1],\n",
      "        ...,\n",
      "        [ 294,    6,    2,  ...,    7,    1,    1],\n",
      "        [  43,    6,    2,  ...,    6,    1,    1],\n",
      "        [1016,    1,    1,  ...,    1,    1,    1]])\n",
      "process n_cont\n",
      "x_cont shape=torch.Size([64, 16])\n",
      "x_cont=tensor([[-0.5525,  1.6968,  1.4551,  ...,  0.3223, -0.8994, -0.4796],\n",
      "        [ 0.1395,  0.9752,  1.0322,  ...,  0.7228,  1.1119, -0.4796],\n",
      "        [ 0.2831,  0.9752,  1.1731,  ..., -0.4169,  1.1119,  2.0852],\n",
      "        ...,\n",
      "        [-0.2949,  0.8549,  1.0322,  ...,  1.0308, -0.8994, -0.4796],\n",
      "        [-0.0732, -1.5504, -1.2233,  ...,  1.0308, -0.8994, -0.4796],\n",
      "        [-0.6281, -1.9112, -1.6462,  ...,  0.6303, -0.8994, -0.4796]])\n",
      "process n_embs\n",
      "x_cat shape=torch.Size([64, 24])\n",
      "x_cat=tensor([[622,   4,   3,  ...,   1,   2,   1],\n",
      "        [106,   3,   1,  ...,   1,   1,   1],\n",
      "        [214,   2,   2,  ...,   1,   1,   1],\n",
      "        ...,\n",
      "        [709,   2,   1,  ...,   3,   1,   1],\n",
      "        [881,   6,   1,  ...,   1,   1,   1],\n",
      "        [887,   5,   3,  ...,   1,   1,   1]])\n",
      "process n_cont\n",
      "x_cont shape=torch.Size([64, 16])\n",
      "x_cont=tensor([[-0.4013, -0.2275, -0.0956,  ...,  1.1540,  1.1119, -0.4796],\n",
      "        [-0.5204, -1.0693, -0.8004,  ...,  0.1067,  1.1119, -0.4796],\n",
      "        [ 0.4099, -0.8288, -0.8004,  ..., -1.2794, -0.8994, -0.4796],\n",
      "        ...,\n",
      "        [-0.6345, -0.1072, -0.0956,  ...,  1.1232, -0.8994,  2.0852],\n",
      "        [-0.6755, -1.0693, -0.9414,  ...,  0.3531, -0.8994, -0.4796],\n",
      "        [ 1.8260,  2.0575,  1.7370,  ...,  1.1848, -0.8994, -0.4796]])\n"
     ]
    },
    {
     "ename": "KeyboardInterrupt",
     "evalue": "",
     "output_type": "error",
     "traceback": [
      "\u001b[0;31m---------------------------------------------------------------------------\u001b[0m",
      "\u001b[0;31mKeyboardInterrupt\u001b[0m                         Traceback (most recent call last)",
      "\u001b[0;32m<ipython-input-72-38ba37a3a754>\u001b[0m in \u001b[0;36m<module>\u001b[0;34m\u001b[0m\n\u001b[0;32m----> 1\u001b[0;31m \u001b[0mlearn\u001b[0m\u001b[0;34m.\u001b[0m\u001b[0mfit_one_cycle\u001b[0m\u001b[0;34m(\u001b[0m\u001b[0;36m5\u001b[0m\u001b[0;34m,\u001b[0m \u001b[0;36m1e-3\u001b[0m\u001b[0;34m,\u001b[0m \u001b[0mwd\u001b[0m\u001b[0;34m=\u001b[0m\u001b[0;36m0.2\u001b[0m\u001b[0;34m)\u001b[0m\u001b[0;34m\u001b[0m\u001b[0;34m\u001b[0m\u001b[0m\n\u001b[0m",
      "\u001b[0;32m/mnt/azmnt/code/Users/bho829/IVR/xfinity/fastai/train.py\u001b[0m in \u001b[0;36mfit_one_cycle\u001b[0;34m(learn, cyc_len, max_lr, moms, div_factor, pct_start, final_div, wd, callbacks, tot_epochs, start_epoch)\u001b[0m\n\u001b[1;32m     21\u001b[0m     callbacks.append(OneCycleScheduler(learn, max_lr, moms=moms, div_factor=div_factor, pct_start=pct_start,\n\u001b[1;32m     22\u001b[0m                                        final_div=final_div, tot_epochs=tot_epochs, start_epoch=start_epoch))\n\u001b[0;32m---> 23\u001b[0;31m     \u001b[0mlearn\u001b[0m\u001b[0;34m.\u001b[0m\u001b[0mfit\u001b[0m\u001b[0;34m(\u001b[0m\u001b[0mcyc_len\u001b[0m\u001b[0;34m,\u001b[0m \u001b[0mmax_lr\u001b[0m\u001b[0;34m,\u001b[0m \u001b[0mwd\u001b[0m\u001b[0;34m=\u001b[0m\u001b[0mwd\u001b[0m\u001b[0;34m,\u001b[0m \u001b[0mcallbacks\u001b[0m\u001b[0;34m=\u001b[0m\u001b[0mcallbacks\u001b[0m\u001b[0;34m)\u001b[0m\u001b[0;34m\u001b[0m\u001b[0;34m\u001b[0m\u001b[0m\n\u001b[0m\u001b[1;32m     24\u001b[0m \u001b[0;34m\u001b[0m\u001b[0m\n\u001b[1;32m     25\u001b[0m def fit_fc(learn:Learner, tot_epochs:int=1, lr:float=defaults.lr,  moms:Tuple[float,float]=(0.95,0.85), start_pct:float=0.72,\n",
      "\u001b[0;32m/mnt/azmnt/code/Users/bho829/IVR/xfinity/fastai/basic_train.py\u001b[0m in \u001b[0;36mfit\u001b[0;34m(self, epochs, lr, wd, callbacks)\u001b[0m\n\u001b[1;32m    224\u001b[0m         \u001b[0;32melse\u001b[0m\u001b[0;34m:\u001b[0m \u001b[0mself\u001b[0m\u001b[0;34m.\u001b[0m\u001b[0mopt\u001b[0m\u001b[0;34m.\u001b[0m\u001b[0mlr\u001b[0m\u001b[0;34m,\u001b[0m\u001b[0mself\u001b[0m\u001b[0;34m.\u001b[0m\u001b[0mopt\u001b[0m\u001b[0;34m.\u001b[0m\u001b[0mwd\u001b[0m \u001b[0;34m=\u001b[0m \u001b[0mlr\u001b[0m\u001b[0;34m,\u001b[0m\u001b[0mwd\u001b[0m\u001b[0;34m\u001b[0m\u001b[0;34m\u001b[0m\u001b[0m\n\u001b[1;32m    225\u001b[0m         \u001b[0mcallbacks\u001b[0m \u001b[0;34m=\u001b[0m \u001b[0;34m[\u001b[0m\u001b[0mcb\u001b[0m\u001b[0;34m(\u001b[0m\u001b[0mself\u001b[0m\u001b[0;34m)\u001b[0m \u001b[0;32mfor\u001b[0m \u001b[0mcb\u001b[0m \u001b[0;32min\u001b[0m \u001b[0mself\u001b[0m\u001b[0;34m.\u001b[0m\u001b[0mcallback_fns\u001b[0m \u001b[0;34m+\u001b[0m \u001b[0mlistify\u001b[0m\u001b[0;34m(\u001b[0m\u001b[0mdefaults\u001b[0m\u001b[0;34m.\u001b[0m\u001b[0mextra_callback_fns\u001b[0m\u001b[0;34m)\u001b[0m\u001b[0;34m]\u001b[0m \u001b[0;34m+\u001b[0m \u001b[0mlistify\u001b[0m\u001b[0;34m(\u001b[0m\u001b[0mcallbacks\u001b[0m\u001b[0;34m)\u001b[0m\u001b[0;34m\u001b[0m\u001b[0;34m\u001b[0m\u001b[0m\n\u001b[0;32m--> 226\u001b[0;31m         \u001b[0mfit\u001b[0m\u001b[0;34m(\u001b[0m\u001b[0mepochs\u001b[0m\u001b[0;34m,\u001b[0m \u001b[0mself\u001b[0m\u001b[0;34m,\u001b[0m \u001b[0mmetrics\u001b[0m\u001b[0;34m=\u001b[0m\u001b[0mself\u001b[0m\u001b[0;34m.\u001b[0m\u001b[0mmetrics\u001b[0m\u001b[0;34m,\u001b[0m \u001b[0mcallbacks\u001b[0m\u001b[0;34m=\u001b[0m\u001b[0mself\u001b[0m\u001b[0;34m.\u001b[0m\u001b[0mcallbacks\u001b[0m\u001b[0;34m+\u001b[0m\u001b[0mcallbacks\u001b[0m\u001b[0;34m)\u001b[0m\u001b[0;34m\u001b[0m\u001b[0;34m\u001b[0m\u001b[0m\n\u001b[0m\u001b[1;32m    227\u001b[0m \u001b[0;34m\u001b[0m\u001b[0m\n\u001b[1;32m    228\u001b[0m     \u001b[0;32mdef\u001b[0m \u001b[0mcreate_opt\u001b[0m\u001b[0;34m(\u001b[0m\u001b[0mself\u001b[0m\u001b[0;34m,\u001b[0m \u001b[0mlr\u001b[0m\u001b[0;34m:\u001b[0m\u001b[0mFloats\u001b[0m\u001b[0;34m,\u001b[0m \u001b[0mwd\u001b[0m\u001b[0;34m:\u001b[0m\u001b[0mFloats\u001b[0m\u001b[0;34m=\u001b[0m\u001b[0;36m0.\u001b[0m\u001b[0;34m)\u001b[0m\u001b[0;34m->\u001b[0m\u001b[0;32mNone\u001b[0m\u001b[0;34m:\u001b[0m\u001b[0;34m\u001b[0m\u001b[0;34m\u001b[0m\u001b[0m\n",
      "\u001b[0;32m/mnt/azmnt/code/Users/bho829/IVR/xfinity/fastai/basic_train.py\u001b[0m in \u001b[0;36mfit\u001b[0;34m(epochs, learn, callbacks, metrics)\u001b[0m\n\u001b[1;32m    122\u001b[0m                 \u001b[0mi\u001b[0m \u001b[0;34m+=\u001b[0m \u001b[0;36m1\u001b[0m\u001b[0;34m\u001b[0m\u001b[0;34m\u001b[0m\u001b[0m\n\u001b[1;32m    123\u001b[0m                 \u001b[0mxb\u001b[0m\u001b[0;34m,\u001b[0m \u001b[0myb\u001b[0m \u001b[0;34m=\u001b[0m \u001b[0mcb_handler\u001b[0m\u001b[0;34m.\u001b[0m\u001b[0mon_batch_begin\u001b[0m\u001b[0;34m(\u001b[0m\u001b[0mxb\u001b[0m\u001b[0;34m,\u001b[0m \u001b[0myb\u001b[0m\u001b[0;34m)\u001b[0m\u001b[0;34m\u001b[0m\u001b[0;34m\u001b[0m\u001b[0m\n\u001b[0;32m--> 124\u001b[0;31m                 \u001b[0mloss\u001b[0m \u001b[0;34m=\u001b[0m \u001b[0mloss_batch\u001b[0m\u001b[0;34m(\u001b[0m\u001b[0mlearn\u001b[0m\u001b[0;34m.\u001b[0m\u001b[0mmodel\u001b[0m\u001b[0;34m,\u001b[0m \u001b[0mxb\u001b[0m\u001b[0;34m,\u001b[0m \u001b[0myb\u001b[0m\u001b[0;34m,\u001b[0m \u001b[0mlearn\u001b[0m\u001b[0;34m.\u001b[0m\u001b[0mloss_func\u001b[0m\u001b[0;34m,\u001b[0m \u001b[0mlearn\u001b[0m\u001b[0;34m.\u001b[0m\u001b[0mopt\u001b[0m\u001b[0;34m,\u001b[0m \u001b[0mcb_handler\u001b[0m\u001b[0;34m)\u001b[0m\u001b[0;34m\u001b[0m\u001b[0;34m\u001b[0m\u001b[0m\n\u001b[0m\u001b[1;32m    125\u001b[0m                 \u001b[0;32mif\u001b[0m \u001b[0mcb_handler\u001b[0m\u001b[0;34m.\u001b[0m\u001b[0mon_batch_end\u001b[0m\u001b[0;34m(\u001b[0m\u001b[0mloss\u001b[0m\u001b[0;34m)\u001b[0m\u001b[0;34m:\u001b[0m \u001b[0;32mbreak\u001b[0m\u001b[0;34m\u001b[0m\u001b[0;34m\u001b[0m\u001b[0m\n\u001b[1;32m    126\u001b[0m \u001b[0;34m\u001b[0m\u001b[0m\n",
      "\u001b[0;32m/mnt/azmnt/code/Users/bho829/IVR/xfinity/fastai/basic_train.py\u001b[0m in \u001b[0;36mloss_batch\u001b[0;34m(model, xb, yb, loss_func, opt, cb_handler)\u001b[0m\n\u001b[1;32m     43\u001b[0m         \u001b[0mloss\u001b[0m\u001b[0;34m,\u001b[0m\u001b[0mskip_bwd\u001b[0m \u001b[0;34m=\u001b[0m \u001b[0mcb_handler\u001b[0m\u001b[0;34m.\u001b[0m\u001b[0mon_backward_begin\u001b[0m\u001b[0;34m(\u001b[0m\u001b[0mloss\u001b[0m\u001b[0;34m)\u001b[0m\u001b[0;34m\u001b[0m\u001b[0;34m\u001b[0m\u001b[0m\n\u001b[1;32m     44\u001b[0m         \u001b[0;32mif\u001b[0m \u001b[0;32mnot\u001b[0m \u001b[0mskip_bwd\u001b[0m\u001b[0;34m:\u001b[0m                     \u001b[0mloss\u001b[0m\u001b[0;34m.\u001b[0m\u001b[0mbackward\u001b[0m\u001b[0;34m(\u001b[0m\u001b[0;34m)\u001b[0m\u001b[0;34m\u001b[0m\u001b[0;34m\u001b[0m\u001b[0m\n\u001b[0;32m---> 45\u001b[0;31m         \u001b[0;32mif\u001b[0m \u001b[0;32mnot\u001b[0m \u001b[0mcb_handler\u001b[0m\u001b[0;34m.\u001b[0m\u001b[0mon_backward_end\u001b[0m\u001b[0;34m(\u001b[0m\u001b[0;34m)\u001b[0m\u001b[0;34m:\u001b[0m \u001b[0mopt\u001b[0m\u001b[0;34m.\u001b[0m\u001b[0mstep\u001b[0m\u001b[0;34m(\u001b[0m\u001b[0;34m)\u001b[0m\u001b[0;34m\u001b[0m\u001b[0;34m\u001b[0m\u001b[0m\n\u001b[0m\u001b[1;32m     46\u001b[0m         \u001b[0;32mif\u001b[0m \u001b[0;32mnot\u001b[0m \u001b[0mcb_handler\u001b[0m\u001b[0;34m.\u001b[0m\u001b[0mon_step_end\u001b[0m\u001b[0;34m(\u001b[0m\u001b[0;34m)\u001b[0m\u001b[0;34m:\u001b[0m     \u001b[0mopt\u001b[0m\u001b[0;34m.\u001b[0m\u001b[0mzero_grad\u001b[0m\u001b[0;34m(\u001b[0m\u001b[0;34m)\u001b[0m\u001b[0;34m\u001b[0m\u001b[0;34m\u001b[0m\u001b[0m\n\u001b[1;32m     47\u001b[0m \u001b[0;34m\u001b[0m\u001b[0m\n",
      "\u001b[0;32m/mnt/azmnt/code/Users/bho829/IVR/xfinity/fastai/callback.py\u001b[0m in \u001b[0;36mstep\u001b[0;34m(self)\u001b[0m\n\u001b[1;32m     55\u001b[0m                     \u001b[0;32mfor\u001b[0m \u001b[0mp\u001b[0m \u001b[0;32min\u001b[0m \u001b[0mpg2\u001b[0m\u001b[0;34m[\u001b[0m\u001b[0;34m'params'\u001b[0m\u001b[0;34m]\u001b[0m\u001b[0;34m:\u001b[0m \u001b[0mp\u001b[0m\u001b[0;34m.\u001b[0m\u001b[0mdata\u001b[0m\u001b[0;34m.\u001b[0m\u001b[0mmul_\u001b[0m\u001b[0;34m(\u001b[0m\u001b[0;36m1\u001b[0m \u001b[0;34m-\u001b[0m \u001b[0mwd\u001b[0m\u001b[0;34m*\u001b[0m\u001b[0mlr\u001b[0m\u001b[0;34m)\u001b[0m\u001b[0;34m\u001b[0m\u001b[0;34m\u001b[0m\u001b[0m\n\u001b[1;32m     56\u001b[0m             \u001b[0mself\u001b[0m\u001b[0;34m.\u001b[0m\u001b[0mset_val\u001b[0m\u001b[0;34m(\u001b[0m\u001b[0;34m'weight_decay'\u001b[0m\u001b[0;34m,\u001b[0m \u001b[0mlistify\u001b[0m\u001b[0;34m(\u001b[0m\u001b[0;36m0\u001b[0m\u001b[0;34m,\u001b[0m \u001b[0mself\u001b[0m\u001b[0;34m.\u001b[0m\u001b[0m_wd\u001b[0m\u001b[0;34m)\u001b[0m\u001b[0;34m)\u001b[0m\u001b[0;34m\u001b[0m\u001b[0;34m\u001b[0m\u001b[0m\n\u001b[0;32m---> 57\u001b[0;31m         \u001b[0mself\u001b[0m\u001b[0;34m.\u001b[0m\u001b[0mopt\u001b[0m\u001b[0;34m.\u001b[0m\u001b[0mstep\u001b[0m\u001b[0;34m(\u001b[0m\u001b[0;34m)\u001b[0m\u001b[0;34m\u001b[0m\u001b[0;34m\u001b[0m\u001b[0m\n\u001b[0m\u001b[1;32m     58\u001b[0m \u001b[0;34m\u001b[0m\u001b[0m\n\u001b[1;32m     59\u001b[0m     \u001b[0;32mdef\u001b[0m \u001b[0mzero_grad\u001b[0m\u001b[0;34m(\u001b[0m\u001b[0mself\u001b[0m\u001b[0;34m)\u001b[0m\u001b[0;34m->\u001b[0m\u001b[0;32mNone\u001b[0m\u001b[0;34m:\u001b[0m\u001b[0;34m\u001b[0m\u001b[0;34m\u001b[0m\u001b[0m\n",
      "\u001b[0;32m/anaconda/envs/azureml_py36/lib/python3.6/site-packages/torch/optim/adam.py\u001b[0m in \u001b[0;36mstep\u001b[0;34m(self, closure)\u001b[0m\n\u001b[1;32m     94\u001b[0m                 \u001b[0;31m# Decay the first and second moment running average coefficient\u001b[0m\u001b[0;34m\u001b[0m\u001b[0;34m\u001b[0m\u001b[0;34m\u001b[0m\u001b[0m\n\u001b[1;32m     95\u001b[0m                 \u001b[0mexp_avg\u001b[0m\u001b[0;34m.\u001b[0m\u001b[0mmul_\u001b[0m\u001b[0;34m(\u001b[0m\u001b[0mbeta1\u001b[0m\u001b[0;34m)\u001b[0m\u001b[0;34m.\u001b[0m\u001b[0madd_\u001b[0m\u001b[0;34m(\u001b[0m\u001b[0;36m1\u001b[0m \u001b[0;34m-\u001b[0m \u001b[0mbeta1\u001b[0m\u001b[0;34m,\u001b[0m \u001b[0mgrad\u001b[0m\u001b[0;34m)\u001b[0m\u001b[0;34m\u001b[0m\u001b[0;34m\u001b[0m\u001b[0m\n\u001b[0;32m---> 96\u001b[0;31m                 \u001b[0mexp_avg_sq\u001b[0m\u001b[0;34m.\u001b[0m\u001b[0mmul_\u001b[0m\u001b[0;34m(\u001b[0m\u001b[0mbeta2\u001b[0m\u001b[0;34m)\u001b[0m\u001b[0;34m.\u001b[0m\u001b[0maddcmul_\u001b[0m\u001b[0;34m(\u001b[0m\u001b[0;36m1\u001b[0m \u001b[0;34m-\u001b[0m \u001b[0mbeta2\u001b[0m\u001b[0;34m,\u001b[0m \u001b[0mgrad\u001b[0m\u001b[0;34m,\u001b[0m \u001b[0mgrad\u001b[0m\u001b[0;34m)\u001b[0m\u001b[0;34m\u001b[0m\u001b[0;34m\u001b[0m\u001b[0m\n\u001b[0m\u001b[1;32m     97\u001b[0m                 \u001b[0;32mif\u001b[0m \u001b[0mamsgrad\u001b[0m\u001b[0;34m:\u001b[0m\u001b[0;34m\u001b[0m\u001b[0;34m\u001b[0m\u001b[0m\n\u001b[1;32m     98\u001b[0m                     \u001b[0;31m# Maintains the maximum of all 2nd moment running avg. till now\u001b[0m\u001b[0;34m\u001b[0m\u001b[0;34m\u001b[0m\u001b[0;34m\u001b[0m\u001b[0m\n",
      "\u001b[0;31mKeyboardInterrupt\u001b[0m: "
     ]
    }
   ],
   "source": [
    "learn.fit_one_cycle(5, 1e-3, wd=0.2)"
   ]
  },
  {
   "cell_type": "code",
   "execution_count": 56,
   "metadata": {},
   "outputs": [],
   "source": [
    "learn.save('1')"
   ]
  },
  {
   "cell_type": "code",
   "execution_count": 57,
   "metadata": {},
   "outputs": [
    {
     "data": {
      "image/png": "[encoded data removed]",
      "text/plain": [
       "<Figure size 432x288 with 1 Axes>"
      ]
     },
     "metadata": {
      "needs_background": "light"
     },
     "output_type": "display_data"
    }
   ],
   "source": [
    "learn.recorder.plot_losses(skip_start=10000)"
   ]
  },
  {
   "cell_type": "code",
   "execution_count": 42,
   "metadata": {},
   "outputs": [],
   "source": [
    "learn.load('1');"
   ]
  },
  {
   "cell_type": "code",
   "execution_count": 44,
   "metadata": {},
   "outputs": [
    {
     "data": {
      "text/plain": [
       "tensor([[-2.2758e-06,  7.2019e-06,  1.0166e-05,  ..., -9.7132e-06,\n",
       "          4.8964e-08, -1.7303e-05],\n",
       "        [-5.9717e-03,  2.0969e-02,  8.8824e-03,  ...,  1.4849e-03,\n",
       "         -4.5382e-02,  1.2406e-02],\n",
       "        [-6.0217e-03, -3.0232e-02,  9.9684e-04,  ...,  2.1285e-02,\n",
       "          8.1617e-03, -1.5183e-03],\n",
       "        ...,\n",
       "        [-1.0954e-03,  9.3255e-03,  1.3032e-02,  ..., -4.0584e-02,\n",
       "         -7.2143e-03,  2.2067e-02],\n",
       "        [-2.8479e-02, -3.1046e-03,  3.8919e-02,  ..., -3.6458e-02,\n",
       "          3.2687e-02,  7.3279e-02],\n",
       "        [-2.9712e-03,  1.3908e-02,  2.1988e-03,  ...,  5.7139e-03,\n",
       "         -2.7856e-02,  4.1855e-02]])"
      ]
     },
     "execution_count": 44,
     "metadata": {},
     "output_type": "execute_result"
    }
   ],
   "source": [
    "learn.model.embeds[0].weight.data"
   ]
  },
  {
   "cell_type": "code",
   "execution_count": null,
   "metadata": {},
   "outputs": [
    {
     "data": {
      "text/html": [
       "\n",
       "    <div>\n",
       "        <style>\n",
       "            /* Turns off some styling */\n",
       "            progress {\n",
       "                /* gets rid of default border in Firefox and Opera. */\n",
       "                border: none;\n",
       "                /* Needs to be in here for Safari polyfill so background images work as expected. */\n",
       "                background-size: auto;\n",
       "            }\n",
       "            .progress-bar-interrupted, .progress-bar-interrupted::-webkit-progress-bar {\n",
       "                background: #F44336;\n",
       "            }\n",
       "        </style>\n",
       "      <progress value='1' class='' max='5', style='width:300px; height:20px; vertical-align: middle;'></progress>\n",
       "      20.00% [1/5 13:39<54:39]\n",
       "    </div>\n",
       "    \n",
       "<table border=\"1\" class=\"dataframe\">\n",
       "  <thead>\n",
       "    <tr style=\"text-align: left;\">\n",
       "      <th>epoch</th>\n",
       "      <th>train_loss</th>\n",
       "      <th>valid_loss</th>\n",
       "      <th>exp_rmspe</th>\n",
       "      <th>time</th>\n",
       "    </tr>\n",
       "  </thead>\n",
       "  <tbody>\n",
       "    <tr>\n",
       "      <td>0</td>\n",
       "      <td>0.012393</td>\n",
       "      <td>0.016367</td>\n",
       "      <td>0.116766</td>\n",
       "      <td>13:39</td>\n",
       "    </tr>\n",
       "  </tbody>\n",
       "</table><p>\n",
       "\n",
       "    <div>\n",
       "        <style>\n",
       "            /* Turns off some styling */\n",
       "            progress {\n",
       "                /* gets rid of default border in Firefox and Opera. */\n",
       "                border: none;\n",
       "                /* Needs to be in here for Safari polyfill so background images work as expected. */\n",
       "                background-size: auto;\n",
       "            }\n",
       "            .progress-bar-interrupted, .progress-bar-interrupted::-webkit-progress-bar {\n",
       "                background: #F44336;\n",
       "            }\n",
       "        </style>\n",
       "      <progress value='1901' class='' max='12545', style='width:300px; height:20px; vertical-align: middle;'></progress>\n",
       "      15.15% [1901/12545 01:58<11:03 0.0106]\n",
       "    </div>\n",
       "    "
      ],
      "text/plain": [
       "<IPython.core.display.HTML object>"
      ]
     },
     "metadata": {},
     "output_type": "display_data"
    }
   ],
   "source": [
    "learn.fit_one_cycle(5, 3e-4)"
   ]
  },
  {
   "cell_type": "code",
   "execution_count": null,
   "metadata": {},
   "outputs": [],
   "source": []
  }
 ],
 "metadata": {
  "kernelspec": {
   "display_name": "Python 3.6 - AzureML",
   "language": "python",
   "name": "python3-azureml"
  },
  "language_info": {
   "codemirror_mode": {
    "name": "ipython",
    "version": 3
   },
   "file_extension": ".py",
   "mimetype": "text/x-python",
   "name": "python",
   "nbconvert_exporter": "python",
   "pygments_lexer": "ipython3",
   "version": "3.6.2"
  }
 },
 "nbformat": 4,
 "nbformat_minor": 2
}
