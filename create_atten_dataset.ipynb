{
 "cells": [
  {
   "cell_type": "code",
   "execution_count": 279,
   "metadata": {},
   "outputs": [],
   "source": [
    "import pandas as pd\n",
    "import pickle as pkl\n",
    "import numpy as np\n",
    "\n",
    "from collections import defaultdict\n",
    "\n",
    "from sklearn.model_selection import train_test_split"
   ]
  },
  {
   "cell_type": "code",
   "execution_count": 2,
   "metadata": {},
   "outputs": [],
   "source": [
    "from fastai.basic_train import load_learner"
   ]
  },
  {
   "cell_type": "code",
   "execution_count": 3,
   "metadata": {},
   "outputs": [],
   "source": [
    "# pull dataframe for categorical variables, convert to entity embedding using model weights. e.g. SKU1_embed\n",
    "# combine grouped columns. i.e. SKU1_embed, SKU2_embed, etc. into SKU_embed\n",
    "# drop original categorical variables\n",
    "# concat numerical and embeded columns\n",
    "\n",
    "# to convert categorical values to their embedded vectors\n",
    "# convert categorical value -> index using cat_dict, then check the LUT (embed_map) to find the embedded vector"
   ]
  },
  {
   "cell_type": "code",
   "execution_count": 4,
   "metadata": {},
   "outputs": [],
   "source": [
    "# for the numerical variables, we want to take the values from inner_train_df, because in the process of \n",
    "# creating the dataset for entity embedding training, fastai normalized the numerical values\n",
    "# making them easier to works with durint neural network training"
   ]
  },
  {
   "cell_type": "code",
   "execution_count": 5,
   "metadata": {},
   "outputs": [
    {
     "name": "stderr",
     "output_type": "stream",
     "text": [
      "/anaconda/envs/azureml_py36/lib/python3.6/site-packages/IPython/core/interactiveshell.py:3058: DtypeWarning: Columns (40,45) have mixed types. Specify dtype option on import or set low_memory=False.\n",
      "  interactivity=interactivity, compiler=compiler, result=result)\n"
     ]
    }
   ],
   "source": [
    "# pull dataframe for categorical variables\n",
    "order_category_df = pd.read_csv('ivr_backup_data/order_category_df.csv')"
   ]
  },
  {
   "cell_type": "code",
   "execution_count": 70,
   "metadata": {},
   "outputs": [
    {
     "data": {
      "text/plain": [
       "(244134, 51)"
      ]
     },
     "execution_count": 70,
     "metadata": {},
     "output_type": "execute_result"
    }
   ],
   "source": [
    "order_category_df.shape"
   ]
  },
  {
   "cell_type": "code",
   "execution_count": 7,
   "metadata": {},
   "outputs": [],
   "source": [
    "columns = order_category_df.columns.tolist()    # only thing we need order_category_df for are the column names"
   ]
  },
  {
   "cell_type": "code",
   "execution_count": 8,
   "metadata": {},
   "outputs": [
    {
     "data": {
      "text/plain": [
       "['MODEL1',\n",
       " 'MAKE2',\n",
       " 'BILLING_STATE',\n",
       " 'TYPE3',\n",
       " 'TYPE2',\n",
       " 'BLACKLIST_EMAIL',\n",
       " 'YELLOW_SKU',\n",
       " 'MODEL4',\n",
       " 'TPF_HIGH_YELLOW',\n",
       " 'ACCOUNT_NUMBER',\n",
       " 'EXTERNAL_CREDIT_CHECK_DONE',\n",
       " 'IS_EXISTING_CUSTOMER',\n",
       " 'FRAUDNET_RESULT',\n",
       " 'MAKE4',\n",
       " 'LINE_LIMIT_REACHED',\n",
       " 'MAKE1',\n",
       " 'IDA_RESULT',\n",
       " 'EXPERIAN_RESPONSE_1',\n",
       " 'EXPERIAN_RESPONSE_2',\n",
       " 'MODEL2',\n",
       " 'TYPE1',\n",
       " 'SHIPPING_STATE',\n",
       " 'SALES_CHANNEL',\n",
       " 'TYPE4',\n",
       " 'MAKE5',\n",
       " 'MODEL5',\n",
       " 'DEVICE_AT_HOME',\n",
       " 'SSN_BLACKLISTED',\n",
       " 'MAKE3',\n",
       " 'TYPE5',\n",
       " 'DENIAL_OF_SERVICES',\n",
       " 'FPF_HIGH_YELLOW',\n",
       " 'SHIPPINGMETHOD',\n",
       " 'INTERNAL_CREDIT_CHECK_DONE',\n",
       " 'ORDER_EXCHANGE',\n",
       " 'MODEL3',\n",
       " 'SKU1',\n",
       " 'SKU2',\n",
       " 'SKU3',\n",
       " 'SKU4',\n",
       " 'SKU5',\n",
       " 'BYOD1',\n",
       " 'BYOD2',\n",
       " 'BYOD3',\n",
       " 'BYOD4',\n",
       " 'BYOD5',\n",
       " 'CARRIER1',\n",
       " 'CARRIER2',\n",
       " 'CARRIER3',\n",
       " 'CARRIER4',\n",
       " 'CARRIER5']"
      ]
     },
     "execution_count": 8,
     "metadata": {},
     "output_type": "execute_result"
    }
   ],
   "source": [
    "columns"
   ]
  },
  {
   "cell_type": "code",
   "execution_count": 9,
   "metadata": {},
   "outputs": [],
   "source": [
    "# order_category_df.head()"
   ]
  },
  {
   "cell_type": "code",
   "execution_count": 10,
   "metadata": {},
   "outputs": [],
   "source": [
    "# pull out the entity embedding map\n",
    "path = '/mnt/azmnt/code/Users/bho829/IVR/order'\n",
    "learn = load_learner(path)\n",
    "\n",
    "with open('ivr_backup_data/cat_dict.pkl', 'rb') as cat_dict_file:\n",
    "    cat_dict = pkl.load(cat_dict_file)\n",
    "\n",
    "inner_train_df = pd.read_csv('ivr_backup_data/inner_train_df.csv')"
   ]
  },
  {
   "cell_type": "code",
   "execution_count": 11,
   "metadata": {},
   "outputs": [
    {
     "data": {
      "text/html": [
       "<div>\n",
       "<style scoped>\n",
       "    .dataframe tbody tr th:only-of-type {\n",
       "        vertical-align: middle;\n",
       "    }\n",
       "\n",
       "    .dataframe tbody tr th {\n",
       "        vertical-align: top;\n",
       "    }\n",
       "\n",
       "    .dataframe thead th {\n",
       "        text-align: right;\n",
       "    }\n",
       "</style>\n",
       "<table border=\"1\" class=\"dataframe\">\n",
       "  <thead>\n",
       "    <tr style=\"text-align: right;\">\n",
       "      <th></th>\n",
       "      <th>IDA_RESULT</th>\n",
       "      <th>MAKE1</th>\n",
       "      <th>EXPERIAN_RESPONSE_1</th>\n",
       "      <th>SHIPPINGMETHOD</th>\n",
       "      <th>MAKE4</th>\n",
       "      <th>MAKE5</th>\n",
       "      <th>MODEL5</th>\n",
       "      <th>EXPERIAN_RESPONSE_2</th>\n",
       "      <th>ACCOUNT_NUMBER</th>\n",
       "      <th>FRAUDNET_RESULT</th>\n",
       "      <th>...</th>\n",
       "      <th>PREORDER_LINES</th>\n",
       "      <th>ALLOWED_LINES</th>\n",
       "      <th>APPROVED_LINES</th>\n",
       "      <th>EXTERNAL_APPROVED_LINES</th>\n",
       "      <th>FIRST_PARTY_ID_SCORE</th>\n",
       "      <th>THIRD_PARTY_ID_SCORE</th>\n",
       "      <th>PRICE1</th>\n",
       "      <th>PRICE2</th>\n",
       "      <th>ORDER_CREATED_DATE</th>\n",
       "      <th>ACTIVE_WATCH_RESULT</th>\n",
       "    </tr>\n",
       "  </thead>\n",
       "  <tbody>\n",
       "    <tr>\n",
       "      <th>0</th>\n",
       "      <td>GREEN</td>\n",
       "      <td>Apple</td>\n",
       "      <td>NaN</td>\n",
       "      <td>2Days</td>\n",
       "      <td>NaN</td>\n",
       "      <td>NaN</td>\n",
       "      <td>NaN</td>\n",
       "      <td>NaN</td>\n",
       "      <td>2608741079</td>\n",
       "      <td>NaN</td>\n",
       "      <td>...</td>\n",
       "      <td>-0.193577</td>\n",
       "      <td>-0.128534</td>\n",
       "      <td>-0.751217</td>\n",
       "      <td>1.728700</td>\n",
       "      <td>0.254690</td>\n",
       "      <td>0.699868</td>\n",
       "      <td>-0.180481</td>\n",
       "      <td>-0.367770</td>\n",
       "      <td>0.600580</td>\n",
       "      <td>1</td>\n",
       "    </tr>\n",
       "    <tr>\n",
       "      <th>1</th>\n",
       "      <td>GREEN</td>\n",
       "      <td>Apple</td>\n",
       "      <td>NaN</td>\n",
       "      <td>2Days</td>\n",
       "      <td>NaN</td>\n",
       "      <td>NaN</td>\n",
       "      <td>NaN</td>\n",
       "      <td>NaN</td>\n",
       "      <td>2541993372</td>\n",
       "      <td>NaN</td>\n",
       "      <td>...</td>\n",
       "      <td>-0.193577</td>\n",
       "      <td>0.706180</td>\n",
       "      <td>-0.751217</td>\n",
       "      <td>-0.885189</td>\n",
       "      <td>0.465524</td>\n",
       "      <td>0.708396</td>\n",
       "      <td>1.040141</td>\n",
       "      <td>-0.367770</td>\n",
       "      <td>0.318066</td>\n",
       "      <td>1</td>\n",
       "    </tr>\n",
       "    <tr>\n",
       "      <th>2</th>\n",
       "      <td>GREEN</td>\n",
       "      <td>Apple</td>\n",
       "      <td>NaN</td>\n",
       "      <td>2Days</td>\n",
       "      <td>Apple</td>\n",
       "      <td>NaN</td>\n",
       "      <td>NaN</td>\n",
       "      <td>NaN</td>\n",
       "      <td>2676329899</td>\n",
       "      <td>NaN</td>\n",
       "      <td>...</td>\n",
       "      <td>-0.193577</td>\n",
       "      <td>0.706180</td>\n",
       "      <td>1.383215</td>\n",
       "      <td>-0.885189</td>\n",
       "      <td>-1.056148</td>\n",
       "      <td>-0.630464</td>\n",
       "      <td>-0.180481</td>\n",
       "      <td>1.138291</td>\n",
       "      <td>0.547005</td>\n",
       "      <td>3</td>\n",
       "    </tr>\n",
       "    <tr>\n",
       "      <th>3</th>\n",
       "      <td>GREEN</td>\n",
       "      <td>Apple</td>\n",
       "      <td>NaN</td>\n",
       "      <td>2Days</td>\n",
       "      <td>NaN</td>\n",
       "      <td>NaN</td>\n",
       "      <td>NaN</td>\n",
       "      <td>NaN</td>\n",
       "      <td>1442915580</td>\n",
       "      <td>NaN</td>\n",
       "      <td>...</td>\n",
       "      <td>-0.193577</td>\n",
       "      <td>0.706180</td>\n",
       "      <td>1.383215</td>\n",
       "      <td>-0.885189</td>\n",
       "      <td>0.034689</td>\n",
       "      <td>0.009119</td>\n",
       "      <td>-1.672325</td>\n",
       "      <td>-0.367770</td>\n",
       "      <td>0.663532</td>\n",
       "      <td>1</td>\n",
       "    </tr>\n",
       "    <tr>\n",
       "      <th>4</th>\n",
       "      <td>GREEN</td>\n",
       "      <td>Apple</td>\n",
       "      <td>NaN</td>\n",
       "      <td>2Days</td>\n",
       "      <td>NaN</td>\n",
       "      <td>NaN</td>\n",
       "      <td>NaN</td>\n",
       "      <td>NaN</td>\n",
       "      <td>1368037653</td>\n",
       "      <td>NaN</td>\n",
       "      <td>...</td>\n",
       "      <td>-0.193577</td>\n",
       "      <td>-1.797961</td>\n",
       "      <td>-0.751217</td>\n",
       "      <td>0.683144</td>\n",
       "      <td>-0.588646</td>\n",
       "      <td>-0.852186</td>\n",
       "      <td>-0.451730</td>\n",
       "      <td>-0.367770</td>\n",
       "      <td>0.031195</td>\n",
       "      <td>1</td>\n",
       "    </tr>\n",
       "  </tbody>\n",
       "</table>\n",
       "<p>5 rows × 82 columns</p>\n",
       "</div>"
      ],
      "text/plain": [
       "  IDA_RESULT  MAKE1 EXPERIAN_RESPONSE_1 SHIPPINGMETHOD  MAKE4 MAKE5 MODEL5  \\\n",
       "0      GREEN  Apple                 NaN          2Days    NaN   NaN    NaN   \n",
       "1      GREEN  Apple                 NaN          2Days    NaN   NaN    NaN   \n",
       "2      GREEN  Apple                 NaN          2Days  Apple   NaN    NaN   \n",
       "3      GREEN  Apple                 NaN          2Days    NaN   NaN    NaN   \n",
       "4      GREEN  Apple                 NaN          2Days    NaN   NaN    NaN   \n",
       "\n",
       "  EXPERIAN_RESPONSE_2  ACCOUNT_NUMBER FRAUDNET_RESULT         ...          \\\n",
       "0                 NaN      2608741079             NaN         ...           \n",
       "1                 NaN      2541993372             NaN         ...           \n",
       "2                 NaN      2676329899             NaN         ...           \n",
       "3                 NaN      1442915580             NaN         ...           \n",
       "4                 NaN      1368037653             NaN         ...           \n",
       "\n",
       "  PREORDER_LINES ALLOWED_LINES APPROVED_LINES EXTERNAL_APPROVED_LINES  \\\n",
       "0      -0.193577     -0.128534      -0.751217                1.728700   \n",
       "1      -0.193577      0.706180      -0.751217               -0.885189   \n",
       "2      -0.193577      0.706180       1.383215               -0.885189   \n",
       "3      -0.193577      0.706180       1.383215               -0.885189   \n",
       "4      -0.193577     -1.797961      -0.751217                0.683144   \n",
       "\n",
       "  FIRST_PARTY_ID_SCORE THIRD_PARTY_ID_SCORE    PRICE1    PRICE2  \\\n",
       "0             0.254690             0.699868 -0.180481 -0.367770   \n",
       "1             0.465524             0.708396  1.040141 -0.367770   \n",
       "2            -1.056148            -0.630464 -0.180481  1.138291   \n",
       "3             0.034689             0.009119 -1.672325 -0.367770   \n",
       "4            -0.588646            -0.852186 -0.451730 -0.367770   \n",
       "\n",
       "  ORDER_CREATED_DATE ACTIVE_WATCH_RESULT  \n",
       "0           0.600580                   1  \n",
       "1           0.318066                   1  \n",
       "2           0.547005                   3  \n",
       "3           0.663532                   1  \n",
       "4           0.031195                   1  \n",
       "\n",
       "[5 rows x 82 columns]"
      ]
     },
     "execution_count": 11,
     "metadata": {},
     "output_type": "execute_result"
    }
   ],
   "source": [
    "inner_train_df.head()\n",
    "# embeddings"
   ]
  },
  {
   "cell_type": "code",
   "execution_count": 12,
   "metadata": {},
   "outputs": [
    {
     "data": {
      "text/plain": [
       "(239276, 82)"
      ]
     },
     "execution_count": 12,
     "metadata": {},
     "output_type": "execute_result"
    }
   ],
   "source": [
    "inner_train_df.shape"
   ]
  },
  {
   "cell_type": "code",
   "execution_count": 13,
   "metadata": {},
   "outputs": [],
   "source": [
    "# user inner_train_df indices to select the rows from order_category_df that were used in the train dataset\n",
    "# don't use values from inner_train_df directly, because they may have been normalized\n",
    "train_category_df = order_category_df.loc[inner_train_df.index]"
   ]
  },
  {
   "cell_type": "code",
   "execution_count": 14,
   "metadata": {},
   "outputs": [
    {
     "data": {
      "text/plain": [
       "(239276, 51)"
      ]
     },
     "execution_count": 14,
     "metadata": {},
     "output_type": "execute_result"
    }
   ],
   "source": [
    "train_category_df.shape"
   ]
  },
  {
   "cell_type": "code",
   "execution_count": 15,
   "metadata": {},
   "outputs": [],
   "source": [
    "cat_key_map = defaultdict(dict)\n",
    "for cat_var in columns:\n",
    "    var_categories = train_category_df[cat_var].astype('category').cat.as_ordered()\n",
    "    cat_keys = np.concatenate([['#na#'],var_categories.cat.categories.values])\n",
    "    key_index = 0\n",
    "    for key_value in cat_keys:\n",
    "        cat_key_map[cat_var].update({key_value: key_index})\n",
    "        key_index += 1\n"
   ]
  },
  {
   "cell_type": "code",
   "execution_count": 16,
   "metadata": {},
   "outputs": [],
   "source": [
    "# cat_key_map['BILLING_STATE']"
   ]
  },
  {
   "cell_type": "code",
   "execution_count": 17,
   "metadata": {},
   "outputs": [
    {
     "data": {
      "text/plain": [
       "'MODEL1'"
      ]
     },
     "execution_count": 17,
     "metadata": {},
     "output_type": "execute_result"
    }
   ],
   "source": [
    "cat_var = columns[0]\n",
    "cat_var"
   ]
  },
  {
   "cell_type": "code",
   "execution_count": 18,
   "metadata": {},
   "outputs": [],
   "source": [
    "embed_map = defaultdict(dict)\n",
    "for cat_var in columns:\n",
    "    embed_index = cat_dict[cat_var]\n",
    "    cat_weights = learn.model.embeds[embed_index].weight.data.cpu().numpy()\n",
    "    for index in range(cat_weights.shape[0]):\n",
    "        embed_map[cat_var].update({index:cat_weights[index]})"
   ]
  },
  {
   "cell_type": "code",
   "execution_count": 19,
   "metadata": {},
   "outputs": [
    {
     "data": {
      "text/plain": [
       "{0: array([ 4.18e-43,  3.03e-43, -3.62e-43,  2.96e-43, -3.77e-43,  3.76e-43,  2.84e-43,  3.83e-43,  3.01e-43,  3.28e-43,\n",
       "         4.12e-43, -3.12e-43, -3.29e-43,  3.83e-43,  3.70e-43, -4.37e-43,  3.70e-43], dtype=float32),\n",
       " 1: array([ 6.667283e-05, -9.487361e-02, -1.147027e-01,  3.099865e-02,  8.956190e-02, -1.579541e-01,  5.117259e-02,\n",
       "         1.191606e-01,  6.121391e-02,  2.169255e-01, -1.810426e-01,  1.205197e-02, -8.267474e-02,  4.906839e-02,\n",
       "        -5.681212e-02, -1.687244e-01,  2.807344e-01], dtype=float32),\n",
       " 2: array([-0.101972, -0.020438, -0.184858, -0.432412,  0.24198 , -0.086668, -0.183148,  0.213148, -0.066549,  0.002132,\n",
       "        -0.13719 , -0.349538, -0.026312,  0.027046, -0.055758, -0.232032, -0.047163], dtype=float32),\n",
       " 3: array([-0.160554,  0.018824, -0.197617, -0.161394,  0.202792, -0.12929 ,  0.001676,  0.143228, -0.068347, -0.018393,\n",
       "        -0.14964 , -0.160988, -0.077367, -0.009688,  0.011377, -0.167885,  0.071836], dtype=float32),\n",
       " 4: array([-8.399764e-02,  1.555111e-01, -6.563380e-02, -1.883690e-01,  1.096362e-01,  7.898011e-06, -1.868204e-01,\n",
       "         4.908197e-03, -1.798878e-01, -8.125522e-02, -5.534939e-02, -1.439759e-01,  7.936917e-02, -3.849912e-03,\n",
       "         8.475031e-02, -3.081980e-02, -5.992990e-02], dtype=float32),\n",
       " 5: array([-0.024916,  0.075734, -0.165273, -0.239029,  0.086643, -0.094885, -0.120915,  0.080229, -0.119946, -0.057147,\n",
       "        -0.076888, -0.270361, -0.018032,  0.076209,  0.012303, -0.142895, -0.065926], dtype=float32),\n",
       " 6: array([-0.022151, -0.061055, -0.057461, -0.130055,  0.060682, -0.081387,  0.014113,  0.116458,  0.031166, -0.067981,\n",
       "        -0.163377, -0.079117, -0.143594, -0.025758, -0.072385, -0.068649,  0.047135], dtype=float32),\n",
       " 7: array([-0.131784, -0.053978, -0.213371, -0.223145,  0.172471, -0.206439, -0.153549,  0.228456, -0.030429,  0.040092,\n",
       "        -0.159125, -0.234317, -0.224792,  0.059867, -0.132496, -0.280316,  0.101422], dtype=float32),\n",
       " 8: array([ 0.015048, -0.076129,  0.061697, -0.131475,  0.030142,  0.077141, -0.029522, -0.020146,  0.053351, -0.106555,\n",
       "        -0.001815, -0.175106,  0.036173,  0.061998, -0.052614, -0.002898, -0.112983], dtype=float32),\n",
       " 9: array([ 0.10488 , -0.172703,  0.022619, -0.004263, -0.039236, -0.019376,  0.109572,  0.005825,  0.202262,  0.106467,\n",
       "        -0.009758, -0.081132,  0.022964,  0.141033, -0.162724, -0.00529 , -0.014816], dtype=float32),\n",
       " 10: array([ 0.010462,  0.016979,  0.178669,  0.045369, -0.147768,  0.139994, -0.138965, -0.086772,  0.032081, -0.120727,\n",
       "         0.135494, -0.055115,  0.066619, -0.032306, -0.000809,  0.143732, -0.108014], dtype=float32),\n",
       " 11: array([ 0.157204, -0.227952, -0.054235, -0.110301, -0.0325  , -0.022565,  0.062702,  0.005754,  0.180823,  0.154425,\n",
       "        -0.077848, -0.204975,  0.012701,  0.137163, -0.266773, -0.184709, -0.111439], dtype=float32),\n",
       " 12: array([-0.011078, -0.112721, -0.069289,  0.00502 ,  0.018283, -0.03573 , -0.050357,  0.073863,  0.037935,  0.059104,\n",
       "        -0.152993, -0.089545, -0.086976,  0.054004, -0.085976, -0.119487,  0.0084  ], dtype=float32),\n",
       " 13: array([-0.005716, -0.00015 , -0.007829,  0.022402,  0.007636, -0.02351 ,  0.004639,  0.010877,  0.013595, -0.000657,\n",
       "        -0.021556,  0.022396, -0.008543,  0.01926 , -0.005671, -0.012522,  0.017984], dtype=float32),\n",
       " 14: array([ 0.023172, -0.221891, -0.083598, -0.083765,  0.022787, -0.086775,  0.004684,  0.075892,  0.149291,  0.193147,\n",
       "        -0.106366, -0.080146, -0.093846,  0.162327, -0.252537, -0.162039,  0.105265], dtype=float32),\n",
       " 15: array([ 0.04445 , -0.039702,  0.109183,  0.066964, -0.09738 ,  0.07043 , -0.010457, -0.136408,  0.028721, -0.098504,\n",
       "         0.120082, -0.01596 ,  0.065059,  0.019054, -0.025094,  0.086895,  0.00167 ], dtype=float32),\n",
       " 16: array([-0.05213 , -0.210649, -0.225207, -0.230009,  0.259758, -0.175837, -0.013981,  0.204775,  0.037048,  0.244989,\n",
       "        -0.246363, -0.191831, -0.010796,  0.163211, -0.154629, -0.342931,  0.205717], dtype=float32),\n",
       " 17: array([ 0.1122  , -0.061966,  0.028702,  0.031595, -0.138519,  0.029429,  0.001307, -0.101507,  0.091359,  0.011389,\n",
       "         0.06432 , -0.031781,  0.032455,  0.050953, -0.057925,  0.102205,  0.021161], dtype=float32),\n",
       " 18: array([-0.156997, -0.039449, -0.14401 , -0.277358,  0.283121, -0.195567, -0.206716,  0.175852,  0.003437,  0.058512,\n",
       "        -0.132922, -0.356883, -0.107954,  0.0208  , -0.050815, -0.220379,  0.055616], dtype=float32),\n",
       " 19: array([ 0.060759, -0.080666,  0.053489,  0.021607, -0.077959,  0.025671, -0.034347, -0.106024,  0.069946, -0.125069,\n",
       "         0.08967 , -0.056596,  0.076209,  0.078645, -0.04635 ,  0.02066 , -0.074835], dtype=float32),\n",
       " 20: array([ 0.014751, -0.024913, -0.0085  , -0.113832, -0.032388,  0.000708, -0.093876,  0.062267,  0.005395, -0.075378,\n",
       "        -0.070373, -0.150246, -0.002852,  0.009893,  0.018637, -0.07297 , -0.064252], dtype=float32),\n",
       " 21: array([ 0.011519, -0.069724,  0.13899 ,  0.042539, -0.140166,  0.091497, -0.024899, -0.073341,  0.045947, -0.071807,\n",
       "         0.092133,  0.012588,  0.099752,  0.015754, -0.029576,  0.06273 , -0.089644], dtype=float32),\n",
       " 22: array([-0.031983, -0.053255, -0.240079, -0.287675,  0.187077, -0.090131, -0.012696,  0.182227, -0.019567,  0.229848,\n",
       "        -0.167799, -0.277212, -0.075015,  0.102267, -0.078111, -0.20193 ,  0.111297], dtype=float32),\n",
       " 23: array([ 0.115573, -0.016963,  0.135087,  0.079596, -0.089742,  0.150194,  0.031113, -0.114323,  0.052539, -0.108388,\n",
       "         0.122539, -0.039391,  0.07989 ,  0.013179, -0.006129,  0.129416, -0.242423], dtype=float32),\n",
       " 24: array([-0.044802, -0.130659, -0.218861, -0.239562,  0.19004 , -0.147126, -0.135363,  0.2322  ,  0.098463, -0.102604,\n",
       "        -0.135069, -0.190385, -0.135392,  0.057068, -0.066436, -0.20309 ,  0.050421], dtype=float32),\n",
       " 25: array([ 0.07552 , -0.116647,  0.113942, -0.004679, -0.079468,  0.101711,  0.087924, -0.064032,  0.013979,  0.051172,\n",
       "         0.091199, -0.000507,  0.114881,  0.070639, -0.076474,  0.077631, -0.072819], dtype=float32),\n",
       " 26: array([-0.145829, -0.065156, -0.232908, -0.245884,  0.278764, -0.197797, -0.062352,  0.240314, -0.077845,  0.004717,\n",
       "        -0.20435 , -0.13525 , -0.188563,  0.013099, -0.000429, -0.194041,  0.186176], dtype=float32),\n",
       " 27: array([-0.156117,  0.099382, -0.124264, -0.275724,  0.189834, -0.06075 , -0.137183,  0.126722, -0.148718, -0.015146,\n",
       "        -0.126878, -0.246324, -0.050781, -0.108209,  0.10203 , -0.149179, -0.029351], dtype=float32),\n",
       " 28: array([ 0.020183, -0.123012, -0.011192, -0.009709, -0.030845, -0.00603 , -0.029101, -0.012497,  0.113315,  0.067045,\n",
       "        -0.04649 , -0.080946,  0.015666,  0.12257 , -0.1372  , -0.081836, -0.081363], dtype=float32),\n",
       " 29: array([-0.111237, -0.042765, -0.122312, -0.158307,  0.101367, -0.111505, -0.049638,  0.131233,  0.006847,  0.143634,\n",
       "        -0.202247, -0.059954, -0.132257,  0.058659, -0.034065, -0.173326,  0.189451], dtype=float32),\n",
       " 30: array([-0.121261,  0.002504, -0.216341, -0.206193,  0.218108, -0.096452, -0.066753,  0.121353, -0.005504, -0.005557,\n",
       "        -0.145332, -0.126077, -0.100812,  0.004535,  0.002803, -0.210399,  0.040079], dtype=float32),\n",
       " 31: array([-0.066701,  0.008347, -0.024682,  0.001644,  0.024251, -0.073675, -0.046953,  0.018906,  0.00076 , -0.004519,\n",
       "        -0.0643  , -0.02121 , -0.040035,  0.012706,  0.003959, -0.023901,  0.065957], dtype=float32),\n",
       " 32: array([-0.10438 ,  0.104864, -0.069368, -0.014873,  0.001727, -0.061525, -0.096342,  0.075239, -0.144202, -0.076184,\n",
       "        -0.05443 , -0.027004, -0.073068, -0.083992,  0.093904, -0.015686,  0.054474], dtype=float32),\n",
       " 33: array([-0.02612 , -0.010649, -0.038884, -0.018373,  0.029239, -0.022435,  0.010478,  0.011457,  0.010388,  0.02378 ,\n",
       "        -0.016716, -0.02609 ,  0.009198,  0.022253, -0.010491, -0.024225,  0.024256], dtype=float32),\n",
       " 34: array([-0.212055,  0.090754, -0.182412, -0.127325,  0.146275, -0.193998, -0.064094,  0.166079, -0.065549, -0.032582,\n",
       "        -0.170021, -0.06754 , -0.141963, -0.072112,  0.106317, -0.095108,  0.179493], dtype=float32),\n",
       " 35: array([-0.156954,  0.234957,  0.000563,  0.03351 , -0.020802,  0.028381, -0.219561,  0.032029, -0.249526, -0.107135,\n",
       "         0.00183 , -0.035312,  0.000491, -0.181335,  0.197091,  0.083259,  0.0028  ], dtype=float32),\n",
       " 36: array([-0.133809,  0.147956,  0.022418,  0.031089,  0.004099,  0.000885, -0.166987,  0.016824, -0.169672, -0.126223,\n",
       "         0.014509,  0.006516, -0.017426, -0.154728,  0.135576,  0.024011,  0.063641], dtype=float32),\n",
       " 37: array([-0.017213,  0.003396,  0.008084,  0.014388,  0.003397,  0.008081, -0.019464, -0.008084,  0.001334, -0.034954,\n",
       "         0.014389,  0.014402,  0.008843, -0.017185,  0.026061,  0.03343 , -0.008083], dtype=float32),\n",
       " 38: array([-0.029942,  0.016951, -0.000918, -0.011737, -0.005578, -0.011615, -0.025818,  0.011902, -0.019985, -0.021698,\n",
       "        -0.018662,  0.000361, -0.029454, -0.013537,  0.017199,  0.012859, -0.001523], dtype=float32),\n",
       " 39: array([-0.01992 ,  0.091336,  0.03822 ,  0.029439, -0.019186, -0.007845, -0.053019, -0.114846, -0.0526  , -0.034229,\n",
       "         0.045571,  0.066206,  0.084097,  0.005695,  0.109732,  0.089285, -0.006541], dtype=float32),\n",
       " 40: array([-0.009727,  0.09778 ,  0.017504,  0.037708, -0.046228,  0.039045, -0.135222, -0.049218, -0.143422, -0.078293,\n",
       "         0.060942,  0.021968,  0.052093, -0.069168,  0.111111,  0.046766, -0.116275], dtype=float32),\n",
       " 41: array([-0.027702,  0.06994 ,  0.06488 ,  0.081484, -0.010333,  0.037141, -0.054104,  0.037091, -0.054871, -0.148171,\n",
       "         0.040426,  0.066887, -0.05196 , -0.141372,  0.101273,  0.024747, -0.03792 ], dtype=float32),\n",
       " 42: array([ 0.211293, -0.160963,  0.070887,  0.031607, -0.11731 ,  0.078267,  0.128527, -0.089687,  0.207386,  0.037042,\n",
       "         0.101175,  0.007465,  0.097279,  0.170629, -0.212083,  0.037676, -0.096831], dtype=float32),\n",
       " 43: array([ 0.080692, -0.253144,  0.039706, -0.045833, -0.004892, -0.120272,  0.04617 , -0.037003,  0.182449,  0.082085,\n",
       "        -0.074782, -0.14551 , -0.035007,  0.164515, -0.166422, -0.111676,  0.00732 ], dtype=float32),\n",
       " 44: array([ 0.120678, -0.022696,  0.062232,  0.065138, -0.091196,  0.023709,  0.032196, -0.086695,  0.087993,  0.043357,\n",
       "         0.082275, -0.008815,  0.050121,  0.048539, -0.067564,  0.018863, -0.091882], dtype=float32),\n",
       " 45: array([ 0.170231, -0.086234,  0.078601,  0.105537, -0.082058,  0.100221,  0.070761, -0.113221,  0.159398, -0.035685,\n",
       "         0.092611,  0.009662,  0.133872,  0.146498, -0.085555,  0.097775, -0.101178], dtype=float32),\n",
       " 46: array([-0.090046, -0.138482, -0.177556, -0.17964 ,  0.194162, -0.125118,  0.002119,  0.174063,  0.01606 ,  0.048033,\n",
       "        -0.185903, -0.135342, -0.111434,  0.062764, -0.044651, -0.19704 ,  0.108534], dtype=float32),\n",
       " 47: array([-0.071198, -0.038181, -0.13472 , -0.014867,  0.08316 , -0.060531, -0.091144,  0.031477,  0.013645, -0.126244,\n",
       "        -0.126803, -0.04743 , -0.105997,  0.042041,  0.001615, -0.047362,  0.085066], dtype=float32),\n",
       " 48: array([-0.065153, -0.197399, -0.136517, -0.209423,  0.226681, -0.122402, -0.075686,  0.163304,  0.085441, -0.016895,\n",
       "        -0.160707, -0.233573, -0.132889,  0.025566, -0.149482, -0.148664,  0.002876], dtype=float32),\n",
       " 49: array([ 0.073865, -0.078979,  0.025649,  0.028518,  0.022067,  0.032721,  0.013011, -0.001739,  0.101707,  0.022288,\n",
       "         0.054107, -0.027201,  0.021555,  0.042253, -0.055296, -0.021483, -0.016775], dtype=float32),\n",
       " 50: array([-0.075673, -0.073993, -0.199629, -0.260597,  0.192244, -0.191335, -0.001677,  0.167691, -0.026869,  0.115236,\n",
       "        -0.158804, -0.19579 , -0.135238,  0.056719, -0.079301, -0.247172,  0.099879], dtype=float32),\n",
       " 51: array([-0.095391,  0.104912, -0.083584, -0.122148,  0.103647, -0.102326, -0.152497,  0.138019, -0.127027, -0.075588,\n",
       "        -0.118331, -0.12243 , -0.168717, -0.145451,  0.102295, -0.176974,  0.067621], dtype=float32),\n",
       " 52: array([ 0.016403,  0.026548,  0.043464, -0.029137, -0.028754,  0.043781,  0.01255 , -0.032868, -0.031121, -0.067763,\n",
       "         0.096572,  0.037881,  0.059944, -0.03029 ,  0.041543,  0.090467, -0.060036], dtype=float32),\n",
       " 53: array([ 0.020449, -0.070545,  0.065899, -0.038362, -0.009859, -0.012093, -0.094772, -0.040742,  0.008488, -0.065387,\n",
       "         0.02548 , -0.042908,  0.025668,  0.079648, -0.039297, -0.007171, -0.06447 ], dtype=float32),\n",
       " 54: array([-0.092715, -0.076815, -0.217814, -0.256589,  0.230835, -0.158339, -0.070344,  0.174594,  0.041681,  0.013587,\n",
       "        -0.230329, -0.225592, -0.103751,  0.10675 , -0.076103, -0.212246,  0.097284], dtype=float32),\n",
       " 55: array([ 0.093507, -0.105896,  0.015293, -0.046104, -0.027163,  0.038826, -0.014192, -0.046567,  0.159548, -0.02359 ,\n",
       "         0.00862 , -0.068568, -0.046834,  0.062843, -0.075732, -0.008644, -0.052673], dtype=float32),\n",
       " 56: array([-0.040238,  0.07113 , -0.003936, -0.050185, -0.021489, -0.005164, -0.114793, -0.025177,  0.0144  , -0.010531,\n",
       "        -0.000898, -0.008751, -0.027829,  0.03869 ,  0.045892, -0.000189,  0.088759], dtype=float32),\n",
       " 57: array([ 0.122304, -0.033511,  0.066209, -0.034746, -0.064306,  0.078851,  0.08911 , -0.015242,  0.100088, -0.080504,\n",
       "         0.025899, -0.008929,  0.065108,  0.038021, -0.043365,  0.00813 , -0.069082], dtype=float32),\n",
       " 58: array([ 0.083099, -0.085281,  0.065223, -0.07042 , -0.112929,  0.060708,  0.023919, -0.053369,  0.052353,  0.059656,\n",
       "         0.076735, -0.021267,  0.054503,  0.08076 , -0.114334,  0.051975, -0.119892], dtype=float32),\n",
       " 59: array([ 0.035082, -0.145013,  0.135501,  0.093111, -0.147596,  0.062371,  0.039592, -0.089956,  0.105844,  0.027312,\n",
       "         0.090892,  0.071636,  0.085211,  0.063019, -0.143809,  0.098999, -0.079314], dtype=float32),\n",
       " 60: array([ 0.117682, -0.02876 ,  0.137236,  0.041976, -0.133059,  0.14861 , -0.034198, -0.11628 ,  0.104048, -0.031526,\n",
       "         0.079644,  0.022244,  0.119404,  0.068417, -0.02413 ,  0.107938, -0.085334], dtype=float32),\n",
       " 61: array([-0.039866, -0.123542, -0.169357, -0.224979,  0.117189, -0.118175, -0.017404,  0.200569,  0.054319,  0.044099,\n",
       "        -0.197289, -0.218656, -0.09699 ,  0.157069, -0.10761 , -0.192568,  0.115319], dtype=float32),\n",
       " 62: array([ 0.100912,  0.003693,  0.00937 , -0.007392, -0.023618,  0.054608, -0.118628, -0.0492  , -0.029881, -0.003267,\n",
       "         0.068496, -0.031141,  0.061958, -0.050193, -0.046669,  0.015443, -0.146931], dtype=float32),\n",
       " 63: array([ 0.262006, -0.255308,  0.164581,  0.122564, -0.098026,  0.113228,  0.281723, -0.15026 ,  0.264609,  0.167638,\n",
       "         0.145578,  0.160755,  0.170539,  0.201388, -0.227568,  0.13413 , -0.052241], dtype=float32),\n",
       " 64: array([-0.081801, -0.001841, -0.143732, -0.113209,  0.131411, -0.144505, -0.054136,  0.14508 , -0.013062,  0.096323,\n",
       "        -0.183786, -0.099855, -0.216937, -0.076233, -0.043224, -0.187287,  0.197776], dtype=float32),\n",
       " 65: array([-0.114254, -0.04902 , -0.159953, -0.101155,  0.176812, -0.125146,  0.031102,  0.13797 ,  0.027699,  0.035535,\n",
       "        -0.161768, -0.022212, -0.111746,  0.024869, -0.076102, -0.145788,  0.06953 ], dtype=float32),\n",
       " 66: array([-0.104975, -0.013216, -0.208046, -0.169131,  0.290843, -0.166105,  0.002363,  0.120934, -0.038093,  0.048167,\n",
       "        -0.165826, -0.139133, -0.12766 ,  0.018266,  0.026954, -0.207315,  0.109671], dtype=float32)}"
      ]
     },
     "execution_count": 19,
     "metadata": {},
     "output_type": "execute_result"
    }
   ],
   "source": [
    "embed_map['MODEL1']"
   ]
  },
  {
   "cell_type": "code",
   "execution_count": 20,
   "metadata": {},
   "outputs": [],
   "source": [
    "# train_category_df[cat_var] = train_category_df[cat_var].astype('category').cat.as_ordered()\n",
    "# cat_keys = np.concatenate([['#na#'],train_category_df[cat_var].cat.categories.values])\n"
   ]
  },
  {
   "cell_type": "code",
   "execution_count": 21,
   "metadata": {},
   "outputs": [],
   "source": [
    "def convert_to_embed(cat_var, cat_value):\n",
    "    if cat_value =='nan' :\n",
    "        cat_index = 0\n",
    "    else:\n",
    "        try:\n",
    "            cat_index = cat_key_map[cat_var][cat_value]\n",
    "        except:\n",
    "            cat_index = 0\n",
    "\n",
    "    embedded = embed_map[cat_var][cat_index]\n",
    "    \n",
    "    return embedded"
   ]
  },
  {
   "cell_type": "code",
   "execution_count": 22,
   "metadata": {},
   "outputs": [],
   "source": [
    "category_embed_df = train_category_df.copy()"
   ]
  },
  {
   "cell_type": "code",
   "execution_count": 23,
   "metadata": {},
   "outputs": [],
   "source": [
    "# these are the grouped fields. They start with \n",
    "grouped = ['SKU','BYOD','CARRIER','MODEL','TYPE','MAKE']"
   ]
  },
  {
   "cell_type": "code",
   "execution_count": 24,
   "metadata": {},
   "outputs": [],
   "source": [
    "def in_group(cat_var):\n",
    "    for grouped_prefix in grouped:\n",
    "        if cat_var.startswith(grouped_prefix):\n",
    "            return True\n",
    "    return False"
   ]
  },
  {
   "cell_type": "code",
   "execution_count": 25,
   "metadata": {},
   "outputs": [],
   "source": [
    "single_cats = [cat_var for cat_var in columns if not in_group(cat_var)]"
   ]
  },
  {
   "cell_type": "code",
   "execution_count": 26,
   "metadata": {},
   "outputs": [
    {
     "data": {
      "text/plain": [
       "['BILLING_STATE',\n",
       " 'BLACKLIST_EMAIL',\n",
       " 'YELLOW_SKU',\n",
       " 'TPF_HIGH_YELLOW',\n",
       " 'ACCOUNT_NUMBER',\n",
       " 'EXTERNAL_CREDIT_CHECK_DONE',\n",
       " 'IS_EXISTING_CUSTOMER',\n",
       " 'FRAUDNET_RESULT',\n",
       " 'LINE_LIMIT_REACHED',\n",
       " 'IDA_RESULT',\n",
       " 'EXPERIAN_RESPONSE_1',\n",
       " 'EXPERIAN_RESPONSE_2',\n",
       " 'SHIPPING_STATE',\n",
       " 'SALES_CHANNEL',\n",
       " 'DEVICE_AT_HOME',\n",
       " 'SSN_BLACKLISTED',\n",
       " 'DENIAL_OF_SERVICES',\n",
       " 'FPF_HIGH_YELLOW',\n",
       " 'SHIPPINGMETHOD',\n",
       " 'INTERNAL_CREDIT_CHECK_DONE',\n",
       " 'ORDER_EXCHANGE']"
      ]
     },
     "execution_count": 26,
     "metadata": {},
     "output_type": "execute_result"
    }
   ],
   "source": [
    "single_cats"
   ]
  },
  {
   "cell_type": "code",
   "execution_count": 36,
   "metadata": {},
   "outputs": [],
   "source": [
    "single_cats.remove('ACCOUNT_NUMBER')   # don't carry ACCOUNT_NUMBER into the input data set"
   ]
  },
  {
   "cell_type": "code",
   "execution_count": 27,
   "metadata": {},
   "outputs": [],
   "source": [
    "embed_var = 'MODEL1'"
   ]
  },
  {
   "cell_type": "code",
   "execution_count": 28,
   "metadata": {},
   "outputs": [],
   "source": [
    "categorical_embed_df = pd.DataFrame()"
   ]
  },
  {
   "cell_type": "code",
   "execution_count": 29,
   "metadata": {},
   "outputs": [
    {
     "name": "stdout",
     "output_type": "stream",
     "text": [
      "single_var=BILLING_STATE\n",
      "single_var=BLACKLIST_EMAIL\n",
      "single_var=YELLOW_SKU\n",
      "single_var=TPF_HIGH_YELLOW\n",
      "single_var=ACCOUNT_NUMBER\n",
      "single_var=EXTERNAL_CREDIT_CHECK_DONE\n",
      "single_var=IS_EXISTING_CUSTOMER\n",
      "single_var=FRAUDNET_RESULT\n",
      "single_var=LINE_LIMIT_REACHED\n",
      "single_var=IDA_RESULT\n",
      "single_var=EXPERIAN_RESPONSE_1\n",
      "single_var=EXPERIAN_RESPONSE_2\n",
      "single_var=SHIPPING_STATE\n",
      "single_var=SALES_CHANNEL\n",
      "single_var=DEVICE_AT_HOME\n",
      "single_var=SSN_BLACKLISTED\n",
      "single_var=DENIAL_OF_SERVICES\n",
      "single_var=FPF_HIGH_YELLOW\n",
      "single_var=SHIPPINGMETHOD\n",
      "single_var=INTERNAL_CREDIT_CHECK_DONE\n",
      "single_var=ORDER_EXCHANGE\n"
     ]
    }
   ],
   "source": [
    "for single_var in single_cats:\n",
    "    print('single_var={}'.format(single_var))\n",
    "    embed_var = single_var + '_embed'\n",
    "    categorical_embed_df[embed_var] = train_category_df[single_var].apply(lambda x: convert_to_embed(single_var, str(x)))"
   ]
  },
  {
   "cell_type": "code",
   "execution_count": 30,
   "metadata": {},
   "outputs": [],
   "source": [
    "# combine group variables by simple addition\n",
    "# always use xxx1 as the weight map. because it is the most complete\n",
    "# if xxxn has values not in xxx1, use index=0\n",
    "for group_var in grouped:\n",
    "    base_var = group_var + str(1)\n",
    "    for group_index in range(5):\n",
    "        var = group_var + str(group_index + 1)\n",
    "        categorical_embed_df[var] = train_category_df[var].apply(lambda x: convert_to_embed(base_var, str(x)))"
   ]
  },
  {
   "cell_type": "code",
   "execution_count": 31,
   "metadata": {},
   "outputs": [
    {
     "data": {
      "text/plain": [
       "0    [-0.016524423, -0.02465348, 0.0017778829, -0.0...\n",
       "1    [3.22e-43, 4.25e-43, 3.74e-43, -3.53e-43, 3.57...\n",
       "2    [3.22e-43, 4.25e-43, 3.74e-43, -3.53e-43, 3.57...\n",
       "3    [3.22e-43, 4.25e-43, 3.74e-43, -3.53e-43, 3.57...\n",
       "4    [3.22e-43, 4.25e-43, 3.74e-43, -3.53e-43, 3.57...\n",
       "Name: SKU2, dtype: object"
      ]
     },
     "execution_count": 31,
     "metadata": {},
     "output_type": "execute_result"
    }
   ],
   "source": [
    "categorical_embed_df['SKU2'].head()"
   ]
  },
  {
   "cell_type": "code",
   "execution_count": 32,
   "metadata": {},
   "outputs": [],
   "source": [
    "def sum_embedded(group_list):\n",
    "    group_sum = np.sum(group_list, axis=0)\n",
    "    return group_sum"
   ]
  },
  {
   "cell_type": "code",
   "execution_count": 33,
   "metadata": {},
   "outputs": [],
   "source": [
    "for group_var in grouped:\n",
    "    group_var_embed = group_var + '_embed'\n",
    "    categorical_embed_df[group_var_embed] = categorical_embed_df.apply(lambda x: sum_embedded([x[group_var + str(1)],\n",
    "                                                                x[group_var + str(2)],\n",
    "                                                                x[group_var + str(3)],\n",
    "                                                                x[group_var + str(4)],\n",
    "                                                                x[group_var + str(5)] ]), axis=1)\n"
   ]
  },
  {
   "cell_type": "code",
   "execution_count": 39,
   "metadata": {},
   "outputs": [],
   "source": [
    "# categorical_embed_df.columns"
   ]
  },
  {
   "cell_type": "code",
   "execution_count": 40,
   "metadata": {},
   "outputs": [],
   "source": [
    "# categorical_embed_df['ACCOUNT_NUMBER_embed'].head()"
   ]
  },
  {
   "cell_type": "code",
   "execution_count": 41,
   "metadata": {},
   "outputs": [],
   "source": [
    "categorical_embed_df.drop(columns=['ACCOUNT_NUMBER_embed'], inplace=True)"
   ]
  },
  {
   "cell_type": "code",
   "execution_count": 180,
   "metadata": {},
   "outputs": [
    {
     "data": {
      "text/plain": [
       "(54,)"
      ]
     },
     "execution_count": 180,
     "metadata": {},
     "output_type": "execute_result"
    }
   ],
   "source": [
    "categorical_embed_df.iloc[0]['SKU_embed'].shape"
   ]
  },
  {
   "cell_type": "code",
   "execution_count": 42,
   "metadata": {},
   "outputs": [
    {
     "data": {
      "text/plain": [
       "Index(['BILLING_STATE_embed', 'BLACKLIST_EMAIL_embed', 'YELLOW_SKU_embed',\n",
       "       'TPF_HIGH_YELLOW_embed', 'EXTERNAL_CREDIT_CHECK_DONE_embed',\n",
       "       'IS_EXISTING_CUSTOMER_embed', 'FRAUDNET_RESULT_embed',\n",
       "       'LINE_LIMIT_REACHED_embed', 'IDA_RESULT_embed',\n",
       "       'EXPERIAN_RESPONSE_1_embed', 'EXPERIAN_RESPONSE_2_embed',\n",
       "       'SHIPPING_STATE_embed', 'SALES_CHANNEL_embed', 'DEVICE_AT_HOME_embed',\n",
       "       'SSN_BLACKLISTED_embed', 'DENIAL_OF_SERVICES_embed',\n",
       "       'FPF_HIGH_YELLOW_embed', 'SHIPPINGMETHOD_embed',\n",
       "       'INTERNAL_CREDIT_CHECK_DONE_embed', 'ORDER_EXCHANGE_embed', 'SKU1',\n",
       "       'SKU2', 'SKU3', 'SKU4', 'SKU5', 'BYOD1', 'BYOD2', 'BYOD3', 'BYOD4',\n",
       "       'BYOD5', 'CARRIER1', 'CARRIER2', 'CARRIER3', 'CARRIER4', 'CARRIER5',\n",
       "       'MODEL1', 'MODEL2', 'MODEL3', 'MODEL4', 'MODEL5', 'TYPE1', 'TYPE2',\n",
       "       'TYPE3', 'TYPE4', 'TYPE5', 'MAKE1', 'MAKE2', 'MAKE3', 'MAKE4', 'MAKE5',\n",
       "       'SKU_embed', 'BYOD_embed', 'CARRIER_embed', 'MODEL_embed', 'TYPE_embed',\n",
       "       'MAKE_embed'],\n",
       "      dtype='object')"
      ]
     },
     "execution_count": 42,
     "metadata": {},
     "output_type": "execute_result"
    }
   ],
   "source": [
    "categorical_embed_df.columns"
   ]
  },
  {
   "cell_type": "code",
   "execution_count": 43,
   "metadata": {},
   "outputs": [],
   "source": [
    "for group_var in grouped:\n",
    "#     print(group_var)\n",
    "    categorical_embed_df.drop(columns=[group_var + str(1),group_var + str(2),group_var + str(3),group_var + str(4),group_var + str(5)], inplace=True)"
   ]
  },
  {
   "cell_type": "code",
   "execution_count": 44,
   "metadata": {},
   "outputs": [
    {
     "data": {
      "text/plain": [
       "Index(['BILLING_STATE_embed', 'BLACKLIST_EMAIL_embed', 'YELLOW_SKU_embed',\n",
       "       'TPF_HIGH_YELLOW_embed', 'EXTERNAL_CREDIT_CHECK_DONE_embed',\n",
       "       'IS_EXISTING_CUSTOMER_embed', 'FRAUDNET_RESULT_embed',\n",
       "       'LINE_LIMIT_REACHED_embed', 'IDA_RESULT_embed',\n",
       "       'EXPERIAN_RESPONSE_1_embed', 'EXPERIAN_RESPONSE_2_embed',\n",
       "       'SHIPPING_STATE_embed', 'SALES_CHANNEL_embed', 'DEVICE_AT_HOME_embed',\n",
       "       'SSN_BLACKLISTED_embed', 'DENIAL_OF_SERVICES_embed',\n",
       "       'FPF_HIGH_YELLOW_embed', 'SHIPPINGMETHOD_embed',\n",
       "       'INTERNAL_CREDIT_CHECK_DONE_embed', 'ORDER_EXCHANGE_embed', 'SKU_embed',\n",
       "       'BYOD_embed', 'CARRIER_embed', 'MODEL_embed', 'TYPE_embed',\n",
       "       'MAKE_embed'],\n",
       "      dtype='object')"
      ]
     },
     "execution_count": 44,
     "metadata": {},
     "output_type": "execute_result"
    }
   ],
   "source": [
    "categorical_embed_df.columns"
   ]
  },
  {
   "cell_type": "code",
   "execution_count": 45,
   "metadata": {},
   "outputs": [
    {
     "data": {
      "text/plain": [
       "(239276, 26)"
      ]
     },
     "execution_count": 45,
     "metadata": {},
     "output_type": "execute_result"
    }
   ],
   "source": [
    "categorical_embed_df.shape"
   ]
  },
  {
   "cell_type": "code",
   "execution_count": 46,
   "metadata": {},
   "outputs": [],
   "source": [
    "order_num_df = pd.read_csv('ivr_backup_data/order_num_df.csv')"
   ]
  },
  {
   "cell_type": "code",
   "execution_count": 47,
   "metadata": {},
   "outputs": [],
   "source": [
    "numerical_features = order_num_df.columns.tolist()"
   ]
  },
  {
   "cell_type": "code",
   "execution_count": 48,
   "metadata": {},
   "outputs": [],
   "source": [
    "train_num_df = inner_train_df[numerical_features]"
   ]
  },
  {
   "cell_type": "code",
   "execution_count": 49,
   "metadata": {},
   "outputs": [
    {
     "data": {
      "text/plain": [
       "(239276, 30)"
      ]
     },
     "execution_count": 49,
     "metadata": {},
     "output_type": "execute_result"
    }
   ],
   "source": [
    "train_num_df.shape"
   ]
  },
  {
   "cell_type": "code",
   "execution_count": 50,
   "metadata": {},
   "outputs": [
    {
     "data": {
      "text/plain": [
       "Index(['FRAUDNET_SCORE', 'TOTAL_PRICE', 'PRICE3', 'PRICE4', 'PRICE5',\n",
       "       'NUM_PORTIN', 'ACNT_BILL_FNAME_MATCHES', 'ACNT_BILL_LNAME_MATCHES',\n",
       "       'ACNT_SHIP_FNAME_MATCHES', 'ACNT_SHIP_LNAME_MATCHES',\n",
       "       'SHIP_BILL_FNAME_MATCHES', 'SHIP_BILL_LNAME_MATCHES',\n",
       "       'BILL_SHIP_ADDR_MATCHES', 'EMAIL', 'IP_ADDRESS', 'PHONE_MATCHES',\n",
       "       'NUM_BYOD', 'INSTALLMENT_AMOUNT', 'ONETIMECHARGE',\n",
       "       'MONTHLYRECURRINGCHARGE', 'BYOD_RETRY_COUNT', 'PREORDER_LINES',\n",
       "       'ALLOWED_LINES', 'APPROVED_LINES', 'EXTERNAL_APPROVED_LINES',\n",
       "       'FIRST_PARTY_ID_SCORE', 'THIRD_PARTY_ID_SCORE', 'PRICE1', 'PRICE2',\n",
       "       'ORDER_CREATED_DATE'],\n",
       "      dtype='object')"
      ]
     },
     "execution_count": 50,
     "metadata": {},
     "output_type": "execute_result"
    }
   ],
   "source": [
    "train_num_df.columns"
   ]
  },
  {
   "cell_type": "code",
   "execution_count": 92,
   "metadata": {},
   "outputs": [],
   "source": [
    "# train_num_df['ORDER_CREATED_DATE'].head()"
   ]
  },
  {
   "cell_type": "code",
   "execution_count": 51,
   "metadata": {},
   "outputs": [
    {
     "data": {
      "text/plain": [
       "(-0.12088332448448218,\n",
       " -0.18048066866541132,\n",
       " -0.36777034283107823,\n",
       " -0.15598703772019107,\n",
       " -0.08757228165958053,\n",
       " -0.04074294517591658)"
      ]
     },
     "execution_count": 51,
     "metadata": {},
     "output_type": "execute_result"
    }
   ],
   "source": [
    "train_num_df.iloc[0]['TOTAL_PRICE'],train_num_df.iloc[0]['PRICE1'],train_num_df.iloc[0]['PRICE2'],train_num_df.iloc[0]['PRICE3'],train_num_df.iloc[0]['PRICE4'],train_num_df.iloc[0]['PRICE5']"
   ]
  },
  {
   "cell_type": "code",
   "execution_count": 52,
   "metadata": {},
   "outputs": [
    {
     "data": {
      "text/plain": [
       "(1554.6, 599.99, 599.99, 119.99, 119.99, 0.0)"
      ]
     },
     "execution_count": 52,
     "metadata": {},
     "output_type": "execute_result"
    }
   ],
   "source": [
    "order_num_df.iloc[0]['TOTAL_PRICE'],order_num_df.iloc[0]['PRICE1'],order_num_df.iloc[0]['PRICE2'],order_num_df.iloc[0]['PRICE3'],order_num_df.iloc[0]['PRICE4'],order_num_df.iloc[0]['PRICE5']"
   ]
  },
  {
   "cell_type": "code",
   "execution_count": 53,
   "metadata": {},
   "outputs": [
    {
     "data": {
      "text/html": [
       "<div>\n",
       "<style scoped>\n",
       "    .dataframe tbody tr th:only-of-type {\n",
       "        vertical-align: middle;\n",
       "    }\n",
       "\n",
       "    .dataframe tbody tr th {\n",
       "        vertical-align: top;\n",
       "    }\n",
       "\n",
       "    .dataframe thead th {\n",
       "        text-align: right;\n",
       "    }\n",
       "</style>\n",
       "<table border=\"1\" class=\"dataframe\">\n",
       "  <thead>\n",
       "    <tr style=\"text-align: right;\">\n",
       "      <th></th>\n",
       "      <th>FRAUDNET_SCORE</th>\n",
       "      <th>TOTAL_PRICE</th>\n",
       "      <th>PRICE3</th>\n",
       "      <th>PRICE4</th>\n",
       "      <th>PRICE5</th>\n",
       "      <th>NUM_PORTIN</th>\n",
       "      <th>ACNT_BILL_FNAME_MATCHES</th>\n",
       "      <th>ACNT_BILL_LNAME_MATCHES</th>\n",
       "      <th>ACNT_SHIP_FNAME_MATCHES</th>\n",
       "      <th>ACNT_SHIP_LNAME_MATCHES</th>\n",
       "      <th>...</th>\n",
       "      <th>BYOD_RETRY_COUNT</th>\n",
       "      <th>PREORDER_LINES</th>\n",
       "      <th>ALLOWED_LINES</th>\n",
       "      <th>APPROVED_LINES</th>\n",
       "      <th>EXTERNAL_APPROVED_LINES</th>\n",
       "      <th>FIRST_PARTY_ID_SCORE</th>\n",
       "      <th>THIRD_PARTY_ID_SCORE</th>\n",
       "      <th>PRICE1</th>\n",
       "      <th>PRICE2</th>\n",
       "      <th>ORDER_CREATED_DATE</th>\n",
       "    </tr>\n",
       "  </thead>\n",
       "  <tbody>\n",
       "    <tr>\n",
       "      <th>0</th>\n",
       "      <td>-0.325847</td>\n",
       "      <td>-0.120883</td>\n",
       "      <td>-0.155987</td>\n",
       "      <td>-0.087572</td>\n",
       "      <td>-0.040743</td>\n",
       "      <td>-1.061545</td>\n",
       "      <td>0.416314</td>\n",
       "      <td>0.365419</td>\n",
       "      <td>0.348549</td>\n",
       "      <td>0.322801</td>\n",
       "      <td>...</td>\n",
       "      <td>-0.428399</td>\n",
       "      <td>-0.193577</td>\n",
       "      <td>-0.128534</td>\n",
       "      <td>-0.751217</td>\n",
       "      <td>1.728700</td>\n",
       "      <td>0.254690</td>\n",
       "      <td>0.699868</td>\n",
       "      <td>-0.180481</td>\n",
       "      <td>-0.367770</td>\n",
       "      <td>0.600580</td>\n",
       "    </tr>\n",
       "    <tr>\n",
       "      <th>1</th>\n",
       "      <td>-0.325847</td>\n",
       "      <td>-1.040878</td>\n",
       "      <td>-0.155987</td>\n",
       "      <td>-0.087572</td>\n",
       "      <td>-0.040743</td>\n",
       "      <td>0.240897</td>\n",
       "      <td>0.416314</td>\n",
       "      <td>0.365419</td>\n",
       "      <td>0.348549</td>\n",
       "      <td>0.322801</td>\n",
       "      <td>...</td>\n",
       "      <td>2.334260</td>\n",
       "      <td>-0.193577</td>\n",
       "      <td>0.706180</td>\n",
       "      <td>-0.751217</td>\n",
       "      <td>-0.885189</td>\n",
       "      <td>0.465524</td>\n",
       "      <td>0.708396</td>\n",
       "      <td>1.040141</td>\n",
       "      <td>-0.367770</td>\n",
       "      <td>0.318066</td>\n",
       "    </tr>\n",
       "    <tr>\n",
       "      <th>2</th>\n",
       "      <td>-0.325847</td>\n",
       "      <td>-0.362564</td>\n",
       "      <td>2.590948</td>\n",
       "      <td>-0.087572</td>\n",
       "      <td>-0.040743</td>\n",
       "      <td>4.148221</td>\n",
       "      <td>0.416314</td>\n",
       "      <td>0.365419</td>\n",
       "      <td>0.348549</td>\n",
       "      <td>0.322801</td>\n",
       "      <td>...</td>\n",
       "      <td>2.334260</td>\n",
       "      <td>-0.193577</td>\n",
       "      <td>0.706180</td>\n",
       "      <td>1.383215</td>\n",
       "      <td>-0.885189</td>\n",
       "      <td>-1.056148</td>\n",
       "      <td>-0.630464</td>\n",
       "      <td>-0.180481</td>\n",
       "      <td>1.138291</td>\n",
       "      <td>0.547005</td>\n",
       "    </tr>\n",
       "    <tr>\n",
       "      <th>3</th>\n",
       "      <td>-0.325847</td>\n",
       "      <td>-1.040878</td>\n",
       "      <td>-0.155987</td>\n",
       "      <td>-0.087572</td>\n",
       "      <td>-0.040743</td>\n",
       "      <td>0.240897</td>\n",
       "      <td>0.416314</td>\n",
       "      <td>0.365419</td>\n",
       "      <td>0.348549</td>\n",
       "      <td>0.322801</td>\n",
       "      <td>...</td>\n",
       "      <td>2.334260</td>\n",
       "      <td>-0.193577</td>\n",
       "      <td>0.706180</td>\n",
       "      <td>1.383215</td>\n",
       "      <td>-0.885189</td>\n",
       "      <td>0.034689</td>\n",
       "      <td>0.009119</td>\n",
       "      <td>-1.672325</td>\n",
       "      <td>-0.367770</td>\n",
       "      <td>0.663532</td>\n",
       "    </tr>\n",
       "    <tr>\n",
       "      <th>4</th>\n",
       "      <td>-0.325847</td>\n",
       "      <td>-0.037609</td>\n",
       "      <td>-0.155987</td>\n",
       "      <td>-0.087572</td>\n",
       "      <td>-0.040743</td>\n",
       "      <td>0.240897</td>\n",
       "      <td>-2.402020</td>\n",
       "      <td>0.365419</td>\n",
       "      <td>0.348549</td>\n",
       "      <td>0.322801</td>\n",
       "      <td>...</td>\n",
       "      <td>-0.428399</td>\n",
       "      <td>-0.193577</td>\n",
       "      <td>-1.797961</td>\n",
       "      <td>-0.751217</td>\n",
       "      <td>0.683144</td>\n",
       "      <td>-0.588646</td>\n",
       "      <td>-0.852186</td>\n",
       "      <td>-0.451730</td>\n",
       "      <td>-0.367770</td>\n",
       "      <td>0.031195</td>\n",
       "    </tr>\n",
       "  </tbody>\n",
       "</table>\n",
       "<p>5 rows × 30 columns</p>\n",
       "</div>"
      ],
      "text/plain": [
       "   FRAUDNET_SCORE  TOTAL_PRICE    PRICE3    PRICE4    PRICE5  NUM_PORTIN  \\\n",
       "0       -0.325847    -0.120883 -0.155987 -0.087572 -0.040743   -1.061545   \n",
       "1       -0.325847    -1.040878 -0.155987 -0.087572 -0.040743    0.240897   \n",
       "2       -0.325847    -0.362564  2.590948 -0.087572 -0.040743    4.148221   \n",
       "3       -0.325847    -1.040878 -0.155987 -0.087572 -0.040743    0.240897   \n",
       "4       -0.325847    -0.037609 -0.155987 -0.087572 -0.040743    0.240897   \n",
       "\n",
       "   ACNT_BILL_FNAME_MATCHES  ACNT_BILL_LNAME_MATCHES  ACNT_SHIP_FNAME_MATCHES  \\\n",
       "0                 0.416314                 0.365419                 0.348549   \n",
       "1                 0.416314                 0.365419                 0.348549   \n",
       "2                 0.416314                 0.365419                 0.348549   \n",
       "3                 0.416314                 0.365419                 0.348549   \n",
       "4                -2.402020                 0.365419                 0.348549   \n",
       "\n",
       "   ACNT_SHIP_LNAME_MATCHES         ...          BYOD_RETRY_COUNT  \\\n",
       "0                 0.322801         ...                 -0.428399   \n",
       "1                 0.322801         ...                  2.334260   \n",
       "2                 0.322801         ...                  2.334260   \n",
       "3                 0.322801         ...                  2.334260   \n",
       "4                 0.322801         ...                 -0.428399   \n",
       "\n",
       "   PREORDER_LINES  ALLOWED_LINES  APPROVED_LINES  EXTERNAL_APPROVED_LINES  \\\n",
       "0       -0.193577      -0.128534       -0.751217                 1.728700   \n",
       "1       -0.193577       0.706180       -0.751217                -0.885189   \n",
       "2       -0.193577       0.706180        1.383215                -0.885189   \n",
       "3       -0.193577       0.706180        1.383215                -0.885189   \n",
       "4       -0.193577      -1.797961       -0.751217                 0.683144   \n",
       "\n",
       "   FIRST_PARTY_ID_SCORE  THIRD_PARTY_ID_SCORE    PRICE1    PRICE2  \\\n",
       "0              0.254690              0.699868 -0.180481 -0.367770   \n",
       "1              0.465524              0.708396  1.040141 -0.367770   \n",
       "2             -1.056148             -0.630464 -0.180481  1.138291   \n",
       "3              0.034689              0.009119 -1.672325 -0.367770   \n",
       "4             -0.588646             -0.852186 -0.451730 -0.367770   \n",
       "\n",
       "   ORDER_CREATED_DATE  \n",
       "0            0.600580  \n",
       "1            0.318066  \n",
       "2            0.547005  \n",
       "3            0.663532  \n",
       "4            0.031195  \n",
       "\n",
       "[5 rows x 30 columns]"
      ]
     },
     "execution_count": 53,
     "metadata": {},
     "output_type": "execute_result"
    }
   ],
   "source": [
    "train_num_df.head()"
   ]
  },
  {
   "cell_type": "code",
   "execution_count": 71,
   "metadata": {},
   "outputs": [
    {
     "name": "stderr",
     "output_type": "stream",
     "text": [
      "/anaconda/envs/azureml_py36/lib/python3.6/site-packages/pandas/core/frame.py:3697: SettingWithCopyWarning: \n",
      "A value is trying to be set on a copy of a slice from a DataFrame\n",
      "\n",
      "See the caveats in the documentation: http://pandas.pydata.org/pandas-docs/stable/indexing.html#indexing-view-versus-copy\n",
      "  errors=errors)\n"
     ]
    }
   ],
   "source": [
    "# lets drop PRICEn and keep only TOATL_PRICE\n",
    "train_num_df.drop(columns=['PRICE1','PRICE2','PRICE3','PRICE4','PRICE5'], inplace=True)"
   ]
  },
  {
   "cell_type": "code",
   "execution_count": 72,
   "metadata": {},
   "outputs": [
    {
     "data": {
      "text/plain": [
       "Index(['FRAUDNET_SCORE', 'TOTAL_PRICE', 'NUM_PORTIN',\n",
       "       'ACNT_BILL_FNAME_MATCHES', 'ACNT_BILL_LNAME_MATCHES',\n",
       "       'ACNT_SHIP_FNAME_MATCHES', 'ACNT_SHIP_LNAME_MATCHES',\n",
       "       'SHIP_BILL_FNAME_MATCHES', 'SHIP_BILL_LNAME_MATCHES',\n",
       "       'BILL_SHIP_ADDR_MATCHES', 'EMAIL', 'IP_ADDRESS', 'PHONE_MATCHES',\n",
       "       'NUM_BYOD', 'INSTALLMENT_AMOUNT', 'ONETIMECHARGE',\n",
       "       'MONTHLYRECURRINGCHARGE', 'BYOD_RETRY_COUNT', 'PREORDER_LINES',\n",
       "       'ALLOWED_LINES', 'APPROVED_LINES', 'EXTERNAL_APPROVED_LINES',\n",
       "       'FIRST_PARTY_ID_SCORE', 'THIRD_PARTY_ID_SCORE', 'ORDER_CREATED_DATE'],\n",
       "      dtype='object')"
      ]
     },
     "execution_count": 72,
     "metadata": {},
     "output_type": "execute_result"
    }
   ],
   "source": [
    "train_num_df.columns"
   ]
  },
  {
   "cell_type": "code",
   "execution_count": 73,
   "metadata": {},
   "outputs": [],
   "source": [
    "embed_df = pd.concat([categorical_embed_df,train_num_df], axis=1)"
   ]
  },
  {
   "cell_type": "code",
   "execution_count": 74,
   "metadata": {},
   "outputs": [
    {
     "data": {
      "text/plain": [
       "(239276, 51)"
      ]
     },
     "execution_count": 74,
     "metadata": {},
     "output_type": "execute_result"
    }
   ],
   "source": [
    "embed_df.shape"
   ]
  },
  {
   "cell_type": "code",
   "execution_count": 75,
   "metadata": {},
   "outputs": [
    {
     "data": {
      "text/plain": [
       "Index(['BILLING_STATE_embed', 'BLACKLIST_EMAIL_embed', 'YELLOW_SKU_embed',\n",
       "       'TPF_HIGH_YELLOW_embed', 'EXTERNAL_CREDIT_CHECK_DONE_embed',\n",
       "       'IS_EXISTING_CUSTOMER_embed', 'FRAUDNET_RESULT_embed',\n",
       "       'LINE_LIMIT_REACHED_embed', 'IDA_RESULT_embed',\n",
       "       'EXPERIAN_RESPONSE_1_embed', 'EXPERIAN_RESPONSE_2_embed',\n",
       "       'SHIPPING_STATE_embed', 'SALES_CHANNEL_embed', 'DEVICE_AT_HOME_embed',\n",
       "       'SSN_BLACKLISTED_embed', 'DENIAL_OF_SERVICES_embed',\n",
       "       'FPF_HIGH_YELLOW_embed', 'SHIPPINGMETHOD_embed',\n",
       "       'INTERNAL_CREDIT_CHECK_DONE_embed', 'ORDER_EXCHANGE_embed', 'SKU_embed',\n",
       "       'BYOD_embed', 'CARRIER_embed', 'MODEL_embed', 'TYPE_embed',\n",
       "       'MAKE_embed', 'FRAUDNET_SCORE', 'TOTAL_PRICE', 'NUM_PORTIN',\n",
       "       'ACNT_BILL_FNAME_MATCHES', 'ACNT_BILL_LNAME_MATCHES',\n",
       "       'ACNT_SHIP_FNAME_MATCHES', 'ACNT_SHIP_LNAME_MATCHES',\n",
       "       'SHIP_BILL_FNAME_MATCHES', 'SHIP_BILL_LNAME_MATCHES',\n",
       "       'BILL_SHIP_ADDR_MATCHES', 'EMAIL', 'IP_ADDRESS', 'PHONE_MATCHES',\n",
       "       'NUM_BYOD', 'INSTALLMENT_AMOUNT', 'ONETIMECHARGE',\n",
       "       'MONTHLYRECURRINGCHARGE', 'BYOD_RETRY_COUNT', 'PREORDER_LINES',\n",
       "       'ALLOWED_LINES', 'APPROVED_LINES', 'EXTERNAL_APPROVED_LINES',\n",
       "       'FIRST_PARTY_ID_SCORE', 'THIRD_PARTY_ID_SCORE', 'ORDER_CREATED_DATE'],\n",
       "      dtype='object')"
      ]
     },
     "execution_count": 75,
     "metadata": {},
     "output_type": "execute_result"
    }
   ],
   "source": [
    "embed_columns = embed_df.columns\n",
    "embed_columns"
   ]
  },
  {
   "cell_type": "code",
   "execution_count": 79,
   "metadata": {},
   "outputs": [],
   "source": [
    "# combine all features into one large vector (51 individual variables)\n",
    "# this is equivalent to a single word in an NLP application\n",
    "def concat_all_fields(row):\n",
    "#     one_vector = np.array([])\n",
    "    all_column_array = []\n",
    "    for column in embed_columns:\n",
    "        all_column_array.append(row[column])\n",
    "        \n",
    "    one_vector = np.hstack(all_column_array)\n",
    "        \n",
    "#     print('one_vector={}'.format(one_vector))\n",
    "    return one_vector"
   ]
  },
  {
   "cell_type": "code",
   "execution_count": 225,
   "metadata": {},
   "outputs": [],
   "source": [
    "# train_category_df['ACCOUNT_NUMBER'].head()"
   ]
  },
  {
   "cell_type": "code",
   "execution_count": 76,
   "metadata": {},
   "outputs": [],
   "source": [
    "embed_one_vector['ACCOUNT_NUMBER'] = train_category_df.loc[:, ['ACCOUNT_NUMBER']]\n",
    "# embed_one_vector = pd.DataFrame(columns=['ACCOUNT_NUMBER'])\n",
    "# embed_one_vector['ACCOUNT_NUMBER'] = train_category_df['ACCOUNT_NUMBER']"
   ]
  },
  {
   "cell_type": "code",
   "execution_count": 77,
   "metadata": {},
   "outputs": [
    {
     "data": {
      "text/html": [
       "<div>\n",
       "<style scoped>\n",
       "    .dataframe tbody tr th:only-of-type {\n",
       "        vertical-align: middle;\n",
       "    }\n",
       "\n",
       "    .dataframe tbody tr th {\n",
       "        vertical-align: top;\n",
       "    }\n",
       "\n",
       "    .dataframe thead th {\n",
       "        text-align: right;\n",
       "    }\n",
       "</style>\n",
       "<table border=\"1\" class=\"dataframe\">\n",
       "  <thead>\n",
       "    <tr style=\"text-align: right;\">\n",
       "      <th></th>\n",
       "      <th>ACCOUNT_NUMBER</th>\n",
       "      <th>embedded</th>\n",
       "    </tr>\n",
       "  </thead>\n",
       "  <tbody>\n",
       "    <tr>\n",
       "      <th>0</th>\n",
       "      <td>716308354</td>\n",
       "      <td>[-0.07455428689718246, 0.01656944677233696, -0...</td>\n",
       "    </tr>\n",
       "    <tr>\n",
       "      <th>1</th>\n",
       "      <td>2387138088</td>\n",
       "      <td>[-0.07455428689718246, 0.01656944677233696, -0...</td>\n",
       "    </tr>\n",
       "    <tr>\n",
       "      <th>2</th>\n",
       "      <td>2297289602</td>\n",
       "      <td>[-0.07455428689718246, 0.01656944677233696, -0...</td>\n",
       "    </tr>\n",
       "    <tr>\n",
       "      <th>3</th>\n",
       "      <td>2747556495</td>\n",
       "      <td>[-0.07455428689718246, 0.01656944677233696, -0...</td>\n",
       "    </tr>\n",
       "    <tr>\n",
       "      <th>4</th>\n",
       "      <td>3159523017</td>\n",
       "      <td>[-0.07455428689718246, 0.01656944677233696, -0...</td>\n",
       "    </tr>\n",
       "  </tbody>\n",
       "</table>\n",
       "</div>"
      ],
      "text/plain": [
       "   ACCOUNT_NUMBER                                           embedded\n",
       "0       716308354  [-0.07455428689718246, 0.01656944677233696, -0...\n",
       "1      2387138088  [-0.07455428689718246, 0.01656944677233696, -0...\n",
       "2      2297289602  [-0.07455428689718246, 0.01656944677233696, -0...\n",
       "3      2747556495  [-0.07455428689718246, 0.01656944677233696, -0...\n",
       "4      3159523017  [-0.07455428689718246, 0.01656944677233696, -0..."
      ]
     },
     "execution_count": 77,
     "metadata": {},
     "output_type": "execute_result"
    }
   ],
   "source": [
    "embed_one_vector.head()"
   ]
  },
  {
   "cell_type": "code",
   "execution_count": 78,
   "metadata": {},
   "outputs": [
    {
     "data": {
      "text/plain": [
       "(239276, 2)"
      ]
     },
     "execution_count": 78,
     "metadata": {},
     "output_type": "execute_result"
    }
   ],
   "source": [
    "embed_one_vector.shape"
   ]
  },
  {
   "cell_type": "code",
   "execution_count": 256,
   "metadata": {},
   "outputs": [
    {
     "data": {
      "text/plain": [
       "array([-0.074554,  0.016569, -0.032478, -0.034625, ...,  1.7287  ,  0.25469 ,  0.699868,  0.60058 ])"
      ]
     },
     "execution_count": 256,
     "metadata": {},
     "output_type": "execute_result"
    }
   ],
   "source": [
    "concat_value = concat_all_fields(embed_df.iloc[0])\n",
    "\n",
    "concat_value"
   ]
  },
  {
   "cell_type": "code",
   "execution_count": 80,
   "metadata": {},
   "outputs": [],
   "source": [
    "# one embedded is equuvalent to a word\n",
    "embed_one_vector['embedded'] = embed_df.apply(lambda x: concat_all_fields(x), axis=1)"
   ]
  },
  {
   "cell_type": "code",
   "execution_count": 82,
   "metadata": {},
   "outputs": [
    {
     "data": {
      "text/plain": [
       "array([-0.074554,  0.016569, -0.032478, -0.034625, ...,  1.7287  ,  0.25469 ,  0.699868,  0.60058 ])"
      ]
     },
     "execution_count": 82,
     "metadata": {},
     "output_type": "execute_result"
    }
   ],
   "source": [
    "embed_one_vector.iloc[0]['embedded']"
   ]
  },
  {
   "cell_type": "code",
   "execution_count": 110,
   "metadata": {},
   "outputs": [
    {
     "data": {
      "text/plain": [
       "263"
      ]
     },
     "execution_count": 110,
     "metadata": {},
     "output_type": "execute_result"
    }
   ],
   "source": [
    "word_dim = len(embed_one_vector.iloc[0]['embedded'])\n",
    "word_dim"
   ]
  },
  {
   "cell_type": "code",
   "execution_count": 84,
   "metadata": {},
   "outputs": [
    {
     "data": {
      "text/plain": [
       "(239276, 2)"
      ]
     },
     "execution_count": 84,
     "metadata": {},
     "output_type": "execute_result"
    }
   ],
   "source": [
    "embed_one_vector.shape"
   ]
  },
  {
   "cell_type": "code",
   "execution_count": 85,
   "metadata": {},
   "outputs": [
    {
     "data": {
      "text/html": [
       "<div>\n",
       "<style scoped>\n",
       "    .dataframe tbody tr th:only-of-type {\n",
       "        vertical-align: middle;\n",
       "    }\n",
       "\n",
       "    .dataframe tbody tr th {\n",
       "        vertical-align: top;\n",
       "    }\n",
       "\n",
       "    .dataframe thead th {\n",
       "        text-align: right;\n",
       "    }\n",
       "</style>\n",
       "<table border=\"1\" class=\"dataframe\">\n",
       "  <thead>\n",
       "    <tr style=\"text-align: right;\">\n",
       "      <th></th>\n",
       "      <th>ACCOUNT_NUMBER</th>\n",
       "      <th>embedded</th>\n",
       "    </tr>\n",
       "  </thead>\n",
       "  <tbody>\n",
       "    <tr>\n",
       "      <th>0</th>\n",
       "      <td>716308354</td>\n",
       "      <td>[-0.07455428689718246, 0.01656944677233696, -0...</td>\n",
       "    </tr>\n",
       "    <tr>\n",
       "      <th>1</th>\n",
       "      <td>2387138088</td>\n",
       "      <td>[-0.07455428689718246, 0.01656944677233696, -0...</td>\n",
       "    </tr>\n",
       "    <tr>\n",
       "      <th>2</th>\n",
       "      <td>2297289602</td>\n",
       "      <td>[-0.07455428689718246, 0.01656944677233696, -0...</td>\n",
       "    </tr>\n",
       "    <tr>\n",
       "      <th>3</th>\n",
       "      <td>2747556495</td>\n",
       "      <td>[-0.07455428689718246, 0.01656944677233696, -0...</td>\n",
       "    </tr>\n",
       "    <tr>\n",
       "      <th>4</th>\n",
       "      <td>3159523017</td>\n",
       "      <td>[-0.07455428689718246, 0.01656944677233696, -0...</td>\n",
       "    </tr>\n",
       "  </tbody>\n",
       "</table>\n",
       "</div>"
      ],
      "text/plain": [
       "   ACCOUNT_NUMBER                                           embedded\n",
       "0       716308354  [-0.07455428689718246, 0.01656944677233696, -0...\n",
       "1      2387138088  [-0.07455428689718246, 0.01656944677233696, -0...\n",
       "2      2297289602  [-0.07455428689718246, 0.01656944677233696, -0...\n",
       "3      2747556495  [-0.07455428689718246, 0.01656944677233696, -0...\n",
       "4      3159523017  [-0.07455428689718246, 0.01656944677233696, -0..."
      ]
     },
     "execution_count": 85,
     "metadata": {},
     "output_type": "execute_result"
    }
   ],
   "source": [
    "embed_one_vector.head()"
   ]
  },
  {
   "cell_type": "code",
   "execution_count": 86,
   "metadata": {},
   "outputs": [],
   "source": [
    "unique_accounts = embed_one_vector['ACCOUNT_NUMBER'].unique()"
   ]
  },
  {
   "cell_type": "code",
   "execution_count": 87,
   "metadata": {},
   "outputs": [
    {
     "data": {
      "text/plain": [
       "array([ 716308354, 2387138088, 2297289602, 2747556495, ..., 1170435558, 1612196229, 1450419129, 1699168859])"
      ]
     },
     "execution_count": 87,
     "metadata": {},
     "output_type": "execute_result"
    }
   ],
   "source": [
    "unique_accounts"
   ]
  },
  {
   "cell_type": "code",
   "execution_count": 88,
   "metadata": {},
   "outputs": [
    {
     "data": {
      "text/plain": [
       "191927"
      ]
     },
     "execution_count": 88,
     "metadata": {},
     "output_type": "execute_result"
    }
   ],
   "source": [
    "len(unique_accounts)"
   ]
  },
  {
   "cell_type": "code",
   "execution_count": 94,
   "metadata": {},
   "outputs": [
    {
     "data": {
      "text/html": [
       "<div>\n",
       "<style scoped>\n",
       "    .dataframe tbody tr th:only-of-type {\n",
       "        vertical-align: middle;\n",
       "    }\n",
       "\n",
       "    .dataframe tbody tr th {\n",
       "        vertical-align: top;\n",
       "    }\n",
       "\n",
       "    .dataframe thead th {\n",
       "        text-align: right;\n",
       "    }\n",
       "</style>\n",
       "<table border=\"1\" class=\"dataframe\">\n",
       "  <thead>\n",
       "    <tr style=\"text-align: right;\">\n",
       "      <th></th>\n",
       "      <th>ACCOUNT_NUMBER</th>\n",
       "      <th>embedded</th>\n",
       "      <th>ORDER_CREATED_DATE</th>\n",
       "    </tr>\n",
       "  </thead>\n",
       "  <tbody>\n",
       "    <tr>\n",
       "      <th>0</th>\n",
       "      <td>716308354</td>\n",
       "      <td>[-0.07455428689718246, 0.01656944677233696, -0...</td>\n",
       "      <td>0.600580</td>\n",
       "    </tr>\n",
       "    <tr>\n",
       "      <th>1</th>\n",
       "      <td>2387138088</td>\n",
       "      <td>[-0.07455428689718246, 0.01656944677233696, -0...</td>\n",
       "      <td>0.318066</td>\n",
       "    </tr>\n",
       "    <tr>\n",
       "      <th>2</th>\n",
       "      <td>2297289602</td>\n",
       "      <td>[-0.07455428689718246, 0.01656944677233696, -0...</td>\n",
       "      <td>0.547005</td>\n",
       "    </tr>\n",
       "    <tr>\n",
       "      <th>3</th>\n",
       "      <td>2747556495</td>\n",
       "      <td>[-0.07455428689718246, 0.01656944677233696, -0...</td>\n",
       "      <td>0.663532</td>\n",
       "    </tr>\n",
       "    <tr>\n",
       "      <th>4</th>\n",
       "      <td>3159523017</td>\n",
       "      <td>[-0.07455428689718246, 0.01656944677233696, -0...</td>\n",
       "      <td>0.031195</td>\n",
       "    </tr>\n",
       "  </tbody>\n",
       "</table>\n",
       "</div>"
      ],
      "text/plain": [
       "   ACCOUNT_NUMBER                                           embedded  \\\n",
       "0       716308354  [-0.07455428689718246, 0.01656944677233696, -0...   \n",
       "1      2387138088  [-0.07455428689718246, 0.01656944677233696, -0...   \n",
       "2      2297289602  [-0.07455428689718246, 0.01656944677233696, -0...   \n",
       "3      2747556495  [-0.07455428689718246, 0.01656944677233696, -0...   \n",
       "4      3159523017  [-0.07455428689718246, 0.01656944677233696, -0...   \n",
       "\n",
       "   ORDER_CREATED_DATE  \n",
       "0            0.600580  \n",
       "1            0.318066  \n",
       "2            0.547005  \n",
       "3            0.663532  \n",
       "4            0.031195  "
      ]
     },
     "execution_count": 94,
     "metadata": {},
     "output_type": "execute_result"
    }
   ],
   "source": [
    "# add order date into embed_one_vector\n",
    "embed_one_vector['ORDER_CREATED_DATE'] = embed_df['ORDER_CREATED_DATE']\n",
    "embed_one_vector.head()"
   ]
  },
  {
   "cell_type": "code",
   "execution_count": 111,
   "metadata": {},
   "outputs": [],
   "source": [
    "zero_vector = [0] * word_dim"
   ]
  },
  {
   "cell_type": "code",
   "execution_count": 112,
   "metadata": {},
   "outputs": [],
   "source": [
    "sentence_dim = 50"
   ]
  },
  {
   "cell_type": "code",
   "execution_count": 101,
   "metadata": {},
   "outputs": [],
   "source": [
    "# need to combine all words of an account into a sentence in chronological order\n",
    "# let's sort by date before doing groupby\n",
    "embed_one_vector.sort_values(['ACCOUNT_NUMBER','ORDER_CREATED_DATE'], inplace=True)\n"
   ]
  },
  {
   "cell_type": "code",
   "execution_count": 199,
   "metadata": {},
   "outputs": [],
   "source": [
    "def np_concat_words(x):\n",
    "    xvalues = x.values\n",
    "    \n",
    "    input_x = np.empty((0, word_dim), float)\n",
    "    for xvalue in xvalues:\n",
    "#         print('xvalue={}'.format(xvalue))\n",
    "        input_x = np.vstack((input_x, xvalue))\n",
    "        \n",
    "#     print('input_x shape={}'.format(input_x.shape))\n",
    "\n",
    "    fill_array = np.zeros(((sentence_dim - len(xvalues)), word_dim))\n",
    "#     print('fill_array={}'.format(fill_array))\n",
    "    total_array = np.vstack((input_x, fill_array))\n",
    "#     print('len total_array={}'.format(len(total_array)))\n",
    "    return total_array"
   ]
  },
  {
   "cell_type": "code",
   "execution_count": 200,
   "metadata": {},
   "outputs": [],
   "source": [
    "# embed_one_vector.groupby('ACCOUNT_NUMBER').embedded.head()"
   ]
  },
  {
   "cell_type": "code",
   "execution_count": 202,
   "metadata": {},
   "outputs": [],
   "source": [
    "embed_sequence = embed_one_vector.groupby('ACCOUNT_NUMBER').embedded.apply(np_concat_words)"
   ]
  },
  {
   "cell_type": "code",
   "execution_count": 207,
   "metadata": {},
   "outputs": [],
   "source": [
    "embed_sequence_df = embed_sequence.reset_index()"
   ]
  },
  {
   "cell_type": "code",
   "execution_count": 208,
   "metadata": {},
   "outputs": [
    {
     "data": {
      "text/html": [
       "<div>\n",
       "<style scoped>\n",
       "    .dataframe tbody tr th:only-of-type {\n",
       "        vertical-align: middle;\n",
       "    }\n",
       "\n",
       "    .dataframe tbody tr th {\n",
       "        vertical-align: top;\n",
       "    }\n",
       "\n",
       "    .dataframe thead th {\n",
       "        text-align: right;\n",
       "    }\n",
       "</style>\n",
       "<table border=\"1\" class=\"dataframe\">\n",
       "  <thead>\n",
       "    <tr style=\"text-align: right;\">\n",
       "      <th></th>\n",
       "      <th>ACCOUNT_NUMBER</th>\n",
       "      <th>embedded</th>\n",
       "    </tr>\n",
       "  </thead>\n",
       "  <tbody>\n",
       "    <tr>\n",
       "      <th>0</th>\n",
       "      <td>571</td>\n",
       "      <td>[[-0.004236409906297922, 0.008305749855935574,...</td>\n",
       "    </tr>\n",
       "    <tr>\n",
       "      <th>1</th>\n",
       "      <td>9660</td>\n",
       "      <td>[[-0.04253508150577545, 0.01460204366594553, 0...</td>\n",
       "    </tr>\n",
       "    <tr>\n",
       "      <th>2</th>\n",
       "      <td>49364</td>\n",
       "      <td>[[-0.03787398710846901, -0.00512707931920886, ...</td>\n",
       "    </tr>\n",
       "    <tr>\n",
       "      <th>3</th>\n",
       "      <td>73801</td>\n",
       "      <td>[[-0.04452809691429138, 0.10258151590824127, -...</td>\n",
       "    </tr>\n",
       "    <tr>\n",
       "      <th>4</th>\n",
       "      <td>141229</td>\n",
       "      <td>[[-0.03787398710846901, -0.00512707931920886, ...</td>\n",
       "    </tr>\n",
       "  </tbody>\n",
       "</table>\n",
       "</div>"
      ],
      "text/plain": [
       "   ACCOUNT_NUMBER                                           embedded\n",
       "0             571  [[-0.004236409906297922, 0.008305749855935574,...\n",
       "1            9660  [[-0.04253508150577545, 0.01460204366594553, 0...\n",
       "2           49364  [[-0.03787398710846901, -0.00512707931920886, ...\n",
       "3           73801  [[-0.04452809691429138, 0.10258151590824127, -...\n",
       "4          141229  [[-0.03787398710846901, -0.00512707931920886, ..."
      ]
     },
     "execution_count": 208,
     "metadata": {},
     "output_type": "execute_result"
    }
   ],
   "source": [
    "embed_sequence_df.head()"
   ]
  },
  {
   "cell_type": "code",
   "execution_count": 259,
   "metadata": {},
   "outputs": [
    {
     "data": {
      "text/plain": [
       "(50, 263)"
      ]
     },
     "execution_count": 259,
     "metadata": {},
     "output_type": "execute_result"
    }
   ],
   "source": [
    "first_embed = embed_sequence_df.iloc[0]['embedded']\n",
    "\n",
    "first_embed.shape"
   ]
  },
  {
   "cell_type": "code",
   "execution_count": 231,
   "metadata": {},
   "outputs": [],
   "source": [
    "probability = 0.2\n",
    "def random_label(x):\n",
    "    random_number = random.random()\n",
    "#     print('random_number={}'.format(random_number))\n",
    "    return random_number < probability"
   ]
  },
  {
   "cell_type": "code",
   "execution_count": 232,
   "metadata": {},
   "outputs": [],
   "source": [
    "# use random label for now, because still don't have good ivr data\n",
    "embed_sequence_df['label'] = embed_sequence_df.apply(lambda x: random_label(x), axis=1)"
   ]
  },
  {
   "cell_type": "code",
   "execution_count": 240,
   "metadata": {},
   "outputs": [
    {
     "data": {
      "text/html": [
       "<div>\n",
       "<style scoped>\n",
       "    .dataframe tbody tr th:only-of-type {\n",
       "        vertical-align: middle;\n",
       "    }\n",
       "\n",
       "    .dataframe tbody tr th {\n",
       "        vertical-align: top;\n",
       "    }\n",
       "\n",
       "    .dataframe thead th {\n",
       "        text-align: right;\n",
       "    }\n",
       "</style>\n",
       "<table border=\"1\" class=\"dataframe\">\n",
       "  <thead>\n",
       "    <tr style=\"text-align: right;\">\n",
       "      <th></th>\n",
       "      <th>ACCOUNT_NUMBER</th>\n",
       "      <th>embedded</th>\n",
       "      <th>label</th>\n",
       "    </tr>\n",
       "  </thead>\n",
       "  <tbody>\n",
       "    <tr>\n",
       "      <th>0</th>\n",
       "      <td>571</td>\n",
       "      <td>[[-0.004236409906297922, 0.008305749855935574,...</td>\n",
       "      <td>False</td>\n",
       "    </tr>\n",
       "    <tr>\n",
       "      <th>1</th>\n",
       "      <td>9660</td>\n",
       "      <td>[[-0.04253508150577545, 0.01460204366594553, 0...</td>\n",
       "      <td>False</td>\n",
       "    </tr>\n",
       "    <tr>\n",
       "      <th>2</th>\n",
       "      <td>49364</td>\n",
       "      <td>[[-0.03787398710846901, -0.00512707931920886, ...</td>\n",
       "      <td>False</td>\n",
       "    </tr>\n",
       "    <tr>\n",
       "      <th>3</th>\n",
       "      <td>73801</td>\n",
       "      <td>[[-0.04452809691429138, 0.10258151590824127, -...</td>\n",
       "      <td>False</td>\n",
       "    </tr>\n",
       "    <tr>\n",
       "      <th>4</th>\n",
       "      <td>141229</td>\n",
       "      <td>[[-0.03787398710846901, -0.00512707931920886, ...</td>\n",
       "      <td>False</td>\n",
       "    </tr>\n",
       "  </tbody>\n",
       "</table>\n",
       "</div>"
      ],
      "text/plain": [
       "   ACCOUNT_NUMBER                                           embedded  label\n",
       "0             571  [[-0.004236409906297922, 0.008305749855935574,...  False\n",
       "1            9660  [[-0.04253508150577545, 0.01460204366594553, 0...  False\n",
       "2           49364  [[-0.03787398710846901, -0.00512707931920886, ...  False\n",
       "3           73801  [[-0.04452809691429138, 0.10258151590824127, -...  False\n",
       "4          141229  [[-0.03787398710846901, -0.00512707931920886, ...  False"
      ]
     },
     "execution_count": 240,
     "metadata": {},
     "output_type": "execute_result"
    }
   ],
   "source": [
    "# label means called (True) or not called (False) by the account user\n",
    "embed_sequence_df.head()"
   ]
  },
  {
   "cell_type": "code",
   "execution_count": 234,
   "metadata": {},
   "outputs": [
    {
     "data": {
      "text/plain": [
       "(191927, 3)"
      ]
     },
     "execution_count": 234,
     "metadata": {},
     "output_type": "execute_result"
    }
   ],
   "source": [
    "embed_sequence_df.shape"
   ]
  },
  {
   "cell_type": "code",
   "execution_count": 236,
   "metadata": {},
   "outputs": [],
   "source": [
    "# embed_sequence_df.to_csv('ivr_backup_data/embed_sequence_df.csv')"
   ]
  },
  {
   "cell_type": "code",
   "execution_count": 237,
   "metadata": {},
   "outputs": [],
   "source": [
    "with open('ivr_backup_data/embed_sequence_df.pkl','wb') as embed_sequence_pkl:\n",
    "    pkl.dump(embed_sequence_df, embed_sequence_pkl)"
   ]
  },
  {
   "cell_type": "code",
   "execution_count": 238,
   "metadata": {},
   "outputs": [],
   "source": [
    "# get a reduced data set for testing\n",
    "reduced_embed_sequence = embed_sequence_df.sample(n=2000)"
   ]
  },
  {
   "cell_type": "code",
   "execution_count": 275,
   "metadata": {},
   "outputs": [],
   "source": [
    "with open('ivr_backup_data/reduced_embed_sequence_df.pkl','wb') as reduced_embed_sequence_pkl:\n",
    "    pkl.dump(reduced_embed_sequence, reduced_embed_sequence_pkl)"
   ]
  },
  {
   "cell_type": "code",
   "execution_count": 243,
   "metadata": {},
   "outputs": [
    {
     "data": {
      "text/html": [
       "<div>\n",
       "<style scoped>\n",
       "    .dataframe tbody tr th:only-of-type {\n",
       "        vertical-align: middle;\n",
       "    }\n",
       "\n",
       "    .dataframe tbody tr th {\n",
       "        vertical-align: top;\n",
       "    }\n",
       "\n",
       "    .dataframe thead th {\n",
       "        text-align: right;\n",
       "    }\n",
       "</style>\n",
       "<table border=\"1\" class=\"dataframe\">\n",
       "  <thead>\n",
       "    <tr style=\"text-align: right;\">\n",
       "      <th></th>\n",
       "      <th>ACCOUNT_NUMBER</th>\n",
       "      <th>embedded</th>\n",
       "      <th>label</th>\n",
       "    </tr>\n",
       "  </thead>\n",
       "  <tbody>\n",
       "    <tr>\n",
       "      <th>39170</th>\n",
       "      <td>876503235</td>\n",
       "      <td>[[-0.004236409906297922, 0.008305749855935574,...</td>\n",
       "      <td>False</td>\n",
       "    </tr>\n",
       "    <tr>\n",
       "      <th>149770</th>\n",
       "      <td>3347797337</td>\n",
       "      <td>[[0.06941620260477066, 0.0075980802066624165, ...</td>\n",
       "      <td>True</td>\n",
       "    </tr>\n",
       "    <tr>\n",
       "      <th>144452</th>\n",
       "      <td>3229798785</td>\n",
       "      <td>[[0.040991246700286865, -0.033048197627067566,...</td>\n",
       "      <td>False</td>\n",
       "    </tr>\n",
       "    <tr>\n",
       "      <th>145542</th>\n",
       "      <td>3253926381</td>\n",
       "      <td>[[-0.04363565146923065, 0.04697321727871895, -...</td>\n",
       "      <td>False</td>\n",
       "    </tr>\n",
       "    <tr>\n",
       "      <th>82454</th>\n",
       "      <td>1840617868</td>\n",
       "      <td>[[-0.06808032840490341, -0.07009082287549973, ...</td>\n",
       "      <td>False</td>\n",
       "    </tr>\n",
       "  </tbody>\n",
       "</table>\n",
       "</div>"
      ],
      "text/plain": [
       "        ACCOUNT_NUMBER                                           embedded  \\\n",
       "39170        876503235  [[-0.004236409906297922, 0.008305749855935574,...   \n",
       "149770      3347797337  [[0.06941620260477066, 0.0075980802066624165, ...   \n",
       "144452      3229798785  [[0.040991246700286865, -0.033048197627067566,...   \n",
       "145542      3253926381  [[-0.04363565146923065, 0.04697321727871895, -...   \n",
       "82454       1840617868  [[-0.06808032840490341, -0.07009082287549973, ...   \n",
       "\n",
       "        label  \n",
       "39170   False  \n",
       "149770   True  \n",
       "144452  False  \n",
       "145542  False  \n",
       "82454   False  "
      ]
     },
     "execution_count": 243,
     "metadata": {},
     "output_type": "execute_result"
    }
   ],
   "source": [
    "reduced_embed_sequence.head()"
   ]
  },
  {
   "cell_type": "code",
   "execution_count": 280,
   "metadata": {},
   "outputs": [],
   "source": [
    "reduced_train_set, reduced_test_df = train_test_split(reduced_embed_sequence, test_size=0.2)\n"
   ]
  },
  {
   "cell_type": "code",
   "execution_count": 281,
   "metadata": {},
   "outputs": [],
   "source": [
    "with open('ivr_backup_data/reduced_train_sequence_df.pkl','wb') as reduced_train_sequence_pkl:\n",
    "    pkl.dump(reduced_train_set, reduced_train_sequence_pkl)\n",
    "with open('ivr_backup_data/reduced_test_sequence_df.pkl','wb') as reduced_test_sequence_pkl:\n",
    "    pkl.dump(reduced_test_df, reduced_test_sequence_pkl)"
   ]
  },
  {
   "cell_type": "code",
   "execution_count": 245,
   "metadata": {},
   "outputs": [],
   "source": [
    "import torch\n",
    "from torch.utils import data\n",
    "\n",
    "embedded_tensors = reduced_embed_sequence['embedded'].values\n",
    "\n",
    "# tensorData = torch.as_tensor(reduced_embed_sequence.values, dtype=torch.float32)"
   ]
  },
  {
   "cell_type": "code",
   "execution_count": 274,
   "metadata": {},
   "outputs": [
    {
     "data": {
      "text/plain": [
       "(2000, 50, 263)"
      ]
     },
     "execution_count": 274,
     "metadata": {},
     "output_type": "execute_result"
    }
   ],
   "source": [
    "batched_tensor = np.empty((0, sentence_dim, word_dim), float)\n",
    "# print('input_x shape={}'.format(input_x.shape))\n",
    "for embedded_tensor in embedded_tensors:\n",
    "    expanded_tensor = np.expand_dims(embedded_tensor, axis=0)\n",
    "#     print('expanded_tensor shape={}'.format(expanded_tensor.shape))\n",
    "    batched_tensor = np.vstack((batched_tensor, expanded_tensor))\n",
    "\n",
    "batched_tensor.shape"
   ]
  },
  {
   "cell_type": "code",
   "execution_count": 273,
   "metadata": {},
   "outputs": [
    {
     "data": {
      "text/plain": [
       "torch.Size([2000])"
      ]
     },
     "execution_count": 273,
     "metadata": {},
     "output_type": "execute_result"
    }
   ],
   "source": [
    "label_tensors = reduced_embed_sequence['label'].values\n",
    "tensor_label = torch.as_tensor(label_tensors, dtype=torch.float32)\n",
    "\n",
    "tensor_label.shape"
   ]
  },
  {
   "cell_type": "code",
   "execution_count": 261,
   "metadata": {},
   "outputs": [],
   "source": [
    "# reduced_embed_sequence['embedded']"
   ]
  },
  {
   "cell_type": "code",
   "execution_count": 246,
   "metadata": {},
   "outputs": [
    {
     "data": {
      "text/plain": [
       "numpy.ndarray"
      ]
     },
     "execution_count": 246,
     "metadata": {},
     "output_type": "execute_result"
    }
   ],
   "source": [
    "type(embedded_tensors)"
   ]
  },
  {
   "cell_type": "code",
   "execution_count": 247,
   "metadata": {},
   "outputs": [
    {
     "data": {
      "text/plain": [
       "(2000,)"
      ]
     },
     "execution_count": 247,
     "metadata": {},
     "output_type": "execute_result"
    }
   ],
   "source": [
    "embedded_tensors.shape"
   ]
  },
  {
   "cell_type": "code",
   "execution_count": 255,
   "metadata": {},
   "outputs": [
    {
     "data": {
      "text/plain": [
       "array([array([[-0.004236,  0.008306, -0.070034, -0.105562, ...,  1.205922,  1.721361,  2.823282, -1.860449],\n",
       "       [ 0.      ,  0.      ,  0.      ,  0.      , ...,  0.      ,  0.      ,  0.      ,  0.      ],\n",
       "       [ 0.      ,  0.      ,  0.      ,  0.      , ...,  0.      ,  0.      ,  0.      ,  0.      ],\n",
       "       [ 0.      ,  0.      ,  0.      ,  0.      , ...,  0.      ,  0.      ,  0.      ,  0.      ],\n",
       "       ...,\n",
       "       [ 0.      ,  0.      ,  0.      ,  0.      , ...,  0.      ,  0.      ,  0.      ,  0.      ],\n",
       "       [ 0.      ,  0.      ,  0.      ,  0.      , ...,  0.      ,  0.      ,  0.      ,  0.      ],\n",
       "       [ 0.      ,  0.      ,  0.      ,  0.      , ...,  0.      ,  0.      ,  0.      ,  0.      ],\n",
       "       [ 0.      ,  0.      ,  0.      ,  0.      , ...,  0.      ,  0.      ,  0.      ,  0.      ]]),\n",
       "       array([[ 0.069416,  0.007598, -0.093778, -0.014586, ...,  0.683144, -0.579479, -0.442853, -1.616451],\n",
       "       [ 0.      ,  0.      ,  0.      ,  0.      , ...,  0.      ,  0.      ,  0.      ,  0.      ],\n",
       "       [ 0.      ,  0.      ,  0.      ,  0.      , ...,  0.      ,  0.      ,  0.      ,  0.      ],\n",
       "       [ 0.      ,  0.      ,  0.      ,  0.      , ...,  0.      ,  0.      ,  0.      ,  0.      ],\n",
       "       ...,\n",
       "       [ 0.      ,  0.      ,  0.      ,  0.      , ...,  0.      ,  0.      ,  0.      ,  0.      ],\n",
       "       [ 0.      ,  0.      ,  0.      ,  0.      , ...,  0.      ,  0.      ,  0.      ,  0.      ],\n",
       "       [ 0.      ,  0.      ,  0.      ,  0.      , ...,  0.      ,  0.      ,  0.      ,  0.      ],\n",
       "       [ 0.      ,  0.      ,  0.      ,  0.      , ...,  0.      ,  0.      ,  0.      ,  0.      ]]),\n",
       "       array([[ 0.040991, -0.033048, -0.047044, -0.056117, ..., -0.362411,  2.610531,  1.740256, -1.306165],\n",
       "       [ 0.      ,  0.      ,  0.      ,  0.      , ...,  0.      ,  0.      ,  0.      ,  0.      ],\n",
       "       [ 0.      ,  0.      ,  0.      ,  0.      , ...,  0.      ,  0.      ,  0.      ,  0.      ],\n",
       "       [ 0.      ,  0.      ,  0.      ,  0.      , ...,  0.      ,  0.      ,  0.      ,  0.      ],\n",
       "       ...,\n",
       "       [ 0.      ,  0.      ,  0.      ,  0.      , ...,  0.      ,  0.      ,  0.      ,  0.      ],\n",
       "       [ 0.      ,  0.      ,  0.      ,  0.      , ...,  0.      ,  0.      ,  0.      ,  0.      ],\n",
       "       [ 0.      ,  0.      ,  0.      ,  0.      , ...,  0.      ,  0.      ,  0.      ,  0.      ],\n",
       "       [ 0.      ,  0.      ,  0.      ,  0.      , ...,  0.      ,  0.      ,  0.      ,  0.      ]]),\n",
       "       array([[-0.043636,  0.046973, -0.009222, -0.011786, ...,  0.160367,  0.694691,  1.211534,  0.804553],\n",
       "       [ 0.      ,  0.      ,  0.      ,  0.      , ...,  0.      ,  0.      ,  0.      ,  0.      ],\n",
       "       [ 0.      ,  0.      ,  0.      ,  0.      , ...,  0.      ,  0.      ,  0.      ,  0.      ],\n",
       "       [ 0.      ,  0.      ,  0.      ,  0.      , ...,  0.      ,  0.      ,  0.      ,  0.      ],\n",
       "       ...,\n",
       "       [ 0.      ,  0.      ,  0.      ,  0.      , ...,  0.      ,  0.      ,  0.      ,  0.      ],\n",
       "       [ 0.      ,  0.      ,  0.      ,  0.      , ...,  0.      ,  0.      ,  0.      ,  0.      ],\n",
       "       [ 0.      ,  0.      ,  0.      ,  0.      , ...,  0.      ,  0.      ,  0.      ,  0.      ],\n",
       "       [ 0.      ,  0.      ,  0.      ,  0.      , ...,  0.      ,  0.      ,  0.      ,  0.      ]]),\n",
       "       ...,\n",
       "       array([[-0.053643, -0.026168, -0.007645, -0.057017, ...,  1.205922, -0.460312, -0.732797,  0.427257],\n",
       "       [ 0.      ,  0.      ,  0.      ,  0.      , ...,  0.      ,  0.      ,  0.      ,  0.      ],\n",
       "       [ 0.      ,  0.      ,  0.      ,  0.      , ...,  0.      ,  0.      ,  0.      ,  0.      ],\n",
       "       [ 0.      ,  0.      ,  0.      ,  0.      , ...,  0.      ,  0.      ,  0.      ,  0.      ],\n",
       "       ...,\n",
       "       [ 0.      ,  0.      ,  0.      ,  0.      , ...,  0.      ,  0.      ,  0.      ,  0.      ],\n",
       "       [ 0.      ,  0.      ,  0.      ,  0.      , ...,  0.      ,  0.      ,  0.      ,  0.      ],\n",
       "       [ 0.      ,  0.      ,  0.      ,  0.      , ...,  0.      ,  0.      ,  0.      ,  0.      ],\n",
       "       [ 0.      ,  0.      ,  0.      ,  0.      , ...,  0.      ,  0.      ,  0.      ,  0.      ]]),\n",
       "       array([[-0.074554,  0.016569, -0.032478, -0.034625, ..., -0.885189, -0.102811, -0.809547, -1.2699  ],\n",
       "       [ 0.      ,  0.      ,  0.      ,  0.      , ...,  0.      ,  0.      ,  0.      ,  0.      ],\n",
       "       [ 0.      ,  0.      ,  0.      ,  0.      , ...,  0.      ,  0.      ,  0.      ,  0.      ],\n",
       "       [ 0.      ,  0.      ,  0.      ,  0.      , ...,  0.      ,  0.      ,  0.      ,  0.      ],\n",
       "       ...,\n",
       "       [ 0.      ,  0.      ,  0.      ,  0.      , ...,  0.      ,  0.      ,  0.      ,  0.      ],\n",
       "       [ 0.      ,  0.      ,  0.      ,  0.      , ...,  0.      ,  0.      ,  0.      ,  0.      ],\n",
       "       [ 0.      ,  0.      ,  0.      ,  0.      , ...,  0.      ,  0.      ,  0.      ,  0.      ],\n",
       "       [ 0.      ,  0.      ,  0.      ,  0.      , ...,  0.      ,  0.      ,  0.      ,  0.      ]]),\n",
       "       array([[ 0.032188,  0.078641, -0.047317, -0.021417, ..., -0.885189,  2.52803 ,  1.203006, -0.476886],\n",
       "       [ 0.      ,  0.      ,  0.      ,  0.      , ...,  0.      ,  0.      ,  0.      ,  0.      ],\n",
       "       [ 0.      ,  0.      ,  0.      ,  0.      , ...,  0.      ,  0.      ,  0.      ,  0.      ],\n",
       "       [ 0.      ,  0.      ,  0.      ,  0.      , ...,  0.      ,  0.      ,  0.      ,  0.      ],\n",
       "       ...,\n",
       "       [ 0.      ,  0.      ,  0.      ,  0.      , ...,  0.      ,  0.      ,  0.      ,  0.      ],\n",
       "       [ 0.      ,  0.      ,  0.      ,  0.      , ...,  0.      ,  0.      ,  0.      ,  0.      ],\n",
       "       [ 0.      ,  0.      ,  0.      ,  0.      , ...,  0.      ,  0.      ,  0.      ,  0.      ],\n",
       "       [ 0.      ,  0.      ,  0.      ,  0.      , ...,  0.      ,  0.      ,  0.      ,  0.      ]]),\n",
       "       array([[-3.928041e-02, -8.092565e-03, -7.803433e-04, -7.806501e-02, ..., -8.851889e-01, -2.036449e-01, -8.607138e-01,\n",
       "         1.172535e+00],\n",
       "       [ 0.000000e+00,  0.000000e+00,  0.000000e+00,  0.000000e+00, ...,  0.000000e+00,  0.000000e+00,  0.000000e+00,\n",
       "         0.000000e+00],\n",
       "       [ 0.000000e+00,  0.000000e+00,  0.000000e+00,  0.000000e+00, ...,  0.000000e+00,  0.000000e+00,  0.000000e+00,\n",
       "         0.000000e+00],\n",
       "       [ 0.000000e+00,  0.000000e+00,  0.000000e+00,  0.000000e+00, ...,  0.000000e+00,  0.000000e+00,  0.000000e+00,\n",
       "         0.000000e+00],\n",
       "       ...,\n",
       "       [ 0.000000e+00,  0.000000e+00,  0.000000e+00,  0.000000e+00, ...,  0.000000e+00,  0.000000e+00,  0.000000e+00,\n",
       "         0.000000e+00],\n",
       "       [ 0.000000e+00,  0.000000e+00,  0.000000e+00,  0.000000e+00, ...,  0.000000e+00,  0.000000e+00,  0.000000e+00,\n",
       "         0.000000e+00],\n",
       "       [ 0.000000e+00,  0.000000e+00,  0.000000e+00,  0.000000e+00, ...,  0.000000e+00,  0.000000e+00,  0.000000e+00,\n",
       "         0.000000e+00],\n",
       "       [ 0.000000e+00,  0.000000e+00,  0.000000e+00,  0.000000e+00, ...,  0.000000e+00,  0.000000e+00,  0.000000e+00,\n",
       "         0.000000e+00]])], dtype=object)"
      ]
     },
     "execution_count": 255,
     "metadata": {},
     "output_type": "execute_result"
    }
   ],
   "source": [
    "embedded_tensors"
   ]
  },
  {
   "cell_type": "code",
   "execution_count": 248,
   "metadata": {},
   "outputs": [
    {
     "data": {
      "text/plain": [
       "array([[-0.004236,  0.008306, -0.070034, -0.105562, ...,  1.205922,  1.721361,  2.823282, -1.860449],\n",
       "       [ 0.      ,  0.      ,  0.      ,  0.      , ...,  0.      ,  0.      ,  0.      ,  0.      ],\n",
       "       [ 0.      ,  0.      ,  0.      ,  0.      , ...,  0.      ,  0.      ,  0.      ,  0.      ],\n",
       "       [ 0.      ,  0.      ,  0.      ,  0.      , ...,  0.      ,  0.      ,  0.      ,  0.      ],\n",
       "       ...,\n",
       "       [ 0.      ,  0.      ,  0.      ,  0.      , ...,  0.      ,  0.      ,  0.      ,  0.      ],\n",
       "       [ 0.      ,  0.      ,  0.      ,  0.      , ...,  0.      ,  0.      ,  0.      ,  0.      ],\n",
       "       [ 0.      ,  0.      ,  0.      ,  0.      , ...,  0.      ,  0.      ,  0.      ,  0.      ],\n",
       "       [ 0.      ,  0.      ,  0.      ,  0.      , ...,  0.      ,  0.      ,  0.      ,  0.      ]])"
      ]
     },
     "execution_count": 248,
     "metadata": {},
     "output_type": "execute_result"
    }
   ],
   "source": [
    "embedded_tensors[0]"
   ]
  },
  {
   "cell_type": "code",
   "execution_count": 252,
   "metadata": {},
   "outputs": [
    {
     "data": {
      "text/plain": [
       "numpy.ndarray"
      ]
     },
     "execution_count": 252,
     "metadata": {},
     "output_type": "execute_result"
    }
   ],
   "source": [
    "type(embedded_tensors[0])"
   ]
  },
  {
   "cell_type": "code",
   "execution_count": 253,
   "metadata": {},
   "outputs": [
    {
     "data": {
      "text/plain": [
       "(50, 263)"
      ]
     },
     "execution_count": 253,
     "metadata": {},
     "output_type": "execute_result"
    }
   ],
   "source": [
    "embedded_tensors[0].shape"
   ]
  },
  {
   "cell_type": "code",
   "execution_count": null,
   "metadata": {},
   "outputs": [],
   "source": []
  }
 ],
 "metadata": {
  "kernelspec": {
   "display_name": "Python 3.6 - AzureML",
   "language": "python",
   "name": "python3-azureml"
  },
  "language_info": {
   "codemirror_mode": {
    "name": "ipython",
    "version": 3
   },
   "file_extension": ".py",
   "mimetype": "text/x-python",
   "name": "python",
   "nbconvert_exporter": "python",
   "pygments_lexer": "ipython3",
   "version": "3.6.9"
  }
 },
 "nbformat": 4,
 "nbformat_minor": 2
}
