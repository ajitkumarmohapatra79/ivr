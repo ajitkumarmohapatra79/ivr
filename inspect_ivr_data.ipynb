{
 "cells": [
  {
   "cell_type": "code",
   "execution_count": 43,
   "metadata": {},
   "outputs": [],
   "source": [
    "import pandas as pd\n",
    "import numpy as np\n",
    "import datetime"
   ]
  },
  {
   "cell_type": "code",
   "execution_count": 104,
   "metadata": {},
   "outputs": [],
   "source": [
    "ivr_data = pd.read_csv('ivr_data/XM_IVR_0501_1214_Extract.zip')"
   ]
  },
  {
   "cell_type": "code",
   "execution_count": 105,
   "metadata": {},
   "outputs": [
    {
     "data": {
      "text/plain": [
       "(2270876, 63)"
      ]
     },
     "execution_count": 105,
     "metadata": {},
     "output_type": "execute_result"
    }
   ],
   "source": [
    "ivr_data.shape"
   ]
  },
  {
   "cell_type": "code",
   "execution_count": 106,
   "metadata": {},
   "outputs": [
    {
     "data": {
      "text/html": [
       "<div>\n",
       "<style scoped>\n",
       "    .dataframe tbody tr th:only-of-type {\n",
       "        vertical-align: middle;\n",
       "    }\n",
       "\n",
       "    .dataframe tbody tr th {\n",
       "        vertical-align: top;\n",
       "    }\n",
       "\n",
       "    .dataframe thead th {\n",
       "        text-align: right;\n",
       "    }\n",
       "</style>\n",
       "<table border=\"1\" class=\"dataframe\">\n",
       "  <thead>\n",
       "    <tr style=\"text-align: right;\">\n",
       "      <th></th>\n",
       "      <th>CALLKEY</th>\n",
       "      <th>IVRRECORDTYPE</th>\n",
       "      <th>CALLDATETIME</th>\n",
       "      <th>STARTDATETIME</th>\n",
       "      <th>ENDDATETIME</th>\n",
       "      <th>CALLERANI</th>\n",
       "      <th>ENTEREDPHONE</th>\n",
       "      <th>ACCOUNTNUMBER</th>\n",
       "      <th>TRANSFERNUMBER</th>\n",
       "      <th>DURATION</th>\n",
       "      <th>...</th>\n",
       "      <th>CNFRMDAPPO</th>\n",
       "      <th>APPOINFOSMSSUCC</th>\n",
       "      <th>APPOINFOSMSUNSUCC</th>\n",
       "      <th>HEARDBROADCASTMSG</th>\n",
       "      <th>HASOUTAGE</th>\n",
       "      <th>OUTAGEID</th>\n",
       "      <th>LSTNONXFERNODE</th>\n",
       "      <th>LSTNONXFERNODETYP</th>\n",
       "      <th>LSTNONXFERNODEMOD</th>\n",
       "      <th>LSTNONXFERNODEMODFN</th>\n",
       "    </tr>\n",
       "  </thead>\n",
       "  <tbody>\n",
       "    <tr>\n",
       "      <th>0</th>\n",
       "      <td>4284032589</td>\n",
       "      <td>Inbound</td>\n",
       "      <td>2019-09-18 00:38:10</td>\n",
       "      <td>2019-09-18 00:38:10</td>\n",
       "      <td>2019-09-18 00:39:46</td>\n",
       "      <td>1621175991</td>\n",
       "      <td>NaN</td>\n",
       "      <td>2.762233e+08</td>\n",
       "      <td>106962160</td>\n",
       "      <td>96</td>\n",
       "      <td>...</td>\n",
       "      <td>NaN</td>\n",
       "      <td>NaN</td>\n",
       "      <td>NaN</td>\n",
       "      <td>NaN</td>\n",
       "      <td>NaN</td>\n",
       "      <td>NaN</td>\n",
       "      <td>prompt_NLXfinityMore</td>\n",
       "      <td>Navigational</td>\n",
       "      <td>CALLERINTENT</td>\n",
       "      <td>NL_XfinityMobile</td>\n",
       "    </tr>\n",
       "    <tr>\n",
       "      <th>1</th>\n",
       "      <td>4284032631</td>\n",
       "      <td>Inbound</td>\n",
       "      <td>2019-09-18 00:38:14</td>\n",
       "      <td>2019-09-18 00:38:14</td>\n",
       "      <td>2019-09-18 00:40:36</td>\n",
       "      <td>2498988660</td>\n",
       "      <td>NaN</td>\n",
       "      <td>3.480420e+09</td>\n",
       "      <td>4032217810</td>\n",
       "      <td>142</td>\n",
       "      <td>...</td>\n",
       "      <td>NaN</td>\n",
       "      <td>NaN</td>\n",
       "      <td>NaN</td>\n",
       "      <td>NaN</td>\n",
       "      <td>NaN</td>\n",
       "      <td>NaN</td>\n",
       "      <td>prompt_PhoneID</td>\n",
       "      <td>Navigational</td>\n",
       "      <td>CALLERID</td>\n",
       "      <td>GetPhnAccntNum</td>\n",
       "    </tr>\n",
       "    <tr>\n",
       "      <th>2</th>\n",
       "      <td>4284032716</td>\n",
       "      <td>Inbound</td>\n",
       "      <td>2019-09-18 00:29:34</td>\n",
       "      <td>2019-09-18 00:29:34</td>\n",
       "      <td>2019-09-18 00:31:10</td>\n",
       "      <td>3604397532</td>\n",
       "      <td>NaN</td>\n",
       "      <td>2.050155e+09</td>\n",
       "      <td>1943948052</td>\n",
       "      <td>96</td>\n",
       "      <td>...</td>\n",
       "      <td>NaN</td>\n",
       "      <td>NaN</td>\n",
       "      <td>NaN</td>\n",
       "      <td>NaN</td>\n",
       "      <td>NaN</td>\n",
       "      <td>NaN</td>\n",
       "      <td>prompt_AddXM</td>\n",
       "      <td>Navigational</td>\n",
       "      <td>CALLERINTENT</td>\n",
       "      <td>NL OtherHandling</td>\n",
       "    </tr>\n",
       "    <tr>\n",
       "      <th>3</th>\n",
       "      <td>4284033069</td>\n",
       "      <td>Inbound</td>\n",
       "      <td>2019-09-18 00:38:41</td>\n",
       "      <td>2019-09-18 00:38:41</td>\n",
       "      <td>2019-09-18 00:41:20</td>\n",
       "      <td>1834516918</td>\n",
       "      <td>NaN</td>\n",
       "      <td>2.381823e+09</td>\n",
       "      <td>4032217810</td>\n",
       "      <td>159</td>\n",
       "      <td>...</td>\n",
       "      <td>NaN</td>\n",
       "      <td>NaN</td>\n",
       "      <td>NaN</td>\n",
       "      <td>1.0</td>\n",
       "      <td>NaN</td>\n",
       "      <td>NaN</td>\n",
       "      <td>say_XMAuthLast4Fail</td>\n",
       "      <td>Navigational</td>\n",
       "      <td>XFINITYMOBILE</td>\n",
       "      <td>XM Auth</td>\n",
       "    </tr>\n",
       "    <tr>\n",
       "      <th>4</th>\n",
       "      <td>4284033124</td>\n",
       "      <td>Inbound</td>\n",
       "      <td>2019-09-18 00:39:02</td>\n",
       "      <td>2019-09-18 00:39:02</td>\n",
       "      <td>2019-09-18 00:39:43</td>\n",
       "      <td>70439012</td>\n",
       "      <td>NaN</td>\n",
       "      <td>2.925454e+08</td>\n",
       "      <td>1824754018</td>\n",
       "      <td>41</td>\n",
       "      <td>...</td>\n",
       "      <td>NaN</td>\n",
       "      <td>NaN</td>\n",
       "      <td>NaN</td>\n",
       "      <td>NaN</td>\n",
       "      <td>NaN</td>\n",
       "      <td>NaN</td>\n",
       "      <td>say_AddressConfThanks</td>\n",
       "      <td>Navigational</td>\n",
       "      <td>CALLERID</td>\n",
       "      <td>AddressConf</td>\n",
       "    </tr>\n",
       "  </tbody>\n",
       "</table>\n",
       "<p>5 rows × 63 columns</p>\n",
       "</div>"
      ],
      "text/plain": [
       "      CALLKEY IVRRECORDTYPE         CALLDATETIME        STARTDATETIME  \\\n",
       "0  4284032589       Inbound  2019-09-18 00:38:10  2019-09-18 00:38:10   \n",
       "1  4284032631       Inbound  2019-09-18 00:38:14  2019-09-18 00:38:14   \n",
       "2  4284032716       Inbound  2019-09-18 00:29:34  2019-09-18 00:29:34   \n",
       "3  4284033069       Inbound  2019-09-18 00:38:41  2019-09-18 00:38:41   \n",
       "4  4284033124       Inbound  2019-09-18 00:39:02  2019-09-18 00:39:02   \n",
       "\n",
       "           ENDDATETIME   CALLERANI  ENTEREDPHONE  ACCOUNTNUMBER  \\\n",
       "0  2019-09-18 00:39:46  1621175991           NaN   2.762233e+08   \n",
       "1  2019-09-18 00:40:36  2498988660           NaN   3.480420e+09   \n",
       "2  2019-09-18 00:31:10  3604397532           NaN   2.050155e+09   \n",
       "3  2019-09-18 00:41:20  1834516918           NaN   2.381823e+09   \n",
       "4  2019-09-18 00:39:43    70439012           NaN   2.925454e+08   \n",
       "\n",
       "   TRANSFERNUMBER  DURATION         ...          CNFRMDAPPO APPOINFOSMSSUCC  \\\n",
       "0       106962160        96         ...                 NaN             NaN   \n",
       "1      4032217810       142         ...                 NaN             NaN   \n",
       "2      1943948052        96         ...                 NaN             NaN   \n",
       "3      4032217810       159         ...                 NaN             NaN   \n",
       "4      1824754018        41         ...                 NaN             NaN   \n",
       "\n",
       "  APPOINFOSMSUNSUCC HEARDBROADCASTMSG HASOUTAGE OUTAGEID  \\\n",
       "0               NaN               NaN       NaN      NaN   \n",
       "1               NaN               NaN       NaN      NaN   \n",
       "2               NaN               NaN       NaN      NaN   \n",
       "3               NaN               1.0       NaN      NaN   \n",
       "4               NaN               NaN       NaN      NaN   \n",
       "\n",
       "          LSTNONXFERNODE LSTNONXFERNODETYP LSTNONXFERNODEMOD  \\\n",
       "0   prompt_NLXfinityMore      Navigational      CALLERINTENT   \n",
       "1         prompt_PhoneID      Navigational          CALLERID   \n",
       "2           prompt_AddXM      Navigational      CALLERINTENT   \n",
       "3    say_XMAuthLast4Fail      Navigational     XFINITYMOBILE   \n",
       "4  say_AddressConfThanks      Navigational          CALLERID   \n",
       "\n",
       "  LSTNONXFERNODEMODFN  \n",
       "0    NL_XfinityMobile  \n",
       "1      GetPhnAccntNum  \n",
       "2    NL OtherHandling  \n",
       "3             XM Auth  \n",
       "4         AddressConf  \n",
       "\n",
       "[5 rows x 63 columns]"
      ]
     },
     "execution_count": 106,
     "metadata": {},
     "output_type": "execute_result"
    }
   ],
   "source": [
    "ivr_data.head()"
   ]
  },
  {
   "cell_type": "code",
   "execution_count": 145,
   "metadata": {},
   "outputs": [],
   "source": [
    "ivr_account_number_list = ivr_data['ACCOUNTNUMBER'].unique().tolist()"
   ]
  },
  {
   "cell_type": "code",
   "execution_count": 146,
   "metadata": {},
   "outputs": [],
   "source": [
    "# this checks the accountnumber field in the ivr data file\n",
    "with open('ivr_backup_data/ivr_account_number_list.txt', 'w') as filehandle:\n",
    "    filehandle.writelines(\"%s\\n\" % account for account in ivr_account_number_list)"
   ]
  },
  {
   "cell_type": "code",
   "execution_count": 148,
   "metadata": {},
   "outputs": [],
   "source": [
    "# this checks the transfernumber field in the ivr data file\n",
    "ivr_transfer_number_list = ivr_data['TRANSFERNUMBER'].unique().tolist()\n",
    "with open('ivr_backup_data/ivr_transfer_number_list.txt', 'w') as filehandle:\n",
    "    filehandle.writelines(\"%s\\n\" % account for account in ivr_transfer_number_list)"
   ]
  },
  {
   "cell_type": "code",
   "execution_count": 107,
   "metadata": {},
   "outputs": [
    {
     "data": {
      "text/plain": [
       "'2019-05-01 00:01:04'"
      ]
     },
     "execution_count": 107,
     "metadata": {},
     "output_type": "execute_result"
    }
   ],
   "source": [
    "min(ivr_data['CALLDATETIME'])"
   ]
  },
  {
   "cell_type": "code",
   "execution_count": 108,
   "metadata": {},
   "outputs": [
    {
     "data": {
      "text/plain": [
       "'2019-12-12 23:59:54'"
      ]
     },
     "execution_count": 108,
     "metadata": {},
     "output_type": "execute_result"
    }
   ],
   "source": [
    "max(ivr_data['CALLDATETIME'])"
   ]
  },
  {
   "cell_type": "code",
   "execution_count": 110,
   "metadata": {},
   "outputs": [],
   "source": [
    "# keep only december 2019 calls\n",
    "# dec_1_2019 = datetime.strptime('2019-12-01', '%Y-%m-%d')"
   ]
  },
  {
   "cell_type": "code",
   "execution_count": 111,
   "metadata": {},
   "outputs": [],
   "source": [
    "# dec_1_2019"
   ]
  },
  {
   "cell_type": "code",
   "execution_count": 112,
   "metadata": {},
   "outputs": [],
   "source": [
    "# capture the call time for each record in the ivr data\n",
    "ivr_data['CALLDATETIME'] = pd.to_datetime(ivr_data['CALLDATETIME'])  "
   ]
  },
  {
   "cell_type": "code",
   "execution_count": 113,
   "metadata": {},
   "outputs": [
    {
     "data": {
      "text/plain": [
       "dtype('<M8[ns]')"
      ]
     },
     "execution_count": 113,
     "metadata": {},
     "output_type": "execute_result"
    }
   ],
   "source": [
    "ivr_data['CALLDATETIME'].dtype"
   ]
  },
  {
   "cell_type": "code",
   "execution_count": 114,
   "metadata": {},
   "outputs": [
    {
     "data": {
      "text/plain": [
       "array(['2019-09-18T00:38:10.000000000', '2019-09-18T00:38:14.000000000',\n",
       "       '2019-09-18T00:29:34.000000000', ...,\n",
       "       '2019-07-24T15:24:40.000000000', '2019-07-24T15:24:19.000000000',\n",
       "       '2019-07-24T15:24:28.000000000'], dtype='datetime64[ns]')"
      ]
     },
     "execution_count": 114,
     "metadata": {},
     "output_type": "execute_result"
    }
   ],
   "source": [
    "ivr_data['CALLDATETIME'].values"
   ]
  },
  {
   "cell_type": "code",
   "execution_count": 115,
   "metadata": {},
   "outputs": [
    {
     "data": {
      "text/html": [
       "<div>\n",
       "<style scoped>\n",
       "    .dataframe tbody tr th:only-of-type {\n",
       "        vertical-align: middle;\n",
       "    }\n",
       "\n",
       "    .dataframe tbody tr th {\n",
       "        vertical-align: top;\n",
       "    }\n",
       "\n",
       "    .dataframe thead th {\n",
       "        text-align: right;\n",
       "    }\n",
       "</style>\n",
       "<table border=\"1\" class=\"dataframe\">\n",
       "  <thead>\n",
       "    <tr style=\"text-align: right;\">\n",
       "      <th></th>\n",
       "      <th>CALLKEY</th>\n",
       "      <th>IVRRECORDTYPE</th>\n",
       "      <th>CALLDATETIME</th>\n",
       "      <th>STARTDATETIME</th>\n",
       "      <th>ENDDATETIME</th>\n",
       "      <th>CALLERANI</th>\n",
       "      <th>ENTEREDPHONE</th>\n",
       "      <th>ACCOUNTNUMBER</th>\n",
       "      <th>TRANSFERNUMBER</th>\n",
       "      <th>DURATION</th>\n",
       "      <th>...</th>\n",
       "      <th>CNFRMDAPPO</th>\n",
       "      <th>APPOINFOSMSSUCC</th>\n",
       "      <th>APPOINFOSMSUNSUCC</th>\n",
       "      <th>HEARDBROADCASTMSG</th>\n",
       "      <th>HASOUTAGE</th>\n",
       "      <th>OUTAGEID</th>\n",
       "      <th>LSTNONXFERNODE</th>\n",
       "      <th>LSTNONXFERNODETYP</th>\n",
       "      <th>LSTNONXFERNODEMOD</th>\n",
       "      <th>LSTNONXFERNODEMODFN</th>\n",
       "    </tr>\n",
       "  </thead>\n",
       "  <tbody>\n",
       "    <tr>\n",
       "      <th>0</th>\n",
       "      <td>4284032589</td>\n",
       "      <td>Inbound</td>\n",
       "      <td>2019-09-18 00:38:10</td>\n",
       "      <td>2019-09-18 00:38:10</td>\n",
       "      <td>2019-09-18 00:39:46</td>\n",
       "      <td>1621175991</td>\n",
       "      <td>NaN</td>\n",
       "      <td>2.762233e+08</td>\n",
       "      <td>106962160</td>\n",
       "      <td>96</td>\n",
       "      <td>...</td>\n",
       "      <td>NaN</td>\n",
       "      <td>NaN</td>\n",
       "      <td>NaN</td>\n",
       "      <td>NaN</td>\n",
       "      <td>NaN</td>\n",
       "      <td>NaN</td>\n",
       "      <td>prompt_NLXfinityMore</td>\n",
       "      <td>Navigational</td>\n",
       "      <td>CALLERINTENT</td>\n",
       "      <td>NL_XfinityMobile</td>\n",
       "    </tr>\n",
       "    <tr>\n",
       "      <th>1</th>\n",
       "      <td>4284032631</td>\n",
       "      <td>Inbound</td>\n",
       "      <td>2019-09-18 00:38:14</td>\n",
       "      <td>2019-09-18 00:38:14</td>\n",
       "      <td>2019-09-18 00:40:36</td>\n",
       "      <td>2498988660</td>\n",
       "      <td>NaN</td>\n",
       "      <td>3.480420e+09</td>\n",
       "      <td>4032217810</td>\n",
       "      <td>142</td>\n",
       "      <td>...</td>\n",
       "      <td>NaN</td>\n",
       "      <td>NaN</td>\n",
       "      <td>NaN</td>\n",
       "      <td>NaN</td>\n",
       "      <td>NaN</td>\n",
       "      <td>NaN</td>\n",
       "      <td>prompt_PhoneID</td>\n",
       "      <td>Navigational</td>\n",
       "      <td>CALLERID</td>\n",
       "      <td>GetPhnAccntNum</td>\n",
       "    </tr>\n",
       "    <tr>\n",
       "      <th>2</th>\n",
       "      <td>4284032716</td>\n",
       "      <td>Inbound</td>\n",
       "      <td>2019-09-18 00:29:34</td>\n",
       "      <td>2019-09-18 00:29:34</td>\n",
       "      <td>2019-09-18 00:31:10</td>\n",
       "      <td>3604397532</td>\n",
       "      <td>NaN</td>\n",
       "      <td>2.050155e+09</td>\n",
       "      <td>1943948052</td>\n",
       "      <td>96</td>\n",
       "      <td>...</td>\n",
       "      <td>NaN</td>\n",
       "      <td>NaN</td>\n",
       "      <td>NaN</td>\n",
       "      <td>NaN</td>\n",
       "      <td>NaN</td>\n",
       "      <td>NaN</td>\n",
       "      <td>prompt_AddXM</td>\n",
       "      <td>Navigational</td>\n",
       "      <td>CALLERINTENT</td>\n",
       "      <td>NL OtherHandling</td>\n",
       "    </tr>\n",
       "    <tr>\n",
       "      <th>3</th>\n",
       "      <td>4284033069</td>\n",
       "      <td>Inbound</td>\n",
       "      <td>2019-09-18 00:38:41</td>\n",
       "      <td>2019-09-18 00:38:41</td>\n",
       "      <td>2019-09-18 00:41:20</td>\n",
       "      <td>1834516918</td>\n",
       "      <td>NaN</td>\n",
       "      <td>2.381823e+09</td>\n",
       "      <td>4032217810</td>\n",
       "      <td>159</td>\n",
       "      <td>...</td>\n",
       "      <td>NaN</td>\n",
       "      <td>NaN</td>\n",
       "      <td>NaN</td>\n",
       "      <td>1.0</td>\n",
       "      <td>NaN</td>\n",
       "      <td>NaN</td>\n",
       "      <td>say_XMAuthLast4Fail</td>\n",
       "      <td>Navigational</td>\n",
       "      <td>XFINITYMOBILE</td>\n",
       "      <td>XM Auth</td>\n",
       "    </tr>\n",
       "    <tr>\n",
       "      <th>4</th>\n",
       "      <td>4284033124</td>\n",
       "      <td>Inbound</td>\n",
       "      <td>2019-09-18 00:39:02</td>\n",
       "      <td>2019-09-18 00:39:02</td>\n",
       "      <td>2019-09-18 00:39:43</td>\n",
       "      <td>70439012</td>\n",
       "      <td>NaN</td>\n",
       "      <td>2.925454e+08</td>\n",
       "      <td>1824754018</td>\n",
       "      <td>41</td>\n",
       "      <td>...</td>\n",
       "      <td>NaN</td>\n",
       "      <td>NaN</td>\n",
       "      <td>NaN</td>\n",
       "      <td>NaN</td>\n",
       "      <td>NaN</td>\n",
       "      <td>NaN</td>\n",
       "      <td>say_AddressConfThanks</td>\n",
       "      <td>Navigational</td>\n",
       "      <td>CALLERID</td>\n",
       "      <td>AddressConf</td>\n",
       "    </tr>\n",
       "  </tbody>\n",
       "</table>\n",
       "<p>5 rows × 63 columns</p>\n",
       "</div>"
      ],
      "text/plain": [
       "      CALLKEY IVRRECORDTYPE        CALLDATETIME        STARTDATETIME  \\\n",
       "0  4284032589       Inbound 2019-09-18 00:38:10  2019-09-18 00:38:10   \n",
       "1  4284032631       Inbound 2019-09-18 00:38:14  2019-09-18 00:38:14   \n",
       "2  4284032716       Inbound 2019-09-18 00:29:34  2019-09-18 00:29:34   \n",
       "3  4284033069       Inbound 2019-09-18 00:38:41  2019-09-18 00:38:41   \n",
       "4  4284033124       Inbound 2019-09-18 00:39:02  2019-09-18 00:39:02   \n",
       "\n",
       "           ENDDATETIME   CALLERANI  ENTEREDPHONE  ACCOUNTNUMBER  \\\n",
       "0  2019-09-18 00:39:46  1621175991           NaN   2.762233e+08   \n",
       "1  2019-09-18 00:40:36  2498988660           NaN   3.480420e+09   \n",
       "2  2019-09-18 00:31:10  3604397532           NaN   2.050155e+09   \n",
       "3  2019-09-18 00:41:20  1834516918           NaN   2.381823e+09   \n",
       "4  2019-09-18 00:39:43    70439012           NaN   2.925454e+08   \n",
       "\n",
       "   TRANSFERNUMBER  DURATION         ...          CNFRMDAPPO APPOINFOSMSSUCC  \\\n",
       "0       106962160        96         ...                 NaN             NaN   \n",
       "1      4032217810       142         ...                 NaN             NaN   \n",
       "2      1943948052        96         ...                 NaN             NaN   \n",
       "3      4032217810       159         ...                 NaN             NaN   \n",
       "4      1824754018        41         ...                 NaN             NaN   \n",
       "\n",
       "  APPOINFOSMSUNSUCC HEARDBROADCASTMSG HASOUTAGE OUTAGEID  \\\n",
       "0               NaN               NaN       NaN      NaN   \n",
       "1               NaN               NaN       NaN      NaN   \n",
       "2               NaN               NaN       NaN      NaN   \n",
       "3               NaN               1.0       NaN      NaN   \n",
       "4               NaN               NaN       NaN      NaN   \n",
       "\n",
       "          LSTNONXFERNODE LSTNONXFERNODETYP LSTNONXFERNODEMOD  \\\n",
       "0   prompt_NLXfinityMore      Navigational      CALLERINTENT   \n",
       "1         prompt_PhoneID      Navigational          CALLERID   \n",
       "2           prompt_AddXM      Navigational      CALLERINTENT   \n",
       "3    say_XMAuthLast4Fail      Navigational     XFINITYMOBILE   \n",
       "4  say_AddressConfThanks      Navigational          CALLERID   \n",
       "\n",
       "  LSTNONXFERNODEMODFN  \n",
       "0    NL_XfinityMobile  \n",
       "1      GetPhnAccntNum  \n",
       "2    NL OtherHandling  \n",
       "3             XM Auth  \n",
       "4         AddressConf  \n",
       "\n",
       "[5 rows x 63 columns]"
      ]
     },
     "execution_count": 115,
     "metadata": {},
     "output_type": "execute_result"
    }
   ],
   "source": [
    "ivr_data.head()"
   ]
  },
  {
   "cell_type": "code",
   "execution_count": 118,
   "metadata": {},
   "outputs": [
    {
     "data": {
      "text/plain": [
       "(2270876, 2)"
      ]
     },
     "execution_count": 118,
     "metadata": {},
     "output_type": "execute_result"
    }
   ],
   "source": [
    "call_count_df = ivr_data[['CALLKEY','CALLDATETIME']]\n",
    "call_count_df.shape"
   ]
  },
  {
   "cell_type": "code",
   "execution_count": 120,
   "metadata": {},
   "outputs": [
    {
     "data": {
      "text/plain": [
       "<matplotlib.axes._subplots.AxesSubplot at 0x7ff1ec6c3f28>"
      ]
     },
     "execution_count": 120,
     "metadata": {},
     "output_type": "execute_result"
    },
    {
     "data": {
      "image/png": "[encoded data removed]",
      "text/plain": [
       "<Figure size 432x288 with 1 Axes>"
      ]
     },
     "metadata": {
      "needs_background": "light"
     },
     "output_type": "display_data"
    }
   ],
   "source": [
    "# see how the calls spread out over time\n",
    "# ivr_data.hist(column='CALLDATETIME')\n",
    "call_count_df.groupby([call_count_df[\"CALLDATETIME\"].dt.year, call_count_df[\"CALLDATETIME\"].dt.month]).count().plot(kind=\"bar\")"
   ]
  },
  {
   "cell_type": "code",
   "execution_count": 141,
   "metadata": {},
   "outputs": [],
   "source": [
    "ivr_account_list = ivr_data['CALLERANI'].unique().tolist()"
   ]
  },
  {
   "cell_type": "code",
   "execution_count": 142,
   "metadata": {},
   "outputs": [],
   "source": [
    "# write out all the account numbers that show up in the ivr data\n",
    "with open('ivr_backup_data/ivr_account_list.txt', 'w') as filehandle:\n",
    "    for account in ivr_account_list:\n",
    "        filehandle.write('%s\\n' % account)"
   ]
  },
  {
   "cell_type": "code",
   "execution_count": 137,
   "metadata": {},
   "outputs": [
    {
     "data": {
      "text/plain": [
       "0         2019-09-18 00:38:10\n",
       "7         2019-09-18 00:40:33\n",
       "175374    2019-10-22 19:42:02\n",
       "673254    2019-09-04 20:39:46\n",
       "673470    2019-09-04 20:17:07\n",
       "1445827   2019-05-19 23:54:24\n",
       "1618644   2019-10-27 21:49:18\n",
       "Name: CALLDATETIME, dtype: datetime64[ns]"
      ]
     },
     "execution_count": 137,
     "metadata": {},
     "output_type": "execute_result"
    }
   ],
   "source": [
    "ivr_data[ivr_data['CALLERANI']==1621175991]['CALLDATETIME']"
   ]
  },
  {
   "cell_type": "code",
   "execution_count": 19,
   "metadata": {},
   "outputs": [],
   "source": [
    "# dec_calls_df = ivr_data[ivr_data['CALLDATETIME'] > dec_1_2019]"
   ]
  },
  {
   "cell_type": "code",
   "execution_count": 20,
   "metadata": {},
   "outputs": [],
   "source": [
    "# dec_calls_df.columns"
   ]
  },
  {
   "cell_type": "code",
   "execution_count": 21,
   "metadata": {},
   "outputs": [],
   "source": [
    "# ivr_data[ivr_data['callerAni'].isna()]"
   ]
  },
  {
   "cell_type": "code",
   "execution_count": 22,
   "metadata": {},
   "outputs": [
    {
     "data": {
      "text/plain": [
       "array(['2019-09-18T00:38:10.000000000', '2019-09-18T00:38:14.000000000',\n",
       "       '2019-09-18T00:29:34.000000000', ...,\n",
       "       '2019-07-24T15:24:40.000000000', '2019-07-24T15:24:19.000000000',\n",
       "       '2019-07-24T15:24:28.000000000'], dtype='datetime64[ns]')"
      ]
     },
     "execution_count": 22,
     "metadata": {},
     "output_type": "execute_result"
    }
   ],
   "source": [
    "ivr_data['CALLDATETIME'].values"
   ]
  },
  {
   "cell_type": "code",
   "execution_count": 23,
   "metadata": {},
   "outputs": [],
   "source": [
    "# what we want to do is\n",
    "# organize order df into accounts\n",
    "# find max order date\n",
    "# capture the week time after that date\n",
    "# if a call for that account occurred, mark 'called' column 1"
   ]
  },
  {
   "cell_type": "code",
   "execution_count": 24,
   "metadata": {},
   "outputs": [
    {
     "name": "stderr",
     "output_type": "stream",
     "text": [
      "/anaconda/envs/azureml_py36/lib/python3.6/site-packages/IPython/core/interactiveshell.py:3058: DtypeWarning: Columns (40,45) have mixed types. Specify dtype option on import or set low_memory=False.\n",
      "  interactivity=interactivity, compiler=compiler, result=result)\n"
     ]
    }
   ],
   "source": [
    "num_df = pd.read_csv('ivr_backup_data/order_num_df.csv')\n",
    "cat_df = pd.read_csv('ivr_backup_data/order_category_df.csv')"
   ]
  },
  {
   "cell_type": "code",
   "execution_count": 25,
   "metadata": {},
   "outputs": [
    {
     "data": {
      "text/html": [
       "<div>\n",
       "<style scoped>\n",
       "    .dataframe tbody tr th:only-of-type {\n",
       "        vertical-align: middle;\n",
       "    }\n",
       "\n",
       "    .dataframe tbody tr th {\n",
       "        vertical-align: top;\n",
       "    }\n",
       "\n",
       "    .dataframe thead th {\n",
       "        text-align: right;\n",
       "    }\n",
       "</style>\n",
       "<table border=\"1\" class=\"dataframe\">\n",
       "  <thead>\n",
       "    <tr style=\"text-align: right;\">\n",
       "      <th></th>\n",
       "      <th>FRAUDNET_SCORE</th>\n",
       "      <th>TOTAL_PRICE</th>\n",
       "      <th>PRICE3</th>\n",
       "      <th>PRICE4</th>\n",
       "      <th>PRICE5</th>\n",
       "      <th>NUM_PORTIN</th>\n",
       "      <th>ACNT_BILL_FNAME_MATCHES</th>\n",
       "      <th>ACNT_BILL_LNAME_MATCHES</th>\n",
       "      <th>ACNT_SHIP_FNAME_MATCHES</th>\n",
       "      <th>ACNT_SHIP_LNAME_MATCHES</th>\n",
       "      <th>...</th>\n",
       "      <th>BYOD_RETRY_COUNT</th>\n",
       "      <th>PREORDER_LINES</th>\n",
       "      <th>ALLOWED_LINES</th>\n",
       "      <th>APPROVED_LINES</th>\n",
       "      <th>EXTERNAL_APPROVED_LINES</th>\n",
       "      <th>FIRST_PARTY_ID_SCORE</th>\n",
       "      <th>THIRD_PARTY_ID_SCORE</th>\n",
       "      <th>PRICE1</th>\n",
       "      <th>PRICE2</th>\n",
       "      <th>ORDER_CREATED_DATE</th>\n",
       "    </tr>\n",
       "  </thead>\n",
       "  <tbody>\n",
       "    <tr>\n",
       "      <th>0</th>\n",
       "      <td>0.0</td>\n",
       "      <td>1554.60</td>\n",
       "      <td>119.99</td>\n",
       "      <td>119.99</td>\n",
       "      <td>0.0</td>\n",
       "      <td>0</td>\n",
       "      <td>1</td>\n",
       "      <td>1</td>\n",
       "      <td>1</td>\n",
       "      <td>1</td>\n",
       "      <td>...</td>\n",
       "      <td>0</td>\n",
       "      <td>0.0</td>\n",
       "      <td>5</td>\n",
       "      <td>5</td>\n",
       "      <td>0</td>\n",
       "      <td>553</td>\n",
       "      <td>520</td>\n",
       "      <td>599.99</td>\n",
       "      <td>599.99</td>\n",
       "      <td>1.558789e+09</td>\n",
       "    </tr>\n",
       "    <tr>\n",
       "      <th>1</th>\n",
       "      <td>0.0</td>\n",
       "      <td>0.00</td>\n",
       "      <td>0.00</td>\n",
       "      <td>0.00</td>\n",
       "      <td>0.0</td>\n",
       "      <td>1</td>\n",
       "      <td>1</td>\n",
       "      <td>1</td>\n",
       "      <td>1</td>\n",
       "      <td>1</td>\n",
       "      <td>...</td>\n",
       "      <td>0</td>\n",
       "      <td>0.0</td>\n",
       "      <td>4</td>\n",
       "      <td>0</td>\n",
       "      <td>0</td>\n",
       "      <td>485</td>\n",
       "      <td>502</td>\n",
       "      <td>0.00</td>\n",
       "      <td>0.00</td>\n",
       "      <td>1.571514e+09</td>\n",
       "    </tr>\n",
       "    <tr>\n",
       "      <th>2</th>\n",
       "      <td>0.0</td>\n",
       "      <td>1080.09</td>\n",
       "      <td>0.00</td>\n",
       "      <td>0.00</td>\n",
       "      <td>0.0</td>\n",
       "      <td>1</td>\n",
       "      <td>1</td>\n",
       "      <td>1</td>\n",
       "      <td>1</td>\n",
       "      <td>1</td>\n",
       "      <td>...</td>\n",
       "      <td>4</td>\n",
       "      <td>0.0</td>\n",
       "      <td>5</td>\n",
       "      <td>5</td>\n",
       "      <td>0</td>\n",
       "      <td>370</td>\n",
       "      <td>361</td>\n",
       "      <td>999.99</td>\n",
       "      <td>0.00</td>\n",
       "      <td>1.568388e+09</td>\n",
       "    </tr>\n",
       "    <tr>\n",
       "      <th>3</th>\n",
       "      <td>0.0</td>\n",
       "      <td>593.97</td>\n",
       "      <td>0.00</td>\n",
       "      <td>0.00</td>\n",
       "      <td>0.0</td>\n",
       "      <td>0</td>\n",
       "      <td>1</td>\n",
       "      <td>1</td>\n",
       "      <td>1</td>\n",
       "      <td>1</td>\n",
       "      <td>...</td>\n",
       "      <td>0</td>\n",
       "      <td>0.0</td>\n",
       "      <td>4</td>\n",
       "      <td>0</td>\n",
       "      <td>4</td>\n",
       "      <td>504</td>\n",
       "      <td>554</td>\n",
       "      <td>549.99</td>\n",
       "      <td>0.00</td>\n",
       "      <td>1.568843e+09</td>\n",
       "    </tr>\n",
       "    <tr>\n",
       "      <th>4</th>\n",
       "      <td>0.0</td>\n",
       "      <td>0.00</td>\n",
       "      <td>0.00</td>\n",
       "      <td>0.00</td>\n",
       "      <td>0.0</td>\n",
       "      <td>1</td>\n",
       "      <td>1</td>\n",
       "      <td>1</td>\n",
       "      <td>1</td>\n",
       "      <td>1</td>\n",
       "      <td>...</td>\n",
       "      <td>0</td>\n",
       "      <td>0.0</td>\n",
       "      <td>3</td>\n",
       "      <td>5</td>\n",
       "      <td>0</td>\n",
       "      <td>386</td>\n",
       "      <td>517</td>\n",
       "      <td>469.99</td>\n",
       "      <td>0.00</td>\n",
       "      <td>1.570415e+09</td>\n",
       "    </tr>\n",
       "  </tbody>\n",
       "</table>\n",
       "<p>5 rows × 30 columns</p>\n",
       "</div>"
      ],
      "text/plain": [
       "   FRAUDNET_SCORE  TOTAL_PRICE  PRICE3  PRICE4  PRICE5  NUM_PORTIN  \\\n",
       "0             0.0      1554.60  119.99  119.99     0.0           0   \n",
       "1             0.0         0.00    0.00    0.00     0.0           1   \n",
       "2             0.0      1080.09    0.00    0.00     0.0           1   \n",
       "3             0.0       593.97    0.00    0.00     0.0           0   \n",
       "4             0.0         0.00    0.00    0.00     0.0           1   \n",
       "\n",
       "   ACNT_BILL_FNAME_MATCHES  ACNT_BILL_LNAME_MATCHES  ACNT_SHIP_FNAME_MATCHES  \\\n",
       "0                        1                        1                        1   \n",
       "1                        1                        1                        1   \n",
       "2                        1                        1                        1   \n",
       "3                        1                        1                        1   \n",
       "4                        1                        1                        1   \n",
       "\n",
       "   ACNT_SHIP_LNAME_MATCHES         ...          BYOD_RETRY_COUNT  \\\n",
       "0                        1         ...                         0   \n",
       "1                        1         ...                         0   \n",
       "2                        1         ...                         4   \n",
       "3                        1         ...                         0   \n",
       "4                        1         ...                         0   \n",
       "\n",
       "   PREORDER_LINES  ALLOWED_LINES  APPROVED_LINES  EXTERNAL_APPROVED_LINES  \\\n",
       "0             0.0              5               5                        0   \n",
       "1             0.0              4               0                        0   \n",
       "2             0.0              5               5                        0   \n",
       "3             0.0              4               0                        4   \n",
       "4             0.0              3               5                        0   \n",
       "\n",
       "   FIRST_PARTY_ID_SCORE  THIRD_PARTY_ID_SCORE  PRICE1  PRICE2  \\\n",
       "0                   553                   520  599.99  599.99   \n",
       "1                   485                   502    0.00    0.00   \n",
       "2                   370                   361  999.99    0.00   \n",
       "3                   504                   554  549.99    0.00   \n",
       "4                   386                   517  469.99    0.00   \n",
       "\n",
       "   ORDER_CREATED_DATE  \n",
       "0        1.558789e+09  \n",
       "1        1.571514e+09  \n",
       "2        1.568388e+09  \n",
       "3        1.568843e+09  \n",
       "4        1.570415e+09  \n",
       "\n",
       "[5 rows x 30 columns]"
      ]
     },
     "execution_count": 25,
     "metadata": {},
     "output_type": "execute_result"
    }
   ],
   "source": [
    "num_df.head()"
   ]
  },
  {
   "cell_type": "code",
   "execution_count": 37,
   "metadata": {},
   "outputs": [
    {
     "data": {
      "text/html": [
       "<div>\n",
       "<style scoped>\n",
       "    .dataframe tbody tr th:only-of-type {\n",
       "        vertical-align: middle;\n",
       "    }\n",
       "\n",
       "    .dataframe tbody tr th {\n",
       "        vertical-align: top;\n",
       "    }\n",
       "\n",
       "    .dataframe thead th {\n",
       "        text-align: right;\n",
       "    }\n",
       "</style>\n",
       "<table border=\"1\" class=\"dataframe\">\n",
       "  <thead>\n",
       "    <tr style=\"text-align: right;\">\n",
       "      <th></th>\n",
       "      <th>MODEL1</th>\n",
       "      <th>MAKE2</th>\n",
       "      <th>BILLING_STATE</th>\n",
       "      <th>TYPE3</th>\n",
       "      <th>TYPE2</th>\n",
       "      <th>BLACKLIST_EMAIL</th>\n",
       "      <th>YELLOW_SKU</th>\n",
       "      <th>MODEL4</th>\n",
       "      <th>TPF_HIGH_YELLOW</th>\n",
       "      <th>ACCOUNT_NUMBER</th>\n",
       "      <th>...</th>\n",
       "      <th>BYOD1</th>\n",
       "      <th>BYOD2</th>\n",
       "      <th>BYOD3</th>\n",
       "      <th>BYOD4</th>\n",
       "      <th>BYOD5</th>\n",
       "      <th>CARRIER1</th>\n",
       "      <th>CARRIER2</th>\n",
       "      <th>CARRIER3</th>\n",
       "      <th>CARRIER4</th>\n",
       "      <th>CARRIER5</th>\n",
       "    </tr>\n",
       "  </thead>\n",
       "  <tbody>\n",
       "    <tr>\n",
       "      <th>0</th>\n",
       "      <td>iPhone 8</td>\n",
       "      <td>Apple</td>\n",
       "      <td>MN</td>\n",
       "      <td>Phone</td>\n",
       "      <td>Phone</td>\n",
       "      <td>N</td>\n",
       "      <td>N</td>\n",
       "      <td>moto e5 play</td>\n",
       "      <td>N</td>\n",
       "      <td>716308354</td>\n",
       "      <td>...</td>\n",
       "      <td>NaN</td>\n",
       "      <td>NaN</td>\n",
       "      <td>NaN</td>\n",
       "      <td>NaN</td>\n",
       "      <td>NaN</td>\n",
       "      <td>NaN</td>\n",
       "      <td>NaN</td>\n",
       "      <td>NaN</td>\n",
       "      <td>NaN</td>\n",
       "      <td>NaN</td>\n",
       "    </tr>\n",
       "    <tr>\n",
       "      <th>1</th>\n",
       "      <td>iPhone 6</td>\n",
       "      <td>NaN</td>\n",
       "      <td>MN</td>\n",
       "      <td>NaN</td>\n",
       "      <td>NaN</td>\n",
       "      <td>N</td>\n",
       "      <td>N</td>\n",
       "      <td>NaN</td>\n",
       "      <td>N</td>\n",
       "      <td>2387138088</td>\n",
       "      <td>...</td>\n",
       "      <td>APLIPHONE6GOLD64</td>\n",
       "      <td>NaN</td>\n",
       "      <td>NaN</td>\n",
       "      <td>NaN</td>\n",
       "      <td>NaN</td>\n",
       "      <td>MetroPCS</td>\n",
       "      <td>NaN</td>\n",
       "      <td>NaN</td>\n",
       "      <td>NaN</td>\n",
       "      <td>NaN</td>\n",
       "    </tr>\n",
       "    <tr>\n",
       "      <th>2</th>\n",
       "      <td>iPhone 11 Pro</td>\n",
       "      <td>NaN</td>\n",
       "      <td>MN</td>\n",
       "      <td>NaN</td>\n",
       "      <td>NaN</td>\n",
       "      <td>N</td>\n",
       "      <td>N</td>\n",
       "      <td>NaN</td>\n",
       "      <td>N</td>\n",
       "      <td>2297289602</td>\n",
       "      <td>...</td>\n",
       "      <td>NaN</td>\n",
       "      <td>NaN</td>\n",
       "      <td>NaN</td>\n",
       "      <td>NaN</td>\n",
       "      <td>NaN</td>\n",
       "      <td>GoogleVoice</td>\n",
       "      <td>NaN</td>\n",
       "      <td>NaN</td>\n",
       "      <td>NaN</td>\n",
       "      <td>NaN</td>\n",
       "    </tr>\n",
       "    <tr>\n",
       "      <th>3</th>\n",
       "      <td>iPhone 8 Plus</td>\n",
       "      <td>NaN</td>\n",
       "      <td>MN</td>\n",
       "      <td>NaN</td>\n",
       "      <td>NaN</td>\n",
       "      <td>N</td>\n",
       "      <td>N</td>\n",
       "      <td>NaN</td>\n",
       "      <td>N</td>\n",
       "      <td>2747556495</td>\n",
       "      <td>...</td>\n",
       "      <td>NaN</td>\n",
       "      <td>NaN</td>\n",
       "      <td>NaN</td>\n",
       "      <td>NaN</td>\n",
       "      <td>NaN</td>\n",
       "      <td>NaN</td>\n",
       "      <td>NaN</td>\n",
       "      <td>NaN</td>\n",
       "      <td>NaN</td>\n",
       "      <td>NaN</td>\n",
       "    </tr>\n",
       "    <tr>\n",
       "      <th>4</th>\n",
       "      <td>iPhone 7 Plus</td>\n",
       "      <td>NaN</td>\n",
       "      <td>MN</td>\n",
       "      <td>NaN</td>\n",
       "      <td>NaN</td>\n",
       "      <td>N</td>\n",
       "      <td>N</td>\n",
       "      <td>NaN</td>\n",
       "      <td>N</td>\n",
       "      <td>3159523017</td>\n",
       "      <td>...</td>\n",
       "      <td>190198155795</td>\n",
       "      <td>NaN</td>\n",
       "      <td>NaN</td>\n",
       "      <td>NaN</td>\n",
       "      <td>NaN</td>\n",
       "      <td>Other/NotSure</td>\n",
       "      <td>NaN</td>\n",
       "      <td>NaN</td>\n",
       "      <td>NaN</td>\n",
       "      <td>NaN</td>\n",
       "    </tr>\n",
       "  </tbody>\n",
       "</table>\n",
       "<p>5 rows × 51 columns</p>\n",
       "</div>"
      ],
      "text/plain": [
       "          MODEL1  MAKE2 BILLING_STATE  TYPE3  TYPE2 BLACKLIST_EMAIL  \\\n",
       "0       iPhone 8  Apple            MN  Phone  Phone               N   \n",
       "1       iPhone 6    NaN            MN    NaN    NaN               N   \n",
       "2  iPhone 11 Pro    NaN            MN    NaN    NaN               N   \n",
       "3  iPhone 8 Plus    NaN            MN    NaN    NaN               N   \n",
       "4  iPhone 7 Plus    NaN            MN    NaN    NaN               N   \n",
       "\n",
       "  YELLOW_SKU        MODEL4 TPF_HIGH_YELLOW  ACCOUNT_NUMBER   ...     \\\n",
       "0          N  moto e5 play               N       716308354   ...      \n",
       "1          N           NaN               N      2387138088   ...      \n",
       "2          N           NaN               N      2297289602   ...      \n",
       "3          N           NaN               N      2747556495   ...      \n",
       "4          N           NaN               N      3159523017   ...      \n",
       "\n",
       "              BYOD1 BYOD2 BYOD3 BYOD4 BYOD5       CARRIER1 CARRIER2 CARRIER3  \\\n",
       "0               NaN   NaN   NaN   NaN   NaN            NaN      NaN      NaN   \n",
       "1  APLIPHONE6GOLD64   NaN   NaN   NaN   NaN       MetroPCS      NaN      NaN   \n",
       "2               NaN   NaN   NaN   NaN   NaN    GoogleVoice      NaN      NaN   \n",
       "3               NaN   NaN   NaN   NaN   NaN            NaN      NaN      NaN   \n",
       "4      190198155795   NaN   NaN   NaN   NaN  Other/NotSure      NaN      NaN   \n",
       "\n",
       "  CARRIER4 CARRIER5  \n",
       "0      NaN      NaN  \n",
       "1      NaN      NaN  \n",
       "2      NaN      NaN  \n",
       "3      NaN      NaN  \n",
       "4      NaN      NaN  \n",
       "\n",
       "[5 rows x 51 columns]"
      ]
     },
     "execution_count": 37,
     "metadata": {},
     "output_type": "execute_result"
    }
   ],
   "source": [
    "cat_df.head()"
   ]
  },
  {
   "cell_type": "code",
   "execution_count": 38,
   "metadata": {},
   "outputs": [],
   "source": [
    "order_df = pd.concat([num_df, cat_df], axis=1)"
   ]
  },
  {
   "cell_type": "code",
   "execution_count": 39,
   "metadata": {},
   "outputs": [
    {
     "data": {
      "text/plain": [
       "(244134, 81)"
      ]
     },
     "execution_count": 39,
     "metadata": {},
     "output_type": "execute_result"
    }
   ],
   "source": [
    "order_df.shape"
   ]
  },
  {
   "cell_type": "code",
   "execution_count": 40,
   "metadata": {},
   "outputs": [
    {
     "data": {
      "text/plain": [
       "1556582422.0"
      ]
     },
     "execution_count": 40,
     "metadata": {},
     "output_type": "execute_result"
    }
   ],
   "source": [
    "min(order_df['ORDER_CREATED_DATE'])"
   ]
  },
  {
   "cell_type": "code",
   "execution_count": 41,
   "metadata": {},
   "outputs": [
    {
     "data": {
      "text/plain": [
       "1575158344.0"
      ]
     },
     "execution_count": 41,
     "metadata": {},
     "output_type": "execute_result"
    }
   ],
   "source": [
    "max(order_df['ORDER_CREATED_DATE'])"
   ]
  },
  {
   "cell_type": "code",
   "execution_count": 140,
   "metadata": {},
   "outputs": [
    {
     "data": {
      "text/html": [
       "<div>\n",
       "<style scoped>\n",
       "    .dataframe tbody tr th:only-of-type {\n",
       "        vertical-align: middle;\n",
       "    }\n",
       "\n",
       "    .dataframe tbody tr th {\n",
       "        vertical-align: top;\n",
       "    }\n",
       "\n",
       "    .dataframe thead th {\n",
       "        text-align: right;\n",
       "    }\n",
       "</style>\n",
       "<table border=\"1\" class=\"dataframe\">\n",
       "  <thead>\n",
       "    <tr style=\"text-align: right;\">\n",
       "      <th></th>\n",
       "      <th>FRAUDNET_SCORE</th>\n",
       "      <th>TOTAL_PRICE</th>\n",
       "      <th>PRICE3</th>\n",
       "      <th>PRICE4</th>\n",
       "      <th>PRICE5</th>\n",
       "      <th>NUM_PORTIN</th>\n",
       "      <th>ACNT_BILL_FNAME_MATCHES</th>\n",
       "      <th>ACNT_BILL_LNAME_MATCHES</th>\n",
       "      <th>ACNT_SHIP_FNAME_MATCHES</th>\n",
       "      <th>ACNT_SHIP_LNAME_MATCHES</th>\n",
       "      <th>...</th>\n",
       "      <th>BYOD1</th>\n",
       "      <th>BYOD2</th>\n",
       "      <th>BYOD3</th>\n",
       "      <th>BYOD4</th>\n",
       "      <th>BYOD5</th>\n",
       "      <th>CARRIER1</th>\n",
       "      <th>CARRIER2</th>\n",
       "      <th>CARRIER3</th>\n",
       "      <th>CARRIER4</th>\n",
       "      <th>CARRIER5</th>\n",
       "    </tr>\n",
       "  </thead>\n",
       "  <tbody>\n",
       "  </tbody>\n",
       "</table>\n",
       "<p>0 rows × 81 columns</p>\n",
       "</div>"
      ],
      "text/plain": [
       "Empty DataFrame\n",
       "Columns: [FRAUDNET_SCORE, TOTAL_PRICE, PRICE3, PRICE4, PRICE5, NUM_PORTIN, ACNT_BILL_FNAME_MATCHES, ACNT_BILL_LNAME_MATCHES, ACNT_SHIP_FNAME_MATCHES, ACNT_SHIP_LNAME_MATCHES, SHIP_BILL_FNAME_MATCHES, SHIP_BILL_LNAME_MATCHES, BILL_SHIP_ADDR_MATCHES, EMAIL, IP_ADDRESS, PHONE_MATCHES, NUM_BYOD, INSTALLMENT_AMOUNT, ONETIMECHARGE, MONTHLYRECURRINGCHARGE, BYOD_RETRY_COUNT, PREORDER_LINES, ALLOWED_LINES, APPROVED_LINES, EXTERNAL_APPROVED_LINES, FIRST_PARTY_ID_SCORE, THIRD_PARTY_ID_SCORE, PRICE1, PRICE2, ORDER_CREATED_DATE, MODEL1, MAKE2, BILLING_STATE, TYPE3, TYPE2, BLACKLIST_EMAIL, YELLOW_SKU, MODEL4, TPF_HIGH_YELLOW, ACCOUNT_NUMBER, EXTERNAL_CREDIT_CHECK_DONE, IS_EXISTING_CUSTOMER, FRAUDNET_RESULT, MAKE4, LINE_LIMIT_REACHED, MAKE1, IDA_RESULT, EXPERIAN_RESPONSE_1, EXPERIAN_RESPONSE_2, MODEL2, TYPE1, SHIPPING_STATE, SALES_CHANNEL, TYPE4, MAKE5, MODEL5, DEVICE_AT_HOME, SSN_BLACKLISTED, MAKE3, TYPE5, DENIAL_OF_SERVICES, FPF_HIGH_YELLOW, SHIPPINGMETHOD, INTERNAL_CREDIT_CHECK_DONE, ORDER_EXCHANGE, MODEL3, SKU1, SKU2, SKU3, SKU4, SKU5, BYOD1, BYOD2, BYOD3, BYOD4, BYOD5, CARRIER1, CARRIER2, CARRIER3, CARRIER4, CARRIER5]\n",
       "Index: []\n",
       "\n",
       "[0 rows x 81 columns]"
      ]
     },
     "execution_count": 140,
     "metadata": {},
     "output_type": "execute_result"
    }
   ],
   "source": [
    "order_df[order_df['ACCOUNT_NUMBER']==1621175991]"
   ]
  },
  {
   "cell_type": "code",
   "execution_count": 130,
   "metadata": {},
   "outputs": [
    {
     "data": {
      "text/plain": [
       "datetime.datetime(2019, 4, 30, 0, 0, 22)"
      ]
     },
     "execution_count": 130,
     "metadata": {},
     "output_type": "execute_result"
    }
   ],
   "source": [
    "bd = int(1556582422.0)\n",
    "last_order_date = datetime.datetime.utcfromtimestamp(bd)\n",
    "last_order_date"
   ]
  },
  {
   "cell_type": "code",
   "execution_count": 45,
   "metadata": {},
   "outputs": [
    {
     "data": {
      "text/plain": [
       "datetime.datetime(2019, 11, 30, 23, 59, 4)"
      ]
     },
     "execution_count": 45,
     "metadata": {},
     "output_type": "execute_result"
    }
   ],
   "source": [
    "bd = int(1575158344.0)\n",
    "last_order_date = datetime.datetime.utcfromtimestamp(bd)\n",
    "last_order_date"
   ]
  },
  {
   "cell_type": "code",
   "execution_count": 46,
   "metadata": {},
   "outputs": [],
   "source": [
    "# call up inner_train_df\n",
    "inner_train_df = pd.read_csv('ivr_backup_data/inner_train_df.csv')"
   ]
  },
  {
   "cell_type": "code",
   "execution_count": 47,
   "metadata": {},
   "outputs": [
    {
     "data": {
      "text/plain": [
       "(239276, 82)"
      ]
     },
     "execution_count": 47,
     "metadata": {},
     "output_type": "execute_result"
    }
   ],
   "source": [
    "inner_train_df.shape"
   ]
  },
  {
   "cell_type": "code",
   "execution_count": 48,
   "metadata": {},
   "outputs": [
    {
     "data": {
      "text/html": [
       "<div>\n",
       "<style scoped>\n",
       "    .dataframe tbody tr th:only-of-type {\n",
       "        vertical-align: middle;\n",
       "    }\n",
       "\n",
       "    .dataframe tbody tr th {\n",
       "        vertical-align: top;\n",
       "    }\n",
       "\n",
       "    .dataframe thead th {\n",
       "        text-align: right;\n",
       "    }\n",
       "</style>\n",
       "<table border=\"1\" class=\"dataframe\">\n",
       "  <thead>\n",
       "    <tr style=\"text-align: right;\">\n",
       "      <th></th>\n",
       "      <th>IDA_RESULT</th>\n",
       "      <th>MAKE1</th>\n",
       "      <th>EXPERIAN_RESPONSE_1</th>\n",
       "      <th>SHIPPINGMETHOD</th>\n",
       "      <th>MAKE4</th>\n",
       "      <th>MAKE5</th>\n",
       "      <th>MODEL5</th>\n",
       "      <th>EXPERIAN_RESPONSE_2</th>\n",
       "      <th>ACCOUNT_NUMBER</th>\n",
       "      <th>FRAUDNET_RESULT</th>\n",
       "      <th>...</th>\n",
       "      <th>PREORDER_LINES</th>\n",
       "      <th>ALLOWED_LINES</th>\n",
       "      <th>APPROVED_LINES</th>\n",
       "      <th>EXTERNAL_APPROVED_LINES</th>\n",
       "      <th>FIRST_PARTY_ID_SCORE</th>\n",
       "      <th>THIRD_PARTY_ID_SCORE</th>\n",
       "      <th>PRICE1</th>\n",
       "      <th>PRICE2</th>\n",
       "      <th>ORDER_CREATED_DATE</th>\n",
       "      <th>ACTIVE_WATCH_RESULT</th>\n",
       "    </tr>\n",
       "  </thead>\n",
       "  <tbody>\n",
       "    <tr>\n",
       "      <th>0</th>\n",
       "      <td>GREEN</td>\n",
       "      <td>Apple</td>\n",
       "      <td>NaN</td>\n",
       "      <td>2Days</td>\n",
       "      <td>NaN</td>\n",
       "      <td>NaN</td>\n",
       "      <td>NaN</td>\n",
       "      <td>NaN</td>\n",
       "      <td>2608741079</td>\n",
       "      <td>NaN</td>\n",
       "      <td>...</td>\n",
       "      <td>-0.193577</td>\n",
       "      <td>-0.128534</td>\n",
       "      <td>-0.751217</td>\n",
       "      <td>1.728700</td>\n",
       "      <td>0.254690</td>\n",
       "      <td>0.699868</td>\n",
       "      <td>-0.180481</td>\n",
       "      <td>-0.367770</td>\n",
       "      <td>0.600580</td>\n",
       "      <td>1</td>\n",
       "    </tr>\n",
       "    <tr>\n",
       "      <th>1</th>\n",
       "      <td>GREEN</td>\n",
       "      <td>Apple</td>\n",
       "      <td>NaN</td>\n",
       "      <td>2Days</td>\n",
       "      <td>NaN</td>\n",
       "      <td>NaN</td>\n",
       "      <td>NaN</td>\n",
       "      <td>NaN</td>\n",
       "      <td>2541993372</td>\n",
       "      <td>NaN</td>\n",
       "      <td>...</td>\n",
       "      <td>-0.193577</td>\n",
       "      <td>0.706180</td>\n",
       "      <td>-0.751217</td>\n",
       "      <td>-0.885189</td>\n",
       "      <td>0.465524</td>\n",
       "      <td>0.708396</td>\n",
       "      <td>1.040141</td>\n",
       "      <td>-0.367770</td>\n",
       "      <td>0.318066</td>\n",
       "      <td>1</td>\n",
       "    </tr>\n",
       "    <tr>\n",
       "      <th>2</th>\n",
       "      <td>GREEN</td>\n",
       "      <td>Apple</td>\n",
       "      <td>NaN</td>\n",
       "      <td>2Days</td>\n",
       "      <td>Apple</td>\n",
       "      <td>NaN</td>\n",
       "      <td>NaN</td>\n",
       "      <td>NaN</td>\n",
       "      <td>2676329899</td>\n",
       "      <td>NaN</td>\n",
       "      <td>...</td>\n",
       "      <td>-0.193577</td>\n",
       "      <td>0.706180</td>\n",
       "      <td>1.383215</td>\n",
       "      <td>-0.885189</td>\n",
       "      <td>-1.056148</td>\n",
       "      <td>-0.630464</td>\n",
       "      <td>-0.180481</td>\n",
       "      <td>1.138291</td>\n",
       "      <td>0.547005</td>\n",
       "      <td>3</td>\n",
       "    </tr>\n",
       "    <tr>\n",
       "      <th>3</th>\n",
       "      <td>GREEN</td>\n",
       "      <td>Apple</td>\n",
       "      <td>NaN</td>\n",
       "      <td>2Days</td>\n",
       "      <td>NaN</td>\n",
       "      <td>NaN</td>\n",
       "      <td>NaN</td>\n",
       "      <td>NaN</td>\n",
       "      <td>1442915580</td>\n",
       "      <td>NaN</td>\n",
       "      <td>...</td>\n",
       "      <td>-0.193577</td>\n",
       "      <td>0.706180</td>\n",
       "      <td>1.383215</td>\n",
       "      <td>-0.885189</td>\n",
       "      <td>0.034689</td>\n",
       "      <td>0.009119</td>\n",
       "      <td>-1.672325</td>\n",
       "      <td>-0.367770</td>\n",
       "      <td>0.663532</td>\n",
       "      <td>1</td>\n",
       "    </tr>\n",
       "    <tr>\n",
       "      <th>4</th>\n",
       "      <td>GREEN</td>\n",
       "      <td>Apple</td>\n",
       "      <td>NaN</td>\n",
       "      <td>2Days</td>\n",
       "      <td>NaN</td>\n",
       "      <td>NaN</td>\n",
       "      <td>NaN</td>\n",
       "      <td>NaN</td>\n",
       "      <td>1368037653</td>\n",
       "      <td>NaN</td>\n",
       "      <td>...</td>\n",
       "      <td>-0.193577</td>\n",
       "      <td>-1.797961</td>\n",
       "      <td>-0.751217</td>\n",
       "      <td>0.683144</td>\n",
       "      <td>-0.588646</td>\n",
       "      <td>-0.852186</td>\n",
       "      <td>-0.451730</td>\n",
       "      <td>-0.367770</td>\n",
       "      <td>0.031195</td>\n",
       "      <td>1</td>\n",
       "    </tr>\n",
       "  </tbody>\n",
       "</table>\n",
       "<p>5 rows × 82 columns</p>\n",
       "</div>"
      ],
      "text/plain": [
       "  IDA_RESULT  MAKE1 EXPERIAN_RESPONSE_1 SHIPPINGMETHOD  MAKE4 MAKE5 MODEL5  \\\n",
       "0      GREEN  Apple                 NaN          2Days    NaN   NaN    NaN   \n",
       "1      GREEN  Apple                 NaN          2Days    NaN   NaN    NaN   \n",
       "2      GREEN  Apple                 NaN          2Days  Apple   NaN    NaN   \n",
       "3      GREEN  Apple                 NaN          2Days    NaN   NaN    NaN   \n",
       "4      GREEN  Apple                 NaN          2Days    NaN   NaN    NaN   \n",
       "\n",
       "  EXPERIAN_RESPONSE_2  ACCOUNT_NUMBER FRAUDNET_RESULT         ...          \\\n",
       "0                 NaN      2608741079             NaN         ...           \n",
       "1                 NaN      2541993372             NaN         ...           \n",
       "2                 NaN      2676329899             NaN         ...           \n",
       "3                 NaN      1442915580             NaN         ...           \n",
       "4                 NaN      1368037653             NaN         ...           \n",
       "\n",
       "  PREORDER_LINES ALLOWED_LINES APPROVED_LINES EXTERNAL_APPROVED_LINES  \\\n",
       "0      -0.193577     -0.128534      -0.751217                1.728700   \n",
       "1      -0.193577      0.706180      -0.751217               -0.885189   \n",
       "2      -0.193577      0.706180       1.383215               -0.885189   \n",
       "3      -0.193577      0.706180       1.383215               -0.885189   \n",
       "4      -0.193577     -1.797961      -0.751217                0.683144   \n",
       "\n",
       "  FIRST_PARTY_ID_SCORE THIRD_PARTY_ID_SCORE    PRICE1    PRICE2  \\\n",
       "0             0.254690             0.699868 -0.180481 -0.367770   \n",
       "1             0.465524             0.708396  1.040141 -0.367770   \n",
       "2            -1.056148            -0.630464 -0.180481  1.138291   \n",
       "3             0.034689             0.009119 -1.672325 -0.367770   \n",
       "4            -0.588646            -0.852186 -0.451730 -0.367770   \n",
       "\n",
       "  ORDER_CREATED_DATE ACTIVE_WATCH_RESULT  \n",
       "0           0.600580                   1  \n",
       "1           0.318066                   1  \n",
       "2           0.547005                   3  \n",
       "3           0.663532                   1  \n",
       "4           0.031195                   1  \n",
       "\n",
       "[5 rows x 82 columns]"
      ]
     },
     "execution_count": 48,
     "metadata": {},
     "output_type": "execute_result"
    }
   ],
   "source": [
    "inner_train_df.head()"
   ]
  },
  {
   "cell_type": "code",
   "execution_count": 49,
   "metadata": {},
   "outputs": [
    {
     "data": {
      "text/plain": [
       "RangeIndex(start=0, stop=239276, step=1)"
      ]
     },
     "execution_count": 49,
     "metadata": {},
     "output_type": "execute_result"
    }
   ],
   "source": [
    "inner_train_df.index"
   ]
  },
  {
   "cell_type": "code",
   "execution_count": 50,
   "metadata": {},
   "outputs": [],
   "source": [
    "train_df = order_df.loc[inner_train_df.index]"
   ]
  },
  {
   "cell_type": "code",
   "execution_count": 51,
   "metadata": {},
   "outputs": [
    {
     "data": {
      "text/plain": [
       "(239276, 81)"
      ]
     },
     "execution_count": 51,
     "metadata": {},
     "output_type": "execute_result"
    }
   ],
   "source": [
    "train_df.shape"
   ]
  },
  {
   "cell_type": "code",
   "execution_count": 52,
   "metadata": {},
   "outputs": [
    {
     "data": {
      "text/html": [
       "<div>\n",
       "<style scoped>\n",
       "    .dataframe tbody tr th:only-of-type {\n",
       "        vertical-align: middle;\n",
       "    }\n",
       "\n",
       "    .dataframe tbody tr th {\n",
       "        vertical-align: top;\n",
       "    }\n",
       "\n",
       "    .dataframe thead th {\n",
       "        text-align: right;\n",
       "    }\n",
       "</style>\n",
       "<table border=\"1\" class=\"dataframe\">\n",
       "  <thead>\n",
       "    <tr style=\"text-align: right;\">\n",
       "      <th></th>\n",
       "      <th>FRAUDNET_SCORE</th>\n",
       "      <th>TOTAL_PRICE</th>\n",
       "      <th>PRICE3</th>\n",
       "      <th>PRICE4</th>\n",
       "      <th>PRICE5</th>\n",
       "      <th>NUM_PORTIN</th>\n",
       "      <th>ACNT_BILL_FNAME_MATCHES</th>\n",
       "      <th>ACNT_BILL_LNAME_MATCHES</th>\n",
       "      <th>ACNT_SHIP_FNAME_MATCHES</th>\n",
       "      <th>ACNT_SHIP_LNAME_MATCHES</th>\n",
       "      <th>...</th>\n",
       "      <th>BYOD1</th>\n",
       "      <th>BYOD2</th>\n",
       "      <th>BYOD3</th>\n",
       "      <th>BYOD4</th>\n",
       "      <th>BYOD5</th>\n",
       "      <th>CARRIER1</th>\n",
       "      <th>CARRIER2</th>\n",
       "      <th>CARRIER3</th>\n",
       "      <th>CARRIER4</th>\n",
       "      <th>CARRIER5</th>\n",
       "    </tr>\n",
       "  </thead>\n",
       "  <tbody>\n",
       "    <tr>\n",
       "      <th>0</th>\n",
       "      <td>0.0</td>\n",
       "      <td>1554.60</td>\n",
       "      <td>119.99</td>\n",
       "      <td>119.99</td>\n",
       "      <td>0.0</td>\n",
       "      <td>0</td>\n",
       "      <td>1</td>\n",
       "      <td>1</td>\n",
       "      <td>1</td>\n",
       "      <td>1</td>\n",
       "      <td>...</td>\n",
       "      <td>NaN</td>\n",
       "      <td>NaN</td>\n",
       "      <td>NaN</td>\n",
       "      <td>NaN</td>\n",
       "      <td>NaN</td>\n",
       "      <td>NaN</td>\n",
       "      <td>NaN</td>\n",
       "      <td>NaN</td>\n",
       "      <td>NaN</td>\n",
       "      <td>NaN</td>\n",
       "    </tr>\n",
       "    <tr>\n",
       "      <th>1</th>\n",
       "      <td>0.0</td>\n",
       "      <td>0.00</td>\n",
       "      <td>0.00</td>\n",
       "      <td>0.00</td>\n",
       "      <td>0.0</td>\n",
       "      <td>1</td>\n",
       "      <td>1</td>\n",
       "      <td>1</td>\n",
       "      <td>1</td>\n",
       "      <td>1</td>\n",
       "      <td>...</td>\n",
       "      <td>APLIPHONE6GOLD64</td>\n",
       "      <td>NaN</td>\n",
       "      <td>NaN</td>\n",
       "      <td>NaN</td>\n",
       "      <td>NaN</td>\n",
       "      <td>MetroPCS</td>\n",
       "      <td>NaN</td>\n",
       "      <td>NaN</td>\n",
       "      <td>NaN</td>\n",
       "      <td>NaN</td>\n",
       "    </tr>\n",
       "    <tr>\n",
       "      <th>2</th>\n",
       "      <td>0.0</td>\n",
       "      <td>1080.09</td>\n",
       "      <td>0.00</td>\n",
       "      <td>0.00</td>\n",
       "      <td>0.0</td>\n",
       "      <td>1</td>\n",
       "      <td>1</td>\n",
       "      <td>1</td>\n",
       "      <td>1</td>\n",
       "      <td>1</td>\n",
       "      <td>...</td>\n",
       "      <td>NaN</td>\n",
       "      <td>NaN</td>\n",
       "      <td>NaN</td>\n",
       "      <td>NaN</td>\n",
       "      <td>NaN</td>\n",
       "      <td>GoogleVoice</td>\n",
       "      <td>NaN</td>\n",
       "      <td>NaN</td>\n",
       "      <td>NaN</td>\n",
       "      <td>NaN</td>\n",
       "    </tr>\n",
       "    <tr>\n",
       "      <th>3</th>\n",
       "      <td>0.0</td>\n",
       "      <td>593.97</td>\n",
       "      <td>0.00</td>\n",
       "      <td>0.00</td>\n",
       "      <td>0.0</td>\n",
       "      <td>0</td>\n",
       "      <td>1</td>\n",
       "      <td>1</td>\n",
       "      <td>1</td>\n",
       "      <td>1</td>\n",
       "      <td>...</td>\n",
       "      <td>NaN</td>\n",
       "      <td>NaN</td>\n",
       "      <td>NaN</td>\n",
       "      <td>NaN</td>\n",
       "      <td>NaN</td>\n",
       "      <td>NaN</td>\n",
       "      <td>NaN</td>\n",
       "      <td>NaN</td>\n",
       "      <td>NaN</td>\n",
       "      <td>NaN</td>\n",
       "    </tr>\n",
       "    <tr>\n",
       "      <th>4</th>\n",
       "      <td>0.0</td>\n",
       "      <td>0.00</td>\n",
       "      <td>0.00</td>\n",
       "      <td>0.00</td>\n",
       "      <td>0.0</td>\n",
       "      <td>1</td>\n",
       "      <td>1</td>\n",
       "      <td>1</td>\n",
       "      <td>1</td>\n",
       "      <td>1</td>\n",
       "      <td>...</td>\n",
       "      <td>190198155795</td>\n",
       "      <td>NaN</td>\n",
       "      <td>NaN</td>\n",
       "      <td>NaN</td>\n",
       "      <td>NaN</td>\n",
       "      <td>Other/NotSure</td>\n",
       "      <td>NaN</td>\n",
       "      <td>NaN</td>\n",
       "      <td>NaN</td>\n",
       "      <td>NaN</td>\n",
       "    </tr>\n",
       "  </tbody>\n",
       "</table>\n",
       "<p>5 rows × 81 columns</p>\n",
       "</div>"
      ],
      "text/plain": [
       "   FRAUDNET_SCORE  TOTAL_PRICE  PRICE3  PRICE4  PRICE5  NUM_PORTIN  \\\n",
       "0             0.0      1554.60  119.99  119.99     0.0           0   \n",
       "1             0.0         0.00    0.00    0.00     0.0           1   \n",
       "2             0.0      1080.09    0.00    0.00     0.0           1   \n",
       "3             0.0       593.97    0.00    0.00     0.0           0   \n",
       "4             0.0         0.00    0.00    0.00     0.0           1   \n",
       "\n",
       "   ACNT_BILL_FNAME_MATCHES  ACNT_BILL_LNAME_MATCHES  ACNT_SHIP_FNAME_MATCHES  \\\n",
       "0                        1                        1                        1   \n",
       "1                        1                        1                        1   \n",
       "2                        1                        1                        1   \n",
       "3                        1                        1                        1   \n",
       "4                        1                        1                        1   \n",
       "\n",
       "   ACNT_SHIP_LNAME_MATCHES    ...                BYOD1  BYOD2  BYOD3  BYOD4  \\\n",
       "0                        1    ...                  NaN    NaN    NaN    NaN   \n",
       "1                        1    ...     APLIPHONE6GOLD64    NaN    NaN    NaN   \n",
       "2                        1    ...                  NaN    NaN    NaN    NaN   \n",
       "3                        1    ...                  NaN    NaN    NaN    NaN   \n",
       "4                        1    ...         190198155795    NaN    NaN    NaN   \n",
       "\n",
       "   BYOD5       CARRIER1  CARRIER2  CARRIER3  CARRIER4  CARRIER5  \n",
       "0    NaN            NaN       NaN       NaN       NaN       NaN  \n",
       "1    NaN       MetroPCS       NaN       NaN       NaN       NaN  \n",
       "2    NaN    GoogleVoice       NaN       NaN       NaN       NaN  \n",
       "3    NaN            NaN       NaN       NaN       NaN       NaN  \n",
       "4    NaN  Other/NotSure       NaN       NaN       NaN       NaN  \n",
       "\n",
       "[5 rows x 81 columns]"
      ]
     },
     "execution_count": 52,
     "metadata": {},
     "output_type": "execute_result"
    }
   ],
   "source": [
    "train_df.head()"
   ]
  },
  {
   "cell_type": "code",
   "execution_count": 53,
   "metadata": {},
   "outputs": [
    {
     "data": {
      "text/plain": [
       "0    1.558789e+09\n",
       "1    1.571514e+09\n",
       "2    1.568388e+09\n",
       "3    1.568843e+09\n",
       "4    1.570415e+09\n",
       "Name: ORDER_CREATED_DATE, dtype: float64"
      ]
     },
     "execution_count": 53,
     "metadata": {},
     "output_type": "execute_result"
    }
   ],
   "source": [
    "train_df['ORDER_CREATED_DATE'].head()"
   ]
  },
  {
   "cell_type": "code",
   "execution_count": 127,
   "metadata": {},
   "outputs": [
    {
     "data": {
      "text/plain": [
       "(239276, 1)"
      ]
     },
     "execution_count": 127,
     "metadata": {},
     "output_type": "execute_result"
    }
   ],
   "source": [
    "train_order_date_df = train_df[['ORDER_CREATED_DATE']]\n",
    "train_order_date_df.shape"
   ]
  },
  {
   "cell_type": "code",
   "execution_count": 128,
   "metadata": {},
   "outputs": [
    {
     "data": {
      "text/html": [
       "<div>\n",
       "<style scoped>\n",
       "    .dataframe tbody tr th:only-of-type {\n",
       "        vertical-align: middle;\n",
       "    }\n",
       "\n",
       "    .dataframe tbody tr th {\n",
       "        vertical-align: top;\n",
       "    }\n",
       "\n",
       "    .dataframe thead th {\n",
       "        text-align: right;\n",
       "    }\n",
       "</style>\n",
       "<table border=\"1\" class=\"dataframe\">\n",
       "  <thead>\n",
       "    <tr style=\"text-align: right;\">\n",
       "      <th></th>\n",
       "      <th>ORDER_CREATED_DATE</th>\n",
       "    </tr>\n",
       "  </thead>\n",
       "  <tbody>\n",
       "    <tr>\n",
       "      <th>0</th>\n",
       "      <td>1.558789e+09</td>\n",
       "    </tr>\n",
       "    <tr>\n",
       "      <th>1</th>\n",
       "      <td>1.571514e+09</td>\n",
       "    </tr>\n",
       "    <tr>\n",
       "      <th>2</th>\n",
       "      <td>1.568388e+09</td>\n",
       "    </tr>\n",
       "    <tr>\n",
       "      <th>3</th>\n",
       "      <td>1.568843e+09</td>\n",
       "    </tr>\n",
       "    <tr>\n",
       "      <th>4</th>\n",
       "      <td>1.570415e+09</td>\n",
       "    </tr>\n",
       "  </tbody>\n",
       "</table>\n",
       "</div>"
      ],
      "text/plain": [
       "   ORDER_CREATED_DATE\n",
       "0        1.558789e+09\n",
       "1        1.571514e+09\n",
       "2        1.568388e+09\n",
       "3        1.568843e+09\n",
       "4        1.570415e+09"
      ]
     },
     "execution_count": 128,
     "metadata": {},
     "output_type": "execute_result"
    }
   ],
   "source": [
    "train_order_date_df.head()"
   ]
  },
  {
   "cell_type": "code",
   "execution_count": 131,
   "metadata": {},
   "outputs": [
    {
     "name": "stderr",
     "output_type": "stream",
     "text": [
      "/anaconda/envs/azureml_py36/lib/python3.6/site-packages/ipykernel_launcher.py:1: SettingWithCopyWarning: \n",
      "A value is trying to be set on a copy of a slice from a DataFrame.\n",
      "Try using .loc[row_indexer,col_indexer] = value instead\n",
      "\n",
      "See the caveats in the documentation: http://pandas.pydata.org/pandas-docs/stable/indexing.html#indexing-view-versus-copy\n",
      "  \"\"\"Entry point for launching an IPython kernel.\n"
     ]
    }
   ],
   "source": [
    "train_order_date_df['ORDER_CREATED_DATE'] = pd.to_datetime(train_order_date_df['ORDER_CREATED_DATE'],unit='s')"
   ]
  },
  {
   "cell_type": "code",
   "execution_count": 132,
   "metadata": {},
   "outputs": [],
   "source": [
    "# train_order_date_df[\"ORDER_CREATED_DATE\"] = train_order_date_df[\"ORDER_CREATED_DATE\"].astype(\"datetime64\")"
   ]
  },
  {
   "cell_type": "code",
   "execution_count": 133,
   "metadata": {},
   "outputs": [
    {
     "data": {
      "text/html": [
       "<div>\n",
       "<style scoped>\n",
       "    .dataframe tbody tr th:only-of-type {\n",
       "        vertical-align: middle;\n",
       "    }\n",
       "\n",
       "    .dataframe tbody tr th {\n",
       "        vertical-align: top;\n",
       "    }\n",
       "\n",
       "    .dataframe thead th {\n",
       "        text-align: right;\n",
       "    }\n",
       "</style>\n",
       "<table border=\"1\" class=\"dataframe\">\n",
       "  <thead>\n",
       "    <tr style=\"text-align: right;\">\n",
       "      <th></th>\n",
       "      <th>ORDER_CREATED_DATE</th>\n",
       "    </tr>\n",
       "  </thead>\n",
       "  <tbody>\n",
       "    <tr>\n",
       "      <th>0</th>\n",
       "      <td>2019-05-25 12:52:01</td>\n",
       "    </tr>\n",
       "    <tr>\n",
       "      <th>1</th>\n",
       "      <td>2019-10-19 19:32:01</td>\n",
       "    </tr>\n",
       "    <tr>\n",
       "      <th>2</th>\n",
       "      <td>2019-09-13 15:18:21</td>\n",
       "    </tr>\n",
       "    <tr>\n",
       "      <th>3</th>\n",
       "      <td>2019-09-18 21:36:05</td>\n",
       "    </tr>\n",
       "    <tr>\n",
       "      <th>4</th>\n",
       "      <td>2019-10-07 02:25:39</td>\n",
       "    </tr>\n",
       "  </tbody>\n",
       "</table>\n",
       "</div>"
      ],
      "text/plain": [
       "   ORDER_CREATED_DATE\n",
       "0 2019-05-25 12:52:01\n",
       "1 2019-10-19 19:32:01\n",
       "2 2019-09-13 15:18:21\n",
       "3 2019-09-18 21:36:05\n",
       "4 2019-10-07 02:25:39"
      ]
     },
     "execution_count": 133,
     "metadata": {},
     "output_type": "execute_result"
    }
   ],
   "source": [
    "train_order_date_df.head()"
   ]
  },
  {
   "cell_type": "code",
   "execution_count": 134,
   "metadata": {},
   "outputs": [
    {
     "data": {
      "text/plain": [
       "<matplotlib.axes._subplots.AxesSubplot at 0x7ff1ec433748>"
      ]
     },
     "execution_count": 134,
     "metadata": {},
     "output_type": "execute_result"
    },
    {
     "data": {
      "image/png": "[encoded data removed]",
      "text/plain": [
       "<Figure size 432x288 with 1 Axes>"
      ]
     },
     "metadata": {
      "needs_background": "light"
     },
     "output_type": "display_data"
    }
   ],
   "source": [
    "# see how the orders spread out over time\n",
    "train_order_date_df.groupby([train_order_date_df[\"ORDER_CREATED_DATE\"].dt.year, train_order_date_df[\"ORDER_CREATED_DATE\"].dt.month]).count().plot(kind=\"bar\")"
   ]
  },
  {
   "cell_type": "code",
   "execution_count": 54,
   "metadata": {},
   "outputs": [
    {
     "data": {
      "text/html": [
       "<div>\n",
       "<style scoped>\n",
       "    .dataframe tbody tr th:only-of-type {\n",
       "        vertical-align: middle;\n",
       "    }\n",
       "\n",
       "    .dataframe tbody tr th {\n",
       "        vertical-align: top;\n",
       "    }\n",
       "\n",
       "    .dataframe thead th {\n",
       "        text-align: right;\n",
       "    }\n",
       "</style>\n",
       "<table border=\"1\" class=\"dataframe\">\n",
       "  <thead>\n",
       "    <tr style=\"text-align: right;\">\n",
       "      <th></th>\n",
       "      <th>ACCOUNT_NUMBER</th>\n",
       "      <th>ORDER_CREATED_DATE</th>\n",
       "    </tr>\n",
       "  </thead>\n",
       "  <tbody>\n",
       "    <tr>\n",
       "      <th>0</th>\n",
       "      <td>571</td>\n",
       "      <td>1.557849e+09</td>\n",
       "    </tr>\n",
       "    <tr>\n",
       "      <th>1</th>\n",
       "      <td>9660</td>\n",
       "      <td>1.572011e+09</td>\n",
       "    </tr>\n",
       "    <tr>\n",
       "      <th>2</th>\n",
       "      <td>49364</td>\n",
       "      <td>1.569797e+09</td>\n",
       "    </tr>\n",
       "    <tr>\n",
       "      <th>3</th>\n",
       "      <td>73801</td>\n",
       "      <td>1.569706e+09</td>\n",
       "    </tr>\n",
       "    <tr>\n",
       "      <th>4</th>\n",
       "      <td>141229</td>\n",
       "      <td>1.565371e+09</td>\n",
       "    </tr>\n",
       "  </tbody>\n",
       "</table>\n",
       "</div>"
      ],
      "text/plain": [
       "   ACCOUNT_NUMBER  ORDER_CREATED_DATE\n",
       "0             571        1.557849e+09\n",
       "1            9660        1.572011e+09\n",
       "2           49364        1.569797e+09\n",
       "3           73801        1.569706e+09\n",
       "4          141229        1.565371e+09"
      ]
     },
     "execution_count": 54,
     "metadata": {},
     "output_type": "execute_result"
    }
   ],
   "source": [
    "# if multiple orders per account, find the last order date\n",
    "account_df = train_df.groupby(['ACCOUNT_NUMBER']).ORDER_CREATED_DATE.max().reset_index() \n",
    "account_df.head()"
   ]
  },
  {
   "cell_type": "code",
   "execution_count": 55,
   "metadata": {},
   "outputs": [],
   "source": [
    "account_df.rename(columns={'ORDER_CREATED_DATE':'LAST_ORDER_DATE'}, inplace=True)"
   ]
  },
  {
   "cell_type": "code",
   "execution_count": 56,
   "metadata": {},
   "outputs": [
    {
     "data": {
      "text/html": [
       "<div>\n",
       "<style scoped>\n",
       "    .dataframe tbody tr th:only-of-type {\n",
       "        vertical-align: middle;\n",
       "    }\n",
       "\n",
       "    .dataframe tbody tr th {\n",
       "        vertical-align: top;\n",
       "    }\n",
       "\n",
       "    .dataframe thead th {\n",
       "        text-align: right;\n",
       "    }\n",
       "</style>\n",
       "<table border=\"1\" class=\"dataframe\">\n",
       "  <thead>\n",
       "    <tr style=\"text-align: right;\">\n",
       "      <th></th>\n",
       "      <th>ACCOUNT_NUMBER</th>\n",
       "      <th>LAST_ORDER_DATE</th>\n",
       "    </tr>\n",
       "  </thead>\n",
       "  <tbody>\n",
       "    <tr>\n",
       "      <th>0</th>\n",
       "      <td>571</td>\n",
       "      <td>1.557849e+09</td>\n",
       "    </tr>\n",
       "    <tr>\n",
       "      <th>1</th>\n",
       "      <td>9660</td>\n",
       "      <td>1.572011e+09</td>\n",
       "    </tr>\n",
       "    <tr>\n",
       "      <th>2</th>\n",
       "      <td>49364</td>\n",
       "      <td>1.569797e+09</td>\n",
       "    </tr>\n",
       "    <tr>\n",
       "      <th>3</th>\n",
       "      <td>73801</td>\n",
       "      <td>1.569706e+09</td>\n",
       "    </tr>\n",
       "    <tr>\n",
       "      <th>4</th>\n",
       "      <td>141229</td>\n",
       "      <td>1.565371e+09</td>\n",
       "    </tr>\n",
       "  </tbody>\n",
       "</table>\n",
       "</div>"
      ],
      "text/plain": [
       "   ACCOUNT_NUMBER  LAST_ORDER_DATE\n",
       "0             571     1.557849e+09\n",
       "1            9660     1.572011e+09\n",
       "2           49364     1.569797e+09\n",
       "3           73801     1.569706e+09\n",
       "4          141229     1.565371e+09"
      ]
     },
     "execution_count": 56,
     "metadata": {},
     "output_type": "execute_result"
    }
   ],
   "source": [
    "account_df.head()"
   ]
  },
  {
   "cell_type": "code",
   "execution_count": 139,
   "metadata": {},
   "outputs": [
    {
     "data": {
      "text/html": [
       "<div>\n",
       "<style scoped>\n",
       "    .dataframe tbody tr th:only-of-type {\n",
       "        vertical-align: middle;\n",
       "    }\n",
       "\n",
       "    .dataframe tbody tr th {\n",
       "        vertical-align: top;\n",
       "    }\n",
       "\n",
       "    .dataframe thead th {\n",
       "        text-align: right;\n",
       "    }\n",
       "</style>\n",
       "<table border=\"1\" class=\"dataframe\">\n",
       "  <thead>\n",
       "    <tr style=\"text-align: right;\">\n",
       "      <th></th>\n",
       "      <th>ACCOUNT_NUMBER</th>\n",
       "      <th>LAST_ORDER_DATE</th>\n",
       "      <th>called</th>\n",
       "    </tr>\n",
       "  </thead>\n",
       "  <tbody>\n",
       "  </tbody>\n",
       "</table>\n",
       "</div>"
      ],
      "text/plain": [
       "Empty DataFrame\n",
       "Columns: [ACCOUNT_NUMBER, LAST_ORDER_DATE, called]\n",
       "Index: []"
      ]
     },
     "execution_count": 139,
     "metadata": {},
     "output_type": "execute_result"
    }
   ],
   "source": [
    "account_df[account_df['ACCOUNT_NUMBER']==1621175991]"
   ]
  },
  {
   "cell_type": "code",
   "execution_count": 57,
   "metadata": {},
   "outputs": [
    {
     "data": {
      "text/plain": [
       "Index(['ACCOUNT_NUMBER', 'LAST_ORDER_DATE'], dtype='object')"
      ]
     },
     "execution_count": 57,
     "metadata": {},
     "output_type": "execute_result"
    }
   ],
   "source": [
    "account_df.columns"
   ]
  },
  {
   "cell_type": "code",
   "execution_count": 95,
   "metadata": {},
   "outputs": [
    {
     "data": {
      "text/plain": [
       "(191927, 3)"
      ]
     },
     "execution_count": 95,
     "metadata": {},
     "output_type": "execute_result"
    }
   ],
   "source": [
    "account_df.shape"
   ]
  },
  {
   "cell_type": "code",
   "execution_count": 59,
   "metadata": {},
   "outputs": [],
   "source": [
    "# type(lastest_call_df)"
   ]
  },
  {
   "cell_type": "code",
   "execution_count": 67,
   "metadata": {},
   "outputs": [],
   "source": [
    "def convert_to_datetime(unix_time):\n",
    "#     print('unix_time={}'.format(unix_time))\n",
    "    bd = int(unix_time)\n",
    "    return datetime.datetime.utcfromtimestamp(bd)"
   ]
  },
  {
   "cell_type": "code",
   "execution_count": 90,
   "metadata": {},
   "outputs": [],
   "source": [
    "# need a function to extract ivr_data rows by date range and account\n",
    "# this matches up a call that occurs within 1 week (month) since last order for an account\n",
    "def called(account, unix_beg_date):\n",
    "    beg_date = convert_to_datetime(unix_beg_date)\n",
    "    end_date = beg_date + datetime.timedelta(days=30)\n",
    "#     print('beg_date, end_date={},{}'.format(beg_date, end_date))\n",
    "#     print('account={}'.format(account))\n",
    "    account_calls_df = ivr_data[ivr_data['CALLERANI']==account]\n",
    "#     print('account_calls_df shape={}'.format(account_calls_df.shape))\n",
    "    call_date_list = account_calls_df['CALLDATETIME'].values.tolist()\n",
    "    for call_unix_date_ns in call_date_list:\n",
    "#         print(type(call_unix_date_ns))\n",
    "        call_unix_date = call_unix_date_ns/1000000000\n",
    "#         print('call_unix_date={}'.format(call_unix_date))\n",
    "        call_datetime = convert_to_datetime(call_unix_date)\n",
    "        if (call_datetime > beg_date) & (call_datetime <= end_date):\n",
    "            return True\n",
    "    return False"
   ]
  },
  {
   "cell_type": "code",
   "execution_count": 75,
   "metadata": {},
   "outputs": [
    {
     "data": {
      "text/plain": [
       "1558788721.0"
      ]
     },
     "execution_count": 75,
     "metadata": {},
     "output_type": "execute_result"
    }
   ],
   "source": [
    "unix_order_date = train_df.iloc[0]['ORDER_CREATED_DATE']\n",
    "unix_order_date     "
   ]
  },
  {
   "cell_type": "code",
   "execution_count": 76,
   "metadata": {},
   "outputs": [],
   "source": [
    "# type(unix_order_date)"
   ]
  },
  {
   "cell_type": "code",
   "execution_count": 77,
   "metadata": {},
   "outputs": [],
   "source": [
    "# account = train_df.iloc[0]['ACCOUNT_NUMBER']\n",
    "# account"
   ]
  },
  {
   "cell_type": "code",
   "execution_count": 78,
   "metadata": {},
   "outputs": [],
   "source": [
    "account = 2177522724"
   ]
  },
  {
   "cell_type": "code",
   "execution_count": 79,
   "metadata": {},
   "outputs": [
    {
     "data": {
      "text/plain": [
       "False"
      ]
     },
     "execution_count": 79,
     "metadata": {},
     "output_type": "execute_result"
    }
   ],
   "source": [
    "called(account, unix_order_date)"
   ]
  },
  {
   "cell_type": "code",
   "execution_count": 89,
   "metadata": {},
   "outputs": [
    {
     "data": {
      "text/html": [
       "<div>\n",
       "<style scoped>\n",
       "    .dataframe tbody tr th:only-of-type {\n",
       "        vertical-align: middle;\n",
       "    }\n",
       "\n",
       "    .dataframe tbody tr th {\n",
       "        vertical-align: top;\n",
       "    }\n",
       "\n",
       "    .dataframe thead th {\n",
       "        text-align: right;\n",
       "    }\n",
       "</style>\n",
       "<table border=\"1\" class=\"dataframe\">\n",
       "  <thead>\n",
       "    <tr style=\"text-align: right;\">\n",
       "      <th></th>\n",
       "      <th>CALLKEY</th>\n",
       "      <th>IVRRECORDTYPE</th>\n",
       "      <th>CALLDATETIME</th>\n",
       "      <th>STARTDATETIME</th>\n",
       "      <th>ENDDATETIME</th>\n",
       "      <th>CALLERANI</th>\n",
       "      <th>ENTEREDPHONE</th>\n",
       "      <th>ACCOUNTNUMBER</th>\n",
       "      <th>TRANSFERNUMBER</th>\n",
       "      <th>DURATION</th>\n",
       "      <th>...</th>\n",
       "      <th>CNFRMDAPPO</th>\n",
       "      <th>APPOINFOSMSSUCC</th>\n",
       "      <th>APPOINFOSMSUNSUCC</th>\n",
       "      <th>HEARDBROADCASTMSG</th>\n",
       "      <th>HASOUTAGE</th>\n",
       "      <th>OUTAGEID</th>\n",
       "      <th>LSTNONXFERNODE</th>\n",
       "      <th>LSTNONXFERNODETYP</th>\n",
       "      <th>LSTNONXFERNODEMOD</th>\n",
       "      <th>LSTNONXFERNODEMODFN</th>\n",
       "    </tr>\n",
       "  </thead>\n",
       "  <tbody>\n",
       "    <tr>\n",
       "      <th>73237</th>\n",
       "      <td>4535974653</td>\n",
       "      <td>Inbound</td>\n",
       "      <td>2019-12-11 01:04:46</td>\n",
       "      <td>2019-12-11 01:04:46</td>\n",
       "      <td>2019-12-11 01:06:57</td>\n",
       "      <td>2177522724</td>\n",
       "      <td>NaN</td>\n",
       "      <td>3.926280e+09</td>\n",
       "      <td>106962160</td>\n",
       "      <td>131</td>\n",
       "      <td>...</td>\n",
       "      <td>NaN</td>\n",
       "      <td>NaN</td>\n",
       "      <td>NaN</td>\n",
       "      <td>NaN</td>\n",
       "      <td>NaN</td>\n",
       "      <td>NaN</td>\n",
       "      <td>prompt_XMLastFourSMOP</td>\n",
       "      <td>Navigational</td>\n",
       "      <td>XFINITYMOBILE</td>\n",
       "      <td>XM Auth</td>\n",
       "    </tr>\n",
       "    <tr>\n",
       "      <th>978145</th>\n",
       "      <td>4449822430</td>\n",
       "      <td>Inbound</td>\n",
       "      <td>2019-11-11 11:14:45</td>\n",
       "      <td>2019-11-11 11:14:45</td>\n",
       "      <td>2019-11-11 11:16:27</td>\n",
       "      <td>2177522724</td>\n",
       "      <td>NaN</td>\n",
       "      <td>3.926280e+09</td>\n",
       "      <td>4032217810</td>\n",
       "      <td>102</td>\n",
       "      <td>...</td>\n",
       "      <td>NaN</td>\n",
       "      <td>NaN</td>\n",
       "      <td>NaN</td>\n",
       "      <td>NaN</td>\n",
       "      <td>NaN</td>\n",
       "      <td>NaN</td>\n",
       "      <td>prompt_NLXfinityOptions</td>\n",
       "      <td>Navigational</td>\n",
       "      <td>CALLERINTENT</td>\n",
       "      <td>NL_XfinityMobile</td>\n",
       "    </tr>\n",
       "    <tr>\n",
       "      <th>1771633</th>\n",
       "      <td>3956349960</td>\n",
       "      <td>Inbound</td>\n",
       "      <td>2019-06-04 13:13:50</td>\n",
       "      <td>2019-06-04 13:13:50</td>\n",
       "      <td>2019-06-04 13:15:39</td>\n",
       "      <td>2177522724</td>\n",
       "      <td>NaN</td>\n",
       "      <td>3.926280e+09</td>\n",
       "      <td>4032217810</td>\n",
       "      <td>109</td>\n",
       "      <td>...</td>\n",
       "      <td>NaN</td>\n",
       "      <td>NaN</td>\n",
       "      <td>NaN</td>\n",
       "      <td>NaN</td>\n",
       "      <td>NaN</td>\n",
       "      <td>NaN</td>\n",
       "      <td>prompt_NLXfinityOptions</td>\n",
       "      <td>Navigational</td>\n",
       "      <td>CALLERINTENT</td>\n",
       "      <td>NL_XfinityMobile</td>\n",
       "    </tr>\n",
       "  </tbody>\n",
       "</table>\n",
       "<p>3 rows × 63 columns</p>\n",
       "</div>"
      ],
      "text/plain": [
       "            CALLKEY IVRRECORDTYPE        CALLDATETIME        STARTDATETIME  \\\n",
       "73237    4535974653       Inbound 2019-12-11 01:04:46  2019-12-11 01:04:46   \n",
       "978145   4449822430       Inbound 2019-11-11 11:14:45  2019-11-11 11:14:45   \n",
       "1771633  3956349960       Inbound 2019-06-04 13:13:50  2019-06-04 13:13:50   \n",
       "\n",
       "                 ENDDATETIME   CALLERANI  ENTEREDPHONE  ACCOUNTNUMBER  \\\n",
       "73237    2019-12-11 01:06:57  2177522724           NaN   3.926280e+09   \n",
       "978145   2019-11-11 11:16:27  2177522724           NaN   3.926280e+09   \n",
       "1771633  2019-06-04 13:15:39  2177522724           NaN   3.926280e+09   \n",
       "\n",
       "         TRANSFERNUMBER  DURATION         ...          CNFRMDAPPO  \\\n",
       "73237         106962160       131         ...                 NaN   \n",
       "978145       4032217810       102         ...                 NaN   \n",
       "1771633      4032217810       109         ...                 NaN   \n",
       "\n",
       "        APPOINFOSMSSUCC APPOINFOSMSUNSUCC HEARDBROADCASTMSG HASOUTAGE  \\\n",
       "73237               NaN               NaN               NaN       NaN   \n",
       "978145              NaN               NaN               NaN       NaN   \n",
       "1771633             NaN               NaN               NaN       NaN   \n",
       "\n",
       "        OUTAGEID           LSTNONXFERNODE LSTNONXFERNODETYP LSTNONXFERNODEMOD  \\\n",
       "73237        NaN    prompt_XMLastFourSMOP      Navigational     XFINITYMOBILE   \n",
       "978145       NaN  prompt_NLXfinityOptions      Navigational      CALLERINTENT   \n",
       "1771633      NaN  prompt_NLXfinityOptions      Navigational      CALLERINTENT   \n",
       "\n",
       "        LSTNONXFERNODEMODFN  \n",
       "73237               XM Auth  \n",
       "978145     NL_XfinityMobile  \n",
       "1771633    NL_XfinityMobile  \n",
       "\n",
       "[3 rows x 63 columns]"
      ]
     },
     "execution_count": 89,
     "metadata": {},
     "output_type": "execute_result"
    }
   ],
   "source": [
    "ivr_data[ivr_data['CALLERANI']==account]"
   ]
  },
  {
   "cell_type": "code",
   "execution_count": 91,
   "metadata": {},
   "outputs": [],
   "source": [
    "account_df['called'] = account_df.apply(lambda x: called(x['ACCOUNT_NUMBER'], x['LAST_ORDER_DATE']), axis=1)"
   ]
  },
  {
   "cell_type": "code",
   "execution_count": 92,
   "metadata": {},
   "outputs": [
    {
     "data": {
      "text/plain": [
       "0    False\n",
       "1    False\n",
       "2    False\n",
       "3    False\n",
       "4    False\n",
       "Name: called, dtype: bool"
      ]
     },
     "execution_count": 92,
     "metadata": {},
     "output_type": "execute_result"
    }
   ],
   "source": [
    "account_df['called'].head()"
   ]
  },
  {
   "cell_type": "code",
   "execution_count": 93,
   "metadata": {},
   "outputs": [
    {
     "data": {
      "text/html": [
       "<div>\n",
       "<style scoped>\n",
       "    .dataframe tbody tr th:only-of-type {\n",
       "        vertical-align: middle;\n",
       "    }\n",
       "\n",
       "    .dataframe tbody tr th {\n",
       "        vertical-align: top;\n",
       "    }\n",
       "\n",
       "    .dataframe thead th {\n",
       "        text-align: right;\n",
       "    }\n",
       "</style>\n",
       "<table border=\"1\" class=\"dataframe\">\n",
       "  <thead>\n",
       "    <tr style=\"text-align: right;\">\n",
       "      <th></th>\n",
       "      <th>ACCOUNT_NUMBER</th>\n",
       "      <th>LAST_ORDER_DATE</th>\n",
       "      <th>called</th>\n",
       "    </tr>\n",
       "  </thead>\n",
       "  <tbody>\n",
       "    <tr>\n",
       "      <th>26851</th>\n",
       "      <td>604308204</td>\n",
       "      <td>1.566593e+09</td>\n",
       "      <td>True</td>\n",
       "    </tr>\n",
       "    <tr>\n",
       "      <th>39841</th>\n",
       "      <td>892264564</td>\n",
       "      <td>1.562707e+09</td>\n",
       "      <td>True</td>\n",
       "    </tr>\n",
       "    <tr>\n",
       "      <th>189314</th>\n",
       "      <td>4236039044</td>\n",
       "      <td>1.565107e+09</td>\n",
       "      <td>True</td>\n",
       "    </tr>\n",
       "    <tr>\n",
       "      <th>189477</th>\n",
       "      <td>4239459532</td>\n",
       "      <td>1.569980e+09</td>\n",
       "      <td>True</td>\n",
       "    </tr>\n",
       "  </tbody>\n",
       "</table>\n",
       "</div>"
      ],
      "text/plain": [
       "        ACCOUNT_NUMBER  LAST_ORDER_DATE  called\n",
       "26851        604308204     1.566593e+09    True\n",
       "39841        892264564     1.562707e+09    True\n",
       "189314      4236039044     1.565107e+09    True\n",
       "189477      4239459532     1.569980e+09    True"
      ]
     },
     "execution_count": 93,
     "metadata": {},
     "output_type": "execute_result"
    }
   ],
   "source": [
    "# only 4 calls found within a month for all the orders. Something is definitely wrong\n",
    "account_df[account_df['called']==True]"
   ]
  },
  {
   "cell_type": "code",
   "execution_count": 94,
   "metadata": {},
   "outputs": [],
   "source": [
    "account_df.to_csv('ivr_backup_data/account_1month_df.csv')"
   ]
  },
  {
   "cell_type": "code",
   "execution_count": null,
   "metadata": {},
   "outputs": [],
   "source": [
    "# only two hits, no good. either longer prediction horizon or count other calls too"
   ]
  },
  {
   "cell_type": "code",
   "execution_count": 99,
   "metadata": {},
   "outputs": [],
   "source": [
    "account_1week_df = pd.read_csv('ivr_backup_data/account_1week_df.csv')"
   ]
  },
  {
   "cell_type": "code",
   "execution_count": 100,
   "metadata": {},
   "outputs": [
    {
     "data": {
      "text/html": [
       "<div>\n",
       "<style scoped>\n",
       "    .dataframe tbody tr th:only-of-type {\n",
       "        vertical-align: middle;\n",
       "    }\n",
       "\n",
       "    .dataframe tbody tr th {\n",
       "        vertical-align: top;\n",
       "    }\n",
       "\n",
       "    .dataframe thead th {\n",
       "        text-align: right;\n",
       "    }\n",
       "</style>\n",
       "<table border=\"1\" class=\"dataframe\">\n",
       "  <thead>\n",
       "    <tr style=\"text-align: right;\">\n",
       "      <th></th>\n",
       "      <th>Unnamed: 0</th>\n",
       "      <th>ACCOUNT_NUMBER</th>\n",
       "      <th>LAST_ORDER_DATE</th>\n",
       "      <th>called</th>\n",
       "    </tr>\n",
       "  </thead>\n",
       "  <tbody>\n",
       "    <tr>\n",
       "      <th>26851</th>\n",
       "      <td>26851</td>\n",
       "      <td>604308204</td>\n",
       "      <td>1.566593e+09</td>\n",
       "      <td>True</td>\n",
       "    </tr>\n",
       "    <tr>\n",
       "      <th>189477</th>\n",
       "      <td>189477</td>\n",
       "      <td>4239459532</td>\n",
       "      <td>1.569980e+09</td>\n",
       "      <td>True</td>\n",
       "    </tr>\n",
       "  </tbody>\n",
       "</table>\n",
       "</div>"
      ],
      "text/plain": [
       "        Unnamed: 0  ACCOUNT_NUMBER  LAST_ORDER_DATE  called\n",
       "26851        26851       604308204     1.566593e+09    True\n",
       "189477      189477      4239459532     1.569980e+09    True"
      ]
     },
     "execution_count": 100,
     "metadata": {},
     "output_type": "execute_result"
    }
   ],
   "source": [
    "# only 2 calls found within a week for all the orders. Something is definitely wrong\n",
    "account_1week_df[account_1week_df['called']==True]"
   ]
  },
  {
   "cell_type": "code",
   "execution_count": null,
   "metadata": {},
   "outputs": [],
   "source": []
  }
 ],
 "metadata": {
  "kernelspec": {
   "display_name": "Python 3.6 - AzureML",
   "language": "python",
   "name": "python3-azureml"
  },
  "language_info": {
   "codemirror_mode": {
    "name": "ipython",
    "version": 3
   },
   "file_extension": ".py",
   "mimetype": "text/x-python",
   "name": "python",
   "nbconvert_exporter": "python",
   "pygments_lexer": "ipython3",
   "version": "3.6.2"
  }
 },
 "nbformat": 4,
 "nbformat_minor": 2
}
