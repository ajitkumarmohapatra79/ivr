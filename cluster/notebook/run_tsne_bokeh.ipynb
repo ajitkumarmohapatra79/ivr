{
 "cells": [
  {
   "cell_type": "code",
   "execution_count": 1,
   "metadata": {},
   "outputs": [],
   "source": [
    "# pip install cmake MulticoreTSNE sentence-transformers"
   ]
  },
  {
   "cell_type": "code",
   "execution_count": 2,
   "metadata": {},
   "outputs": [],
   "source": [
    "# Importing the relevant libraries\n",
    "import numpy as np\n",
    "import pandas as pd\n",
    "import seaborn as sns\n",
    "import matplotlib.pyplot as plt\n",
    "\n",
    "import re\n",
    "from functools import reduce\n",
    "  \n",
    "import bokeh\n",
    "import bokeh.plotting as bp\n",
    "from bokeh.models import HoverTool, BoxSelectTool\n",
    "from bokeh.models import ColumnDataSource\n",
    "from bokeh.plotting import figure, show, output_notebook, reset_output\n",
    "from bokeh.palettes import d3\n",
    "import bokeh.models as bmo\n",
    "from bokeh.io import save, output_file\n",
    "import matplotlib as mpl\n",
    "from MulticoreTSNE import MulticoreTSNE as TSNE\n",
    "# init_notebook_mode(connected = True)\n",
    "# color = sns.color_palette(\"Set2\")\n",
    "import warnings\n",
    "warnings.filterwarnings(\"ignore\")\n",
    "\n",
    "pd.options.mode.chained_assignment = None\n",
    "pd.options.display.max_columns = 999\n",
    "pd.options.display.max_rows = 999\n",
    "\n",
    "import pickle as pkl\n",
    "import collections, numpy"
   ]
  },
  {
   "cell_type": "code",
   "execution_count": 3,
   "metadata": {},
   "outputs": [],
   "source": [
    "with open('../../ivr_backup_data/account_embeds.pkl', 'rb') as embed_file:\n",
    "    embed = pkl.load(embed_file)"
   ]
  },
  {
   "cell_type": "code",
   "execution_count": 4,
   "metadata": {},
   "outputs": [
    {
     "data": {
      "text/plain": [
       "(134283, 600)"
      ]
     },
     "execution_count": 4,
     "metadata": {},
     "output_type": "execute_result"
    }
   ],
   "source": [
    "embed.shape"
   ]
  },
  {
   "cell_type": "code",
   "execution_count": 5,
   "metadata": {},
   "outputs": [],
   "source": [
    "with open('../../ivr_backup_data/account_keys.pkl', 'rb') as key_file:\n",
    "    account_keys = pkl.load(key_file)"
   ]
  },
  {
   "cell_type": "code",
   "execution_count": 57,
   "metadata": {},
   "outputs": [
    {
     "data": {
      "text/plain": [
       "(134283,)"
      ]
     },
     "execution_count": 57,
     "metadata": {},
     "output_type": "execute_result"
    }
   ],
   "source": [
    "account_keys.shape"
   ]
  },
  {
   "cell_type": "code",
   "execution_count": 7,
   "metadata": {},
   "outputs": [],
   "source": [
    "aws_result_df = pd.read_csv('../../ivr_backup_data/active_watch_result.csv')"
   ]
  },
  {
   "cell_type": "code",
   "execution_count": 8,
   "metadata": {},
   "outputs": [],
   "source": [
    "labels = aws_result_df['ACTIVE_WATCH_RESULT'].values"
   ]
  },
  {
   "cell_type": "code",
   "execution_count": 9,
   "metadata": {},
   "outputs": [],
   "source": [
    "# labels.shape"
   ]
  },
  {
   "cell_type": "code",
   "execution_count": 58,
   "metadata": {},
   "outputs": [],
   "source": [
    "reduced_data_set = embed[501:1501, :]    # skip first row which is for \"#na#\""
   ]
  },
  {
   "cell_type": "code",
   "execution_count": 59,
   "metadata": {},
   "outputs": [
    {
     "data": {
      "text/plain": [
       "(1000, 600)"
      ]
     },
     "execution_count": 59,
     "metadata": {},
     "output_type": "execute_result"
    }
   ],
   "source": [
    "reduced_data_set.shape"
   ]
  },
  {
   "cell_type": "code",
   "execution_count": 60,
   "metadata": {},
   "outputs": [],
   "source": [
    "reduced_ids = account_keys[501:1501]"
   ]
  },
  {
   "cell_type": "code",
   "execution_count": 61,
   "metadata": {},
   "outputs": [
    {
     "data": {
      "text/plain": [
       "(1000,)"
      ]
     },
     "execution_count": 61,
     "metadata": {},
     "output_type": "execute_result"
    }
   ],
   "source": [
    "reduced_ids.shape"
   ]
  },
  {
   "cell_type": "code",
   "execution_count": 62,
   "metadata": {},
   "outputs": [],
   "source": [
    "y = labels[500:1500]"
   ]
  },
  {
   "cell_type": "code",
   "execution_count": 63,
   "metadata": {},
   "outputs": [
    {
     "data": {
      "text/plain": [
       "(1000,)"
      ]
     },
     "execution_count": 63,
     "metadata": {},
     "output_type": "execute_result"
    }
   ],
   "source": [
    "y.shape"
   ]
  },
  {
   "cell_type": "code",
   "execution_count": 16,
   "metadata": {},
   "outputs": [],
   "source": [
    "# collections.Counter(y)"
   ]
  },
  {
   "cell_type": "code",
   "execution_count": 64,
   "metadata": {},
   "outputs": [],
   "source": [
    "# need convert y back to colors\n",
    "def convert_label(label):\n",
    "    if label == 3:\n",
    "        return 'RED'\n",
    "    if label == 2:\n",
    "        return 'YELLOW'\n",
    "    if label == 1:\n",
    "        return 'GREEN'\n",
    "    raise ValueException       # BLACK"
   ]
  },
  {
   "cell_type": "code",
   "execution_count": 65,
   "metadata": {},
   "outputs": [],
   "source": [
    "aw_color = []\n",
    "for label in y:\n",
    "    aw_color.append(convert_label(label))"
   ]
  },
  {
   "cell_type": "code",
   "execution_count": 66,
   "metadata": {},
   "outputs": [
    {
     "data": {
      "text/plain": [
       "1000"
      ]
     },
     "execution_count": 66,
     "metadata": {},
     "output_type": "execute_result"
    }
   ],
   "source": [
    "len(aw_color)"
   ]
  },
  {
   "cell_type": "code",
   "execution_count": 67,
   "metadata": {},
   "outputs": [],
   "source": [
    "# aw_color"
   ]
  },
  {
   "cell_type": "code",
   "execution_count": 68,
   "metadata": {},
   "outputs": [
    {
     "data": {
      "text/plain": [
       "Counter({'YELLOW': 85, 'GREEN': 806, 'RED': 109})"
      ]
     },
     "execution_count": 68,
     "metadata": {},
     "output_type": "execute_result"
    }
   ],
   "source": [
    "collections.Counter(aw_color)"
   ]
  },
  {
   "cell_type": "code",
   "execution_count": 69,
   "metadata": {},
   "outputs": [],
   "source": [
    "acct_id_array = reduced_ids    # skip first row which is for \"#na#\""
   ]
  },
  {
   "cell_type": "code",
   "execution_count": 70,
   "metadata": {},
   "outputs": [
    {
     "data": {
      "text/plain": [
       "(1000,)"
      ]
     },
     "execution_count": 70,
     "metadata": {},
     "output_type": "execute_result"
    }
   ],
   "source": [
    "acct_id_array.shape"
   ]
  },
  {
   "cell_type": "code",
   "execution_count": 71,
   "metadata": {},
   "outputs": [],
   "source": [
    "final_data = reduced_data_set"
   ]
  },
  {
   "cell_type": "code",
   "execution_count": 72,
   "metadata": {},
   "outputs": [],
   "source": [
    "from bokeh.transform import factor_cmap, factor_mark\n"
   ]
  },
  {
   "cell_type": "code",
   "execution_count": 25,
   "metadata": {},
   "outputs": [],
   "source": [
    "# color = '''black\n",
    "#  cadetblue\n",
    "#  chartreuse\n",
    "#  chocolate\n",
    "#  coral\n",
    "#  cornflowerblue\n",
    "#  cornsilk\n",
    "#  crimson\n",
    "#  cyan\n",
    "#  darkblue\n",
    "#  darkcyan\n",
    "#  darkgoldenrod\n",
    "#  darkgray\n",
    "#  darkgreen\n",
    "#  darkgrey\n",
    "#  darkkhaki\n",
    "#  darkmagenta\n",
    "#  darkolivegreen\n",
    "#  darkorange\n",
    "#  darkorchid\n",
    "#  darkred\n",
    "#  darksalmon\n",
    "#  darkseagreen\n",
    "#  darkslateblue\n",
    "#  darkslategray\n",
    "#  darkslategrey\n",
    "#  darkturquoise\n",
    "#  darkviolet\n",
    "#  deeppink\n",
    "#  deepskyblue\n",
    "#  dimgray\n",
    "#  dimgrey\n",
    "#  dodgerblue\n",
    "#  firebrick\n",
    "#  floralwhite\n",
    "#  forestgreen\n",
    "#  fuchsia\n",
    "#  gainsboro\n",
    "#  ghostwhite\n",
    "#  gold\n",
    "#  goldenrod\n",
    "#  gray\n",
    "#  green'''.split()\n",
    "\n",
    "color = '''green\n",
    " yellow\n",
    " red\n",
    " '''.split()\n",
    "\n",
    "colormap = np.array(color)\n",
    "\n",
    "LABELS = ['GREEN', 'YELLOW', 'RED']\n",
    "MARKERS = ['circle','circle', 'circle']"
   ]
  },
  {
   "cell_type": "code",
   "execution_count": 73,
   "metadata": {},
   "outputs": [
    {
     "data": {
      "text/plain": [
       "['GREEN', 'YELLOW', 'RED']"
      ]
     },
     "execution_count": 73,
     "metadata": {},
     "output_type": "execute_result"
    }
   ],
   "source": [
    "LABELS"
   ]
  },
  {
   "cell_type": "code",
   "execution_count": null,
   "metadata": {},
   "outputs": [],
   "source": [
    "aw_color"
   ]
  },
  {
   "cell_type": "code",
   "execution_count": 74,
   "metadata": {},
   "outputs": [
    {
     "data": {
      "text/plain": [
       "array(['green', 'yellow', 'red'], dtype='<U6')"
      ]
     },
     "execution_count": 74,
     "metadata": {},
     "output_type": "execute_result"
    }
   ],
   "source": [
    "colormap"
   ]
  },
  {
   "cell_type": "code",
   "execution_count": 75,
   "metadata": {},
   "outputs": [],
   "source": [
    "tsne_model = TSNE(n_jobs=4,\n",
    "                  perplexity=80,\n",
    "                  early_exaggeration=4, # Trying out exaggeration trick\n",
    "                  n_components=2,\n",
    "                  verbose=1,\n",
    "                  random_state=2018,\n",
    "                  n_iter=1000)\n",
    "\n",
    "tsne_tfidf = tsne_model.fit_transform(np.array(reduced_data_set))\n",
    "\n",
    "tsne_tfidf_df = pd.DataFrame(data=tsne_tfidf, columns=[\"x\", \"y\"])\n",
    "\n",
    "tsne_tfidf_df[\"account_number\"] = reduced_ids\n",
    "tsne_tfidf_df['cluster'] = aw_color"
   ]
  },
  {
   "cell_type": "code",
   "execution_count": 76,
   "metadata": {},
   "outputs": [],
   "source": [
    "source = ColumnDataSource(data = dict(x = tsne_tfidf_df[\"x\"], \n",
    "                                      y = tsne_tfidf_df[\"y\"],\n",
    "                                      # color = colormap[clean_data['topics_code'].values.tolist()],\n",
    "                                      account_number = tsne_tfidf_df[\"account_number\"],\n",
    "                                      target = tsne_tfidf_df[\"cluster\"]\n",
    "                                      ))\n",
    "\n"
   ]
  },
  {
   "cell_type": "code",
   "execution_count": 77,
   "metadata": {
    "scrolled": false
   },
   "outputs": [
    {
     "data": {
      "text/html": [
       "\n",
       "    <div class=\"bk-root\">\n",
       "        <a href=\"https://bokeh.pydata.org\" target=\"_blank\" class=\"bk-logo bk-logo-small bk-logo-notebook\"></a>\n",
       "        <span id=\"1594\">Loading BokehJS ...</span>\n",
       "    </div>"
      ]
     },
     "metadata": {},
     "output_type": "display_data"
    },
    {
     "data": {
      "application/javascript": [
       "\n",
       "(function(root) {\n",
       "  function now() {\n",
       "    return new Date();\n",
       "  }\n",
       "\n",
       "  var force = true;\n",
       "\n",
       "  if (typeof root._bokeh_onload_callbacks === \"undefined\" || force === true) {\n",
       "    root._bokeh_onload_callbacks = [];\n",
       "    root._bokeh_is_loading = undefined;\n",
       "  }\n",
       "\n",
       "  var JS_MIME_TYPE = 'application/javascript';\n",
       "  var HTML_MIME_TYPE = 'text/html';\n",
       "  var EXEC_MIME_TYPE = 'application/vnd.bokehjs_exec.v0+json';\n",
       "  var CLASS_NAME = 'output_bokeh rendered_html';\n",
       "\n",
       "  /**\n",
       "   * Render data to the DOM node\n",
       "   */\n",
       "  function render(props, node) {\n",
       "    var script = document.createElement(\"script\");\n",
       "    node.appendChild(script);\n",
       "  }\n",
       "\n",
       "  /**\n",
       "   * Handle when an output is cleared or removed\n",
       "   */\n",
       "  function handleClearOutput(event, handle) {\n",
       "    var cell = handle.cell;\n",
       "\n",
       "    var id = cell.output_area._bokeh_element_id;\n",
       "    var server_id = cell.output_area._bokeh_server_id;\n",
       "    // Clean up Bokeh references\n",
       "    if (id != null && id in Bokeh.index) {\n",
       "      Bokeh.index[id].model.document.clear();\n",
       "      delete Bokeh.index[id];\n",
       "    }\n",
       "\n",
       "    if (server_id !== undefined) {\n",
       "      // Clean up Bokeh references\n",
       "      var cmd = \"from bokeh.io.state import curstate; print(curstate().uuid_to_server['\" + server_id + \"'].get_sessions()[0].document.roots[0]._id)\";\n",
       "      cell.notebook.kernel.execute(cmd, {\n",
       "        iopub: {\n",
       "          output: function(msg) {\n",
       "            var id = msg.content.text.trim();\n",
       "            if (id in Bokeh.index) {\n",
       "              Bokeh.index[id].model.document.clear();\n",
       "              delete Bokeh.index[id];\n",
       "            }\n",
       "          }\n",
       "        }\n",
       "      });\n",
       "      // Destroy server and session\n",
       "      var cmd = \"import bokeh.io.notebook as ion; ion.destroy_server('\" + server_id + \"')\";\n",
       "      cell.notebook.kernel.execute(cmd);\n",
       "    }\n",
       "  }\n",
       "\n",
       "  /**\n",
       "   * Handle when a new output is added\n",
       "   */\n",
       "  function handleAddOutput(event, handle) {\n",
       "    var output_area = handle.output_area;\n",
       "    var output = handle.output;\n",
       "\n",
       "    // limit handleAddOutput to display_data with EXEC_MIME_TYPE content only\n",
       "    if ((output.output_type != \"display_data\") || (!output.data.hasOwnProperty(EXEC_MIME_TYPE))) {\n",
       "      return\n",
       "    }\n",
       "\n",
       "    var toinsert = output_area.element.find(\".\" + CLASS_NAME.split(' ')[0]);\n",
       "\n",
       "    if (output.metadata[EXEC_MIME_TYPE][\"id\"] !== undefined) {\n",
       "      toinsert[toinsert.length - 1].firstChild.textContent = output.data[JS_MIME_TYPE];\n",
       "      // store reference to embed id on output_area\n",
       "      output_area._bokeh_element_id = output.metadata[EXEC_MIME_TYPE][\"id\"];\n",
       "    }\n",
       "    if (output.metadata[EXEC_MIME_TYPE][\"server_id\"] !== undefined) {\n",
       "      var bk_div = document.createElement(\"div\");\n",
       "      bk_div.innerHTML = output.data[HTML_MIME_TYPE];\n",
       "      var script_attrs = bk_div.children[0].attributes;\n",
       "      for (var i = 0; i < script_attrs.length; i++) {\n",
       "        toinsert[toinsert.length - 1].firstChild.setAttribute(script_attrs[i].name, script_attrs[i].value);\n",
       "      }\n",
       "      // store reference to server id on output_area\n",
       "      output_area._bokeh_server_id = output.metadata[EXEC_MIME_TYPE][\"server_id\"];\n",
       "    }\n",
       "  }\n",
       "\n",
       "  function register_renderer(events, OutputArea) {\n",
       "\n",
       "    function append_mime(data, metadata, element) {\n",
       "      // create a DOM node to render to\n",
       "      var toinsert = this.create_output_subarea(\n",
       "        metadata,\n",
       "        CLASS_NAME,\n",
       "        EXEC_MIME_TYPE\n",
       "      );\n",
       "      this.keyboard_manager.register_events(toinsert);\n",
       "      // Render to node\n",
       "      var props = {data: data, metadata: metadata[EXEC_MIME_TYPE]};\n",
       "      render(props, toinsert[toinsert.length - 1]);\n",
       "      element.append(toinsert);\n",
       "      return toinsert\n",
       "    }\n",
       "\n",
       "    /* Handle when an output is cleared or removed */\n",
       "    events.on('clear_output.CodeCell', handleClearOutput);\n",
       "    events.on('delete.Cell', handleClearOutput);\n",
       "\n",
       "    /* Handle when a new output is added */\n",
       "    events.on('output_added.OutputArea', handleAddOutput);\n",
       "\n",
       "    /**\n",
       "     * Register the mime type and append_mime function with output_area\n",
       "     */\n",
       "    OutputArea.prototype.register_mime_type(EXEC_MIME_TYPE, append_mime, {\n",
       "      /* Is output safe? */\n",
       "      safe: true,\n",
       "      /* Index of renderer in `output_area.display_order` */\n",
       "      index: 0\n",
       "    });\n",
       "  }\n",
       "\n",
       "  // register the mime type if in Jupyter Notebook environment and previously unregistered\n",
       "  if (root.Jupyter !== undefined) {\n",
       "    var events = require('base/js/events');\n",
       "    var OutputArea = require('notebook/js/outputarea').OutputArea;\n",
       "\n",
       "    if (OutputArea.prototype.mime_types().indexOf(EXEC_MIME_TYPE) == -1) {\n",
       "      register_renderer(events, OutputArea);\n",
       "    }\n",
       "  }\n",
       "\n",
       "  \n",
       "  if (typeof (root._bokeh_timeout) === \"undefined\" || force === true) {\n",
       "    root._bokeh_timeout = Date.now() + 5000;\n",
       "    root._bokeh_failed_load = false;\n",
       "  }\n",
       "\n",
       "  var NB_LOAD_WARNING = {'data': {'text/html':\n",
       "     \"<div style='background-color: #fdd'>\\n\"+\n",
       "     \"<p>\\n\"+\n",
       "     \"BokehJS does not appear to have successfully loaded. If loading BokehJS from CDN, this \\n\"+\n",
       "     \"may be due to a slow or bad network connection. Possible fixes:\\n\"+\n",
       "     \"</p>\\n\"+\n",
       "     \"<ul>\\n\"+\n",
       "     \"<li>re-rerun `output_notebook()` to attempt to load from CDN again, or</li>\\n\"+\n",
       "     \"<li>use INLINE resources instead, as so:</li>\\n\"+\n",
       "     \"</ul>\\n\"+\n",
       "     \"<code>\\n\"+\n",
       "     \"from bokeh.resources import INLINE\\n\"+\n",
       "     \"output_notebook(resources=INLINE)\\n\"+\n",
       "     \"</code>\\n\"+\n",
       "     \"</div>\"}};\n",
       "\n",
       "  function display_loaded() {\n",
       "    var el = document.getElementById(\"1594\");\n",
       "    if (el != null) {\n",
       "      el.textContent = \"BokehJS is loading...\";\n",
       "    }\n",
       "    if (root.Bokeh !== undefined) {\n",
       "      if (el != null) {\n",
       "        el.textContent = \"BokehJS \" + root.Bokeh.version + \" successfully loaded.\";\n",
       "      }\n",
       "    } else if (Date.now() < root._bokeh_timeout) {\n",
       "      setTimeout(display_loaded, 100)\n",
       "    }\n",
       "  }\n",
       "\n",
       "\n",
       "  function run_callbacks() {\n",
       "    try {\n",
       "      root._bokeh_onload_callbacks.forEach(function(callback) {\n",
       "        if (callback != null)\n",
       "          callback();\n",
       "      });\n",
       "    } finally {\n",
       "      delete root._bokeh_onload_callbacks\n",
       "    }\n",
       "    console.debug(\"Bokeh: all callbacks have finished\");\n",
       "  }\n",
       "\n",
       "  function load_libs(css_urls, js_urls, callback) {\n",
       "    if (css_urls == null) css_urls = [];\n",
       "    if (js_urls == null) js_urls = [];\n",
       "\n",
       "    root._bokeh_onload_callbacks.push(callback);\n",
       "    if (root._bokeh_is_loading > 0) {\n",
       "      console.debug(\"Bokeh: BokehJS is being loaded, scheduling callback at\", now());\n",
       "      return null;\n",
       "    }\n",
       "    if (js_urls == null || js_urls.length === 0) {\n",
       "      run_callbacks();\n",
       "      return null;\n",
       "    }\n",
       "    console.debug(\"Bokeh: BokehJS not loaded, scheduling load and callback at\", now());\n",
       "    root._bokeh_is_loading = css_urls.length + js_urls.length;\n",
       "\n",
       "    function on_load() {\n",
       "      root._bokeh_is_loading--;\n",
       "      if (root._bokeh_is_loading === 0) {\n",
       "        console.debug(\"Bokeh: all BokehJS libraries/stylesheets loaded\");\n",
       "        run_callbacks()\n",
       "      }\n",
       "    }\n",
       "\n",
       "    function on_error() {\n",
       "      console.error(\"failed to load \" + url);\n",
       "    }\n",
       "\n",
       "    for (var i = 0; i < css_urls.length; i++) {\n",
       "      var url = css_urls[i];\n",
       "      const element = document.createElement(\"link\");\n",
       "      element.onload = on_load;\n",
       "      element.onerror = on_error;\n",
       "      element.rel = \"stylesheet\";\n",
       "      element.type = \"text/css\";\n",
       "      element.href = url;\n",
       "      console.debug(\"Bokeh: injecting link tag for BokehJS stylesheet: \", url);\n",
       "      document.body.appendChild(element);\n",
       "    }\n",
       "\n",
       "    for (var i = 0; i < js_urls.length; i++) {\n",
       "      var url = js_urls[i];\n",
       "      var element = document.createElement('script');\n",
       "      element.onload = on_load;\n",
       "      element.onerror = on_error;\n",
       "      element.async = false;\n",
       "      element.src = url;\n",
       "      console.debug(\"Bokeh: injecting script tag for BokehJS library: \", url);\n",
       "      document.head.appendChild(element);\n",
       "    }\n",
       "  };var element = document.getElementById(\"1594\");\n",
       "  if (element == null) {\n",
       "    console.error(\"Bokeh: ERROR: autoload.js configured with elementid '1594' but no matching script tag was found. \")\n",
       "    return false;\n",
       "  }\n",
       "\n",
       "  function inject_raw_css(css) {\n",
       "    const element = document.createElement(\"style\");\n",
       "    element.appendChild(document.createTextNode(css));\n",
       "    document.body.appendChild(element);\n",
       "  }\n",
       "\n",
       "  var js_urls = [\"https://cdn.pydata.org/bokeh/release/bokeh-1.3.4.min.js\", \"https://cdn.pydata.org/bokeh/release/bokeh-widgets-1.3.4.min.js\", \"https://cdn.pydata.org/bokeh/release/bokeh-tables-1.3.4.min.js\", \"https://cdn.pydata.org/bokeh/release/bokeh-gl-1.3.4.min.js\"];\n",
       "  var css_urls = [];\n",
       "\n",
       "  var inline_js = [\n",
       "    function(Bokeh) {\n",
       "      Bokeh.set_log_level(\"info\");\n",
       "    },\n",
       "    \n",
       "    function(Bokeh) {\n",
       "      \n",
       "    },\n",
       "    function(Bokeh) {} // ensure no trailing comma for IE\n",
       "  ];\n",
       "\n",
       "  function run_inline_js() {\n",
       "    \n",
       "    if ((root.Bokeh !== undefined) || (force === true)) {\n",
       "      for (var i = 0; i < inline_js.length; i++) {\n",
       "        inline_js[i].call(root, root.Bokeh);\n",
       "      }if (force === true) {\n",
       "        display_loaded();\n",
       "      }} else if (Date.now() < root._bokeh_timeout) {\n",
       "      setTimeout(run_inline_js, 100);\n",
       "    } else if (!root._bokeh_failed_load) {\n",
       "      console.log(\"Bokeh: BokehJS failed to load within specified timeout.\");\n",
       "      root._bokeh_failed_load = true;\n",
       "    } else if (force !== true) {\n",
       "      var cell = $(document.getElementById(\"1594\")).parents('.cell').data().cell;\n",
       "      cell.output_area.append_execute_result(NB_LOAD_WARNING)\n",
       "    }\n",
       "\n",
       "  }\n",
       "\n",
       "  if (root._bokeh_is_loading === 0) {\n",
       "    console.debug(\"Bokeh: BokehJS loaded, going straight to plotting\");\n",
       "    run_inline_js();\n",
       "  } else {\n",
       "    load_libs(css_urls, js_urls, function() {\n",
       "      console.debug(\"Bokeh: BokehJS plotting callback run at\", now());\n",
       "      run_inline_js();\n",
       "    });\n",
       "  }\n",
       "}(window));"
      ],
      "application/vnd.bokehjs_load.v0+json": "\n(function(root) {\n  function now() {\n    return new Date();\n  }\n\n  var force = true;\n\n  if (typeof root._bokeh_onload_callbacks === \"undefined\" || force === true) {\n    root._bokeh_onload_callbacks = [];\n    root._bokeh_is_loading = undefined;\n  }\n\n  \n\n  \n  if (typeof (root._bokeh_timeout) === \"undefined\" || force === true) {\n    root._bokeh_timeout = Date.now() + 5000;\n    root._bokeh_failed_load = false;\n  }\n\n  var NB_LOAD_WARNING = {'data': {'text/html':\n     \"<div style='background-color: #fdd'>\\n\"+\n     \"<p>\\n\"+\n     \"BokehJS does not appear to have successfully loaded. If loading BokehJS from CDN, this \\n\"+\n     \"may be due to a slow or bad network connection. Possible fixes:\\n\"+\n     \"</p>\\n\"+\n     \"<ul>\\n\"+\n     \"<li>re-rerun `output_notebook()` to attempt to load from CDN again, or</li>\\n\"+\n     \"<li>use INLINE resources instead, as so:</li>\\n\"+\n     \"</ul>\\n\"+\n     \"<code>\\n\"+\n     \"from bokeh.resources import INLINE\\n\"+\n     \"output_notebook(resources=INLINE)\\n\"+\n     \"</code>\\n\"+\n     \"</div>\"}};\n\n  function display_loaded() {\n    var el = document.getElementById(\"1594\");\n    if (el != null) {\n      el.textContent = \"BokehJS is loading...\";\n    }\n    if (root.Bokeh !== undefined) {\n      if (el != null) {\n        el.textContent = \"BokehJS \" + root.Bokeh.version + \" successfully loaded.\";\n      }\n    } else if (Date.now() < root._bokeh_timeout) {\n      setTimeout(display_loaded, 100)\n    }\n  }\n\n\n  function run_callbacks() {\n    try {\n      root._bokeh_onload_callbacks.forEach(function(callback) {\n        if (callback != null)\n          callback();\n      });\n    } finally {\n      delete root._bokeh_onload_callbacks\n    }\n    console.debug(\"Bokeh: all callbacks have finished\");\n  }\n\n  function load_libs(css_urls, js_urls, callback) {\n    if (css_urls == null) css_urls = [];\n    if (js_urls == null) js_urls = [];\n\n    root._bokeh_onload_callbacks.push(callback);\n    if (root._bokeh_is_loading > 0) {\n      console.debug(\"Bokeh: BokehJS is being loaded, scheduling callback at\", now());\n      return null;\n    }\n    if (js_urls == null || js_urls.length === 0) {\n      run_callbacks();\n      return null;\n    }\n    console.debug(\"Bokeh: BokehJS not loaded, scheduling load and callback at\", now());\n    root._bokeh_is_loading = css_urls.length + js_urls.length;\n\n    function on_load() {\n      root._bokeh_is_loading--;\n      if (root._bokeh_is_loading === 0) {\n        console.debug(\"Bokeh: all BokehJS libraries/stylesheets loaded\");\n        run_callbacks()\n      }\n    }\n\n    function on_error() {\n      console.error(\"failed to load \" + url);\n    }\n\n    for (var i = 0; i < css_urls.length; i++) {\n      var url = css_urls[i];\n      const element = document.createElement(\"link\");\n      element.onload = on_load;\n      element.onerror = on_error;\n      element.rel = \"stylesheet\";\n      element.type = \"text/css\";\n      element.href = url;\n      console.debug(\"Bokeh: injecting link tag for BokehJS stylesheet: \", url);\n      document.body.appendChild(element);\n    }\n\n    for (var i = 0; i < js_urls.length; i++) {\n      var url = js_urls[i];\n      var element = document.createElement('script');\n      element.onload = on_load;\n      element.onerror = on_error;\n      element.async = false;\n      element.src = url;\n      console.debug(\"Bokeh: injecting script tag for BokehJS library: \", url);\n      document.head.appendChild(element);\n    }\n  };var element = document.getElementById(\"1594\");\n  if (element == null) {\n    console.error(\"Bokeh: ERROR: autoload.js configured with elementid '1594' but no matching script tag was found. \")\n    return false;\n  }\n\n  function inject_raw_css(css) {\n    const element = document.createElement(\"style\");\n    element.appendChild(document.createTextNode(css));\n    document.body.appendChild(element);\n  }\n\n  var js_urls = [\"https://cdn.pydata.org/bokeh/release/bokeh-1.3.4.min.js\", \"https://cdn.pydata.org/bokeh/release/bokeh-widgets-1.3.4.min.js\", \"https://cdn.pydata.org/bokeh/release/bokeh-tables-1.3.4.min.js\", \"https://cdn.pydata.org/bokeh/release/bokeh-gl-1.3.4.min.js\"];\n  var css_urls = [];\n\n  var inline_js = [\n    function(Bokeh) {\n      Bokeh.set_log_level(\"info\");\n    },\n    \n    function(Bokeh) {\n      \n    },\n    function(Bokeh) {} // ensure no trailing comma for IE\n  ];\n\n  function run_inline_js() {\n    \n    if ((root.Bokeh !== undefined) || (force === true)) {\n      for (var i = 0; i < inline_js.length; i++) {\n        inline_js[i].call(root, root.Bokeh);\n      }if (force === true) {\n        display_loaded();\n      }} else if (Date.now() < root._bokeh_timeout) {\n      setTimeout(run_inline_js, 100);\n    } else if (!root._bokeh_failed_load) {\n      console.log(\"Bokeh: BokehJS failed to load within specified timeout.\");\n      root._bokeh_failed_load = true;\n    } else if (force !== true) {\n      var cell = $(document.getElementById(\"1594\")).parents('.cell').data().cell;\n      cell.output_area.append_execute_result(NB_LOAD_WARNING)\n    }\n\n  }\n\n  if (root._bokeh_is_loading === 0) {\n    console.debug(\"Bokeh: BokehJS loaded, going straight to plotting\");\n    run_inline_js();\n  } else {\n    load_libs(css_urls, js_urls, function() {\n      console.debug(\"Bokeh: BokehJS plotting callback run at\", now());\n      run_inline_js();\n    });\n  }\n}(window));"
     },
     "metadata": {},
     "output_type": "display_data"
    },
    {
     "data": {
      "text/html": [
       "\n",
       "\n",
       "\n",
       "\n",
       "\n",
       "\n",
       "  <div class=\"bk-root\" id=\"b86c4574-7a4c-4977-bc2f-0872c3a7cd37\" data-root-id=\"1595\"></div>\n"
      ]
     },
     "metadata": {},
     "output_type": "display_data"
    },
    {
     "data": {
      "application/javascript": [
       "(function(root) {\n",
       "  function embed_document(root) {\n",
       "    \n",
       "  var docs_json = {\"5b85cf9e-b0f5-4b82-9044-7db427fc46a8\":{\"roots\":{\"references\":[{\"attributes\":{\"center\":[{\"id\":\"1628\",\"type\":\"Legend\"}],\"min_border\":1,\"plot_height\":700,\"plot_width\":800,\"renderers\":[{\"id\":\"1624\",\"type\":\"GlyphRenderer\"}],\"title\":{\"id\":\"1596\",\"type\":\"Title\"},\"toolbar\":{\"id\":\"1612\",\"type\":\"Toolbar\"},\"x_range\":{\"id\":\"1598\",\"type\":\"DataRange1d\"},\"x_scale\":{\"id\":\"1602\",\"type\":\"LinearScale\"},\"y_range\":{\"id\":\"1600\",\"type\":\"DataRange1d\"},\"y_scale\":{\"id\":\"1604\",\"type\":\"LinearScale\"}},\"id\":\"1595\",\"subtype\":\"Figure\",\"type\":\"Plot\"},{\"attributes\":{},\"id\":\"1604\",\"type\":\"LinearScale\"},{\"attributes\":{},\"id\":\"1632\",\"type\":\"UnionRenderers\"},{\"attributes\":{\"active_drag\":\"auto\",\"active_inspect\":\"auto\",\"active_multi\":null,\"active_scroll\":\"auto\",\"active_tap\":\"auto\",\"tools\":[{\"id\":\"1606\",\"type\":\"PanTool\"},{\"id\":\"1607\",\"type\":\"WheelZoomTool\"},{\"id\":\"1608\",\"type\":\"BoxZoomTool\"},{\"id\":\"1609\",\"type\":\"ResetTool\"},{\"id\":\"1610\",\"type\":\"HoverTool\"},{\"id\":\"1611\",\"type\":\"SaveTool\"}]},\"id\":\"1612\",\"type\":\"Toolbar\"},{\"attributes\":{},\"id\":\"1606\",\"type\":\"PanTool\"},{\"attributes\":{\"callback\":null,\"data\":{\"account_number\":[\"17380367\",\"17411213\",\"17439264\",\"17513999\",\"17529069\",\"17540362\",\"17556029\",\"17564268\",\"17584337\",\"17589875\",\"17607781\",\"17617211\",\"17633183\",\"17635096\",\"17704463\",\"17792871\",\"17808555\",\"17821380\",\"17881803\",\"17913326\",\"17956274\",\"17975822\",\"18024880\",\"18027326\",\"18046375\",\"18135637\",\"18140307\",\"18172258\",\"18186390\",\"18214785\",\"18227294\",\"18246030\",\"18253298\",\"18336057\",\"18443931\",\"18525318\",\"18535768\",\"18556528\",\"18607170\",\"18695121\",\"18886619\",\"18903280\",\"18919322\",\"18985107\",\"19001184\",\"19018748\",\"19089464\",\"19097925\",\"19122785\",\"19138902\",\"19209336\",\"19278726\",\"19313157\",\"19327611\",\"19343844\",\"19393344\",\"19400101\",\"19443268\",\"19459500\",\"19549023\",\"19551073\",\"19553000\",\"19564423\",\"19574278\",\"19607602\",\"19651869\",\"19657322\",\"19738537\",\"19769374\",\"19837455\",\"19882455\",\"19980453\",\"19990726\",\"20000475\",\"20024082\",\"20032012\",\"20041873\",\"20049241\",\"20053194\",\"20163390\",\"20224229\",\"20268408\",\"20297117\",\"20318078\",\"20318439\",\"20355914\",\"20391556\",\"20430005\",\"20434040\",\"20472827\",\"20474572\",\"20477291\",\"20483573\",\"20503134\",\"20512045\",\"20533189\",\"20564931\",\"20644239\",\"20692284\",\"20703275\",\"20784025\",\"20810068\",\"20821132\",\"20865591\",\"20920788\",\"21003784\",\"21025912\",\"21048754\",\"21089303\",\"21136925\",\"21153090\",\"21162147\",\"21164866\",\"21239401\",\"21254313\",\"21263076\",\"21290253\",\"21341449\",\"21390652\",\"21403630\",\"21411136\",\"21437521\",\"21461746\",\"21475563\",\"21513423\",\"21540044\",\"21568237\",\"21585406\",\"21599752\",\"21627877\",\"21640421\",\"21644279\",\"21659357\",\"21697726\",\"21724173\",\"21783583\",\"21795105\",\"21819755\",\"21835837\",\"21865337\",\"21870192\",\"21890253\",\"21900471\",\"21953409\",\"21967254\",\"21981906\",\"22019904\",\"22024049\",\"22045446\",\"22064146\",\"22075221\",\"22129103\",\"22268786\",\"22292919\",\"22297994\",\"22308257\",\"22338031\",\"22377433\",\"22459061\",\"22466305\",\"22482316\",\"22483270\",\"22484493\",\"22511952\",\"22521554\",\"22535088\",\"22554482\",\"22576413\",\"22584953\",\"22608155\",\"22651905\",\"22686917\",\"22713144\",\"22735114\",\"22744591\",\"22782657\",\"22813589\",\"22827622\",\"22843728\",\"22944381\",\"23000262\",\"23004833\",\"23020840\",\"23038109\",\"23038588\",\"23064629\",\"23143343\",\"23154317\",\"23175368\",\"23195535\",\"23200557\",\"23200608\",\"23224090\",\"23358387\",\"23381981\",\"23412613\",\"23425214\",\"23428727\",\"23488691\",\"23524869\",\"23529758\",\"23561721\",\"23563954\",\"23584105\",\"23584716\",\"23594111\",\"23606400\",\"23616764\",\"23629190\",\"23650529\",\"23662422\",\"23715510\",\"23746616\",\"23812512\",\"23882413\",\"23910873\",\"23916240\",\"23957939\",\"23999240\",\"24018102\",\"24025711\",\"24074306\",\"24092247\",\"24096305\",\"24220552\",\"24247307\",\"24258776\",\"24432172\",\"24448600\",\"24469132\",\"24533689\",\"24637833\",\"24655728\",\"24736657\",\"24758460\",\"24766199\",\"24795210\",\"24860086\",\"24878925\",\"24882950\",\"24890285\",\"24920023\",\"24923982\",\"24973951\",\"24976678\",\"24989098\",\"25004294\",\"25006282\",\"25056394\",\"25096686\",\"25117119\",\"25121681\",\"25248126\",\"25259588\",\"25303735\",\"25312247\",\"25367968\",\"25369088\",\"25465009\",\"25553634\",\"25674672\",\"25677938\",\"25709133\",\"25747053\",\"25831026\",\"25834438\",\"25861843\",\"25865895\",\"25907380\",\"25923203\",\"25929232\",\"25983423\",\"25999027\",\"26073394\",\"26105078\",\"26179734\",\"26188855\",\"26208241\",\"26226766\",\"26272402\",\"26287925\",\"26302950\",\"26305672\",\"26353699\",\"26408356\",\"26410571\",\"26430580\",\"26439877\",\"26499734\",\"26504114\",\"26523817\",\"26531778\",\"26533230\",\"26538571\",\"26575387\",\"26576141\",\"26618980\",\"26671140\",\"26678541\",\"26709656\",\"26721109\",\"26773340\",\"26866822\",\"26896738\",\"26903852\",\"26930232\",\"26945229\",\"26947803\",\"26949088\",\"26979731\",\"26980252\",\"27002336\",\"27019831\",\"27067377\",\"27075019\",\"27079674\",\"27101917\",\"27110128\",\"27241062\",\"27297087\",\"27321975\",\"27334529\",\"27373081\",\"27417812\",\"27419544\",\"27421481\",\"27491861\",\"27554131\",\"27618618\",\"27639484\",\"27653102\",\"27678447\",\"27718534\",\"27771630\",\"27898415\",\"27929935\",\"27946437\",\"28076880\",\"28106911\",\"28129620\",\"28131576\",\"28177141\",\"28187589\",\"28190686\",\"28320646\",\"28336289\",\"28339664\",\"28416808\",\"28474102\",\"28553456\",\"28563059\",\"28564136\",\"28581949\",\"28586932\",\"28606322\",\"28624653\",\"28628318\",\"28638336\",\"28645410\",\"28645648\",\"28722041\",\"28797387\",\"28799633\",\"28803077\",\"28820218\",\"28828684\",\"28843891\",\"28916783\",\"28926752\",\"28931589\",\"28940605\",\"28956298\",\"29027279\",\"29080889\",\"29113670\",\"29120230\",\"29199895\",\"29202555\",\"29239051\",\"29254037\",\"29331356\",\"29343099\",\"29359754\",\"29488638\",\"29554298\",\"29557359\",\"29567346\",\"29611002\",\"29612058\",\"29636912\",\"29716782\",\"29720811\",\"29769048\",\"29773595\",\"29831950\",\"29841833\",\"29898217\",\"29915655\",\"29948611\",\"30032841\",\"30084832\",\"30096679\",\"30111309\",\"30133981\",\"30193333\",\"30220969\",\"30234500\",\"30241458\",\"30248660\",\"30284874\",\"30311415\",\"30319464\",\"30350180\",\"30402243\",\"30405900\",\"30488819\",\"30491373\",\"30514003\",\"30554196\",\"30626076\",\"30627772\",\"30632835\",\"30645317\",\"30646389\",\"30650314\",\"30689162\",\"30693357\",\"30723132\",\"30734396\",\"30815109\",\"30844206\",\"30928898\",\"30936057\",\"30992106\",\"30995779\",\"31038690\",\"31039976\",\"31055482\",\"31066306\",\"31075973\",\"31081007\",\"31149667\",\"31157589\",\"31340549\",\"31380425\",\"31381835\",\"31410520\",\"31482990\",\"31506915\",\"31516288\",\"31567956\",\"31621312\",\"31630731\",\"31719799\",\"31753863\",\"31766918\",\"31771250\",\"31773379\",\"31781848\",\"31797305\",\"31807906\",\"31873120\",\"31973481\",\"31974983\",\"31978099\",\"31981531\",\"31984713\",\"32029136\",\"32042235\",\"32043592\",\"32046131\",\"32168374\",\"32191110\",\"32214149\",\"32214992\",\"32221852\",\"32293951\",\"32320179\",\"32342468\",\"32345780\",\"32347353\",\"32386058\",\"32408462\",\"32451186\",\"32461724\",\"32506789\",\"32533373\",\"32560185\",\"32594425\",\"32606215\",\"32608104\",\"32653529\",\"32704295\",\"32751267\",\"32774962\",\"32791546\",\"32835213\",\"32836705\",\"32877407\",\"32888449\",\"32903731\",\"32979926\",\"32995670\",\"33006122\",\"33027255\",\"33035643\",\"33040649\",\"33069421\",\"33110523\",\"33163049\",\"33206291\",\"33207862\",\"33219538\",\"33232173\",\"33263913\",\"33320446\",\"33322959\",\"33345448\",\"33354020\",\"33360815\",\"33371768\",\"33398397\",\"33490118\",\"33554810\",\"33566612\",\"33591723\",\"33645809\",\"33669261\",\"33687540\",\"33732225\",\"33795350\",\"33799185\",\"33824888\",\"33832724\",\"33841651\",\"33846574\",\"33908210\",\"33911874\",\"33923990\",\"33962207\",\"34040259\",\"34081632\",\"34105873\",\"34129811\",\"34140241\",\"34175674\",\"34183895\",\"34275837\",\"34329817\",\"34542204\",\"34544174\",\"34580949\",\"34588641\",\"34629065\",\"34682564\",\"34751692\",\"34832382\",\"34837579\",\"34911266\",\"34919745\",\"34952146\",\"34964650\",\"34967592\",\"34972629\",\"34982152\",\"34994090\",\"35023885\",\"35098051\",\"35171334\",\"35205992\",\"35214749\",\"35215499\",\"35257882\",\"35259880\",\"35299338\",\"35322204\",\"35370118\",\"35382430\",\"35401680\",\"35405876\",\"35432600\",\"35467603\",\"35511697\",\"35560172\",\"35577715\",\"35585688\",\"35629602\",\"35771271\",\"35790329\",\"35815088\",\"35817320\",\"35865962\",\"35884116\",\"36061056\",\"36061757\",\"36161196\",\"36201273\",\"36253406\",\"36255826\",\"36261347\",\"36279475\",\"36291122\",\"36329081\",\"36365433\",\"36368277\",\"36377652\",\"36379764\",\"36386823\",\"36465630\",\"36535319\",\"36555207\",\"36582374\",\"36583784\",\"36632306\",\"36638397\",\"36660426\",\"36683659\",\"36743966\",\"36789884\",\"36814425\",\"36820399\",\"36843871\",\"36870456\",\"36897736\",\"36941709\",\"36949698\",\"37007776\",\"37018218\",\"37077812\",\"37108591\",\"37151885\",\"37227747\",\"37228159\",\"37291762\",\"37337667\",\"37342801\",\"37351602\",\"37377769\",\"37387900\",\"37417338\",\"37465939\",\"37485355\",\"37498258\",\"37574940\",\"37594411\",\"37625381\",\"37661759\",\"37662820\",\"37686501\",\"37738866\",\"37751746\",\"37820154\",\"37833513\",\"37858111\",\"37868393\",\"37875713\",\"37911389\",\"37929470\",\"37950374\",\"37957800\",\"37970226\",\"37975995\",\"38020866\",\"38074638\",\"38109304\",\"38163467\",\"38163807\",\"38256226\",\"38288478\",\"38292173\",\"38365089\",\"38385404\",\"38409461\",\"38424477\",\"38623872\",\"38639217\",\"38668307\",\"38701453\",\"38758618\",\"38759826\",\"38799614\",\"38811581\",\"38827564\",\"38832872\",\"38872096\",\"38889546\",\"38917534\",\"38972758\",\"38979293\",\"39011266\",\"39022205\",\"39067789\",\"39097176\",\"39130823\",\"39231765\",\"39333486\",\"39346691\",\"39397983\",\"39411596\",\"39414637\",\"39418012\",\"39424542\",\"39475751\",\"39491067\",\"39558446\",\"39608405\",\"39632297\",\"39634572\",\"39667816\",\"39697053\",\"39721121\",\"39729422\",\"39738903\",\"39739587\",\"39773918\",\"39794121\",\"39868917\",\"39914160\",\"39996774\",\"39998848\",\"40018457\",\"40075669\",\"40084078\",\"40129168\",\"40143931\",\"40152448\",\"40174297\",\"40247972\",\"40260856\",\"40267641\",\"40271808\",\"40272294\",\"40287329\",\"40290793\",\"40300823\",\"40336803\",\"40357808\",\"40484820\",\"40512365\",\"40533227\",\"40556911\",\"40570514\",\"40584551\",\"40587969\",\"40629214\",\"40636721\",\"40670105\",\"40681690\",\"40705533\",\"40734409\",\"40740072\",\"40755548\",\"40767149\",\"40770991\",\"40842169\",\"40862685\",\"40866325\",\"40875445\",\"40878798\",\"40897322\",\"40950149\",\"40958379\",\"40959382\",\"40970187\",\"41032723\",\"41043079\",\"41101474\",\"41137327\",\"41170052\",\"41202880\",\"41214441\",\"41245603\",\"41364123\",\"41377505\",\"41410867\",\"41460425\",\"41472691\",\"41557480\",\"41618313\",\"41630388\",\"41632690\",\"41645136\",\"41665162\",\"41730267\",\"41802864\",\"41821475\",\"41831029\",\"41898548\",\"41922925\",\"42047877\",\"42063940\",\"42069930\",\"42086515\",\"42113758\",\"42155909\",\"42158984\",\"42285528\",\"42290684\",\"42298810\",\"42315717\",\"42329657\",\"42337162\",\"42476554\",\"42507764\",\"42522164\",\"42538509\",\"42638966\",\"42640880\",\"42677255\",\"42823444\",\"42868780\",\"42870055\",\"42978225\",\"43036110\",\"43038485\",\"43053882\",\"43143349\",\"43146993\",\"43174640\",\"43185704\",\"43188242\",\"43223343\",\"43231852\",\"43243713\",\"43270486\",\"43276942\",\"43412519\",\"43452023\",\"43493648\",\"43509597\",\"43518926\",\"43545579\",\"43546927\",\"43562580\",\"43579697\",\"43581095\",\"43627483\",\"43646331\",\"43663936\",\"43679684\",\"43721510\",\"43738814\",\"43767638\",\"43791308\",\"43842158\",\"43870029\",\"43870453\",\"43995103\",\"43998513\",\"44116755\",\"44136349\",\"44137251\",\"44191275\",\"44227230\",\"44231869\",\"44267901\",\"44270879\",\"44277240\",\"44318597\",\"44375806\",\"44408250\",\"44457486\",\"44463707\",\"44590108\",\"44593105\",\"44658126\",\"44716126\",\"44727547\",\"44752212\",\"44752371\",\"44800766\",\"44815994\",\"44836102\",\"44870306\",\"44886281\",\"44978043\",\"44980119\",\"45002260\",\"45018541\",\"45043642\",\"45052883\",\"45121953\",\"45150009\",\"45152676\",\"45183313\",\"45227486\",\"45253201\",\"45336789\",\"45398304\",\"45407922\",\"45474770\",\"45556217\",\"45598616\",\"45601403\",\"45644403\",\"45653614\",\"45698664\",\"45709668\",\"45715303\",\"45715327\",\"45752895\",\"45765554\",\"45814003\",\"45819965\",\"45833152\",\"45960873\",\"45971493\",\"45981714\",\"46010002\",\"46025001\",\"46043996\",\"46048287\",\"46075980\",\"46091615\",\"46102722\",\"46147453\",\"46152539\",\"46172189\",\"46174302\",\"46181174\",\"46270076\",\"46292953\",\"46328015\",\"46332910\",\"46348718\",\"46356400\",\"46371555\",\"46443618\",\"46468958\",\"46473782\",\"46488151\",\"46499856\",\"46506409\",\"46509428\",\"46534306\",\"46652854\",\"46663240\",\"46700910\",\"46739162\",\"46786395\",\"46828639\",\"46846587\",\"46858149\",\"47010780\",\"47064906\",\"47071122\",\"47086813\",\"47094873\",\"47096674\",\"47104790\",\"47127824\",\"47183083\",\"47191382\",\"47219248\",\"47225378\",\"47226258\",\"47227085\",\"47245019\",\"47255321\",\"47336966\",\"47384278\",\"47407940\",\"47433186\",\"47436030\",\"47457826\",\"47461101\",\"47467895\",\"47549158\",\"47571414\",\"47613928\",\"47689929\",\"47745444\",\"47758773\",\"47773077\",\"47779352\",\"47816611\",\"47841894\",\"47879702\",\"47906566\",\"47960790\",\"47986148\",\"48090498\",\"48105544\",\"48108035\",\"48287531\",\"48295913\",\"48314173\",\"48443476\",\"48488878\",\"48500107\",\"48504476\",\"48520440\",\"48544693\",\"48545035\",\"48547392\",\"48557122\",\"48566429\",\"48569583\",\"48586373\",\"48591760\"],\"target\":[\"YELLOW\",\"GREEN\",\"GREEN\",\"RED\",\"GREEN\",\"YELLOW\",\"RED\",\"GREEN\",\"GREEN\",\"GREEN\",\"GREEN\",\"RED\",\"GREEN\",\"GREEN\",\"RED\",\"RED\",\"GREEN\",\"GREEN\",\"GREEN\",\"GREEN\",\"GREEN\",\"GREEN\",\"GREEN\",\"GREEN\",\"GREEN\",\"RED\",\"GREEN\",\"GREEN\",\"GREEN\",\"GREEN\",\"GREEN\",\"YELLOW\",\"GREEN\",\"RED\",\"GREEN\",\"GREEN\",\"GREEN\",\"YELLOW\",\"GREEN\",\"GREEN\",\"GREEN\",\"GREEN\",\"GREEN\",\"GREEN\",\"GREEN\",\"GREEN\",\"GREEN\",\"GREEN\",\"RED\",\"GREEN\",\"YELLOW\",\"RED\",\"GREEN\",\"GREEN\",\"GREEN\",\"GREEN\",\"GREEN\",\"GREEN\",\"RED\",\"GREEN\",\"GREEN\",\"GREEN\",\"GREEN\",\"GREEN\",\"GREEN\",\"GREEN\",\"GREEN\",\"GREEN\",\"GREEN\",\"GREEN\",\"GREEN\",\"RED\",\"YELLOW\",\"GREEN\",\"YELLOW\",\"GREEN\",\"GREEN\",\"GREEN\",\"GREEN\",\"GREEN\",\"YELLOW\",\"GREEN\",\"GREEN\",\"YELLOW\",\"GREEN\",\"GREEN\",\"GREEN\",\"GREEN\",\"GREEN\",\"GREEN\",\"GREEN\",\"GREEN\",\"GREEN\",\"GREEN\",\"YELLOW\",\"GREEN\",\"YELLOW\",\"GREEN\",\"GREEN\",\"GREEN\",\"YELLOW\",\"GREEN\",\"GREEN\",\"YELLOW\",\"RED\",\"GREEN\",\"GREEN\",\"GREEN\",\"GREEN\",\"GREEN\",\"GREEN\",\"RED\",\"GREEN\",\"GREEN\",\"GREEN\",\"GREEN\",\"YELLOW\",\"RED\",\"RED\",\"YELLOW\",\"RED\",\"GREEN\",\"YELLOW\",\"GREEN\",\"GREEN\",\"GREEN\",\"GREEN\",\"GREEN\",\"GREEN\",\"GREEN\",\"GREEN\",\"RED\",\"GREEN\",\"GREEN\",\"RED\",\"GREEN\",\"GREEN\",\"GREEN\",\"GREEN\",\"GREEN\",\"YELLOW\",\"GREEN\",\"GREEN\",\"GREEN\",\"GREEN\",\"GREEN\",\"GREEN\",\"GREEN\",\"GREEN\",\"GREEN\",\"GREEN\",\"GREEN\",\"GREEN\",\"GREEN\",\"GREEN\",\"GREEN\",\"GREEN\",\"GREEN\",\"GREEN\",\"GREEN\",\"GREEN\",\"GREEN\",\"GREEN\",\"YELLOW\",\"GREEN\",\"GREEN\",\"GREEN\",\"GREEN\",\"GREEN\",\"GREEN\",\"GREEN\",\"GREEN\",\"GREEN\",\"GREEN\",\"GREEN\",\"YELLOW\",\"GREEN\",\"GREEN\",\"GREEN\",\"GREEN\",\"GREEN\",\"GREEN\",\"GREEN\",\"GREEN\",\"GREEN\",\"GREEN\",\"GREEN\",\"GREEN\",\"YELLOW\",\"GREEN\",\"GREEN\",\"GREEN\",\"RED\",\"GREEN\",\"GREEN\",\"GREEN\",\"GREEN\",\"RED\",\"GREEN\",\"GREEN\",\"GREEN\",\"RED\",\"YELLOW\",\"GREEN\",\"GREEN\",\"GREEN\",\"GREEN\",\"GREEN\",\"RED\",\"GREEN\",\"GREEN\",\"GREEN\",\"RED\",\"GREEN\",\"GREEN\",\"GREEN\",\"RED\",\"GREEN\",\"GREEN\",\"GREEN\",\"GREEN\",\"GREEN\",\"GREEN\",\"GREEN\",\"YELLOW\",\"YELLOW\",\"RED\",\"GREEN\",\"RED\",\"GREEN\",\"RED\",\"RED\",\"RED\",\"YELLOW\",\"RED\",\"GREEN\",\"GREEN\",\"GREEN\",\"GREEN\",\"GREEN\",\"GREEN\",\"GREEN\",\"GREEN\",\"GREEN\",\"GREEN\",\"GREEN\",\"GREEN\",\"GREEN\",\"RED\",\"GREEN\",\"GREEN\",\"RED\",\"GREEN\",\"GREEN\",\"GREEN\",\"RED\",\"GREEN\",\"YELLOW\",\"YELLOW\",\"GREEN\",\"GREEN\",\"GREEN\",\"GREEN\",\"GREEN\",\"GREEN\",\"GREEN\",\"GREEN\",\"YELLOW\",\"GREEN\",\"RED\",\"GREEN\",\"GREEN\",\"GREEN\",\"RED\",\"GREEN\",\"GREEN\",\"GREEN\",\"GREEN\",\"GREEN\",\"YELLOW\",\"GREEN\",\"GREEN\",\"GREEN\",\"GREEN\",\"GREEN\",\"GREEN\",\"GREEN\",\"YELLOW\",\"GREEN\",\"GREEN\",\"GREEN\",\"GREEN\",\"GREEN\",\"RED\",\"GREEN\",\"GREEN\",\"GREEN\",\"GREEN\",\"GREEN\",\"GREEN\",\"GREEN\",\"GREEN\",\"GREEN\",\"GREEN\",\"GREEN\",\"GREEN\",\"YELLOW\",\"GREEN\",\"YELLOW\",\"GREEN\",\"YELLOW\",\"GREEN\",\"GREEN\",\"GREEN\",\"RED\",\"GREEN\",\"GREEN\",\"GREEN\",\"GREEN\",\"GREEN\",\"GREEN\",\"GREEN\",\"GREEN\",\"GREEN\",\"GREEN\",\"GREEN\",\"GREEN\",\"GREEN\",\"GREEN\",\"GREEN\",\"YELLOW\",\"GREEN\",\"YELLOW\",\"GREEN\",\"GREEN\",\"GREEN\",\"RED\",\"GREEN\",\"GREEN\",\"GREEN\",\"YELLOW\",\"RED\",\"GREEN\",\"GREEN\",\"GREEN\",\"GREEN\",\"GREEN\",\"GREEN\",\"GREEN\",\"GREEN\",\"GREEN\",\"GREEN\",\"GREEN\",\"GREEN\",\"GREEN\",\"GREEN\",\"GREEN\",\"GREEN\",\"GREEN\",\"GREEN\",\"GREEN\",\"GREEN\",\"GREEN\",\"GREEN\",\"GREEN\",\"GREEN\",\"GREEN\",\"GREEN\",\"GREEN\",\"GREEN\",\"GREEN\",\"YELLOW\",\"GREEN\",\"GREEN\",\"GREEN\",\"GREEN\",\"GREEN\",\"GREEN\",\"GREEN\",\"GREEN\",\"GREEN\",\"GREEN\",\"GREEN\",\"YELLOW\",\"GREEN\",\"GREEN\",\"GREEN\",\"GREEN\",\"GREEN\",\"GREEN\",\"GREEN\",\"RED\",\"GREEN\",\"GREEN\",\"GREEN\",\"GREEN\",\"GREEN\",\"GREEN\",\"GREEN\",\"GREEN\",\"GREEN\",\"GREEN\",\"GREEN\",\"GREEN\",\"GREEN\",\"GREEN\",\"RED\",\"GREEN\",\"GREEN\",\"GREEN\",\"GREEN\",\"GREEN\",\"GREEN\",\"GREEN\",\"RED\",\"GREEN\",\"GREEN\",\"GREEN\",\"GREEN\",\"GREEN\",\"GREEN\",\"GREEN\",\"YELLOW\",\"GREEN\",\"GREEN\",\"GREEN\",\"GREEN\",\"GREEN\",\"GREEN\",\"GREEN\",\"RED\",\"GREEN\",\"GREEN\",\"GREEN\",\"GREEN\",\"GREEN\",\"GREEN\",\"GREEN\",\"GREEN\",\"RED\",\"GREEN\",\"GREEN\",\"GREEN\",\"GREEN\",\"GREEN\",\"GREEN\",\"GREEN\",\"GREEN\",\"GREEN\",\"RED\",\"GREEN\",\"RED\",\"RED\",\"GREEN\",\"GREEN\",\"GREEN\",\"GREEN\",\"GREEN\",\"GREEN\",\"GREEN\",\"YELLOW\",\"GREEN\",\"GREEN\",\"GREEN\",\"GREEN\",\"GREEN\",\"GREEN\",\"GREEN\",\"RED\",\"GREEN\",\"GREEN\",\"GREEN\",\"GREEN\",\"GREEN\",\"GREEN\",\"RED\",\"GREEN\",\"GREEN\",\"GREEN\",\"GREEN\",\"GREEN\",\"GREEN\",\"GREEN\",\"GREEN\",\"GREEN\",\"RED\",\"GREEN\",\"YELLOW\",\"GREEN\",\"GREEN\",\"GREEN\",\"GREEN\",\"GREEN\",\"GREEN\",\"GREEN\",\"GREEN\",\"GREEN\",\"GREEN\",\"RED\",\"GREEN\",\"YELLOW\",\"GREEN\",\"GREEN\",\"GREEN\",\"GREEN\",\"GREEN\",\"GREEN\",\"GREEN\",\"RED\",\"GREEN\",\"GREEN\",\"RED\",\"GREEN\",\"GREEN\",\"GREEN\",\"GREEN\",\"YELLOW\",\"GREEN\",\"GREEN\",\"GREEN\",\"RED\",\"GREEN\",\"RED\",\"GREEN\",\"GREEN\",\"GREEN\",\"GREEN\",\"GREEN\",\"GREEN\",\"GREEN\",\"GREEN\",\"RED\",\"GREEN\",\"GREEN\",\"GREEN\",\"GREEN\",\"GREEN\",\"GREEN\",\"GREEN\",\"RED\",\"GREEN\",\"GREEN\",\"RED\",\"GREEN\",\"GREEN\",\"GREEN\",\"GREEN\",\"GREEN\",\"RED\",\"RED\",\"GREEN\",\"GREEN\",\"YELLOW\",\"YELLOW\",\"GREEN\",\"GREEN\",\"GREEN\",\"GREEN\",\"GREEN\",\"GREEN\",\"GREEN\",\"GREEN\",\"YELLOW\",\"GREEN\",\"GREEN\",\"GREEN\",\"GREEN\",\"GREEN\",\"RED\",\"GREEN\",\"GREEN\",\"GREEN\",\"RED\",\"GREEN\",\"GREEN\",\"GREEN\",\"GREEN\",\"GREEN\",\"GREEN\",\"GREEN\",\"GREEN\",\"GREEN\",\"GREEN\",\"GREEN\",\"GREEN\",\"GREEN\",\"GREEN\",\"RED\",\"GREEN\",\"GREEN\",\"GREEN\",\"GREEN\",\"GREEN\",\"GREEN\",\"GREEN\",\"GREEN\",\"RED\",\"RED\",\"GREEN\",\"GREEN\",\"GREEN\",\"GREEN\",\"GREEN\",\"YELLOW\",\"YELLOW\",\"GREEN\",\"GREEN\",\"GREEN\",\"YELLOW\",\"GREEN\",\"GREEN\",\"GREEN\",\"YELLOW\",\"GREEN\",\"RED\",\"GREEN\",\"GREEN\",\"GREEN\",\"GREEN\",\"GREEN\",\"GREEN\",\"GREEN\",\"GREEN\",\"GREEN\",\"GREEN\",\"GREEN\",\"GREEN\",\"GREEN\",\"RED\",\"GREEN\",\"GREEN\",\"YELLOW\",\"GREEN\",\"RED\",\"GREEN\",\"GREEN\",\"GREEN\",\"GREEN\",\"GREEN\",\"GREEN\",\"GREEN\",\"GREEN\",\"GREEN\",\"YELLOW\",\"GREEN\",\"GREEN\",\"GREEN\",\"GREEN\",\"GREEN\",\"GREEN\",\"GREEN\",\"GREEN\",\"GREEN\",\"RED\",\"GREEN\",\"GREEN\",\"GREEN\",\"GREEN\",\"GREEN\",\"GREEN\",\"GREEN\",\"GREEN\",\"GREEN\",\"GREEN\",\"GREEN\",\"GREEN\",\"RED\",\"GREEN\",\"GREEN\",\"GREEN\",\"GREEN\",\"YELLOW\",\"GREEN\",\"RED\",\"GREEN\",\"RED\",\"GREEN\",\"GREEN\",\"RED\",\"GREEN\",\"GREEN\",\"GREEN\",\"GREEN\",\"GREEN\",\"GREEN\",\"GREEN\",\"YELLOW\",\"YELLOW\",\"YELLOW\",\"YELLOW\",\"GREEN\",\"GREEN\",\"GREEN\",\"GREEN\",\"GREEN\",\"GREEN\",\"GREEN\",\"GREEN\",\"GREEN\",\"GREEN\",\"GREEN\",\"GREEN\",\"YELLOW\",\"GREEN\",\"GREEN\",\"GREEN\",\"RED\",\"GREEN\",\"YELLOW\",\"GREEN\",\"GREEN\",\"GREEN\",\"RED\",\"GREEN\",\"GREEN\",\"GREEN\",\"GREEN\",\"GREEN\",\"GREEN\",\"GREEN\",\"GREEN\",\"GREEN\",\"GREEN\",\"GREEN\",\"GREEN\",\"RED\",\"RED\",\"GREEN\",\"GREEN\",\"GREEN\",\"GREEN\",\"RED\",\"YELLOW\",\"GREEN\",\"YELLOW\",\"YELLOW\",\"YELLOW\",\"RED\",\"GREEN\",\"GREEN\",\"GREEN\",\"GREEN\",\"YELLOW\",\"GREEN\",\"GREEN\",\"GREEN\",\"GREEN\",\"RED\",\"GREEN\",\"GREEN\",\"GREEN\",\"YELLOW\",\"GREEN\",\"GREEN\",\"GREEN\",\"GREEN\",\"GREEN\",\"GREEN\",\"GREEN\",\"GREEN\",\"YELLOW\",\"GREEN\",\"GREEN\",\"GREEN\",\"GREEN\",\"YELLOW\",\"GREEN\",\"GREEN\",\"GREEN\",\"RED\",\"GREEN\",\"GREEN\",\"GREEN\",\"GREEN\",\"GREEN\",\"GREEN\",\"GREEN\",\"YELLOW\",\"RED\",\"GREEN\",\"GREEN\",\"GREEN\",\"GREEN\",\"GREEN\",\"GREEN\",\"GREEN\",\"GREEN\",\"GREEN\",\"GREEN\",\"GREEN\",\"GREEN\",\"GREEN\",\"GREEN\",\"GREEN\",\"GREEN\",\"GREEN\",\"GREEN\",\"GREEN\",\"GREEN\",\"GREEN\",\"GREEN\",\"GREEN\",\"GREEN\",\"GREEN\",\"GREEN\",\"GREEN\",\"GREEN\",\"GREEN\",\"GREEN\",\"GREEN\",\"YELLOW\",\"YELLOW\",\"GREEN\",\"GREEN\",\"GREEN\",\"GREEN\",\"GREEN\",\"YELLOW\",\"GREEN\",\"GREEN\",\"GREEN\",\"YELLOW\",\"GREEN\",\"GREEN\",\"RED\",\"GREEN\",\"GREEN\",\"GREEN\",\"RED\",\"GREEN\",\"GREEN\",\"GREEN\",\"RED\",\"GREEN\",\"GREEN\",\"GREEN\",\"GREEN\",\"GREEN\",\"GREEN\",\"GREEN\",\"GREEN\",\"GREEN\",\"RED\",\"GREEN\",\"YELLOW\",\"GREEN\",\"GREEN\",\"GREEN\",\"RED\",\"GREEN\",\"GREEN\",\"GREEN\",\"GREEN\",\"GREEN\",\"GREEN\",\"GREEN\",\"GREEN\",\"GREEN\",\"YELLOW\",\"YELLOW\",\"GREEN\",\"GREEN\",\"GREEN\",\"GREEN\",\"GREEN\",\"YELLOW\",\"GREEN\",\"RED\",\"GREEN\",\"GREEN\",\"GREEN\",\"GREEN\",\"GREEN\",\"GREEN\",\"GREEN\",\"GREEN\",\"GREEN\",\"RED\",\"GREEN\",\"GREEN\",\"GREEN\",\"GREEN\",\"GREEN\",\"YELLOW\",\"GREEN\",\"GREEN\",\"GREEN\",\"RED\",\"GREEN\",\"RED\",\"GREEN\",\"GREEN\",\"RED\",\"GREEN\",\"GREEN\",\"GREEN\",\"GREEN\",\"RED\",\"GREEN\",\"GREEN\",\"GREEN\",\"GREEN\",\"GREEN\",\"GREEN\",\"GREEN\",\"RED\",\"GREEN\",\"GREEN\",\"GREEN\",\"GREEN\",\"GREEN\",\"GREEN\",\"GREEN\",\"GREEN\",\"GREEN\",\"GREEN\",\"GREEN\",\"GREEN\",\"GREEN\",\"GREEN\",\"RED\",\"RED\",\"GREEN\",\"GREEN\",\"GREEN\",\"YELLOW\",\"GREEN\",\"GREEN\",\"GREEN\",\"GREEN\",\"GREEN\",\"GREEN\",\"RED\",\"GREEN\",\"GREEN\",\"GREEN\",\"GREEN\",\"GREEN\",\"YELLOW\",\"GREEN\",\"GREEN\",\"GREEN\",\"GREEN\",\"GREEN\",\"RED\",\"RED\",\"RED\",\"RED\",\"GREEN\",\"YELLOW\",\"GREEN\",\"YELLOW\",\"RED\",\"GREEN\",\"RED\",\"YELLOW\",\"GREEN\",\"GREEN\",\"GREEN\",\"RED\",\"RED\",\"GREEN\",\"GREEN\",\"GREEN\",\"GREEN\",\"GREEN\",\"GREEN\",\"GREEN\",\"YELLOW\",\"GREEN\",\"RED\",\"GREEN\",\"GREEN\",\"YELLOW\",\"GREEN\",\"GREEN\",\"RED\",\"GREEN\",\"GREEN\",\"GREEN\",\"GREEN\",\"RED\",\"GREEN\",\"GREEN\",\"YELLOW\",\"GREEN\",\"GREEN\",\"GREEN\",\"YELLOW\",\"RED\",\"GREEN\",\"GREEN\",\"GREEN\",\"GREEN\",\"GREEN\",\"GREEN\",\"GREEN\",\"GREEN\",\"GREEN\",\"GREEN\"],\"x\":{\"__ndarray__\":\"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\",\"dtype\":\"float64\",\"shape\":[1000]},\"y\":{\"__ndarray__\":\"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\",\"dtype\":\"float64\",\"shape\":[1000]}},\"selected\":{\"id\":\"1633\",\"type\":\"Selection\"},\"selection_policy\":{\"id\":\"1632\",\"type\":\"UnionRenderers\"}},\"id\":\"1593\",\"type\":\"ColumnDataSource\"},{\"attributes\":{},\"id\":\"1607\",\"type\":\"WheelZoomTool\"},{\"attributes\":{\"overlay\":{\"id\":\"1627\",\"type\":\"BoxAnnotation\"}},\"id\":\"1608\",\"type\":\"BoxZoomTool\"},{\"attributes\":{},\"id\":\"1609\",\"type\":\"ResetTool\"},{\"attributes\":{\"callback\":null,\"tooltips\":[[\"account_number\",\"@account_number\"],[\"target\",\"@target\"]]},\"id\":\"1610\",\"type\":\"HoverTool\"},{\"attributes\":{},\"id\":\"1611\",\"type\":\"SaveTool\"},{\"attributes\":{\"label\":{\"field\":\"target\"},\"renderers\":[{\"id\":\"1624\",\"type\":\"GlyphRenderer\"}]},\"id\":\"1629\",\"type\":\"LegendItem\"},{\"attributes\":{\"fill_alpha\":{\"value\":0.7},\"fill_color\":{\"field\":\"target\",\"transform\":{\"id\":\"1620\",\"type\":\"CategoricalColorMapper\"}},\"line_alpha\":{\"value\":0.7},\"line_color\":{\"field\":\"target\",\"transform\":{\"id\":\"1620\",\"type\":\"CategoricalColorMapper\"}},\"marker\":{\"field\":\"target\",\"transform\":{\"id\":\"1619\",\"type\":\"CategoricalMarkerMapper\"}},\"x\":{\"field\":\"x\"},\"y\":{\"field\":\"y\"}},\"id\":\"1622\",\"type\":\"Scatter\"},{\"attributes\":{\"callback\":null},\"id\":\"1598\",\"type\":\"DataRange1d\"},{\"attributes\":{\"text\":\"T-SNE applied to User Account Entity Embedding\"},\"id\":\"1596\",\"type\":\"Title\"},{\"attributes\":{\"fill_alpha\":{\"value\":0.1},\"fill_color\":{\"value\":\"#1f77b4\"},\"line_alpha\":{\"value\":0.1},\"line_color\":{\"value\":\"#1f77b4\"},\"marker\":{\"field\":\"target\",\"transform\":{\"id\":\"1619\",\"type\":\"CategoricalMarkerMapper\"}},\"x\":{\"field\":\"x\"},\"y\":{\"field\":\"y\"}},\"id\":\"1623\",\"type\":\"Scatter\"},{\"attributes\":{\"bottom_units\":\"screen\",\"fill_alpha\":{\"value\":0.5},\"fill_color\":{\"value\":\"lightgrey\"},\"left_units\":\"screen\",\"level\":\"overlay\",\"line_alpha\":{\"value\":1.0},\"line_color\":{\"value\":\"black\"},\"line_dash\":[4,4],\"line_width\":{\"value\":2},\"render_mode\":\"css\",\"right_units\":\"screen\",\"top_units\":\"screen\"},\"id\":\"1627\",\"type\":\"BoxAnnotation\"},{\"attributes\":{\"data_source\":{\"id\":\"1593\",\"type\":\"ColumnDataSource\"},\"glyph\":{\"id\":\"1622\",\"type\":\"Scatter\"},\"hover_glyph\":null,\"muted_glyph\":null,\"nonselection_glyph\":{\"id\":\"1623\",\"type\":\"Scatter\"},\"selection_glyph\":null,\"view\":{\"id\":\"1625\",\"type\":\"CDSView\"}},\"id\":\"1624\",\"type\":\"GlyphRenderer\"},{\"attributes\":{\"source\":{\"id\":\"1593\",\"type\":\"ColumnDataSource\"}},\"id\":\"1625\",\"type\":\"CDSView\"},{\"attributes\":{\"factors\":[\"GREEN\",\"YELLOW\",\"RED\"],\"markers\":[\"circle\",\"circle\",\"circle\"]},\"id\":\"1619\",\"type\":\"CategoricalMarkerMapper\"},{\"attributes\":{\"items\":[{\"id\":\"1629\",\"type\":\"LegendItem\"}]},\"id\":\"1628\",\"type\":\"Legend\"},{\"attributes\":{\"factors\":[\"GREEN\",\"YELLOW\",\"RED\"],\"palette\":[\"green\",\"yellow\",\"red\"]},\"id\":\"1620\",\"type\":\"CategoricalColorMapper\"},{\"attributes\":{},\"id\":\"1633\",\"type\":\"Selection\"},{\"attributes\":{\"callback\":null},\"id\":\"1600\",\"type\":\"DataRange1d\"},{\"attributes\":{},\"id\":\"1602\",\"type\":\"LinearScale\"}],\"root_ids\":[\"1595\"]},\"title\":\"Bokeh Application\",\"version\":\"1.3.4\"}};\n",
       "  var render_items = [{\"docid\":\"5b85cf9e-b0f5-4b82-9044-7db427fc46a8\",\"roots\":{\"1595\":\"b86c4574-7a4c-4977-bc2f-0872c3a7cd37\"}}];\n",
       "  root.Bokeh.embed.embed_items_notebook(docs_json, render_items);\n",
       "\n",
       "  }\n",
       "  if (root.Bokeh !== undefined) {\n",
       "    embed_document(root);\n",
       "  } else {\n",
       "    var attempts = 0;\n",
       "    var timer = setInterval(function(root) {\n",
       "      if (root.Bokeh !== undefined) {\n",
       "        embed_document(root);\n",
       "        clearInterval(timer);\n",
       "      }\n",
       "      attempts++;\n",
       "      if (attempts > 100) {\n",
       "        console.log(\"Bokeh: ERROR: Unable to run BokehJS code because BokehJS library is missing\");\n",
       "        clearInterval(timer);\n",
       "      }\n",
       "    }, 10, root)\n",
       "  }\n",
       "})(window);"
      ],
      "application/vnd.bokehjs_exec.v0+json": ""
     },
     "metadata": {
      "application/vnd.bokehjs_exec.v0+json": {
       "id": "1595"
      }
     },
     "output_type": "display_data"
    }
   ],
   "source": [
    "output_notebook()\n",
    "plot_tfidf = bp.figure(plot_width = 800, plot_height = 700, \n",
    "                       title = \"T-SNE applied to User Account Entity Embedding\",\n",
    "                       tools = \"pan, wheel_zoom, box_zoom, reset, hover, previewsave\",\n",
    "                       x_axis_type = None, y_axis_type = None, min_border = 1)\n",
    "\n",
    "plot_tfidf.scatter(x = \"x\", \n",
    "                   y = \"y\", \n",
    "                   legend = \"target\",\n",
    "                   source = source,\n",
    "                   alpha = 0.7, \n",
    "                   marker=factor_mark('target', MARKERS, LABELS),\n",
    "                   color=factor_cmap('target', palette=['green', 'yellow', 'red'], factors=LABELS))\n",
    "\n",
    "\n",
    "hover = plot_tfidf.select(dict(type = HoverTool))\n",
    "hover.tooltips = {\n",
    "                  \"account_number\": \"@account_number\",\n",
    "                    \"target\": \"@target\"\n",
    "                  }\n",
    "\n",
    "show(plot_tfidf)"
   ]
  },
  {
   "cell_type": "code",
   "execution_count": 35,
   "metadata": {},
   "outputs": [],
   "source": [
    "with open('../../ivr_backup_data/model1_embeds.pkl', 'rb') as model1_embed_file:\n",
    "    model1_embed = pkl.load(model1_embed_file)"
   ]
  },
  {
   "cell_type": "code",
   "execution_count": 36,
   "metadata": {},
   "outputs": [],
   "source": [
    "with open('../../ivr_backup_data/model1_keys.pkl', 'rb') as model1_key_file:\n",
    "    model1_keys = pkl.load(model1_key_file)"
   ]
  },
  {
   "cell_type": "code",
   "execution_count": 37,
   "metadata": {},
   "outputs": [
    {
     "data": {
      "text/plain": [
       "(64, 64)"
      ]
     },
     "execution_count": 37,
     "metadata": {},
     "output_type": "execute_result"
    }
   ],
   "source": [
    "len(model1_embed), len(model1_keys)"
   ]
  },
  {
   "cell_type": "code",
   "execution_count": 38,
   "metadata": {},
   "outputs": [],
   "source": [
    "tsne_model = TSNE(n_jobs=4,\n",
    "                  perplexity=80,\n",
    "                  early_exaggeration=4, # Trying out exaggeration trick\n",
    "                  n_components=2,\n",
    "                  verbose=1,\n",
    "                  random_state=2018,\n",
    "                  n_iter=1000)\n",
    "\n",
    "tsne_tfidf = tsne_model.fit_transform(np.array(model1_embed))\n",
    "\n",
    "tsne_tfidf_df = pd.DataFrame(data=tsne_tfidf, columns=[\"x\", \"y\"])\n",
    "\n",
    "tsne_tfidf_df[\"model_number\"] = model1_keys\n",
    "tsne_tfidf_df['cluster'] = 'blue'"
   ]
  },
  {
   "cell_type": "code",
   "execution_count": 43,
   "metadata": {},
   "outputs": [],
   "source": [
    "source = ColumnDataSource(data = dict(x = tsne_tfidf_df[\"x\"], \n",
    "                                      y = tsne_tfidf_df[\"y\"],\n",
    "                                      # color = colormap[clean_data['topics_code'].values.tolist()],\n",
    "                                      model_number = tsne_tfidf_df[\"model_number\"],\n",
    "                                      target = tsne_tfidf_df[\"cluster\"]\n",
    "                                      ))\n"
   ]
  },
  {
   "cell_type": "code",
   "execution_count": 44,
   "metadata": {},
   "outputs": [
    {
     "data": {
      "text/html": [
       "\n",
       "    <div class=\"bk-root\">\n",
       "        <a href=\"https://bokeh.pydata.org\" target=\"_blank\" class=\"bk-logo bk-logo-small bk-logo-notebook\"></a>\n",
       "        <span id=\"1246\">Loading BokehJS ...</span>\n",
       "    </div>"
      ]
     },
     "metadata": {},
     "output_type": "display_data"
    },
    {
     "data": {
      "application/javascript": [
       "\n",
       "(function(root) {\n",
       "  function now() {\n",
       "    return new Date();\n",
       "  }\n",
       "\n",
       "  var force = true;\n",
       "\n",
       "  if (typeof root._bokeh_onload_callbacks === \"undefined\" || force === true) {\n",
       "    root._bokeh_onload_callbacks = [];\n",
       "    root._bokeh_is_loading = undefined;\n",
       "  }\n",
       "\n",
       "  var JS_MIME_TYPE = 'application/javascript';\n",
       "  var HTML_MIME_TYPE = 'text/html';\n",
       "  var EXEC_MIME_TYPE = 'application/vnd.bokehjs_exec.v0+json';\n",
       "  var CLASS_NAME = 'output_bokeh rendered_html';\n",
       "\n",
       "  /**\n",
       "   * Render data to the DOM node\n",
       "   */\n",
       "  function render(props, node) {\n",
       "    var script = document.createElement(\"script\");\n",
       "    node.appendChild(script);\n",
       "  }\n",
       "\n",
       "  /**\n",
       "   * Handle when an output is cleared or removed\n",
       "   */\n",
       "  function handleClearOutput(event, handle) {\n",
       "    var cell = handle.cell;\n",
       "\n",
       "    var id = cell.output_area._bokeh_element_id;\n",
       "    var server_id = cell.output_area._bokeh_server_id;\n",
       "    // Clean up Bokeh references\n",
       "    if (id != null && id in Bokeh.index) {\n",
       "      Bokeh.index[id].model.document.clear();\n",
       "      delete Bokeh.index[id];\n",
       "    }\n",
       "\n",
       "    if (server_id !== undefined) {\n",
       "      // Clean up Bokeh references\n",
       "      var cmd = \"from bokeh.io.state import curstate; print(curstate().uuid_to_server['\" + server_id + \"'].get_sessions()[0].document.roots[0]._id)\";\n",
       "      cell.notebook.kernel.execute(cmd, {\n",
       "        iopub: {\n",
       "          output: function(msg) {\n",
       "            var id = msg.content.text.trim();\n",
       "            if (id in Bokeh.index) {\n",
       "              Bokeh.index[id].model.document.clear();\n",
       "              delete Bokeh.index[id];\n",
       "            }\n",
       "          }\n",
       "        }\n",
       "      });\n",
       "      // Destroy server and session\n",
       "      var cmd = \"import bokeh.io.notebook as ion; ion.destroy_server('\" + server_id + \"')\";\n",
       "      cell.notebook.kernel.execute(cmd);\n",
       "    }\n",
       "  }\n",
       "\n",
       "  /**\n",
       "   * Handle when a new output is added\n",
       "   */\n",
       "  function handleAddOutput(event, handle) {\n",
       "    var output_area = handle.output_area;\n",
       "    var output = handle.output;\n",
       "\n",
       "    // limit handleAddOutput to display_data with EXEC_MIME_TYPE content only\n",
       "    if ((output.output_type != \"display_data\") || (!output.data.hasOwnProperty(EXEC_MIME_TYPE))) {\n",
       "      return\n",
       "    }\n",
       "\n",
       "    var toinsert = output_area.element.find(\".\" + CLASS_NAME.split(' ')[0]);\n",
       "\n",
       "    if (output.metadata[EXEC_MIME_TYPE][\"id\"] !== undefined) {\n",
       "      toinsert[toinsert.length - 1].firstChild.textContent = output.data[JS_MIME_TYPE];\n",
       "      // store reference to embed id on output_area\n",
       "      output_area._bokeh_element_id = output.metadata[EXEC_MIME_TYPE][\"id\"];\n",
       "    }\n",
       "    if (output.metadata[EXEC_MIME_TYPE][\"server_id\"] !== undefined) {\n",
       "      var bk_div = document.createElement(\"div\");\n",
       "      bk_div.innerHTML = output.data[HTML_MIME_TYPE];\n",
       "      var script_attrs = bk_div.children[0].attributes;\n",
       "      for (var i = 0; i < script_attrs.length; i++) {\n",
       "        toinsert[toinsert.length - 1].firstChild.setAttribute(script_attrs[i].name, script_attrs[i].value);\n",
       "      }\n",
       "      // store reference to server id on output_area\n",
       "      output_area._bokeh_server_id = output.metadata[EXEC_MIME_TYPE][\"server_id\"];\n",
       "    }\n",
       "  }\n",
       "\n",
       "  function register_renderer(events, OutputArea) {\n",
       "\n",
       "    function append_mime(data, metadata, element) {\n",
       "      // create a DOM node to render to\n",
       "      var toinsert = this.create_output_subarea(\n",
       "        metadata,\n",
       "        CLASS_NAME,\n",
       "        EXEC_MIME_TYPE\n",
       "      );\n",
       "      this.keyboard_manager.register_events(toinsert);\n",
       "      // Render to node\n",
       "      var props = {data: data, metadata: metadata[EXEC_MIME_TYPE]};\n",
       "      render(props, toinsert[toinsert.length - 1]);\n",
       "      element.append(toinsert);\n",
       "      return toinsert\n",
       "    }\n",
       "\n",
       "    /* Handle when an output is cleared or removed */\n",
       "    events.on('clear_output.CodeCell', handleClearOutput);\n",
       "    events.on('delete.Cell', handleClearOutput);\n",
       "\n",
       "    /* Handle when a new output is added */\n",
       "    events.on('output_added.OutputArea', handleAddOutput);\n",
       "\n",
       "    /**\n",
       "     * Register the mime type and append_mime function with output_area\n",
       "     */\n",
       "    OutputArea.prototype.register_mime_type(EXEC_MIME_TYPE, append_mime, {\n",
       "      /* Is output safe? */\n",
       "      safe: true,\n",
       "      /* Index of renderer in `output_area.display_order` */\n",
       "      index: 0\n",
       "    });\n",
       "  }\n",
       "\n",
       "  // register the mime type if in Jupyter Notebook environment and previously unregistered\n",
       "  if (root.Jupyter !== undefined) {\n",
       "    var events = require('base/js/events');\n",
       "    var OutputArea = require('notebook/js/outputarea').OutputArea;\n",
       "\n",
       "    if (OutputArea.prototype.mime_types().indexOf(EXEC_MIME_TYPE) == -1) {\n",
       "      register_renderer(events, OutputArea);\n",
       "    }\n",
       "  }\n",
       "\n",
       "  \n",
       "  if (typeof (root._bokeh_timeout) === \"undefined\" || force === true) {\n",
       "    root._bokeh_timeout = Date.now() + 5000;\n",
       "    root._bokeh_failed_load = false;\n",
       "  }\n",
       "\n",
       "  var NB_LOAD_WARNING = {'data': {'text/html':\n",
       "     \"<div style='background-color: #fdd'>\\n\"+\n",
       "     \"<p>\\n\"+\n",
       "     \"BokehJS does not appear to have successfully loaded. If loading BokehJS from CDN, this \\n\"+\n",
       "     \"may be due to a slow or bad network connection. Possible fixes:\\n\"+\n",
       "     \"</p>\\n\"+\n",
       "     \"<ul>\\n\"+\n",
       "     \"<li>re-rerun `output_notebook()` to attempt to load from CDN again, or</li>\\n\"+\n",
       "     \"<li>use INLINE resources instead, as so:</li>\\n\"+\n",
       "     \"</ul>\\n\"+\n",
       "     \"<code>\\n\"+\n",
       "     \"from bokeh.resources import INLINE\\n\"+\n",
       "     \"output_notebook(resources=INLINE)\\n\"+\n",
       "     \"</code>\\n\"+\n",
       "     \"</div>\"}};\n",
       "\n",
       "  function display_loaded() {\n",
       "    var el = document.getElementById(\"1246\");\n",
       "    if (el != null) {\n",
       "      el.textContent = \"BokehJS is loading...\";\n",
       "    }\n",
       "    if (root.Bokeh !== undefined) {\n",
       "      if (el != null) {\n",
       "        el.textContent = \"BokehJS \" + root.Bokeh.version + \" successfully loaded.\";\n",
       "      }\n",
       "    } else if (Date.now() < root._bokeh_timeout) {\n",
       "      setTimeout(display_loaded, 100)\n",
       "    }\n",
       "  }\n",
       "\n",
       "\n",
       "  function run_callbacks() {\n",
       "    try {\n",
       "      root._bokeh_onload_callbacks.forEach(function(callback) {\n",
       "        if (callback != null)\n",
       "          callback();\n",
       "      });\n",
       "    } finally {\n",
       "      delete root._bokeh_onload_callbacks\n",
       "    }\n",
       "    console.debug(\"Bokeh: all callbacks have finished\");\n",
       "  }\n",
       "\n",
       "  function load_libs(css_urls, js_urls, callback) {\n",
       "    if (css_urls == null) css_urls = [];\n",
       "    if (js_urls == null) js_urls = [];\n",
       "\n",
       "    root._bokeh_onload_callbacks.push(callback);\n",
       "    if (root._bokeh_is_loading > 0) {\n",
       "      console.debug(\"Bokeh: BokehJS is being loaded, scheduling callback at\", now());\n",
       "      return null;\n",
       "    }\n",
       "    if (js_urls == null || js_urls.length === 0) {\n",
       "      run_callbacks();\n",
       "      return null;\n",
       "    }\n",
       "    console.debug(\"Bokeh: BokehJS not loaded, scheduling load and callback at\", now());\n",
       "    root._bokeh_is_loading = css_urls.length + js_urls.length;\n",
       "\n",
       "    function on_load() {\n",
       "      root._bokeh_is_loading--;\n",
       "      if (root._bokeh_is_loading === 0) {\n",
       "        console.debug(\"Bokeh: all BokehJS libraries/stylesheets loaded\");\n",
       "        run_callbacks()\n",
       "      }\n",
       "    }\n",
       "\n",
       "    function on_error() {\n",
       "      console.error(\"failed to load \" + url);\n",
       "    }\n",
       "\n",
       "    for (var i = 0; i < css_urls.length; i++) {\n",
       "      var url = css_urls[i];\n",
       "      const element = document.createElement(\"link\");\n",
       "      element.onload = on_load;\n",
       "      element.onerror = on_error;\n",
       "      element.rel = \"stylesheet\";\n",
       "      element.type = \"text/css\";\n",
       "      element.href = url;\n",
       "      console.debug(\"Bokeh: injecting link tag for BokehJS stylesheet: \", url);\n",
       "      document.body.appendChild(element);\n",
       "    }\n",
       "\n",
       "    for (var i = 0; i < js_urls.length; i++) {\n",
       "      var url = js_urls[i];\n",
       "      var element = document.createElement('script');\n",
       "      element.onload = on_load;\n",
       "      element.onerror = on_error;\n",
       "      element.async = false;\n",
       "      element.src = url;\n",
       "      console.debug(\"Bokeh: injecting script tag for BokehJS library: \", url);\n",
       "      document.head.appendChild(element);\n",
       "    }\n",
       "  };var element = document.getElementById(\"1246\");\n",
       "  if (element == null) {\n",
       "    console.error(\"Bokeh: ERROR: autoload.js configured with elementid '1246' but no matching script tag was found. \")\n",
       "    return false;\n",
       "  }\n",
       "\n",
       "  function inject_raw_css(css) {\n",
       "    const element = document.createElement(\"style\");\n",
       "    element.appendChild(document.createTextNode(css));\n",
       "    document.body.appendChild(element);\n",
       "  }\n",
       "\n",
       "  var js_urls = [\"https://cdn.pydata.org/bokeh/release/bokeh-1.3.4.min.js\", \"https://cdn.pydata.org/bokeh/release/bokeh-widgets-1.3.4.min.js\", \"https://cdn.pydata.org/bokeh/release/bokeh-tables-1.3.4.min.js\", \"https://cdn.pydata.org/bokeh/release/bokeh-gl-1.3.4.min.js\"];\n",
       "  var css_urls = [];\n",
       "\n",
       "  var inline_js = [\n",
       "    function(Bokeh) {\n",
       "      Bokeh.set_log_level(\"info\");\n",
       "    },\n",
       "    \n",
       "    function(Bokeh) {\n",
       "      \n",
       "    },\n",
       "    function(Bokeh) {} // ensure no trailing comma for IE\n",
       "  ];\n",
       "\n",
       "  function run_inline_js() {\n",
       "    \n",
       "    if ((root.Bokeh !== undefined) || (force === true)) {\n",
       "      for (var i = 0; i < inline_js.length; i++) {\n",
       "        inline_js[i].call(root, root.Bokeh);\n",
       "      }if (force === true) {\n",
       "        display_loaded();\n",
       "      }} else if (Date.now() < root._bokeh_timeout) {\n",
       "      setTimeout(run_inline_js, 100);\n",
       "    } else if (!root._bokeh_failed_load) {\n",
       "      console.log(\"Bokeh: BokehJS failed to load within specified timeout.\");\n",
       "      root._bokeh_failed_load = true;\n",
       "    } else if (force !== true) {\n",
       "      var cell = $(document.getElementById(\"1246\")).parents('.cell').data().cell;\n",
       "      cell.output_area.append_execute_result(NB_LOAD_WARNING)\n",
       "    }\n",
       "\n",
       "  }\n",
       "\n",
       "  if (root._bokeh_is_loading === 0) {\n",
       "    console.debug(\"Bokeh: BokehJS loaded, going straight to plotting\");\n",
       "    run_inline_js();\n",
       "  } else {\n",
       "    load_libs(css_urls, js_urls, function() {\n",
       "      console.debug(\"Bokeh: BokehJS plotting callback run at\", now());\n",
       "      run_inline_js();\n",
       "    });\n",
       "  }\n",
       "}(window));"
      ],
      "application/vnd.bokehjs_load.v0+json": "\n(function(root) {\n  function now() {\n    return new Date();\n  }\n\n  var force = true;\n\n  if (typeof root._bokeh_onload_callbacks === \"undefined\" || force === true) {\n    root._bokeh_onload_callbacks = [];\n    root._bokeh_is_loading = undefined;\n  }\n\n  \n\n  \n  if (typeof (root._bokeh_timeout) === \"undefined\" || force === true) {\n    root._bokeh_timeout = Date.now() + 5000;\n    root._bokeh_failed_load = false;\n  }\n\n  var NB_LOAD_WARNING = {'data': {'text/html':\n     \"<div style='background-color: #fdd'>\\n\"+\n     \"<p>\\n\"+\n     \"BokehJS does not appear to have successfully loaded. If loading BokehJS from CDN, this \\n\"+\n     \"may be due to a slow or bad network connection. Possible fixes:\\n\"+\n     \"</p>\\n\"+\n     \"<ul>\\n\"+\n     \"<li>re-rerun `output_notebook()` to attempt to load from CDN again, or</li>\\n\"+\n     \"<li>use INLINE resources instead, as so:</li>\\n\"+\n     \"</ul>\\n\"+\n     \"<code>\\n\"+\n     \"from bokeh.resources import INLINE\\n\"+\n     \"output_notebook(resources=INLINE)\\n\"+\n     \"</code>\\n\"+\n     \"</div>\"}};\n\n  function display_loaded() {\n    var el = document.getElementById(\"1246\");\n    if (el != null) {\n      el.textContent = \"BokehJS is loading...\";\n    }\n    if (root.Bokeh !== undefined) {\n      if (el != null) {\n        el.textContent = \"BokehJS \" + root.Bokeh.version + \" successfully loaded.\";\n      }\n    } else if (Date.now() < root._bokeh_timeout) {\n      setTimeout(display_loaded, 100)\n    }\n  }\n\n\n  function run_callbacks() {\n    try {\n      root._bokeh_onload_callbacks.forEach(function(callback) {\n        if (callback != null)\n          callback();\n      });\n    } finally {\n      delete root._bokeh_onload_callbacks\n    }\n    console.debug(\"Bokeh: all callbacks have finished\");\n  }\n\n  function load_libs(css_urls, js_urls, callback) {\n    if (css_urls == null) css_urls = [];\n    if (js_urls == null) js_urls = [];\n\n    root._bokeh_onload_callbacks.push(callback);\n    if (root._bokeh_is_loading > 0) {\n      console.debug(\"Bokeh: BokehJS is being loaded, scheduling callback at\", now());\n      return null;\n    }\n    if (js_urls == null || js_urls.length === 0) {\n      run_callbacks();\n      return null;\n    }\n    console.debug(\"Bokeh: BokehJS not loaded, scheduling load and callback at\", now());\n    root._bokeh_is_loading = css_urls.length + js_urls.length;\n\n    function on_load() {\n      root._bokeh_is_loading--;\n      if (root._bokeh_is_loading === 0) {\n        console.debug(\"Bokeh: all BokehJS libraries/stylesheets loaded\");\n        run_callbacks()\n      }\n    }\n\n    function on_error() {\n      console.error(\"failed to load \" + url);\n    }\n\n    for (var i = 0; i < css_urls.length; i++) {\n      var url = css_urls[i];\n      const element = document.createElement(\"link\");\n      element.onload = on_load;\n      element.onerror = on_error;\n      element.rel = \"stylesheet\";\n      element.type = \"text/css\";\n      element.href = url;\n      console.debug(\"Bokeh: injecting link tag for BokehJS stylesheet: \", url);\n      document.body.appendChild(element);\n    }\n\n    for (var i = 0; i < js_urls.length; i++) {\n      var url = js_urls[i];\n      var element = document.createElement('script');\n      element.onload = on_load;\n      element.onerror = on_error;\n      element.async = false;\n      element.src = url;\n      console.debug(\"Bokeh: injecting script tag for BokehJS library: \", url);\n      document.head.appendChild(element);\n    }\n  };var element = document.getElementById(\"1246\");\n  if (element == null) {\n    console.error(\"Bokeh: ERROR: autoload.js configured with elementid '1246' but no matching script tag was found. \")\n    return false;\n  }\n\n  function inject_raw_css(css) {\n    const element = document.createElement(\"style\");\n    element.appendChild(document.createTextNode(css));\n    document.body.appendChild(element);\n  }\n\n  var js_urls = [\"https://cdn.pydata.org/bokeh/release/bokeh-1.3.4.min.js\", \"https://cdn.pydata.org/bokeh/release/bokeh-widgets-1.3.4.min.js\", \"https://cdn.pydata.org/bokeh/release/bokeh-tables-1.3.4.min.js\", \"https://cdn.pydata.org/bokeh/release/bokeh-gl-1.3.4.min.js\"];\n  var css_urls = [];\n\n  var inline_js = [\n    function(Bokeh) {\n      Bokeh.set_log_level(\"info\");\n    },\n    \n    function(Bokeh) {\n      \n    },\n    function(Bokeh) {} // ensure no trailing comma for IE\n  ];\n\n  function run_inline_js() {\n    \n    if ((root.Bokeh !== undefined) || (force === true)) {\n      for (var i = 0; i < inline_js.length; i++) {\n        inline_js[i].call(root, root.Bokeh);\n      }if (force === true) {\n        display_loaded();\n      }} else if (Date.now() < root._bokeh_timeout) {\n      setTimeout(run_inline_js, 100);\n    } else if (!root._bokeh_failed_load) {\n      console.log(\"Bokeh: BokehJS failed to load within specified timeout.\");\n      root._bokeh_failed_load = true;\n    } else if (force !== true) {\n      var cell = $(document.getElementById(\"1246\")).parents('.cell').data().cell;\n      cell.output_area.append_execute_result(NB_LOAD_WARNING)\n    }\n\n  }\n\n  if (root._bokeh_is_loading === 0) {\n    console.debug(\"Bokeh: BokehJS loaded, going straight to plotting\");\n    run_inline_js();\n  } else {\n    load_libs(css_urls, js_urls, function() {\n      console.debug(\"Bokeh: BokehJS plotting callback run at\", now());\n      run_inline_js();\n    });\n  }\n}(window));"
     },
     "metadata": {},
     "output_type": "display_data"
    },
    {
     "data": {
      "text/html": [
       "\n",
       "\n",
       "\n",
       "\n",
       "\n",
       "\n",
       "  <div class=\"bk-root\" id=\"6c1c3529-1d61-49e4-a3b2-145bb943832e\" data-root-id=\"1247\"></div>\n"
      ]
     },
     "metadata": {},
     "output_type": "display_data"
    },
    {
     "data": {
      "application/javascript": [
       "(function(root) {\n",
       "  function embed_document(root) {\n",
       "    \n",
       "  var docs_json = {\"ea8acf61-7347-461b-bbf3-8d4e859a0686\":{\"roots\":{\"references\":[{\"attributes\":{\"center\":[{\"id\":\"1280\",\"type\":\"Legend\"}],\"min_border\":1,\"plot_height\":700,\"plot_width\":800,\"renderers\":[{\"id\":\"1276\",\"type\":\"GlyphRenderer\"}],\"title\":{\"id\":\"1248\",\"type\":\"Title\"},\"toolbar\":{\"id\":\"1264\",\"type\":\"Toolbar\"},\"x_range\":{\"id\":\"1250\",\"type\":\"DataRange1d\"},\"x_scale\":{\"id\":\"1254\",\"type\":\"LinearScale\"},\"y_range\":{\"id\":\"1252\",\"type\":\"DataRange1d\"},\"y_scale\":{\"id\":\"1256\",\"type\":\"LinearScale\"}},\"id\":\"1247\",\"subtype\":\"Figure\",\"type\":\"Plot\"},{\"attributes\":{\"fill_alpha\":{\"value\":0.7},\"fill_color\":{\"field\":\"target\",\"transform\":{\"id\":\"1272\",\"type\":\"CategoricalColorMapper\"}},\"line_alpha\":{\"value\":0.7},\"line_color\":{\"field\":\"target\",\"transform\":{\"id\":\"1272\",\"type\":\"CategoricalColorMapper\"}},\"marker\":{\"field\":\"target\",\"transform\":{\"id\":\"1271\",\"type\":\"CategoricalMarkerMapper\"}},\"x\":{\"field\":\"x\"},\"y\":{\"field\":\"y\"}},\"id\":\"1274\",\"type\":\"Scatter\"},{\"attributes\":{\"fill_alpha\":{\"value\":0.1},\"fill_color\":{\"value\":\"#1f77b4\"},\"line_alpha\":{\"value\":0.1},\"line_color\":{\"value\":\"#1f77b4\"},\"marker\":{\"field\":\"target\",\"transform\":{\"id\":\"1271\",\"type\":\"CategoricalMarkerMapper\"}},\"x\":{\"field\":\"x\"},\"y\":{\"field\":\"y\"}},\"id\":\"1275\",\"type\":\"Scatter\"},{\"attributes\":{},\"id\":\"1258\",\"type\":\"PanTool\"},{\"attributes\":{},\"id\":\"1261\",\"type\":\"ResetTool\"},{\"attributes\":{\"data_source\":{\"id\":\"1245\",\"type\":\"ColumnDataSource\"},\"glyph\":{\"id\":\"1274\",\"type\":\"Scatter\"},\"hover_glyph\":null,\"muted_glyph\":null,\"nonselection_glyph\":{\"id\":\"1275\",\"type\":\"Scatter\"},\"selection_glyph\":null,\"view\":{\"id\":\"1277\",\"type\":\"CDSView\"}},\"id\":\"1276\",\"type\":\"GlyphRenderer\"},{\"attributes\":{},\"id\":\"1263\",\"type\":\"SaveTool\"},{\"attributes\":{\"source\":{\"id\":\"1245\",\"type\":\"ColumnDataSource\"}},\"id\":\"1277\",\"type\":\"CDSView\"},{\"attributes\":{\"bottom_units\":\"screen\",\"fill_alpha\":{\"value\":0.5},\"fill_color\":{\"value\":\"lightgrey\"},\"left_units\":\"screen\",\"level\":\"overlay\",\"line_alpha\":{\"value\":1.0},\"line_color\":{\"value\":\"black\"},\"line_dash\":[4,4],\"line_width\":{\"value\":2},\"render_mode\":\"css\",\"right_units\":\"screen\",\"top_units\":\"screen\"},\"id\":\"1279\",\"type\":\"BoxAnnotation\"},{\"attributes\":{\"active_drag\":\"auto\",\"active_inspect\":\"auto\",\"active_multi\":null,\"active_scroll\":\"auto\",\"active_tap\":\"auto\",\"tools\":[{\"id\":\"1258\",\"type\":\"PanTool\"},{\"id\":\"1259\",\"type\":\"WheelZoomTool\"},{\"id\":\"1260\",\"type\":\"BoxZoomTool\"},{\"id\":\"1261\",\"type\":\"ResetTool\"},{\"id\":\"1262\",\"type\":\"HoverTool\"},{\"id\":\"1263\",\"type\":\"SaveTool\"}]},\"id\":\"1264\",\"type\":\"Toolbar\"},{\"attributes\":{},\"id\":\"1284\",\"type\":\"UnionRenderers\"},{\"attributes\":{\"items\":[{\"id\":\"1281\",\"type\":\"LegendItem\"}]},\"id\":\"1280\",\"type\":\"Legend\"},{\"attributes\":{},\"id\":\"1254\",\"type\":\"LinearScale\"},{\"attributes\":{\"label\":{\"field\":\"target\"},\"renderers\":[{\"id\":\"1276\",\"type\":\"GlyphRenderer\"}]},\"id\":\"1281\",\"type\":\"LegendItem\"},{\"attributes\":{},\"id\":\"1256\",\"type\":\"LinearScale\"},{\"attributes\":{\"callback\":null,\"data\":{\"model_number\":[\"#na#\",\"Accessory\",\"G8 ThinQTM\",\"Galaxy A50\",\"Galaxy A70\",\"Galaxy Note10\",\"Galaxy Note10+\",\"Galaxy Note8\",\"Galaxy Note8 BYOD\",\"Galaxy Note9\",\"Galaxy Note9 BYOD\",\"Galaxy S10\",\"Galaxy S10 BYOD\",\"Galaxy S10 Unlocked BYOD\",\"Galaxy S10+\",\"Galaxy S10+ BYOD\",\"Galaxy S10e\",\"Galaxy S10e BYOD\",\"Galaxy S8\",\"Galaxy S8 BYOD\",\"Galaxy S8+\",\"Galaxy S8+ BYOD\",\"Galaxy S9\",\"Galaxy S9 BYOD\",\"Galaxy S9+\",\"Galaxy S9+ BYOD\",\"K30&\",\"Pixel 4\",\"Pixel 4 XL\",\"Stylo 4\",\"Stylo 5\",\"Watch Series 3 Aluminum 38mm\",\"Watch Series 4 Aluminum 40mm\",\"Watch Series 5 Aluminum 40mm\",\"Watch Series 5 Aluminum 44mm\",\"iPad (6th Generation)\",\"iPhone 11\",\"iPhone 11 Pro\",\"iPhone 11 Pro Max\",\"iPhone 6\",\"iPhone 6 Plus\",\"iPhone 6s\",\"iPhone 6s Plus\",\"iPhone 7\",\"iPhone 7 (PRODUCT)RED\",\"iPhone 7 Plus\",\"iPhone 7 Plus (PRODUCT)RED\",\"iPhone 8\",\"iPhone 8 (PRODUCT)RED\",\"iPhone 8 (PRODUCT)RED - LTE Only\",\"iPhone 8 LTE Only\",\"iPhone 8 Plus\",\"iPhone 8 Plus (PRODUCT)RED\",\"iPhone 8 Plus (PRODUCT)RED - LTE Only\",\"iPhone 8 Plus - LTE Only\",\"iPhone SE\",\"iPhone X\",\"iPhone X LTE Only\",\"iPhone XR\",\"iPhone XS\",\"iPhone XS Max\",\"moto e5 play\",\"moto e\\u2076\",\"moto g7 power\"],\"target\":[\"blue\",\"blue\",\"blue\",\"blue\",\"blue\",\"blue\",\"blue\",\"blue\",\"blue\",\"blue\",\"blue\",\"blue\",\"blue\",\"blue\",\"blue\",\"blue\",\"blue\",\"blue\",\"blue\",\"blue\",\"blue\",\"blue\",\"blue\",\"blue\",\"blue\",\"blue\",\"blue\",\"blue\",\"blue\",\"blue\",\"blue\",\"blue\",\"blue\",\"blue\",\"blue\",\"blue\",\"blue\",\"blue\",\"blue\",\"blue\",\"blue\",\"blue\",\"blue\",\"blue\",\"blue\",\"blue\",\"blue\",\"blue\",\"blue\",\"blue\",\"blue\",\"blue\",\"blue\",\"blue\",\"blue\",\"blue\",\"blue\",\"blue\",\"blue\",\"blue\",\"blue\",\"blue\",\"blue\",\"blue\"],\"x\":{\"__ndarray__\":\"1SxBwaJf87/7o75UPcT8Pw5b3mlMP/8/mD/C0+YX+T9bNwlbS5e4P1tfe3spywJAu85xU2xE8z+T6mlgOO4DQEeFxSiJc/K/3gHflPYD8T83hJkDPIj9vztnMI5YkQhAMhuQF6Jv0L+13q3b9AH0v9vP9/poqQZAiOGyztke6j+s/6VG7YLcv0DX6G7FZ/e/IwZOFfLO/D+9DtU/BngOwF8gGEhNf8O/T/WWIArvBMD6YU2wAEr8P7bK+B8lGvK/U+w+Gaqw6D/P7JN3pbzxvzOn15z60PU/S+TFPjfZBUDM6Y9l2tj0P49jRxcUyvk/UDO0CAEY8D/La/l6FW3yv+B0Q/N4agnAiy7+oDuWBkBolYuJX+cBwEXJ+8N0AArAyBc/z7ndB8D/loaLNZAOwNTGZvoULAnAgY/IZjvrpD9qOvjGP/+xP9kxlgw30u4/3NwOH/OTyr87AneUw932P/sLPcZ1nQfAoGMV9ANcqT/zghEz8Qr6v/xi0zgVPPI/LCbMk1Cw8D+kM8Qjaxz3P90s4DaRbOQ/fEz6RRjl6z8WodQxNZgQwJlii+mzxcE/x0ZZpsct0j8FrSoxd1fNP5PSebwiVfU/JOiYIjNve78tmgeAY7DTPwiOybjunwrAbDh1nc1i1j8Uc+qiXmTuP623/BvUSOk/G2t7QGrF/z8=\",\"dtype\":\"float64\",\"shape\":[64]},\"y\":{\"__ndarray__\":\"1wWSLGyi6L+vkE3+0lvgP3nEKCQc+RJAztTAlgwJDUAFsKmefnrRv/futv1Wtw9AWRk5TuMY7j+syfVx57UOQMJWMh4HLQvAybKr+TZN+b+IQmlwDcD0vwg4HYGQJMC/NjtvBOocA8ARPsjNfDKjPx/UpDQMI9G/6LN8t3GDEsDXgmVGv8MJQA3TavNo9gDAWfM3QXZQEkBNtn0Eh4kAwOTjsHP2Suu/gS1h13iHBMCn7Q+pgdEVQH4HMYUEAw7AhUTbx8boDkCh6mqOqpAPwFgsVhzLXQVAk7E8LglrEkBZwrJ10/zCv7qhvJ8vBgNAZH5MwT8jAkD1TPvBiEPfP6qc77eD4ci//6myVw2ODEA8CHg5rCPpP5uN8Yaaz9E/kNEYsoUz478Dw0h7HsPWvxiBsJG1gui/YmdPYnOEEMAINxxT4VMTwHWrVKKF0A7AKuHbebKPE8C4RD6EnPwIQF+8eaS88fa/yquCRqFpEkBaTx6ok+fvvyCveoPfZBJAOTY8+i5i4L+8wezF+yXiv6M/AMEIdAvAJFeztpYpEUBl2/wAZPj0v/tnygIDcfe/M1GJQhrABMC8smoiwLIIwLuVa0amXhDATdr1xqK1EMAMRlVC4LsKQONHfnuoHvO/TqmPWtR0FsDTzFwEpRgAQN/o7vqLhwdAgp7IQcpXDEA=\",\"dtype\":\"float64\",\"shape\":[64]}},\"selected\":{\"id\":\"1285\",\"type\":\"Selection\"},\"selection_policy\":{\"id\":\"1284\",\"type\":\"UnionRenderers\"}},\"id\":\"1245\",\"type\":\"ColumnDataSource\"},{\"attributes\":{},\"id\":\"1285\",\"type\":\"Selection\"},{\"attributes\":{\"callback\":null,\"tooltips\":[[\"model_number\",\"@model_number\"],[\"target\",\"@target\"]]},\"id\":\"1262\",\"type\":\"HoverTool\"},{\"attributes\":{\"callback\":null},\"id\":\"1252\",\"type\":\"DataRange1d\"},{\"attributes\":{\"callback\":null},\"id\":\"1250\",\"type\":\"DataRange1d\"},{\"attributes\":{\"text\":\"T-SNE applied to Model1 Entity Embedding\"},\"id\":\"1248\",\"type\":\"Title\"},{\"attributes\":{\"factors\":[\"GREEN\",\"YELLOW\",\"RED\"],\"palette\":[\"blue\"]},\"id\":\"1272\",\"type\":\"CategoricalColorMapper\"},{\"attributes\":{\"factors\":[\"blue\"],\"markers\":[\"circle\"]},\"id\":\"1271\",\"type\":\"CategoricalMarkerMapper\"},{\"attributes\":{},\"id\":\"1259\",\"type\":\"WheelZoomTool\"},{\"attributes\":{\"overlay\":{\"id\":\"1279\",\"type\":\"BoxAnnotation\"}},\"id\":\"1260\",\"type\":\"BoxZoomTool\"}],\"root_ids\":[\"1247\"]},\"title\":\"Bokeh Application\",\"version\":\"1.3.4\"}};\n",
       "  var render_items = [{\"docid\":\"ea8acf61-7347-461b-bbf3-8d4e859a0686\",\"roots\":{\"1247\":\"6c1c3529-1d61-49e4-a3b2-145bb943832e\"}}];\n",
       "  root.Bokeh.embed.embed_items_notebook(docs_json, render_items);\n",
       "\n",
       "  }\n",
       "  if (root.Bokeh !== undefined) {\n",
       "    embed_document(root);\n",
       "  } else {\n",
       "    var attempts = 0;\n",
       "    var timer = setInterval(function(root) {\n",
       "      if (root.Bokeh !== undefined) {\n",
       "        embed_document(root);\n",
       "        clearInterval(timer);\n",
       "      }\n",
       "      attempts++;\n",
       "      if (attempts > 100) {\n",
       "        console.log(\"Bokeh: ERROR: Unable to run BokehJS code because BokehJS library is missing\");\n",
       "        clearInterval(timer);\n",
       "      }\n",
       "    }, 10, root)\n",
       "  }\n",
       "})(window);"
      ],
      "application/vnd.bokehjs_exec.v0+json": ""
     },
     "metadata": {
      "application/vnd.bokehjs_exec.v0+json": {
       "id": "1247"
      }
     },
     "output_type": "display_data"
    }
   ],
   "source": [
    "output_notebook()\n",
    "plot_tfidf = bp.figure(plot_width = 800, plot_height = 700, \n",
    "                       title = \"T-SNE applied to Model1 Entity Embedding\",\n",
    "                       tools = \"pan, wheel_zoom, box_zoom, reset, hover, previewsave\",\n",
    "                       x_axis_type = None, y_axis_type = None, min_border = 1)\n",
    "\n",
    "plot_tfidf.scatter(x = \"x\", \n",
    "                   y = \"y\", \n",
    "                   legend = \"target\",\n",
    "                   source = source,\n",
    "                   alpha = 0.7, \n",
    "                   marker=factor_mark('target', ['circle'], ['blue']),\n",
    "                   color=factor_cmap('target', palette=['blue'], factors=LABELS))\n",
    "\n",
    "\n",
    "hover = plot_tfidf.select(dict(type = HoverTool))\n",
    "hover.tooltips = {\n",
    "                  \"model_number\": \"@model_number\",\n",
    "                    \"target\": \"@target\"\n",
    "                  }\n",
    "\n",
    "show(plot_tfidf)"
   ]
  },
  {
   "cell_type": "code",
   "execution_count": 45,
   "metadata": {},
   "outputs": [
    {
     "data": {
      "text/plain": [
       "(502, 502)"
      ]
     },
     "execution_count": 45,
     "metadata": {},
     "output_type": "execute_result"
    }
   ],
   "source": [
    "with open('../../ivr_backup_data/sku1_embeds.pkl', 'rb') as sku1_embed_file:\n",
    "    sku1_embed = pkl.load(sku1_embed_file)\n",
    "with open('../../ivr_backup_data/sku1_keys.pkl', 'rb') as sku1_key_file:\n",
    "    sku1_keys = pkl.load(sku1_key_file)\n",
    "len(sku1_embed), len(sku1_keys)"
   ]
  },
  {
   "cell_type": "code",
   "execution_count": 49,
   "metadata": {},
   "outputs": [],
   "source": [
    "tsne_sku1_model = TSNE(n_jobs=4,\n",
    "                  perplexity=80,\n",
    "                  early_exaggeration=4, # Trying out exaggeration trick\n",
    "                  n_components=2,\n",
    "                  verbose=1,\n",
    "                  random_state=2018,\n",
    "                  n_iter=1000)\n",
    "\n",
    "tsne_sku1_tfidf = tsne_sku1_model.fit_transform(np.array(sku1_embed))\n",
    "\n",
    "tsne_sku1_tfidf_df = pd.DataFrame(data=tsne_sku1_tfidf, columns=[\"x\", \"y\"])\n",
    "\n",
    "tsne_sku1_tfidf_df[\"sku_number\"] = sku1_keys\n",
    "tsne_sku1_tfidf_df['cluster'] = 'blue'"
   ]
  },
  {
   "cell_type": "code",
   "execution_count": 55,
   "metadata": {},
   "outputs": [],
   "source": [
    "sku_source = ColumnDataSource(data = dict(x = tsne_sku1_tfidf_df[\"x\"], \n",
    "                                      y = tsne_sku1_tfidf_df[\"y\"],\n",
    "                                      # color = colormap[clean_data['topics_code'].values.tolist()],\n",
    "                                      sku_number = tsne_sku1_tfidf_df[\"sku_number\"],\n",
    "                                      target = tsne_sku1_tfidf_df[\"cluster\"]\n",
    "                                      ))\n"
   ]
  },
  {
   "cell_type": "code",
   "execution_count": 56,
   "metadata": {},
   "outputs": [
    {
     "data": {
      "text/html": [
       "\n",
       "    <div class=\"bk-root\">\n",
       "        <a href=\"https://bokeh.pydata.org\" target=\"_blank\" class=\"bk-logo bk-logo-small bk-logo-notebook\"></a>\n",
       "        <span id=\"1501\">Loading BokehJS ...</span>\n",
       "    </div>"
      ]
     },
     "metadata": {},
     "output_type": "display_data"
    },
    {
     "data": {
      "application/javascript": [
       "\n",
       "(function(root) {\n",
       "  function now() {\n",
       "    return new Date();\n",
       "  }\n",
       "\n",
       "  var force = true;\n",
       "\n",
       "  if (typeof root._bokeh_onload_callbacks === \"undefined\" || force === true) {\n",
       "    root._bokeh_onload_callbacks = [];\n",
       "    root._bokeh_is_loading = undefined;\n",
       "  }\n",
       "\n",
       "  var JS_MIME_TYPE = 'application/javascript';\n",
       "  var HTML_MIME_TYPE = 'text/html';\n",
       "  var EXEC_MIME_TYPE = 'application/vnd.bokehjs_exec.v0+json';\n",
       "  var CLASS_NAME = 'output_bokeh rendered_html';\n",
       "\n",
       "  /**\n",
       "   * Render data to the DOM node\n",
       "   */\n",
       "  function render(props, node) {\n",
       "    var script = document.createElement(\"script\");\n",
       "    node.appendChild(script);\n",
       "  }\n",
       "\n",
       "  /**\n",
       "   * Handle when an output is cleared or removed\n",
       "   */\n",
       "  function handleClearOutput(event, handle) {\n",
       "    var cell = handle.cell;\n",
       "\n",
       "    var id = cell.output_area._bokeh_element_id;\n",
       "    var server_id = cell.output_area._bokeh_server_id;\n",
       "    // Clean up Bokeh references\n",
       "    if (id != null && id in Bokeh.index) {\n",
       "      Bokeh.index[id].model.document.clear();\n",
       "      delete Bokeh.index[id];\n",
       "    }\n",
       "\n",
       "    if (server_id !== undefined) {\n",
       "      // Clean up Bokeh references\n",
       "      var cmd = \"from bokeh.io.state import curstate; print(curstate().uuid_to_server['\" + server_id + \"'].get_sessions()[0].document.roots[0]._id)\";\n",
       "      cell.notebook.kernel.execute(cmd, {\n",
       "        iopub: {\n",
       "          output: function(msg) {\n",
       "            var id = msg.content.text.trim();\n",
       "            if (id in Bokeh.index) {\n",
       "              Bokeh.index[id].model.document.clear();\n",
       "              delete Bokeh.index[id];\n",
       "            }\n",
       "          }\n",
       "        }\n",
       "      });\n",
       "      // Destroy server and session\n",
       "      var cmd = \"import bokeh.io.notebook as ion; ion.destroy_server('\" + server_id + \"')\";\n",
       "      cell.notebook.kernel.execute(cmd);\n",
       "    }\n",
       "  }\n",
       "\n",
       "  /**\n",
       "   * Handle when a new output is added\n",
       "   */\n",
       "  function handleAddOutput(event, handle) {\n",
       "    var output_area = handle.output_area;\n",
       "    var output = handle.output;\n",
       "\n",
       "    // limit handleAddOutput to display_data with EXEC_MIME_TYPE content only\n",
       "    if ((output.output_type != \"display_data\") || (!output.data.hasOwnProperty(EXEC_MIME_TYPE))) {\n",
       "      return\n",
       "    }\n",
       "\n",
       "    var toinsert = output_area.element.find(\".\" + CLASS_NAME.split(' ')[0]);\n",
       "\n",
       "    if (output.metadata[EXEC_MIME_TYPE][\"id\"] !== undefined) {\n",
       "      toinsert[toinsert.length - 1].firstChild.textContent = output.data[JS_MIME_TYPE];\n",
       "      // store reference to embed id on output_area\n",
       "      output_area._bokeh_element_id = output.metadata[EXEC_MIME_TYPE][\"id\"];\n",
       "    }\n",
       "    if (output.metadata[EXEC_MIME_TYPE][\"server_id\"] !== undefined) {\n",
       "      var bk_div = document.createElement(\"div\");\n",
       "      bk_div.innerHTML = output.data[HTML_MIME_TYPE];\n",
       "      var script_attrs = bk_div.children[0].attributes;\n",
       "      for (var i = 0; i < script_attrs.length; i++) {\n",
       "        toinsert[toinsert.length - 1].firstChild.setAttribute(script_attrs[i].name, script_attrs[i].value);\n",
       "      }\n",
       "      // store reference to server id on output_area\n",
       "      output_area._bokeh_server_id = output.metadata[EXEC_MIME_TYPE][\"server_id\"];\n",
       "    }\n",
       "  }\n",
       "\n",
       "  function register_renderer(events, OutputArea) {\n",
       "\n",
       "    function append_mime(data, metadata, element) {\n",
       "      // create a DOM node to render to\n",
       "      var toinsert = this.create_output_subarea(\n",
       "        metadata,\n",
       "        CLASS_NAME,\n",
       "        EXEC_MIME_TYPE\n",
       "      );\n",
       "      this.keyboard_manager.register_events(toinsert);\n",
       "      // Render to node\n",
       "      var props = {data: data, metadata: metadata[EXEC_MIME_TYPE]};\n",
       "      render(props, toinsert[toinsert.length - 1]);\n",
       "      element.append(toinsert);\n",
       "      return toinsert\n",
       "    }\n",
       "\n",
       "    /* Handle when an output is cleared or removed */\n",
       "    events.on('clear_output.CodeCell', handleClearOutput);\n",
       "    events.on('delete.Cell', handleClearOutput);\n",
       "\n",
       "    /* Handle when a new output is added */\n",
       "    events.on('output_added.OutputArea', handleAddOutput);\n",
       "\n",
       "    /**\n",
       "     * Register the mime type and append_mime function with output_area\n",
       "     */\n",
       "    OutputArea.prototype.register_mime_type(EXEC_MIME_TYPE, append_mime, {\n",
       "      /* Is output safe? */\n",
       "      safe: true,\n",
       "      /* Index of renderer in `output_area.display_order` */\n",
       "      index: 0\n",
       "    });\n",
       "  }\n",
       "\n",
       "  // register the mime type if in Jupyter Notebook environment and previously unregistered\n",
       "  if (root.Jupyter !== undefined) {\n",
       "    var events = require('base/js/events');\n",
       "    var OutputArea = require('notebook/js/outputarea').OutputArea;\n",
       "\n",
       "    if (OutputArea.prototype.mime_types().indexOf(EXEC_MIME_TYPE) == -1) {\n",
       "      register_renderer(events, OutputArea);\n",
       "    }\n",
       "  }\n",
       "\n",
       "  \n",
       "  if (typeof (root._bokeh_timeout) === \"undefined\" || force === true) {\n",
       "    root._bokeh_timeout = Date.now() + 5000;\n",
       "    root._bokeh_failed_load = false;\n",
       "  }\n",
       "\n",
       "  var NB_LOAD_WARNING = {'data': {'text/html':\n",
       "     \"<div style='background-color: #fdd'>\\n\"+\n",
       "     \"<p>\\n\"+\n",
       "     \"BokehJS does not appear to have successfully loaded. If loading BokehJS from CDN, this \\n\"+\n",
       "     \"may be due to a slow or bad network connection. Possible fixes:\\n\"+\n",
       "     \"</p>\\n\"+\n",
       "     \"<ul>\\n\"+\n",
       "     \"<li>re-rerun `output_notebook()` to attempt to load from CDN again, or</li>\\n\"+\n",
       "     \"<li>use INLINE resources instead, as so:</li>\\n\"+\n",
       "     \"</ul>\\n\"+\n",
       "     \"<code>\\n\"+\n",
       "     \"from bokeh.resources import INLINE\\n\"+\n",
       "     \"output_notebook(resources=INLINE)\\n\"+\n",
       "     \"</code>\\n\"+\n",
       "     \"</div>\"}};\n",
       "\n",
       "  function display_loaded() {\n",
       "    var el = document.getElementById(\"1501\");\n",
       "    if (el != null) {\n",
       "      el.textContent = \"BokehJS is loading...\";\n",
       "    }\n",
       "    if (root.Bokeh !== undefined) {\n",
       "      if (el != null) {\n",
       "        el.textContent = \"BokehJS \" + root.Bokeh.version + \" successfully loaded.\";\n",
       "      }\n",
       "    } else if (Date.now() < root._bokeh_timeout) {\n",
       "      setTimeout(display_loaded, 100)\n",
       "    }\n",
       "  }\n",
       "\n",
       "\n",
       "  function run_callbacks() {\n",
       "    try {\n",
       "      root._bokeh_onload_callbacks.forEach(function(callback) {\n",
       "        if (callback != null)\n",
       "          callback();\n",
       "      });\n",
       "    } finally {\n",
       "      delete root._bokeh_onload_callbacks\n",
       "    }\n",
       "    console.debug(\"Bokeh: all callbacks have finished\");\n",
       "  }\n",
       "\n",
       "  function load_libs(css_urls, js_urls, callback) {\n",
       "    if (css_urls == null) css_urls = [];\n",
       "    if (js_urls == null) js_urls = [];\n",
       "\n",
       "    root._bokeh_onload_callbacks.push(callback);\n",
       "    if (root._bokeh_is_loading > 0) {\n",
       "      console.debug(\"Bokeh: BokehJS is being loaded, scheduling callback at\", now());\n",
       "      return null;\n",
       "    }\n",
       "    if (js_urls == null || js_urls.length === 0) {\n",
       "      run_callbacks();\n",
       "      return null;\n",
       "    }\n",
       "    console.debug(\"Bokeh: BokehJS not loaded, scheduling load and callback at\", now());\n",
       "    root._bokeh_is_loading = css_urls.length + js_urls.length;\n",
       "\n",
       "    function on_load() {\n",
       "      root._bokeh_is_loading--;\n",
       "      if (root._bokeh_is_loading === 0) {\n",
       "        console.debug(\"Bokeh: all BokehJS libraries/stylesheets loaded\");\n",
       "        run_callbacks()\n",
       "      }\n",
       "    }\n",
       "\n",
       "    function on_error() {\n",
       "      console.error(\"failed to load \" + url);\n",
       "    }\n",
       "\n",
       "    for (var i = 0; i < css_urls.length; i++) {\n",
       "      var url = css_urls[i];\n",
       "      const element = document.createElement(\"link\");\n",
       "      element.onload = on_load;\n",
       "      element.onerror = on_error;\n",
       "      element.rel = \"stylesheet\";\n",
       "      element.type = \"text/css\";\n",
       "      element.href = url;\n",
       "      console.debug(\"Bokeh: injecting link tag for BokehJS stylesheet: \", url);\n",
       "      document.body.appendChild(element);\n",
       "    }\n",
       "\n",
       "    for (var i = 0; i < js_urls.length; i++) {\n",
       "      var url = js_urls[i];\n",
       "      var element = document.createElement('script');\n",
       "      element.onload = on_load;\n",
       "      element.onerror = on_error;\n",
       "      element.async = false;\n",
       "      element.src = url;\n",
       "      console.debug(\"Bokeh: injecting script tag for BokehJS library: \", url);\n",
       "      document.head.appendChild(element);\n",
       "    }\n",
       "  };var element = document.getElementById(\"1501\");\n",
       "  if (element == null) {\n",
       "    console.error(\"Bokeh: ERROR: autoload.js configured with elementid '1501' but no matching script tag was found. \")\n",
       "    return false;\n",
       "  }\n",
       "\n",
       "  function inject_raw_css(css) {\n",
       "    const element = document.createElement(\"style\");\n",
       "    element.appendChild(document.createTextNode(css));\n",
       "    document.body.appendChild(element);\n",
       "  }\n",
       "\n",
       "  var js_urls = [\"https://cdn.pydata.org/bokeh/release/bokeh-1.3.4.min.js\", \"https://cdn.pydata.org/bokeh/release/bokeh-widgets-1.3.4.min.js\", \"https://cdn.pydata.org/bokeh/release/bokeh-tables-1.3.4.min.js\", \"https://cdn.pydata.org/bokeh/release/bokeh-gl-1.3.4.min.js\"];\n",
       "  var css_urls = [];\n",
       "\n",
       "  var inline_js = [\n",
       "    function(Bokeh) {\n",
       "      Bokeh.set_log_level(\"info\");\n",
       "    },\n",
       "    \n",
       "    function(Bokeh) {\n",
       "      \n",
       "    },\n",
       "    function(Bokeh) {} // ensure no trailing comma for IE\n",
       "  ];\n",
       "\n",
       "  function run_inline_js() {\n",
       "    \n",
       "    if ((root.Bokeh !== undefined) || (force === true)) {\n",
       "      for (var i = 0; i < inline_js.length; i++) {\n",
       "        inline_js[i].call(root, root.Bokeh);\n",
       "      }if (force === true) {\n",
       "        display_loaded();\n",
       "      }} else if (Date.now() < root._bokeh_timeout) {\n",
       "      setTimeout(run_inline_js, 100);\n",
       "    } else if (!root._bokeh_failed_load) {\n",
       "      console.log(\"Bokeh: BokehJS failed to load within specified timeout.\");\n",
       "      root._bokeh_failed_load = true;\n",
       "    } else if (force !== true) {\n",
       "      var cell = $(document.getElementById(\"1501\")).parents('.cell').data().cell;\n",
       "      cell.output_area.append_execute_result(NB_LOAD_WARNING)\n",
       "    }\n",
       "\n",
       "  }\n",
       "\n",
       "  if (root._bokeh_is_loading === 0) {\n",
       "    console.debug(\"Bokeh: BokehJS loaded, going straight to plotting\");\n",
       "    run_inline_js();\n",
       "  } else {\n",
       "    load_libs(css_urls, js_urls, function() {\n",
       "      console.debug(\"Bokeh: BokehJS plotting callback run at\", now());\n",
       "      run_inline_js();\n",
       "    });\n",
       "  }\n",
       "}(window));"
      ],
      "application/vnd.bokehjs_load.v0+json": "\n(function(root) {\n  function now() {\n    return new Date();\n  }\n\n  var force = true;\n\n  if (typeof root._bokeh_onload_callbacks === \"undefined\" || force === true) {\n    root._bokeh_onload_callbacks = [];\n    root._bokeh_is_loading = undefined;\n  }\n\n  \n\n  \n  if (typeof (root._bokeh_timeout) === \"undefined\" || force === true) {\n    root._bokeh_timeout = Date.now() + 5000;\n    root._bokeh_failed_load = false;\n  }\n\n  var NB_LOAD_WARNING = {'data': {'text/html':\n     \"<div style='background-color: #fdd'>\\n\"+\n     \"<p>\\n\"+\n     \"BokehJS does not appear to have successfully loaded. If loading BokehJS from CDN, this \\n\"+\n     \"may be due to a slow or bad network connection. Possible fixes:\\n\"+\n     \"</p>\\n\"+\n     \"<ul>\\n\"+\n     \"<li>re-rerun `output_notebook()` to attempt to load from CDN again, or</li>\\n\"+\n     \"<li>use INLINE resources instead, as so:</li>\\n\"+\n     \"</ul>\\n\"+\n     \"<code>\\n\"+\n     \"from bokeh.resources import INLINE\\n\"+\n     \"output_notebook(resources=INLINE)\\n\"+\n     \"</code>\\n\"+\n     \"</div>\"}};\n\n  function display_loaded() {\n    var el = document.getElementById(\"1501\");\n    if (el != null) {\n      el.textContent = \"BokehJS is loading...\";\n    }\n    if (root.Bokeh !== undefined) {\n      if (el != null) {\n        el.textContent = \"BokehJS \" + root.Bokeh.version + \" successfully loaded.\";\n      }\n    } else if (Date.now() < root._bokeh_timeout) {\n      setTimeout(display_loaded, 100)\n    }\n  }\n\n\n  function run_callbacks() {\n    try {\n      root._bokeh_onload_callbacks.forEach(function(callback) {\n        if (callback != null)\n          callback();\n      });\n    } finally {\n      delete root._bokeh_onload_callbacks\n    }\n    console.debug(\"Bokeh: all callbacks have finished\");\n  }\n\n  function load_libs(css_urls, js_urls, callback) {\n    if (css_urls == null) css_urls = [];\n    if (js_urls == null) js_urls = [];\n\n    root._bokeh_onload_callbacks.push(callback);\n    if (root._bokeh_is_loading > 0) {\n      console.debug(\"Bokeh: BokehJS is being loaded, scheduling callback at\", now());\n      return null;\n    }\n    if (js_urls == null || js_urls.length === 0) {\n      run_callbacks();\n      return null;\n    }\n    console.debug(\"Bokeh: BokehJS not loaded, scheduling load and callback at\", now());\n    root._bokeh_is_loading = css_urls.length + js_urls.length;\n\n    function on_load() {\n      root._bokeh_is_loading--;\n      if (root._bokeh_is_loading === 0) {\n        console.debug(\"Bokeh: all BokehJS libraries/stylesheets loaded\");\n        run_callbacks()\n      }\n    }\n\n    function on_error() {\n      console.error(\"failed to load \" + url);\n    }\n\n    for (var i = 0; i < css_urls.length; i++) {\n      var url = css_urls[i];\n      const element = document.createElement(\"link\");\n      element.onload = on_load;\n      element.onerror = on_error;\n      element.rel = \"stylesheet\";\n      element.type = \"text/css\";\n      element.href = url;\n      console.debug(\"Bokeh: injecting link tag for BokehJS stylesheet: \", url);\n      document.body.appendChild(element);\n    }\n\n    for (var i = 0; i < js_urls.length; i++) {\n      var url = js_urls[i];\n      var element = document.createElement('script');\n      element.onload = on_load;\n      element.onerror = on_error;\n      element.async = false;\n      element.src = url;\n      console.debug(\"Bokeh: injecting script tag for BokehJS library: \", url);\n      document.head.appendChild(element);\n    }\n  };var element = document.getElementById(\"1501\");\n  if (element == null) {\n    console.error(\"Bokeh: ERROR: autoload.js configured with elementid '1501' but no matching script tag was found. \")\n    return false;\n  }\n\n  function inject_raw_css(css) {\n    const element = document.createElement(\"style\");\n    element.appendChild(document.createTextNode(css));\n    document.body.appendChild(element);\n  }\n\n  var js_urls = [\"https://cdn.pydata.org/bokeh/release/bokeh-1.3.4.min.js\", \"https://cdn.pydata.org/bokeh/release/bokeh-widgets-1.3.4.min.js\", \"https://cdn.pydata.org/bokeh/release/bokeh-tables-1.3.4.min.js\", \"https://cdn.pydata.org/bokeh/release/bokeh-gl-1.3.4.min.js\"];\n  var css_urls = [];\n\n  var inline_js = [\n    function(Bokeh) {\n      Bokeh.set_log_level(\"info\");\n    },\n    \n    function(Bokeh) {\n      \n    },\n    function(Bokeh) {} // ensure no trailing comma for IE\n  ];\n\n  function run_inline_js() {\n    \n    if ((root.Bokeh !== undefined) || (force === true)) {\n      for (var i = 0; i < inline_js.length; i++) {\n        inline_js[i].call(root, root.Bokeh);\n      }if (force === true) {\n        display_loaded();\n      }} else if (Date.now() < root._bokeh_timeout) {\n      setTimeout(run_inline_js, 100);\n    } else if (!root._bokeh_failed_load) {\n      console.log(\"Bokeh: BokehJS failed to load within specified timeout.\");\n      root._bokeh_failed_load = true;\n    } else if (force !== true) {\n      var cell = $(document.getElementById(\"1501\")).parents('.cell').data().cell;\n      cell.output_area.append_execute_result(NB_LOAD_WARNING)\n    }\n\n  }\n\n  if (root._bokeh_is_loading === 0) {\n    console.debug(\"Bokeh: BokehJS loaded, going straight to plotting\");\n    run_inline_js();\n  } else {\n    load_libs(css_urls, js_urls, function() {\n      console.debug(\"Bokeh: BokehJS plotting callback run at\", now());\n      run_inline_js();\n    });\n  }\n}(window));"
     },
     "metadata": {},
     "output_type": "display_data"
    },
    {
     "data": {
      "text/html": [
       "\n",
       "\n",
       "\n",
       "\n",
       "\n",
       "\n",
       "  <div class=\"bk-root\" id=\"fefadff4-5807-4ae8-bebb-b0c71b15b1eb\" data-root-id=\"1502\"></div>\n"
      ]
     },
     "metadata": {},
     "output_type": "display_data"
    },
    {
     "data": {
      "application/javascript": [
       "(function(root) {\n",
       "  function embed_document(root) {\n",
       "    \n",
       "  var docs_json = {\"f626b6ec-ca73-409d-9160-5b0911645e40\":{\"roots\":{\"references\":[{\"attributes\":{\"center\":[{\"id\":\"1535\",\"type\":\"Legend\"}],\"min_border\":1,\"plot_height\":700,\"plot_width\":800,\"renderers\":[{\"id\":\"1531\",\"type\":\"GlyphRenderer\"}],\"title\":{\"id\":\"1503\",\"type\":\"Title\"},\"toolbar\":{\"id\":\"1519\",\"type\":\"Toolbar\"},\"x_range\":{\"id\":\"1505\",\"type\":\"DataRange1d\"},\"x_scale\":{\"id\":\"1509\",\"type\":\"LinearScale\"},\"y_range\":{\"id\":\"1507\",\"type\":\"DataRange1d\"},\"y_scale\":{\"id\":\"1511\",\"type\":\"LinearScale\"}},\"id\":\"1502\",\"subtype\":\"Figure\",\"type\":\"Plot\"},{\"attributes\":{},\"id\":\"1513\",\"type\":\"PanTool\"},{\"attributes\":{\"active_drag\":\"auto\",\"active_inspect\":\"auto\",\"active_multi\":null,\"active_scroll\":\"auto\",\"active_tap\":\"auto\",\"tools\":[{\"id\":\"1513\",\"type\":\"PanTool\"},{\"id\":\"1514\",\"type\":\"WheelZoomTool\"},{\"id\":\"1515\",\"type\":\"BoxZoomTool\"},{\"id\":\"1516\",\"type\":\"ResetTool\"},{\"id\":\"1517\",\"type\":\"HoverTool\"},{\"id\":\"1518\",\"type\":\"SaveTool\"}]},\"id\":\"1519\",\"type\":\"Toolbar\"},{\"attributes\":{},\"id\":\"1539\",\"type\":\"UnionRenderers\"},{\"attributes\":{\"fill_alpha\":{\"value\":0.7},\"fill_color\":{\"field\":\"target\",\"transform\":{\"id\":\"1527\",\"type\":\"CategoricalColorMapper\"}},\"line_alpha\":{\"value\":0.7},\"line_color\":{\"field\":\"target\",\"transform\":{\"id\":\"1527\",\"type\":\"CategoricalColorMapper\"}},\"marker\":{\"field\":\"target\",\"transform\":{\"id\":\"1526\",\"type\":\"CategoricalMarkerMapper\"}},\"x\":{\"field\":\"x\"},\"y\":{\"field\":\"y\"}},\"id\":\"1529\",\"type\":\"Scatter\"},{\"attributes\":{\"fill_alpha\":{\"value\":0.1},\"fill_color\":{\"value\":\"#1f77b4\"},\"line_alpha\":{\"value\":0.1},\"line_color\":{\"value\":\"#1f77b4\"},\"marker\":{\"field\":\"target\",\"transform\":{\"id\":\"1526\",\"type\":\"CategoricalMarkerMapper\"}},\"x\":{\"field\":\"x\"},\"y\":{\"field\":\"y\"}},\"id\":\"1530\",\"type\":\"Scatter\"},{\"attributes\":{},\"id\":\"1509\",\"type\":\"LinearScale\"},{\"attributes\":{\"factors\":[\"blue\"],\"markers\":[\"circle\"]},\"id\":\"1526\",\"type\":\"CategoricalMarkerMapper\"},{\"attributes\":{\"data_source\":{\"id\":\"1500\",\"type\":\"ColumnDataSource\"},\"glyph\":{\"id\":\"1529\",\"type\":\"Scatter\"},\"hover_glyph\":null,\"muted_glyph\":null,\"nonselection_glyph\":{\"id\":\"1530\",\"type\":\"Scatter\"},\"selection_glyph\":null,\"view\":{\"id\":\"1532\",\"type\":\"CDSView\"}},\"id\":\"1531\",\"type\":\"GlyphRenderer\"},{\"attributes\":{},\"id\":\"1511\",\"type\":\"LinearScale\"},{\"attributes\":{},\"id\":\"1514\",\"type\":\"WheelZoomTool\"},{\"attributes\":{},\"id\":\"1518\",\"type\":\"SaveTool\"},{\"attributes\":{\"source\":{\"id\":\"1500\",\"type\":\"ColumnDataSource\"}},\"id\":\"1532\",\"type\":\"CDSView\"},{\"attributes\":{\"bottom_units\":\"screen\",\"fill_alpha\":{\"value\":0.5},\"fill_color\":{\"value\":\"lightgrey\"},\"left_units\":\"screen\",\"level\":\"overlay\",\"line_alpha\":{\"value\":1.0},\"line_color\":{\"value\":\"black\"},\"line_dash\":[4,4],\"line_width\":{\"value\":2},\"render_mode\":\"css\",\"right_units\":\"screen\",\"top_units\":\"screen\"},\"id\":\"1534\",\"type\":\"BoxAnnotation\"},{\"attributes\":{\"items\":[{\"id\":\"1536\",\"type\":\"LegendItem\"}]},\"id\":\"1535\",\"type\":\"Legend\"},{\"attributes\":{\"callback\":null,\"tooltips\":[[\"sku_number\",\"@sku_number\"],[\"target\",\"@target\"]]},\"id\":\"1517\",\"type\":\"HoverTool\"},{\"attributes\":{},\"id\":\"1516\",\"type\":\"ResetTool\"},{\"attributes\":{\"label\":{\"field\":\"target\"},\"renderers\":[{\"id\":\"1531\",\"type\":\"GlyphRenderer\"}]},\"id\":\"1536\",\"type\":\"LegendItem\"},{\"attributes\":{\"overlay\":{\"id\":\"1534\",\"type\":\"BoxAnnotation\"}},\"id\":\"1515\",\"type\":\"BoxZoomTool\"},{\"attributes\":{\"text\":\"T-SNE applied to SKU1 Entity Embedding\"},\"id\":\"1503\",\"type\":\"Title\"},{\"attributes\":{\"callback\":null,\"data\":{\"sku_number\":[\"#na#\",\"190198001757\",\"190198043313\",\"190198043337\",\"190198043351\",\"190198043375\",\"190198043399\",\"190198043412\",\"190198043436\",\"190198043450\",\"190198043474\",\"190198043498\",\"190198058591\",\"190198058607\",\"190198058614\",\"190198058621\",\"190198062314\",\"190198062321\",\"190198062338\",\"190198062345\",\"190198066473\",\"190198066497\",\"190198066510\",\"190198066534\",\"190198066558\",\"190198066572\",\"190198066596\",\"190198066619\",\"190198066633\",\"190198066657\",\"190198066671\",\"190198066695\",\"190198066718\",\"190198066732\",\"190198155795\",\"190198155818\",\"190198155832\",\"190198155856\",\"190198291936\",\"190198291950\",\"190198291974\",\"190198291998\",\"190198292018\",\"190198292032\",\"190198292056\",\"190198292070\",\"190198354426\",\"190198354891\",\"190198360083\",\"190198360113\",\"190198451736\",\"190198451781\",\"190198451835\",\"190198453235\",\"190198453280\",\"190198453334\",\"190198453655\",\"190198453709\",\"190198453754\",\"190198453808\",\"190198453853\",\"190198453907\",\"190198456656\",\"190198456700\",\"190198456809\",\"190198456854\",\"190198542717\",\"190198543639\",\"190198647030\",\"190198744012\",\"190198744074\",\"190198745903\",\"190198745965\",\"190198764690\",\"190198776402\",\"190198776426\",\"190198776440\",\"190198776464\",\"190198776488\",\"190198776501\",\"190198776525\",\"190198776549\",\"190198776563\",\"190198776587\",\"190198776600\",\"190198776624\",\"190198776648\",\"190198776662\",\"190198776686\",\"190198776709\",\"190198776723\",\"190198776747\",\"190198786029\",\"190198786043\",\"190198786067\",\"190198786081\",\"190198786104\",\"190198786128\",\"190198786142\",\"190198786166\",\"190198786180\",\"190198790392\",\"190198790439\",\"190198790477\",\"190198790514\",\"190198790552\",\"190198790590\",\"190198790637\",\"190198790675\",\"190198790712\",\"190198803870\",\"190198857842\",\"190198857941\",\"190198893277\",\"190199098428\",\"190199220539\",\"190199220553\",\"190199220577\",\"190199220591\",\"190199220614\",\"190199220638\",\"190199220652\",\"190199220676\",\"190199220690\",\"190199220713\",\"190199220737\",\"190199220751\",\"190199220775\",\"190199220799\",\"190199220812\",\"190199220836\",\"190199220850\",\"190199220874\",\"190199277915\",\"190199277960\",\"190199281363\",\"190199281417\",\"190199285446\",\"190199287532\",\"190199287747\",\"190199288195\",\"190199291706\",\"190199291782\",\"190199291867\",\"190199293175\",\"190199293335\",\"190199380677\",\"190199380691\",\"190199380714\",\"190199380738\",\"190199380752\",\"190199380776\",\"190199380790\",\"190199380813\",\"190199380837\",\"190199380851\",\"190199380875\",\"190199380899\",\"190199392526\",\"190199392540\",\"190199392564\",\"190199392588\",\"190199392601\",\"190199392625\",\"190199392649\",\"190199392663\",\"190199392687\",\"190199392700\",\"190199392724\",\"190199392748\",\"191058013279\",\"191058034809\",\"191058063595\",\"191058063601\",\"191058068125\",\"191058069184\",\"191058072931\",\"191058083111\",\"191058083388\",\"191058095725\",\"191058095909\",\"191058096081\",\"191058101013\",\"191058101303\",\"191058105974\",\"191058105981\",\"652810830171\",\"652810830621\",\"652810832595\",\"652810832687\",\"660543424949\",\"660543425793\",\"660543426271\",\"660543427308\",\"660543443124\",\"660543460480\",\"660543462163\",\"660543468677\",\"660543468684\",\"660543469247\",\"660543470618\",\"660543470625\",\"660543471653\",\"660543471677\",\"660543472551\",\"660543473121\",\"660543473602\",\"660543491453\",\"660543492146\",\"660543492276\",\"660543492283\",\"660543492986\",\"660543493310\",\"660543493488\",\"660543493501\",\"660543493518\",\"660543494379\",\"660543494805\",\"660543507444\",\"660543509110\",\"660543509356\",\"660543509516\",\"660543509998\",\"660543511380\",\"660543511830\",\"660543511892\",\"660543511960\",\"660543512486\",\"660543512585\",\"660543512653\",\"660543512660\",\"660543513506\",\"660543524663\",\"660543524908\",\"660543526780\",\"723755019478\",\"723755131187\",\"723755133396\",\"729198431457\",\"729198432874\",\"729198433109\",\"729198440893\",\"729198634179\",\"729198746599\",\"729198814571\",\"729198814687\",\"729198918798\",\"729198930325\",\"815373021374\",\"815373025471\",\"815373029943\",\"840056100862\",\"840056100879\",\"840056100886\",\"840056102996\",\"840056103009\",\"840056103016\",\"840056103207\",\"840056103214\",\"840472240555\",\"840472240579\",\"840472240593\",\"840472240616\",\"842776114228\",\"842776114235\",\"842776114242\",\"842776114259\",\"842776114945\",\"842776114952\",\"842776114969\",\"842776114976\",\"842776114983\",\"842978111865\",\"842978134871\",\"842978135083\",\"842978135298\",\"842978135304\",\"842978135359\",\"842978139678\",\"842978146997\",\"842978147017\",\"846127179904\",\"846127180009\",\"846127180023\",\"846127180283\",\"846127180306\",\"846127181174\",\"846127181198\",\"846127181204\",\"846127181211\",\"846127181228\",\"846127183147\",\"846127183291\",\"846127183413\",\"846127183697\",\"846127183703\",\"846127184427\",\"846127184434\",\"846127185479\",\"846127185738\",\"846127185912\",\"846127185950\",\"846127186087\",\"846127186711\",\"846127188272\",\"846127188289\",\"846127188609\",\"846127188616\",\"846127188630\",\"846127188647\",\"848467066241\",\"848467071870\",\"848467071993\",\"848467073720\",\"848467074079\",\"848467075717\",\"848467076530\",\"848467076554\",\"848467076929\",\"848467083552\",\"848467085006\",\"848467085617\",\"848709058584\",\"848709061249\",\"848709065797\",\"859184004867\",\"887276159386\",\"887276200019\",\"887276204185\",\"887276204222\",\"887276204246\",\"887276204536\",\"887276206202\",\"887276206837\",\"887276226897\",\"887276230962\",\"887276246512\",\"887276248981\",\"887276249810\",\"887276249872\",\"887276250243\",\"887276250274\",\"887276270463\",\"887276283197\",\"887276284255\",\"887276284293\",\"887276284392\",\"887276284422\",\"887276302966\",\"887276302973\",\"887276303116\",\"887276310275\",\"887276310299\",\"887276310336\",\"887276311968\",\"887276316581\",\"887276316635\",\"887276321783\",\"887276321851\",\"887276321882\",\"887276321912\",\"887276322353\",\"887276325989\",\"887276326160\",\"887276326184\",\"887276328027\",\"887276328164\",\"887276331454\",\"887276346847\",\"887276348490\",\"887276352497\",\"887276363318\",\"887276363332\",\"887276363875\",\"887276367064\",\"887276367071\",\"887276367231\",\"887276368559\",\"887276372266\",\"888462500579\",\"888462500586\",\"888462500593\",\"888462500609\",\"888462501958\",\"888462501965\",\"888462501972\",\"888462501989\",\"888462734868\",\"888462734875\",\"888462773126\",\"888462773133\",\"888462803939\",\"888462803946\",\"888462803953\",\"888462803960\",\"APLIP8GRAY256N1X\",\"APLIP8GRAY64N1X\",\"APLIP8PGLD256N1X\",\"APLIP8PGRAY64N1X\",\"APLIP8PGRY256N1X\",\"APLIP8PRED256N1X\",\"APLIP8PSIL256N1X\",\"APLIP8RED256N1X\",\"APLIP8RED64N1X\",\"APLIPH6PLGOLD128\",\"APLIPH6PLGRAY128\",\"APLIPH6PLSILV128\",\"APLIPH6PLUSGLD16\",\"APLIPH6PLUSGLD64\",\"APLIPH6PLUSGRY16\",\"APLIPH6PLUSGRY64\",\"APLIPH6PLUSSIL16\",\"APLIPH6PLUSSIL64\",\"APLIPH6SGOLD16\",\"APLIPH6SGOLD64\",\"APLIPH6SGRAY16\",\"APLIPH6SGRAY64\",\"APLIPH6SPLGOLD16\",\"APLIPH6SPLGOLD64\",\"APLIPH6SPLGRAY16\",\"APLIPH6SPLGRAY64\",\"APLIPH6SPLROSE16\",\"APLIPH6SPLROSE64\",\"APLIPH6SPLSILV16\",\"APLIPH6SPLSILV64\",\"APLIPH6SROSE16\",\"APLIPH6SROSE64\",\"APLIPH6SSILVER16\",\"APLIPH6SSILVER64\",\"APLIPH8GLD256N1X\",\"APLIPH8GOLD64N1X\",\"APLIPH8PGLD64N1X\",\"APLIPH8PRED64N1X\",\"APLIPH8PSIL64N1X\",\"APLIPH8SIL256N1X\",\"APLIPH8SILV64N1X\",\"APLIPHONE6GLD128\",\"APLIPHONE6GOLD16\",\"APLIPHONE6GOLD32\",\"APLIPHONE6GOLD64\",\"APLIPHONE6GRAY16\",\"APLIPHONE6GRAY32\",\"APLIPHONE6GRAY64\",\"APLIPHONE6GRY128\",\"APLIPHONE6SIL128\",\"APLIPHONE6SILV16\",\"APLIPHONE6SILV64\",\"APLIPHXGRAY64N1X\",\"APLIPHXGRY256N1X\",\"APLIPHXSIL256N1X\",\"APLIPHXSIL64N1X\",\"SEASMG950UBLCK64\",\"SEASMG950UBLUE64\",\"SEASMG950UOGRY64\",\"SEASMG950USILV64\",\"SEASMG955UBLCK64\",\"SEASMG955UBLUE64\",\"SEASMG955UMBGEN\",\"SEASMG955UOGRY64\",\"SEASMG955USILV64\",\"SEASMG960UBLCK64\",\"SEASMG960UBLUE64\",\"SEASMG960UGLD128\",\"SEASMG960UGOLD64\",\"SEASMG960UMBGEN\",\"SEASMG960UPURP64\",\"SEASMG965UBLCK64\",\"SEASMG965UBLK128\",\"SEASMG965UBLK512\",\"SEASMG965UBLU128\",\"SEASMG965UBLUE64\",\"SEASMG965UGOLD64\",\"SEASMG965UMBGEN\",\"SEASMG965UPUR128\",\"SEASMG965UPURP64\",\"SEASMG970UBLK128\",\"SEASMG970UBLU128\",\"SEASMG970UBLU256\",\"SEASMG970UWHT128\",\"SEASMG970UWHT256\",\"SEASMG973U1BK512\",\"SEASMG973UBLK128\",\"SEASMG973UBLK512\",\"SEASMG973UBLU128\",\"SEASMG973UWHT128\",\"SEASMG973UWHT512\",\"SEASMG975UBLK128\",\"SEASMG975UBLK1TB\",\"SEASMG975UBLK512\",\"SEASMG975UBLU128\",\"SEASMG975UPNK128\",\"SEASMG975UWHT128\",\"SEASMG975UWHT512\",\"SEASMN950UBLCK64\",\"SEASMN950UBLUE64\",\"SEASMN950UOGRY64\",\"SEASMN960UBLK128\",\"SEASMN960UBLK512\",\"SEASMN960UBLU128\",\"SEASMN960UBLU512\",\"SEASMN960UPUR128\",\"SEASMN960USIL128\"],\"target\":[\"blue\",\"blue\",\"blue\",\"blue\",\"blue\",\"blue\",\"blue\",\"blue\",\"blue\",\"blue\",\"blue\",\"blue\",\"blue\",\"blue\",\"blue\",\"blue\",\"blue\",\"blue\",\"blue\",\"blue\",\"blue\",\"blue\",\"blue\",\"blue\",\"blue\",\"blue\",\"blue\",\"blue\",\"blue\",\"blue\",\"blue\",\"blue\",\"blue\",\"blue\",\"blue\",\"blue\",\"blue\",\"blue\",\"blue\",\"blue\",\"blue\",\"blue\",\"blue\",\"blue\",\"blue\",\"blue\",\"blue\",\"blue\",\"blue\",\"blue\",\"blue\",\"blue\",\"blue\",\"blue\",\"blue\",\"blue\",\"blue\",\"blue\",\"blue\",\"blue\",\"blue\",\"blue\",\"blue\",\"blue\",\"blue\",\"blue\",\"blue\",\"blue\",\"blue\",\"blue\",\"blue\",\"blue\",\"blue\",\"blue\",\"blue\",\"blue\",\"blue\",\"blue\",\"blue\",\"blue\",\"blue\",\"blue\",\"blue\",\"blue\",\"blue\",\"blue\",\"blue\",\"blue\",\"blue\",\"blue\",\"blue\",\"blue\",\"blue\",\"blue\",\"blue\",\"blue\",\"blue\",\"blue\",\"blue\",\"blue\",\"blue\",\"blue\",\"blue\",\"blue\",\"blue\",\"blue\",\"blue\",\"blue\",\"blue\",\"blue\",\"blue\",\"blue\",\"blue\",\"blue\",\"blue\",\"blue\",\"blue\",\"blue\",\"blue\",\"blue\",\"blue\",\"blue\",\"blue\",\"blue\",\"blue\",\"blue\",\"blue\",\"blue\",\"blue\",\"blue\",\"blue\",\"blue\",\"blue\",\"blue\",\"blue\",\"blue\",\"blue\",\"blue\",\"blue\",\"blue\",\"blue\",\"blue\",\"blue\",\"blue\",\"blue\",\"blue\",\"blue\",\"blue\",\"blue\",\"blue\",\"blue\",\"blue\",\"blue\",\"blue\",\"blue\",\"blue\",\"blue\",\"blue\",\"blue\",\"blue\",\"blue\",\"blue\",\"blue\",\"blue\",\"blue\",\"blue\",\"blue\",\"blue\",\"blue\",\"blue\",\"blue\",\"blue\",\"blue\",\"blue\",\"blue\",\"blue\",\"blue\",\"blue\",\"blue\",\"blue\",\"blue\",\"blue\",\"blue\",\"blue\",\"blue\",\"blue\",\"blue\",\"blue\",\"blue\",\"blue\",\"blue\",\"blue\",\"blue\",\"blue\",\"blue\",\"blue\",\"blue\",\"blue\",\"blue\",\"blue\",\"blue\",\"blue\",\"blue\",\"blue\",\"blue\",\"blue\",\"blue\",\"blue\",\"blue\",\"blue\",\"blue\",\"blue\",\"blue\",\"blue\",\"blue\",\"blue\",\"blue\",\"blue\",\"blue\",\"blue\",\"blue\",\"blue\",\"blue\",\"blue\",\"blue\",\"blue\",\"blue\",\"blue\",\"blue\",\"blue\",\"blue\",\"blue\",\"blue\",\"blue\",\"blue\",\"blue\",\"blue\",\"blue\",\"blue\",\"blue\",\"blue\",\"blue\",\"blue\",\"blue\",\"blue\",\"blue\",\"blue\",\"blue\",\"blue\",\"blue\",\"blue\",\"blue\",\"blue\",\"blue\",\"blue\",\"blue\",\"blue\",\"blue\",\"blue\",\"blue\",\"blue\",\"blue\",\"blue\",\"blue\",\"blue\",\"blue\",\"blue\",\"blue\",\"blue\",\"blue\",\"blue\",\"blue\",\"blue\",\"blue\",\"blue\",\"blue\",\"blue\",\"blue\",\"blue\",\"blue\",\"blue\",\"blue\",\"blue\",\"blue\",\"blue\",\"blue\",\"blue\",\"blue\",\"blue\",\"blue\",\"blue\",\"blue\",\"blue\",\"blue\",\"blue\",\"blue\",\"blue\",\"blue\",\"blue\",\"blue\",\"blue\",\"blue\",\"blue\",\"blue\",\"blue\",\"blue\",\"blue\",\"blue\",\"blue\",\"blue\",\"blue\",\"blue\",\"blue\",\"blue\",\"blue\",\"blue\",\"blue\",\"blue\",\"blue\",\"blue\",\"blue\",\"blue\",\"blue\",\"blue\",\"blue\",\"blue\",\"blue\",\"blue\",\"blue\",\"blue\",\"blue\",\"blue\",\"blue\",\"blue\",\"blue\",\"blue\",\"blue\",\"blue\",\"blue\",\"blue\",\"blue\",\"blue\",\"blue\",\"blue\",\"blue\",\"blue\",\"blue\",\"blue\",\"blue\",\"blue\",\"blue\",\"blue\",\"blue\",\"blue\",\"blue\",\"blue\",\"blue\",\"blue\",\"blue\",\"blue\",\"blue\",\"blue\",\"blue\",\"blue\",\"blue\",\"blue\",\"blue\",\"blue\",\"blue\",\"blue\",\"blue\",\"blue\",\"blue\",\"blue\",\"blue\",\"blue\",\"blue\",\"blue\",\"blue\",\"blue\",\"blue\",\"blue\",\"blue\",\"blue\",\"blue\",\"blue\",\"blue\",\"blue\",\"blue\",\"blue\",\"blue\",\"blue\",\"blue\",\"blue\",\"blue\",\"blue\",\"blue\",\"blue\",\"blue\",\"blue\",\"blue\",\"blue\",\"blue\",\"blue\",\"blue\",\"blue\",\"blue\",\"blue\",\"blue\",\"blue\",\"blue\",\"blue\",\"blue\",\"blue\",\"blue\",\"blue\",\"blue\",\"blue\",\"blue\",\"blue\",\"blue\",\"blue\",\"blue\",\"blue\",\"blue\",\"blue\",\"blue\",\"blue\",\"blue\",\"blue\",\"blue\",\"blue\",\"blue\",\"blue\",\"blue\",\"blue\",\"blue\",\"blue\",\"blue\",\"blue\",\"blue\",\"blue\",\"blue\",\"blue\",\"blue\",\"blue\",\"blue\",\"blue\",\"blue\",\"blue\",\"blue\",\"blue\",\"blue\",\"blue\",\"blue\",\"blue\",\"blue\",\"blue\",\"blue\",\"blue\",\"blue\",\"blue\",\"blue\",\"blue\",\"blue\",\"blue\",\"blue\",\"blue\",\"blue\",\"blue\",\"blue\",\"blue\",\"blue\",\"blue\",\"blue\",\"blue\",\"blue\",\"blue\",\"blue\",\"blue\",\"blue\",\"blue\",\"blue\",\"blue\",\"blue\",\"blue\",\"blue\",\"blue\",\"blue\",\"blue\",\"blue\",\"blue\",\"blue\",\"blue\",\"blue\",\"blue\",\"blue\",\"blue\",\"blue\",\"blue\",\"blue\",\"blue\"],\"x\":{\"__ndarray__\":\"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\",\"dtype\":\"float64\",\"shape\":[502]},\"y\":{\"__ndarray__\":\"5rqgUdJzv78S8PaKN9j3P7KlEXYvbARAQX5Cwv+E5b//fmELJHr/v6mX6UnzFPs/HFffWiVC+T/jJGQBoNjtPw8YmtuPfvU/akRVVxP8AsDBUhXnpqnnPw6eUDekaQJAFSfy4e49AEAgl3x74kbyPwsVaEWOB/e/Rp62ueQNAMA+hMvLhGkIwOqwBXpnD6o/Ile2hi+C8j9xtoYUpKcCwMSnPHvYNuW/xrqDu8Yo8b853LThpivnP0DosY2swO+/u15LZ0mPxD9FTtRRo7MHQCYJI6dMPP2/5GIWtvsLxL9chA5WLj4AQCz+3hXYNvW/TKOs9Bdl+z+Jg8cYR+zxvxRF9j2f5/Q/gA+Ks91dCMDZhs/baKK8v6G6dlEK5fy/Vxn9typh9D/HaxeAbuXBv7ofLDLXOvg/KOxk3hVu0L9YTTaa8tr4v0ERk2Cd6/k/r/2dp5bCB8At2kAhn4zkv+THXAeGCfE/RJAyvuus8r8VzSP9qsn8P8Oh0OfofPq/N7VSR8OI+79+oHb/EwDqP7Smr/6vl/A/NUrocdFG7r85HZvbEBT7v0g7EA46GdA/75/142Qg6D+C5xE+xQ/+P77o8wNU8OM/aGpYZERZBsDADaZ0tODxv/NLHymnsPU/LMsPbtB2A8D2sS6AvBnyPwk4Xyy7hgRAJrL5RpRsBkDTI+94n8wGQDQ19qf/bQhARE7ykKrDBUBs3+lnu00JQKHvAKOMdPy/c2zepatxAUCgM3UGZvruP34cqaZn4QjAFU9FnFjGAUA5Ta6CQ+f2P1rARnwt/fq/DtFaJfDixD9lHjprvLDJP+5AbQ77QOY/CzLiLkFV979hGBy3L0X/vzq5cz+CouQ/pBKb5vOD8D8iUGzf6VXRv4/hGdhkS+W/0DCEQbABAEA7vUkpNQDoP9dSCE34w9+/Yf7HhG3x4D8xZbCwMToHwIYqDZNXVALAKX9YNw0q1z/KEP4badviPyOKJElxj/A/nQYmPyh88D8f8leGPaL3P6hX1SWcX+Y/LlNvE/R+0T9SdqTercrzP1TG05Gb6PU/Y3pb7twQ278sAx+Yu574P0AIc981+/8/WgBixL5Oxb+ACDfj+cL/P7h6kT4zn/c/5XwaHTIp+D+O5PW95Wf1vwYA9Mcf1c4/AmEW5NZ08z8/iQc6TCH9Px1TMJO7mdi/LX2PL6Tr4b8NdXvJHrLkv+kqvMWFY8U/T/FFetGz678j/75NwqH5P64q3aKmLPi/09UPLtOm6z+7UBOnhI7PP1/6SwhNeP0/Aql61Kuh9D++trEeXz3Xv/evV2ZXL/4/cv5mqWAr+T+v7lZHq5v3P9vhS3T1PANA41XGkNwv8r80MUGkGdfnP1Q4wIVwKgBAeAbWtt/1/z9y+seFnpH7PycVNIK9t/s/jbc/iMdYAEA4pU3InZf2vz5xqW507Ok/TBOCFFqA67/TpKwT0AK8vx96SAHrPtU/RrbN2s+Y1b/WsW7jn/v5v9NcSN0/3/G/3PPD8aes9b9gw4NjGxvRP8VkO7yFP+i/1R6O8o6c2z/JPsZC50HTv8W1DS9EV+o/bBp0Gc1J+T/oc86wqIb6P5BvRGMf5fk/PC1D3NyB/j/JMEK0W1X9P6TOc2Vak/Y/WLSf2imD2T+Dyja9UJXaP7ci+Qx57Os/jc70GJVf3T9wkOV4M1L4P2GHw7993vQ/p1zegU9B4D/W0WAi1fj1P7bpSatRyf4/9JjDpm0F8T9lyz2UOGyov5cOVIdQido/vxOcZA125z82nOprKD0DQIsSEuuBR/E/QF4qxa/jED83w3mG2aP6P+yFfaDrfuU/SxtwCi5W479F7CB2B3PFv60EtiJkX5I/J9M6aCaz9r+Y2Cik49gBwApSNTtJBti/Nwmrlf2u8L+SNPyvPU7qv+0H6yOkn86/YQuuQIgPv7+3LdiEV6nqv6Scam8MHOa/tTksoG/v/L9d3PlgkO/kv3hSt+pib80/nP/YksZiwD8Q57Q8lwTgvyO+jrMe0eE/mRFppl3+yT+f6x9MIfX7vzUq03sw2fc/mvS9+TPR8b95+abR9ADRv+TTbmGbLuQ/dQmiEz9JAMBUCEfRRuXYP6yA/8/DgeG/DLy28+Og3D9aYDtYfJ7Wv4TPWRyRYOi/LW2tQknqir+ARnp5rprSvyi8Zx2godS/sDp4W2Tgyr+fgOtcYi/jPwnafn3GedS/QhcQ0ghFub9cDfEicSbUvyAK8bH66ty/MpW/byEg1r8qDOWI4NTuv3gQJMSEFN0/vnmxeWH2zb8ldbVq7SvVv0pGGQBl5uw/7vJnY1+vob/3x/zxtLfkv2wZIpFNzKA/7lVDYFEb/r8btG1Tsf/svzFxIcFfMek/rF+fN5wg/D++sNflyCbkvwOHm5ZRauw/oqwDTSN95b+sdhgY5QPkv/NEV1Vk+L2/ZyDKNullwj9us65mQn7lv7iXyZebNta/asbW/EodA8B3OWelSHSVv6wwRxFIXcG/27rJ4dwc7r9RIDivQfzAP1GQCRzXcvy/iLnkeS8S078mn1w01EP2v/eO/44fCvA/LUOvBrLy5j9Mcw8pj2r3P9ZOeaNtSOm/et49Km0T8L/o4p51uiiMPw14akEAQfG/RRDC25L/+r8FXODwAGnsv1IRtFBCZN6/sIqm5khZxj8muQw5qSnfP1KGlYh27OM/qCH/1fh+1L8IU+iJf0RLv9xCiWsaaec/Gjkn1v4i8z+Z5MepBcnZPzLZBGHybOk/PZSfSwwC6j+8BsVS2Unwv5E7mxtSs9e/BHwsFc/Bt7/CZ3uQcf/sv9fXiOOSH+Y/CAc4Usf02T9jX6I7y3Pav0ur7n1C9gLAgqcL5txLBkCFx0Pli7P9v53dkcdpowXAJsu//Nc9479HP/XtmJ0CQMnuCXPA/ea/xffGWFf087/hBB/4g9L4v5Y0urjHvdY/7Sz8fe/C3z+0mRBhyH7wv+TvBpkTd/M/k5+pzJUO4D/Y6SLZq1G0P9fmDpxmacM/z6UIO+Y58j8r0Gr8cwLgv3yeObjwNtE/VOQpy5ve1z/U7g4YunrJv4Dz6JY5h/e/bdg98Ln597/BIekQRaT0P9euH7awvtU/MHmYAvty7L/Ebgp/xrbiv2xr91s92f6/JEtxFocjkb+0CsyAeKfpv6fC8g0a5Pm/j0V0Z4J4BMA/KEKSBibyv8fGRysrLqg/SZ9mLGhb0T92pnr5VYCev+37MrqH7+K/+Hsr9n5a3z9UDvshWcnjP90+yekJMvO/qXRt3dMppb9IC/mSgeTav6S6IYMyV8w/QL7BsNhMsj9Rb0zYqUbSvyjIzIyNg9C/qAB7dglT178d49XmL1Dqv+/JGiGdsNC/aXMCI+3GvT83f0Y/TNq1v9Z+LEIYqN0/NS9cPvg79b8Mps7QzizNv/xIr+KCy/I/XkxHbe2x4D9cJvgpYxLRP7w52rTj082/Nk/JZPhe4j8TxouWFYDHvxXOoi7kCLq/CuGRnusv/78sj0ZxMILov8A1VVjzmfm/B8SMa60drD82K25G6Ufsv4pzOwT3rwDAOZswBkWF4T/6nV2Z9GPVP3XpAvW/7Pu/FxKuRYUy7T/Uf67pkJfuv1Y9+iIqEvi/B/ZIpTnj379jkbGsEYjVvwt6eJGqMeq/1mktwnaP9r8Ko2bfyQcHQLJXqVku2O6/2tqSNwh94r9A+b6rx/MDQMHWZA+F/+q/C6Mq488q8b/DSN/4/W34vyKqd6q8U/G/8wNYnDdE8z9eEoGjFjjhP8JSNOA+UN6/tPzXulbycD8/nri5ML4AwKcNcE4NLQFAZ+ZGPsry+D/UTSBBDLz6P8fZuNQCOPU/VMzvFMJj3r/ksg2ZC4rvv4HDWiMTQOK/5gP/nXYV8r+OA/BAr7z6P9BNsgS6suQ/pf42f63I9r9W21us1gYAwAQaiaWQ8vs/r4oDqx966T+x3i0kbr3PP2rNky/dcAVAvs7r43cu77+MXzi6heDzv9zHCOTpjfe/m2t6Y4WM/D/YtRrre5fnv8aLwIy/xO2/Rc+w4OzA+j8L8RD/Nbb8P3NUq43AaMc/YKLraIr107+z74wVBpX7v4gZ23AIMAPAIvA97Gh3AsD52xLlGV/rP7CdJ9X9q+8/XOQZ59J39r+ybzL5DZ8BQNza4/qIEfI/XZR+ocdnA8AghdBxF7IDwNcVYhC5dfa/DnZ3JmlgCEDva+YpG7HjP9zmObhZkATAvdVD0eFJyD81NxFdT2sAwPZAyWQbZP0/SqN3yiLI6T9HMQTpnk8AwIEj4ySQ+NU/s8R2es2x8D/fks71jH6mP2phgd4UxfQ/DwzFdsYj479uzDK8iIbAP7+9npOPFvq/ONBroMXBCMBQs1mEc/vtv25z05spPgLA//pL7MZE5j8JfwSJvzgDwG1+aJOyi/U/vPNXqHL5xr+erjdixeoBwO2a9E2jigNAVBukNiYI+L/3OrUPIZzpv12SQ4e1qgZAF80tZbt84L95T4PBkaYHwCZP0l6w/p6/nu0iARpf5b9SLML/mSLzv5CFqSxGQO6/VPXlAHjC8z/ZdbAsyxjbPyi2rj1I96I/QNiTg3VU+L9AE5rFdUnxv5K0YlUI5Oa/eU1V48hf9z/0iyCawqDyP+O9JktbFPQ/mVqMqVu/CkAFBQm8WJ3XvxlWE5I5y/6/6jUnzTtBA8BSyRu5K6/3P8OXQAcRo+8/CyI+uDf7AkBzP0F83Zn8v7ejQCt2TOu/5to1TQPTCMAZ9n9NsXHEv47VLzLxrYk/zg+eUrpL3r+07/aqCCgGQL+pTTmy/uo/bDVhBMMO7r8KdGGEjIH2P2VW9gaPu/K/p2wnjit2BMBHnY0geN4HwJg/tx6pVP4/J9hiA3RNxL/ypW+k9ZDhv0jDBenmlANADUWDl2xf97+W0uCek9jsP6IF2S05ngPAIfpJwo7+j7+FXYs0+/vWv1kDQVKT3NC/dMerJkV+3T8MsxwJI+b4P2+XSplL8ME/I2hmWsjytD+tF0uQv0rjP3/lATd6Gs+/KL2LH29S2j+dTCe2ocbAv8uN0Vp+B9c/AI+Idj558D+FiYsJ3CvmP2wlP6jjA/C/mFF24cFHs78gQTnN1GvUP+l7QOkX5eA/1X68O9q5wb8XOVj3DrzcP8MYYyuGKMi/H8g1ssdQ+r/1z2WUbTbzv2QOyUQWMO4/4n9WhjRH8j93GyHX+czFP97c6OUsvN2/J2dbAdmd7j8whvD6Y4jRP7j/SPITR9c/2cZ33IO51T+i5waNmkj9P1bWqcs56gHAoMOBE8nWAkDsLvJdXQ72v2SRkZDgeaG/QqJ9Mv4CuL9g8sK7KLL7v+iaaIA1YOw/DBdcowsS3L8=\",\"dtype\":\"float64\",\"shape\":[502]}},\"selected\":{\"id\":\"1540\",\"type\":\"Selection\"},\"selection_policy\":{\"id\":\"1539\",\"type\":\"UnionRenderers\"}},\"id\":\"1500\",\"type\":\"ColumnDataSource\"},{\"attributes\":{},\"id\":\"1540\",\"type\":\"Selection\"},{\"attributes\":{\"callback\":null},\"id\":\"1505\",\"type\":\"DataRange1d\"},{\"attributes\":{\"callback\":null},\"id\":\"1507\",\"type\":\"DataRange1d\"},{\"attributes\":{\"factors\":[\"blue\"],\"palette\":[\"blue\"]},\"id\":\"1527\",\"type\":\"CategoricalColorMapper\"}],\"root_ids\":[\"1502\"]},\"title\":\"Bokeh Application\",\"version\":\"1.3.4\"}};\n",
       "  var render_items = [{\"docid\":\"f626b6ec-ca73-409d-9160-5b0911645e40\",\"roots\":{\"1502\":\"fefadff4-5807-4ae8-bebb-b0c71b15b1eb\"}}];\n",
       "  root.Bokeh.embed.embed_items_notebook(docs_json, render_items);\n",
       "\n",
       "  }\n",
       "  if (root.Bokeh !== undefined) {\n",
       "    embed_document(root);\n",
       "  } else {\n",
       "    var attempts = 0;\n",
       "    var timer = setInterval(function(root) {\n",
       "      if (root.Bokeh !== undefined) {\n",
       "        embed_document(root);\n",
       "        clearInterval(timer);\n",
       "      }\n",
       "      attempts++;\n",
       "      if (attempts > 100) {\n",
       "        console.log(\"Bokeh: ERROR: Unable to run BokehJS code because BokehJS library is missing\");\n",
       "        clearInterval(timer);\n",
       "      }\n",
       "    }, 10, root)\n",
       "  }\n",
       "})(window);"
      ],
      "application/vnd.bokehjs_exec.v0+json": ""
     },
     "metadata": {
      "application/vnd.bokehjs_exec.v0+json": {
       "id": "1502"
      }
     },
     "output_type": "display_data"
    }
   ],
   "source": [
    "output_notebook()\n",
    "plot_tfidf = bp.figure(plot_width = 800, plot_height = 700, \n",
    "                       title = \"T-SNE applied to SKU1 Entity Embedding\",\n",
    "                       tools = \"pan, wheel_zoom, box_zoom, reset, hover, previewsave\",\n",
    "                       x_axis_type = None, y_axis_type = None, min_border = 1)\n",
    "\n",
    "plot_tfidf.scatter(x = \"x\", \n",
    "                   y = \"y\", \n",
    "                   legend = \"target\",\n",
    "                   source = sku_source,\n",
    "                   alpha = 0.7, \n",
    "                   marker=factor_mark('target', ['circle'], ['blue']),\n",
    "                   color=factor_cmap('target', palette=['blue'], factors=['blue']))\n",
    "\n",
    "\n",
    "hover = plot_tfidf.select(dict(type = HoverTool))\n",
    "hover.tooltips = {\n",
    "                  \"sku_number\": \"@sku_number\",\n",
    "                    \"target\": \"@target\"\n",
    "                  }\n",
    "\n",
    "show(plot_tfidf)"
   ]
  },
  {
   "cell_type": "code",
   "execution_count": null,
   "metadata": {},
   "outputs": [],
   "source": []
  }
 ],
 "metadata": {
  "kernelspec": {
   "display_name": "Python 3.6 - AzureML",
   "language": "python",
   "name": "python3-azureml"
  },
  "language_info": {
   "codemirror_mode": {
    "name": "ipython",
    "version": 3
   },
   "file_extension": ".py",
   "mimetype": "text/x-python",
   "name": "python",
   "nbconvert_exporter": "python",
   "pygments_lexer": "ipython3",
   "version": "3.6.9"
  }
 },
 "nbformat": 4,
 "nbformat_minor": 2
}
