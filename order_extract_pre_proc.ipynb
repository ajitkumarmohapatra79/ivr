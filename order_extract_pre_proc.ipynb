{
 "cells": [
  {
   "cell_type": "code",
   "execution_count": 1,
   "metadata": {},
   "outputs": [],
   "source": [
    "import azureml.core\n",
    "from azureml.core import Workspace, Datastore\n",
    "\n",
    "import pandas as pd\n",
    "import numpy as np\n",
    "\n",
    "from azureml.core import Dataset"
   ]
  },
  {
   "cell_type": "code",
   "execution_count": 2,
   "metadata": {},
   "outputs": [],
   "source": [
    "ws = Workspace.from_config()"
   ]
  },
  {
   "cell_type": "markdown",
   "metadata": {},
   "source": [
    "All raw data stored in Azure blob container, so access thru a blob_datastore"
   ]
  },
  {
   "cell_type": "code",
   "execution_count": 3,
   "metadata": {},
   "outputs": [],
   "source": [
    "blob_datastore_name='ivrdatasept' # Name of the Datastore  to workspace\n",
    "container_name=os.getenv(\"BLOB_CONTAINER\", \"ivrdatasept\") # Name of Azure blob container\n",
    "account_name=os.getenv(\"BLOB_ACCOUNTNAME\", \"ivrdatasepton\") # Storage account name\n",
    "account_key=os.getenv(\"BLOB_ACCOUNT_KEY\", \"nZ12xgN95SfJTEzf+eNbnh89Ld6ZxJcMxIQ63AOVqZtwLk4ABZZkWO8BHkzT8iyZYqaIL5HQyOhkFykPg8SBAQ==\") # Storage account key\n",
    "\n",
    "blob_datastore = Datastore.register_azure_blob_container(workspace=ws, \n",
    "                                                         datastore_name=blob_datastore_name, \n",
    "                                                         container_name=container_name, \n",
    "                                                         account_name=account_name,\n",
    "                                                         account_key=account_key)"
   ]
  },
  {
   "cell_type": "code",
   "execution_count": 4,
   "metadata": {},
   "outputs": [],
   "source": [
    "# from azureml.core import Datastore\n",
    "# from azureml.data.data_reference import DataReference\n",
    "# from azureml.pipeline.core import PipelineData\n",
    "\n",
    "# # def_blob_store = Datastore(ws, \"workspaceblobstore\")\n",
    "\n",
    "# input_data = DataReference(\n",
    "#        datastore=blob_datastore,\n",
    "#        data_reference_name=\"WR_OrderProcessing_Extract_0501_1201.zip\",\n",
    "#        path_on_datastore=\"\")\n",
    "\n",
    "# output = PipelineData(\"output\", datastore=def_blob_store)\n",
    "    "
   ]
  },
  {
   "cell_type": "code",
   "execution_count": 5,
   "metadata": {},
   "outputs": [],
   "source": [
    "# type(input_data)"
   ]
  },
  {
   "cell_type": "code",
   "execution_count": 6,
   "metadata": {},
   "outputs": [],
   "source": [
    "\n",
    "# dataset = Dataset.Tabular.from_delimited_files(path = [(blob_datastore, 'WR_OrderProcessing_Extract_0501_1201.zip')])\n",
    "# dataset = Dataset.Tabular.from_delimited_files(path = [(blob_datastore, 'ivrDetails_2019_11251728.csv')])\n"
   ]
  },
  {
   "cell_type": "markdown",
   "metadata": {},
   "source": [
    "Download data files from blob store to local directory"
   ]
  },
  {
   "cell_type": "code",
   "execution_count": 7,
   "metadata": {},
   "outputs": [],
   "source": [
    "# blob_datastore.download(target_path='ivr_data',\n",
    "#                    prefix='AWR_OrderProcessing_Extract_0501_1201_v3.zip',\n",
    "# #                    prefix='',\n",
    "#                    show_progress=True)"
   ]
  },
  {
   "cell_type": "markdown",
   "metadata": {},
   "source": [
    "The order processing data"
   ]
  },
  {
   "cell_type": "code",
   "execution_count": 8,
   "metadata": {},
   "outputs": [
    {
     "name": "stderr",
     "output_type": "stream",
     "text": [
      "/anaconda/envs/azureml_py36/lib/python3.6/site-packages/IPython/core/interactiveshell.py:3058: DtypeWarning: Columns (10,14,92) have mixed types. Specify dtype option on import or set low_memory=False.\n",
      "  interactivity=interactivity, compiler=compiler, result=result)\n"
     ]
    }
   ],
   "source": [
    "order_extract_df = pd.read_csv('ivr_data/AWR_OrderProcessing_Extract_0501_1201_v3.zip')"
   ]
  },
  {
   "cell_type": "code",
   "execution_count": 134,
   "metadata": {},
   "outputs": [],
   "source": [
    "all_order_list = order_extract_df.columns.tolist()"
   ]
  },
  {
   "cell_type": "code",
   "execution_count": 135,
   "metadata": {},
   "outputs": [
    {
     "data": {
      "text/plain": [
       "['ORDER_ID',\n",
       " 'ORDER_CREATED_DATE',\n",
       " 'ACCOUNT_NUMBER',\n",
       " 'COMCAST_ACCOUNT_NUMBER',\n",
       " 'FRAUDNET_SCORE',\n",
       " 'TOTAL_PRICE',\n",
       " 'SKU',\n",
       " 'TYPE1',\n",
       " 'MAKE1',\n",
       " 'MODEL1',\n",
       " 'PRICE1',\n",
       " 'TYPE2',\n",
       " 'MAKE2',\n",
       " 'MODEL2',\n",
       " 'PRICE2',\n",
       " 'TYPE3',\n",
       " 'MAKE3',\n",
       " 'MODEL3',\n",
       " 'PRICE3',\n",
       " 'TYPE4',\n",
       " 'MAKE4',\n",
       " 'MODEL4',\n",
       " 'PRICE4',\n",
       " 'TYPE5',\n",
       " 'MAKE5',\n",
       " 'MODEL5',\n",
       " 'PRICE5',\n",
       " 'NUM_PORTIN',\n",
       " 'PORT_IN_FLAG',\n",
       " 'FROM_CARRIER_NAME',\n",
       " 'ACNT_BILL_FNAME_MATCHES',\n",
       " 'ACNT_BILL_LNAME_MATCHES',\n",
       " 'ACNT_SHIP_FNAME_MATCHES',\n",
       " 'ACNT_SHIP_LNAME_MATCHES',\n",
       " 'SHIP_BILL_FNAME_MATCHES',\n",
       " 'SHIP_BILL_LNAME_MATCHES',\n",
       " 'BILL_SHIP_ADDR_MATCHES',\n",
       " 'BILLING_CITY',\n",
       " 'BILLING_STATE',\n",
       " 'BILLING_ZIPCODE',\n",
       " 'SHIPPING_CITY',\n",
       " 'SHIPPING_STATE',\n",
       " 'SHIPPING_ZIPCODE',\n",
       " 'EMAIL',\n",
       " 'IP_ADDRESS',\n",
       " 'SALES_CHANNEL',\n",
       " 'PHONE_MATCHES',\n",
       " 'NUM_BYOD',\n",
       " 'BYOD_INDICATOR',\n",
       " 'FIRST_PARTY_ID_SCORE',\n",
       " 'THIRD_PARTY_ID_SCORE',\n",
       " 'ORDER_TYPE',\n",
       " 'BLACKLIST_EMAIL',\n",
       " 'FPF_HIGH_YELLOW',\n",
       " 'TPF_HIGH_YELLOW',\n",
       " 'SSN_BLACKLISTED',\n",
       " 'DEVICE_AT_HOME',\n",
       " 'ORDER_EXCHANGE',\n",
       " 'YELLOW_SKU',\n",
       " 'EXPERIAN_RESPONSE_1',\n",
       " 'EXPERIAN_RESPONSE_2',\n",
       " 'HOLD_ORDER_STATUS',\n",
       " 'IS_EXISTING_CUSTOMER',\n",
       " 'INSTALLMENT_AMOUNT',\n",
       " 'ONETIMECHARGE',\n",
       " 'MONTHLYRECURRINGCHARGE',\n",
       " 'SHIPPINGMETHOD',\n",
       " 'LINE_LIMIT_REACHED',\n",
       " 'DENIAL_OF_SERVICES',\n",
       " 'BYOD_RETRY_COUNT',\n",
       " 'PREORDER_LINES',\n",
       " 'ALLOWED_LINES',\n",
       " 'INTERNAL_CREDIT_CHECK_DONE',\n",
       " 'EXTERNAL_CREDIT_CHECK_DONE',\n",
       " 'APPROVED_LINES',\n",
       " 'EXTERNAL_APPROVED_LINES',\n",
       " 'IDA_RESULT',\n",
       " 'FRAUDNET_RESULT',\n",
       " 'ACTIVE_WATCH_RESULT',\n",
       " 'FINAL_RESULT',\n",
       " 'FINAL_RESULT_SOURCE',\n",
       " 'AW_REASON',\n",
       " 'HOUR_OF_DAY',\n",
       " 'SENT_TO_ACTIVE_WATCH_TIMESTAMP',\n",
       " 'ACTIVE_WATCH_TS',\n",
       " 'ORDER_SUBMIT_TS',\n",
       " 'ACTIVE_WATCH_DURATION_MINS',\n",
       " 'ORDER_HOLD_DURATION_MINS',\n",
       " 'FRAUDSTATUSIND',\n",
       " 'SERVICEREQUESTTYPEDESC',\n",
       " 'SERVICEREQUESTCASEOPENTIME',\n",
       " 'SERVICEREQUESTCASECLOSETIME',\n",
       " 'CABLE_ACCOUNT_OPENDATE',\n",
       " 'XM_ACCOUNT_OPENDATE',\n",
       " 'WRITEOFFIND',\n",
       " 'COLLECTIONSTATUS',\n",
       " 'ACCOUNT_OPEN_TO_ORDER_MINS',\n",
       " 'START_TO_CLOSE_MINS',\n",
       " 'START_TO_CASECLOSE_MINS',\n",
       " 'CASECLOSE_TO_ORDERCLOSE_MINS',\n",
       " 'CASEOPEN_TO_CASECLOSE_MINS',\n",
       " 'ORDER_RISK_LABEL',\n",
       " 'ORDER_RISK_REASON']"
      ]
     },
     "execution_count": 135,
     "metadata": {},
     "output_type": "execute_result"
    }
   ],
   "source": [
    "all_order_list"
   ]
  },
  {
   "cell_type": "code",
   "execution_count": 141,
   "metadata": {},
   "outputs": [
    {
     "data": {
      "text/plain": [
       "0      RED\n",
       "1    GREEN\n",
       "2    GREEN\n",
       "3    GREEN\n",
       "4    GREEN\n",
       "Name: ACTIVE_WATCH_RESULT, dtype: object"
      ]
     },
     "execution_count": 141,
     "metadata": {},
     "output_type": "execute_result"
    }
   ],
   "source": [
    "order_extract_df['ACTIVE_WATCH_RESULT'].head()     # use this one for prediction target"
   ]
  },
  {
   "cell_type": "code",
   "execution_count": 142,
   "metadata": {},
   "outputs": [
    {
     "data": {
      "text/plain": [
       "(247838,)"
      ]
     },
     "execution_count": 142,
     "metadata": {},
     "output_type": "execute_result"
    }
   ],
   "source": []
  },
  {
   "cell_type": "code",
   "execution_count": 146,
   "metadata": {},
   "outputs": [
    {
     "data": {
      "text/plain": [
       "array(['RED', 'GREEN', 'YELLOW', nan, 'BLACK'], dtype=object)"
      ]
     },
     "execution_count": 146,
     "metadata": {},
     "output_type": "execute_result"
    }
   ],
   "source": [
    "order_extract_df['ACTIVE_WATCH_RESULT'].unique()"
   ]
  },
  {
   "cell_type": "code",
   "execution_count": 147,
   "metadata": {},
   "outputs": [
    {
     "data": {
      "text/plain": [
       "(3684, 103)"
      ]
     },
     "execution_count": 147,
     "metadata": {},
     "output_type": "execute_result"
    }
   ],
   "source": [
    "order_extract_df[order_extract_df['ACTIVE_WATCH_RESULT'].isna()].shape"
   ]
  },
  {
   "cell_type": "code",
   "execution_count": 148,
   "metadata": {},
   "outputs": [
    {
     "data": {
      "text/plain": [
       "(247838, 103)"
      ]
     },
     "execution_count": 148,
     "metadata": {},
     "output_type": "execute_result"
    }
   ],
   "source": [
    "order_extract_df.shape"
   ]
  },
  {
   "cell_type": "code",
   "execution_count": 149,
   "metadata": {},
   "outputs": [],
   "source": [
    "order_extract_df.dropna(subset=['ACTIVE_WATCH_RESULT'], inplace=True)"
   ]
  },
  {
   "cell_type": "code",
   "execution_count": 275,
   "metadata": {},
   "outputs": [
    {
     "data": {
      "text/plain": [
       "(244154, 103)"
      ]
     },
     "execution_count": 275,
     "metadata": {},
     "output_type": "execute_result"
    }
   ],
   "source": [
    "order_extract_df.shape"
   ]
  },
  {
   "cell_type": "code",
   "execution_count": 288,
   "metadata": {},
   "outputs": [],
   "source": [
    "# n = 'ACTIVE_WATCH_RESULT'\n",
    "# categories = {}\n",
    "# order_extract_df.loc[:,n] = order_extract_df.loc[:,n].astype('category').cat.as_ordered()\n",
    "# categories[n] = order_extract_df[n].cat.categories\n",
    "# order_extract_df.loc[:,n] = pd.Categorical(order_extract_df[n], categories=categories[n], ordered=True)"
   ]
  },
  {
   "cell_type": "code",
   "execution_count": 301,
   "metadata": {},
   "outputs": [],
   "source": [
    "target_df = order_extract_df[['ACTIVE_WATCH_RESULT']]"
   ]
  },
  {
   "cell_type": "code",
   "execution_count": 302,
   "metadata": {},
   "outputs": [
    {
     "data": {
      "text/plain": [
       "Index(['ACTIVE_WATCH_RESULT'], dtype='object')"
      ]
     },
     "execution_count": 302,
     "metadata": {},
     "output_type": "execute_result"
    }
   ],
   "source": [
    "target_df.columns"
   ]
  },
  {
   "cell_type": "code",
   "execution_count": 303,
   "metadata": {},
   "outputs": [],
   "source": [
    "def convert_label(label_string):\n",
    "    if label_string == 'RED':\n",
    "        return 0\n",
    "    if label_string == 'GREEN':\n",
    "        return 1\n",
    "    if label_string == 'YELLOW':\n",
    "        return 2\n",
    "    return 3       # BLACK\n",
    "    "
   ]
  },
  {
   "cell_type": "code",
   "execution_count": 304,
   "metadata": {},
   "outputs": [
    {
     "name": "stderr",
     "output_type": "stream",
     "text": [
      "/anaconda/envs/azureml_py36/lib/python3.6/site-packages/ipykernel_launcher.py:1: SettingWithCopyWarning: \n",
      "A value is trying to be set on a copy of a slice from a DataFrame.\n",
      "Try using .loc[row_indexer,col_indexer] = value instead\n",
      "\n",
      "See the caveats in the documentation: http://pandas.pydata.org/pandas-docs/stable/indexing.html#indexing-view-versus-copy\n",
      "  \"\"\"Entry point for launching an IPython kernel.\n"
     ]
    }
   ],
   "source": [
    "target_df['ACTIVE_WATCH_RESULT'] = target_df['ACTIVE_WATCH_RESULT'].apply(lambda x: convert_label(x))"
   ]
  },
  {
   "cell_type": "code",
   "execution_count": 306,
   "metadata": {},
   "outputs": [
    {
     "data": {
      "text/plain": [
       "[0, 1, 2, 3]\n",
       "Categories (4, int64): [3 < 1 < 0 < 2]"
      ]
     },
     "execution_count": 306,
     "metadata": {},
     "output_type": "execute_result"
    }
   ],
   "source": [
    "target_df['ACTIVE_WATCH_RESULT'].unique()"
   ]
  },
  {
   "cell_type": "code",
   "execution_count": 307,
   "metadata": {},
   "outputs": [
    {
     "data": {
      "text/plain": [
       "(244154, 1)"
      ]
     },
     "execution_count": 307,
     "metadata": {},
     "output_type": "execute_result"
    }
   ],
   "source": [
    "target_df.shape"
   ]
  },
  {
   "cell_type": "code",
   "execution_count": 308,
   "metadata": {},
   "outputs": [],
   "source": [
    "target_df.to_csv('ivr_backup_data/target_df.csv', header=True, index=False)"
   ]
  },
  {
   "cell_type": "code",
   "execution_count": 152,
   "metadata": {},
   "outputs": [],
   "source": [
    "# order_extract_df['FRAUDSTATUSIND'].head()"
   ]
  },
  {
   "cell_type": "code",
   "execution_count": 153,
   "metadata": {},
   "outputs": [
    {
     "data": {
      "text/html": [
       "<div>\n",
       "<style scoped>\n",
       "    .dataframe tbody tr th:only-of-type {\n",
       "        vertical-align: middle;\n",
       "    }\n",
       "\n",
       "    .dataframe tbody tr th {\n",
       "        vertical-align: top;\n",
       "    }\n",
       "\n",
       "    .dataframe thead th {\n",
       "        text-align: right;\n",
       "    }\n",
       "</style>\n",
       "<table border=\"1\" class=\"dataframe\">\n",
       "  <thead>\n",
       "    <tr style=\"text-align: right;\">\n",
       "      <th></th>\n",
       "      <th>ORDER_ID</th>\n",
       "      <th>ORDER_CREATED_DATE</th>\n",
       "      <th>ACCOUNT_NUMBER</th>\n",
       "      <th>COMCAST_ACCOUNT_NUMBER</th>\n",
       "      <th>FRAUDNET_SCORE</th>\n",
       "      <th>TOTAL_PRICE</th>\n",
       "      <th>SKU</th>\n",
       "      <th>TYPE1</th>\n",
       "      <th>MAKE1</th>\n",
       "      <th>MODEL1</th>\n",
       "      <th>...</th>\n",
       "      <th>XM_ACCOUNT_OPENDATE</th>\n",
       "      <th>WRITEOFFIND</th>\n",
       "      <th>COLLECTIONSTATUS</th>\n",
       "      <th>ACCOUNT_OPEN_TO_ORDER_MINS</th>\n",
       "      <th>START_TO_CLOSE_MINS</th>\n",
       "      <th>START_TO_CASECLOSE_MINS</th>\n",
       "      <th>CASECLOSE_TO_ORDERCLOSE_MINS</th>\n",
       "      <th>CASEOPEN_TO_CASECLOSE_MINS</th>\n",
       "      <th>ORDER_RISK_LABEL</th>\n",
       "      <th>ORDER_RISK_REASON</th>\n",
       "    </tr>\n",
       "  </thead>\n",
       "  <tbody>\n",
       "    <tr>\n",
       "      <th>0</th>\n",
       "      <td>187983116</td>\n",
       "      <td>2019-05-25 12:52:01</td>\n",
       "      <td>716308354</td>\n",
       "      <td>3364280765</td>\n",
       "      <td>NaN</td>\n",
       "      <td>1554.60</td>\n",
       "      <td>[\"723755019478\",\"723755019478\",\"190198451835\",...</td>\n",
       "      <td>Phone</td>\n",
       "      <td>Apple</td>\n",
       "      <td>iPhone 8</td>\n",
       "      <td>...</td>\n",
       "      <td>2018-12-08 10:26:59</td>\n",
       "      <td>R</td>\n",
       "      <td>NaN</td>\n",
       "      <td>241525.00</td>\n",
       "      <td>NaN</td>\n",
       "      <td>NaN</td>\n",
       "      <td>NaN</td>\n",
       "      <td>NaN</td>\n",
       "      <td>1</td>\n",
       "      <td>Did not clear Fraud Review</td>\n",
       "    </tr>\n",
       "    <tr>\n",
       "      <th>1</th>\n",
       "      <td>225253548</td>\n",
       "      <td>2019-10-19 19:32:01</td>\n",
       "      <td>2387138088</td>\n",
       "      <td>2735549480</td>\n",
       "      <td>NaN</td>\n",
       "      <td>0.00</td>\n",
       "      <td>[\"APLIPHONE6GOLD64\"]</td>\n",
       "      <td>Phone</td>\n",
       "      <td>Apple</td>\n",
       "      <td>iPhone 6</td>\n",
       "      <td>...</td>\n",
       "      <td>2019-06-10 05:57:06</td>\n",
       "      <td>R</td>\n",
       "      <td>Not in Collection</td>\n",
       "      <td>188914.90</td>\n",
       "      <td>8988.82</td>\n",
       "      <td>NaN</td>\n",
       "      <td>NaN</td>\n",
       "      <td>NaN</td>\n",
       "      <td>0</td>\n",
       "      <td>Good Order</td>\n",
       "    </tr>\n",
       "    <tr>\n",
       "      <th>2</th>\n",
       "      <td>215951933</td>\n",
       "      <td>2019-09-13 15:18:21</td>\n",
       "      <td>2297289602</td>\n",
       "      <td>3659356712</td>\n",
       "      <td>NaN</td>\n",
       "      <td>1080.09</td>\n",
       "      <td>[\"190199392588\"]</td>\n",
       "      <td>Phone</td>\n",
       "      <td>Apple</td>\n",
       "      <td>iPhone 11 Pro</td>\n",
       "      <td>...</td>\n",
       "      <td>2019-09-13 03:02:21</td>\n",
       "      <td>R</td>\n",
       "      <td>Not in Collection</td>\n",
       "      <td>195.95</td>\n",
       "      <td>14938.45</td>\n",
       "      <td>NaN</td>\n",
       "      <td>NaN</td>\n",
       "      <td>NaN</td>\n",
       "      <td>0</td>\n",
       "      <td>Good Order</td>\n",
       "    </tr>\n",
       "    <tr>\n",
       "      <th>3</th>\n",
       "      <td>217300035</td>\n",
       "      <td>2019-09-18 21:36:05</td>\n",
       "      <td>2747556495</td>\n",
       "      <td>2019265105</td>\n",
       "      <td>NaN</td>\n",
       "      <td>593.97</td>\n",
       "      <td>[\"190198453655\"]</td>\n",
       "      <td>Phone</td>\n",
       "      <td>Apple</td>\n",
       "      <td>iPhone 8 Plus</td>\n",
       "      <td>...</td>\n",
       "      <td>2017-11-18 08:23:19</td>\n",
       "      <td>N</td>\n",
       "      <td>Not in Collection</td>\n",
       "      <td>963612.72</td>\n",
       "      <td>4198.95</td>\n",
       "      <td>NaN</td>\n",
       "      <td>NaN</td>\n",
       "      <td>NaN</td>\n",
       "      <td>0</td>\n",
       "      <td>Good Order</td>\n",
       "    </tr>\n",
       "    <tr>\n",
       "      <th>4</th>\n",
       "      <td>222110639</td>\n",
       "      <td>2019-10-07 02:25:39</td>\n",
       "      <td>3159523017</td>\n",
       "      <td>4140934545</td>\n",
       "      <td>NaN</td>\n",
       "      <td>0.00</td>\n",
       "      <td>[\"190198155795\"]</td>\n",
       "      <td>Phone</td>\n",
       "      <td>Apple</td>\n",
       "      <td>iPhone 7 Plus</td>\n",
       "      <td>...</td>\n",
       "      <td>2019-09-15 11:00:12</td>\n",
       "      <td>R</td>\n",
       "      <td>Not in Collection</td>\n",
       "      <td>30625.43</td>\n",
       "      <td>15954.00</td>\n",
       "      <td>NaN</td>\n",
       "      <td>NaN</td>\n",
       "      <td>NaN</td>\n",
       "      <td>0</td>\n",
       "      <td>Good Order</td>\n",
       "    </tr>\n",
       "  </tbody>\n",
       "</table>\n",
       "<p>5 rows × 103 columns</p>\n",
       "</div>"
      ],
      "text/plain": [
       "    ORDER_ID   ORDER_CREATED_DATE  ACCOUNT_NUMBER  COMCAST_ACCOUNT_NUMBER  \\\n",
       "0  187983116  2019-05-25 12:52:01       716308354              3364280765   \n",
       "1  225253548  2019-10-19 19:32:01      2387138088              2735549480   \n",
       "2  215951933  2019-09-13 15:18:21      2297289602              3659356712   \n",
       "3  217300035  2019-09-18 21:36:05      2747556495              2019265105   \n",
       "4  222110639  2019-10-07 02:25:39      3159523017              4140934545   \n",
       "\n",
       "   FRAUDNET_SCORE  TOTAL_PRICE  \\\n",
       "0             NaN      1554.60   \n",
       "1             NaN         0.00   \n",
       "2             NaN      1080.09   \n",
       "3             NaN       593.97   \n",
       "4             NaN         0.00   \n",
       "\n",
       "                                                 SKU  TYPE1  MAKE1  \\\n",
       "0  [\"723755019478\",\"723755019478\",\"190198451835\",...  Phone  Apple   \n",
       "1                               [\"APLIPHONE6GOLD64\"]  Phone  Apple   \n",
       "2                                   [\"190199392588\"]  Phone  Apple   \n",
       "3                                   [\"190198453655\"]  Phone  Apple   \n",
       "4                                   [\"190198155795\"]  Phone  Apple   \n",
       "\n",
       "          MODEL1             ...              XM_ACCOUNT_OPENDATE WRITEOFFIND  \\\n",
       "0       iPhone 8             ...              2018-12-08 10:26:59           R   \n",
       "1       iPhone 6             ...              2019-06-10 05:57:06           R   \n",
       "2  iPhone 11 Pro             ...              2019-09-13 03:02:21           R   \n",
       "3  iPhone 8 Plus             ...              2017-11-18 08:23:19           N   \n",
       "4  iPhone 7 Plus             ...              2019-09-15 11:00:12           R   \n",
       "\n",
       "    COLLECTIONSTATUS ACCOUNT_OPEN_TO_ORDER_MINS START_TO_CLOSE_MINS  \\\n",
       "0                NaN                  241525.00                 NaN   \n",
       "1  Not in Collection                  188914.90             8988.82   \n",
       "2  Not in Collection                     195.95            14938.45   \n",
       "3  Not in Collection                  963612.72             4198.95   \n",
       "4  Not in Collection                   30625.43            15954.00   \n",
       "\n",
       "  START_TO_CASECLOSE_MINS CASECLOSE_TO_ORDERCLOSE_MINS  \\\n",
       "0                     NaN                          NaN   \n",
       "1                     NaN                          NaN   \n",
       "2                     NaN                          NaN   \n",
       "3                     NaN                          NaN   \n",
       "4                     NaN                          NaN   \n",
       "\n",
       "  CASEOPEN_TO_CASECLOSE_MINS  ORDER_RISK_LABEL           ORDER_RISK_REASON  \n",
       "0                        NaN                 1  Did not clear Fraud Review  \n",
       "1                        NaN                 0                  Good Order  \n",
       "2                        NaN                 0                  Good Order  \n",
       "3                        NaN                 0                  Good Order  \n",
       "4                        NaN                 0                  Good Order  \n",
       "\n",
       "[5 rows x 103 columns]"
      ]
     },
     "execution_count": 153,
     "metadata": {},
     "output_type": "execute_result"
    }
   ],
   "source": [
    "order_extract_df.head()"
   ]
  },
  {
   "cell_type": "code",
   "execution_count": 154,
   "metadata": {},
   "outputs": [
    {
     "data": {
      "text/plain": [
       "Index(['ORDER_ID', 'ORDER_CREATED_DATE', 'ACCOUNT_NUMBER',\n",
       "       'COMCAST_ACCOUNT_NUMBER', 'FRAUDNET_SCORE', 'TOTAL_PRICE', 'SKU',\n",
       "       'TYPE1', 'MAKE1', 'MODEL1',\n",
       "       ...\n",
       "       'XM_ACCOUNT_OPENDATE', 'WRITEOFFIND', 'COLLECTIONSTATUS',\n",
       "       'ACCOUNT_OPEN_TO_ORDER_MINS', 'START_TO_CLOSE_MINS',\n",
       "       'START_TO_CASECLOSE_MINS', 'CASECLOSE_TO_ORDERCLOSE_MINS',\n",
       "       'CASEOPEN_TO_CASECLOSE_MINS', 'ORDER_RISK_LABEL', 'ORDER_RISK_REASON'],\n",
       "      dtype='object', length=103)"
      ]
     },
     "execution_count": 154,
     "metadata": {},
     "output_type": "execute_result"
    }
   ],
   "source": [
    "order_extract_df.columns"
   ]
  },
  {
   "cell_type": "markdown",
   "metadata": {},
   "source": [
    "The fields that are available during order entry are marked in the Risk_Model.csv. Extracted earlier."
   ]
  },
  {
   "cell_type": "code",
   "execution_count": 155,
   "metadata": {},
   "outputs": [],
   "source": [
    "available_fields = [line.rstrip('\\n') for line in open('ivr_data/available_fields.txt')]"
   ]
  },
  {
   "cell_type": "code",
   "execution_count": 156,
   "metadata": {},
   "outputs": [],
   "source": [
    "available_fields.remove('ALL_SKUS')\n",
    "available_fields.append('SKU')"
   ]
  },
  {
   "cell_type": "code",
   "execution_count": 157,
   "metadata": {},
   "outputs": [
    {
     "data": {
      "text/plain": [
       "['MBC_ORDER_ID',\n",
       " 'ORDER_CREATED_DATE',\n",
       " 'ACCOUNT_NUMBER',\n",
       " 'STATUS',\n",
       " 'FRAUDNET_SCORE',\n",
       " 'TOTAL_PRICE',\n",
       " 'MODEL1',\n",
       " 'TYPE1',\n",
       " 'MAKE1',\n",
       " 'PRICE1',\n",
       " 'MODEL2',\n",
       " 'TYPE2',\n",
       " 'MAKE2',\n",
       " 'PRICE2',\n",
       " 'MODEL3',\n",
       " 'TYPE3',\n",
       " 'MAKE3',\n",
       " 'PRICE3',\n",
       " 'MODEL4',\n",
       " 'TYPE4',\n",
       " 'MAKE4',\n",
       " 'PRICE4',\n",
       " 'MODEL5',\n",
       " 'TYPE5',\n",
       " 'MAKE5',\n",
       " 'PRICE5',\n",
       " 'PORT_IN_FLAG',\n",
       " 'NUM_PORTIN',\n",
       " 'FROM_CARRIER_NAME',\n",
       " 'ACNT_BILL_FNAME_MATCHES',\n",
       " 'ACNT_BILL_LNAME_MATCHES',\n",
       " 'ACNT_SHIP_FNAME_MATCHES',\n",
       " 'ACNT_SHIP_LNAME_MATCHES',\n",
       " 'SHIP_BILL_FNAME_MATCHES',\n",
       " 'SHIP_BILL_LNAME_MATCHES',\n",
       " 'BILL_SHIP_ADDR_MATCHES',\n",
       " 'EMAIL',\n",
       " 'BILLING_CITY',\n",
       " 'BILLING_STATE',\n",
       " 'BILLING_ZIPCODE',\n",
       " 'SHIPPING_CITY',\n",
       " 'SHIPPING_STATE',\n",
       " 'SHIPPING_ZIPCODE',\n",
       " 'SERVICE_CITY',\n",
       " 'SERVICE_STATE',\n",
       " 'SERVICE_ZIPCODE',\n",
       " 'IP_ADDRESS',\n",
       " 'SALES_CHANNEL',\n",
       " 'FULFILLMENT_METHOD',\n",
       " 'PHONE_MATCHES',\n",
       " 'ORDER_PHONE_NUMBER',\n",
       " 'NUM_BYOD',\n",
       " 'BYOD_INDICATOR',\n",
       " 'IS_EXISTING_CUSTOMER',\n",
       " 'CART_TYPE',\n",
       " 'INSTALLMENT_AMOUNT',\n",
       " 'ONETIMECHARGE',\n",
       " 'MONTHLYRECURRINGCHARGE',\n",
       " 'SHIPPINGMETHOD',\n",
       " 'LINE_LIMIT_REACHED',\n",
       " 'DENIAL_OF_SERVICES',\n",
       " 'BYOD_RETRY_COUNT',\n",
       " 'PREORDER_LINES',\n",
       " 'ALLOWED_LINES',\n",
       " 'INTERNAL_CREDIT_CHECK_DONE',\n",
       " 'EXTERNAL_CREDIT_CHECK_DONE',\n",
       " 'APPROVED_LINES',\n",
       " 'EXTERNAL_APPROVED_LINES',\n",
       " 'FIRST_PARTY_ID_SCORE',\n",
       " 'THIRD_PARTY_ID_SCORE',\n",
       " 'SSN_MISMATCH',\n",
       " 'ZIP_MISMATCH',\n",
       " 'BLACKLIST_EMAIL',\n",
       " 'FPF_HIGH_YELLOW',\n",
       " 'TPF_HIGH_YELLOW',\n",
       " 'SSN_BLACKLISTED',\n",
       " 'DEVICE_AT_HOME',\n",
       " 'ORDER_EXCHANGE',\n",
       " 'YELLOW_SKU',\n",
       " 'EXPERIAN_RESPONSE_1',\n",
       " 'EXPERIAN_RESPONSE_2',\n",
       " 'IDA_RESULT',\n",
       " 'FRAUDNET_RESULT',\n",
       " 'ACCOUNT_OPENDATE',\n",
       " 'SKU']"
      ]
     },
     "execution_count": 157,
     "metadata": {},
     "output_type": "execute_result"
    }
   ],
   "source": [
    "available_fields"
   ]
  },
  {
   "cell_type": "markdown",
   "metadata": {},
   "source": [
    "Remove fields that Bharath did not extract and adjust column name as needed."
   ]
  },
  {
   "cell_type": "code",
   "execution_count": 158,
   "metadata": {},
   "outputs": [],
   "source": [
    "available_fields.remove('MBC_ORDER_ID')\n",
    "available_fields.remove('STATUS')\n",
    "# available_fields.remove('ALL_SKUS')\n",
    "available_fields.remove('SERVICE_CITY')\n",
    "available_fields.remove('SERVICE_STATE')\n",
    "available_fields.remove('SERVICE_ZIPCODE')\n",
    "available_fields.remove('FULFILLMENT_METHOD')\n",
    "available_fields.remove('ORDER_PHONE_NUMBER')\n",
    "available_fields.remove('CART_TYPE')\n",
    "available_fields.remove('SSN_MISMATCH')\n",
    "available_fields.remove('ZIP_MISMATCH')\n",
    "available_fields.remove('ACCOUNT_OPENDATE')\n",
    "\n",
    "# 'MBC_ORDER_ID' 'STATUS' 'ALL_SKUS' 'SERVICE_CITY' 'SERVICE_STATE'\\n 'SERVICE_ZIPCODE' 'FULFILLMENT_METHOD' 'ORDER_PHONE_NUMBER' 'CART_TYPE'\\n 'SSN_MISMATCH' 'ZIP_MISMATCH' 'ACCOUNT_OPENDATE'"
   ]
  },
  {
   "cell_type": "code",
   "execution_count": 159,
   "metadata": {},
   "outputs": [],
   "source": [
    "good_order_df = order_extract_df[available_fields]"
   ]
  },
  {
   "cell_type": "code",
   "execution_count": 160,
   "metadata": {},
   "outputs": [
    {
     "data": {
      "text/plain": [
       "(244154, 74)"
      ]
     },
     "execution_count": 160,
     "metadata": {},
     "output_type": "execute_result"
    }
   ],
   "source": [
    "good_order_df.shape"
   ]
  },
  {
   "cell_type": "code",
   "execution_count": 161,
   "metadata": {},
   "outputs": [
    {
     "data": {
      "text/plain": [
       "0    2019-05-25 12:52:01\n",
       "1    2019-10-19 19:32:01\n",
       "2    2019-09-13 15:18:21\n",
       "3    2019-09-18 21:36:05\n",
       "4    2019-10-07 02:25:39\n",
       "Name: ORDER_CREATED_DATE, dtype: object"
      ]
     },
     "execution_count": 161,
     "metadata": {},
     "output_type": "execute_result"
    }
   ],
   "source": [
    "good_order_df['ORDER_CREATED_DATE'].head()"
   ]
  },
  {
   "cell_type": "code",
   "execution_count": 162,
   "metadata": {},
   "outputs": [
    {
     "data": {
      "text/plain": [
       "Index(['ORDER_CREATED_DATE', 'ACCOUNT_NUMBER', 'FRAUDNET_SCORE', 'TOTAL_PRICE',\n",
       "       'MODEL1', 'TYPE1', 'MAKE1', 'PRICE1', 'MODEL2', 'TYPE2', 'MAKE2',\n",
       "       'PRICE2', 'MODEL3', 'TYPE3', 'MAKE3', 'PRICE3', 'MODEL4', 'TYPE4',\n",
       "       'MAKE4', 'PRICE4', 'MODEL5', 'TYPE5', 'MAKE5', 'PRICE5', 'PORT_IN_FLAG',\n",
       "       'NUM_PORTIN', 'FROM_CARRIER_NAME', 'ACNT_BILL_FNAME_MATCHES',\n",
       "       'ACNT_BILL_LNAME_MATCHES', 'ACNT_SHIP_FNAME_MATCHES',\n",
       "       'ACNT_SHIP_LNAME_MATCHES', 'SHIP_BILL_FNAME_MATCHES',\n",
       "       'SHIP_BILL_LNAME_MATCHES', 'BILL_SHIP_ADDR_MATCHES', 'EMAIL',\n",
       "       'BILLING_CITY', 'BILLING_STATE', 'BILLING_ZIPCODE', 'SHIPPING_CITY',\n",
       "       'SHIPPING_STATE', 'SHIPPING_ZIPCODE', 'IP_ADDRESS', 'SALES_CHANNEL',\n",
       "       'PHONE_MATCHES', 'NUM_BYOD', 'BYOD_INDICATOR', 'IS_EXISTING_CUSTOMER',\n",
       "       'INSTALLMENT_AMOUNT', 'ONETIMECHARGE', 'MONTHLYRECURRINGCHARGE',\n",
       "       'SHIPPINGMETHOD', 'LINE_LIMIT_REACHED', 'DENIAL_OF_SERVICES',\n",
       "       'BYOD_RETRY_COUNT', 'PREORDER_LINES', 'ALLOWED_LINES',\n",
       "       'INTERNAL_CREDIT_CHECK_DONE', 'EXTERNAL_CREDIT_CHECK_DONE',\n",
       "       'APPROVED_LINES', 'EXTERNAL_APPROVED_LINES', 'FIRST_PARTY_ID_SCORE',\n",
       "       'THIRD_PARTY_ID_SCORE', 'BLACKLIST_EMAIL', 'FPF_HIGH_YELLOW',\n",
       "       'TPF_HIGH_YELLOW', 'SSN_BLACKLISTED', 'DEVICE_AT_HOME',\n",
       "       'ORDER_EXCHANGE', 'YELLOW_SKU', 'EXPERIAN_RESPONSE_1',\n",
       "       'EXPERIAN_RESPONSE_2', 'IDA_RESULT', 'FRAUDNET_RESULT', 'SKU'],\n",
       "      dtype='object')"
      ]
     },
     "execution_count": 162,
     "metadata": {},
     "output_type": "execute_result"
    }
   ],
   "source": [
    "good_order_df.columns"
   ]
  },
  {
   "cell_type": "code",
   "execution_count": 163,
   "metadata": {
    "scrolled": true
   },
   "outputs": [],
   "source": [
    "# good_order_df[good_order_df['ACCOUNT_NUMBER']==2173973859]"
   ]
  },
  {
   "cell_type": "markdown",
   "metadata": {},
   "source": [
    "There are 40,934 zipcodes in US. Drop it for now"
   ]
  },
  {
   "cell_type": "code",
   "execution_count": 164,
   "metadata": {},
   "outputs": [],
   "source": [
    "good_order_df.drop(['BILLING_ZIPCODE'], axis=1, inplace=True)\n",
    "good_order_df.drop(['SHIPPING_ZIPCODE'], axis=1, inplace=True)"
   ]
  },
  {
   "cell_type": "markdown",
   "metadata": {},
   "source": [
    "Also drop the cities. Too sparse to incorporate"
   ]
  },
  {
   "cell_type": "code",
   "execution_count": 165,
   "metadata": {},
   "outputs": [],
   "source": [
    "good_order_df.drop(['SHIPPING_CITY'], axis=1, inplace=True)\n",
    "good_order_df.drop(['BILLING_CITY'], axis=1, inplace=True)"
   ]
  },
  {
   "cell_type": "markdown",
   "metadata": {},
   "source": [
    "Check the colunmns with nan. There all need to be handled"
   ]
  },
  {
   "cell_type": "code",
   "execution_count": 166,
   "metadata": {},
   "outputs": [],
   "source": [
    "NaN_list = good_order_df.columns[good_order_df.isna().any()].tolist()"
   ]
  },
  {
   "cell_type": "code",
   "execution_count": 167,
   "metadata": {},
   "outputs": [
    {
     "data": {
      "text/plain": [
       "30"
      ]
     },
     "execution_count": 167,
     "metadata": {},
     "output_type": "execute_result"
    }
   ],
   "source": [
    "len(NaN_list)"
   ]
  },
  {
   "cell_type": "code",
   "execution_count": 168,
   "metadata": {},
   "outputs": [
    {
     "data": {
      "text/plain": [
       "['FRAUDNET_SCORE',\n",
       " 'PRICE1',\n",
       " 'MODEL2',\n",
       " 'TYPE2',\n",
       " 'MAKE2',\n",
       " 'PRICE2',\n",
       " 'MODEL3',\n",
       " 'TYPE3',\n",
       " 'MAKE3',\n",
       " 'PRICE3',\n",
       " 'MODEL4',\n",
       " 'TYPE4',\n",
       " 'MAKE4',\n",
       " 'PRICE4',\n",
       " 'MODEL5',\n",
       " 'TYPE5',\n",
       " 'MAKE5',\n",
       " 'PRICE5',\n",
       " 'PORT_IN_FLAG',\n",
       " 'FROM_CARRIER_NAME',\n",
       " 'BILLING_STATE',\n",
       " 'SHIPPING_STATE',\n",
       " 'SHIPPINGMETHOD',\n",
       " 'PREORDER_LINES',\n",
       " 'INTERNAL_CREDIT_CHECK_DONE',\n",
       " 'ORDER_EXCHANGE',\n",
       " 'EXPERIAN_RESPONSE_1',\n",
       " 'EXPERIAN_RESPONSE_2',\n",
       " 'IDA_RESULT',\n",
       " 'FRAUDNET_RESULT']"
      ]
     },
     "execution_count": 168,
     "metadata": {},
     "output_type": "execute_result"
    }
   ],
   "source": [
    "NaN_list"
   ]
  },
  {
   "cell_type": "code",
   "execution_count": 169,
   "metadata": {},
   "outputs": [],
   "source": [
    "# good_order_df.dtypes"
   ]
  },
  {
   "cell_type": "markdown",
   "metadata": {},
   "source": [
    "Handle numerical and categorical variables separately"
   ]
  },
  {
   "cell_type": "code",
   "execution_count": 170,
   "metadata": {},
   "outputs": [],
   "source": [
    "order_num_df = good_order_df.select_dtypes(include=np.number)"
   ]
  },
  {
   "cell_type": "code",
   "execution_count": 171,
   "metadata": {},
   "outputs": [],
   "source": [
    "num_columns = order_num_df.columns.tolist()"
   ]
  },
  {
   "cell_type": "markdown",
   "metadata": {},
   "source": [
    "There were string values captured in PRICE1 and PRICE2, so they didn't get picked up automatically. have to manually incorported them"
   ]
  },
  {
   "cell_type": "code",
   "execution_count": 172,
   "metadata": {},
   "outputs": [],
   "source": [
    "num_columns.append('PRICE1')\n",
    "num_columns.append('PRICE2')\n",
    "# ORDER_CREATED_DATE is a numerical field after conversion to unix time\n",
    "num_columns.append('ORDER_CREATED_DATE')\n",
    "\n",
    "num_columns.remove('ACCOUNT_NUMBER')     # ACCOUNT_NUMBER should not be treated as a number\n"
   ]
  },
  {
   "cell_type": "code",
   "execution_count": 173,
   "metadata": {},
   "outputs": [
    {
     "data": {
      "text/plain": [
       "['FRAUDNET_SCORE',\n",
       " 'TOTAL_PRICE',\n",
       " 'PRICE3',\n",
       " 'PRICE4',\n",
       " 'PRICE5',\n",
       " 'NUM_PORTIN',\n",
       " 'ACNT_BILL_FNAME_MATCHES',\n",
       " 'ACNT_BILL_LNAME_MATCHES',\n",
       " 'ACNT_SHIP_FNAME_MATCHES',\n",
       " 'ACNT_SHIP_LNAME_MATCHES',\n",
       " 'SHIP_BILL_FNAME_MATCHES',\n",
       " 'SHIP_BILL_LNAME_MATCHES',\n",
       " 'BILL_SHIP_ADDR_MATCHES',\n",
       " 'EMAIL',\n",
       " 'IP_ADDRESS',\n",
       " 'PHONE_MATCHES',\n",
       " 'NUM_BYOD',\n",
       " 'INSTALLMENT_AMOUNT',\n",
       " 'ONETIMECHARGE',\n",
       " 'MONTHLYRECURRINGCHARGE',\n",
       " 'BYOD_RETRY_COUNT',\n",
       " 'PREORDER_LINES',\n",
       " 'ALLOWED_LINES',\n",
       " 'APPROVED_LINES',\n",
       " 'EXTERNAL_APPROVED_LINES',\n",
       " 'FIRST_PARTY_ID_SCORE',\n",
       " 'THIRD_PARTY_ID_SCORE',\n",
       " 'PRICE1',\n",
       " 'PRICE2',\n",
       " 'ORDER_CREATED_DATE']"
      ]
     },
     "execution_count": 173,
     "metadata": {},
     "output_type": "execute_result"
    }
   ],
   "source": [
    "num_columns"
   ]
  },
  {
   "cell_type": "markdown",
   "metadata": {},
   "source": [
    "Create a separate DataFrame to process the numerical columns"
   ]
  },
  {
   "cell_type": "code",
   "execution_count": 174,
   "metadata": {},
   "outputs": [],
   "source": [
    "order_num_df = good_order_df[num_columns]"
   ]
  },
  {
   "cell_type": "markdown",
   "metadata": {},
   "source": [
    "Which of the numerical columns contain nan?"
   ]
  },
  {
   "cell_type": "code",
   "execution_count": 175,
   "metadata": {},
   "outputs": [
    {
     "data": {
      "text/plain": [
       "['FRAUDNET_SCORE',\n",
       " 'PRICE3',\n",
       " 'PRICE4',\n",
       " 'PRICE5',\n",
       " 'PREORDER_LINES',\n",
       " 'PRICE1',\n",
       " 'PRICE2']"
      ]
     },
     "execution_count": 175,
     "metadata": {},
     "output_type": "execute_result"
    }
   ],
   "source": [
    "order_num_df.columns[order_num_df.isna().any()].tolist()"
   ]
  },
  {
   "cell_type": "markdown",
   "metadata": {},
   "source": [
    "Fill nan values with 0"
   ]
  },
  {
   "cell_type": "code",
   "execution_count": 176,
   "metadata": {},
   "outputs": [],
   "source": [
    "order_num_df['PREORDER_LINES'].fillna(0, inplace=True)\n",
    "order_num_df['FRAUDNET_SCORE'].fillna(0, inplace=True)\n",
    "# order_num_df['PRICE1'].fillna(0, inplace=True)\n",
    "# order_num_df['PRICE2'].fillna(0, inplace=True)\n",
    "order_num_df['PRICE3'].fillna(0, inplace=True)\n",
    "order_num_df['PRICE4'].fillna(0, inplace=True)\n",
    "order_num_df['PRICE5'].fillna(0, inplace=True)"
   ]
  },
  {
   "cell_type": "markdown",
   "metadata": {},
   "source": [
    "Double check 0's got filled in"
   ]
  },
  {
   "cell_type": "code",
   "execution_count": 177,
   "metadata": {},
   "outputs": [
    {
     "data": {
      "text/html": [
       "<div>\n",
       "<style scoped>\n",
       "    .dataframe tbody tr th:only-of-type {\n",
       "        vertical-align: middle;\n",
       "    }\n",
       "\n",
       "    .dataframe tbody tr th {\n",
       "        vertical-align: top;\n",
       "    }\n",
       "\n",
       "    .dataframe thead th {\n",
       "        text-align: right;\n",
       "    }\n",
       "</style>\n",
       "<table border=\"1\" class=\"dataframe\">\n",
       "  <thead>\n",
       "    <tr style=\"text-align: right;\">\n",
       "      <th></th>\n",
       "      <th>FRAUDNET_SCORE</th>\n",
       "      <th>PRICE3</th>\n",
       "      <th>PRICE4</th>\n",
       "      <th>PRICE5</th>\n",
       "      <th>PREORDER_LINES</th>\n",
       "    </tr>\n",
       "  </thead>\n",
       "  <tbody>\n",
       "    <tr>\n",
       "      <th>0</th>\n",
       "      <td>0.0</td>\n",
       "      <td>119.99</td>\n",
       "      <td>119.99</td>\n",
       "      <td>0.0</td>\n",
       "      <td>0.0</td>\n",
       "    </tr>\n",
       "    <tr>\n",
       "      <th>1</th>\n",
       "      <td>0.0</td>\n",
       "      <td>0.00</td>\n",
       "      <td>0.00</td>\n",
       "      <td>0.0</td>\n",
       "      <td>0.0</td>\n",
       "    </tr>\n",
       "    <tr>\n",
       "      <th>2</th>\n",
       "      <td>0.0</td>\n",
       "      <td>0.00</td>\n",
       "      <td>0.00</td>\n",
       "      <td>0.0</td>\n",
       "      <td>0.0</td>\n",
       "    </tr>\n",
       "    <tr>\n",
       "      <th>3</th>\n",
       "      <td>0.0</td>\n",
       "      <td>0.00</td>\n",
       "      <td>0.00</td>\n",
       "      <td>0.0</td>\n",
       "      <td>0.0</td>\n",
       "    </tr>\n",
       "    <tr>\n",
       "      <th>4</th>\n",
       "      <td>0.0</td>\n",
       "      <td>0.00</td>\n",
       "      <td>0.00</td>\n",
       "      <td>0.0</td>\n",
       "      <td>0.0</td>\n",
       "    </tr>\n",
       "  </tbody>\n",
       "</table>\n",
       "</div>"
      ],
      "text/plain": [
       "   FRAUDNET_SCORE  PRICE3  PRICE4  PRICE5  PREORDER_LINES\n",
       "0             0.0  119.99  119.99     0.0             0.0\n",
       "1             0.0    0.00    0.00     0.0             0.0\n",
       "2             0.0    0.00    0.00     0.0             0.0\n",
       "3             0.0    0.00    0.00     0.0             0.0\n",
       "4             0.0    0.00    0.00     0.0             0.0"
      ]
     },
     "execution_count": 177,
     "metadata": {},
     "output_type": "execute_result"
    }
   ],
   "source": [
    "order_num_df[['FRAUDNET_SCORE', 'PRICE3','PRICE4','PRICE5', 'PREORDER_LINES']].head()"
   ]
  },
  {
   "cell_type": "markdown",
   "metadata": {},
   "source": [
    "Convert PRICE1 and PRICES2 to numerical values"
   ]
  },
  {
   "cell_type": "code",
   "execution_count": 178,
   "metadata": {},
   "outputs": [],
   "source": [
    "def convert_to_float(price_string):\n",
    "    try:\n",
    "        return float(price_string)\n",
    "    except:\n",
    "        print('price_string={}'.format(price_string))\n",
    "        return 0"
   ]
  },
  {
   "cell_type": "code",
   "execution_count": 179,
   "metadata": {},
   "outputs": [
    {
     "data": {
      "text/html": [
       "<div>\n",
       "<style scoped>\n",
       "    .dataframe tbody tr th:only-of-type {\n",
       "        vertical-align: middle;\n",
       "    }\n",
       "\n",
       "    .dataframe tbody tr th {\n",
       "        vertical-align: top;\n",
       "    }\n",
       "\n",
       "    .dataframe thead th {\n",
       "        text-align: right;\n",
       "    }\n",
       "</style>\n",
       "<table border=\"1\" class=\"dataframe\">\n",
       "  <thead>\n",
       "    <tr style=\"text-align: right;\">\n",
       "      <th></th>\n",
       "      <th>PRICE1</th>\n",
       "      <th>PRICE2</th>\n",
       "    </tr>\n",
       "  </thead>\n",
       "  <tbody>\n",
       "    <tr>\n",
       "      <th>0</th>\n",
       "      <td>599.99</td>\n",
       "      <td>599.99</td>\n",
       "    </tr>\n",
       "    <tr>\n",
       "      <th>1</th>\n",
       "      <td>0.00</td>\n",
       "      <td>NaN</td>\n",
       "    </tr>\n",
       "    <tr>\n",
       "      <th>2</th>\n",
       "      <td>999.99</td>\n",
       "      <td>NaN</td>\n",
       "    </tr>\n",
       "    <tr>\n",
       "      <th>3</th>\n",
       "      <td>549.99</td>\n",
       "      <td>NaN</td>\n",
       "    </tr>\n",
       "    <tr>\n",
       "      <th>4</th>\n",
       "      <td>469.99</td>\n",
       "      <td>NaN</td>\n",
       "    </tr>\n",
       "  </tbody>\n",
       "</table>\n",
       "</div>"
      ],
      "text/plain": [
       "   PRICE1  PRICE2\n",
       "0  599.99  599.99\n",
       "1    0.00     NaN\n",
       "2  999.99     NaN\n",
       "3  549.99     NaN\n",
       "4  469.99     NaN"
      ]
     },
     "execution_count": 179,
     "metadata": {},
     "output_type": "execute_result"
    }
   ],
   "source": [
    "order_num_df[['PRICE1', 'PRICE2']].head()"
   ]
  },
  {
   "cell_type": "code",
   "execution_count": 180,
   "metadata": {},
   "outputs": [
    {
     "name": "stdout",
     "output_type": "stream",
     "text": [
      "price_string=153 NGP\n",
      "price_string=153 NGP\n",
      "price_string=153 NGP\n",
      "price_string=153 NGP\n",
      "price_string=153 NGP\n",
      "price_string=153 NGP\n",
      "price_string=153 NGP\n",
      "price_string=153 NGP\n",
      "price_string=153 NGP\n",
      "price_string=153 NGP\n",
      "price_string=153 NGP\n",
      "price_string=153 NGP\n",
      "price_string=153 NGP\n",
      "price_string=153 NGP\n",
      "price_string=153 NGP\n",
      "price_string=153 NGP\n",
      "price_string=153 NGP\n",
      "price_string=153 NGP\n",
      "price_string=153 NGP\n",
      "price_string=153 NGP\n",
      "price_string=153 NGP\n"
     ]
    },
    {
     "name": "stderr",
     "output_type": "stream",
     "text": [
      "/anaconda/envs/azureml_py36/lib/python3.6/site-packages/ipykernel_launcher.py:1: SettingWithCopyWarning: \n",
      "A value is trying to be set on a copy of a slice from a DataFrame.\n",
      "Try using .loc[row_indexer,col_indexer] = value instead\n",
      "\n",
      "See the caveats in the documentation: http://pandas.pydata.org/pandas-docs/stable/indexing.html#indexing-view-versus-copy\n",
      "  \"\"\"Entry point for launching an IPython kernel.\n"
     ]
    }
   ],
   "source": [
    "order_num_df['PRICE1'] = order_num_df['PRICE1'].apply(lambda x: convert_to_float(x))"
   ]
  },
  {
   "cell_type": "code",
   "execution_count": 181,
   "metadata": {},
   "outputs": [
    {
     "name": "stdout",
     "output_type": "stream",
     "text": [
      "price_string=153 NGP\n"
     ]
    },
    {
     "name": "stderr",
     "output_type": "stream",
     "text": [
      "/anaconda/envs/azureml_py36/lib/python3.6/site-packages/ipykernel_launcher.py:1: SettingWithCopyWarning: \n",
      "A value is trying to be set on a copy of a slice from a DataFrame.\n",
      "Try using .loc[row_indexer,col_indexer] = value instead\n",
      "\n",
      "See the caveats in the documentation: http://pandas.pydata.org/pandas-docs/stable/indexing.html#indexing-view-versus-copy\n",
      "  \"\"\"Entry point for launching an IPython kernel.\n"
     ]
    }
   ],
   "source": [
    "order_num_df['PRICE2'] = order_num_df['PRICE2'].apply(lambda x: convert_to_float(x))"
   ]
  },
  {
   "cell_type": "code",
   "execution_count": 182,
   "metadata": {},
   "outputs": [],
   "source": [
    "# order_num_df['PRICE1'].isna()\n",
    "order_num_df['PRICE1'].fillna(0, inplace=True)\n",
    "order_num_df['PRICE2'].fillna(0, inplace=True)"
   ]
  },
  {
   "cell_type": "markdown",
   "metadata": {},
   "source": [
    "PRICE1 and PRICE2 should now be all numerical, and have 0's where they used to be nan"
   ]
  },
  {
   "cell_type": "code",
   "execution_count": 183,
   "metadata": {},
   "outputs": [
    {
     "data": {
      "text/html": [
       "<div>\n",
       "<style scoped>\n",
       "    .dataframe tbody tr th:only-of-type {\n",
       "        vertical-align: middle;\n",
       "    }\n",
       "\n",
       "    .dataframe tbody tr th {\n",
       "        vertical-align: top;\n",
       "    }\n",
       "\n",
       "    .dataframe thead th {\n",
       "        text-align: right;\n",
       "    }\n",
       "</style>\n",
       "<table border=\"1\" class=\"dataframe\">\n",
       "  <thead>\n",
       "    <tr style=\"text-align: right;\">\n",
       "      <th></th>\n",
       "      <th>PRICE1</th>\n",
       "      <th>PRICE2</th>\n",
       "    </tr>\n",
       "  </thead>\n",
       "  <tbody>\n",
       "    <tr>\n",
       "      <th>0</th>\n",
       "      <td>599.99</td>\n",
       "      <td>599.99</td>\n",
       "    </tr>\n",
       "    <tr>\n",
       "      <th>1</th>\n",
       "      <td>0.00</td>\n",
       "      <td>0.00</td>\n",
       "    </tr>\n",
       "    <tr>\n",
       "      <th>2</th>\n",
       "      <td>999.99</td>\n",
       "      <td>0.00</td>\n",
       "    </tr>\n",
       "    <tr>\n",
       "      <th>3</th>\n",
       "      <td>549.99</td>\n",
       "      <td>0.00</td>\n",
       "    </tr>\n",
       "    <tr>\n",
       "      <th>4</th>\n",
       "      <td>469.99</td>\n",
       "      <td>0.00</td>\n",
       "    </tr>\n",
       "  </tbody>\n",
       "</table>\n",
       "</div>"
      ],
      "text/plain": [
       "   PRICE1  PRICE2\n",
       "0  599.99  599.99\n",
       "1    0.00    0.00\n",
       "2  999.99    0.00\n",
       "3  549.99    0.00\n",
       "4  469.99    0.00"
      ]
     },
     "execution_count": 183,
     "metadata": {},
     "output_type": "execute_result"
    }
   ],
   "source": [
    "order_num_df[['PRICE1', 'PRICE2']].head()"
   ]
  },
  {
   "cell_type": "code",
   "execution_count": 184,
   "metadata": {},
   "outputs": [],
   "source": [
    "# order_num_df.iloc[100]['ORDER_CREATED_DATE']"
   ]
  },
  {
   "cell_type": "code",
   "execution_count": 185,
   "metadata": {},
   "outputs": [],
   "source": [
    "import time\n",
    "import datetime\n",
    "\n",
    "def convert_to_unix_time(date_time_string):\n",
    "    return time.mktime(datetime.datetime.strptime(date_time_string, \"%Y-%m-%d %H:%M:%S\").timetuple())\n"
   ]
  },
  {
   "cell_type": "code",
   "execution_count": 186,
   "metadata": {},
   "outputs": [
    {
     "name": "stderr",
     "output_type": "stream",
     "text": [
      "/anaconda/envs/azureml_py36/lib/python3.6/site-packages/ipykernel_launcher.py:1: SettingWithCopyWarning: \n",
      "A value is trying to be set on a copy of a slice from a DataFrame.\n",
      "Try using .loc[row_indexer,col_indexer] = value instead\n",
      "\n",
      "See the caveats in the documentation: http://pandas.pydata.org/pandas-docs/stable/indexing.html#indexing-view-versus-copy\n",
      "  \"\"\"Entry point for launching an IPython kernel.\n"
     ]
    }
   ],
   "source": [
    "order_num_df['ORDER_CREATED_DATE'] = order_num_df['ORDER_CREATED_DATE'].apply(lambda x: convert_to_unix_time(x))\n",
    "\n",
    "# order_num_df['ORDER_CREATED_DATE_vector'].head()\n",
    "\n",
    "# order_num_df.drop(['ORDER_CREATED_DATE'], axis=1, inplace=True)"
   ]
  },
  {
   "cell_type": "code",
   "execution_count": 187,
   "metadata": {},
   "outputs": [
    {
     "data": {
      "text/plain": [
       "[]"
      ]
     },
     "execution_count": 187,
     "metadata": {},
     "output_type": "execute_result"
    }
   ],
   "source": [
    "order_num_df.columns[order_num_df.isna().any()].tolist()"
   ]
  },
  {
   "cell_type": "code",
   "execution_count": 188,
   "metadata": {},
   "outputs": [
    {
     "data": {
      "text/plain": [
       "(244154, 30)"
      ]
     },
     "execution_count": 188,
     "metadata": {},
     "output_type": "execute_result"
    }
   ],
   "source": [
    "order_num_df.shape"
   ]
  },
  {
   "cell_type": "code",
   "execution_count": 189,
   "metadata": {},
   "outputs": [],
   "source": [
    "order_num_df.to_csv('ivr_backup_data/order_num_df.csv', index=False)"
   ]
  },
  {
   "cell_type": "markdown",
   "metadata": {},
   "source": [
    "Get all the numerical column names"
   ]
  },
  {
   "cell_type": "code",
   "execution_count": 190,
   "metadata": {},
   "outputs": [
    {
     "data": {
      "text/plain": [
       "['FRAUDNET_SCORE',\n",
       " 'TOTAL_PRICE',\n",
       " 'PRICE3',\n",
       " 'PRICE4',\n",
       " 'PRICE5',\n",
       " 'NUM_PORTIN',\n",
       " 'ACNT_BILL_FNAME_MATCHES',\n",
       " 'ACNT_BILL_LNAME_MATCHES',\n",
       " 'ACNT_SHIP_FNAME_MATCHES',\n",
       " 'ACNT_SHIP_LNAME_MATCHES',\n",
       " 'SHIP_BILL_FNAME_MATCHES',\n",
       " 'SHIP_BILL_LNAME_MATCHES',\n",
       " 'BILL_SHIP_ADDR_MATCHES',\n",
       " 'EMAIL',\n",
       " 'IP_ADDRESS',\n",
       " 'PHONE_MATCHES',\n",
       " 'NUM_BYOD',\n",
       " 'INSTALLMENT_AMOUNT',\n",
       " 'ONETIMECHARGE',\n",
       " 'MONTHLYRECURRINGCHARGE',\n",
       " 'BYOD_RETRY_COUNT',\n",
       " 'PREORDER_LINES',\n",
       " 'ALLOWED_LINES',\n",
       " 'APPROVED_LINES',\n",
       " 'EXTERNAL_APPROVED_LINES',\n",
       " 'FIRST_PARTY_ID_SCORE',\n",
       " 'THIRD_PARTY_ID_SCORE',\n",
       " 'PRICE1',\n",
       " 'PRICE2',\n",
       " 'ORDER_CREATED_DATE']"
      ]
     },
     "execution_count": 190,
     "metadata": {},
     "output_type": "execute_result"
    }
   ],
   "source": [
    "num_columns"
   ]
  },
  {
   "cell_type": "code",
   "execution_count": 191,
   "metadata": {},
   "outputs": [
    {
     "data": {
      "text/plain": [
       "30"
      ]
     },
     "execution_count": 191,
     "metadata": {},
     "output_type": "execute_result"
    }
   ],
   "source": [
    "len(num_columns)"
   ]
  },
  {
   "cell_type": "markdown",
   "metadata": {},
   "source": [
    "One way to get all the categorical columns is use the statement below"
   ]
  },
  {
   "cell_type": "code",
   "execution_count": 192,
   "metadata": {},
   "outputs": [
    {
     "data": {
      "text/plain": [
       "Index(['ORDER_CREATED_DATE', 'MODEL1', 'TYPE1', 'MAKE1', 'PRICE1', 'MODEL2',\n",
       "       'TYPE2', 'MAKE2', 'PRICE2', 'MODEL3', 'TYPE3', 'MAKE3', 'MODEL4',\n",
       "       'TYPE4', 'MAKE4', 'MODEL5', 'TYPE5', 'MAKE5', 'PORT_IN_FLAG',\n",
       "       'FROM_CARRIER_NAME', 'BILLING_STATE', 'SHIPPING_STATE', 'SALES_CHANNEL',\n",
       "       'BYOD_INDICATOR', 'IS_EXISTING_CUSTOMER', 'SHIPPINGMETHOD',\n",
       "       'LINE_LIMIT_REACHED', 'DENIAL_OF_SERVICES',\n",
       "       'INTERNAL_CREDIT_CHECK_DONE', 'EXTERNAL_CREDIT_CHECK_DONE',\n",
       "       'BLACKLIST_EMAIL', 'FPF_HIGH_YELLOW', 'TPF_HIGH_YELLOW',\n",
       "       'SSN_BLACKLISTED', 'DEVICE_AT_HOME', 'ORDER_EXCHANGE', 'YELLOW_SKU',\n",
       "       'EXPERIAN_RESPONSE_1', 'EXPERIAN_RESPONSE_2', 'IDA_RESULT',\n",
       "       'FRAUDNET_RESULT', 'SKU'],\n",
       "      dtype='object')"
      ]
     },
     "execution_count": 192,
     "metadata": {},
     "output_type": "execute_result"
    }
   ],
   "source": [
    "good_order_df.select_dtypes(['object', 'category']).columns"
   ]
  },
  {
   "cell_type": "markdown",
   "metadata": {},
   "source": [
    "But let me instead get all columns and subtract the numerical ones. That way I am sure no columns got skipped"
   ]
  },
  {
   "cell_type": "code",
   "execution_count": 193,
   "metadata": {},
   "outputs": [],
   "source": [
    "all_columns = good_order_df.columns.tolist()"
   ]
  },
  {
   "cell_type": "code",
   "execution_count": 194,
   "metadata": {},
   "outputs": [
    {
     "data": {
      "text/plain": [
       "['ORDER_CREATED_DATE',\n",
       " 'ACCOUNT_NUMBER',\n",
       " 'FRAUDNET_SCORE',\n",
       " 'TOTAL_PRICE',\n",
       " 'MODEL1',\n",
       " 'TYPE1',\n",
       " 'MAKE1',\n",
       " 'PRICE1',\n",
       " 'MODEL2',\n",
       " 'TYPE2',\n",
       " 'MAKE2',\n",
       " 'PRICE2',\n",
       " 'MODEL3',\n",
       " 'TYPE3',\n",
       " 'MAKE3',\n",
       " 'PRICE3',\n",
       " 'MODEL4',\n",
       " 'TYPE4',\n",
       " 'MAKE4',\n",
       " 'PRICE4',\n",
       " 'MODEL5',\n",
       " 'TYPE5',\n",
       " 'MAKE5',\n",
       " 'PRICE5',\n",
       " 'PORT_IN_FLAG',\n",
       " 'NUM_PORTIN',\n",
       " 'FROM_CARRIER_NAME',\n",
       " 'ACNT_BILL_FNAME_MATCHES',\n",
       " 'ACNT_BILL_LNAME_MATCHES',\n",
       " 'ACNT_SHIP_FNAME_MATCHES',\n",
       " 'ACNT_SHIP_LNAME_MATCHES',\n",
       " 'SHIP_BILL_FNAME_MATCHES',\n",
       " 'SHIP_BILL_LNAME_MATCHES',\n",
       " 'BILL_SHIP_ADDR_MATCHES',\n",
       " 'EMAIL',\n",
       " 'BILLING_STATE',\n",
       " 'SHIPPING_STATE',\n",
       " 'IP_ADDRESS',\n",
       " 'SALES_CHANNEL',\n",
       " 'PHONE_MATCHES',\n",
       " 'NUM_BYOD',\n",
       " 'BYOD_INDICATOR',\n",
       " 'IS_EXISTING_CUSTOMER',\n",
       " 'INSTALLMENT_AMOUNT',\n",
       " 'ONETIMECHARGE',\n",
       " 'MONTHLYRECURRINGCHARGE',\n",
       " 'SHIPPINGMETHOD',\n",
       " 'LINE_LIMIT_REACHED',\n",
       " 'DENIAL_OF_SERVICES',\n",
       " 'BYOD_RETRY_COUNT',\n",
       " 'PREORDER_LINES',\n",
       " 'ALLOWED_LINES',\n",
       " 'INTERNAL_CREDIT_CHECK_DONE',\n",
       " 'EXTERNAL_CREDIT_CHECK_DONE',\n",
       " 'APPROVED_LINES',\n",
       " 'EXTERNAL_APPROVED_LINES',\n",
       " 'FIRST_PARTY_ID_SCORE',\n",
       " 'THIRD_PARTY_ID_SCORE',\n",
       " 'BLACKLIST_EMAIL',\n",
       " 'FPF_HIGH_YELLOW',\n",
       " 'TPF_HIGH_YELLOW',\n",
       " 'SSN_BLACKLISTED',\n",
       " 'DEVICE_AT_HOME',\n",
       " 'ORDER_EXCHANGE',\n",
       " 'YELLOW_SKU',\n",
       " 'EXPERIAN_RESPONSE_1',\n",
       " 'EXPERIAN_RESPONSE_2',\n",
       " 'IDA_RESULT',\n",
       " 'FRAUDNET_RESULT',\n",
       " 'SKU']"
      ]
     },
     "execution_count": 194,
     "metadata": {},
     "output_type": "execute_result"
    }
   ],
   "source": [
    "all_columns"
   ]
  },
  {
   "cell_type": "code",
   "execution_count": 195,
   "metadata": {},
   "outputs": [],
   "source": [
    "# one field in order_num_columns is not in all_columns\n",
    "# for num_column in num_columns:\n",
    "#     if num_column not in all_columns:\n",
    "#         print('{} not in all_columns'.format(num_column))"
   ]
  },
  {
   "cell_type": "code",
   "execution_count": 196,
   "metadata": {},
   "outputs": [
    {
     "data": {
      "text/plain": [
       "70"
      ]
     },
     "execution_count": 196,
     "metadata": {},
     "output_type": "execute_result"
    }
   ],
   "source": [
    "len(all_columns)"
   ]
  },
  {
   "cell_type": "code",
   "execution_count": 197,
   "metadata": {},
   "outputs": [],
   "source": [
    "object_columns = list(set(all_columns) - set(num_columns))"
   ]
  },
  {
   "cell_type": "code",
   "execution_count": 198,
   "metadata": {},
   "outputs": [
    {
     "data": {
      "text/plain": [
       "['EXPERIAN_RESPONSE_1',\n",
       " 'EXPERIAN_RESPONSE_2',\n",
       " 'ORDER_EXCHANGE',\n",
       " 'MAKE1',\n",
       " 'MAKE2',\n",
       " 'TYPE5',\n",
       " 'TPF_HIGH_YELLOW',\n",
       " 'MODEL4',\n",
       " 'IDA_RESULT',\n",
       " 'BLACKLIST_EMAIL',\n",
       " 'FRAUDNET_RESULT',\n",
       " 'YELLOW_SKU',\n",
       " 'SHIPPING_STATE',\n",
       " 'FROM_CARRIER_NAME',\n",
       " 'SALES_CHANNEL',\n",
       " 'PORT_IN_FLAG',\n",
       " 'SKU',\n",
       " 'BILLING_STATE',\n",
       " 'MAKE3',\n",
       " 'BYOD_INDICATOR',\n",
       " 'MAKE5',\n",
       " 'MAKE4',\n",
       " 'ACCOUNT_NUMBER',\n",
       " 'MODEL3',\n",
       " 'IS_EXISTING_CUSTOMER',\n",
       " 'TYPE2',\n",
       " 'TYPE3',\n",
       " 'TYPE1',\n",
       " 'LINE_LIMIT_REACHED',\n",
       " 'TYPE4',\n",
       " 'SSN_BLACKLISTED',\n",
       " 'INTERNAL_CREDIT_CHECK_DONE',\n",
       " 'MODEL2',\n",
       " 'MODEL1',\n",
       " 'MODEL5',\n",
       " 'DEVICE_AT_HOME',\n",
       " 'FPF_HIGH_YELLOW',\n",
       " 'DENIAL_OF_SERVICES',\n",
       " 'SHIPPINGMETHOD',\n",
       " 'EXTERNAL_CREDIT_CHECK_DONE']"
      ]
     },
     "execution_count": 198,
     "metadata": {},
     "output_type": "execute_result"
    }
   ],
   "source": [
    "object_columns"
   ]
  },
  {
   "cell_type": "code",
   "execution_count": 199,
   "metadata": {},
   "outputs": [
    {
     "data": {
      "text/plain": [
       "40"
      ]
     },
     "execution_count": 199,
     "metadata": {},
     "output_type": "execute_result"
    }
   ],
   "source": [
    "len(object_columns)"
   ]
  },
  {
   "cell_type": "markdown",
   "metadata": {},
   "source": [
    "Next, create a DataFrame for all the categorical columns only"
   ]
  },
  {
   "cell_type": "code",
   "execution_count": 200,
   "metadata": {},
   "outputs": [],
   "source": [
    "order_category_df = good_order_df[object_columns]"
   ]
  },
  {
   "cell_type": "code",
   "execution_count": 201,
   "metadata": {},
   "outputs": [],
   "source": [
    "del good_order_df"
   ]
  },
  {
   "cell_type": "code",
   "execution_count": 202,
   "metadata": {},
   "outputs": [],
   "source": [
    "# order_category_df['IS_EXISTING_CUSTOMER'].unique()"
   ]
  },
  {
   "cell_type": "markdown",
   "metadata": {},
   "source": [
    "The SKU field is one of the complicated ones, because it is a list of devices. Each devices can come from a long list of available products"
   ]
  },
  {
   "cell_type": "code",
   "execution_count": 203,
   "metadata": {},
   "outputs": [],
   "source": [
    "sku_list = order_category_df['SKU'].unique().tolist()"
   ]
  },
  {
   "cell_type": "code",
   "execution_count": 204,
   "metadata": {},
   "outputs": [
    {
     "data": {
      "text/plain": [
       "['[\"723755019478\",\"723755019478\",\"190198451835\",\"190198451781\"]',\n",
       " '[\"APLIPHONE6GOLD64\"]',\n",
       " '[\"190199392588\"]',\n",
       " '[\"190198453655\"]',\n",
       " '[\"190198155795\"]',\n",
       " '[\"190199220577\",\"190199380677\"]',\n",
       " '[\"190198066497\",\"190198066534\"]',\n",
       " '[\"190198456700\"]',\n",
       " '[\"652810830621\"]',\n",
       " '[\"190199392564\"]',\n",
       " '[\"190198456656\"]',\n",
       " '[\"APLIPH8PSIL64N1X\"]',\n",
       " '[\"APLIPH6PLUSSIL16\"]',\n",
       " '[\"190199392526\"]',\n",
       " '[\"887276363332\"]',\n",
       " '[\"190198354426\"]',\n",
       " '[\"887276348490\"]',\n",
       " '[\"190199380714\"]',\n",
       " '[\"190198786029\",\"191058084972\"]',\n",
       " '[\"190198776440\",\"848467076929\"]',\n",
       " '[\"190199220652\"]',\n",
       " '[\"887276246512\"]',\n",
       " '[\"APLIPHONE6SILV16\"]',\n",
       " '[\"888462734868\"]',\n",
       " '[\"190199220553\"]',\n",
       " '[\"190199220539\"]',\n",
       " '[\"190199220652\",\"190199220737\"]',\n",
       " '[\"190199220751\"]',\n",
       " '[\"190198776426\"]',\n",
       " '[\"190199380738\"]',\n",
       " '[\"APLIPHONE6GRAY64\",\"SEASMG950UBLCK64\"]',\n",
       " '[\"190198451835\"]',\n",
       " '[\"190198043375\"]',\n",
       " '[\"APLIPHONE6GRAY32\"]',\n",
       " '[\"190199392663\"]',\n",
       " '[\"190198058614\"]',\n",
       " '[\"887276348490\",\"887276348490\"]',\n",
       " '[\"APLIPH8GOLD64N1X\"]',\n",
       " '[\"888462501958\",\"APLIPH6PLGRAY128\"]',\n",
       " '[\"652810832595\"]',\n",
       " '[\"190198453907\"]',\n",
       " '[\"190199380691\"]',\n",
       " '[\"888462500609\",\"APLIPHONE6GRAY64\",\"APLIPHONE6SILV64\",\"APLIPH6SSILVER64\",\"APLIPHONE6GRAY64\"]',\n",
       " '[\"APLIPH6SGRAY16\",\"APLIPH6SSILVER16\"]',\n",
       " '[\"190198776402\",\"190198776402\"]',\n",
       " '[\"190198066572\",\"190198043313\"]',\n",
       " '[\"190198451736\"]',\n",
       " '[\"190198790637\"]',\n",
       " '[\"190198066497\"]',\n",
       " '[\"190199392588\",\"190198776402\",\"190198776501\"]',\n",
       " '[\"887276311968\",\"723755131187\",\"723755131187\"]',\n",
       " '[\"190198776440\"]',\n",
       " '[\"888462500609\"]',\n",
       " '[\"723755131187\"]',\n",
       " '[\"190198066473\"]',\n",
       " '[\"APLIPH6SROSE64\"]',\n",
       " '[\"190198066558\"]',\n",
       " '[\"APLIP8GRAY64N1X\"]',\n",
       " '[\"190199220676\"]',\n",
       " '[\"APLIPHONE6GOLD16\",\"652810830621\"]',\n",
       " '[\"190198043337\"]',\n",
       " '[\"APLIPHONE6GRAY64\",\"190198776549\"]',\n",
       " '[\"APLIPH6SGOLD16\"]',\n",
       " '[\"APLIPH6SSILVER64\"]',\n",
       " '[\"887276270463\"]',\n",
       " '[\"190198776600\"]',\n",
       " '[\"887276321783\"]',\n",
       " '[\"723755133396\"]',\n",
       " '[\"190198776563\"]',\n",
       " '[\"190198066558\",\"APLIPH6SGRAY64\",\"190198786128\",\"190198790392\"]',\n",
       " '[\"190198451781\"]',\n",
       " '[\"190198456809\",\"190198456700\",\"190198456854\"]',\n",
       " '[\"190198456809\",\"190198456854\"]',\n",
       " '[\"APLIPHONE6GRAY64\"]',\n",
       " '[\"190198776464\"]',\n",
       " '[\"723755131187\",\"723755131187\",\"723755131187\",\"723755131187\"]',\n",
       " '[\"190199220591\"]',\n",
       " '[\"190198776709\"]',\n",
       " '[\"190198453709\"]',\n",
       " '[\"190198776549\"]',\n",
       " '[\"887276250274\"]',\n",
       " '[\"APLIPH6SSILVER16\"]',\n",
       " '[\"190198453808\"]',\n",
       " '[\"723755019478\"]',\n",
       " '[\"887276310299\"]',\n",
       " '[\"190198456809\",\"190198456809\"]',\n",
       " '[\"190198066718\",\"190198456854\",\"190198456809\"]',\n",
       " '[\"190198066534\"]',\n",
       " '[\"190199392649\"]',\n",
       " '[\"887276204536\"]',\n",
       " '[\"190198066596\"]',\n",
       " '[\"190199392540\"]',\n",
       " '[\"190198155856\"]',\n",
       " '[\"887276311968\"]',\n",
       " '[\"190198066671\",\"887276348490\"]',\n",
       " '[\"190199380875\",\"190199380875\"]',\n",
       " '[\"887276302973\"]',\n",
       " '[\"190199220874\"]',\n",
       " '[\"887276326184\"]',\n",
       " '[\"190198058591\"]',\n",
       " '[\"887276246512\",\"887276246512\"]',\n",
       " '[\"887276249810\"]',\n",
       " '[\"190198066473\",\"190198043375\",\"190198451736\"]',\n",
       " '[\"723755019478\",\"888462773126\",\"190198451781\"]',\n",
       " '[\"190199380875\"]',\n",
       " '[\"190199380851\",\"190199380851\",\"190199380851\"]',\n",
       " '[\"190199380899\"]',\n",
       " '[\"723755019478\",\"723755019478\"]',\n",
       " '[\"190198776648\"]',\n",
       " '[\"190198786180\"]',\n",
       " '[\"190199380752\"]',\n",
       " '[\"APLIPHONE6GRAY16\"]',\n",
       " '[\"190198291936\"]',\n",
       " '[\"190199220577\"]',\n",
       " '[\"190199220614\"]',\n",
       " '[\"190199220652\",\"190199220676\"]',\n",
       " '[\"190199220638\"]',\n",
       " '[\"APLIPHXGRY256N1X\"]',\n",
       " '[\"APLIPHONE6GOLD16\"]',\n",
       " '[\"190198453754\"]',\n",
       " '[\"190198776488\"]',\n",
       " '[\"190198790712\"]',\n",
       " '[\"APLIPH6SGRAY16\"]',\n",
       " '[\"652810832687\"]',\n",
       " '[\"887276249872\"]',\n",
       " '[\"887276321851\"]',\n",
       " '[\"190198786128\"]',\n",
       " '[\"APLIPH6SGRAY64\"]',\n",
       " '[\"887276346847\"]',\n",
       " '[\"190198776723\"]',\n",
       " '[\"190198062314\",\"190198066473\"]',\n",
       " '[\"887276367071\"]',\n",
       " '[\"723755131187\",\"190198790392\"]',\n",
       " '[\"APLIPHONE6SILV64\"]',\n",
       " '[\"887276302966\",\"887276302966\"]',\n",
       " '[\"887276368559\",\"887276368559\"]',\n",
       " '[\"190198291950\",\"190198451736\"]',\n",
       " '[\"190198776402\"]',\n",
       " '[\"848467083552\",\"887276321912\"]',\n",
       " '[\"652810830171\"]',\n",
       " '[\"190198776501\"]',\n",
       " '[\"190198786128\",\"190198776402\"]',\n",
       " '[\"190198453808\",\"APLIPHXGRY256N1X\"]',\n",
       " '[\"190199380813\"]',\n",
       " '[\"190199380776\"]',\n",
       " '[\"190198291974\"]',\n",
       " '[\"190199220812\"]',\n",
       " '[\"887276352497\",\"887276367071\"]',\n",
       " '[\"887276321851\",\"887276249810\"]',\n",
       " '[\"190198066510\"]',\n",
       " '[\"887276346847\",\"887276346847\"]',\n",
       " '[\"APLIPHONE6SILV64\",\"190198451781\"]',\n",
       " '[\"190198790477\"]',\n",
       " '[\"190198776525\"]',\n",
       " '[\"888462734868\",\"190198291936\"]',\n",
       " '[\"190198776662\"]',\n",
       " '[\"887276283197\"]',\n",
       " '[\"APLIPHXSIL64N1X\"]',\n",
       " '[\"190199220713\"]',\n",
       " '[\"APLIPH6SGOLD64\"]',\n",
       " '[\"190199220577\",\"887276246512\"]',\n",
       " '[\"190198043313\"]',\n",
       " '[\"190198058621\"]',\n",
       " '[\"190198451736\",\"190198451736\",\"190198451736\"]',\n",
       " '[\"887276368559\"]',\n",
       " '[\"190199380691\",\"190199380691\"]',\n",
       " '[\"887276302966\"]',\n",
       " '[\"190198776587\"]',\n",
       " '[\"190198291998\"]',\n",
       " '[\"190198790439\"]',\n",
       " '[\"190198790392\"]',\n",
       " '[\"190198786067\"]',\n",
       " '[\"190198292018\",\"190198790712\"]',\n",
       " '[\"190198066473\",\"APLIPH6SPLROSE64\"]',\n",
       " '[\"190198066633\"]',\n",
       " '[\"190198453235\",\"APLIPH6SROSE64\",\"APLIPH6SGRAY64\",\"190198453334\",\"190198291936\"]',\n",
       " '[\"190198066473\",\"190198066497\"]',\n",
       " '[\"190198786128\",\"190198456700\"]',\n",
       " '[\"190198155818\"]',\n",
       " '[\"APLIPHONE6GRY128\"]',\n",
       " '[\"887276367064\"]',\n",
       " '[\"SEASMG960UPURP64\"]',\n",
       " '[\"190198776525\",\"190198776525\"]',\n",
       " '[\"190199220713\",\"190199220690\",\"190198456700\"]',\n",
       " '[\"888462501989\"]',\n",
       " '[\"190198155795\",\"190198155795\"]',\n",
       " '[\"190199392601\"]',\n",
       " '[\"APLIPHONE6GRAY64\",\"APLIPH6PLUSGRY64\"]',\n",
       " '[\"190199380677\",\"190198786067\"]',\n",
       " '[\"190199380691\",\"190198786067\"]',\n",
       " '[\"887276283197\",\"887276283197\"]',\n",
       " '[\"190199380837\"]',\n",
       " '[\"190198066497\",\"660543425793\"]',\n",
       " '[\"APLIPHONE6GRAY16\",\"APLIPHONE6SILV16\",\"190199220737\"]',\n",
       " '[\"887276346847\",\"887276363318\"]',\n",
       " '[\"190199380677\"]',\n",
       " '[\"APLIP8PGRAY64N1X\"]',\n",
       " '[\"652810830171\",\"652810830171\"]',\n",
       " '[\"190198776488\",\"190198776440\",\"190198776501\"]',\n",
       " '[\"887276321882\"]',\n",
       " '[\"887276204536\",\"887276204536\"]',\n",
       " '[\"887276363332\",\"887276346847\"]',\n",
       " '[\"190199392526\",\"190199380752\"]',\n",
       " '[\"190198776488\",\"190198776402\",\"190198451736\"]',\n",
       " '[\"190198786029\"]',\n",
       " '[\"190198776686\"]',\n",
       " '[\"887276284392\"]',\n",
       " '[\"190198786043\"]',\n",
       " '[\"190198066473\",\"190198066534\"]',\n",
       " '[\"190198043375\",\"190198456700\"]',\n",
       " '[\"190198456854\"]',\n",
       " '[\"888462773126\"]',\n",
       " '[\"190199380790\"]',\n",
       " '[\"190199220737\"]',\n",
       " '[\"887276248981\"]',\n",
       " '[\"190198451736\",\"190198451835\"]',\n",
       " '[\"190198451736\",\"190198451736\"]',\n",
       " '[\"190198155856\",\"190198066473\"]',\n",
       " '[\"APLIP8GRAY64N1X\",\"APLIPH8SILV64N1X\"]',\n",
       " '[\"190198776624\"]',\n",
       " '[\"190198776501\",\"190198776426\",\"APLIPH6SROSE16\"]',\n",
       " '[\"190199220836\"]',\n",
       " '[\"190198776426\",\"APLIPHONE6GRAY16\"]',\n",
       " '[\"190198043474\"]',\n",
       " '[\"190198456656\",\"190199392526\"]',\n",
       " '[\"190198066473\",\"660543425793\"]',\n",
       " '[\"APLIPHONE6SIL128\"]',\n",
       " '[\"APLIPHXGRAY64N1X\",\"APLIPHXGRAY64N1X\"]',\n",
       " '[\"190198066534\",\"190198776402\"]',\n",
       " '[\"APLIPH6PLUSGLD16\"]',\n",
       " '[\"190198776402\",\"190198776440\"]',\n",
       " '[\"887276348490\",\"190198066534\"]',\n",
       " '[\"APLIPH6SPLSILV16\"]',\n",
       " '[\"652810830171\",\"191058072931\"]',\n",
       " '[\"190199220591\",\"190199220614\"]',\n",
       " '[\"190199220614\",\"190199220638\"]',\n",
       " '[\"190199220690\",\"190199220539\",\"190199220638\",\"190199220614\"]',\n",
       " '[\"APLIPH6SGRAY64\",\"APLIPH6SROSE64\"]',\n",
       " '[\"190199220539\",\"190199220577\"]',\n",
       " '[\"190198786142\"]',\n",
       " '[\"887276328164\"]',\n",
       " '[\"APLIPH6SGRAY16\",\"APLIPH6SROSE16\"]',\n",
       " '[\"887276310299\",\"887276303116\"]',\n",
       " '[\"887276348490\",\"723755131187\"]',\n",
       " '[\"190198786180\",\"190198786180\"]',\n",
       " '[\"888462501958\"]',\n",
       " '[\"190198776464\",\"APLIPH6SPLROSE16\"]',\n",
       " '[\"190198776440\",\"887276246512\"]',\n",
       " '[\"190198066558\",\"190198776525\"]',\n",
       " '[\"887276321851\",\"660543493310\"]',\n",
       " '[\"APLIPH6PLUSSIL64\"]',\n",
       " '[\"888462773133\",\"190198776501\",\"888462500579\"]',\n",
       " '[\"190198456809\"]',\n",
       " '[\"190198790675\"]',\n",
       " '[\"190198776464\",\"190198776488\",\"190198451835\"]',\n",
       " '[\"190198451835\",\"190198776464\",\"190198776488\"]',\n",
       " '[\"190198451835\",\"190198451736\"]',\n",
       " '[\"190198456809\",\"190198451781\"]',\n",
       " '[\"APLIPH6SROSE16\"]',\n",
       " '[\"190198451781\",\"190198451781\"]',\n",
       " '[\"190198043498\"]',\n",
       " '[\"887276316635\"]',\n",
       " '[\"842776114242\"]',\n",
       " '[\"190198776440\",\"190198776501\"]',\n",
       " '[\"190198451781\",\"190198451835\"]',\n",
       " '[\"190198776624\",\"190198066619\"]',\n",
       " '[\"190198066473\",\"APLIPH6SPLGOLD64\"]',\n",
       " '[\"888462803939\"]',\n",
       " '[\"190199220690\"]',\n",
       " '[\"APLIPH6SROSE16\",\"190198155818\"]',\n",
       " '[\"842978135359\"]',\n",
       " '[\"190198776501\",\"190198776426\"]',\n",
       " '[\"846127186711\"]',\n",
       " '[\"190199220614\",\"190198776402\",\"723755133396\",\"190198776402\"]',\n",
       " '[\"190198066534\",\"190198058591\"]',\n",
       " '[\"190198776501\",\"190198776501\"]',\n",
       " '[\"190199220638\",\"190198857941\"]',\n",
       " '[\"190198776525\",\"190198776549\"]',\n",
       " '[\"888462803960\"]',\n",
       " '[\"190198451835\",\"APLIPHONE6GRAY64\",\"190198066473\",\"190198066473\",\"190198066473\"]',\n",
       " '[\"APLIPH6SROSE16\",\"190198155795\"]',\n",
       " '[\"190198456809\",\"190198786067\",\"190198790439\"]',\n",
       " '[\"190198764690\",\"190198764690\"]',\n",
       " '[\"190199098428\"]',\n",
       " '[\"190198764690\"]',\n",
       " '[\"729198432874\"]',\n",
       " '[\"190198764690\",\"729198432874\"]',\n",
       " '[\"840472240593\",\"729198930325\",\"729198431457\"]',\n",
       " '[\"190198776488\",\"190198776440\"]',\n",
       " '[\"190198776501\",\"190198058591\"]',\n",
       " '[\"190199220652\",\"190199220690\"]',\n",
       " '[\"723755131187\",\"660543491453\"]',\n",
       " '[\"846127181198\"]',\n",
       " '[\"887276326160\"]',\n",
       " '[\"190198776563\",\"190198453709\"]',\n",
       " '[\"887276325989\"]',\n",
       " '[\"SEASMG950UBLCK64\"]',\n",
       " '[\"190198062314\"]',\n",
       " '[\"190198776488\",\"190198451736\",\"190198451736\",\"190198451835\",\"APLIPHONE6GRAY64\"]',\n",
       " '[\"887276303116\",\"887276348490\"]',\n",
       " '[\"846127188647\",\"846127185912\"]',\n",
       " '[\"190199220690\",\"190199220713\",\"190198066473\",\"190198066534\"]',\n",
       " '[\"190199220713\",\"190198066534\",\"190199220676\",\"190198066534\"]',\n",
       " '[\"723755133396\",\"846127188609\"]',\n",
       " '[\"APLIPH6PLUSGLD64\"]',\n",
       " '[\"190198043375\",\"APLIPH6PLUSGRY16\",\"190198043351\"]',\n",
       " '[\"887276246512\",\"887276246512\",\"887276246512\",\"887276246512\"]',\n",
       " '[\"887276204536\",\"887276204536\",\"887276204536\",\"887276204536\"]',\n",
       " '[\"190198776402\",\"190198776426\",\"190198776426\"]',\n",
       " '[\"190198776426\",\"190198776426\",\"190198776402\"]',\n",
       " '[\"190198451736\",\"APLIPHONE6GOLD64\"]',\n",
       " '[\"APLIPH6SPLGOLD64\"]',\n",
       " '[\"APLIPH6SPLGOLD16\"]',\n",
       " '[\"190198066473\",\"190198776709\"]',\n",
       " '[\"APLIP8GRAY64N1X\",\"APLIP8GRAY64N1X\"]',\n",
       " '[\"APLIPH6SPLGOLD64\",\"APLIPH6SSILVER16\"]',\n",
       " '[\"APLIPH6SSILVER64\",\"APLIPH6SGRAY64\",\"190198776501\",\"190198451736\"]',\n",
       " '[\"888462500579\"]',\n",
       " '[\"APLIPH6SGRAY64\",\"APLIPH6SGRAY64\"]',\n",
       " '[\"APLIPH6SGRAY64\",\"APLIP8GRAY256N1X\",\"APLIP8GRAY256N1X\",\"190198451781\"]',\n",
       " '[\"APLIPH6SGRAY64\",\"APLIP8GRAY256N1X\",\"APLIP8GRAY256N1X\",\"190198451736\"]',\n",
       " '[\"APLIPH6SPLROSE64\"]',\n",
       " '[\"652810830621\",\"848467073720\"]',\n",
       " '[\"APLIPH6SGOLD64\",\"190198451736\",\"APLIPHONE6GRAY64\"]',\n",
       " '[\"190198776624\",\"846127181198\",\"190198776563\",\"846127181198\"]',\n",
       " '[\"190198786067\",\"190198790439\"]',\n",
       " '[\"190198776426\",\"APLIPH6SGRAY64\"]',\n",
       " '[\"190199392588\",\"190199380899\",\"190198776440\"]',\n",
       " '[\"840472240555\",\"842978139678\"]',\n",
       " '[\"190198354891\",\"190198451781\"]',\n",
       " '[\"190198776426\",\"190198790712\",\"660543470618\"]',\n",
       " '[\"887276206202\"]',\n",
       " '[\"190198043351\"]',\n",
       " '[\"190199220775\",\"723755133396\"]',\n",
       " '[\"190199392526\",\"190199220614\",\"190199220539\",\"190199220539\",\"190198066473\"]',\n",
       " '[\"190198776440\",\"190198776440\"]',\n",
       " '[\"190198453280\"]',\n",
       " '[\"190198066572\"]',\n",
       " '[\"887276352497\"]',\n",
       " '[\"888462773133\"]',\n",
       " '[\"APLIPHONE6GRAY16\",\"190198058607\"]',\n",
       " '[\"887276246512\",\"660543443124\",\"190198451835\"]',\n",
       " '[\"190199392564\",\"190199380691\"]',\n",
       " '[\"190198066619\"]',\n",
       " '[\"190198776525\",\"652810830171\"]',\n",
       " '[\"APLIPH6PLUSGRY16\"]',\n",
       " '[\"APLIPH6SGRAY16\",\"APLIPH6SROSE64\"]',\n",
       " '[\"APLIPH6SGRAY16\",\"APLIPH6SGRAY64\"]',\n",
       " '[\"190198043313\",\"190198155832\",\"190198776563\"]',\n",
       " '[\"APLIPH6SPLGRAY64\"]',\n",
       " '[\"190199220775\"]',\n",
       " '[\"190198453907\",\"190198066473\",\"887276302966\",\"190198066534\"]',\n",
       " '[\"190198066534\",\"887276302966\",\"190198066473\",\"190198453907\"]',\n",
       " '[\"190198043412\",\"190198155795\"]',\n",
       " '[\"723755019478\",\"190198066534\"]',\n",
       " '[\"190198155795\",\"190198155856\",\"190198155795\"]',\n",
       " '[\"APLIPH6PLGRAY128\",\"APLIPHONE6GRY128\",\"APLIPHONE6SILV16\",\"APLIPH6SROSE64\"]',\n",
       " '[\"APLIPHONE6GRAY16\",\"APLIPHONE6SILV16\"]',\n",
       " '[\"190198776440\",\"190198786067\"]',\n",
       " '[\"190198776549\",\"190198776525\"]',\n",
       " '[\"887276321912\"]',\n",
       " '[\"190198776488\",\"190198776440\",\"190198451736\"]',\n",
       " '[\"190198451736\",\"190198453655\"]',\n",
       " '[\"190198745903\"]',\n",
       " '[\"190199392601\",\"190199392649\"]',\n",
       " '[\"190198066473\",\"190198066534\",\"190198066473\",\"APLIPHONE6GRAY16\"]',\n",
       " '[\"190198790712\",\"190198786142\"]',\n",
       " '[\"SEASMG955UOGRY64\"]',\n",
       " '[\"190198776563\",\"887276303116\"]',\n",
       " '[\"190199220553\",\"190198451736\",\"190198451835\"]',\n",
       " '[\"190198451835\",\"190198066510\"]',\n",
       " '[\"APLIPHONE6GRAY16\",\"190198058607\",\"190198790514\"]',\n",
       " '[\"190198155856\",\"887276246512\"]',\n",
       " '[\"887276368559\",\"887276302973\"]',\n",
       " '[\"190198786128\",\"190198456656\"]',\n",
       " '[\"887276316581\"]',\n",
       " '[\"887276321851\",\"660543493501\",\"848467083552\"]',\n",
       " '[\"887276311968\",\"660543493501\",\"848467083552\",\"848467071870\"]',\n",
       " '[\"190199392625\"]',\n",
       " '[\"190199220577\",\"190199220638\"]',\n",
       " '[\"887276303116\",\"887276302966\"]',\n",
       " '[\"APLIPHONE6GRAY16\",\"190198786043\",\"888462734868\"]',\n",
       " '[\"APLIPHONE6GRAY16\",\"190198790392\",\"888462734868\"]',\n",
       " '[\"APLIPHONE6GRAY16\",\"190198790439\",\"888462734868\"]',\n",
       " '[\"APLIPHXGRAY64N1X\",\"APLIPHXSIL64N1X\"]',\n",
       " '[\"190199220539\",\"190199220638\"]',\n",
       " '[\"190198453655\",\"APLIPHXGRAY64N1X\"]',\n",
       " '[\"190198786067\",\"190198456700\"]',\n",
       " '[\"190198786029\",\"848467076554\"]',\n",
       " '[\"729198918798\",\"729198634179\"]',\n",
       " '[\"888462501965\"]',\n",
       " '[\"729198814571\"]',\n",
       " '[\"190198776440\",\"190198776488\"]',\n",
       " '[\"887276321851\",\"887276311968\"]',\n",
       " '[\"190198776587\",\"190198776501\"]',\n",
       " '[\"190199220577\",\"190199220591\"]',\n",
       " '[\"887276348490\",\"729198814687\",\"846127185479\"]',\n",
       " '[\"190199380790\",\"190199380790\",\"190199380790\",\"190199380790\"]',\n",
       " '[\"APLIPHONE6GRAY64\",\"APLIPHONE6SILV16\",\"APLIPHONE6GOLD16\"]',\n",
       " '[\"190198451781\",\"190198058591\",\"APLIPH6PLUSGLD16\"]',\n",
       " '[\"887276249872\",\"887276249872\",\"887276249872\"]',\n",
       " '[\"887276348490\",\"723755133396\"]',\n",
       " '[\"190199220614\",\"190199220577\"]',\n",
       " '[\"APLIP8PGRAY64N1X\",\"190198453655\",\"848467053876\"]',\n",
       " '[\"887276303116\"]',\n",
       " '[\"190198451736\",\"190198451781\",\"887276326184\"]',\n",
       " '[\"723755133396\",\"888462803960\"]',\n",
       " '[\"APLIPH6SROSE64\",\"190198066473\"]',\n",
       " '[\"190198786104\",\"190198786081\"]',\n",
       " '[\"190198066510\",\"190198066534\",\"190198066473\",\"190198066510\"]',\n",
       " '[\"190198776464\",\"190198776488\"]',\n",
       " '[\"887276302966\",\"660543493310\"]',\n",
       " '[\"190198451835\",\"190198066534\"]',\n",
       " '[\"887276246512\",\"190199220614\",\"887276246512\"]',\n",
       " '[\"190199220539\",\"190199392526\",\"190199392526\"]',\n",
       " '[\"190198451736\",\"190198776426\"]',\n",
       " '[\"190198066558\",\"190198786067\"]',\n",
       " '[\"190198453655\",\"APLIPHONE6SILV16\"]',\n",
       " '[\"887276328027\"]',\n",
       " '[\"190199220751\",\"190199220539\",\"190199220676\"]',\n",
       " '[\"190198451835\",\"888462803939\"]',\n",
       " '[\"190199220614\",\"190198776426\"]',\n",
       " '[\"190198776563\",\"846127180009\",\"848467071993\"]',\n",
       " '[\"APLIPH6SGRAY16\",\"APLIPH6SGRAY16\"]',\n",
       " '[\"190198776426\",\"887276326184\"]',\n",
       " '[\"190198776402\",\"190198790439\",\"888462500586\"]',\n",
       " '[\"190198776525\",\"190198776587\"]',\n",
       " '[\"190198155832\"]',\n",
       " '[\"SEASMG955UOGRY64\",\"887276246512\"]',\n",
       " '[\"SEASMG950UOGRY64\",\"SEASMG960UBLCK64\"]',\n",
       " '[\"190198776563\",\"190198776440\",\"190198776501\"]',\n",
       " '[\"887276363318\"]',\n",
       " '[\"190198066473\",\"190198066473\"]',\n",
       " '[\"190198776402\",\"APLIPHONE6GRAY16\",\"190198155795\"]',\n",
       " '[\"190198066633\",\"190198066558\",\"APLIPH6SGRAY64\"]',\n",
       " '[\"190198776402\",\"190198786067\",\"190199220577\"]',\n",
       " '[\"190198786104\"]',\n",
       " '[\"190198776488\",\"723755019478\"]',\n",
       " '[\"190198790590\"]',\n",
       " '[\"190198066534\",\"190198776501\",\"190198776426\"]',\n",
       " '[\"190198360083\"]',\n",
       " '[\"190198066534\",\"190198062314\"]',\n",
       " '[\"190198155795\",\"190198453655\",\"660543427308\"]',\n",
       " '[\"190198786081\",\"190198456809\"]',\n",
       " '[\"190198066473\",\"190198066473\",\"190198066510\"]',\n",
       " '[\"848467071870\"]',\n",
       " '[\"APLIPH6PLSILV128\"]',\n",
       " '[\"190198456700\",\"APLIPHONE6GRAY16\"]',\n",
       " '[\"190198776402\",\"APLIPHONE6SILV16\"]',\n",
       " '[\"APLIPH8SIL256N1X\",\"APLIPHXSIL256N1X\"]',\n",
       " '[\"190199220775\",\"190199220775\"]',\n",
       " '[\"190198451835\",\"190198451781\"]',\n",
       " '[\"723755019478\",\"190198786067\"]',\n",
       " '[\"887276246512\",\"723755133396\"]',\n",
       " '[\"190198066534\",\"887276246512\"]',\n",
       " '[\"190198542717\",\"190198155856\"]',\n",
       " '[\"723755131187\",\"723755131187\"]',\n",
       " '[\"888462500586\"]',\n",
       " '[\"190199392526\",\"190198066473\",\"190198066534\"]',\n",
       " '[\"190198451736\",\"190198001757\"]',\n",
       " '[\"190199392540\",\"190198776402\"]',\n",
       " '[\"APLIPH6SSILVER64\",\"190198066473\"]',\n",
       " '[\"190198776402\",\"190198451736\"]',\n",
       " '[\"190199220539\",\"190199220539\"]',\n",
       " '[\"190198058591\",\"190198066534\",\"190198066473\",\"APLIPHONE6SILV64\"]',\n",
       " '[\"190199380813\",\"190199380752\"]',\n",
       " '[\"190198058591\",\"190198451781\"]',\n",
       " '[\"APLIPH6PLGRAY128\"]',\n",
       " '[\"190199380790\",\"190199380752\"]',\n",
       " '[\"190199220638\",\"190199220614\",\"190199220591\"]',\n",
       " '[\"652810832687\",\"190198043375\"]',\n",
       " '[\"190198451736\",\"190198451835\",\"190198451835\"]',\n",
       " '[\"723755131187\",\"846127183413\",\"848467071870\"]',\n",
       " '[\"190198291950\"]',\n",
       " '[\"190198790439\",\"190198456700\"]',\n",
       " '[\"887276283197\",\"887276284422\"]',\n",
       " '[\"APLIPHONE6GRAY16\",\"APLIPHONE6GRAY16\"]',\n",
       " '[\"190198066534\",\"APLIPH6SGRAY64\"]',\n",
       " '[\"652810832595\",\"846127184427\"]',\n",
       " '[\"842776114952\"]',\n",
       " '[\"652810830171\",\"652810830621\"]',\n",
       " '[\"652810830171\",\"APLIPH6SPLGRAY64\",\"190198066473\"]',\n",
       " '[\"887276328164\",\"887276246512\",\"887276303116\"]',\n",
       " '[\"723755019478\",\"723755131187\"]',\n",
       " '[\"723755019478\",\"723755019478\",\"723755131187\"]',\n",
       " '[\"190198786081\"]',\n",
       " '[\"190198786029\",\"190198786067\"]',\n",
       " '[\"887276331454\"]',\n",
       " '[\"842776114235\"]',\n",
       " '[\"190198451736\",\"190198451736\",\"190198291998\",\"190198066473\"]',\n",
       " '[\"190198776464\",\"190198776464\"]',\n",
       " '[\"652810832595\",\"652810832595\"]',\n",
       " '[\"846127180023\"]',\n",
       " '[\"190198451835\",\"190198066473\"]',\n",
       " '[\"190199392526\",\"660543511373\"]',\n",
       " '[\"APLIPHONE6GRAY32\",\"190198066619\"]',\n",
       " '[\"190199380851\"]',\n",
       " '[\"190198776747\"]',\n",
       " '[\"190198360083\",\"190198453655\",\"190198043351\"]',\n",
       " '[\"190198786029\",\"APLIPHONE6GOLD16\"]',\n",
       " '[\"190198451736\",\"190198776402\"]',\n",
       " '[\"887276321783\",\"652810830171\"]',\n",
       " '[\"190199380813\",\"190199380813\"]',\n",
       " '[\"APLIPH6PLUSGLD64\",\"190198776600\"]',\n",
       " '[\"190198291950\",\"190198066497\",\"190198066534\"]',\n",
       " '[\"190198066473\",\"652810830621\"]',\n",
       " '[\"APLIPH6SPLGRAY16\"]',\n",
       " '[\"190198066497\",\"190198066497\"]',\n",
       " '[\"190199380752\",\"190199380752\"]',\n",
       " '[\"190198453655\",\"723755131187\"]',\n",
       " '[\"190198456656\",\"190198066558\"]',\n",
       " '[\"191058101303\"]',\n",
       " '[\"190198453655\",\"190198451736\"]',\n",
       " '[\"SEASMN950UBLCK64\",\"SEASMN950UBLCK64\"]',\n",
       " '[\"888462500593\"]',\n",
       " '[\"APLIPH6PLUSGRY64\"]',\n",
       " '[\"723755133396\",\"723755133396\"]',\n",
       " '[\"190198790392\",\"190198776501\"]',\n",
       " '[\"190198001757\"]',\n",
       " '[\"190198066473\",\"190198453709\"]',\n",
       " '[\"190198155856\",\"190198155856\"]',\n",
       " '[\"190198453655\",\"190198453709\"]',\n",
       " '[\"190198066473\",\"660543425793\",\"848467053807\",\"190198155818\"]',\n",
       " '[\"190199380776\",\"190199380776\"]',\n",
       " '[\"190198776501\",\"190198776440\"]',\n",
       " '[\"190198066473\",\"190198451835\"]',\n",
       " '[\"APLIPH8SILV64N1X\"]',\n",
       " '[\"652810830171\",\"652810830171\",\"723755131187\",\"190198451781\"]',\n",
       " '[\"723755019478\",\"723755019478\",\"723755131187\",\"190198451781\"]',\n",
       " '[\"190198776426\",\"190198776402\"]',\n",
       " '[\"190199380776\",\"APLIPHXGRAY64N1X\"]',\n",
       " '[\"887276372266\"]',\n",
       " '[\"190199392687\"]',\n",
       " '[\"190198776624\",\"190198451835\",\"190198001757\"]',\n",
       " '[\"190198790514\"]',\n",
       " '[\"190198786029\",\"190198786029\",\"190198786029\"]',\n",
       " '[\"190199380677\",\"190198066473\"]',\n",
       " '[\"APLIPHONE6GRAY16\",\"190198066619\"]',\n",
       " '[\"190198451736\",\"190198451835\",\"190198451781\"]',\n",
       " '[\"190198776440\",\"190198776426\",\"190198776426\"]',\n",
       " '[\"190198776402\",\"190198776440\",\"190198776426\"]',\n",
       " '[\"190198776440\",\"190198776402\",\"190198776426\"]',\n",
       " '[\"190198776525\",\"190198776488\",\"190198776501\",\"190198776501\"]',\n",
       " '[\"190198456656\",\"APLIPH6SPLGRAY64\"]',\n",
       " '[\"SEASMG960UBLCK64\",\"SEASMG960UPURP64\"]',\n",
       " '[\"190198155856\",\"APLIPHONE6GRAY64\"]',\n",
       " '[\"190198790514\",\"190198790514\"]',\n",
       " '[\"190198291998\",\"190198453709\"]',\n",
       " '[\"190198790552\"]',\n",
       " '[\"887276348490\",\"887276246512\"]',\n",
       " '[\"190198043313\",\"190198066473\"]',\n",
       " '[\"APLIP8PGLD256N1X\"]',\n",
       " '[\"190199380738\",\"190199380691\"]',\n",
       " '[\"190198790552\",\"APLIPH6SSILVER16\"]',\n",
       " '[\"888462500579\",\"190198451781\",\"190198453655\",\"190198453808\"]',\n",
       " '[\"888462803939\",\"888462803946\",\"888462803953\"]',\n",
       " '[\"888462773126\",\"APLIPH6SGRAY64\"]',\n",
       " '[\"190198451835\",\"190198453655\"]',\n",
       " '[\"APLIPHXSIL64N1X\",\"190198451736\"]',\n",
       " '[\"190198776402\",\"190198776501\"]',\n",
       " '[\"887276311968\",\"887276302966\"]',\n",
       " '[\"846127181204\"]',\n",
       " '[\"888462734875\"]',\n",
       " '[\"887276326160\",\"848467083606\"]',\n",
       " '[\"190198776648\",\"190198776563\"]',\n",
       " '[\"190199220737\",\"190199220652\",\"APLIPH6SSILVER64\",\"190198456700\"]',\n",
       " '[\"190198786043\",\"848467071870\"]',\n",
       " '[\"190198776549\",\"190198043313\"]',\n",
       " '[\"190198066473\",\"190198786043\"]',\n",
       " '[\"APLIPHONE6GOLD16\",\"APLIPHONE6GOLD16\",\"APLIPH6SGRAY64\",\"APLIPHONE6GRAY16\"]',\n",
       " '[\"190198786067\",\"190198786067\"]',\n",
       " '[\"190198453709\",\"190198453754\"]',\n",
       " '[\"APLIPHONE6GRAY16\",\"723755019478\"]',\n",
       " '[\"190198776402\",\"190198776426\"]',\n",
       " '[\"190198066473\",\"190198066510\"]',\n",
       " '[\"190198451736\",\"660543425793\"]',\n",
       " '[\"888462803946\",\"190198451736\"]',\n",
       " '[\"652810830171\",\"652810830171\",\"652810830171\"]',\n",
       " '[\"190198453754\",\"190198451781\"]',\n",
       " '[\"APLIPHONE6SILV16\",\"190198456854\"]',\n",
       " '[\"190198776587\",\"190198776488\"]',\n",
       " '[\"190198776402\",\"190198776464\"]',\n",
       " '[\"190198453754\",\"190198453655\"]',\n",
       " '[\"190198066572\",\"190198451736\"]',\n",
       " '[\"887276270463\",\"190198776587\"]',\n",
       " '[\"842978135304\",\"723755131187\",\"846127183413\"]',\n",
       " '[\"190198776402\",\"APLIPHONE6GRAY16\"]',\n",
       " '[\"APLIPHONE6GRAY64\",\"APLIPHONE6GRAY16\"]',\n",
       " '[\"190198790477\",\"190198776440\"]',\n",
       " '[\"190198776488\",\"190198066619\"]',\n",
       " '[\"190198292018\"]',\n",
       " '[\"190198790590\",\"190198786142\"]',\n",
       " '[\"888462803939\",\"190198155795\"]',\n",
       " '[\"190198786142\",\"190198786180\"]',\n",
       " '[\"190198453235\"]',\n",
       " '[\"190198058591\",\"190198058621\",\"888462500579\"]',\n",
       " '[\"SEASMG975UBLK128\"]',\n",
       " '[\"190198776525\",\"190198776525\",\"190198776525\",\"190198776525\"]',\n",
       " '[\"APLIP8PSIL256N1X\",\"APLIPH6SROSE16\"]',\n",
       " '[\"887276331454\",\"848467083552\"]',\n",
       " '[\"APLIPHONE6GRAY64\",\"190198453655\"]',\n",
       " '[\"190198456700\",\"APLIPHONE6SILV16\"]',\n",
       " '[\"190198043313\",\"APLIPH6SSILVER64\",\"190198453853\"]',\n",
       " '[\"APLIPH6SPLSILV64\"]',\n",
       " '[\"190198786043\",\"190198786029\",\"APLIPH6SPLGOLD64\"]',\n",
       " '[\"190198062321\"]',\n",
       " '[\"190198456809\",\"190198776525\"]',\n",
       " '[\"190198453655\",\"190198453655\"]',\n",
       " '[\"190198456656\",\"190198066473\",\"190198066473\"]',\n",
       " '[\"652810830171\",\"190198776525\"]',\n",
       " '[\"190198058621\",\"723755133396\"]',\n",
       " '[\"APLIPH8SILV64N1X\",\"APLIP8GRAY64N1X\"]',\n",
       " '[\"190199380790\",\"190198764690\",\"190198764690\"]',\n",
       " '[\"190199380714\",\"190199380714\"]',\n",
       " '[\"190198786180\",\"190198786166\"]',\n",
       " '[\"190199220676\",\"190199220676\"]',\n",
       " '[\"APLIP8PGRY256N1X\"]',\n",
       " '[\"190198451835\",\"190198451835\",\"190198066596\"]',\n",
       " '[\"190199220652\",\"190199220737\",\"190199220690\",\"190199392663\"]',\n",
       " '[\"190198155795\",\"190198155856\"]',\n",
       " '[\"190198066534\",\"190198066473\"]',\n",
       " '[\"190198066473\",\"190198453754\"]',\n",
       " '[\"190198790392\",\"190198066473\"]',\n",
       " '[\"190199220539\",\"190199220577\",\"190199220553\"]',\n",
       " '[\"190199380790\",\"190199098428\"]',\n",
       " '[\"SEASMG960UBLCK64\"]',\n",
       " '[\"190198451781\",\"190198451736\"]',\n",
       " '[\"APLIPH6PLUSGLD64\",\"APLIPH6PLUSGRY64\"]',\n",
       " '[\"190199380752\",\"190199380752\",\"190198776440\",\"190198776426\"]',\n",
       " '[\"190199392601\",\"190199392601\",\"190198776440\"]',\n",
       " '[\"APLIPH6SGRAY64\",\"887276246512\",\"190198451835\"]',\n",
       " '[\"190198066510\",\"190198066497\"]',\n",
       " '[\"190198043399\"]',\n",
       " '[\"190198790514\",\"190198776501\",\"190198776488\",\"190198776426\"]',\n",
       " '[\"190199220850\"]',\n",
       " '[\"190198155795\",\"190198043313\"]',\n",
       " '[\"190198155832\",\"APLIPH6PLUSGLD16\"]',\n",
       " '[\"SEASMN950UBLCK64\",\"842776114242\"]',\n",
       " '[\"APLIPH8PGLD64N1X\"]',\n",
       " '[\"887276363332\",\"887276363332\"]',\n",
       " '[\"190198453334\"]',\n",
       " '[\"190198066534\",\"190198155795\"]',\n",
       " '[\"APLIPHONE6SILV16\",\"190198058621\",\"190198066534\",\"190198776402\"]',\n",
       " '[\"190198776501\",\"846127181198\"]',\n",
       " '[\"190198776426\",\"190198776440\"]',\n",
       " '[\"190198776501\",\"190198776440\",\"190198776402\"]',\n",
       " '[\"190199220577\",\"190198776402\",\"190198776440\",\"190198776501\"]',\n",
       " '[\"190198451736\",\"848467071870\"]',\n",
       " '[\"190199392540\",\"190198043351\"]',\n",
       " '[\"190198453853\"]',\n",
       " '[\"190198066596\",\"190199392649\"]',\n",
       " '[\"190198776501\",\"723755019478\",\"723755019478\",\"723755019478\"]',\n",
       " '[\"723755019478\",\"723755019478\",\"723755019478\",\"723755019478\"]',\n",
       " '[\"SEASMN960UBLU128\"]',\n",
       " '[\"887276249872\",\"723755131187\"]',\n",
       " '[\"APLIPHONE6GOLD32\"]',\n",
       " '[\"190198776440\",\"APLIPH6SPLGOLD16\",\"190198776488\"]',\n",
       " '[\"190198456854\",\"APLIPH6SSILVER64\"]',\n",
       " '[\"190198066534\",\"APLIPHONE6SILV64\"]',\n",
       " '[\"APLIPHONE6GRAY16\",\"APLIPHONE6GOLD16\"]',\n",
       " '[\"190198776600\",\"660543470625\"]',\n",
       " '[\"887276246512\",\"190198776501\"]',\n",
       " '[\"SEASMN950UBLCK64\",\"SEASMG975UBLU128\",\"887276363332\"]',\n",
       " '[\"723755131187\",\"887276246512\"]',\n",
       " '[\"190198043313\",\"190198776549\"]',\n",
       " '[\"190199220799\"]',\n",
       " '[\"APLIPH6SROSE64\",\"190198066633\"]',\n",
       " '[\"190198292032\",\"190198058621\",\"190198776600\"]',\n",
       " '[\"887276321851\",\"848467083552\"]',\n",
       " '[\"887276311968\",\"848467083552\"]',\n",
       " '[\"190198066534\",\"887276204536\"]',\n",
       " '[\"190198155856\",\"190198453655\"]',\n",
       " '[\"APLIPH6SGRAY16\",\"190198453334\"]',\n",
       " '[\"190198786067\",\"190198786067\",\"190198776440\"]',\n",
       " '[\"190198066473\",\"190198066534\",\"190198066534\"]',\n",
       " '[\"887276246512\",\"887276246512\",\"190198776426\"]',\n",
       " '[\"190198776488\",\"190198776402\"]',\n",
       " '[\"190198776402\",\"APLIPH8GOLD64N1X\"]',\n",
       " '[\"190198786029\",\"190198786043\"]',\n",
       " '[\"190199220676\",\"190199220652\"]',\n",
       " '[\"723755019478\",\"191058068125\"]',\n",
       " '[\"190198786043\",\"190198786067\"]',\n",
       " '[\"729198440893\"]',\n",
       " '[\"190198453808\",\"888462773126\"]',\n",
       " '[\"190198776488\",\"190198776440\",\"190198776488\"]',\n",
       " '[\"652810830621\",\"723755019478\",\"887276246512\"]',\n",
       " '[\"652810830621\",\"652810830621\",\"723755019478\",\"723755019478\",\"723755019478\"]',\n",
       " '[\"723755019478\",\"652810830621\",\"723755019478\",\"652810830621\",\"723755019478\"]',\n",
       " '[\"APLIPH6SGRAY16\",\"APLIPH6SPLROSE16\"]',\n",
       " '[\"190199220577\",\"190198776501\"]',\n",
       " '[\"APLIPHONE6GOLD16\",\"190198066534\",\"652810832595\"]',\n",
       " '[\"190199220539\",\"190199220690\",\"190199220539\"]',\n",
       " '[\"SEASMN960UBLU512\"]',\n",
       " '[\"190199220539\",\"190199380790\"]',\n",
       " '[\"723755133396\",\"190199220614\"]',\n",
       " '[\"888462734868\",\"888462803946\"]',\n",
       " '[\"190198776440\",\"190198776501\",\"190198776402\"]',\n",
       " '[\"190198776440\",\"190198776501\",\"190198776426\"]',\n",
       " '[\"190198776624\",\"190198776600\"]',\n",
       " '[\"190199392540\",\"190198066473\"]',\n",
       " '[\"190199220812\",\"190199380776\"]',\n",
       " '[\"190199380837\",\"190199098428\",\"729198431457\",\"660543512486\",\"840472240616\"]',\n",
       " '[\"190199380875\",\"190199098428\",\"729198733414\"]',\n",
       " '[\"190198066473\",\"APLIPH6SGRAY64\"]',\n",
       " '[\"190198786067\",\"887276302966\",\"887276302966\",\"887276348490\",\"887276311968\"]',\n",
       " '[\"190198453655\",\"190198066619\",\"190198058607\"]',\n",
       " '[\"660543424949\"]',\n",
       " '[\"190198776549\",\"190198776662\"]',\n",
       " '[\"190198776525\",\"190198058591\"]',\n",
       " '[\"190198786081\",\"APLIPHXSIL64N1X\"]',\n",
       " '[\"190199380691\",\"190199392540\"]',\n",
       " '[\"190198155856\",\"190198066510\"]',\n",
       " '[\"190198451736\",\"APLIPHONE6GRAY64\"]',\n",
       " '[\"APLIPHONE6GLD128\"]',\n",
       " '[\"190199220737\",\"190198066633\"]',\n",
       " '[\"APLIP8PGRAY64N1X\",\"APLIP8GRAY64N1X\"]',\n",
       " '[\"190198790675\",\"190198001757\"]',\n",
       " '[\"190198453808\",\"190198043412\"]',\n",
       " '[\"190198451781\",\"190198066473\",\"190198451835\"]',\n",
       " '[\"190198451835\",\"APLIPH6SPLROSE64\",\"190198451781\"]',\n",
       " '[\"190198001757\",\"190198776525\"]',\n",
       " '[\"190198066510\",\"190198066558\"]',\n",
       " '[\"887276230962\"]',\n",
       " '[\"190199380752\",\"190198786081\"]',\n",
       " '[\"190198451736\",\"190198451781\"]',\n",
       " '[\"190198786180\",\"190198786142\"]',\n",
       " '[\"888462773133\",\"888462803960\"]',\n",
       " '[\"190198776563\",\"660543471653\"]',\n",
       " '[\"APLIP8GRAY256N1X\"]',\n",
       " '[\"190198776563\",\"190198776525\",\"190198776525\",\"190198776525\"]',\n",
       " '[\"887276326184\",\"190198066497\"]',\n",
       " '[\"190198451781\",\"190198451736\",\"190198451781\",\"190198451736\"]',\n",
       " '[\"190198043351\",\"190198066619\"]',\n",
       " '[\"190199392588\",\"190199392564\"]',\n",
       " '[\"APLIPHONE6GRAY64\",\"190198776563\",\"190198292070\"]',\n",
       " '[\"190198790392\",\"652810830621\",\"723755019478\"]',\n",
       " '[\"190198066497\",\"190198066473\"]',\n",
       " '[\"190198790392\",\"190198790477\"]',\n",
       " '[\"190199220539\",\"190199220553\"]',\n",
       " '[\"190198776525\",\"723755131187\"]',\n",
       " '[\"190198066473\",\"888462803946\"]',\n",
       " '[\"190198453754\",\"190198453709\"]',\n",
       " '[\"190198066534\",\"190198066497\"]',\n",
       " '[\"190198066558\",\"190198453235\"]',\n",
       " '[\"190198066473\",\"190198066473\",\"190198066473\"]',\n",
       " '[\"723755133396\",\"846127188609\",\"190198066473\",\"190198066534\"]',\n",
       " '[\"190198453808\",\"190198776464\",\"190198155856\",\"190198155856\",\"190198155795\"]',\n",
       " '[\"190198786029\",\"652810832595\",\"652810832595\",\"190198453808\",\"190198776464\"]',\n",
       " '[\"190199380790\",\"190199380837\"]',\n",
       " '[\"190199220539\",\"190199220614\",\"190199220638\",\"190199220539\"]',\n",
       " '[\"APLIPH6SPLROSE16\"]',\n",
       " '[\"190198043313\",\"190198155832\"]',\n",
       " '[\"887276348490\",\"887276348490\",\"887276348490\"]',\n",
       " '[\"190199220690\",\"190199220690\"]',\n",
       " '[\"190198155856\",\"190198043399\"]',\n",
       " '[\"190198066633\",\"190198043351\"]',\n",
       " '[\"887276311968\",\"190198354426\",\"723755019478\"]',\n",
       " '[\"190198776549\",\"190198776525\",\"190198066473\"]',\n",
       " '[\"190198066558\",\"190198062314\",\"190198066633\",\"190198066572\"]',\n",
       " '[\"190198453709\",\"190198453709\",\"190198453709\",\"190198453709\"]',\n",
       " '[\"887276246512\",\"652810832595\"]',\n",
       " '[\"APLIPH8PSIL64N1X\",\"APLIPH8PSIL64N1X\"]',\n",
       " '[\"887276250274\",\"723755019478\"]',\n",
       " '[\"190198786128\",\"190198790637\"]',\n",
       " '[\"190199380790\",\"190199380790\"]',\n",
       " '[\"190198786067\",\"190198786029\"]',\n",
       " '[\"APLIPHXGRAY64N1X\"]',\n",
       " '[\"190198451835\",\"848467053807\"]',\n",
       " '[\"190198786067\",\"887276302973\"]',\n",
       " '[\"190198744012\"]',\n",
       " '[\"190198776563\",\"190198776563\"]',\n",
       " '[\"190199220539\",\"190199392526\",\"190199287747\",\"190199285446\"]',\n",
       " '[\"190199392588\",\"190199380677\"]',\n",
       " '[\"190198066473\",\"190198776402\",\"887276348490\",\"190198066497\",\"190198155795\"]',\n",
       " '[\"723755131187\",\"848467085617\"]',\n",
       " '[\"846127185479\"]',\n",
       " '[\"APLIPHONE6GRAY16\",\"190198453235\"]',\n",
       " '[\"APLIP8PGLD256N1X\",\"APLIPHXGRY256N1X\"]',\n",
       " '[\"887276246512\",\"887276246512\",\"887276246512\"]',\n",
       " '[\"190198786128\",\"190198786081\"]',\n",
       " '[\"190198066497\",\"APLIPH6SSILVER16\"]',\n",
       " '[\"APLIPHONE6GRY128\",\"APLIPH6SSILVER64\"]',\n",
       " '[\"190198354426\",\"190198776624\"]',\n",
       " '[\"723755019478\",\"723755019478\",\"190198776464\",\"190198776464\"]',\n",
       " '[\"190198354891\"]',\n",
       " '[\"APLIPH6SPLGOLD64\",\"APLIPH6SPLROSE64\"]',\n",
       " '[\"723755131187\",\"190198066473\"]',\n",
       " '[\"190198776501\",\"190198058591\",\"190198776426\"]',\n",
       " '[\"190198776464\",\"190198776440\",\"190198451835\"]',\n",
       " '[\"APLIPHONE6GRY128\",\"190198790439\"]',\n",
       " '[\"190198451736\",\"190198451736\",\"190198066473\"]',\n",
       " '[\"190198744012\",\"190198786029\",\"888462773133\"]',\n",
       " '[\"190199392748\"]',\n",
       " '[\"190198066473\",\"723755133396\"]',\n",
       " '[\"190199392526\",\"190198776426\",\"190198066534\",\"190198066473\"]',\n",
       " '[\"190198786067\",\"190198155795\"]',\n",
       " '[\"190198786081\",\"190198776624\"]',\n",
       " '[\"842776114945\"]',\n",
       " '[\"190198776402\",\"190198155795\"]',\n",
       " '[\"190198776624\",\"190198776440\",\"190198451736\",\"190198291936\"]',\n",
       " '[\"190198066534\",\"190198453754\"]',\n",
       " '[\"190198790477\",\"190198456656\"]',\n",
       " '[\"APLIPH6SSILVER64\",\"APLIPH6SGRAY64\"]',\n",
       " '[\"APLIPHXSIL256N1X\",\"190198776488\"]',\n",
       " '[\"190198786180\",\"190198786128\"]',\n",
       " '[\"APLIPH6SROSE64\",\"190198043313\"]',\n",
       " '[\"190198043375\",\"190198456809\"]',\n",
       " '[\"SEASMN950UBLCK64\"]',\n",
       " '[\"190198066473\",\"190198058591\"]',\n",
       " '[\"190198456656\",\"190198786067\",\"190198456656\"]',\n",
       " '[\"888462500609\",\"888462500593\"]',\n",
       " '[\"190199392564\",\"190198776525\"]',\n",
       " '[\"887276346847\",\"190198058621\"]',\n",
       " '[\"190198066473\",\"190198155795\"]',\n",
       " '[\"190199380677\",\"190199380677\"]',\n",
       " '[\"190198451736\",\"190198776488\"]',\n",
       " '[\"190198043436\",\"652810830171\"]',\n",
       " '[\"887276249810\",\"191058061614\"]',\n",
       " '[\"887276310299\",\"660543492283\",\"848467083545\"]',\n",
       " '[\"190199220553\",\"190199220553\"]',\n",
       " '[\"840472240555\"]',\n",
       " '[\"APLIPHONE6SILV16\",\"190198066619\"]',\n",
       " '[\"190198776402\",\"190198776426\",\"723755131187\"]',\n",
       " '[\"190198066473\",\"660543426271\"]',\n",
       " '[\"APLIPHONE6SILV16\",\"190198066497\"]',\n",
       " '[\"190198776426\",\"190198776426\",\"190198066473\"]',\n",
       " '[\"190199392649\",\"190199392601\",\"190198776501\"]',\n",
       " '[\"887276246512\",\"723755019478\"]',\n",
       " '[\"190199220614\",\"190199220539\"]',\n",
       " '[\"190198058607\"]',\n",
       " '[\"APLIPH6PLUSSIL64\",\"190198453709\"]',\n",
       " '[\"190198776624\",\"842776114945\"]',\n",
       " '[\"190198776686\",\"846127180009\"]',\n",
       " '[\"190198776563\",\"846127181204\"]',\n",
       " '[\"190198776440\",\"190198776464\"]',\n",
       " '[\"190198786067\",\"190198776464\"]',\n",
       " '[\"723755131187\",\"723755019478\"]',\n",
       " '[\"190199293175\"]',\n",
       " '[\"887276321851\",\"660543492986\"]',\n",
       " '[\"190198291974\",\"190198291936\"]',\n",
       " '[\"190198291936\",\"190198291936\"]',\n",
       " '[\"190198790392\",\"190198155795\"]',\n",
       " '[\"887276248981\",\"887276248981\"]',\n",
       " '[\"190198062345\"]',\n",
       " '[\"APLIPHONE6GRY128\",\"190198066558\"]',\n",
       " '[\"887276204185\"]',\n",
       " '[\"190199392649\",\"887276302966\"]',\n",
       " '[\"887276250243\"]',\n",
       " '[\"APLIPHONE6GRAY32\",\"APLIPHONE6GRAY32\"]',\n",
       " '[\"190198043450\"]',\n",
       " '[\"APLIPHONE6SILV16\",\"190198451835\"]',\n",
       " '[\"190199220539\",\"190199220591\"]',\n",
       " '[\"190199380714\",\"190199220539\"]',\n",
       " '[\"887276226897\"]',\n",
       " '[\"APLIPH6PLGOLD128\"]',\n",
       " '[\"190198776464\",\"190198776501\"]',\n",
       " '[\"190198058591\",\"190198155856\"]',\n",
       " '[\"190199220638\",\"190199220553\",\"190199220539\",\"190198066473\"]',\n",
       " '[\"190199220812\",\"190199220652\"]',\n",
       " '[\"APLIPH6PLUSGRY64\",\"888462734875\",\"190198453754\"]',\n",
       " '[\"190199098428\",\"190198764690\"]',\n",
       " '[\"723755133396\",\"723755133396\",\"652810832687\"]',\n",
       " '[\"848467083552\"]',\n",
       " '[\"848467085617\",\"729198634179\",\"729198634179\"]',\n",
       " '[\"190198066473\",\"190198066473\",\"190198066534\"]',\n",
       " '[\"723755131187\",\"652810830171\"]',\n",
       " '[\"190198776525\",\"190198776549\",\"846127181198\"]',\n",
       " '[\"190199220676\",\"660543511960\"]',\n",
       " '[\"190198790637\",\"846127175975\"]',\n",
       " '[\"190198786043\",\"190198066534\"]',\n",
       " '[\"APLIPHONE6GOLD64\",\"190198043313\"]',\n",
       " '[\"SEASMG965UBLCK64\"]',\n",
       " '[\"190198043412\"]',\n",
       " '[\"APLIPH6SPLGRAY64\",\"APLIPHONE6SILV16\"]',\n",
       " '[\"887276226897\",\"887276226897\",\"190198451835\",\"723755131187\"]',\n",
       " '[\"190198786067\",\"887276321851\"]',\n",
       " '[\"887276311968\",\"887276311968\",\"887276302966\"]',\n",
       " '[\"887276302966\",\"887276311968\",\"887276311968\"]',\n",
       " '[\"887276310299\",\"887276302973\"]',\n",
       " '[\"190198776426\",\"190198453655\",\"190198456656\"]',\n",
       " '[\"190198786029\",\"887276321783\"]',\n",
       " '[\"190198456809\",\"190198776563\"]',\n",
       " '[\"APLIPH6SGOLD16\",\"APLIPH6SGRAY16\"]',\n",
       " '[\"190198456809\",\"190198776600\",\"APLIPHONE6SILV64\"]',\n",
       " '[\"190198066534\",\"191058034809\"]',\n",
       " '[\"887276321912\",\"887276321783\"]',\n",
       " '[\"190198776402\",\"190198776426\",\"190198776402\"]',\n",
       " '[\"190198043399\",\"190198066572\"]',\n",
       " '[\"APLIPH6SPLGRAY16\",\"190198354426\"]',\n",
       " '[\"887276348490\",\"190198456700\"]',\n",
       " '[\"888462734868\",\"190198066534\"]',\n",
       " '[\"888462803946\"]',\n",
       " '[\"190198776488\",\"846127181198\"]',\n",
       " '[\"723755019478\",\"887276246512\",\"887276246512\"]',\n",
       " '[\"190198451736\",\"887276311968\",\"190198066534\",\"190198066633\"]',\n",
       " '[\"190199220690\",\"190198066473\",\"190199220713\"]',\n",
       " '[\"190199392601\",\"190198453655\"]',\n",
       " '[\"190198453655\",\"887276246512\"]',\n",
       " '[\"190199392663\",\"190198066534\",\"190199392649\"]',\n",
       " '[\"723755019478\",\"190198058591\"]',\n",
       " '[\"190198786067\",\"190198155856\"]',\n",
       " '[\"190198058591\",\"190198066473\"]',\n",
       " '[\"SEASMN950UOGRY64\"]',\n",
       " '[\"190198776440\",\"190198066558\",\"190198066633\",\"190198451736\"]',\n",
       " '[\"190198776488\",\"190198066558\",\"190198451736\",\"190198066633\"]',\n",
       " '[\"190199380677\",\"887276328027\"]',\n",
       " '[\"190199392526\",\"190199220676\",\"190199220553\",\"887276328027\",\"190199220690\"]',\n",
       " '[\"190198066534\",\"190198066596\"]',\n",
       " '[\"842978135083\"]',\n",
       " '[\"190198043337\",\"190198776440\",\"APLIPH6SSILVER64\",\"190198451835\"]',\n",
       " '[\"APLIPHONE6GRAY16\",\"APLIPHONE6SILV16\",\"190198066473\",\"190198456656\",\"190199380714\"]',\n",
       " '[\"190198456854\",\"190198066534\"]',\n",
       " '[\"190198453907\",\"190198066671\"]',\n",
       " '[\"APLIPH6SPLGRAY64\",\"190198043375\"]',\n",
       " '[\"SEASMG965UBLUE64\",\"SEASMG965UBLCK64\"]',\n",
       " '[\"190198043375\",\"887276326184\",\"723755131187\"]',\n",
       " '[\"APLIPH6SGRAY64\",\"190198776402\"]',\n",
       " '[\"190198786029\",\"190198776525\"]',\n",
       " '[\"660543471653\"]',\n",
       " '[\"190198776600\",\"190198776587\"]',\n",
       " '[\"190198456656\",\"APLIPH6SGRAY16\"]',\n",
       " '[\"190199220539\",\"190199220614\"]',\n",
       " '[\"190199380776\",\"190199380738\"]',\n",
       " '[\"190198062338\"]',\n",
       " '[\"887276348490\",\"846127185479\"]',\n",
       " '[\"887276302973\",\"887276246512\"]',\n",
       " '[\"887276246512\",\"887276302973\"]',\n",
       " '[\"190198451736\",\"APLIPH6SGOLD64\"]',\n",
       " '[\"888462734875\",\"190198066473\"]',\n",
       " '[\"887276284422\"]',\n",
       " '[\"APLIPHONE6SILV16\",\"190198451736\"]',\n",
       " '[\"888462501965\",\"APLIPH6SPLROSE64\"]',\n",
       " '[\"190198776600\",\"723755131187\",\"APLIPH8GLD256N1X\"]',\n",
       " '[\"887276328164\",\"887276303116\"]',\n",
       " '[\"190199220737\",\"190199220737\"]',\n",
       " '[\"SEASMG950USILV64\"]',\n",
       " '[\"190199380714\",\"846127186087\"]',\n",
       " '[\"190198058614\",\"190198291936\",\"190198066497\"]',\n",
       " '[\"887276346847\",\"887276302966\"]',\n",
       " '[\"190199392526\",\"190199392526\"]',\n",
       " '[\"887276302973\",\"887276310299\",\"190198043399\"]',\n",
       " '[\"190198066473\",\"190198066473\",\"190198066534\",\"190198066534\"]',\n",
       " '[\"190198291998\",\"190198291936\"]',\n",
       " '[\"887276246512\",\"723755019478\",\"190198062345\",\"888462803960\"]',\n",
       " '[\"190198776426\",\"APLIPH6SPLGOLD64\"]',\n",
       " '[\"190198066596\",\"190198066558\"]',\n",
       " '[\"888462500579\",\"190198776549\"]',\n",
       " '[\"190199392588\",\"190199392564\",\"190199392540\"]',\n",
       " '[\"723755133396\",\"652810832687\"]',\n",
       " '[\"190198453754\",\"848467053876\"]',\n",
       " '[\"190199380837\",\"190199098428\",\"660543512585\",\"190199380776\",\"190198764690\",\"660543511977\"]',\n",
       " '[\"190198776501\",\"848467076929\",\"190198066558\",\"190198043375\"]',\n",
       " '[\"887276363332\",\"660543509110\"]',\n",
       " '[\"190198066619\",\"190198043313\",\"888462500579\",\"190198451781\"]',\n",
       " '[\"190198043375\",\"190198066510\"]',\n",
       " '[\"190198451736\",\"190198291936\"]',\n",
       " '[\"190198291936\",\"190198451736\",\"190198066473\"]',\n",
       " '[\"190198291936\",\"190198451736\",\"190198451736\"]',\n",
       " '[\"190198291936\",\"190198456700\"]',\n",
       " '[\"190198776464\",\"723755019478\"]',\n",
       " '[\"887276328027\",\"887276302973\"]',\n",
       " '[\"190199392526\",\"888462803960\"]',\n",
       " '[\"842776114969\",\"887276348490\"]',\n",
       " '[\"190198745965\"]',\n",
       " '[\"190198786029\",\"846127181211\"]',\n",
       " '[\"190198451835\",\"190198451736\",\"190198066596\",\"190198066510\"]',\n",
       " '[\"190199220676\",\"846127185912\"]',\n",
       " '[\"190199392649\",\"846127185738\"]',\n",
       " '[\"846127185738\"]',\n",
       " '[\"190198066633\",\"190198066619\"]',\n",
       " '[\"APLIPHONE6GRAY16\",\"190198453655\"]',\n",
       " '[\"190198066473\",\"190198453235\"]',\n",
       " '[\"190198066497\",\"190198043412\"]',\n",
       " '[\"190198776402\",\"190198451781\"]',\n",
       " '[\"190198776402\",\"190198066473\"]',\n",
       " '[\"190198453709\",\"190198453754\",\"190198066558\",\"190198453754\"]',\n",
       " '[\"190198451781\",\"190198776563\",\"190198451736\",\"190198776402\"]',\n",
       " '[\"190198453754\",\"190198155856\"]',\n",
       " '[\"190198786029\",\"190198786043\",\"190198786043\"]',\n",
       " '[\"190199220812\",\"190199220850\"]',\n",
       " '[\"190198066510\",\"190198291974\"]',\n",
       " '[\"190198451736\",\"190198066473\"]',\n",
       " '[\"190198066534\",\"190198066534\"]',\n",
       " '[\"APLIPHONE6GRAY32\",\"190198062314\",\"190198058591\"]',\n",
       " '[\"887276321783\",\"887276348490\"]',\n",
       " '[\"APLIPH6SROSE16\",\"190198066534\"]',\n",
       " '[\"190198453709\",\"190198155795\"]',\n",
       " '[\"190198776488\",\"190198776464\"]',\n",
       " '[\"190198776426\",\"190198776464\"]',\n",
       " '[\"887276367071\",\"887276348490\"]',\n",
       " '[\"887276321851\",\"190198786067\"]',\n",
       " '[\"190198066473\",\"190198776501\",\"190198291936\"]',\n",
       " '[\"SEASMG965UBLUE64\"]',\n",
       " '[\"887276302966\",\"887276311968\"]',\n",
       " '[\"190198066657\"]',\n",
       " '[\"190199220614\",\"190199220591\"]',\n",
       " '[\"887276321783\",\"723755131187\",\"723755131187\"]',\n",
       " '[\"APLIPH6SGRAY64\",\"190198786081\"]',\n",
       " '[\"190199220652\",\"190199220751\"]',\n",
       " '[\"190198776549\",\"190198776624\"]',\n",
       " ...]"
      ]
     },
     "execution_count": 204,
     "metadata": {},
     "output_type": "execute_result"
    }
   ],
   "source": [
    "sku_list"
   ]
  },
  {
   "cell_type": "markdown",
   "metadata": {},
   "source": [
    "Take an inventory of all devices. Hopefully, this is full list. Otherwise, trouble down the road."
   ]
  },
  {
   "cell_type": "code",
   "execution_count": 205,
   "metadata": {},
   "outputs": [],
   "source": [
    "\n",
    "def split_sku(sku_string):\n",
    "#     print('sku_string={}'.format(sku_string))\n",
    "    skus = [np.nan] * 9\n",
    "#     sku_2 = np.nan\n",
    "#     sku_3 = np.nan\n",
    "#     sku_4 = np.nan\n",
    "#     sku_5 = np.nan\n",
    "    truncated_string = sku_string[1:-1]\n",
    "#     print('truncated_string={}'.format(truncated_string))\n",
    "    sku_array = truncated_string.split(',')\n",
    "    no_skus = len(sku_array)\n",
    "    i = 0\n",
    "    for sku in sku_array:\n",
    "#         print('skus len={}'.format(len(skus)))\n",
    "#         print('i = {}'.format(i))\n",
    "        sku = sku.replace(\"\\\"\", \"\")\n",
    "        try:\n",
    "#             print('sku={}'.format(sku))\n",
    "#             skus[i] = sku\n",
    "            all_skus.add(sku)\n",
    "        except Exception as e:\n",
    "            print('sku_string={}'.format(sku_string))\n",
    "            print(\"I/O error({})\".format(e))\n",
    "        i += 1\n",
    "#         if i > 3:\n",
    "#             break\n",
    "        \n",
    "#     return pd.Series([skus[0], skus[1], skus[2], skus[3], skus[4]],index=['SKU_1','SKU_2','SKU_3','SKU_4','SKU_5'])\n"
   ]
  },
  {
   "cell_type": "code",
   "execution_count": 206,
   "metadata": {},
   "outputs": [],
   "source": [
    "all_skus = set()\n",
    "\n",
    "for row in order_category_df.iterrows():\n",
    "#     print(row[1])\n",
    "#     print(row[1]['SKU'])\n",
    "    split_sku(row[1]['SKU'])"
   ]
  },
  {
   "cell_type": "code",
   "execution_count": 207,
   "metadata": {},
   "outputs": [
    {
     "data": {
      "text/plain": [
       "609"
      ]
     },
     "execution_count": 207,
     "metadata": {},
     "output_type": "execute_result"
    }
   ],
   "source": [
    "len(all_skus)"
   ]
  },
  {
   "cell_type": "markdown",
   "metadata": {},
   "source": [
    "Create a map that gives each device an unique index"
   ]
  },
  {
   "cell_type": "code",
   "execution_count": 208,
   "metadata": {},
   "outputs": [],
   "source": [
    "# create dictionary to map index for the devices\n",
    "device_map = {}\n",
    "index = 1          # reserve 0 for nan entries\n",
    "for device in all_skus:\n",
    "    device_map[device] = index\n",
    "    index += 1"
   ]
  },
  {
   "cell_type": "code",
   "execution_count": 209,
   "metadata": {},
   "outputs": [
    {
     "data": {
      "text/plain": [
       "609"
      ]
     },
     "execution_count": 209,
     "metadata": {},
     "output_type": "execute_result"
    }
   ],
   "source": [
    "device_count = len(device_map)\n",
    "device_count"
   ]
  },
  {
   "cell_type": "code",
   "execution_count": 210,
   "metadata": {},
   "outputs": [
    {
     "data": {
      "text/plain": [
       "140"
      ]
     },
     "execution_count": 210,
     "metadata": {},
     "output_type": "execute_result"
    }
   ],
   "source": [
    "device_map['846127180283']       # check a sample"
   ]
  },
  {
   "cell_type": "markdown",
   "metadata": {},
   "source": [
    "This encoding method assigns the value 100 to each device ordered, and add a value 10 if it is BYOD\n",
    "The exact value is arbitrary and will not have any bearing on the final embedded value"
   ]
  },
  {
   "cell_type": "code",
   "execution_count": 211,
   "metadata": {},
   "outputs": [],
   "source": [
    "ACTIVE = 100\n",
    "BYOD = 10\n",
    "\n",
    "# def generate_device_vector(row):\n",
    "def generate_device_vector(sku_string, byod_string):\n",
    "#     print('row = {}'.format(row))\n",
    "#     print('sku_string={}'.format(sku_string))\n",
    "#     print('byod_string={}'.format(byod_string))\n",
    "    SKU_vector = [0] * (device_count + 1)\n",
    "\n",
    "    truncated_string = sku_string[1:-1]\n",
    "# #     print('truncated_string={}'.format(truncated_string))\n",
    "    sku_array = truncated_string.split(',')\n",
    "    truncated_byod_string = byod_string[1:-1]\n",
    "    byod_array = truncated_byod_string.split(',')\n",
    "#     no_skus = len(sku_array)\n",
    "    i = 0\n",
    "    for sku in sku_array:\n",
    "# #         print('skus len={}'.format(len(skus)))\n",
    "# #         print('i = {}'.format(i))\n",
    "        sku = sku.replace(\"\\\"\", \"\")\n",
    "        byod = byod_array[i].replace(\"\\\"\", \"\").replace(\"''\", \"\")\n",
    "        try:\n",
    "#             print('sku={}'.format(sku))\n",
    "#             print('byod={}'.format(byod))\n",
    "            device_index = device_map[sku]\n",
    "            num_rep = 100         \n",
    "            if byod.lower() == 'y':\n",
    "#                 print('found byod')\n",
    "                num_rep += 10     # if byod, add 10\n",
    "#             print('num_rep={}'.format(num_rep))\n",
    "            SKU_vector[device_index] = num_rep\n",
    "        except Exception as e:\n",
    "            print('sku_string={}'.format(sku_string))\n",
    "            print(\"I/O error({})\".format(e))\n",
    "        i += 1\n",
    "#         if i > 3:\n",
    "#             break\n",
    "        \n",
    "    return SKU_vector\n",
    "    "
   ]
  },
  {
   "cell_type": "code",
   "execution_count": 212,
   "metadata": {},
   "outputs": [],
   "source": [
    "# create the vector for devices\n",
    "# I will use dimension 20\n",
    "# active devices is 100\n",
    "# byod is 10\n",
    "order_category_df['SKU_vector'] = order_category_df.apply(lambda x: generate_device_vector(x['SKU'], x['BYOD_INDICATOR']), axis=1)"
   ]
  },
  {
   "cell_type": "code",
   "execution_count": 213,
   "metadata": {},
   "outputs": [
    {
     "data": {
      "text/plain": [
       "{'190199220652': 1,\n",
       " '190199380837': 2,\n",
       " 'APLIP8PGLD256N1X': 3,\n",
       " 'SEASMG960UPUR128': 4,\n",
       " 'APLIP8PRED256N1X': 5,\n",
       " '190198776501': 6,\n",
       " '660543513506': 7,\n",
       " '887276284392': 8,\n",
       " 'APLIPH6SPLROSE64': 9,\n",
       " '660543460480': 10,\n",
       " 'APLIPH6SPLGOLD16': 11,\n",
       " '190198360083': 12,\n",
       " '887276206837': 13,\n",
       " '190198786128': 14,\n",
       " '190199285446': 15,\n",
       " '190199220775': 16,\n",
       " '660543507444': 17,\n",
       " '190198066497': 18,\n",
       " '190199392540': 19,\n",
       " '660543494829': 20,\n",
       " '190198790439': 21,\n",
       " '660543472551': 22,\n",
       " 'APLIPH6PLGOLD128': 23,\n",
       " '660543511373': 24,\n",
       " '815373020841': 25,\n",
       " '840056102972': 26,\n",
       " '660543469322': 27,\n",
       " 'SEASMG950UBLUE64': 28,\n",
       " '848467076530': 29,\n",
       " 'SEASMG975UBLK128': 30,\n",
       " '190198857842': 31,\n",
       " '848709058065': 32,\n",
       " 'SEASMG960UGLD128': 33,\n",
       " '190198066558': 34,\n",
       " '190198776402': 35,\n",
       " '190199220591': 36,\n",
       " '190198786067': 37,\n",
       " '190198043399': 38,\n",
       " '887276322353': 39,\n",
       " '190198790637': 40,\n",
       " '842776114952': 41,\n",
       " '190199291782': 42,\n",
       " 'APLIPH6PLUSGLD16': 43,\n",
       " '190199380813': 44,\n",
       " 'SEASMG973UWHT128': 45,\n",
       " '660543512585': 46,\n",
       " '190199392724': 47,\n",
       " '848709061102': 48,\n",
       " '190198066619': 49,\n",
       " 'SEASMN950UOGRY64': 50,\n",
       " 'APLIPHONE6GRAY64': 51,\n",
       " '846127180115': 52,\n",
       " '190199220874': 53,\n",
       " '887276226897': 54,\n",
       " '190198790514': 55,\n",
       " '738516512938': 56,\n",
       " '887276321882': 57,\n",
       " 'APLIPH6SROSE64': 58,\n",
       " 'APLIPH6SSILVER16': 59,\n",
       " '848709059567': 60,\n",
       " '191058105981': 61,\n",
       " 'SEASMG965UBLUE64': 62,\n",
       " '660543511205': 63,\n",
       " '190198043337': 64,\n",
       " '190199220751': 65,\n",
       " '190199288195': 66,\n",
       " '190198043450': 67,\n",
       " '846127183291': 68,\n",
       " '660543462941': 69,\n",
       " '190198155856': 70,\n",
       " '729198918798': 71,\n",
       " '729198746599': 72,\n",
       " '190198001757': 73,\n",
       " 'SEASMG955UBLUE64': 74,\n",
       " '846127185608': 75,\n",
       " '190198453853': 76,\n",
       " '190198058591': 77,\n",
       " '190198790590': 78,\n",
       " '846127179904': 79,\n",
       " 'SEASMG970UBLU128': 80,\n",
       " '190198043412': 81,\n",
       " '190198776587': 82,\n",
       " '191058085221': 83,\n",
       " '191058106070': 84,\n",
       " '190199277960': 85,\n",
       " '190198292018': 86,\n",
       " '190198786166': 87,\n",
       " 'APLIPHONE6SILV16': 88,\n",
       " '846127188623': 89,\n",
       " '887276372266': 90,\n",
       " '660543469728': 91,\n",
       " '190199392700': 92,\n",
       " '842978129068': 93,\n",
       " '846127189842': 94,\n",
       " '190198543639': 95,\n",
       " 'APLIPHXGRAY64N1X': 96,\n",
       " 'APLIPH6SGRAY64': 97,\n",
       " 'APLIPH8GOLD64N1X': 98,\n",
       " '848467066241': 99,\n",
       " '887276270463': 100,\n",
       " '660543443124': 101,\n",
       " 'SEASMG965UGOLD64': 102,\n",
       " '190198776488': 103,\n",
       " '840056100862': 104,\n",
       " '848467076646': 105,\n",
       " '842776114228': 106,\n",
       " '660543492269': 107,\n",
       " '846127181204': 108,\n",
       " 'APLIPH6SPLSILV16': 109,\n",
       " '191058100993': 110,\n",
       " '190199293335': 111,\n",
       " 'SEASMG975UWHT512': 112,\n",
       " '190198062345': 113,\n",
       " '190198292056': 114,\n",
       " '190199392564': 115,\n",
       " '190198744074': 116,\n",
       " '723755133396': 117,\n",
       " '660543493488': 118,\n",
       " 'APLIPH6SPLGRAY64': 119,\n",
       " '652810830171': 120,\n",
       " '887276321912': 121,\n",
       " '190199392649': 122,\n",
       " '840056100886': 123,\n",
       " 'APLIPH6SSILVER64': 124,\n",
       " '887276321851': 125,\n",
       " '848467085617': 126,\n",
       " '190198456656': 127,\n",
       " '190198354891': 128,\n",
       " '846127181198': 129,\n",
       " '846127179621': 130,\n",
       " '190198776464': 131,\n",
       " '846127183697': 132,\n",
       " '190198896193': 133,\n",
       " '840056103016': 134,\n",
       " '652810832687': 135,\n",
       " '190199293175': 136,\n",
       " 'SEASMG970UPNK128': 137,\n",
       " '190198360113': 138,\n",
       " '840472240593': 139,\n",
       " '846127180283': 140,\n",
       " 'SEASMG975UBLK512': 141,\n",
       " '190199392625': 142,\n",
       " '660543427926': 143,\n",
       " '190198043351': 144,\n",
       " '848467075076': 145,\n",
       " '191058101075': 146,\n",
       " '190198857941': 147,\n",
       " 'APLIPHONE6SILV64': 148,\n",
       " '887276302973': 149,\n",
       " '190198790477': 150,\n",
       " '190198066572': 151,\n",
       " '887276283197': 152,\n",
       " '660543524663': 153,\n",
       " 'APLIPHONE6GRAY16': 154,\n",
       " '887276246512': 155,\n",
       " 'APLIPH6PLSILV128': 156,\n",
       " '190198066596': 157,\n",
       " '190198453280': 158,\n",
       " '848467053876': 159,\n",
       " 'APLIPHONE6GRAY32': 160,\n",
       " '848467073720': 161,\n",
       " '660543509356': 162,\n",
       " '190198453334': 163,\n",
       " 'APLIPH8GLD256N1X': 164,\n",
       " '846127175920': 165,\n",
       " '887276204222': 166,\n",
       " '840056100879': 167,\n",
       " '190198790552': 168,\n",
       " '190199380691': 169,\n",
       " '190198776624': 170,\n",
       " '660543428374': 171,\n",
       " '190198066473': 172,\n",
       " 'APLIPHONE6GOLD64': 173,\n",
       " '888462734875': 174,\n",
       " 'SEASMG965UBLU128': 175,\n",
       " '887276159386': 176,\n",
       " '887276363875': 177,\n",
       " '191058013279': 178,\n",
       " '190198155795': 179,\n",
       " '846127180009': 180,\n",
       " '846127183123': 181,\n",
       " '190198058621': 182,\n",
       " '887276303116': 183,\n",
       " '660543473121': 184,\n",
       " '859184004867': 185,\n",
       " '660543512660': 186,\n",
       " '190198043313': 187,\n",
       " '842978135304': 188,\n",
       " '846127179843': 189,\n",
       " '738516509778': 190,\n",
       " '190199220553': 191,\n",
       " '190198456809': 192,\n",
       " '887276204536': 193,\n",
       " '190198776563': 194,\n",
       " '190198066732': 195,\n",
       " '190199291706': 196,\n",
       " '191058101068': 197,\n",
       " 'SEASMG965UMBGEN': 198,\n",
       " '660543492276': 199,\n",
       " '842776114242': 200,\n",
       " '887276328027': 201,\n",
       " '846127183147': 202,\n",
       " '191058101013': 203,\n",
       " '190199220713': 204,\n",
       " '660543511977': 205,\n",
       " '660543492986': 206,\n",
       " '190198066657': 207,\n",
       " '660543511830': 208,\n",
       " '191058095725': 209,\n",
       " '190198776440': 210,\n",
       " '190199392663': 211,\n",
       " 'SEASMN960UBLK512': 212,\n",
       " '848467083606': 213,\n",
       " '842978111865': 214,\n",
       " '888462500579': 215,\n",
       " '888462803953': 216,\n",
       " '190199220836': 217,\n",
       " '660543468684': 218,\n",
       " 'SEASMG970UBLK128': 219,\n",
       " '887276248981': 220,\n",
       " '738516487038': 221,\n",
       " '190198291950': 222,\n",
       " '888462500586': 223,\n",
       " '190199281417': 224,\n",
       " '738516512914': 225,\n",
       " '190198786180': 226,\n",
       " '190198062321': 227,\n",
       " '660543511304': 228,\n",
       " '190198451835': 229,\n",
       " '660543419730': 230,\n",
       " '848467074055': 231,\n",
       " '190199277915': 232,\n",
       " 'APLIPH8PRED64N1X': 233,\n",
       " 'APLIPHONE6GRY128': 234,\n",
       " '660543493501': 235,\n",
       " '190198451781': 236,\n",
       " '729198431457': 237,\n",
       " '848467071870': 238,\n",
       " 'SEASMG965UPURP64': 239,\n",
       " '190199220690': 240,\n",
       " '888462773133': 241,\n",
       " '888462501958': 242,\n",
       " 'SEASMG960UBLCK64': 243,\n",
       " '190198776525': 244,\n",
       " 'SEASMG975UBLU128': 245,\n",
       " 'SEASMG970UWHT128': 246,\n",
       " 'SEASMG970UWHT256': 247,\n",
       " '887276311968': 248,\n",
       " '191058082923': 249,\n",
       " '190198066534': 250,\n",
       " '846127181211': 251,\n",
       " '846127183468': 252,\n",
       " '190198066718': 253,\n",
       " '848467083545': 254,\n",
       " '729198732431': 255,\n",
       " '887276310275': 256,\n",
       " '887276346847': 257,\n",
       " '846127181648': 258,\n",
       " '660543471653': 259,\n",
       " '846127181181': 260,\n",
       " '840056102989': 261,\n",
       " '619659134808': 262,\n",
       " '660543470625': 263,\n",
       " '191058034809': 264,\n",
       " 'SEASMG973UBLU128': 265,\n",
       " 'SEASMG950UOGRY64': 266,\n",
       " '846127186087': 267,\n",
       " '191058084972': 268,\n",
       " '660543426271': 269,\n",
       " '190199291867': 270,\n",
       " '190198776747': 271,\n",
       " 'SEASMN960UBLK128': 272,\n",
       " '190199380851': 273,\n",
       " '190198776709': 274,\n",
       " '190198745903': 275,\n",
       " '846127183413': 276,\n",
       " '190198043436': 277,\n",
       " '190198066633': 278,\n",
       " '888462734868': 279,\n",
       " '846127188609': 280,\n",
       " '846127186711': 281,\n",
       " '848467075717': 282,\n",
       " '842978135359': 283,\n",
       " '840056110724': 284,\n",
       " '729198733414': 285,\n",
       " 'APLIPHXSIL256N1X': 286,\n",
       " '660543493310': 287,\n",
       " '190198786104': 288,\n",
       " 'APLIPH6SPLGRAY16': 289,\n",
       " '842978135298': 290,\n",
       " '842978147017': 291,\n",
       " '191058063601': 292,\n",
       " '190198155832': 293,\n",
       " 'SEASMN960UBLU128': 294,\n",
       " '190198803917': 295,\n",
       " '729198433109': 296,\n",
       " '846127181228': 297,\n",
       " '887276348490': 298,\n",
       " '723755131187': 299,\n",
       " 'APLIP8GRAY256N1X': 300,\n",
       " 'SEASMG973UBLK512': 301,\n",
       " '887276302966': 302,\n",
       " '660543509516': 303,\n",
       " '660543491453': 304,\n",
       " '848709065797': 305,\n",
       " '887276326184': 306,\n",
       " '887276331454': 307,\n",
       " '660543512486': 308,\n",
       " '729198432874': 309,\n",
       " '190199220850': 310,\n",
       " '190199380714': 311,\n",
       " '190198786043': 312,\n",
       " '887276206202': 313,\n",
       " '191058096081': 314,\n",
       " 'APLIPH6SPLGOLD64': 315,\n",
       " '887276250274': 316,\n",
       " '190198893277': 317,\n",
       " '887276352497': 318,\n",
       " 'SEASMG965UBLK512': 319,\n",
       " '842776114235': 320,\n",
       " 'SEASMG973U1BK512': 321,\n",
       " '190198790675': 322,\n",
       " 'APLIPH6PLGRAY128': 323,\n",
       " '190198790392': 324,\n",
       " '842978135083': 325,\n",
       " '660543494805': 326,\n",
       " '888462803939': 327,\n",
       " '190198066671': 328,\n",
       " '191058072931': 329,\n",
       " '846127185479': 330,\n",
       " '840056102965': 331,\n",
       " '190198745965': 332,\n",
       " '190198058607': 333,\n",
       " '652810830621': 334,\n",
       " '190198764690': 335,\n",
       " 'SEASMG960UGOLD64': 336,\n",
       " '887276367064': 337,\n",
       " 'APLIPH6SGRAY16': 338,\n",
       " '660543469247': 339,\n",
       " '660543462163': 340,\n",
       " '190198043474': 341,\n",
       " '191058069184': 342,\n",
       " 'APLIPHONE6SIL128': 343,\n",
       " '887276363318': 344,\n",
       " '190199220614': 345,\n",
       " '729198814687': 346,\n",
       " '190199269057': 347,\n",
       " 'SEASMG965UPUR128': 348,\n",
       " '191058068125': 349,\n",
       " '190198456854': 350,\n",
       " '190198062314': 351,\n",
       " 'SEASMN960UBLU512': 352,\n",
       " '190198858542': 353,\n",
       " '846127175975': 354,\n",
       " '846127180184': 355,\n",
       " '660543494379': 356,\n",
       " '660543514091': 357,\n",
       " '190198453655': 358,\n",
       " 'APLIPH6SPLSILV64': 359,\n",
       " 'SEASMG970UPNK256': 360,\n",
       " '190199287891': 361,\n",
       " '888462803960': 362,\n",
       " '191058072948': 363,\n",
       " 'SEASMN960UPUR512': 364,\n",
       " '887276321783': 365,\n",
       " '660543493518': 366,\n",
       " '846127185943': 367,\n",
       " '729198814571': 368,\n",
       " 'APLIP8GRAY64N1X': 369,\n",
       " '190198542717': 370,\n",
       " '190198647030': 371,\n",
       " '191058105790': 372,\n",
       " '846127188616': 373,\n",
       " 'SEASMG960UBLUE64': 374,\n",
       " 'SEASMG950USILV64': 375,\n",
       " '660543511892': 376,\n",
       " '190198647993': 377,\n",
       " '190198043498': 378,\n",
       " '842776114976': 379,\n",
       " '842978139678': 380,\n",
       " '729198634179': 381,\n",
       " '660543509110': 382,\n",
       " '848467076905': 383,\n",
       " '190199220812': 384,\n",
       " '887276328164': 385,\n",
       " '191058083388': 386,\n",
       " '660543425793': 387,\n",
       " '190198453235': 388,\n",
       " '840472240616': 389,\n",
       " '646444134897': 390,\n",
       " '888462501972': 391,\n",
       " '815373021374': 392,\n",
       " 'SEASMG970UBLK256': 393,\n",
       " '190198786142': 394,\n",
       " '190199220577': 395,\n",
       " '846127176057': 396,\n",
       " '887276367231': 397,\n",
       " '842776114259': 398,\n",
       " '846127189859': 399,\n",
       " '191058095909': 400,\n",
       " '191058105974': 401,\n",
       " '817569025821': 402,\n",
       " 'APLIP8PSIL256N1X': 403,\n",
       " '660543472568': 404,\n",
       " '660543512653': 405,\n",
       " 'SEASMG960UPURP64': 406,\n",
       " '887276310336': 407,\n",
       " 'APLIPH6SPLROSE16': 408,\n",
       " '887276326160': 409,\n",
       " '887276204185': 410,\n",
       " '848467083552': 411,\n",
       " '840056110717': 412,\n",
       " '846127188272': 413,\n",
       " 'SEASMG950UBLCK64': 414,\n",
       " '842978134871': 415,\n",
       " '660543427308': 416,\n",
       " 'APLIPH8SIL256N1X': 417,\n",
       " '190198058614': 418,\n",
       " '848467074079': 419,\n",
       " '840472240555': 420,\n",
       " '846127185738': 421,\n",
       " '190199220799': 422,\n",
       " '815373025471': 423,\n",
       " '190198043375': 424,\n",
       " '190199380677': 425,\n",
       " '190199380899': 426,\n",
       " '840056103009': 427,\n",
       " '660543473596': 428,\n",
       " '887276368559': 429,\n",
       " '842776114945': 430,\n",
       " '191058084729': 431,\n",
       " '190199220676': 432,\n",
       " '888462773126': 433,\n",
       " '190199392748': 434,\n",
       " '846127188630': 435,\n",
       " '190199392588': 436,\n",
       " '887276316635': 437,\n",
       " 'APLIPH6SGOLD16': 438,\n",
       " '190198453754': 439,\n",
       " '190199392687': 440,\n",
       " '842776114969': 441,\n",
       " 'APLIPH6PLUSSIL16': 442,\n",
       " 'APLIPHXGRY256N1X': 443,\n",
       " '190198790712': 444,\n",
       " '887276284293': 445,\n",
       " '190198744012': 446,\n",
       " '887276284422': 447,\n",
       " '887276363332': 448,\n",
       " 'SEASMG955UMBGEN': 449,\n",
       " 'SEASMG965UBLK128': 450,\n",
       " '723755019478': 451,\n",
       " '660543471189': 452,\n",
       " '846127179720': 453,\n",
       " '190199380738': 454,\n",
       " '888462500609': 455,\n",
       " 'SEASMG970UBLU256': 456,\n",
       " '660543492146': 457,\n",
       " '846127188289': 458,\n",
       " '660543494645': 459,\n",
       " '846127184427': 460,\n",
       " '846127184434': 461,\n",
       " '190198453808': 462,\n",
       " '190198776686': 463,\n",
       " 'SEASMG965UBLCK64': 464,\n",
       " '191058101006': 465,\n",
       " 'SEASMN960USIL128': 466,\n",
       " 'APLIPH6PLUSGRY64': 467,\n",
       " '846127189996': 468,\n",
       " '190198354426': 469,\n",
       " '888462501989': 470,\n",
       " '660543511380': 471,\n",
       " '190198776600': 472,\n",
       " '190198292032': 473,\n",
       " '842776114983': 474,\n",
       " '660543526780': 475,\n",
       " '738516512921': 476,\n",
       " '191058082480': 477,\n",
       " 'APLIPH6PLUSGLD64': 478,\n",
       " 'SEASMN960UPUR128': 479,\n",
       " '660543462705': 480,\n",
       " 'APLIPH6PLUSSIL64': 481,\n",
       " '190198453907': 482,\n",
       " '190198803870': 483,\n",
       " '190198456700': 484,\n",
       " '190198776662': 485,\n",
       " '191058063595': 486,\n",
       " '191058105783': 487,\n",
       " 'APLIPHONE6GOLD32': 488,\n",
       " '660543524908': 489,\n",
       " '660543514268': 490,\n",
       " '815373029943': 491,\n",
       " '846127185912': 492,\n",
       " '842978146997': 493,\n",
       " '190199380875': 494,\n",
       " '887276316581': 495,\n",
       " '660543492221': 496,\n",
       " '660543509998': 497,\n",
       " '190199287532': 498,\n",
       " '190198291974': 499,\n",
       " '887276284255': 500,\n",
       " '191058105554': 501,\n",
       " '887276249872': 502,\n",
       " '190199088450': 503,\n",
       " '190198062338': 504,\n",
       " '887276310299': 505,\n",
       " 'APLIP8PGRY256N1X': 506,\n",
       " '846127181174': 507,\n",
       " '660543473152': 508,\n",
       " '729198930325': 509,\n",
       " '848467076554': 510,\n",
       " '190198066695': 511,\n",
       " 'APLIPH6SROSE16': 512,\n",
       " '660543522034': 513,\n",
       " '190198776426': 514,\n",
       " 'SEASMG975UWHT128': 515,\n",
       " 'APLIPH6SGOLD64': 516,\n",
       " '660543492283': 517,\n",
       " '660543469711': 518,\n",
       " '660543445548': 519,\n",
       " '888462500593': 520,\n",
       " '848467053807': 521,\n",
       " 'APLIP8RED64N1X': 522,\n",
       " 'SEASMG955UOGRY64': 523,\n",
       " 'SEASMG975UBLK1TB': 524,\n",
       " '190198291998': 525,\n",
       " '848467076929': 526,\n",
       " '190198776723': 527,\n",
       " '660543471677': 528,\n",
       " '190199220638': 529,\n",
       " 'APLIPH6PLUSGRY16': 530,\n",
       " '848709061249': 531,\n",
       " 'APLIPHXSIL64N1X': 532,\n",
       " 'SEASMG973UPNK128': 533,\n",
       " '887276200019': 534,\n",
       " '848467085006': 535,\n",
       " '887276325989': 536,\n",
       " '190198292070': 537,\n",
       " '190199220737': 538,\n",
       " '190199380752': 539,\n",
       " '190198804839': 540,\n",
       " '846127183703': 541,\n",
       " '840056103207': 542,\n",
       " '887276250243': 543,\n",
       " '190198786029': 544,\n",
       " '840472240579': 545,\n",
       " '848709058584': 546,\n",
       " '191058034441': 547,\n",
       " '190199287747': 548,\n",
       " 'SEASMG975UPNK128': 549,\n",
       " '191058101303': 550,\n",
       " 'APLIPH8PSIL64N1X': 551,\n",
       " '660543428381': 552,\n",
       " '190198451736': 553,\n",
       " '191058083111': 554,\n",
       " 'SEASMG973UWHT512': 555,\n",
       " '846127180122': 556,\n",
       " 'SEASMG960UMBGEN': 557,\n",
       " '190198739704': 558,\n",
       " '190199392601': 559,\n",
       " '840056102996': 560,\n",
       " '887276367071': 561,\n",
       " '660543511960': 562,\n",
       " '190198878175': 563,\n",
       " '190198155818': 564,\n",
       " '191058061614': 565,\n",
       " '888462501965': 566,\n",
       " '888462803946': 567,\n",
       " '660543424949': 568,\n",
       " '190199380790': 569,\n",
       " '887276230962': 570,\n",
       " '190198066510': 571,\n",
       " 'SEASMN950UBLCK64': 572,\n",
       " '842978135342': 573,\n",
       " '190198453709': 574,\n",
       " '190198786081': 575,\n",
       " 'APLIPH8PGLD64N1X': 576,\n",
       " '660543471660': 577,\n",
       " '846127180306': 578,\n",
       " '190199098428': 579,\n",
       " '848709061171': 580,\n",
       " '660543468677': 581,\n",
       " '887276249810': 582,\n",
       " '190199220539': 583,\n",
       " '660543473602': 584,\n",
       " '660543470618': 585,\n",
       " '190198776549': 586,\n",
       " '859184004454': 587,\n",
       " 'APLIPH8SILV64N1X': 588,\n",
       " '190199380776': 589,\n",
       " 'APLIP8PGRAY64N1X': 590,\n",
       " 'SEASMG955UBLCK64': 591,\n",
       " 'SEASMN950UBLUE64': 592,\n",
       " '848467071993': 593,\n",
       " 'SEASMG955USILV64': 594,\n",
       " '887276204246': 595,\n",
       " '729198440893': 596,\n",
       " '846127185950': 597,\n",
       " '190198291936': 598,\n",
       " 'SEASMG973UBLK128': 599,\n",
       " '846127180023': 600,\n",
       " 'APLIP8RED256N1X': 601,\n",
       " '190199392526': 602,\n",
       " '190198776648': 603,\n",
       " '652810832595': 604,\n",
       " '840056103214': 605,\n",
       " 'APLIPHONE6GLD128': 606,\n",
       " '846127188647': 607,\n",
       " 'APLIPHONE6GOLD16': 608,\n",
       " '190199281363': 609}"
      ]
     },
     "execution_count": 213,
     "metadata": {},
     "output_type": "execute_result"
    }
   ],
   "source": [
    "device_map"
   ]
  },
  {
   "cell_type": "code",
   "execution_count": 214,
   "metadata": {},
   "outputs": [],
   "source": [
    "# order_category_df.iloc[100]['SKU_vector']"
   ]
  },
  {
   "cell_type": "markdown",
   "metadata": {},
   "source": [
    "We don't need the original columns SKU and BYOD_INDICATOR any more. Their values are now represented by SKU_vector"
   ]
  },
  {
   "cell_type": "code",
   "execution_count": 215,
   "metadata": {},
   "outputs": [],
   "source": [
    "order_category_df.drop(['SKU', 'BYOD_INDICATOR'], axis=1, inplace=True)"
   ]
  },
  {
   "cell_type": "code",
   "execution_count": 216,
   "metadata": {},
   "outputs": [
    {
     "data": {
      "text/plain": [
       "Index(['EXPERIAN_RESPONSE_1', 'EXPERIAN_RESPONSE_2', 'ORDER_EXCHANGE', 'MAKE1',\n",
       "       'MAKE2', 'TYPE5', 'TPF_HIGH_YELLOW', 'MODEL4', 'IDA_RESULT',\n",
       "       'BLACKLIST_EMAIL', 'FRAUDNET_RESULT', 'YELLOW_SKU', 'SHIPPING_STATE',\n",
       "       'FROM_CARRIER_NAME', 'SALES_CHANNEL', 'PORT_IN_FLAG', 'BILLING_STATE',\n",
       "       'MAKE3', 'MAKE5', 'MAKE4', 'ACCOUNT_NUMBER', 'MODEL3',\n",
       "       'IS_EXISTING_CUSTOMER', 'TYPE2', 'TYPE3', 'TYPE1', 'LINE_LIMIT_REACHED',\n",
       "       'TYPE4', 'SSN_BLACKLISTED', 'INTERNAL_CREDIT_CHECK_DONE', 'MODEL2',\n",
       "       'MODEL1', 'MODEL5', 'DEVICE_AT_HOME', 'FPF_HIGH_YELLOW',\n",
       "       'DENIAL_OF_SERVICES', 'SHIPPINGMETHOD', 'EXTERNAL_CREDIT_CHECK_DONE',\n",
       "       'SKU_vector'],\n",
       "      dtype='object')"
      ]
     },
     "execution_count": 216,
     "metadata": {},
     "output_type": "execute_result"
    }
   ],
   "source": [
    "order_category_df.columns"
   ]
  },
  {
   "cell_type": "code",
   "execution_count": 217,
   "metadata": {},
   "outputs": [],
   "source": [
    "# order_category_df.head()"
   ]
  },
  {
   "cell_type": "markdown",
   "metadata": {},
   "source": [
    "Take a peek how many of the categorical values contain nan"
   ]
  },
  {
   "cell_type": "code",
   "execution_count": 218,
   "metadata": {},
   "outputs": [
    {
     "data": {
      "text/plain": [
       "['EXPERIAN_RESPONSE_1',\n",
       " 'EXPERIAN_RESPONSE_2',\n",
       " 'ORDER_EXCHANGE',\n",
       " 'MAKE2',\n",
       " 'TYPE5',\n",
       " 'MODEL4',\n",
       " 'IDA_RESULT',\n",
       " 'FRAUDNET_RESULT',\n",
       " 'SHIPPING_STATE',\n",
       " 'FROM_CARRIER_NAME',\n",
       " 'PORT_IN_FLAG',\n",
       " 'BILLING_STATE',\n",
       " 'MAKE3',\n",
       " 'MAKE5',\n",
       " 'MAKE4',\n",
       " 'MODEL3',\n",
       " 'TYPE2',\n",
       " 'TYPE3',\n",
       " 'TYPE4',\n",
       " 'INTERNAL_CREDIT_CHECK_DONE',\n",
       " 'MODEL2',\n",
       " 'MODEL5',\n",
       " 'SHIPPINGMETHOD']"
      ]
     },
     "execution_count": 218,
     "metadata": {},
     "output_type": "execute_result"
    }
   ],
   "source": [
    "order_category_df.columns[order_category_df.isna().any()].tolist()"
   ]
  },
  {
   "cell_type": "markdown",
   "metadata": {},
   "source": [
    "PORT_IN_FLAG and FROM_CARRIER_NAME are two other fields that should be combined"
   ]
  },
  {
   "cell_type": "code",
   "execution_count": 219,
   "metadata": {},
   "outputs": [
    {
     "data": {
      "text/html": [
       "<div>\n",
       "<style scoped>\n",
       "    .dataframe tbody tr th:only-of-type {\n",
       "        vertical-align: middle;\n",
       "    }\n",
       "\n",
       "    .dataframe tbody tr th {\n",
       "        vertical-align: top;\n",
       "    }\n",
       "\n",
       "    .dataframe thead th {\n",
       "        text-align: right;\n",
       "    }\n",
       "</style>\n",
       "<table border=\"1\" class=\"dataframe\">\n",
       "  <thead>\n",
       "    <tr style=\"text-align: right;\">\n",
       "      <th></th>\n",
       "      <th>PORT_IN_FLAG</th>\n",
       "      <th>FROM_CARRIER_NAME</th>\n",
       "    </tr>\n",
       "  </thead>\n",
       "  <tbody>\n",
       "    <tr>\n",
       "      <th>0</th>\n",
       "      <td>[\"N\",\"N\",\"N\",\"N\"]</td>\n",
       "      <td>[null,null,null,null]</td>\n",
       "    </tr>\n",
       "    <tr>\n",
       "      <th>1</th>\n",
       "      <td>[\"Y\"]</td>\n",
       "      <td>[\"MetroPCS\"]</td>\n",
       "    </tr>\n",
       "    <tr>\n",
       "      <th>2</th>\n",
       "      <td>[\"Y\"]</td>\n",
       "      <td>[\"GoogleVoice\"]</td>\n",
       "    </tr>\n",
       "    <tr>\n",
       "      <th>3</th>\n",
       "      <td>[\"N\"]</td>\n",
       "      <td>[null]</td>\n",
       "    </tr>\n",
       "    <tr>\n",
       "      <th>4</th>\n",
       "      <td>[\"Y\"]</td>\n",
       "      <td>[\"Other/NotSure\"]</td>\n",
       "    </tr>\n",
       "  </tbody>\n",
       "</table>\n",
       "</div>"
      ],
      "text/plain": [
       "        PORT_IN_FLAG      FROM_CARRIER_NAME\n",
       "0  [\"N\",\"N\",\"N\",\"N\"]  [null,null,null,null]\n",
       "1              [\"Y\"]           [\"MetroPCS\"]\n",
       "2              [\"Y\"]        [\"GoogleVoice\"]\n",
       "3              [\"N\"]                 [null]\n",
       "4              [\"Y\"]      [\"Other/NotSure\"]"
      ]
     },
     "execution_count": 219,
     "metadata": {},
     "output_type": "execute_result"
    }
   ],
   "source": [
    "order_category_df[['PORT_IN_FLAG', 'FROM_CARRIER_NAME']].head()"
   ]
  },
  {
   "cell_type": "code",
   "execution_count": 220,
   "metadata": {},
   "outputs": [],
   "source": [
    "def isNaN(num):\n",
    "    return num != num"
   ]
  },
  {
   "cell_type": "code",
   "execution_count": 221,
   "metadata": {},
   "outputs": [],
   "source": [
    "# this function takes the string value, and generate a python list out of it\n",
    "def split_carriers(carrier_string):\n",
    "    if isNaN(carrier_string):\n",
    "        return\n",
    "#     print('carrier_string={}'.format(carrier_string))\n",
    "    carriers = [np.nan] * 5\n",
    "\n",
    "    truncated_string = carrier_string[1:-1]\n",
    "#     print('truncated_string={}'.format(truncated_string))\n",
    "    carrier_array = truncated_string.split(',')\n",
    "    no_carriers = len(carrier_array)\n",
    "    i = 0\n",
    "    for carrier in carrier_array:\n",
    "#         print('carrier_array len={}'.format(len(carrier_array)))\n",
    "#         print('i = {}'.format(i))\n",
    "        carrier = carrier.replace(\"\\\"\", \"\")\n",
    "        try:\n",
    "#             print('carrier={}'.format(carrier))\n",
    "#             carriers[i] = carrier\n",
    "            all_carriers.add(carrier)\n",
    "        except Exception as e:\n",
    "            print('carrier_string={}'.format(carrier_string))\n",
    "            print(\"error({})\".format(e))\n",
    "        i += 1\n",
    "#         if i > 3:\n",
    "#             break\n",
    "        "
   ]
  },
  {
   "cell_type": "markdown",
   "metadata": {},
   "source": [
    "Take stock of what carriers are there"
   ]
  },
  {
   "cell_type": "code",
   "execution_count": 222,
   "metadata": {},
   "outputs": [],
   "source": [
    "all_carriers = set()\n",
    "\n",
    "for row in order_category_df.iterrows():\n",
    "#     print(row[1])\n",
    "#     print(row[1]['SKU'])\n",
    "    split_carriers(row[1]['FROM_CARRIER_NAME'])"
   ]
  },
  {
   "cell_type": "code",
   "execution_count": 223,
   "metadata": {},
   "outputs": [],
   "source": [
    "all_carrier_list = list(all_carriers)"
   ]
  },
  {
   "cell_type": "code",
   "execution_count": 224,
   "metadata": {},
   "outputs": [
    {
     "data": {
      "text/plain": [
       "22"
      ]
     },
     "execution_count": 224,
     "metadata": {},
     "output_type": "execute_result"
    }
   ],
   "source": [
    "len(all_carrier_list)"
   ]
  },
  {
   "cell_type": "code",
   "execution_count": 225,
   "metadata": {},
   "outputs": [
    {
     "data": {
      "text/plain": [
       "['TelcelAmerica',\n",
       " 'GoogleVoice',\n",
       " 'Sprint',\n",
       " 'VerizonPrepaid',\n",
       " 'StraightTalk',\n",
       " 'null',\n",
       " 'T-Mobile',\n",
       " 'TracFone',\n",
       " 'GoogleFi',\n",
       " 'U.S.Cellular',\n",
       " 'Cricket',\n",
       " 'Net10',\n",
       " 'Boost Mobile',\n",
       " 'Other/NotSure',\n",
       " 'RepublicWireless',\n",
       " 'AT&TWireless',\n",
       " 'T-MobilePrepaid',\n",
       " 'FreedomPop',\n",
       " 'VirginMobile',\n",
       " 'VerizonWireless',\n",
       " 'AT&TPrepaid',\n",
       " 'MetroPCS']"
      ]
     },
     "execution_count": 225,
     "metadata": {},
     "output_type": "execute_result"
    }
   ],
   "source": [
    "all_carrier_list"
   ]
  },
  {
   "cell_type": "code",
   "execution_count": 226,
   "metadata": {},
   "outputs": [],
   "source": [
    "# move null to top of the list\n",
    "all_carrier_list.remove('null')\n",
    "all_carrier_list.insert(0, 'null')"
   ]
  },
  {
   "cell_type": "code",
   "execution_count": 227,
   "metadata": {},
   "outputs": [
    {
     "data": {
      "text/plain": [
       "['null',\n",
       " 'TelcelAmerica',\n",
       " 'GoogleVoice',\n",
       " 'Sprint',\n",
       " 'VerizonPrepaid',\n",
       " 'StraightTalk',\n",
       " 'T-Mobile',\n",
       " 'TracFone',\n",
       " 'GoogleFi',\n",
       " 'U.S.Cellular',\n",
       " 'Cricket',\n",
       " 'Net10',\n",
       " 'Boost Mobile',\n",
       " 'Other/NotSure',\n",
       " 'RepublicWireless',\n",
       " 'AT&TWireless',\n",
       " 'T-MobilePrepaid',\n",
       " 'FreedomPop',\n",
       " 'VirginMobile',\n",
       " 'VerizonWireless',\n",
       " 'AT&TPrepaid',\n",
       " 'MetroPCS']"
      ]
     },
     "execution_count": 227,
     "metadata": {},
     "output_type": "execute_result"
    }
   ],
   "source": [
    "all_carrier_list     # now null is the first one"
   ]
  },
  {
   "cell_type": "code",
   "execution_count": 228,
   "metadata": {},
   "outputs": [],
   "source": [
    "carrier_map = {}\n",
    "index = 0          # already accounted for nan\n",
    "for carrier in all_carrier_list:\n",
    "    carrier_map[carrier] = index\n",
    "    index += 1"
   ]
  },
  {
   "cell_type": "code",
   "execution_count": 229,
   "metadata": {},
   "outputs": [
    {
     "data": {
      "text/plain": [
       "{'null': 0,\n",
       " 'TelcelAmerica': 1,\n",
       " 'GoogleVoice': 2,\n",
       " 'Sprint': 3,\n",
       " 'VerizonPrepaid': 4,\n",
       " 'StraightTalk': 5,\n",
       " 'T-Mobile': 6,\n",
       " 'TracFone': 7,\n",
       " 'GoogleFi': 8,\n",
       " 'U.S.Cellular': 9,\n",
       " 'Cricket': 10,\n",
       " 'Net10': 11,\n",
       " 'Boost Mobile': 12,\n",
       " 'Other/NotSure': 13,\n",
       " 'RepublicWireless': 14,\n",
       " 'AT&TWireless': 15,\n",
       " 'T-MobilePrepaid': 16,\n",
       " 'FreedomPop': 17,\n",
       " 'VirginMobile': 18,\n",
       " 'VerizonWireless': 19,\n",
       " 'AT&TPrepaid': 20,\n",
       " 'MetroPCS': 21}"
      ]
     },
     "execution_count": 229,
     "metadata": {},
     "output_type": "execute_result"
    }
   ],
   "source": [
    "carrier_map"
   ]
  },
  {
   "cell_type": "markdown",
   "metadata": {},
   "source": [
    "The above are the discovered carrier"
   ]
  },
  {
   "cell_type": "markdown",
   "metadata": {},
   "source": [
    "How many unique combination of carriers are there?"
   ]
  },
  {
   "cell_type": "code",
   "execution_count": 230,
   "metadata": {},
   "outputs": [
    {
     "data": {
      "text/plain": [
       "array(['[null,null,null,null]', '[\"MetroPCS\"]', '[\"GoogleVoice\"]',\n",
       "       '[null]', '[\"Other/NotSure\"]',\n",
       "       '[\"VerizonWireless\",\"VerizonWireless\"]', '[\"Boost Mobile\",null]',\n",
       "       '[\"VerizonWireless\"]', '[\"Sprint\"]', '[\"T-Mobile\"]',\n",
       "       '[\"AT&TWireless\"]', '[\"GoogleFi\"]', nan, '[\"AT&TPrepaid\"]',\n",
       "       '[\"AT&TWireless\",\"AT&TWireless\"]', '[\"VirginMobile\"]',\n",
       "       '[null,null]',\n",
       "       '[\"VerizonWireless\",\"VerizonWireless\",\"VerizonWireless\",\"VerizonWireless\",\"VerizonWireless\"]',\n",
       "       '[\"VerizonWireless\",\"VerizonWireless\",\"VerizonWireless\"]',\n",
       "       '[\"Sprint\",\"Sprint\"]', '[\"TracFone\"]',\n",
       "       '[\"VerizonWireless\",\"VerizonWireless\",\"VerizonWireless\",\"VerizonWireless\"]',\n",
       "       '[\"Sprint\",\"Sprint\",\"Sprint\"]', '[\"StraightTalk\"]',\n",
       "       '[\"RepublicWireless\",\"RepublicWireless\",\"RepublicWireless\",null]',\n",
       "       '[\"StraightTalk\",\"StraightTalk\"]', '[\"AT&TWireless\",\"T-Mobile\"]',\n",
       "       '[\"Cricket\"]', '[\"Cricket\",\"Cricket\"]', '[null,null,null]',\n",
       "       '[\"Other/NotSure\",null]', '[\"T-Mobile\",\"T-Mobile\"]',\n",
       "       '[\"Boost Mobile\"]', '[\"VerizonPrepaid\",\"VerizonPrepaid\"]',\n",
       "       '[\"MetroPCS\",\"MetroPCS\"]', '[\"U.S.Cellular\"]',\n",
       "       '[\"T-Mobile\",\"T-Mobile\",\"T-Mobile\"]',\n",
       "       '[\"MetroPCS\",\"Other/NotSure\"]',\n",
       "       '[\"Other/NotSure\",\"Other/NotSure\",\"Other/NotSure\",\"Other/NotSure\",\"Other/NotSure\"]',\n",
       "       '[\"Boost Mobile\",\"Boost Mobile\"]',\n",
       "       '[\"VerizonWireless\",null,\"VerizonWireless\"]',\n",
       "       '[\"VirginMobile\",\"VirginMobile\",\"VirginMobile\"]',\n",
       "       '[null,\"MetroPCS\"]', '[\"Sprint\",\"Sprint\",\"Other/NotSure\"]',\n",
       "       '[\"VerizonWireless\",\"StraightTalk\",\"StraightTalk\",\"VirginMobile\"]',\n",
       "       '[\"Other/NotSure\",\"T-Mobile\"]',\n",
       "       '[\"Other/NotSure\",\"Other/NotSure\",\"VerizonWireless\"]',\n",
       "       '[\"VerizonWireless\",\"Other/NotSure\",\"Other/NotSure\"]',\n",
       "       '[\"VerizonWireless\",\"Other/NotSure\"]',\n",
       "       '[\"Sprint\",\"Sprint\",\"Sprint\",\"Sprint\"]', '[\"T-MobilePrepaid\"]',\n",
       "       '[\"Sprint\",\"Sprint\",\"Sprint\",\"Sprint\",\"Sprint\"]',\n",
       "       '[\"Sprint\",\"T-Mobile\",\"T-Mobile\"]',\n",
       "       '[\"RepublicWireless\",\"RepublicWireless\"]',\n",
       "       '[\"AT&TWireless\",\"AT&TWireless\",\"AT&TWireless\"]',\n",
       "       '[\"VirginMobile\",\"MetroPCS\"]', '[\"FreedomPop\"]',\n",
       "       '[\"AT&TWireless\",\"AT&TWireless\",\"AT&TWireless\",\"AT&TWireless\"]',\n",
       "       '[\"VerizonPrepaid\"]', '[\"AT&TWireless\",\"VerizonWireless\"]',\n",
       "       '[\"Other/NotSure\",\"Other/NotSure\",\"T-Mobile\"]',\n",
       "       '[\"T-Mobile\",null]', '[null,\"VirginMobile\"]',\n",
       "       '[\"GoogleVoice\",\"GoogleVoice\"]', '[\"TracFone\",\"AT&TWireless\"]',\n",
       "       '[\"AT&TWireless\",null,null]', '[\"StraightTalk\",null]',\n",
       "       '[\"T-Mobile\",\"T-Mobile\",\"VerizonWireless\"]',\n",
       "       '[\"VerizonWireless\",\"Sprint\"]',\n",
       "       '[\"AT&TWireless\",\"AT&TWireless\",null]', '[\"TracFone\",\"TracFone\"]',\n",
       "       '[null,\"VerizonWireless\"]', '[\"VirginMobile\",\"AT&TWireless\"]',\n",
       "       '[\"AT&TPrepaid\",null]', '[null,\"T-Mobile\",\"Cricket\"]',\n",
       "       '[\"Other/NotSure\",\"Other/NotSure\",\"Other/NotSure\"]',\n",
       "       '[\"VerizonWireless\",\"VerizonWireless\",null,null]', '[\"Net10\"]',\n",
       "       '[\"RepublicWireless\"]', '[\"AT&TPrepaid\",\"AT&TPrepaid\"]',\n",
       "       '[\"Cricket\",\"VerizonWireless\"]',\n",
       "       '[\"VerizonWireless\",\"AT&TWireless\"]', '[\"VerizonWireless\",null]',\n",
       "       '[\"AT&TWireless\",null]', '[null,\"Boost Mobile\"]',\n",
       "       '[\"Other/NotSure\",\"Other/NotSure\"]',\n",
       "       '[\"GoogleVoice\",\"FreedomPop\",\"FreedomPop\",\"FreedomPop\"]',\n",
       "       '[\"MetroPCS\",\"MetroPCS\",null]',\n",
       "       '[\"VirginMobile\",\"VerizonWireless\"]', '[\"Sprint\",null]',\n",
       "       '[\"AT&TWireless\",\"AT&TWireless\",\"Other/NotSure\",\"Other/NotSure\"]',\n",
       "       '[\"StraightTalk\",\"VerizonWireless\"]',\n",
       "       '[\"T-Mobile\",\"AT&TWireless\"]',\n",
       "       '[\"AT&TWireless\",\"AT&TWireless\",\"AT&TWireless\",\"MetroPCS\"]',\n",
       "       '[null,\"Other/NotSure\",\"AT&TWireless\"]',\n",
       "       '[\"TracFone\",\"Boost Mobile\"]',\n",
       "       '[\"T-Mobile\",\"T-Mobile\",\"T-Mobile\",\"T-Mobile\"]',\n",
       "       '[\"VerizonWireless\",\"T-Mobile\"]', '[\"AT&TWireless\",\"MetroPCS\"]',\n",
       "       '[\"StraightTalk\",\"Boost Mobile\"]',\n",
       "       '[\"Sprint\",null,\"Sprint\",\"Sprint\",null]',\n",
       "       '[null,null,\"Sprint\",\"Sprint\",\"Sprint\"]',\n",
       "       '[null,null,null,null,null]',\n",
       "       '[\"Other/NotSure\",\"Other/NotSure\",null]',\n",
       "       '[\"Sprint\",\"VerizonWireless\"]',\n",
       "       '[\"MetroPCS\",\"MetroPCS\",\"MetroPCS\",\"MetroPCS\",\"MetroPCS\"]',\n",
       "       '[\"VerizonWireless\",\"MetroPCS\"]', '[\"Sprint\",\"Sprint\",null]',\n",
       "       '[\"T-Mobile\",\"StraightTalk\"]',\n",
       "       '[null,null,\"AT&TWireless\",\"AT&TWireless\"]',\n",
       "       '[\"MetroPCS\",\"MetroPCS\",\"MetroPCS\"]',\n",
       "       '[\"AT&TWireless\",\"AT&TWireless\",\"AT&TWireless\",\"VerizonWireless\"]',\n",
       "       '[\"MetroPCS\",\"MetroPCS\",\"MetroPCS\",null]',\n",
       "       '[\"MetroPCS\",\"VerizonWireless\"]', '[\"MetroPCS\",null]',\n",
       "       '[\"Sprint\",\"AT&TWireless\"]', '[\"TracFone\",\"VerizonPrepaid\",null]',\n",
       "       '[\"VerizonPrepaid\",\"VerizonPrepaid\",\"VerizonPrepaid\",\"VerizonPrepaid\"]',\n",
       "       '[\"VerizonPrepaid\",null]',\n",
       "       '[\"Boost Mobile\",\"Boost Mobile\",\"Boost Mobile\",\"Boost Mobile\"]',\n",
       "       '[\"VerizonWireless\",\"VerizonWireless\",null]',\n",
       "       '[\"VerizonWireless\",\"T-Mobile\",\"VerizonWireless\"]',\n",
       "       '[\"Sprint\",\"Sprint\",\"Sprint\",\"Sprint\",null]', '[\"TracFone\",null]',\n",
       "       '[\"GoogleFi\",\"GoogleFi\",\"GoogleFi\"]',\n",
       "       '[\"U.S.Cellular\",\"U.S.Cellular\"]', '[\"StraightTalk\",null,null]',\n",
       "       '[\"U.S.Cellular\",\"TracFone\"]',\n",
       "       '[\"AT&TWireless\",\"AT&TWireless\",\"T-Mobile\"]',\n",
       "       '[\"VirginMobile\",\"VirginMobile\"]',\n",
       "       '[\"Other/NotSure\",\"Other/NotSure\",\"Other/NotSure\",\"Other/NotSure\"]',\n",
       "       '[\"VerizonWireless\",\"TracFone\"]',\n",
       "       '[\"VerizonWireless\",\"AT&TWireless\",\"AT&TWireless\"]',\n",
       "       '[\"MetroPCS\",\"MetroPCS\",\"MetroPCS\",\"MetroPCS\"]',\n",
       "       '[\"VerizonWireless\",\"VerizonWireless\",\"VerizonWireless\",null]',\n",
       "       '[\"Boost Mobile\",\"AT&TWireless\",\"AT&TWireless\",\"AT&TWireless\",\"AT&TWireless\"]',\n",
       "       '[\"Boost Mobile\",\"StraightTalk\",\"StraightTalk\"]',\n",
       "       '[\"Cricket\",\"Cricket\",\"Cricket\"]',\n",
       "       '[\"Cricket\",\"Cricket\",\"StraightTalk\"]',\n",
       "       '[\"StraightTalk\",\"StraightTalk\",\"StraightTalk\",\"StraightTalk\"]',\n",
       "       '[\"VirginMobile\",null]', '[\"VerizonWireless\",\"Sprint\",null]',\n",
       "       '[\"Sprint\",\"VerizonWireless\",null]', '[\"T-Mobile\",\"MetroPCS\"]',\n",
       "       '[\"AT&TWireless\",\"Sprint\",\"Sprint\"]',\n",
       "       '[\"FreedomPop\",\"FreedomPop\"]',\n",
       "       '[\"VerizonWireless\",\"VerizonWireless\",null,\"VerizonWireless\"]',\n",
       "       '[\"Net10\",\"Net10\"]',\n",
       "       '[null,\"VerizonWireless\",\"VerizonWireless\",\"VerizonWireless\"]',\n",
       "       '[\"TracFone\",\"TracFone\",\"TracFone\"]', '[\"GoogleFi\",\"GoogleFi\"]',\n",
       "       '[\"VerizonWireless\",\"TracFone\",\"T-Mobile\"]',\n",
       "       '[\"AT&TWireless\",\"VerizonWireless\",\"VerizonWireless\"]',\n",
       "       '[null,\"Boost Mobile\",\"Other/NotSure\"]',\n",
       "       '[\"Sprint\",\"Sprint\",\"T-Mobile\",\"Sprint\"]',\n",
       "       '[\"AT&TWireless\",\"U.S.Cellular\"]',\n",
       "       '[\"VerizonWireless\",null,\"Other/NotSure\"]',\n",
       "       '[\"AT&TWireless\",\"StraightTalk\"]',\n",
       "       '[\"VerizonWireless\",\"T-MobilePrepaid\",\"VerizonWireless\"]',\n",
       "       '[\"AT&TWireless\",\"AT&TWireless\",\"AT&TWireless\",\"AT&TWireless\",\"AT&TWireless\"]',\n",
       "       '[\"AT&TPrepaid\",\"AT&TWireless\"]',\n",
       "       '[\"StraightTalk\",\"VirginMobile\"]', '[null,\"AT&TWireless\"]',\n",
       "       '[\"AT&TWireless\",null,\"AT&TWireless\"]', '[\"MetroPCS\",\"Sprint\"]',\n",
       "       '[\"Other/NotSure\",\"AT&TWireless\"]', '[\"T-Mobile\",\"Other/NotSure\"]',\n",
       "       '[\"Other/NotSure\",\"FreedomPop\"]', '[\"Cricket\",\"AT&TWireless\"]',\n",
       "       '[\"U.S.Cellular\",\"U.S.Cellular\",\"U.S.Cellular\"]',\n",
       "       '[\"AT&TWireless\",\"Other/NotSure\"]', '[null,\"Other/NotSure\"]',\n",
       "       '[\"AT&TWireless\",\"Sprint\"]',\n",
       "       '[\"AT&TWireless\",\"AT&TWireless\",\"AT&TPrepaid\"]',\n",
       "       '[\"Sprint\",\"Sprint\",null,\"Sprint\"]', '[null,\"StraightTalk\"]',\n",
       "       '[\"VerizonWireless\",null,null]', '[\"MetroPCS\",\"Cricket\"]',\n",
       "       '[\"T-Mobile\",null,null]',\n",
       "       '[\"AT&TPrepaid\",\"AT&TPrepaid\",\"AT&TPrepaid\"]',\n",
       "       '[\"AT&TWireless\",\"AT&TPrepaid\",\"AT&TWireless\"]',\n",
       "       '[\"VerizonPrepaid\",\"VerizonPrepaid\",\"VerizonPrepaid\",\"VerizonPrepaid\",null]',\n",
       "       '[\"Other/NotSure\",\"AT&TPrepaid\",null]',\n",
       "       '[\"AT&TWireless\",\"AT&TWireless\",\"AT&TWireless\",null,\"AT&TWireless\"]',\n",
       "       '[\"Sprint\",\"MetroPCS\"]', '[\"Other/NotSure\",\"T-Mobile\",\"T-Mobile\"]',\n",
       "       '[\"Cricket\",null]', '[\"Cricket\",\"MetroPCS\"]',\n",
       "       '[null,\"VerizonWireless\",\"VerizonWireless\"]', '[null,\"Sprint\"]',\n",
       "       '[\"GoogleFi\",null]', '[\"Other/NotSure\",\"TracFone\"]',\n",
       "       '[\"AT&TWireless\",\"Cricket\"]', '[\"Sprint\",null,null]',\n",
       "       '[\"T-Mobile\",\"T-Mobile\",\"T-Mobile\",null,null]',\n",
       "       '[\"T-Mobile\",\"T-Mobile\",null,\"T-Mobile\",null]',\n",
       "       '[\"T-Mobile\",\"T-Mobile\",null]', '[null,\"T-Mobile\"]',\n",
       "       '[\"Other/NotSure\",\"GoogleVoice\"]', '[null,\"Sprint\",\"Sprint\"]',\n",
       "       '[\"Cricket\",\"Cricket\",null,null,null]',\n",
       "       '[\"Other/NotSure\",\"Sprint\"]',\n",
       "       '[\"VerizonWireless\",\"VerizonPrepaid\"]',\n",
       "       '[\"Boost Mobile\",\"VerizonWireless\"]',\n",
       "       '[\"AT&TWireless\",\"AT&TWireless\",null,\"AT&TWireless\"]',\n",
       "       '[\"VerizonWireless\",\"VerizonWireless\",\"GoogleVoice\",\"VerizonWireless\"]',\n",
       "       '[\"TracFone\",null,\"VerizonWireless\"]',\n",
       "       '[\"Sprint\",\"Other/NotSure\"]', '[\"Boost Mobile\",\"Sprint\"]',\n",
       "       '[\"Other/NotSure\",\"MetroPCS\"]',\n",
       "       '[\"AT&TWireless\",\"AT&TWireless\",\"AT&TWireless\",\"Other/NotSure\",\"AT&TWireless\"]',\n",
       "       '[\"Boost Mobile\",\"Boost Mobile\",null]',\n",
       "       '[\"VerizonPrepaid\",\"VerizonWireless\"]',\n",
       "       '[\"AT&TPrepaid\",\"AT&TPrepaid\",\"AT&TPrepaid\",\"AT&TPrepaid\"]',\n",
       "       '[\"Other/NotSure\",\"Other/NotSure\",\"Sprint\",\"Sprint\"]',\n",
       "       '[\"VerizonWireless\",null,null,\"VerizonWireless\"]',\n",
       "       '[null,null,null,\"VerizonWireless\"]',\n",
       "       '[\"GoogleFi\",\"AT&TWireless\"]',\n",
       "       '[\"Cricket\",\"Cricket\",\"Cricket\",\"Cricket\",\"Cricket\"]',\n",
       "       '[\"VerizonWireless\",\"VerizonWireless\",\"Sprint\",\"Sprint\"]',\n",
       "       '[null,\"VerizonWireless\",\"VerizonWireless\",\"VerizonWireless\",null]',\n",
       "       '[\"TracFone\",\"TracFone\",\"TracFone\",\"VerizonWireless\"]',\n",
       "       '[\"RepublicWireless\",\"RepublicWireless\",\"RepublicWireless\",\"RepublicWireless\"]',\n",
       "       '[\"VerizonPrepaid\",\"AT&TPrepaid\"]',\n",
       "       '[\"Boost Mobile\",\"AT&TPrepaid\"]',\n",
       "       '[\"VerizonWireless\",\"VerizonWireless\",\"VerizonWireless\",\"VerizonWireless\",null]',\n",
       "       '[\"Sprint\",null,\"Sprint\"]', '[\"T-Mobile\",null,\"T-Mobile\"]',\n",
       "       '[\"AT&TWireless\",\"VerizonWireless\",null,null]',\n",
       "       '[\"StraightTalk\",\"StraightTalk\",\"MetroPCS\",\"MetroPCS\",\"MetroPCS\"]',\n",
       "       '[\"AT&TWireless\",\"Boost Mobile\"]',\n",
       "       '[\"Other/NotSure\",\"VerizonWireless\"]',\n",
       "       '[\"GoogleVoice\",\"Other/NotSure\"]', '[\"T-Mobile\",\"GoogleVoice\"]',\n",
       "       '[\"Sprint\",\"StraightTalk\",\"Sprint\"]',\n",
       "       '[\"AT&TWireless\",\"AT&TWireless\",\"Other/NotSure\"]',\n",
       "       '[\"StraightTalk\",\"VerizonWireless\",\"VerizonWireless\"]',\n",
       "       '[\"VerizonWireless\",null,null,null,null]',\n",
       "       '[\"Sprint\",\"Sprint\",\"Sprint\",null]',\n",
       "       '[\"TracFone\",\"VerizonWireless\"]',\n",
       "       '[\"VerizonWireless\",\"VerizonWireless\",\"TracFone\"]',\n",
       "       '[\"T-Mobile\",\"T-MobilePrepaid\"]', '[\"AT&TWireless\",\"AT&TPrepaid\"]',\n",
       "       '[\"AT&TWireless\",\"Other/NotSure\",\"AT&TWireless\"]',\n",
       "       '[\"AT&TWireless\",\"AT&TWireless\",\"AT&TWireless\",\"AT&TPrepaid\"]',\n",
       "       '[null,\"Sprint\",\"Sprint\",\"Sprint\"]',\n",
       "       '[\"Other/NotSure\",\"T-MobilePrepaid\"]', '[null,\"VerizonPrepaid\"]',\n",
       "       '[\"VerizonPrepaid\",\"VerizonPrepaid\",\"VerizonPrepaid\"]',\n",
       "       '[\"StraightTalk\",\"Other/NotSure\"]', '[null,\"Cricket\"]',\n",
       "       '[\"AT&TPrepaid\",\"VerizonPrepaid\"]',\n",
       "       '[\"VerizonWireless\",\"VerizonWireless\",\"TracFone\",\"VerizonWireless\"]',\n",
       "       '[\"TracFone\",\"TracFone\",\"StraightTalk\"]',\n",
       "       '[null,null,\"VerizonWireless\",\"VerizonWireless\"]',\n",
       "       '[\"T-MobilePrepaid\",\"T-MobilePrepaid\"]',\n",
       "       '[\"MetroPCS\",\"Other/NotSure\",null]',\n",
       "       '[\"Boost Mobile\",\"VirginMobile\",\"TracFone\"]',\n",
       "       '[\"Boost Mobile\",\"Boost Mobile\",\"Boost Mobile\"]',\n",
       "       '[\"Boost Mobile\",\"TracFone\"]', '[\"T-MobilePrepaid\",null]',\n",
       "       '[\"Other/NotSure\",\"Other/NotSure\",\"Other/NotSure\",null]',\n",
       "       '[\"Cricket\",\"Cricket\",\"Cricket\",null]',\n",
       "       '[\"Cricket\",null,\"Cricket\",\"Cricket\",\"Cricket\"]',\n",
       "       '[null,\"AT&TWireless\",\"AT&TWireless\"]',\n",
       "       '[null,\"VerizonWireless\",\"Cricket\"]',\n",
       "       '[\"StraightTalk\",\"T-Mobile\"]', '[\"U.S.Cellular\",\"AT&TWireless\"]',\n",
       "       '[\"AT&TWireless\",\"AT&TWireless\",\"AT&TWireless\",null]',\n",
       "       '[\"VerizonWireless\",\"VerizonPrepaid\",\"VerizonPrepaid\",\"VerizonPrepaid\"]',\n",
       "       '[\"VerizonWireless\",\"Net10\"]', '[\"Sprint\",\"Boost Mobile\"]',\n",
       "       '[\"MetroPCS\",\"T-Mobile\",\"Boost Mobile\"]',\n",
       "       '[\"VerizonWireless\",\"VerizonWireless\",\"GoogleVoice\",\"GoogleVoice\",\"VerizonWireless\"]',\n",
       "       '[\"Sprint\",\"T-Mobile\",\"Sprint\",\"Sprint\"]',\n",
       "       '[\"VerizonWireless\",\"VerizonWireless\",\"VerizonPrepaid\",\"VerizonPrepaid\"]',\n",
       "       '[\"Sprint\",\"Sprint\",\"Sprint\",null,null]',\n",
       "       '[\"StraightTalk\",\"StraightTalk\",\"StraightTalk\"]',\n",
       "       '[\"TracFone\",\"VerizonPrepaid\",\"StraightTalk\",\"StraightTalk\"]',\n",
       "       '[\"VerizonWireless\",\"VirginMobile\"]',\n",
       "       '[\"StraightTalk\",\"StraightTalk\",\"StraightTalk\",null]',\n",
       "       '[\"Boost Mobile\",\"TracFone\",\"Boost Mobile\"]',\n",
       "       '[\"Sprint\",null,\"Sprint\",\"Sprint\"]',\n",
       "       '[null,null,\"VerizonWireless\"]',\n",
       "       '[\"Boost Mobile\",\"Boost Mobile\",\"MetroPCS\"]',\n",
       "       '[\"T-MobilePrepaid\",\"GoogleVoice\"]',\n",
       "       '[\"AT&TWireless\",\"Other/NotSure\",null]',\n",
       "       '[\"TracFone\",\"Other/NotSure\"]',\n",
       "       '[\"Other/NotSure\",\"RepublicWireless\"]',\n",
       "       '[\"Cricket\",\"Cricket\",\"Cricket\",\"Cricket\"]',\n",
       "       '[\"MetroPCS\",\"MetroPCS\",\"MetroPCS\",\"MetroPCS\",\"VirginMobile\"]',\n",
       "       '[null,\"VerizonPrepaid\",\"Boost Mobile\"]',\n",
       "       '[null,\"Boost Mobile\",\"VerizonPrepaid\"]',\n",
       "       '[\"VerizonWireless\",\"AT&TWireless\",\"VerizonWireless\"]',\n",
       "       '[\"Other/NotSure\",\"AT&TWireless\",\"AT&TWireless\"]',\n",
       "       '[\"T-MobilePrepaid\",null,null,\"T-MobilePrepaid\",\"T-MobilePrepaid\"]',\n",
       "       '[\"GoogleVoice\",\"GoogleVoice\",\"GoogleVoice\"]',\n",
       "       '[null,\"AT&TPrepaid\"]',\n",
       "       '[\"VerizonWireless\",\"VerizonWireless\",\"Sprint\"]',\n",
       "       '[\"T-Mobile\",\"Sprint\",\"T-Mobile\"]',\n",
       "       '[\"VerizonWireless\",\"VerizonWireless\",\"VerizonWireless\",\"VerizonWireless\",\"GoogleFi\"]',\n",
       "       '[\"Cricket\",\"Cricket\",\"AT&TWireless\"]',\n",
       "       '[\"T-Mobile\",\"T-Mobile\",\"T-Mobile\",\"T-Mobile\",\"T-Mobile\"]',\n",
       "       '[\"Other/NotSure\",null,\"Other/NotSure\"]',\n",
       "       '[\"Other/NotSure\",\"Cricket\"]',\n",
       "       '[\"Boost Mobile\",null,null,\"Other/NotSure\"]',\n",
       "       '[\"StraightTalk\",\"StraightTalk\",null]',\n",
       "       '[\"VerizonWireless\",\"StraightTalk\"]',\n",
       "       '[\"Other/NotSure\",\"VerizonWireless\",\"VerizonWireless\"]',\n",
       "       '[null,\"StraightTalk\",\"VerizonPrepaid\"]',\n",
       "       '[\"AT&TWireless\",\"AT&TWireless\",null,\"AT&TWireless\",\"AT&TWireless\"]',\n",
       "       '[\"MetroPCS\",null,null]', '[\"Cricket\",null,null]',\n",
       "       '[\"GoogleVoice\",\"Sprint\"]',\n",
       "       '[\"Other/NotSure\",\"MetroPCS\",\"Other/NotSure\"]',\n",
       "       '[\"Cricket\",null,null,\"Cricket\",\"Cricket\"]',\n",
       "       '[\"Cricket\",\"Cricket\",\"Cricket\",null,null]',\n",
       "       '[null,null,\"AT&TWireless\"]',\n",
       "       '[\"Sprint\",\"VerizonWireless\",\"Sprint\",\"Sprint\"]',\n",
       "       '[\"AT&TWireless\",\"AT&TWireless\",\"AT&TWireless\",\"AT&TWireless\",null]',\n",
       "       '[\"MetroPCS\",\"StraightTalk\"]', '[null,\"Other/NotSure\",null]',\n",
       "       '[\"AT&TPrepaid\",\"Cricket\"]',\n",
       "       '[\"AT&TWireless\",\"AT&TWireless\",null,null]',\n",
       "       '[\"Sprint\",\"Cricket\"]', '[\"Boost Mobile\",\"MetroPCS\"]',\n",
       "       '[\"GoogleVoice\",\"AT&TWireless\"]',\n",
       "       '[\"Sprint\",\"Sprint\",\"Other/NotSure\",\"Sprint\"]',\n",
       "       '[\"T-MobilePrepaid\",\"VerizonWireless\"]',\n",
       "       '[\"T-Mobile\",\"VerizonWireless\"]',\n",
       "       '[\"VerizonWireless\",\"VerizonWireless\",\"VerizonPrepaid\",\"VerizonWireless\"]',\n",
       "       '[\"AT&TWireless\",null,null,\"AT&TWireless\"]',\n",
       "       '[\"MetroPCS\",\"AT&TWireless\"]',\n",
       "       '[\"VerizonWireless\",\"VerizonWireless\",\"VerizonPrepaid\"]',\n",
       "       '[\"Sprint\",\"Sprint\",\"RepublicWireless\"]',\n",
       "       '[\"Boost Mobile\",\"T-Mobile\"]',\n",
       "       '[\"MetroPCS\",\"MetroPCS\",\"Boost Mobile\"]',\n",
       "       '[null,\"AT&TWireless\",\"MetroPCS\"]', '[\"AT&TWireless\",\"TracFone\"]',\n",
       "       '[\"TracFone\",\"StraightTalk\"]',\n",
       "       '[\"VerizonWireless\",\"VerizonWireless\",null,\"VerizonWireless\",\"VerizonWireless\"]',\n",
       "       '[\"VerizonWireless\",null,\"VerizonWireless\",\"VerizonWireless\",\"VerizonWireless\"]',\n",
       "       '[\"MetroPCS\",\"Boost Mobile\"]',\n",
       "       '[\"AT&TPrepaid\",\"AT&TPrepaid\",null,null]',\n",
       "       '[\"Net10\",\"VerizonWireless\"]',\n",
       "       '[\"VerizonWireless\",\"VerizonWireless\",\"MetroPCS\",\"VerizonWireless\"]',\n",
       "       '[\"Boost Mobile\",null,null]',\n",
       "       '[null,\"MetroPCS\",\"MetroPCS\",\"MetroPCS\"]',\n",
       "       '[\"MetroPCS\",\"T-Mobile\"]', '[null,\"VerizonPrepaid\",null]',\n",
       "       '[\"VerizonWireless\",\"AT&TPrepaid\"]',\n",
       "       '[\"AT&TWireless\",\"Other/NotSure\",\"Other/NotSure\"]',\n",
       "       '[\"AT&TWireless\",null,\"AT&TWireless\",\"AT&TWireless\"]',\n",
       "       '[null,\"VerizonWireless\",\"VerizonWireless\",\"VerizonWireless\",\"VerizonWireless\"]',\n",
       "       '[\"Other/NotSure\",\"AT&TPrepaid\",\"VerizonWireless\"]',\n",
       "       '[null,\"MetroPCS\",\"MetroPCS\"]', '[\"U.S.Cellular\",\"Other/NotSure\"]',\n",
       "       '[\"T-MobilePrepaid\",\"Boost Mobile\"]',\n",
       "       '[\"VerizonPrepaid\",null,\"VerizonPrepaid\"]',\n",
       "       '[\"RepublicWireless\",\"RepublicWireless\",\"RepublicWireless\"]',\n",
       "       '[\"AT&TPrepaid\",\"Boost Mobile\"]', '[\"AT&TPrepaid\",\"MetroPCS\"]',\n",
       "       '[\"StraightTalk\",\"Cricket\"]',\n",
       "       '[\"Sprint\",\"Sprint\",\"VerizonWireless\"]', '[null,\"TracFone\"]',\n",
       "       '[\"VerizonWireless\",null,\"VerizonWireless\",\"VerizonWireless\"]',\n",
       "       '[\"Net10\",null]', '[null,\"MetroPCS\",null,null]',\n",
       "       '[\"VirginMobile\",\"Other/NotSure\"]',\n",
       "       '[\"Cricket\",null,\"Cricket\",\"Cricket\"]',\n",
       "       '[\"StraightTalk\",\"StraightTalk\",\"VerizonWireless\"]',\n",
       "       '[\"StraightTalk\",\"Sprint\"]',\n",
       "       '[\"VerizonPrepaid\",\"VerizonPrepaid\",null,null]',\n",
       "       '[\"VerizonWireless\",\"Sprint\",\"Sprint\"]',\n",
       "       '[\"Cricket\",\"AT&TWireless\",null]',\n",
       "       '[\"Cricket\",\"AT&TWireless\",null,\"Cricket\"]',\n",
       "       '[\"MetroPCS\",null,null,null]',\n",
       "       '[\"T-Mobile\",\"AT&TWireless\",\"AT&TWireless\"]',\n",
       "       '[null,\"VerizonPrepaid\",\"VerizonPrepaid\"]',\n",
       "       '[\"Sprint\",\"Sprint\",\"StraightTalk\"]',\n",
       "       '[\"VerizonWireless\",\"VerizonPrepaid\",\"VerizonPrepaid\",null,null]',\n",
       "       '[null,\"Sprint\",\"Sprint\",\"Sprint\",\"Sprint\"]',\n",
       "       '[\"Other/NotSure\",null,null]', '[\"U.S.Cellular\",null]',\n",
       "       '[\"RepublicWireless\",\"RepublicWireless\",null]',\n",
       "       '[\"U.S.Cellular\",\"Sprint\",\"Sprint\"]',\n",
       "       '[\"AT&TPrepaid\",\"StraightTalk\"]',\n",
       "       '[\"T-Mobile\",\"Other/NotSure\",\"Other/NotSure\",null]',\n",
       "       '[\"Other/NotSure\",null,\"Other/NotSure\",\"T-Mobile\"]',\n",
       "       '[\"Other/NotSure\",\"AT&TWireless\",\"T-Mobile\"]',\n",
       "       '[\"Other/NotSure\",\"Boost Mobile\"]', '[\"MetroPCS\",\"AT&TPrepaid\"]',\n",
       "       '[\"TracFone\",\"Sprint\"]', '[\"MetroPCS\",null,\"MetroPCS\"]',\n",
       "       '[\"T-Mobile\",\"Sprint\"]', '[\"VerizonWireless\",\"Boost Mobile\"]',\n",
       "       '[\"Other/NotSure\",\"StraightTalk\",\"TracFone\",\"StraightTalk\"]',\n",
       "       '[\"MetroPCS\",\"VirginMobile\"]',\n",
       "       '[\"Sprint\",\"Other/NotSure\",\"Other/NotSure\"]',\n",
       "       '[\"GoogleFi\",\"VerizonWireless\",\"VerizonWireless\"]',\n",
       "       '[\"GoogleFi\",\"TracFone\"]',\n",
       "       '[\"AT&TWireless\",\"AT&TWireless\",\"T-Mobile\",null]',\n",
       "       '[\"T-Mobile\",\"Other/NotSure\",\"Other/NotSure\"]',\n",
       "       '[\"GoogleVoice\",\"T-Mobile\",\"T-Mobile\"]',\n",
       "       '[\"T-MobilePrepaid\",\"T-MobilePrepaid\",\"GoogleVoice\"]',\n",
       "       '[null,\"T-Mobile\",\"T-Mobile\",\"T-Mobile\"]',\n",
       "       '[null,\"T-Mobile\",\"T-Mobile\"]', '[\"StraightTalk\",\"TracFone\"]',\n",
       "       '[\"VerizonWireless\",\"Cricket\"]',\n",
       "       '[\"T-MobilePrepaid\",\"Other/NotSure\"]',\n",
       "       '[\"VerizonWireless\",\"VerizonWireless\",null,null,null]',\n",
       "       '[null,\"Cricket\",\"Cricket\"]', '[null,\"Boost Mobile\",\"Sprint\"]',\n",
       "       '[\"AT&TWireless\",\"VerizonWireless\",\"AT&TWireless\"]',\n",
       "       '[\"T-Mobile\",\"T-Mobile\",\"AT&TWireless\"]',\n",
       "       '[\"T-Mobile\",\"Boost Mobile\"]',\n",
       "       '[\"AT&TWireless\",\"Sprint\",\"AT&TWireless\"]',\n",
       "       '[\"T-Mobile\",\"Sprint\",\"Sprint\"]',\n",
       "       '[\"Other/NotSure\",\"U.S.Cellular\"]',\n",
       "       '[\"T-MobilePrepaid\",\"VerizonPrepaid\"]',\n",
       "       '[\"VerizonPrepaid\",\"VerizonWireless\",\"VerizonWireless\"]',\n",
       "       '[\"GoogleVoice\",\"VerizonWireless\"]', '[null,\"U.S.Cellular\"]',\n",
       "       '[\"AT&TWireless\",\"Boost Mobile\",\"StraightTalk\",\"StraightTalk\"]',\n",
       "       '[null,\"Boost Mobile\",\"Boost Mobile\"]',\n",
       "       '[\"VerizonWireless\",\"GoogleFi\"]',\n",
       "       '[\"Other/NotSure\",\"StraightTalk\"]',\n",
       "       '[\"AT&TPrepaid\",\"Other/NotSure\"]',\n",
       "       '[\"VerizonWireless\",\"VerizonWireless\",\"Other/NotSure\"]',\n",
       "       '[\"VerizonWireless\",\"Other/NotSure\",\"VerizonWireless\"]',\n",
       "       '[\"Sprint\",\"Sprint\",\"MetroPCS\",\"Sprint\"]',\n",
       "       '[\"Cricket\",\"Sprint\",\"T-Mobile\",\"T-Mobile\"]',\n",
       "       '[\"AT&TWireless\",\"VerizonWireless\",\"AT&TWireless\",\"AT&TWireless\"]',\n",
       "       '[\"T-Mobile\",\"T-Mobile\",\"Cricket\"]',\n",
       "       '[\"TracFone\",\"T-MobilePrepaid\"]',\n",
       "       '[\"Boost Mobile\",\"T-Mobile\",\"T-Mobile\"]',\n",
       "       '[\"Sprint\",null,null,null]', '[\"Sprint\",\"Sprint\",null,null]',\n",
       "       '[\"Cricket\",\"Cricket\",null,null]',\n",
       "       '[\"Sprint\",\"Sprint\",\"Other/NotSure\",\"Other/NotSure\"]',\n",
       "       '[\"StraightTalk\",\"StraightTalk\",null,null]',\n",
       "       '[\"Other/NotSure\",\"Other/NotSure\",\"Other/NotSure\",\"Other/NotSure\",null]',\n",
       "       '[\"GoogleVoice\",\"GoogleVoice\",\"GoogleVoice\",\"GoogleVoice\"]',\n",
       "       '[\"Net10\",\"TracFone\"]', '[\"Boost Mobile\",\"T-MobilePrepaid\"]',\n",
       "       '[\"Boost Mobile\",\"Boost Mobile\",\"T-MobilePrepaid\"]',\n",
       "       '[\"AT&TWireless\",\"AT&TWireless\",\"VerizonWireless\"]',\n",
       "       '[\"VerizonWireless\",\"VerizonWireless\",\"Boost Mobile\"]',\n",
       "       '[\"VirginMobile\",\"Boost Mobile\"]',\n",
       "       '[\"T-Mobile\",\"RepublicWireless\"]',\n",
       "       '[\"VerizonWireless\",\"VerizonWireless\",\"VerizonWireless\",\"Other/NotSure\"]',\n",
       "       '[\"T-Mobile\",\"AT&TWireless\",\"T-Mobile\",\"T-Mobile\"]',\n",
       "       '[\"AT&TPrepaid\",\"Sprint\"]',\n",
       "       '[\"Boost Mobile\",\"T-Mobile\",\"MetroPCS\",\"StraightTalk\"]',\n",
       "       '[\"Sprint\",\"T-Mobile\"]', '[\"Boost Mobile\",\"Other/NotSure\"]',\n",
       "       '[\"VerizonWireless\",\"Other/NotSure\",\"VerizonWireless\",\"VerizonWireless\",\"VerizonWireless\"]',\n",
       "       '[\"VerizonPrepaid\",\"Sprint\"]',\n",
       "       '[null,\"Other/NotSure\",\"Other/NotSure\"]',\n",
       "       '[\"Other/NotSure\",\"Net10\",\"Net10\"]',\n",
       "       '[\"StraightTalk\",\"StraightTalk\",\"Cricket\"]',\n",
       "       '[null,\"StraightTalk\",\"StraightTalk\",\"StraightTalk\"]',\n",
       "       '[\"Other/NotSure\",\"Other/NotSure\",null,\"T-Mobile\"]',\n",
       "       '[null,null,\"T-Mobile\",null]', '[\"Other/NotSure\",null,null,null]',\n",
       "       '[\"Cricket\",\"T-Mobile\"]', '[\"T-Mobile\",\"Other/NotSure\",null]',\n",
       "       '[\"AT&TWireless\",\"MetroPCS\",\"MetroPCS\"]',\n",
       "       '[null,\"MetroPCS\",\"MetroPCS\",\"MetroPCS\",\"MetroPCS\"]',\n",
       "       '[\"T-Mobile\",\"Other/NotSure\",\"T-Mobile\",\"T-Mobile\"]',\n",
       "       '[\"VerizonWireless\",\"U.S.Cellular\"]',\n",
       "       '[\"VerizonPrepaid\",\"VerizonPrepaid\",\"VerizonWireless\"]',\n",
       "       '[\"Boost Mobile\",\"AT&TWireless\"]', '[\"Cricket\",\"Cricket\",null]',\n",
       "       '[null,null,\"Sprint\",null]',\n",
       "       '[\"Other/NotSure\",\"VerizonPrepaid\",\"VerizonWireless\"]',\n",
       "       '[\"Cricket\",\"Cricket\",\"Cricket\",\"Cricket\",null]',\n",
       "       '[\"Cricket\",\"Cricket\",\"Other/NotSure\"]',\n",
       "       '[\"T-Mobile\",\"T-Mobile\",\"Sprint\"]',\n",
       "       '[\"T-MobilePrepaid\",\"MetroPCS\"]',\n",
       "       '[\"VerizonWireless\",\"VerizonWireless\",\"VerizonWireless\",null,\"VerizonWireless\"]',\n",
       "       '[\"MetroPCS\",\"T-Mobile\",\"VerizonWireless\"]',\n",
       "       '[\"Boost Mobile\",\"Cricket\"]',\n",
       "       '[\"VirginMobile\",\"TracFone\",\"VirginMobile\"]',\n",
       "       '[\"FreedomPop\",\"StraightTalk\"]', '[\"T-Mobile\",\"AT&TPrepaid\"]',\n",
       "       '[\"TelcelAmerica\"]',\n",
       "       '[\"Other/NotSure\",\"VerizonWireless\",\"Cricket\"]',\n",
       "       '[\"TracFone\",\"GoogleVoice\"]', '[\"Cricket\",\"Other/NotSure\"]',\n",
       "       '[\"VerizonWireless\",\"VerizonWireless\",\"AT&TWireless\"]',\n",
       "       '[\"Sprint\",\"Sprint\",\"T-Mobile\"]',\n",
       "       '[\"VerizonWireless\",\"RepublicWireless\"]',\n",
       "       '[\"Boost Mobile\",\"MetroPCS\",null]',\n",
       "       '[\"VerizonWireless\",\"VerizonWireless\",\"VerizonWireless\",\"Sprint\"]',\n",
       "       '[\"Boost Mobile\",\"VerizonWireless\",\"StraightTalk\"]',\n",
       "       '[null,\"TracFone\",null]',\n",
       "       '[\"GoogleVoice\",\"Other/NotSure\",\"Other/NotSure\"]',\n",
       "       '[\"MetroPCS\",\"VerizonWireless\",\"MetroPCS\"]',\n",
       "       '[\"VerizonWireless\",\"Sprint\",\"VerizonWireless\"]',\n",
       "       '[\"T-Mobile\",\"T-Mobile\",\"T-Mobile\",null]',\n",
       "       '[\"Boost Mobile\",\"Boost Mobile\",\"Sprint\"]',\n",
       "       '[\"MetroPCS\",\"Sprint\",\"Sprint\"]',\n",
       "       '[\"Sprint\",\"Sprint\",\"Sprint\",\"StraightTalk\"]',\n",
       "       '[null,\"RepublicWireless\"]',\n",
       "       '[\"Sprint\",\"AT&TWireless\",\"AT&TWireless\"]',\n",
       "       '[\"AT&TWireless\",\"AT&TWireless\",\"AT&TWireless\",\"MetroPCS\",\"AT&TWireless\"]',\n",
       "       '[\"Sprint\",\"Sprint\",null,null,null]',\n",
       "       '[\"TracFone\",\"TracFone\",null]',\n",
       "       '[\"AT&TWireless\",\"AT&TWireless\",\"AT&TWireless\",\"AT&TWireless\",\"Other/NotSure\"]',\n",
       "       '[\"VirginMobile\",\"StraightTalk\",\"VirginMobile\",\"StraightTalk\"]',\n",
       "       '[\"Boost Mobile\",\"VerizonWireless\",\"VerizonWireless\"]',\n",
       "       '[\"Sprint\",\"Sprint\",\"Sprint\",\"VerizonWireless\"]',\n",
       "       '[\"VerizonWireless\",\"Sprint\",\"Sprint\",\"Sprint\"]',\n",
       "       '[\"Other/NotSure\",\"Cricket\",\"MetroPCS\"]',\n",
       "       '[\"Sprint\",\"Sprint\",\"Sprint\",\"StraightTalk\",\"Sprint\"]',\n",
       "       '[\"Sprint\",\"Sprint\",\"Sprint\",\"Sprint\",\"VerizonWireless\"]',\n",
       "       '[\"StraightTalk\",\"AT&TWireless\"]',\n",
       "       '[\"AT&TPrepaid\",\"AT&TPrepaid\",\"VerizonWireless\"]',\n",
       "       '[\"Sprint\",\"MetroPCS\",\"MetroPCS\"]',\n",
       "       '[\"VerizonPrepaid\",null,\"VerizonPrepaid\",\"VerizonPrepaid\"]',\n",
       "       '[\"MetroPCS\",\"GoogleVoice\"]', '[\"VerizonPrepaid\",null,null]',\n",
       "       '[\"T-Mobile\",\"T-Mobile\",\"MetroPCS\"]', '[\"GoogleVoice\",null]',\n",
       "       '[\"VerizonWireless\",\"AT&TWireless\",\"AT&TWireless\",\"AT&TWireless\"]',\n",
       "       '[\"T-Mobile\",\"T-Mobile\",\"StraightTalk\",\"T-Mobile\",\"T-Mobile\"]',\n",
       "       '[\"Other/NotSure\",\"Sprint\",\"Sprint\"]',\n",
       "       '[\"GoogleFi\",\"VerizonWireless\"]',\n",
       "       '[\"StraightTalk\",null,null,null]',\n",
       "       '[\"T-Mobile\",\"T-Mobile\",null,\"Other/NotSure\"]',\n",
       "       '[null,\"AT&TWireless\",\"AT&TWireless\",null,\"AT&TWireless\"]',\n",
       "       '[\"AT&TWireless\",\"VerizonPrepaid\"]',\n",
       "       '[\"TracFone\",\"TracFone\",\"TracFone\",\"TracFone\",\"TracFone\"]',\n",
       "       '[\"VerizonPrepaid\",\"VerizonPrepaid\",\"VerizonPrepaid\",null]',\n",
       "       '[\"Sprint\",\"VerizonWireless\",\"VerizonWireless\"]',\n",
       "       '[\"U.S.Cellular\",\"U.S.Cellular\",\"U.S.Cellular\",\"U.S.Cellular\"]',\n",
       "       '[\"Boost Mobile\",null,null,\"Boost Mobile\",\"Boost Mobile\"]',\n",
       "       '[\"VerizonWireless\",\"VerizonWireless\",\"VerizonWireless\",\"StraightTalk\"]',\n",
       "       '[\"U.S.Cellular\",\"StraightTalk\",\"U.S.Cellular\"]',\n",
       "       '[\"U.S.Cellular\",\"VerizonWireless\",\"U.S.Cellular\"]',\n",
       "       '[\"Sprint\",\"Sprint\",null,null,\"Sprint\"]',\n",
       "       '[\"T-MobilePrepaid\",\"T-MobilePrepaid\",\"T-MobilePrepaid\"]',\n",
       "       '[\"VerizonWireless\",null,\"Boost Mobile\",\"Boost Mobile\"]',\n",
       "       '[\"Boost Mobile\",\"Boost Mobile\",\"VerizonWireless\"]',\n",
       "       '[\"VerizonWireless\",\"AT&TPrepaid\",\"VerizonWireless\"]',\n",
       "       '[\"Cricket\",\"AT&TWireless\",\"AT&TWireless\"]',\n",
       "       '[null,\"T-Mobile\",null]', '[\"MetroPCS\",\"MetroPCS\",null,null]',\n",
       "       '[\"Sprint\",\"T-Mobile\",\"Sprint\",\"Boost Mobile\",null]',\n",
       "       '[\"Cricket\",\"VerizonWireless\",\"VerizonWireless\"]',\n",
       "       '[\"VirginMobile\",\"TracFone\"]', '[\"Cricket\",\"VerizonPrepaid\"]',\n",
       "       '[\"MetroPCS\",\"MetroPCS\",\"Other/NotSure\"]',\n",
       "       '[\"StraightTalk\",\"T-Mobile\",\"StraightTalk\"]',\n",
       "       '[\"Other/NotSure\",\"Other/NotSure\",null,null]',\n",
       "       '[\"GoogleFi\",\"RepublicWireless\"]',\n",
       "       '[\"T-Mobile\",\"Other/NotSure\",\"T-Mobile\",\"Other/NotSure\"]',\n",
       "       '[\"Other/NotSure\",\"T-Mobile\",\"Other/NotSure\",\"Other/NotSure\"]',\n",
       "       '[null,\"Sprint\",\"MetroPCS\"]', '[null,\"StraightTalk\",null]',\n",
       "       '[null,null,\"StraightTalk\",\"StraightTalk\"]',\n",
       "       '[\"Sprint\",null,null,\"Sprint\"]',\n",
       "       '[null,null,\"AT&TWireless\",\"AT&TWireless\",\"GoogleFi\"]',\n",
       "       '[\"RepublicWireless\",null]',\n",
       "       '[\"VirginMobile\",\"VirginMobile\",\"VirginMobile\",\"VirginMobile\",\"VirginMobile\"]',\n",
       "       '[\"GoogleVoice\",\"VerizonWireless\",\"VerizonWireless\"]',\n",
       "       '[\"Other/NotSure\",\"VirginMobile\"]', '[\"Sprint\",\"TracFone\"]',\n",
       "       '[\"StraightTalk\",\"T-MobilePrepaid\"]',\n",
       "       '[\"StraightTalk\",\"Boost Mobile\",\"Boost Mobile\"]',\n",
       "       '[\"Boost Mobile\",\"StraightTalk\",\"Boost Mobile\"]',\n",
       "       '[\"VirginMobile\",\"VirginMobile\",\"VirginMobile\",\"VirginMobile\"]',\n",
       "       '[null,\"RepublicWireless\",\"RepublicWireless\",\"RepublicWireless\"]',\n",
       "       '[null,\"AT&TWireless\",\"AT&TWireless\",\"AT&TWireless\"]',\n",
       "       '[\"AT&TWireless\",\"T-MobilePrepaid\"]',\n",
       "       '[\"TracFone\",\"VerizonWireless\",\"VerizonWireless\",\"VerizonWireless\"]',\n",
       "       '[null,\"Boost Mobile\",\"MetroPCS\"]',\n",
       "       '[\"VerizonPrepaid\",null,\"Other/NotSure\"]',\n",
       "       '[\"Other/NotSure\",\"MetroPCS\",\"MetroPCS\"]',\n",
       "       '[\"Sprint\",null,\"Sprint\",null]', '[null,null,\"Sprint\",\"Sprint\"]',\n",
       "       '[\"Sprint\",\"T-Mobile\",\"Boost Mobile\"]',\n",
       "       '[\"VerizonPrepaid\",\"VerizonWireless\",\"VerizonWireless\",\"VerizonWireless\"]',\n",
       "       '[\"TracFone\",\"Cricket\"]', '[\"VirginMobile\",\"StraightTalk\"]',\n",
       "       '[\"Boost Mobile\",\"StraightTalk\"]',\n",
       "       '[\"Sprint\",null,\"Sprint\",\"Sprint\",\"Sprint\"]',\n",
       "       '[\"AT&TWireless\",\"GoogleVoice\",\"GoogleVoice\",\"AT&TWireless\"]',\n",
       "       '[\"StraightTalk\",\"StraightTalk\",\"StraightTalk\",\"TracFone\"]',\n",
       "       '[\"T-Mobile\",\"TracFone\",\"TracFone\"]',\n",
       "       '[\"VerizonWireless\",\"VerizonPrepaid\",\"VerizonPrepaid\"]',\n",
       "       '[\"Sprint\",\"Other/NotSure\",null]', '[null,null,\"T-Mobile\"]',\n",
       "       '[\"Sprint\",\"Sprint\",\"FreedomPop\"]',\n",
       "       '[null,\"T-MobilePrepaid\",\"T-MobilePrepaid\"]',\n",
       "       '[\"VerizonWireless\",null,\"VerizonWireless\",null]',\n",
       "       '[\"AT&TPrepaid\",\"T-Mobile\",\"Boost Mobile\"]',\n",
       "       '[\"TracFone\",\"Net10\"]', '[\"VerizonWireless\",\"T-MobilePrepaid\"]',\n",
       "       '[\"AT&TPrepaid\",\"MetroPCS\",\"AT&TPrepaid\"]', '[null,\"GoogleFi\"]',\n",
       "       '[\"GoogleFi\",\"GoogleFi\",\"GoogleFi\",\"GoogleFi\"]',\n",
       "       '[\"MetroPCS\",\"T-MobilePrepaid\"]',\n",
       "       '[\"VerizonWireless\",\"StraightTalk\",\"Other/NotSure\"]',\n",
       "       '[\"TracFone\",\"AT&TPrepaid\"]', '[\"Net10\",\"Net10\",\"Net10\"]',\n",
       "       '[\"Boost Mobile\",\"AT&TWireless\",\"MetroPCS\"]',\n",
       "       '[null,\"RepublicWireless\",\"RepublicWireless\",\"RepublicWireless\",\"RepublicWireless\"]',\n",
       "       '[\"TracFone\",\"Sprint\",\"Sprint\"]', '[\"GoogleFi\",\"GoogleVoice\"]',\n",
       "       '[\"Sprint\",\"RepublicWireless\"]',\n",
       "       '[\"TracFone\",\"TracFone\",\"TracFone\",\"TracFone\"]',\n",
       "       '[\"TracFone\",\"Other/NotSure\",\"T-MobilePrepaid\"]',\n",
       "       '[\"StraightTalk\",\"VerizonPrepaid\"]',\n",
       "       '[\"VerizonWireless\",\"VerizonWireless\",\"MetroPCS\"]',\n",
       "       '[\"VerizonWireless\",\"Other/NotSure\",\"Other/NotSure\",\"VerizonWireless\"]',\n",
       "       '[\"StraightTalk\",\"AT&TPrepaid\"]',\n",
       "       '[null,\"AT&TWireless\",\"AT&TWireless\",\"AT&TWireless\",\"AT&TWireless\"]',\n",
       "       '[\"VerizonWireless\",\"Boost Mobile\",\"Other/NotSure\"]',\n",
       "       '[null,\"RepublicWireless\",\"RepublicWireless\"]',\n",
       "       '[null,\"TracFone\",\"Other/NotSure\"]',\n",
       "       '[\"RepublicWireless\",\"Cricket\"]',\n",
       "       '[\"GoogleFi\",\"VerizonWireless\",null]',\n",
       "       '[\"Net10\",\"Net10\",\"TracFone\",\"TracFone\"]',\n",
       "       '[\"TracFone\",\"TracFone\",null,null]', '[\"Cricket\",\"StraightTalk\"]',\n",
       "       '[null,\"Other/NotSure\",\"TracFone\"]',\n",
       "       '[\"AT&TWireless\",\"VirginMobile\"]', '[\"Sprint\",\"StraightTalk\"]',\n",
       "       '[\"VerizonWireless\",\"VerizonWireless\",\"Other/NotSure\",\"VerizonWireless\"]',\n",
       "       '[\"StraightTalk\",\"Net10\"]',\n",
       "       '[\"StraightTalk\",\"StraightTalk\",\"TracFone\"]',\n",
       "       '[\"StraightTalk\",\"StraightTalk\",null,\"StraightTalk\"]',\n",
       "       '[null,\"Other/NotSure\",\"Other/NotSure\",\"Other/NotSure\"]',\n",
       "       '[\"Cricket\",null,\"Cricket\"]',\n",
       "       '[\"Other/NotSure\",\"VerizonWireless\",\"Other/NotSure\"]',\n",
       "       '[\"VerizonWireless\",\"TracFone\",\"TracFone\"]',\n",
       "       '[\"VerizonWireless\",null,null,\"VerizonWireless\",\"VerizonWireless\"]',\n",
       "       '[\"AT&TWireless\",\"FreedomPop\"]',\n",
       "       '[\"VerizonWireless\",\"VerizonWireless\",\"VerizonWireless\",null,null]',\n",
       "       '[\"VerizonWireless\",\"VerizonWireless\",\"T-Mobile\"]',\n",
       "       '[\"Other/NotSure\",\"AT&TWireless\",\"AT&TWireless\",\"AT&TWireless\"]',\n",
       "       '[\"Other/NotSure\",\"VerizonPrepaid\",null]',\n",
       "       '[\"U.S.Cellular\",\"U.S.Cellular\",\"U.S.Cellular\",\"U.S.Cellular\",null]',\n",
       "       '[null,\"VerizonWireless\",\"VerizonWireless\",null]',\n",
       "       '[\"AT&TWireless\",\"AT&TWireless\",\"MetroPCS\"]',\n",
       "       '[null,\"StraightTalk\",\"StraightTalk\"]',\n",
       "       '[\"AT&TWireless\",null,\"VerizonWireless\"]',\n",
       "       '[\"AT&TWireless\",\"AT&TPrepaid\",\"AT&TPrepaid\"]',\n",
       "       '[\"VerizonWireless\",\"VerizonWireless\",\"VerizonWireless\",null,\"Other/NotSure\"]',\n",
       "       '[\"VerizonWireless\",\"VerizonWireless\",\"StraightTalk\"]',\n",
       "       '[\"T-Mobile\",\"VerizonWireless\",\"VerizonWireless\"]',\n",
       "       '[\"VerizonWireless\",\"StraightTalk\",\"VerizonWireless\",\"VerizonWireless\"]',\n",
       "       '[\"Other/NotSure\",\"Cricket\",\"Cricket\"]',\n",
       "       '[\"Sprint\",\"VirginMobile\"]',\n",
       "       '[\"TracFone\",\"VerizonWireless\",\"VerizonWireless\"]',\n",
       "       '[\"Other/NotSure\",\"Other/NotSure\",\"StraightTalk\"]',\n",
       "       '[\"Cricket\",\"Cricket\",\"T-Mobile\"]',\n",
       "       '[\"VerizonPrepaid\",\"Other/NotSure\"]', '[null,\"GoogleVoice\"]',\n",
       "       '[\"TracFone\",null,null]',\n",
       "       '[\"Other/NotSure\",\"TracFone\",\"TracFone\"]',\n",
       "       '[\"U.S.Cellular\",\"U.S.Cellular\",\"U.S.Cellular\",\"U.S.Cellular\",\"U.S.Cellular\"]',\n",
       "       '[\"GoogleFi\",\"Other/NotSure\",\"VirginMobile\"]',\n",
       "       '[\"GoogleVoice\",null,null,null]',\n",
       "       '[\"AT&TPrepaid\",\"AT&TPrepaid\",\"AT&TPrepaid\",null]',\n",
       "       '[\"TracFone\",\"Cricket\",\"TracFone\",\"TracFone\"]',\n",
       "       '[\"Other/NotSure\",\"Other/NotSure\",\"TracFone\"]',\n",
       "       '[\"GoogleFi\",\"AT&TPrepaid\"]', '[\"T-Mobile\",\"StraightTalk\",null]',\n",
       "       '[\"RepublicWireless\",\"TracFone\",\"RepublicWireless\",\"RepublicWireless\"]',\n",
       "       '[\"AT&TWireless\",\"VerizonWireless\",\"Cricket\",\"AT&TWireless\",\"AT&TWireless\"]',\n",
       "       '[\"VirginMobile\",\"VirginMobile\",\"VerizonWireless\"]',\n",
       "       '[\"StraightTalk\",null,\"StraightTalk\"]',\n",
       "       '[\"VerizonWireless\",\"GoogleVoice\",\"VerizonWireless\",\"VerizonWireless\",\"VerizonWireless\"]',\n",
       "       '[\"Other/NotSure\",\"VerizonWireless\",\"VerizonWireless\",\"VerizonWireless\"]',\n",
       "       '[\"VerizonWireless\",\"T-Mobile\",\"VerizonWireless\",\"VerizonWireless\"]',\n",
       "       '[\"Boost Mobile\",\"Boost Mobile\",\"Boost Mobile\",null]',\n",
       "       '[\"StraightTalk\",\"TracFone\",null,\"VerizonWireless\",\"StraightTalk\"]',\n",
       "       '[\"StraightTalk\",\"Other/NotSure\",\"StraightTalk\",\"VerizonWireless\",null]',\n",
       "       '[\"Other/NotSure\",\"Net10\"]',\n",
       "       '[\"Other/NotSure\",\"Boost Mobile\",\"Boost Mobile\"]',\n",
       "       '[null,\"Boost Mobile\",\"Sprint\",\"Sprint\"]',\n",
       "       '[\"VirginMobile\",\"AT&TWireless\",null]',\n",
       "       '[\"TracFone\",\"AT&TWireless\",\"AT&TWireless\"]',\n",
       "       '[\"AT&TWireless\",\"T-Mobile\",\"T-Mobile\",\"T-Mobile\",\"T-Mobile\"]',\n",
       "       '[\"VerizonPrepaid\",\"TracFone\"]', '[null,null,\"MetroPCS\"]',\n",
       "       '[\"Boost Mobile\",\"Boost Mobile\",\"Cricket\"]',\n",
       "       '[\"Other/NotSure\",\"AT&TPrepaid\"]', '[\"Cricket\",\"TracFone\"]',\n",
       "       '[\"AT&TWireless\",\"T-Mobile\",\"T-Mobile\",\"T-Mobile\"]',\n",
       "       '[\"Other/NotSure\",\"FreedomPop\",null]',\n",
       "       '[\"T-MobilePrepaid\",\"AT&TWireless\",\"AT&TWireless\"]',\n",
       "       '[\"Other/NotSure\",\"TracFone\",\"TracFone\",\"VerizonWireless\"]',\n",
       "       '[\"Sprint\",\"GoogleVoice\"]', '[\"AT&TPrepaid\",\"AT&TPrepaid\",null]',\n",
       "       '[\"AT&TPrepaid\",\"AT&TWireless\",null]', '[\"T-Mobile\",\"Cricket\"]',\n",
       "       '[\"Other/NotSure\",null,\"T-Mobile\"]',\n",
       "       '[\"U.S.Cellular\",\"VerizonWireless\"]',\n",
       "       '[\"Sprint\",\"Sprint\",\"AT&TWireless\"]',\n",
       "       '[\"AT&TWireless\",\"GoogleVoice\",\"AT&TWireless\"]',\n",
       "       '[\"Sprint\",\"Sprint\",\"GoogleVoice\"]',\n",
       "       '[\"MetroPCS\",\"MetroPCS\",\"Cricket\"]',\n",
       "       '[\"Other/NotSure\",\"VerizonWireless\",null]',\n",
       "       '[\"MetroPCS\",\"MetroPCS\",\"RepublicWireless\"]',\n",
       "       '[\"Boost Mobile\",\"Boost Mobile\",\"U.S.Cellular\",\"Boost Mobile\"]',\n",
       "       '[\"MetroPCS\",\"MetroPCS\",null,\"MetroPCS\"]',\n",
       "       '[\"VerizonWireless\",null,\"MetroPCS\",\"Sprint\",\"Sprint\"]',\n",
       "       '[\"Sprint\",\"Sprint\",\"VerizonWireless\",null]',\n",
       "       '[\"VerizonWireless\",null,\"Sprint\"]',\n",
       "       '[\"MetroPCS\",\"MetroPCS\",\"Sprint\",\"MetroPCS\"]',\n",
       "       '[\"MetroPCS\",\"MetroPCS\",\"MetroPCS\",\"Sprint\"]',\n",
       "       '[\"VerizonWireless\",\"VerizonWireless\",\"AT&TWireless\",\"VerizonWireless\"]',\n",
       "       '[\"VerizonWireless\",\"GoogleVoice\"]',\n",
       "       '[\"RepublicWireless\",\"VerizonWireless\"]',\n",
       "       '[\"T-MobilePrepaid\",\"Sprint\"]',\n",
       "       '[\"VerizonWireless\",\"StraightTalk\",\"VerizonWireless\"]',\n",
       "       '[\"VirginMobile\",\"VerizonPrepaid\"]',\n",
       "       '[\"Other/NotSure\",\"T-Mobile\",\"T-Mobile\",\"T-Mobile\"]',\n",
       "       '[\"MetroPCS\",\"AT&TWireless\",\"StraightTalk\"]',\n",
       "       '[\"MetroPCS\",\"StraightTalk\",\"AT&TWireless\"]',\n",
       "       '[\"StraightTalk\",\"TracFone\",\"StraightTalk\",\"StraightTalk\",\"TracFone\"]',\n",
       "       '[\"VerizonWireless\",\"Boost Mobile\",null]',\n",
       "       '[null,\"VerizonWireless\",\"Boost Mobile\"]',\n",
       "       '[\"Sprint\",null,\"VerizonWireless\"]', '[\"Boost Mobile\",\"Net10\"]',\n",
       "       '[\"RepublicWireless\",\"Other/NotSure\"]',\n",
       "       '[\"U.S.Cellular\",\"StraightTalk\"]',\n",
       "       '[\"Cricket\",\"T-Mobile\",\"T-Mobile\"]',\n",
       "       '[\"U.S.Cellular\",\"U.S.Cellular\",null]',\n",
       "       '[\"MetroPCS\",\"Sprint\",\"Boost Mobile\"]',\n",
       "       '[\"AT&TPrepaid\",null,null]',\n",
       "       '[\"VerizonWireless\",\"VerizonWireless\",\"U.S.Cellular\"]',\n",
       "       '[\"VerizonPrepaid\",\"Cricket\"]', '[\"TracFone\",\"VerizonPrepaid\"]',\n",
       "       '[\"Other/NotSure\",\"Other/NotSure\",\"T-Mobile\",\"T-Mobile\"]',\n",
       "       '[\"VerizonPrepaid\",\"StraightTalk\",\"StraightTalk\"]',\n",
       "       '[\"StraightTalk\",\"VerizonWireless\",\"StraightTalk\",\"StraightTalk\"]',\n",
       "       '[\"VerizonWireless\",\"StraightTalk\",\"StraightTalk\",\"StraightTalk\"]',\n",
       "       '[\"StraightTalk\",\"StraightTalk\",\"VerizonPrepaid\"]',\n",
       "       '[\"VerizonWireless\",\"VerizonWireless\",\"VerizonWireless\",\"VerizonWireless\",\"AT&TWireless\"]',\n",
       "       '[null,null,null,\"VerizonWireless\",\"VerizonWireless\"]',\n",
       "       '[\"T-Mobile\",\"T-Mobile\",null,null]',\n",
       "       '[\"T-Mobile\",\"T-Mobile\",\"Other/NotSure\"]',\n",
       "       '[\"RepublicWireless\",null,\"RepublicWireless\"]',\n",
       "       '[\"Sprint\",\"Sprint\",\"AT&TPrepaid\",\"TracFone\"]',\n",
       "       '[\"AT&TWireless\",\"AT&TWireless\",\"GoogleVoice\"]',\n",
       "       '[\"MetroPCS\",\"MetroPCS\",\"Sprint\"]',\n",
       "       '[\"T-Mobile\",\"VerizonWireless\",\"T-Mobile\",\"T-Mobile\"]',\n",
       "       '[null,null,\"VerizonWireless\",\"VerizonWireless\",\"VerizonWireless\"]',\n",
       "       '[\"U.S.Cellular\",\"VerizonWireless\",\"VerizonWireless\"]',\n",
       "       '[\"VerizonWireless\",\"T-Mobile\",\"T-Mobile\"]',\n",
       "       '[\"T-Mobile\",\"Boost Mobile\",\"Boost Mobile\"]',\n",
       "       '[\"AT&TWireless\",\"AT&TWireless\",\"TracFone\"]',\n",
       "       '[\"GoogleFi\",\"Other/NotSure\"]',\n",
       "       '[\"Other/NotSure\",\"VerizonPrepaid\"]',\n",
       "       '[\"Other/NotSure\",\"Other/NotSure\",\"FreedomPop\"]',\n",
       "       '[\"TracFone\",\"VirginMobile\"]',\n",
       "       '[\"Sprint\",\"Sprint\",\"VerizonPrepaid\"]',\n",
       "       '[\"AT&TWireless\",\"TracFone\",\"MetroPCS\"]',\n",
       "       '[null,\"MetroPCS\",\"AT&TWireless\"]',\n",
       "       '[\"MetroPCS\",null,\"AT&TWireless\"]', '[\"Cricket\",\"Boost Mobile\"]',\n",
       "       '[\"T-Mobile\",\"Other/NotSure\",\"T-Mobile\"]',\n",
       "       '[\"VerizonPrepaid\",\"Net10\"]', '[\"U.S.Cellular\",\"MetroPCS\"]',\n",
       "       '[\"VerizonWireless\",\"VerizonWireless\",\"VerizonWireless\",\"VerizonPrepaid\"]',\n",
       "       '[null,\"VerizonWireless\",\"Sprint\"]',\n",
       "       '[\"Boost Mobile\",\"Boost Mobile\",\"Boost Mobile\",\"Boost Mobile\",\"Boost Mobile\"]',\n",
       "       '[\"Net10\",\"Other/NotSure\"]',\n",
       "       '[\"T-Mobile\",null,\"T-Mobile\",\"T-Mobile\"]',\n",
       "       '[\"AT&TWireless\",\"U.S.Cellular\",\"U.S.Cellular\"]',\n",
       "       '[\"VirginMobile\",\"VirginMobile\",\"VirginMobile\",\"VirginMobile\",null]',\n",
       "       '[\"AT&TWireless\",\"AT&TWireless\",\"T-Mobile\",\"AT&TWireless\",\"AT&TWireless\"]',\n",
       "       '[\"AT&TWireless\",null,\"Sprint\"]', '[null,null,\"StraightTalk\"]',\n",
       "       '[\"TracFone\",\"TracFone\",\"VerizonWireless\"]',\n",
       "       '[\"GoogleVoice\",\"Sprint\",\"Sprint\"]',\n",
       "       '[\"TracFone\",\"Other/NotSure\",\"Other/NotSure\"]',\n",
       "       '[\"MetroPCS\",\"MetroPCS\",\"AT&TPrepaid\"]',\n",
       "       '[\"VerizonPrepaid\",\"VerizonWireless\",null,\"VerizonWireless\"]',\n",
       "       '[\"Cricket\",\"Net10\"]', '[\"VirginMobile\",\"VirginMobile\",null]',\n",
       "       '[null,null,\"Boost Mobile\"]', '[\"Sprint\",\"Sprint\",\"VirginMobile\"]',\n",
       "       '[null,\"Sprint\",null]',\n",
       "       '[\"AT&TPrepaid\",\"Boost Mobile\",\"AT&TPrepaid\"]',\n",
       "       '[\"Boost Mobile\",\"AT&TPrepaid\",\"AT&TPrepaid\"]',\n",
       "       '[\"T-Mobile\",\"T-Mobile\",null,\"T-Mobile\"]',\n",
       "       '[\"StraightTalk\",null,\"Other/NotSure\",null]',\n",
       "       '[\"Other/NotSure\",\"Other/NotSure\",\"Cricket\",\"Cricket\",\"Cricket\"]',\n",
       "       '[\"Cricket\",\"Cricket\",\"Cricket\",\"StraightTalk\",\"StraightTalk\"]',\n",
       "       '[\"AT&TWireless\",\"T-Mobile\",\"T-Mobile\"]',\n",
       "       '[\"VerizonWireless\",\"VerizonWireless\",\"Sprint\",null]',\n",
       "       '[\"AT&TWireless\",\"AT&TWireless\",\"Cricket\",\"AT&TWireless\"]',\n",
       "       '[\"Sprint\",\"Net10\",\"Net10\"]',\n",
       "       '[null,\"T-Mobile\",null,\"Other/NotSure\"]',\n",
       "       '[\"T-Mobile\",\"VirginMobile\"]',\n",
       "       '[null,\"VerizonWireless\",null,null]',\n",
       "       '[\"AT&TPrepaid\",\"MetroPCS\",\"MetroPCS\"]',\n",
       "       '[\"AT&TWireless\",\"AT&TWireless\",\"AT&TWireless\",\"TracFone\"]',\n",
       "       '[\"MetroPCS\",\"StraightTalk\",\"MetroPCS\"]',\n",
       "       '[\"Net10\",\"Other/NotSure\",null]', '[\"StraightTalk\",\"MetroPCS\"]',\n",
       "       '[\"Sprint\",\"T-MobilePrepaid\"]', '[\"Other/NotSure\",\"GoogleFi\"]',\n",
       "       '[\"T-Mobile\",\"MetroPCS\",null,null]',\n",
       "       '[\"Cricket\",\"RepublicWireless\",\"RepublicWireless\"]',\n",
       "       '[\"AT&TWireless\",\"AT&TWireless\",\"Sprint\",\"AT&TWireless\"]',\n",
       "       '[\"AT&TWireless\",\"AT&TWireless\",\"AT&TWireless\",\"AT&TWireless\",\"VerizonWireless\"]',\n",
       "       '[\"AT&TPrepaid\",\"TracFone\"]',\n",
       "       '[\"VerizonWireless\",\"VerizonWireless\",\"Other/NotSure\",\"VerizonWireless\",\"VerizonWireless\"]',\n",
       "       '[\"AT&TWireless\",\"AT&TPrepaid\",null]',\n",
       "       '[null,\"VerizonWireless\",null,\"VerizonWireless\",\"VerizonWireless\"]',\n",
       "       '[\"T-Mobile\",\"T-Mobile\",\"GoogleVoice\"]',\n",
       "       '[null,\"Sprint\",\"Cricket\"]', '[\"Cricket\",\"AT&TPrepaid\"]',\n",
       "       '[\"T-Mobile\",null,null,\"VerizonWireless\"]',\n",
       "       '[\"Other/NotSure\",\"Other/NotSure\",\"Other/NotSure\",\"Sprint\",\"Sprint\"]',\n",
       "       '[\"Boost Mobile\",\"Other/NotSure\",\"Other/NotSure\",null]',\n",
       "       '[null,null,\"MetroPCS\",\"VerizonWireless\"]',\n",
       "       '[\"VerizonPrepaid\",\"VerizonPrepaid\",null]',\n",
       "       '[\"Sprint\",\"AT&TPrepaid\"]',\n",
       "       '[\"T-MobilePrepaid\",\"T-Mobile\",null,null]',\n",
       "       '[\"VerizonWireless\",\"VerizonWireless\",\"GoogleFi\"]',\n",
       "       '[\"Sprint\",\"AT&TWireless\",\"Sprint\"]',\n",
       "       '[\"VerizonWireless\",\"VerizonWireless\",\"MetroPCS\",\"VerizonWireless\",\"VerizonWireless\"]',\n",
       "       '[\"GoogleVoice\",\"GoogleVoice\",\"GoogleVoice\",\"Other/NotSure\"]',\n",
       "       '[\"T-Mobile\",\"Cricket\",null]', '[\"Sprint\",\"U.S.Cellular\"]',\n",
       "       '[\"T-MobilePrepaid\",\"VirginMobile\"]',\n",
       "       '[\"Other/NotSure\",\"Other/NotSure\",\"GoogleVoice\"]',\n",
       "       '[\"MetroPCS\",\"MetroPCS\",\"MetroPCS\",\"MetroPCS\",\"Other/NotSure\"]',\n",
       "       '[\"RepublicWireless\",\"Sprint\"]',\n",
       "       '[\"Sprint\",\"Boost Mobile\",\"Boost Mobile\"]',\n",
       "       '[\"Sprint\",\"Boost Mobile\",\"Boost Mobile\",\"Boost Mobile\"]',\n",
       "       '[\"Cricket\",\"Sprint\",\"Sprint\"]', '[null,\"Cricket\",null]',\n",
       "       '[\"AT&TPrepaid\",\"U.S.Cellular\"]',\n",
       "       '[\"Sprint\",\"AT&TWireless\",\"TracFone\"]',\n",
       "       '[\"VerizonWireless\",\"VerizonWireless\",\"VerizonWireless\",\"AT&TWireless\"]',\n",
       "       '[\"GoogleFi\",\"VerizonPrepaid\"]',\n",
       "       '[\"AT&TPrepaid\",\"VerizonWireless\"]',\n",
       "       '[\"AT&TWireless\",\"AT&TPrepaid\",\"AT&TPrepaid\",\"AT&TPrepaid\",\"AT&TPrepaid\"]',\n",
       "       '[\"AT&TPrepaid\",\"AT&TPrepaid\",\"AT&TPrepaid\",\"AT&TPrepaid\",\"AT&TPrepaid\"]',\n",
       "       '[\"MetroPCS\",\"AT&TWireless\",\"AT&TWireless\"]',\n",
       "       '[\"Other/NotSure\",null,\"StraightTalk\"]',\n",
       "       '[\"StraightTalk\",\"Other/NotSure\",null]',\n",
       "       '[\"Boost Mobile\",\"Boost Mobile\",\"Other/NotSure\"]',\n",
       "       '[\"MetroPCS\",\"MetroPCS\",\"MetroPCS\",\"MetroPCS\",null]',\n",
       "       '[\"RepublicWireless\",\"RepublicWireless\",\"RepublicWireless\",\"RepublicWireless\",null]',\n",
       "       '[\"AT&TWireless\",\"AT&TWireless\",\"VerizonWireless\",null]',\n",
       "       '[\"Boost Mobile\",null,\"Boost Mobile\"]', '[\"Net10\",\"StraightTalk\"]',\n",
       "       '[\"VirginMobile\",\"Boost Mobile\",null]',\n",
       "       '[\"VirginMobile\",\"Boost Mobile\",\"VirginMobile\"]',\n",
       "       '[null,\"TelcelAmerica\"]',\n",
       "       '[\"VerizonWireless\",\"VerizonWireless\",\"VerizonWireless\",\"VerizonWireless\",\"TracFone\"]',\n",
       "       '[\"T-Mobile\",\"MetroPCS\",\"T-Mobile\"]',\n",
       "       '[\"T-Mobile\",\"Other/NotSure\",\"VerizonWireless\"]',\n",
       "       '[null,\"StraightTalk\",\"AT&TWireless\",\"AT&TWireless\"]',\n",
       "       '[\"VirginMobile\",\"Sprint\"]', '[null,\"AT&TWireless\",null]',\n",
       "       '[\"Boost Mobile\",\"MetroPCS\",\"Boost Mobile\"]',\n",
       "       '[\"T-MobilePrepaid\",\"AT&TPrepaid\"]',\n",
       "       '[\"AT&TWireless\",\"GoogleVoice\"]',\n",
       "       '[\"Sprint\",\"Other/NotSure\",\"Sprint\",\"Sprint\"]',\n",
       "       '[\"AT&TPrepaid\",\"VerizonWireless\",\"VerizonWireless\"]',\n",
       "       '[\"VerizonWireless\",\"VerizonWireless\",\"TracFone\",\"TracFone\"]',\n",
       "       '[\"Boost Mobile\",\"T-Mobile\",\"VerizonWireless\"]',\n",
       "       '[\"Sprint\",\"Sprint\",\"Sprint\",\"T-Mobile\",\"Sprint\"]',\n",
       "       '[\"T-MobilePrepaid\",\"StraightTalk\"]',\n",
       "       '[\"GoogleVoice\",\"VerizonWireless\",\"VerizonWireless\",\"VerizonWireless\"]',\n",
       "       '[\"AT&TPrepaid\",\"T-MobilePrepaid\"]',\n",
       "       '[null,null,null,null,\"MetroPCS\"]', '[null,\"AT&TPrepaid\",null]',\n",
       "       '[null,\"AT&TWireless\",\"StraightTalk\"]',\n",
       "       '[\"AT&TWireless\",\"StraightTalk\",\"MetroPCS\"]',\n",
       "       '[\"Boost Mobile\",\"GoogleFi\"]',\n",
       "       '[\"GoogleVoice\",\"GoogleVoice\",null]', '[null,\"MetroPCS\",null]',\n",
       "       '[\"Sprint\",\"T-Mobile\",\"Sprint\"]',\n",
       "       '[\"AT&TWireless\",\"StraightTalk\",\"AT&TWireless\",\"AT&TWireless\"]',\n",
       "       '[\"Other/NotSure\",\"Other/NotSure\",\"Sprint\"]',\n",
       "       '[\"VerizonWireless\",\"VerizonWireless\",\"AT&TWireless\",\"AT&TWireless\"]',\n",
       "       '[\"T-Mobile\",\"T-Mobile\",\"MetroPCS\",\"T-Mobile\"]',\n",
       "       '[\"AT&TWireless\",\"Other/NotSure\",\"Other/NotSure\",null]',\n",
       "       '[\"AT&TWireless\",\"Other/NotSure\",\"RepublicWireless\",\"RepublicWireless\",\"AT&TWireless\"]',\n",
       "       '[\"AT&TPrepaid\",\"VerizonPrepaid\",\"T-MobilePrepaid\"]',\n",
       "       '[null,\"AT&TWireless\",\"AT&TWireless\",\"VerizonWireless\",\"AT&TWireless\"]',\n",
       "       '[null,\"T-MobilePrepaid\"]',\n",
       "       '[\"Boost Mobile\",\"VerizonWireless\",null]',\n",
       "       '[\"AT&TPrepaid\",null,\"AT&TPrepaid\"]',\n",
       "       '[\"StraightTalk\",\"AT&TWireless\",\"AT&TWireless\",\"Boost Mobile\"]',\n",
       "       '[\"T-Mobile\",\"T-Mobile\",\"AT&TWireless\",\"T-Mobile\"]',\n",
       "       '[\"VerizonWireless\",\"VerizonWireless\",\"VerizonWireless\",\"GoogleFi\"]',\n",
       "       '[\"AT&TPrepaid\",\"AT&TWireless\",\"AT&TWireless\"]',\n",
       "       '[\"TracFone\",\"TracFone\",\"TracFone\",null]',\n",
       "       '[\"Sprint\",\"VerizonPrepaid\"]',\n",
       "       '[\"Boost Mobile\",\"MetroPCS\",\"MetroPCS\",\"MetroPCS\"]',\n",
       "       '[\"VerizonWireless\",null,\"AT&TWireless\"]',\n",
       "       '[\"T-Mobile\",\"Other/NotSure\",\"Other/NotSure\",\"T-Mobile\"]',\n",
       "       '[\"Other/NotSure\",\"Other/NotSure\",null,\"Other/NotSure\"]',\n",
       "       '[\"T-MobilePrepaid\",\"T-MobilePrepaid\",\"Other/NotSure\"]',\n",
       "       '[\"FreedomPop\",\"VerizonWireless\",\"Other/NotSure\",\"VerizonWireless\",\"GoogleVoice\"]',\n",
       "       '[\"Sprint\",\"AT&TWireless\",\"AT&TWireless\",\"StraightTalk\"]',\n",
       "       '[\"AT&TWireless\",\"AT&TWireless\",\"Other/NotSure\",\"Sprint\"]',\n",
       "       '[\"Cricket\",\"Cricket\",\"Other/NotSure\",\"Cricket\"]',\n",
       "       '[\"T-Mobile\",\"T-Mobile\",null,null,null]',\n",
       "       '[\"TracFone\",\"T-Mobile\"]',\n",
       "       '[\"AT&TPrepaid\",\"AT&TPrepaid\",\"Other/NotSure\"]',\n",
       "       '[null,null,\"Other/NotSure\"]', '[\"Sprint\",\"MetroPCS\",\"Sprint\"]',\n",
       "       '[\"AT&TPrepaid\",\"GoogleVoice\"]',\n",
       "       '[\"Other/NotSure\",\"Other/NotSure\",\"U.S.Cellular\"]',\n",
       "       '[\"AT&TPrepaid\",\"AT&TWireless\",\"Other/NotSure\"]',\n",
       "       '[\"TracFone\",\"AT&TWireless\",\"AT&TWireless\",\"AT&TWireless\"]',\n",
       "       '[\"VerizonWireless\",\"VerizonPrepaid\",\"Other/NotSure\"]',\n",
       "       '[\"Sprint\",\"VerizonWireless\",\"Sprint\"]',\n",
       "       '[\"Net10\",\"MetroPCS\",\"MetroPCS\"]',\n",
       "       '[\"VerizonPrepaid\",\"Boost Mobile\",\"Boost Mobile\"]',\n",
       "       '[\"VerizonWireless\",\"GoogleFi\",null]',\n",
       "       '[\"AT&TWireless\",\"T-Mobile\",\"Other/NotSure\"]',\n",
       "       '[\"TelcelAmerica\",\"TelcelAmerica\"]',\n",
       "       '[\"Cricket\",\"MetroPCS\",\"MetroPCS\"]',\n",
       "       '[\"VerizonWireless\",\"VerizonWireless\",\"VerizonWireless\",\"Cricket\"]',\n",
       "       '[\"Boost Mobile\",\"Boost Mobile\",\"AT&TPrepaid\"]',\n",
       "       '[\"RepublicWireless\",\"StraightTalk\"]',\n",
       "       '[\"T-Mobile\",\"T-Mobile\",\"T-Mobile\",null,\"T-Mobile\"]',\n",
       "       '[\"MetroPCS\",\"TracFone\"]', '[\"GoogleFi\",\"Net10\"]',\n",
       "       '[null,\"VerizonWireless\",null]',\n",
       "       '[\"VerizonPrepaid\",\"AT&TPrepaid\",\"Other/NotSure\"]',\n",
       "       '[\"MetroPCS\",\"T-Mobile\",\"MetroPCS\",\"T-Mobile\"]',\n",
       "       '[\"Other/NotSure\",null,\"MetroPCS\"]',\n",
       "       '[\"AT&TPrepaid\",\"AT&TPrepaid\",\"StraightTalk\"]',\n",
       "       '[\"AT&TPrepaid\",\"StraightTalk\",\"AT&TPrepaid\"]',\n",
       "       '[\"Sprint\",\"VerizonWireless\",\"T-Mobile\"]',\n",
       "       '[\"VerizonWireless\",null,\"StraightTalk\"]',\n",
       "       '[null,\"GoogleFi\",\"GoogleFi\",\"GoogleFi\"]',\n",
       "       '[\"GoogleVoice\",\"VerizonPrepaid\"]',\n",
       "       '[\"Other/NotSure\",\"StraightTalk\",\"StraightTalk\"]',\n",
       "       '[\"RepublicWireless\",\"T-Mobile\"]',\n",
       "       '[\"VerizonPrepaid\",\"VerizonPrepaid\",\"StraightTalk\"]',\n",
       "       '[null,null,\"Other/NotSure\",\"Other/NotSure\"]',\n",
       "       '[\"T-Mobile\",\"MetroPCS\",\"T-Mobile\",\"T-Mobile\",null]',\n",
       "       '[\"VerizonWireless\",\"VerizonWireless\",\"Cricket\"]',\n",
       "       '[\"AT&TWireless\",\"AT&TWireless\",null,\"AT&TPrepaid\"]',\n",
       "       '[\"VerizonWireless\",\"VerizonWireless\",\"VerizonWireless\",\"U.S.Cellular\",\"U.S.Cellular\"]',\n",
       "       '[\"AT&TWireless\",\"StraightTalk\",\"StraightTalk\",null,null]',\n",
       "       '[\"TracFone\",\"MetroPCS\"]',\n",
       "       '[\"T-Mobile\",\"MetroPCS\",\"MetroPCS\",\"MetroPCS\"]',\n",
       "       '[\"T-Mobile\",\"MetroPCS\",\"T-Mobile\",\"MetroPCS\"]',\n",
       "       '[null,null,\"Sprint\"]', '[\"Cricket\",\"VirginMobile\"]',\n",
       "       '[\"U.S.Cellular\",\"U.S.Cellular\",\"Other/NotSure\"]',\n",
       "       '[\"GoogleVoice\",\"AT&TPrepaid\"]',\n",
       "       '[\"Sprint\",\"Sprint\",\"Boost Mobile\"]',\n",
       "       '[\"Other/NotSure\",null,\"Other/NotSure\",\"Other/NotSure\"]',\n",
       "       '[\"VerizonPrepaid\",\"StraightTalk\"]', '[\"MetroPCS\",\"U.S.Cellular\"]',\n",
       "       '[\"AT&TWireless\",\"VerizonWireless\",\"VerizonWireless\",\"AT&TWireless\"]',\n",
       "       '[\"VerizonWireless\",null,null,null]', '[\"Net10\",\"Boost Mobile\"]',\n",
       "       '[\"MetroPCS\",\"VerizonPrepaid\"]'], dtype=object)"
      ]
     },
     "execution_count": 230,
     "metadata": {},
     "output_type": "execute_result"
    }
   ],
   "source": [
    "order_category_df['FROM_CARRIER_NAME'].unique()"
   ]
  },
  {
   "cell_type": "code",
   "execution_count": 231,
   "metadata": {},
   "outputs": [],
   "source": [
    "def generate_carrier_vector(carrier_string):\n",
    "#     print('row = {}'.format(row))\n",
    "\n",
    "    carrier_vector = [0] * 5       # 5 carriers max. 0 means null\n",
    "\n",
    "    try:\n",
    "        truncated_string = carrier_string[1:-1]\n",
    "    except:\n",
    "#         print('carrier_string={}'.format(carrier_string))\n",
    "        return carrier_vector\n",
    "# #     print('truncated_string={}'.format(truncated_string))\n",
    "    carrier_array = truncated_string.split(',')\n",
    "    i = 0\n",
    "    for carrier in carrier_array:\n",
    "        carrier = carrier.replace(\"\\\"\", \"\")\n",
    "\n",
    "        try:\n",
    "#             print('carrier={}'.format(carrier))\n",
    "#             print('byod={}'.format(byod))\n",
    "            carrier_index = carrier_map[carrier]\n",
    "            carrier_vector[i] = carrier_index\n",
    "        except Exception as e:\n",
    "            print('sku_string={}'.format(carrier_string))\n",
    "            print(\"I/O error({})\".format(e))\n",
    "        i += 1\n",
    "        \n",
    "    return carrier_vector"
   ]
  },
  {
   "cell_type": "code",
   "execution_count": 232,
   "metadata": {},
   "outputs": [],
   "source": [
    "order_category_df['carrier_vector'] = order_category_df.apply(lambda x: generate_carrier_vector(x['FROM_CARRIER_NAME']), axis=1)"
   ]
  },
  {
   "cell_type": "code",
   "execution_count": 233,
   "metadata": {},
   "outputs": [],
   "source": [
    "order_category_df.drop(['FROM_CARRIER_NAME'], axis=1, inplace=True)\n",
    "order_category_df.drop(['PORT_IN_FLAG'], axis=1, inplace=True)"
   ]
  },
  {
   "cell_type": "markdown",
   "metadata": {},
   "source": [
    "Now process Make, Type and Model"
   ]
  },
  {
   "cell_type": "code",
   "execution_count": 234,
   "metadata": {},
   "outputs": [],
   "source": [
    "def collect_make(make_string1, make_string2, make_string3, make_string4, make_string5):\n",
    "    all_makes.add(make_string1)\n",
    "    all_makes.add(make_string2)\n",
    "    all_makes.add(make_string3)\n",
    "    all_makes.add(make_string4)\n",
    "    all_makes.add(make_string5)"
   ]
  },
  {
   "cell_type": "code",
   "execution_count": 235,
   "metadata": {},
   "outputs": [],
   "source": [
    "all_makes = set()\n",
    "for row in order_category_df.iterrows():\n",
    "#     print(row[1])\n",
    "#     print(row[1]['SKU'])\n",
    "    collect_make(row[1]['MAKE1'], row[1]['MAKE2'], row[1]['MAKE3'], row[1]['MAKE4'], row[1]['MAKE5'], )\n",
    "    \n"
   ]
  },
  {
   "cell_type": "code",
   "execution_count": 236,
   "metadata": {},
   "outputs": [],
   "source": [
    "all_make_list = list(all_makes)"
   ]
  },
  {
   "cell_type": "code",
   "execution_count": 237,
   "metadata": {},
   "outputs": [
    {
     "data": {
      "text/plain": [
       "[nan,\n",
       " 'Incipio',\n",
       " 'LG',\n",
       " 'Google',\n",
       " 'SanDisk',\n",
       " 'Samsung',\n",
       " 'Kate Spade',\n",
       " 'Case-Mate',\n",
       " 'Motorola',\n",
       " 'Mophie',\n",
       " 'Tech21',\n",
       " 'Gear4',\n",
       " 'Ventev',\n",
       " 'Superior',\n",
       " 'Apple',\n",
       " 'Speck',\n",
       " 'PopSockets',\n",
       " 'Sonix',\n",
       " 'OtterBox',\n",
       " 'Zagg']"
      ]
     },
     "execution_count": 237,
     "metadata": {},
     "output_type": "execute_result"
    }
   ],
   "source": [
    "all_make_list     # in a list, nan automatically floats to top"
   ]
  },
  {
   "cell_type": "code",
   "execution_count": 238,
   "metadata": {},
   "outputs": [
    {
     "data": {
      "text/plain": [
       "20"
      ]
     },
     "execution_count": 238,
     "metadata": {},
     "output_type": "execute_result"
    }
   ],
   "source": [
    "len(all_make_list)"
   ]
  },
  {
   "cell_type": "code",
   "execution_count": 239,
   "metadata": {},
   "outputs": [],
   "source": [
    "make_map = {}\n",
    "index = 0          # already accounted for nan\n",
    "for make in all_makes:\n",
    "    make_map[make] = index\n",
    "    index += 1"
   ]
  },
  {
   "cell_type": "code",
   "execution_count": 240,
   "metadata": {},
   "outputs": [
    {
     "data": {
      "text/plain": [
       "{nan: 0,\n",
       " 'Incipio': 1,\n",
       " 'LG': 2,\n",
       " 'Google': 3,\n",
       " 'SanDisk': 4,\n",
       " 'Samsung': 5,\n",
       " 'Kate Spade': 6,\n",
       " 'Case-Mate': 7,\n",
       " 'Motorola': 8,\n",
       " 'Mophie': 9,\n",
       " 'Tech21': 10,\n",
       " 'Gear4': 11,\n",
       " 'Ventev': 12,\n",
       " 'Superior': 13,\n",
       " 'Apple': 14,\n",
       " 'Speck': 15,\n",
       " 'PopSockets': 16,\n",
       " 'Sonix': 17,\n",
       " 'OtterBox': 18,\n",
       " 'Zagg': 19}"
      ]
     },
     "execution_count": 240,
     "metadata": {},
     "output_type": "execute_result"
    }
   ],
   "source": [
    "make_map"
   ]
  },
  {
   "cell_type": "markdown",
   "metadata": {},
   "source": [
    "A Generic function which creates a vector for the 5 fields of MAKE, TYPE, AND MODEL"
   ]
  },
  {
   "cell_type": "code",
   "execution_count": 241,
   "metadata": {},
   "outputs": [],
   "source": [
    "def generate_column_vector(column_strings, column_map):\n",
    "    len_map = len(column_map)\n",
    "#     print('row = {}'.format(row))\n",
    "\n",
    "    column_vector = [0] * len_map       # 5 carriers max. 0 means null\n",
    "\n",
    "    for column in column_strings:\n",
    "\n",
    "        try:\n",
    "#             print('column={}'.format(column))\n",
    "            column_index = column_map[column]\n",
    "            column_vector[column_index] = column_vector[column_index] + 1    # for each occurrence of a column, add 1\n",
    "        except Exception as e:\n",
    "            print('column_string={}'.format(column_strings))\n",
    "            print(\"I/O error({})\".format(e))\n",
    "        \n",
    "    return column_vector"
   ]
  },
  {
   "cell_type": "code",
   "execution_count": 242,
   "metadata": {},
   "outputs": [],
   "source": [
    "# def generate_make_vector(make_string1, make_string2, make_string3, make_string4, make_string5):\n",
    "# #     print('row = {}'.format(row))\n",
    "\n",
    "#     make_vector = [0] * 5       # 5 carriers max. 0 means nan\n",
    "\n",
    "# # #     print('truncated_string={}'.format(truncated_string))\n",
    "# #     no_skus = len(sku_array)\n",
    "#     try:\n",
    "#         make1 = make_string1.replace(\"\\\"\", \"\")\n",
    "#         make1_index = make_map[make1]\n",
    "#         make_vector[0] = make1_index\n",
    "#     except Exception as e:\n",
    "#         print('sku_string={}'.format(make_string1))\n",
    "#         print(\"I/O error({})\".format(e))\n",
    "    \n",
    "#     try:\n",
    "#         make2 = make_string2.replace(\"\\\"\", \"\")\n",
    "#         make2_index = make_map[make2]\n",
    "#         make_vector[1] = make2_index\n",
    "#     except Exception as e:\n",
    "#         print('sku_string={}'.format(make_string2))\n",
    "#         print(\"I/O error({})\".format(e))\n",
    "        \n",
    "#     try:\n",
    "#         make3 = make_string3.replace(\"\\\"\", \"\")\n",
    "#         make3_index = make_map[make3]\n",
    "#         make_vector[2] = make3_index\n",
    "#     except Exception as e:\n",
    "#         print('sku_string={}'.format(make_string3))\n",
    "#         print(\"I/O error({})\".format(e))\n",
    "        \n",
    "#     try:\n",
    "#         make4 = make_string4.replace(\"\\\"\", \"\")\n",
    "#         make4_index = make_map[make4]\n",
    "#         make_vector[3] = make4_index\n",
    "#     except Exception as e:\n",
    "#         print('sku_string={}'.format(make_string4))\n",
    "#         print(\"I/O error({})\".format(e))\n",
    "        \n",
    "#     try:\n",
    "#         make5 = make_string5.replace(\"\\\"\", \"\")\n",
    "#         make5_index = make_map[make5]\n",
    "#         make_vector[4] = make5_index\n",
    "#     except Exception as e:\n",
    "#         print('sku_string={}'.format(make_string5))\n",
    "#         print(\"I/O error({})\".format(e))\n",
    "        \n",
    "#     return make_vector"
   ]
  },
  {
   "cell_type": "code",
   "execution_count": 243,
   "metadata": {},
   "outputs": [],
   "source": [
    "order_category_df['make_vector'] = order_category_df.apply(lambda x: generate_column_vector([x['MAKE1'], x['MAKE2'], x['MAKE3'], x['MAKE4'], x['MAKE5']], make_map), axis=1)"
   ]
  },
  {
   "cell_type": "code",
   "execution_count": 244,
   "metadata": {},
   "outputs": [
    {
     "data": {
      "text/plain": [
       "0    [1, 0, 0, 0, 0, 0, 0, 0, 2, 0, 0, 0, 0, 0, 2, ...\n",
       "1    [4, 0, 0, 0, 0, 0, 0, 0, 0, 0, 0, 0, 0, 0, 1, ...\n",
       "2    [4, 0, 0, 0, 0, 0, 0, 0, 0, 0, 0, 0, 0, 0, 1, ...\n",
       "3    [4, 0, 0, 0, 0, 0, 0, 0, 0, 0, 0, 0, 0, 0, 1, ...\n",
       "4    [4, 0, 0, 0, 0, 0, 0, 0, 0, 0, 0, 0, 0, 0, 1, ...\n",
       "Name: make_vector, dtype: object"
      ]
     },
     "execution_count": 244,
     "metadata": {},
     "output_type": "execute_result"
    }
   ],
   "source": [
    "order_category_df['make_vector'].head()"
   ]
  },
  {
   "cell_type": "code",
   "execution_count": 245,
   "metadata": {},
   "outputs": [],
   "source": [
    "order_category_df.drop(columns=['MAKE1', 'MAKE2', 'MAKE3', 'MAKE4', 'MAKE5'], inplace=True)"
   ]
  },
  {
   "cell_type": "code",
   "execution_count": 246,
   "metadata": {},
   "outputs": [],
   "source": [
    "def collect_type(type_string1, type_string2, type_string3, type_string4, type_string5):\n",
    "#     print('type_string1={}'.format(type_string1))\n",
    "    all_types.add(type_string1)\n",
    "    all_types.add(type_string2)\n",
    "    all_types.add(type_string3)\n",
    "    all_types.add(type_string4)\n",
    "    all_types.add(type_string5)"
   ]
  },
  {
   "cell_type": "code",
   "execution_count": 247,
   "metadata": {},
   "outputs": [],
   "source": [
    "all_types = set()\n",
    "for row in order_category_df.iterrows():\n",
    "    collect_type(row[1]['TYPE1'], row[1]['TYPE2'], row[1]['TYPE3'], row[1]['TYPE4'], row[1]['TYPE5'], )\n",
    "  "
   ]
  },
  {
   "cell_type": "code",
   "execution_count": 248,
   "metadata": {},
   "outputs": [
    {
     "data": {
      "text/plain": [
       "[nan, 'Accessory', 'Phone', 'Tablet', 'Watch']"
      ]
     },
     "execution_count": 248,
     "metadata": {},
     "output_type": "execute_result"
    }
   ],
   "source": [
    "all_type_list = list(all_types)\n",
    "all_type_list"
   ]
  },
  {
   "cell_type": "code",
   "execution_count": 249,
   "metadata": {},
   "outputs": [
    {
     "data": {
      "text/plain": [
       "[nan, 'Accessory', 'Phone', 'Tablet', 'Watch']"
      ]
     },
     "execution_count": 249,
     "metadata": {},
     "output_type": "execute_result"
    }
   ],
   "source": [
    "all_type_list.remove(np.nan)\n",
    "all_type_list.insert(0, np.nan)\n",
    "all_type_list"
   ]
  },
  {
   "cell_type": "code",
   "execution_count": 250,
   "metadata": {},
   "outputs": [
    {
     "data": {
      "text/plain": [
       "5"
      ]
     },
     "execution_count": 250,
     "metadata": {},
     "output_type": "execute_result"
    }
   ],
   "source": [
    "len(all_type_list)"
   ]
  },
  {
   "cell_type": "code",
   "execution_count": 251,
   "metadata": {},
   "outputs": [],
   "source": [
    "type_map = {}\n",
    "index = 0          # already accounted for nan\n",
    "for type in all_type_list:\n",
    "    type_map[type] = index\n",
    "    index += 1"
   ]
  },
  {
   "cell_type": "code",
   "execution_count": 252,
   "metadata": {},
   "outputs": [
    {
     "data": {
      "text/plain": [
       "{nan: 0, 'Accessory': 1, 'Phone': 2, 'Tablet': 3, 'Watch': 4}"
      ]
     },
     "execution_count": 252,
     "metadata": {},
     "output_type": "execute_result"
    }
   ],
   "source": [
    "type_map"
   ]
  },
  {
   "cell_type": "code",
   "execution_count": 253,
   "metadata": {},
   "outputs": [],
   "source": [
    "# def generate_type_vector(type_string1, type_string12, type_string3, type_string4, type_string5):\n",
    "# #     print('row = {}'.format(row))\n",
    "\n",
    "#     type_vector = [0] * 5       # 5 types max. 0 means nan\n",
    "\n",
    "# # #     print('truncated_string={}'.format(truncated_string))\n",
    "# #     no_skus = len(sku_array)\n",
    "#     try:\n",
    "#         type1 = type_string1.replace(\"\\\"\", \"\")\n",
    "#         type1_index = type_map[type1]\n",
    "#         type_vector[0] = type1_index\n",
    "#     except Exception as e:\n",
    "#         print('sku_string={}'.format(type_string1))\n",
    "#         print(\"I/O error({})\".format(e))\n",
    "    \n",
    "#     try:\n",
    "#         type2 = type_string2.replace(\"\\\"\", \"\")\n",
    "#         type2_index = type_map[make2]\n",
    "#         type_vector[1] = type2_index\n",
    "#     except Exception as e:\n",
    "#         print('sku_string={}'.format(type_string2))\n",
    "#         print(\"I/O error({})\".format(e))\n",
    "        \n",
    "#     try:\n",
    "#         type3 = type_string3.replace(\"\\\"\", \"\")\n",
    "#         type3_index = type_map[type3]\n",
    "#         type_vector[2] = type3_index\n",
    "#     except Exception as e:\n",
    "#         print('sku_string={}'.format(type_string3))\n",
    "#         print(\"I/O error({})\".format(e))\n",
    "        \n",
    "#     try:\n",
    "#         type4 = type_string4.replace(\"\\\"\", \"\")\n",
    "#         type4_index = type_map[make4]\n",
    "#         type_vector[3] = type4_index\n",
    "#     except Exception as e:\n",
    "#         print('sku_string={}'.format(type_string4))\n",
    "#         print(\"I/O error({})\".format(e))\n",
    "        \n",
    "#     try:\n",
    "#         type5 = type_string5.replace(\"\\\"\", \"\")\n",
    "#         type5_index = make_map[make5]\n",
    "#         make_vector[4] = make5_index\n",
    "#     except Exception as e:\n",
    "#         print('sku_string={}'.format(make_string5))\n",
    "#         print(\"I/O error({})\".format(e))\n",
    "        \n",
    "#     return make_vector"
   ]
  },
  {
   "cell_type": "code",
   "execution_count": 254,
   "metadata": {},
   "outputs": [],
   "source": [
    "order_category_df['type_vector'] = order_category_df.apply(lambda x: generate_column_vector([x['TYPE1'], x['TYPE2'], x['TYPE3'], x['TYPE4'], x['TYPE5']], type_map), axis=1)"
   ]
  },
  {
   "cell_type": "code",
   "execution_count": 255,
   "metadata": {},
   "outputs": [
    {
     "data": {
      "text/plain": [
       "0    [1, 0, 4, 0, 0]\n",
       "1    [4, 0, 1, 0, 0]\n",
       "2    [4, 0, 1, 0, 0]\n",
       "3    [4, 0, 1, 0, 0]\n",
       "4    [4, 0, 1, 0, 0]\n",
       "Name: type_vector, dtype: object"
      ]
     },
     "execution_count": 255,
     "metadata": {},
     "output_type": "execute_result"
    }
   ],
   "source": [
    "order_category_df['type_vector'].head()"
   ]
  },
  {
   "cell_type": "code",
   "execution_count": 256,
   "metadata": {},
   "outputs": [],
   "source": [
    "order_category_df.drop(columns=['TYPE1', 'TYPE2', 'TYPE3', 'TYPE4', 'TYPE5'], inplace=True)"
   ]
  },
  {
   "cell_type": "code",
   "execution_count": 257,
   "metadata": {},
   "outputs": [],
   "source": [
    "def collect_models(model_string1, model_string2, model_string3, model_string4, model_string5):\n",
    "#     print('type_string1={}'.format(type_string1))\n",
    "    all_models.add(model_string1)\n",
    "    all_models.add(model_string2)\n",
    "    all_models.add(model_string3)\n",
    "    all_models.add(model_string4)\n",
    "    all_models.add(model_string5)"
   ]
  },
  {
   "cell_type": "code",
   "execution_count": 258,
   "metadata": {},
   "outputs": [],
   "source": [
    "all_models = set()\n",
    "for row in order_category_df.iterrows():\n",
    "    collect_models(row[1]['MODEL1'], row[1]['MODEL2'], row[1]['MODEL3'], row[1]['MODEL4'], row[1]['MODEL5'], )"
   ]
  },
  {
   "cell_type": "code",
   "execution_count": 259,
   "metadata": {},
   "outputs": [],
   "source": [
    "all_model_list = list(all_models)"
   ]
  },
  {
   "cell_type": "code",
   "execution_count": 260,
   "metadata": {},
   "outputs": [
    {
     "data": {
      "text/plain": [
       "[nan,\n",
       " 'iPhone 6s Plus',\n",
       " 'Galaxy A70',\n",
       " 'iPhone XS',\n",
       " 'Watch Series 4 Aluminum 40mm',\n",
       " 'iPhone 8 Plus',\n",
       " 'iPhone XS Max',\n",
       " 'Galaxy Note10+',\n",
       " 'iPad (6th Generation)',\n",
       " 'iPhone 11 Pro Max',\n",
       " 'iPhone 8',\n",
       " 'Galaxy A50',\n",
       " 'Galaxy Note10',\n",
       " 'Galaxy S8+ BYOD',\n",
       " 'Galaxy S10 BYOD',\n",
       " 'Galaxy S8 BYOD',\n",
       " 'Galaxy S9 BYOD',\n",
       " 'Galaxy S9+',\n",
       " 'Watch Series 3 Aluminum 42mm',\n",
       " 'Galaxy S10 Unlocked BYOD',\n",
       " 'Stylo 5',\n",
       " 'iPhone X',\n",
       " 'iPhone 7',\n",
       " 'Galaxy S8',\n",
       " 'iPhone 8 (PRODUCT)RED - LTE Only',\n",
       " 'iPad Pro 11-inch Cellular',\n",
       " 'G8 ThinQTM',\n",
       " 'iPhone 8 Plus (PRODUCT)RED',\n",
       " 'Pixel 4',\n",
       " 'K30&',\n",
       " 'iPad Air',\n",
       " 'iPhone SE',\n",
       " 'iPhone 7 Plus',\n",
       " 'Galaxy Note9',\n",
       " 'Galaxy S10e',\n",
       " 'Galaxy S9+ BYOD',\n",
       " 'moto e5 play',\n",
       " 'iPhone 6s',\n",
       " 'Galaxy Note8 BYOD',\n",
       " 'iPhone 8 Plus - LTE Only',\n",
       " 'Watch Series 3 Aluminum 38mm',\n",
       " 'iPhone 11 Pro',\n",
       " 'Watch Series 5 Aluminum 40mm',\n",
       " 'Accessory',\n",
       " 'Galaxy Note9 BYOD',\n",
       " 'Watch Series 4 Aluminum 44mm',\n",
       " 'iPhone X LTE Only',\n",
       " 'iPhone 6',\n",
       " 'Galaxy S9',\n",
       " 'iPhone 8 LTE Only',\n",
       " 'Galaxy S10+',\n",
       " 'iPhone 11',\n",
       " 'moto e⁶',\n",
       " 'Galaxy S10+ BYOD',\n",
       " 'Galaxy Note8',\n",
       " 'Watch Series 5 Aluminum 44mm',\n",
       " 'Stylo 4',\n",
       " 'Galaxy S8+',\n",
       " 'Galaxy S10',\n",
       " 'iPhone 7 Plus (PRODUCT)RED',\n",
       " 'iPhone 7 (PRODUCT)RED',\n",
       " 'Pixel 4 XL',\n",
       " 'moto g7 power',\n",
       " 'Galaxy S10e BYOD',\n",
       " 'iPhone 8 Plus (PRODUCT)RED - LTE Only',\n",
       " 'iPhone 6 Plus',\n",
       " 'iPhone 8 (PRODUCT)RED',\n",
       " 'iPhone XR']"
      ]
     },
     "execution_count": 260,
     "metadata": {},
     "output_type": "execute_result"
    }
   ],
   "source": [
    "all_model_list"
   ]
  },
  {
   "cell_type": "code",
   "execution_count": 261,
   "metadata": {},
   "outputs": [],
   "source": [
    "model_map = {}\n",
    "index = 0          # already accounted for nan\n",
    "for model in all_model_list:\n",
    "    model_map[model] = index\n",
    "    index += 1"
   ]
  },
  {
   "cell_type": "code",
   "execution_count": 262,
   "metadata": {},
   "outputs": [
    {
     "data": {
      "text/plain": [
       "{nan: 0,\n",
       " 'iPhone 6s Plus': 1,\n",
       " 'Galaxy A70': 2,\n",
       " 'iPhone XS': 3,\n",
       " 'Watch Series 4 Aluminum 40mm': 4,\n",
       " 'iPhone 8 Plus': 5,\n",
       " 'iPhone XS Max': 6,\n",
       " 'Galaxy Note10+': 7,\n",
       " 'iPad (6th Generation)': 8,\n",
       " 'iPhone 11 Pro Max': 9,\n",
       " 'iPhone 8': 10,\n",
       " 'Galaxy A50': 11,\n",
       " 'Galaxy Note10': 12,\n",
       " 'Galaxy S8+ BYOD': 13,\n",
       " 'Galaxy S10 BYOD': 14,\n",
       " 'Galaxy S8 BYOD': 15,\n",
       " 'Galaxy S9 BYOD': 16,\n",
       " 'Galaxy S9+': 17,\n",
       " 'Watch Series 3 Aluminum 42mm': 18,\n",
       " 'Galaxy S10 Unlocked BYOD': 19,\n",
       " 'Stylo 5': 20,\n",
       " 'iPhone X': 21,\n",
       " 'iPhone 7': 22,\n",
       " 'Galaxy S8': 23,\n",
       " 'iPhone 8 (PRODUCT)RED - LTE Only': 24,\n",
       " 'iPad Pro 11-inch Cellular': 25,\n",
       " 'G8 ThinQTM': 26,\n",
       " 'iPhone 8 Plus (PRODUCT)RED': 27,\n",
       " 'Pixel 4': 28,\n",
       " 'K30&': 29,\n",
       " 'iPad Air': 30,\n",
       " 'iPhone SE': 31,\n",
       " 'iPhone 7 Plus': 32,\n",
       " 'Galaxy Note9': 33,\n",
       " 'Galaxy S10e': 34,\n",
       " 'Galaxy S9+ BYOD': 35,\n",
       " 'moto e5 play': 36,\n",
       " 'iPhone 6s': 37,\n",
       " 'Galaxy Note8 BYOD': 38,\n",
       " 'iPhone 8 Plus - LTE Only': 39,\n",
       " 'Watch Series 3 Aluminum 38mm': 40,\n",
       " 'iPhone 11 Pro': 41,\n",
       " 'Watch Series 5 Aluminum 40mm': 42,\n",
       " 'Accessory': 43,\n",
       " 'Galaxy Note9 BYOD': 44,\n",
       " 'Watch Series 4 Aluminum 44mm': 45,\n",
       " 'iPhone X LTE Only': 46,\n",
       " 'iPhone 6': 47,\n",
       " 'Galaxy S9': 48,\n",
       " 'iPhone 8 LTE Only': 49,\n",
       " 'Galaxy S10+': 50,\n",
       " 'iPhone 11': 51,\n",
       " 'moto e⁶': 52,\n",
       " 'Galaxy S10+ BYOD': 53,\n",
       " 'Galaxy Note8': 54,\n",
       " 'Watch Series 5 Aluminum 44mm': 55,\n",
       " 'Stylo 4': 56,\n",
       " 'Galaxy S8+': 57,\n",
       " 'Galaxy S10': 58,\n",
       " 'iPhone 7 Plus (PRODUCT)RED': 59,\n",
       " 'iPhone 7 (PRODUCT)RED': 60,\n",
       " 'Pixel 4 XL': 61,\n",
       " 'moto g7 power': 62,\n",
       " 'Galaxy S10e BYOD': 63,\n",
       " 'iPhone 8 Plus (PRODUCT)RED - LTE Only': 64,\n",
       " 'iPhone 6 Plus': 65,\n",
       " 'iPhone 8 (PRODUCT)RED': 66,\n",
       " 'iPhone XR': 67}"
      ]
     },
     "execution_count": 262,
     "metadata": {},
     "output_type": "execute_result"
    }
   ],
   "source": [
    "model_map"
   ]
  },
  {
   "cell_type": "code",
   "execution_count": 263,
   "metadata": {},
   "outputs": [],
   "source": [
    "# def generate_model_vector(model_strings):\n",
    "# #     print('row = {}'.format(row))\n",
    "\n",
    "#     model_vector = [0] * 5       # 5 types max. 0 means nan\n",
    "\n",
    "# # #     print('truncated_string={}'.format(truncated_string))\n",
    "# #     no_skus = len(sku_array)\n",
    "#     i = 0\n",
    "#     for model_string in model_strings:\n",
    "#         try:\n",
    "#             model = model_string.replace(\"\\\"\", \"\")\n",
    "#             model_index = model_map[model]\n",
    "#             model_vector[0] = model_index\n",
    "#         except Exception as e:\n",
    "#             print('model_string={}'.format(model_string))\n",
    "#             print(\"I/O error({})\".format(e))\n",
    "        \n",
    "#     return model_vector"
   ]
  },
  {
   "cell_type": "code",
   "execution_count": 264,
   "metadata": {},
   "outputs": [],
   "source": [
    "\n",
    "order_category_df['model_vector'] = order_category_df.apply(lambda x: generate_column_vector([x['MODEL1'], x['MODEL2'], x['MODEL3'], x['MODEL4'], x['MODEL5']], model_map), axis=1)"
   ]
  },
  {
   "cell_type": "code",
   "execution_count": 265,
   "metadata": {},
   "outputs": [
    {
     "data": {
      "text/plain": [
       "0    [1, 0, 0, 0, 0, 0, 0, 0, 0, 0, 2, 0, 0, 0, 0, ...\n",
       "1    [4, 0, 0, 0, 0, 0, 0, 0, 0, 0, 0, 0, 0, 0, 0, ...\n",
       "2    [4, 0, 0, 0, 0, 0, 0, 0, 0, 0, 0, 0, 0, 0, 0, ...\n",
       "3    [4, 0, 0, 0, 0, 1, 0, 0, 0, 0, 0, 0, 0, 0, 0, ...\n",
       "4    [4, 0, 0, 0, 0, 0, 0, 0, 0, 0, 0, 0, 0, 0, 0, ...\n",
       "Name: model_vector, dtype: object"
      ]
     },
     "execution_count": 265,
     "metadata": {},
     "output_type": "execute_result"
    }
   ],
   "source": [
    "order_category_df['model_vector'].head()"
   ]
  },
  {
   "cell_type": "code",
   "execution_count": 266,
   "metadata": {},
   "outputs": [],
   "source": [
    "order_category_df.drop(['MODEL1'], axis=1, inplace=True)\n",
    "order_category_df.drop(['MODEL2'], axis=1, inplace=True)\n",
    "order_category_df.drop(['MODEL3'], axis=1, inplace=True)\n",
    "order_category_df.drop(['MODEL4'], axis=1, inplace=True)\n",
    "order_category_df.drop(['MODEL5'], axis=1, inplace=True)"
   ]
  },
  {
   "cell_type": "code",
   "execution_count": 267,
   "metadata": {},
   "outputs": [
    {
     "data": {
      "text/plain": [
       "Index(['EXPERIAN_RESPONSE_1', 'EXPERIAN_RESPONSE_2', 'ORDER_EXCHANGE',\n",
       "       'TPF_HIGH_YELLOW', 'IDA_RESULT', 'BLACKLIST_EMAIL', 'FRAUDNET_RESULT',\n",
       "       'YELLOW_SKU', 'SHIPPING_STATE', 'SALES_CHANNEL', 'BILLING_STATE',\n",
       "       'ACCOUNT_NUMBER', 'IS_EXISTING_CUSTOMER', 'LINE_LIMIT_REACHED',\n",
       "       'SSN_BLACKLISTED', 'INTERNAL_CREDIT_CHECK_DONE', 'DEVICE_AT_HOME',\n",
       "       'FPF_HIGH_YELLOW', 'DENIAL_OF_SERVICES', 'SHIPPINGMETHOD',\n",
       "       'EXTERNAL_CREDIT_CHECK_DONE', 'SKU_vector', 'carrier_vector',\n",
       "       'make_vector', 'type_vector', 'model_vector'],\n",
       "      dtype='object')"
      ]
     },
     "execution_count": 267,
     "metadata": {},
     "output_type": "execute_result"
    }
   ],
   "source": [
    "order_category_df.columns"
   ]
  },
  {
   "cell_type": "code",
   "execution_count": 268,
   "metadata": {},
   "outputs": [],
   "source": [
    "# we end pre-processing here\n",
    "# use the transform functions in fastai to convert single value categorical columns"
   ]
  },
  {
   "cell_type": "code",
   "execution_count": 269,
   "metadata": {},
   "outputs": [
    {
     "data": {
      "text/html": [
       "<div>\n",
       "<style scoped>\n",
       "    .dataframe tbody tr th:only-of-type {\n",
       "        vertical-align: middle;\n",
       "    }\n",
       "\n",
       "    .dataframe tbody tr th {\n",
       "        vertical-align: top;\n",
       "    }\n",
       "\n",
       "    .dataframe thead th {\n",
       "        text-align: right;\n",
       "    }\n",
       "</style>\n",
       "<table border=\"1\" class=\"dataframe\">\n",
       "  <thead>\n",
       "    <tr style=\"text-align: right;\">\n",
       "      <th></th>\n",
       "      <th>EXPERIAN_RESPONSE_1</th>\n",
       "      <th>EXPERIAN_RESPONSE_2</th>\n",
       "      <th>ORDER_EXCHANGE</th>\n",
       "      <th>TPF_HIGH_YELLOW</th>\n",
       "      <th>IDA_RESULT</th>\n",
       "      <th>BLACKLIST_EMAIL</th>\n",
       "      <th>FRAUDNET_RESULT</th>\n",
       "      <th>YELLOW_SKU</th>\n",
       "      <th>SHIPPING_STATE</th>\n",
       "      <th>SALES_CHANNEL</th>\n",
       "      <th>...</th>\n",
       "      <th>DEVICE_AT_HOME</th>\n",
       "      <th>FPF_HIGH_YELLOW</th>\n",
       "      <th>DENIAL_OF_SERVICES</th>\n",
       "      <th>SHIPPINGMETHOD</th>\n",
       "      <th>EXTERNAL_CREDIT_CHECK_DONE</th>\n",
       "      <th>SKU_vector</th>\n",
       "      <th>carrier_vector</th>\n",
       "      <th>make_vector</th>\n",
       "      <th>type_vector</th>\n",
       "      <th>model_vector</th>\n",
       "    </tr>\n",
       "  </thead>\n",
       "  <tbody>\n",
       "    <tr>\n",
       "      <th>0</th>\n",
       "      <td>NaN</td>\n",
       "      <td>NaN</td>\n",
       "      <td>NaN</td>\n",
       "      <td>N</td>\n",
       "      <td>GREEN</td>\n",
       "      <td>N</td>\n",
       "      <td>NaN</td>\n",
       "      <td>N</td>\n",
       "      <td>MN</td>\n",
       "      <td>TELESALES</td>\n",
       "      <td>...</td>\n",
       "      <td>N</td>\n",
       "      <td>N</td>\n",
       "      <td>N</td>\n",
       "      <td>2Days</td>\n",
       "      <td>N</td>\n",
       "      <td>[0, 0, 0, 0, 0, 0, 0, 0, 0, 0, 0, 0, 0, 0, 0, ...</td>\n",
       "      <td>[0, 0, 0, 0, 0]</td>\n",
       "      <td>[1, 0, 0, 0, 0, 0, 0, 0, 2, 0, 0, 0, 0, 0, 2, ...</td>\n",
       "      <td>[1, 0, 4, 0, 0]</td>\n",
       "      <td>[1, 0, 0, 0, 0, 0, 0, 0, 0, 0, 2, 0, 0, 0, 0, ...</td>\n",
       "    </tr>\n",
       "    <tr>\n",
       "      <th>1</th>\n",
       "      <td>NaN</td>\n",
       "      <td>NaN</td>\n",
       "      <td>NaN</td>\n",
       "      <td>N</td>\n",
       "      <td>GREEN</td>\n",
       "      <td>N</td>\n",
       "      <td>NaN</td>\n",
       "      <td>N</td>\n",
       "      <td>MN</td>\n",
       "      <td>ONLINE</td>\n",
       "      <td>...</td>\n",
       "      <td>Y</td>\n",
       "      <td>N</td>\n",
       "      <td>N</td>\n",
       "      <td>2Days</td>\n",
       "      <td>N</td>\n",
       "      <td>[0, 0, 0, 0, 0, 0, 0, 0, 0, 0, 0, 0, 0, 0, 0, ...</td>\n",
       "      <td>[21, 0, 0, 0, 0]</td>\n",
       "      <td>[4, 0, 0, 0, 0, 0, 0, 0, 0, 0, 0, 0, 0, 0, 1, ...</td>\n",
       "      <td>[4, 0, 1, 0, 0]</td>\n",
       "      <td>[4, 0, 0, 0, 0, 0, 0, 0, 0, 0, 0, 0, 0, 0, 0, ...</td>\n",
       "    </tr>\n",
       "    <tr>\n",
       "      <th>2</th>\n",
       "      <td>NaN</td>\n",
       "      <td>NaN</td>\n",
       "      <td>NaN</td>\n",
       "      <td>N</td>\n",
       "      <td>GREEN</td>\n",
       "      <td>N</td>\n",
       "      <td>NaN</td>\n",
       "      <td>N</td>\n",
       "      <td>MN</td>\n",
       "      <td>TELESALES</td>\n",
       "      <td>...</td>\n",
       "      <td>N</td>\n",
       "      <td>N</td>\n",
       "      <td>N</td>\n",
       "      <td>2Days</td>\n",
       "      <td>N</td>\n",
       "      <td>[0, 0, 0, 0, 0, 0, 0, 0, 0, 0, 0, 0, 0, 0, 0, ...</td>\n",
       "      <td>[2, 0, 0, 0, 0]</td>\n",
       "      <td>[4, 0, 0, 0, 0, 0, 0, 0, 0, 0, 0, 0, 0, 0, 1, ...</td>\n",
       "      <td>[4, 0, 1, 0, 0]</td>\n",
       "      <td>[4, 0, 0, 0, 0, 0, 0, 0, 0, 0, 0, 0, 0, 0, 0, ...</td>\n",
       "    </tr>\n",
       "    <tr>\n",
       "      <th>3</th>\n",
       "      <td>NaN</td>\n",
       "      <td>NaN</td>\n",
       "      <td>NaN</td>\n",
       "      <td>N</td>\n",
       "      <td>GREEN</td>\n",
       "      <td>N</td>\n",
       "      <td>NaN</td>\n",
       "      <td>N</td>\n",
       "      <td>MN</td>\n",
       "      <td>TELESALES</td>\n",
       "      <td>...</td>\n",
       "      <td>N</td>\n",
       "      <td>N</td>\n",
       "      <td>N</td>\n",
       "      <td>2Days</td>\n",
       "      <td>Y</td>\n",
       "      <td>[0, 0, 0, 0, 0, 0, 0, 0, 0, 0, 0, 0, 0, 0, 0, ...</td>\n",
       "      <td>[0, 0, 0, 0, 0]</td>\n",
       "      <td>[4, 0, 0, 0, 0, 0, 0, 0, 0, 0, 0, 0, 0, 0, 1, ...</td>\n",
       "      <td>[4, 0, 1, 0, 0]</td>\n",
       "      <td>[4, 0, 0, 0, 0, 1, 0, 0, 0, 0, 0, 0, 0, 0, 0, ...</td>\n",
       "    </tr>\n",
       "    <tr>\n",
       "      <th>4</th>\n",
       "      <td>NaN</td>\n",
       "      <td>NaN</td>\n",
       "      <td>NaN</td>\n",
       "      <td>N</td>\n",
       "      <td>GREEN</td>\n",
       "      <td>N</td>\n",
       "      <td>NaN</td>\n",
       "      <td>N</td>\n",
       "      <td>MN</td>\n",
       "      <td>ONLINE</td>\n",
       "      <td>...</td>\n",
       "      <td>Y</td>\n",
       "      <td>N</td>\n",
       "      <td>N</td>\n",
       "      <td>2Days</td>\n",
       "      <td>N</td>\n",
       "      <td>[0, 0, 0, 0, 0, 0, 0, 0, 0, 0, 0, 0, 0, 0, 0, ...</td>\n",
       "      <td>[13, 0, 0, 0, 0]</td>\n",
       "      <td>[4, 0, 0, 0, 0, 0, 0, 0, 0, 0, 0, 0, 0, 0, 1, ...</td>\n",
       "      <td>[4, 0, 1, 0, 0]</td>\n",
       "      <td>[4, 0, 0, 0, 0, 0, 0, 0, 0, 0, 0, 0, 0, 0, 0, ...</td>\n",
       "    </tr>\n",
       "  </tbody>\n",
       "</table>\n",
       "<p>5 rows × 26 columns</p>\n",
       "</div>"
      ],
      "text/plain": [
       "  EXPERIAN_RESPONSE_1 EXPERIAN_RESPONSE_2 ORDER_EXCHANGE TPF_HIGH_YELLOW  \\\n",
       "0                 NaN                 NaN            NaN               N   \n",
       "1                 NaN                 NaN            NaN               N   \n",
       "2                 NaN                 NaN            NaN               N   \n",
       "3                 NaN                 NaN            NaN               N   \n",
       "4                 NaN                 NaN            NaN               N   \n",
       "\n",
       "  IDA_RESULT BLACKLIST_EMAIL FRAUDNET_RESULT YELLOW_SKU SHIPPING_STATE  \\\n",
       "0      GREEN               N             NaN          N             MN   \n",
       "1      GREEN               N             NaN          N             MN   \n",
       "2      GREEN               N             NaN          N             MN   \n",
       "3      GREEN               N             NaN          N             MN   \n",
       "4      GREEN               N             NaN          N             MN   \n",
       "\n",
       "  SALES_CHANNEL                        ...                          \\\n",
       "0     TELESALES                        ...                           \n",
       "1        ONLINE                        ...                           \n",
       "2     TELESALES                        ...                           \n",
       "3     TELESALES                        ...                           \n",
       "4        ONLINE                        ...                           \n",
       "\n",
       "  DEVICE_AT_HOME  FPF_HIGH_YELLOW DENIAL_OF_SERVICES SHIPPINGMETHOD  \\\n",
       "0              N                N                  N          2Days   \n",
       "1              Y                N                  N          2Days   \n",
       "2              N                N                  N          2Days   \n",
       "3              N                N                  N          2Days   \n",
       "4              Y                N                  N          2Days   \n",
       "\n",
       "  EXTERNAL_CREDIT_CHECK_DONE  \\\n",
       "0                          N   \n",
       "1                          N   \n",
       "2                          N   \n",
       "3                          Y   \n",
       "4                          N   \n",
       "\n",
       "                                          SKU_vector    carrier_vector  \\\n",
       "0  [0, 0, 0, 0, 0, 0, 0, 0, 0, 0, 0, 0, 0, 0, 0, ...   [0, 0, 0, 0, 0]   \n",
       "1  [0, 0, 0, 0, 0, 0, 0, 0, 0, 0, 0, 0, 0, 0, 0, ...  [21, 0, 0, 0, 0]   \n",
       "2  [0, 0, 0, 0, 0, 0, 0, 0, 0, 0, 0, 0, 0, 0, 0, ...   [2, 0, 0, 0, 0]   \n",
       "3  [0, 0, 0, 0, 0, 0, 0, 0, 0, 0, 0, 0, 0, 0, 0, ...   [0, 0, 0, 0, 0]   \n",
       "4  [0, 0, 0, 0, 0, 0, 0, 0, 0, 0, 0, 0, 0, 0, 0, ...  [13, 0, 0, 0, 0]   \n",
       "\n",
       "                                         make_vector      type_vector  \\\n",
       "0  [1, 0, 0, 0, 0, 0, 0, 0, 2, 0, 0, 0, 0, 0, 2, ...  [1, 0, 4, 0, 0]   \n",
       "1  [4, 0, 0, 0, 0, 0, 0, 0, 0, 0, 0, 0, 0, 0, 1, ...  [4, 0, 1, 0, 0]   \n",
       "2  [4, 0, 0, 0, 0, 0, 0, 0, 0, 0, 0, 0, 0, 0, 1, ...  [4, 0, 1, 0, 0]   \n",
       "3  [4, 0, 0, 0, 0, 0, 0, 0, 0, 0, 0, 0, 0, 0, 1, ...  [4, 0, 1, 0, 0]   \n",
       "4  [4, 0, 0, 0, 0, 0, 0, 0, 0, 0, 0, 0, 0, 0, 1, ...  [4, 0, 1, 0, 0]   \n",
       "\n",
       "                                        model_vector  \n",
       "0  [1, 0, 0, 0, 0, 0, 0, 0, 0, 0, 2, 0, 0, 0, 0, ...  \n",
       "1  [4, 0, 0, 0, 0, 0, 0, 0, 0, 0, 0, 0, 0, 0, 0, ...  \n",
       "2  [4, 0, 0, 0, 0, 0, 0, 0, 0, 0, 0, 0, 0, 0, 0, ...  \n",
       "3  [4, 0, 0, 0, 0, 1, 0, 0, 0, 0, 0, 0, 0, 0, 0, ...  \n",
       "4  [4, 0, 0, 0, 0, 0, 0, 0, 0, 0, 0, 0, 0, 0, 0, ...  \n",
       "\n",
       "[5 rows x 26 columns]"
      ]
     },
     "execution_count": 269,
     "metadata": {},
     "output_type": "execute_result"
    }
   ],
   "source": [
    "order_category_df.head()"
   ]
  },
  {
   "cell_type": "code",
   "execution_count": 270,
   "metadata": {},
   "outputs": [],
   "source": [
    "order_category_df.to_csv('ivr_backup_data/order_category_df.csv', index=False)"
   ]
  },
  {
   "cell_type": "code",
   "execution_count": 271,
   "metadata": {},
   "outputs": [
    {
     "data": {
      "text/plain": [
       "Index(['EXPERIAN_RESPONSE_1', 'EXPERIAN_RESPONSE_2', 'ORDER_EXCHANGE',\n",
       "       'TPF_HIGH_YELLOW', 'IDA_RESULT', 'BLACKLIST_EMAIL', 'FRAUDNET_RESULT',\n",
       "       'YELLOW_SKU', 'SHIPPING_STATE', 'SALES_CHANNEL', 'BILLING_STATE',\n",
       "       'ACCOUNT_NUMBER', 'IS_EXISTING_CUSTOMER', 'LINE_LIMIT_REACHED',\n",
       "       'SSN_BLACKLISTED', 'INTERNAL_CREDIT_CHECK_DONE', 'DEVICE_AT_HOME',\n",
       "       'FPF_HIGH_YELLOW', 'DENIAL_OF_SERVICES', 'SHIPPINGMETHOD',\n",
       "       'EXTERNAL_CREDIT_CHECK_DONE', 'SKU_vector', 'carrier_vector',\n",
       "       'make_vector', 'type_vector', 'model_vector'],\n",
       "      dtype='object')"
      ]
     },
     "execution_count": 271,
     "metadata": {},
     "output_type": "execute_result"
    }
   ],
   "source": [
    "order_category_df.columns"
   ]
  },
  {
   "cell_type": "code",
   "execution_count": 272,
   "metadata": {},
   "outputs": [
    {
     "data": {
      "text/plain": [
       "(244154, 26)"
      ]
     },
     "execution_count": 272,
     "metadata": {},
     "output_type": "execute_result"
    }
   ],
   "source": [
    "order_category_df.shape"
   ]
  },
  {
   "cell_type": "code",
   "execution_count": null,
   "metadata": {},
   "outputs": [],
   "source": []
  },
  {
   "cell_type": "code",
   "execution_count": null,
   "metadata": {},
   "outputs": [],
   "source": []
  },
  {
   "cell_type": "code",
   "execution_count": 124,
   "metadata": {},
   "outputs": [],
   "source": [
    "NaN_cat_list = order_category_df.columns[order_category_df.isna().any()].tolist()"
   ]
  },
  {
   "cell_type": "code",
   "execution_count": 125,
   "metadata": {},
   "outputs": [
    {
     "data": {
      "text/plain": [
       "['EXPERIAN_RESPONSE_1',\n",
       " 'EXPERIAN_RESPONSE_2',\n",
       " 'ORDER_EXCHANGE',\n",
       " 'IDA_RESULT',\n",
       " 'FRAUDNET_RESULT',\n",
       " 'SHIPPING_STATE',\n",
       " 'BILLING_STATE',\n",
       " 'INTERNAL_CREDIT_CHECK_DONE',\n",
       " 'SHIPPINGMETHOD']"
      ]
     },
     "execution_count": 125,
     "metadata": {},
     "output_type": "execute_result"
    }
   ],
   "source": [
    "NaN_cat_list"
   ]
  },
  {
   "cell_type": "code",
   "execution_count": 126,
   "metadata": {},
   "outputs": [],
   "source": [
    "state_list = order_category_df['SHIPPING_STATE'].unique()"
   ]
  },
  {
   "cell_type": "code",
   "execution_count": 127,
   "metadata": {},
   "outputs": [
    {
     "data": {
      "text/plain": [
       "array(['MN', 'MA', 'WI', 'CA', 'NH', nan, 'ME', 'CT', 'VT', 'TX', 'NY',\n",
       "       'OR', 'WA', 'PA', 'WV', 'MD', 'OH', 'GA', 'FL', 'MI', 'DE', 'VA',\n",
       "       'DC', 'SC', 'LA', 'TN', 'MS', 'AR', 'KY', 'AL', 'IN', 'UT', 'NC',\n",
       "       'AZ', 'CO', 'IL', 'NM', 'NJ', 'MO', 'KS', 'ID'], dtype=object)"
      ]
     },
     "execution_count": 127,
     "metadata": {},
     "output_type": "execute_result"
    }
   ],
   "source": [
    "state_list"
   ]
  },
  {
   "cell_type": "code",
   "execution_count": 128,
   "metadata": {},
   "outputs": [
    {
     "data": {
      "text/plain": [
       "41"
      ]
     },
     "execution_count": 128,
     "metadata": {},
     "output_type": "execute_result"
    }
   ],
   "source": [
    "len(state_list)"
   ]
  },
  {
   "cell_type": "code",
   "execution_count": null,
   "metadata": {},
   "outputs": [],
   "source": [
    "# only 41 states show up in data. This is potentially a problem using fastai lib which only use categorical values present \n",
    "# in the data\n",
    "# if a new state show up in the future, may bomb out -> requires new training"
   ]
  },
  {
   "cell_type": "code",
   "execution_count": 127,
   "metadata": {},
   "outputs": [],
   "source": [
    "order_category_df.dropna(subset=['SHIPPING_STATE'], inplace=True)"
   ]
  },
  {
   "cell_type": "code",
   "execution_count": 128,
   "metadata": {},
   "outputs": [
    {
     "data": {
      "text/plain": [
       "array(['MN', 'MA', 'WI', 'CA', 'NH', 'ME', 'CT', 'VT', 'TX', 'NY', 'OR',\n",
       "       'WA', 'PA', 'WV', 'MD', 'OH', 'GA', 'FL', 'MI', 'DE', 'VA', 'DC',\n",
       "       'SC', 'LA', 'TN', 'MS', 'AR', 'KY', 'AL', 'IN', 'UT', 'NC', 'AZ',\n",
       "       'CO', 'IL', 'NM', 'NJ', 'MO', 'KS', 'ID'], dtype=object)"
      ]
     },
     "execution_count": 128,
     "metadata": {},
     "output_type": "execute_result"
    }
   ],
   "source": [
    "order_category_df['SHIPPING_STATE'].unique()"
   ]
  },
  {
   "cell_type": "code",
   "execution_count": 133,
   "metadata": {},
   "outputs": [],
   "source": [
    "state_list = [line.rstrip('\\n') for line in open('ivr_data/states.txt')]"
   ]
  },
  {
   "cell_type": "code",
   "execution_count": 134,
   "metadata": {},
   "outputs": [
    {
     "data": {
      "text/plain": [
       "51"
      ]
     },
     "execution_count": 134,
     "metadata": {},
     "output_type": "execute_result"
    }
   ],
   "source": [
    "len(state_list)"
   ]
  },
  {
   "cell_type": "code",
   "execution_count": 135,
   "metadata": {},
   "outputs": [],
   "source": [
    "state_map = {}\n",
    "index = 0          # already accounted for nan\n",
    "for state in state_list:\n",
    "    state_map[state] = index\n",
    "    index += 1"
   ]
  },
  {
   "cell_type": "code",
   "execution_count": 136,
   "metadata": {},
   "outputs": [],
   "source": [
    "# state_map"
   ]
  },
  {
   "cell_type": "code",
   "execution_count": 137,
   "metadata": {},
   "outputs": [],
   "source": [
    "order_category_df['SHIPPING_STATE_cat'] = order_category_df.apply(lambda x: generate_column_index(x['SHIPPING_STATE'], state_map), axis=1)"
   ]
  },
  {
   "cell_type": "code",
   "execution_count": 138,
   "metadata": {},
   "outputs": [],
   "source": [
    "order_category_df.drop(['SHIPPING_STATE'], axis=1, inplace=True)"
   ]
  },
  {
   "cell_type": "code",
   "execution_count": 139,
   "metadata": {},
   "outputs": [],
   "source": [
    "order_category_df.dropna(subset=['BILLING_STATE'], inplace=True)"
   ]
  },
  {
   "cell_type": "code",
   "execution_count": 140,
   "metadata": {},
   "outputs": [],
   "source": [
    "# order_category_df[order_category_df['BILLING_STATE'].isna()].shape"
   ]
  },
  {
   "cell_type": "code",
   "execution_count": 141,
   "metadata": {},
   "outputs": [],
   "source": [
    "order_category_df['BILLING_STATE_cat'] = order_category_df.apply(lambda x: generate_column_index(x['BILLING_STATE'], state_map), axis=1)"
   ]
  },
  {
   "cell_type": "code",
   "execution_count": 142,
   "metadata": {},
   "outputs": [],
   "source": [
    "# order_category_df['BILLING_STATE_vector'].head()"
   ]
  },
  {
   "cell_type": "code",
   "execution_count": 143,
   "metadata": {},
   "outputs": [],
   "source": [
    "# order_category_df.iloc[100]['BILLING_STATE_vector']"
   ]
  },
  {
   "cell_type": "code",
   "execution_count": 144,
   "metadata": {},
   "outputs": [],
   "source": [
    "order_category_df.drop(['BILLING_STATE'], axis=1, inplace=True)"
   ]
  },
  {
   "cell_type": "code",
   "execution_count": 145,
   "metadata": {},
   "outputs": [],
   "source": [
    "# order_category_df.columns"
   ]
  },
  {
   "cell_type": "markdown",
   "metadata": {},
   "source": [
    "Go down remaining single categorical fields, one at time"
   ]
  },
  {
   "cell_type": "code",
   "execution_count": 146,
   "metadata": {},
   "outputs": [
    {
     "data": {
      "text/plain": [
       "Index(['IS_EXISTING_CUSTOMER', 'FPF_HIGH_YELLOW', 'LINE_LIMIT_REACHED',\n",
       "       'IDA_RESULT', 'YELLOW_SKU', 'DEVICE_AT_HOME', 'ORDER_EXCHANGE',\n",
       "       'SHIPPINGMETHOD', 'EXPERIAN_RESPONSE_2', 'SSN_BLACKLISTED',\n",
       "       'EXPERIAN_RESPONSE_1', 'BLACKLIST_EMAIL', 'INTERNAL_CREDIT_CHECK_DONE',\n",
       "       'DENIAL_OF_SERVICES', 'FRAUDNET_RESULT', 'TPF_HIGH_YELLOW',\n",
       "       'EXTERNAL_CREDIT_CHECK_DONE', 'SALES_CHANNEL', 'SKU_vector',\n",
       "       'carrier_vector', 'make_vector', 'type_vector', 'model_vector',\n",
       "       'SHIPPING_STATE_cat', 'BILLING_STATE_cat'],\n",
       "      dtype='object')"
      ]
     },
     "execution_count": 146,
     "metadata": {},
     "output_type": "execute_result"
    }
   ],
   "source": [
    "order_category_df.columns"
   ]
  },
  {
   "cell_type": "code",
   "execution_count": 147,
   "metadata": {},
   "outputs": [
    {
     "data": {
      "text/plain": [
       "array(['N', 'Y'], dtype=object)"
      ]
     },
     "execution_count": 147,
     "metadata": {},
     "output_type": "execute_result"
    }
   ],
   "source": [
    "order_category_df['LINE_LIMIT_REACHED'].unique()"
   ]
  },
  {
   "cell_type": "code",
   "execution_count": 148,
   "metadata": {},
   "outputs": [],
   "source": [
    "binary_map = {'N': 0, 'Y': 1}"
   ]
  },
  {
   "cell_type": "code",
   "execution_count": 149,
   "metadata": {},
   "outputs": [],
   "source": [
    "def convert_binary(YN_string):\n",
    "    return binary_map[YN_string]"
   ]
  },
  {
   "cell_type": "code",
   "execution_count": 150,
   "metadata": {},
   "outputs": [],
   "source": [
    "order_category_df['LINE_LIMIT_REACHED_cat'] = order_category_df['LINE_LIMIT_REACHED'].apply(lambda x : convert_binary(x))"
   ]
  },
  {
   "cell_type": "code",
   "execution_count": 151,
   "metadata": {},
   "outputs": [
    {
     "data": {
      "text/plain": [
       "array([0, 1])"
      ]
     },
     "execution_count": 151,
     "metadata": {},
     "output_type": "execute_result"
    }
   ],
   "source": [
    "order_category_df['LINE_LIMIT_REACHED_cat'].unique()"
   ]
  },
  {
   "cell_type": "code",
   "execution_count": 152,
   "metadata": {},
   "outputs": [],
   "source": [
    "order_category_df.drop(['LINE_LIMIT_REACHED'], axis=1, inplace=True)"
   ]
  },
  {
   "cell_type": "code",
   "execution_count": 153,
   "metadata": {},
   "outputs": [
    {
     "data": {
      "text/plain": [
       "Index(['IS_EXISTING_CUSTOMER', 'FPF_HIGH_YELLOW', 'IDA_RESULT', 'YELLOW_SKU',\n",
       "       'DEVICE_AT_HOME', 'ORDER_EXCHANGE', 'SHIPPINGMETHOD',\n",
       "       'EXPERIAN_RESPONSE_2', 'SSN_BLACKLISTED', 'EXPERIAN_RESPONSE_1',\n",
       "       'BLACKLIST_EMAIL', 'INTERNAL_CREDIT_CHECK_DONE', 'DENIAL_OF_SERVICES',\n",
       "       'FRAUDNET_RESULT', 'TPF_HIGH_YELLOW', 'EXTERNAL_CREDIT_CHECK_DONE',\n",
       "       'SALES_CHANNEL', 'SKU_vector', 'carrier_vector', 'make_vector',\n",
       "       'type_vector', 'model_vector', 'SHIPPING_STATE_cat',\n",
       "       'BILLING_STATE_cat', 'LINE_LIMIT_REACHED_cat'],\n",
       "      dtype='object')"
      ]
     },
     "execution_count": 153,
     "metadata": {},
     "output_type": "execute_result"
    }
   ],
   "source": [
    "order_category_df.columns"
   ]
  },
  {
   "cell_type": "code",
   "execution_count": 154,
   "metadata": {},
   "outputs": [
    {
     "data": {
      "text/plain": [
       "array(['N', 'Y'], dtype=object)"
      ]
     },
     "execution_count": 154,
     "metadata": {},
     "output_type": "execute_result"
    }
   ],
   "source": [
    "order_category_df['SSN_BLACKLISTED'].unique()"
   ]
  },
  {
   "cell_type": "code",
   "execution_count": 155,
   "metadata": {},
   "outputs": [],
   "source": [
    "order_category_df['SSN_BLACKLISTED_cat'] = order_category_df['SSN_BLACKLISTED'].apply(lambda x : convert_binary(x))"
   ]
  },
  {
   "cell_type": "code",
   "execution_count": 156,
   "metadata": {},
   "outputs": [
    {
     "data": {
      "text/plain": [
       "array([0, 1])"
      ]
     },
     "execution_count": 156,
     "metadata": {},
     "output_type": "execute_result"
    }
   ],
   "source": [
    "order_category_df['SSN_BLACKLISTED_cat'].unique()"
   ]
  },
  {
   "cell_type": "code",
   "execution_count": 157,
   "metadata": {},
   "outputs": [],
   "source": [
    "order_category_df.drop(['SSN_BLACKLISTED'], axis=1, inplace=True)"
   ]
  },
  {
   "cell_type": "code",
   "execution_count": 158,
   "metadata": {},
   "outputs": [
    {
     "data": {
      "text/plain": [
       "Index(['IS_EXISTING_CUSTOMER', 'FPF_HIGH_YELLOW', 'IDA_RESULT', 'YELLOW_SKU',\n",
       "       'DEVICE_AT_HOME', 'ORDER_EXCHANGE', 'SHIPPINGMETHOD',\n",
       "       'EXPERIAN_RESPONSE_2', 'EXPERIAN_RESPONSE_1', 'BLACKLIST_EMAIL',\n",
       "       'INTERNAL_CREDIT_CHECK_DONE', 'DENIAL_OF_SERVICES', 'FRAUDNET_RESULT',\n",
       "       'TPF_HIGH_YELLOW', 'EXTERNAL_CREDIT_CHECK_DONE', 'SALES_CHANNEL',\n",
       "       'SKU_vector', 'carrier_vector', 'make_vector', 'type_vector',\n",
       "       'model_vector', 'SHIPPING_STATE_cat', 'BILLING_STATE_cat',\n",
       "       'LINE_LIMIT_REACHED_cat', 'SSN_BLACKLISTED_cat'],\n",
       "      dtype='object')"
      ]
     },
     "execution_count": 158,
     "metadata": {},
     "output_type": "execute_result"
    }
   ],
   "source": [
    "order_category_df.columns"
   ]
  },
  {
   "cell_type": "code",
   "execution_count": 186,
   "metadata": {},
   "outputs": [],
   "source": [
    "def generate_column_index(column_string, column_map):\n",
    "    len_map = len(column_map)\n",
    "#     print('row = {}'.format(row))\n",
    "\n",
    "    column_index = 0       # 0 means null\n",
    "\n",
    "    try:\n",
    "#             print('column={}'.format(column))\n",
    "        column_index = column_map[column_string]\n",
    "#         print('column_string = {}, column_index={}'.format(column_string, column_index))\n",
    "    except Exception as e:\n",
    "        print('column_string={}'.format(column_string))\n",
    "        print(\"I/O error({})\".format(e))\n",
    "        \n",
    "    return column_index"
   ]
  },
  {
   "cell_type": "code",
   "execution_count": 174,
   "metadata": {},
   "outputs": [],
   "source": [
    "EXPERIAN_RESPONSE_1_list = order_category_df['EXPERIAN_RESPONSE_1'].unique().tolist()"
   ]
  },
  {
   "cell_type": "code",
   "execution_count": 175,
   "metadata": {},
   "outputs": [
    {
     "data": {
      "text/plain": [
       "[nan,\n",
       " '3100/ACCEPT/Continue/ACCEPT- FraudNet only',\n",
       " '3100/REFER/Continue and Investigate/Suspicious fraud device indicators - medium',\n",
       " '3100/REFER/Continue and Investigate/Suspicious fraud device indicators - high',\n",
       " '3100/NODECISION/No Decision/Error Or No Decision From FS']"
      ]
     },
     "execution_count": 175,
     "metadata": {},
     "output_type": "execute_result"
    }
   ],
   "source": [
    "EXPERIAN_RESPONSE_1_list"
   ]
  },
  {
   "cell_type": "code",
   "execution_count": 176,
   "metadata": {},
   "outputs": [],
   "source": [
    "EXPERIAN_RESPONSE_1_map = {}\n",
    "\n",
    "i = 0\n",
    "for response_item in EXPERIAN_RESPONSE_1_list:\n",
    "    EXPERIAN_RESPONSE_1_map[response_item] = i\n",
    "    i += 1"
   ]
  },
  {
   "cell_type": "code",
   "execution_count": 177,
   "metadata": {},
   "outputs": [
    {
     "data": {
      "text/plain": [
       "{nan: 0,\n",
       " '3100/ACCEPT/Continue/ACCEPT- FraudNet only': 1,\n",
       " '3100/REFER/Continue and Investigate/Suspicious fraud device indicators - medium': 2,\n",
       " '3100/REFER/Continue and Investigate/Suspicious fraud device indicators - high': 3,\n",
       " '3100/NODECISION/No Decision/Error Or No Decision From FS': 4}"
      ]
     },
     "execution_count": 177,
     "metadata": {},
     "output_type": "execute_result"
    }
   ],
   "source": [
    "EXPERIAN_RESPONSE_1_map"
   ]
  },
  {
   "cell_type": "code",
   "execution_count": 187,
   "metadata": {},
   "outputs": [],
   "source": [
    "order_category_df['EXPERIAN_RESPONSE_1_cat'] = order_category_df.apply(lambda x: generate_column_index(x['EXPERIAN_RESPONSE_1'], EXPERIAN_RESPONSE_1_map), axis=1)"
   ]
  },
  {
   "cell_type": "code",
   "execution_count": 189,
   "metadata": {},
   "outputs": [
    {
     "data": {
      "text/plain": [
       "0     0\n",
       "1     0\n",
       "2     0\n",
       "3     0\n",
       "4     0\n",
       "5     0\n",
       "6     0\n",
       "7     1\n",
       "8     0\n",
       "9     0\n",
       "10    1\n",
       "11    1\n",
       "12    1\n",
       "13    1\n",
       "14    0\n",
       "15    1\n",
       "16    0\n",
       "17    1\n",
       "18    1\n",
       "19    0\n",
       "Name: EXPERIAN_RESPONSE_1_cat, dtype: int64"
      ]
     },
     "execution_count": 189,
     "metadata": {},
     "output_type": "execute_result"
    }
   ],
   "source": [
    "order_category_df['EXPERIAN_RESPONSE_1_cat'].head(20)"
   ]
  },
  {
   "cell_type": "code",
   "execution_count": 190,
   "metadata": {},
   "outputs": [
    {
     "data": {
      "text/plain": [
       "0                                            NaN\n",
       "1                                            NaN\n",
       "2                                            NaN\n",
       "3                                            NaN\n",
       "4                                            NaN\n",
       "5                                            NaN\n",
       "6                                            NaN\n",
       "7     3100/ACCEPT/Continue/ACCEPT- FraudNet only\n",
       "8                                            NaN\n",
       "9                                            NaN\n",
       "10    3100/ACCEPT/Continue/ACCEPT- FraudNet only\n",
       "11    3100/ACCEPT/Continue/ACCEPT- FraudNet only\n",
       "12    3100/ACCEPT/Continue/ACCEPT- FraudNet only\n",
       "13    3100/ACCEPT/Continue/ACCEPT- FraudNet only\n",
       "14                                           NaN\n",
       "15    3100/ACCEPT/Continue/ACCEPT- FraudNet only\n",
       "16                                           NaN\n",
       "17    3100/ACCEPT/Continue/ACCEPT- FraudNet only\n",
       "18    3100/ACCEPT/Continue/ACCEPT- FraudNet only\n",
       "19                                           NaN\n",
       "Name: EXPERIAN_RESPONSE_1, dtype: object"
      ]
     },
     "execution_count": 190,
     "metadata": {},
     "output_type": "execute_result"
    }
   ],
   "source": [
    "order_category_df['EXPERIAN_RESPONSE_1'].head(20)"
   ]
  },
  {
   "cell_type": "code",
   "execution_count": 191,
   "metadata": {},
   "outputs": [],
   "source": [
    "order_category_df.drop(['EXPERIAN_RESPONSE_1'], axis=1, inplace=True)"
   ]
  },
  {
   "cell_type": "code",
   "execution_count": 192,
   "metadata": {},
   "outputs": [
    {
     "data": {
      "text/plain": [
       "Index(['IS_EXISTING_CUSTOMER', 'FPF_HIGH_YELLOW', 'IDA_RESULT', 'YELLOW_SKU',\n",
       "       'DEVICE_AT_HOME', 'ORDER_EXCHANGE', 'SHIPPINGMETHOD',\n",
       "       'EXPERIAN_RESPONSE_2', 'BLACKLIST_EMAIL', 'INTERNAL_CREDIT_CHECK_DONE',\n",
       "       'DENIAL_OF_SERVICES', 'FRAUDNET_RESULT', 'TPF_HIGH_YELLOW',\n",
       "       'EXTERNAL_CREDIT_CHECK_DONE', 'SALES_CHANNEL', 'SKU_vector',\n",
       "       'carrier_vector', 'make_vector', 'type_vector', 'model_vector',\n",
       "       'SHIPPING_STATE_cat', 'BILLING_STATE_cat', 'LINE_LIMIT_REACHED_cat',\n",
       "       'SSN_BLACKLISTED_cat', 'EXPERIAN_RESPONSE_1_cat'],\n",
       "      dtype='object')"
      ]
     },
     "execution_count": 192,
     "metadata": {},
     "output_type": "execute_result"
    }
   ],
   "source": [
    "order_category_df.columns"
   ]
  },
  {
   "cell_type": "code",
   "execution_count": 193,
   "metadata": {},
   "outputs": [],
   "source": [
    "EXPERIAN_RESPONSE_2_list = order_category_df['EXPERIAN_RESPONSE_2'].unique().tolist()"
   ]
  },
  {
   "cell_type": "code",
   "execution_count": 194,
   "metadata": {},
   "outputs": [
    {
     "data": {
      "text/plain": [
       "[nan,\n",
       " '3200/APPROVE/700/No Fraud Detected/No device concerns',\n",
       " '3200/APPROVE/200/No Fraud Detected/No device concerns',\n",
       " '3200/APPROVE/600/No Fraud Detected/No device concerns',\n",
       " '3200/REFER-MED/1700/Potential Fraud - Medium Risk/Suspicious fraud device indicators - medium',\n",
       " '3200/APPROVE/350/No Fraud Detected/No device concerns',\n",
       " '3200/APPROVE/450/No Fraud Detected/No device concerns',\n",
       " '3200/APPROVE/1250/No Fraud Detected/No device concerns',\n",
       " '3200/APPROVE/750/No Fraud Detected/No device concerns',\n",
       " '3200/REFER-MED/1800/Potential Fraud - Medium Risk/Suspicious fraud device indicators - medium',\n",
       " '3200/APPROVE/250/No Fraud Detected/No device concerns',\n",
       " '3200/APPROVE/1200/No Fraud Detected/No device concerns',\n",
       " '3200/APPROVE/550/No Fraud Detected/No device concerns',\n",
       " '3200/APPROVE/900/No Fraud Detected/No device concerns',\n",
       " '3200/REFER-MED/1850/Potential Fraud - Medium Risk/Suspicious fraud device indicators - medium',\n",
       " '3200/APPROVE/300/No Fraud Detected/No device concerns',\n",
       " '3200/REFER-HIGH/3200/Potential Fraud - High Risk/Suspicious fraud device indicators - high',\n",
       " '3200/APPROVE/850/No Fraud Detected/No device concerns',\n",
       " '3200/APPROVE/500/No Fraud Detected/No device concerns',\n",
       " '3200/REFER-HIGH/6650/Potential Fraud - High Risk/Suspicious fraud device indicators - high',\n",
       " '3200/APPROVE/400/No Fraud Detected/No device concerns',\n",
       " '3200/APPROVE/950/No Fraud Detected/No device concerns',\n",
       " '3200/ERROR/0/Continue FS Error - FraudNet/Error Or No Decision From FS FraudNet',\n",
       " '3200/REFER-HIGH/3600/Potential Fraud - High Risk/Suspicious fraud device indicators - high',\n",
       " '3200/REFER-HIGH/3350/Potential Fraud - High Risk/Suspicious fraud device indicators - high',\n",
       " '3200/REFER-HIGH/9400/Potential Fraud - High Risk/Suspicious fraud device indicators - high',\n",
       " '3200/REFER-MED/2450/Potential Fraud - Medium Risk/Suspicious fraud device indicators - medium',\n",
       " '3200/APPROVE/650/No Fraud Detected/No device concerns',\n",
       " '3200/APPROVE/800/No Fraud Detected/No device concerns',\n",
       " '3200/REFER-HIGH/1950/Potential Fraud - High Risk/Suspicious fraud device indicators - high',\n",
       " '3200/REFER-HIGH/6500/Potential Fraud - High Risk/Suspicious fraud device indicators - high',\n",
       " '3200/REFER-MED/2600/Potential Fraud - Medium Risk/Suspicious fraud device indicators - medium',\n",
       " '3200/REFER-MED/2150/Potential Fraud - Medium Risk/Suspicious fraud device indicators - medium',\n",
       " '3200/REFER-MED/1950/Potential Fraud - Medium Risk/Suspicious fraud device indicators - medium',\n",
       " '3200/REFER-MED/2100/Potential Fraud - Medium Risk/Suspicious fraud device indicators - medium',\n",
       " '3200/REFER-HIGH/3300/Potential Fraud - High Risk/Suspicious fraud device indicators - high',\n",
       " '3200/REFER-MED/1900/Potential Fraud - Medium Risk/Suspicious fraud device indicators - medium',\n",
       " '3200/APPROVE/1150/No Fraud Detected/No device concerns',\n",
       " '3200/REFER-MED/2550/Potential Fraud - Medium Risk/Suspicious fraud device indicators - medium',\n",
       " '3200/REFER-HIGH/4800/Potential Fraud - High Risk/Suspicious fraud device indicators - high',\n",
       " '3200/REFER-HIGH/4850/Potential Fraud - High Risk/Suspicious fraud device indicators - high',\n",
       " '3200/APPROVE/1100/No Fraud Detected/No device concerns',\n",
       " '3200/REFER-HIGH/5500/Potential Fraud - High Risk/Suspicious fraud device indicators - high',\n",
       " '3200/REFER-HIGH/5150/Potential Fraud - High Risk/Suspicious fraud device indicators - high',\n",
       " '3200/APPROVE/1000/No Fraud Detected/No device concerns',\n",
       " '3200/REFER-HIGH/5350/Potential Fraud - High Risk/Suspicious fraud device indicators - high',\n",
       " '3200/REFER-HIGH/4700/Potential Fraud - High Risk/Suspicious fraud device indicators - high',\n",
       " '3200/APPROVE/0/No Fraud Detected/No device concerns',\n",
       " '3200/REFER-HIGH/5400/Potential Fraud - High Risk/Suspicious fraud device indicators - high',\n",
       " '3200/REFER-HIGH/4950/Potential Fraud - High Risk/Suspicious fraud device indicators - high',\n",
       " '3200/REFER-MED/3700/Potential Fraud - Medium Risk/Suspicious fraud device indicators - medium',\n",
       " '3200/REFER-HIGH/5250/Potential Fraud - High Risk/Suspicious fraud device indicators - high',\n",
       " '3200/REFER-HIGH/8000/Potential Fraud - High Risk/Suspicious fraud device indicators - high',\n",
       " '3200/REFER-HIGH/6350/Potential Fraud - High Risk/Suspicious fraud device indicators - high',\n",
       " '3200/REFER-HIGH/3750/Potential Fraud - High Risk/Suspicious fraud device indicators - high',\n",
       " '3200/REFER-HIGH/4000/Potential Fraud - High Risk/Suspicious fraud device indicators - high',\n",
       " '3200/REFER-HIGH/4050/Potential Fraud - High Risk/Suspicious fraud device indicators - high',\n",
       " '3200/REFER-HIGH/4250/Potential Fraud - High Risk/Suspicious fraud device indicators - high',\n",
       " '3200/REFER-HIGH/4425/Potential Fraud - High Risk/Suspicious fraud device indicators - high',\n",
       " '3200/REFER-HIGH/4100/Potential Fraud - High Risk/Suspicious fraud device indicators - high',\n",
       " '3200/REFER-HIGH/4150/Potential Fraud - High Risk/Suspicious fraud device indicators - high',\n",
       " '3200/APPROVE/1050/No Fraud Detected/No device concerns',\n",
       " '3200/APPROVE/1450/No Fraud Detected/No device concerns',\n",
       " '3200/REFER-HIGH/7000/Potential Fraud - High Risk/Suspicious fraud device indicators - high',\n",
       " '3200/REFER-HIGH/5000/Potential Fraud - High Risk/Suspicious fraud device indicators - high',\n",
       " '3200/REFER-MED/2000/Potential Fraud - Medium Risk/Suspicious fraud device indicators - medium',\n",
       " '3200/REFER-HIGH/1800/Potential Fraud - High Risk/Suspicious fraud device indicators - high',\n",
       " '3200/REFER-HIGH/2550/Potential Fraud - High Risk/Suspicious fraud device indicators - high',\n",
       " '3200/REFER-MED/2250/Potential Fraud - Medium Risk/Suspicious fraud device indicators - medium',\n",
       " '3200/REFER-HIGH/7200/Potential Fraud - High Risk/Suspicious fraud device indicators - high',\n",
       " '3200/REFER-HIGH/6800/Potential Fraud - High Risk/Suspicious fraud device indicators - high',\n",
       " '3200/REFER-MED/2200/Potential Fraud - Medium Risk/Suspicious fraud device indicators - medium',\n",
       " '3200/REFER-HIGH/3450/Potential Fraud - High Risk/Suspicious fraud device indicators - high',\n",
       " '3200/REFER-HIGH/3850/Potential Fraud - High Risk/Suspicious fraud device indicators - high',\n",
       " '3200/REFER-HIGH/6400/Potential Fraud - High Risk/Suspicious fraud device indicators - high',\n",
       " '3200/APPROVE/1300/No Fraud Detected/No device concerns',\n",
       " '3200/REFER-HIGH/5800/Potential Fraud - High Risk/Suspicious fraud device indicators - high',\n",
       " '3200/APPROVE/1350/No Fraud Detected/No device concerns',\n",
       " '3200/REFER-MED/1650/Potential Fraud - Medium Risk/Suspicious fraud device indicators - medium',\n",
       " '3200/APPROVE/1400/No Fraud Detected/No device concerns',\n",
       " '3200/REFER-MED/1500/Potential Fraud - Medium Risk/Suspicious fraud device indicators - medium',\n",
       " '3200/REFER-MED/3600/Potential Fraud - Medium Risk/Suspicious fraud device indicators - medium',\n",
       " '3200/REFER-MED/2050/Potential Fraud - Medium Risk/Suspicious fraud device indicators - medium',\n",
       " '3200/REFER-HIGH/8150/Potential Fraud - High Risk/Suspicious fraud device indicators - high',\n",
       " '3200/APPROVE/150/No Fraud Detected/No device concerns',\n",
       " '3200/REFER-HIGH/6700/Potential Fraud - High Risk/Suspicious fraud device indicators - high',\n",
       " '3200/REFER-HIGH/6550/Potential Fraud - High Risk/Suspicious fraud device indicators - high',\n",
       " '3200/REFER-HIGH/3650/Potential Fraud - High Risk/Suspicious fraud device indicators - high',\n",
       " '3200/REFER-MED/2500/Potential Fraud - Medium Risk/Suspicious fraud device indicators - medium',\n",
       " '3200/REFER-MED/2350/Potential Fraud - Medium Risk/Suspicious fraud device indicators - medium',\n",
       " '3200/REFER-HIGH/2000/Potential Fraud - High Risk/Suspicious fraud device indicators - high',\n",
       " '3200/REFER-MED/1600/Potential Fraud - Medium Risk/Suspicious fraud device indicators - medium',\n",
       " '3200/REFER-MED/1550/Potential Fraud - Medium Risk/Suspicious fraud device indicators - medium',\n",
       " '3200/REFER-HIGH/3500/Potential Fraud - High Risk/Suspicious fraud device indicators - high',\n",
       " '3200/REFER-MED/3500/Potential Fraud - Medium Risk/Suspicious fraud device indicators - medium',\n",
       " '3200/APPROVE/1325/No Fraud Detected/No device concerns',\n",
       " '3200/REFER-MED/1825/Potential Fraud - Medium Risk/Suspicious fraud device indicators - medium',\n",
       " '3200/REFER-MED/1975/Potential Fraud - Medium Risk/Suspicious fraud device indicators - medium',\n",
       " '3200/REFER-MED/2375/Potential Fraud - Medium Risk/Suspicious fraud device indicators - medium',\n",
       " '3200/REFER-MED/1525/Potential Fraud - Medium Risk/Suspicious fraud device indicators - medium',\n",
       " '3200/REFER-MED/3450/Potential Fraud - Medium Risk/Suspicious fraud device indicators - medium',\n",
       " '3200/REFER-HIGH/3700/Potential Fraud - High Risk/Suspicious fraud device indicators - high',\n",
       " '3200/REFER-MED/1750/Potential Fraud - Medium Risk/Suspicious fraud device indicators - medium',\n",
       " '3200/APPROVE/1225/No Fraud Detected/No device concerns',\n",
       " '3200/REFER-MED/2300/Potential Fraud - Medium Risk/Suspicious fraud device indicators - medium',\n",
       " '3200/REFER-HIGH/7050/Potential Fraud - High Risk/Suspicious fraud device indicators - high',\n",
       " '3200/APPROVE/1275/No Fraud Detected/No device concerns',\n",
       " '3200/REFER-MED/1675/Potential Fraud - Medium Risk/Suspicious fraud device indicators - medium',\n",
       " '3200/REFER-MED/3200/Potential Fraud - Medium Risk/Suspicious fraud device indicators - medium',\n",
       " '3200/REFER-HIGH/5050/Potential Fraud - High Risk/Suspicious fraud device indicators - high',\n",
       " '3200/REFER-MED/3750/Potential Fraud - Medium Risk/Suspicious fraud device indicators - medium',\n",
       " '3200/REFER-HIGH/6900/Potential Fraud - High Risk/Suspicious fraud device indicators - high',\n",
       " '3200/REFER-MED/4200/Potential Fraud - Medium Risk/Suspicious fraud device indicators - medium',\n",
       " '3200/REFER-MED/4350/Potential Fraud - Medium Risk/Suspicious fraud device indicators - medium',\n",
       " '3200/REFER-HIGH/6750/Potential Fraud - High Risk/Suspicious fraud device indicators - high',\n",
       " '3200/REFER-MED/2700/Potential Fraud - Medium Risk/Suspicious fraud device indicators - medium',\n",
       " '3200/REFER-MED/3350/Potential Fraud - Medium Risk/Suspicious fraud device indicators - medium',\n",
       " '3200/REFER-HIGH/9550/Potential Fraud - High Risk/Suspicious fraud device indicators - high',\n",
       " '3200/REFER-MED/2400/Potential Fraud - Medium Risk/Suspicious fraud device indicators - medium',\n",
       " '3200/REFER-HIGH/1850/Potential Fraud - High Risk/Suspicious fraud device indicators - high',\n",
       " '3200/REFER-MED/2750/Potential Fraud - Medium Risk/Suspicious fraud device indicators - medium',\n",
       " '3200/REFER-HIGH/3400/Potential Fraud - High Risk/Suspicious fraud device indicators - high',\n",
       " '3200/REFER-MED/3800/Potential Fraud - Medium Risk/Suspicious fraud device indicators - medium',\n",
       " '3200/APPROVE/1025/No Fraud Detected/No device concerns',\n",
       " '3200/REFER-HIGH/4350/Potential Fraud - High Risk/Suspicious fraud device indicators - high',\n",
       " '3200/REFER-MED/5100/Potential Fraud - Medium Risk/Suspicious fraud device indicators - medium',\n",
       " '3200/REFER-MED/4000/Potential Fraud - Medium Risk/Suspicious fraud device indicators - medium',\n",
       " '3200/REFER-MED/4750/Potential Fraud - Medium Risk/Suspicious fraud device indicators - medium',\n",
       " '3200/REFER-MED/5300/Potential Fraud - Medium Risk/Suspicious fraud device indicators - medium',\n",
       " '3200/REFER-MED/4250/Potential Fraud - Medium Risk/Suspicious fraud device indicators - medium',\n",
       " '3200/APPROVE/1125/No Fraud Detected/No device concerns',\n",
       " '3200/REFER-MED/4050/Potential Fraud - Medium Risk/Suspicious fraud device indicators - medium',\n",
       " '3200/REFER-MED/4100/Potential Fraud - Medium Risk/Suspicious fraud device indicators - medium',\n",
       " '3200/REFER-HIGH/3250/Potential Fraud - High Risk/Suspicious fraud device indicators - high',\n",
       " '3200/REFER-MED/2850/Potential Fraud - Medium Risk/Suspicious fraud device indicators - medium',\n",
       " '3200/REFER-HIGH/5100/Potential Fraud - High Risk/Suspicious fraud device indicators - high',\n",
       " '3200/REFER-MED/3900/Potential Fraud - Medium Risk/Suspicious fraud device indicators - medium',\n",
       " '3200/REFER-HIGH/7300/Potential Fraud - High Risk/Suspicious fraud device indicators - high',\n",
       " '3200/REFER-MED/2650/Potential Fraud - Medium Risk/Suspicious fraud device indicators - medium',\n",
       " '3200/REFER-HIGH/7500/Potential Fraud - High Risk/Suspicious fraud device indicators - high',\n",
       " '3200/REFER-HIGH/8250/Potential Fraud - High Risk/Suspicious fraud device indicators - high',\n",
       " '3200/REFER-HIGH/4900/Potential Fraud - High Risk/Suspicious fraud device indicators - high',\n",
       " '3200/REFER-HIGH/5200/Potential Fraud - High Risk/Suspicious fraud device indicators - high',\n",
       " '3200/REFER-HIGH/2200/Potential Fraud - High Risk/Suspicious fraud device indicators - high',\n",
       " '3200/REFER-MED/1725/Potential Fraud - Medium Risk/Suspicious fraud device indicators - medium',\n",
       " '3200/REFER-MED/3050/Potential Fraud - Medium Risk/Suspicious fraud device indicators - medium',\n",
       " '3200/REFER-MED/3000/Potential Fraud - Medium Risk/Suspicious fraud device indicators - medium',\n",
       " '3200/REFER-MED/1875/Potential Fraud - Medium Risk/Suspicious fraud device indicators - medium',\n",
       " '3200/REFER-HIGH/3550/Potential Fraud - High Risk/Suspicious fraud device indicators - high',\n",
       " '3200/REFER-MED/3400/Potential Fraud - Medium Risk/Suspicious fraud device indicators - medium']"
      ]
     },
     "execution_count": 194,
     "metadata": {},
     "output_type": "execute_result"
    }
   ],
   "source": [
    "EXPERIAN_RESPONSE_2_list"
   ]
  },
  {
   "cell_type": "code",
   "execution_count": 195,
   "metadata": {},
   "outputs": [],
   "source": [
    "EXPERIAN_RESPONSE_2_map = {}\n",
    "\n",
    "i = 0\n",
    "for response_item in EXPERIAN_RESPONSE_2_list:\n",
    "    EXPERIAN_RESPONSE_2_map[response_item] = i\n",
    "    i += 1"
   ]
  },
  {
   "cell_type": "code",
   "execution_count": 196,
   "metadata": {},
   "outputs": [
    {
     "data": {
      "text/plain": [
       "{nan: 0,\n",
       " '3200/APPROVE/700/No Fraud Detected/No device concerns': 1,\n",
       " '3200/APPROVE/200/No Fraud Detected/No device concerns': 2,\n",
       " '3200/APPROVE/600/No Fraud Detected/No device concerns': 3,\n",
       " '3200/REFER-MED/1700/Potential Fraud - Medium Risk/Suspicious fraud device indicators - medium': 4,\n",
       " '3200/APPROVE/350/No Fraud Detected/No device concerns': 5,\n",
       " '3200/APPROVE/450/No Fraud Detected/No device concerns': 6,\n",
       " '3200/APPROVE/1250/No Fraud Detected/No device concerns': 7,\n",
       " '3200/APPROVE/750/No Fraud Detected/No device concerns': 8,\n",
       " '3200/REFER-MED/1800/Potential Fraud - Medium Risk/Suspicious fraud device indicators - medium': 9,\n",
       " '3200/APPROVE/250/No Fraud Detected/No device concerns': 10,\n",
       " '3200/APPROVE/1200/No Fraud Detected/No device concerns': 11,\n",
       " '3200/APPROVE/550/No Fraud Detected/No device concerns': 12,\n",
       " '3200/APPROVE/900/No Fraud Detected/No device concerns': 13,\n",
       " '3200/REFER-MED/1850/Potential Fraud - Medium Risk/Suspicious fraud device indicators - medium': 14,\n",
       " '3200/APPROVE/300/No Fraud Detected/No device concerns': 15,\n",
       " '3200/REFER-HIGH/3200/Potential Fraud - High Risk/Suspicious fraud device indicators - high': 16,\n",
       " '3200/APPROVE/850/No Fraud Detected/No device concerns': 17,\n",
       " '3200/APPROVE/500/No Fraud Detected/No device concerns': 18,\n",
       " '3200/REFER-HIGH/6650/Potential Fraud - High Risk/Suspicious fraud device indicators - high': 19,\n",
       " '3200/APPROVE/400/No Fraud Detected/No device concerns': 20,\n",
       " '3200/APPROVE/950/No Fraud Detected/No device concerns': 21,\n",
       " '3200/ERROR/0/Continue FS Error - FraudNet/Error Or No Decision From FS FraudNet': 22,\n",
       " '3200/REFER-HIGH/3600/Potential Fraud - High Risk/Suspicious fraud device indicators - high': 23,\n",
       " '3200/REFER-HIGH/3350/Potential Fraud - High Risk/Suspicious fraud device indicators - high': 24,\n",
       " '3200/REFER-HIGH/9400/Potential Fraud - High Risk/Suspicious fraud device indicators - high': 25,\n",
       " '3200/REFER-MED/2450/Potential Fraud - Medium Risk/Suspicious fraud device indicators - medium': 26,\n",
       " '3200/APPROVE/650/No Fraud Detected/No device concerns': 27,\n",
       " '3200/APPROVE/800/No Fraud Detected/No device concerns': 28,\n",
       " '3200/REFER-HIGH/1950/Potential Fraud - High Risk/Suspicious fraud device indicators - high': 29,\n",
       " '3200/REFER-HIGH/6500/Potential Fraud - High Risk/Suspicious fraud device indicators - high': 30,\n",
       " '3200/REFER-MED/2600/Potential Fraud - Medium Risk/Suspicious fraud device indicators - medium': 31,\n",
       " '3200/REFER-MED/2150/Potential Fraud - Medium Risk/Suspicious fraud device indicators - medium': 32,\n",
       " '3200/REFER-MED/1950/Potential Fraud - Medium Risk/Suspicious fraud device indicators - medium': 33,\n",
       " '3200/REFER-MED/2100/Potential Fraud - Medium Risk/Suspicious fraud device indicators - medium': 34,\n",
       " '3200/REFER-HIGH/3300/Potential Fraud - High Risk/Suspicious fraud device indicators - high': 35,\n",
       " '3200/REFER-MED/1900/Potential Fraud - Medium Risk/Suspicious fraud device indicators - medium': 36,\n",
       " '3200/APPROVE/1150/No Fraud Detected/No device concerns': 37,\n",
       " '3200/REFER-MED/2550/Potential Fraud - Medium Risk/Suspicious fraud device indicators - medium': 38,\n",
       " '3200/REFER-HIGH/4800/Potential Fraud - High Risk/Suspicious fraud device indicators - high': 39,\n",
       " '3200/REFER-HIGH/4850/Potential Fraud - High Risk/Suspicious fraud device indicators - high': 40,\n",
       " '3200/APPROVE/1100/No Fraud Detected/No device concerns': 41,\n",
       " '3200/REFER-HIGH/5500/Potential Fraud - High Risk/Suspicious fraud device indicators - high': 42,\n",
       " '3200/REFER-HIGH/5150/Potential Fraud - High Risk/Suspicious fraud device indicators - high': 43,\n",
       " '3200/APPROVE/1000/No Fraud Detected/No device concerns': 44,\n",
       " '3200/REFER-HIGH/5350/Potential Fraud - High Risk/Suspicious fraud device indicators - high': 45,\n",
       " '3200/REFER-HIGH/4700/Potential Fraud - High Risk/Suspicious fraud device indicators - high': 46,\n",
       " '3200/APPROVE/0/No Fraud Detected/No device concerns': 47,\n",
       " '3200/REFER-HIGH/5400/Potential Fraud - High Risk/Suspicious fraud device indicators - high': 48,\n",
       " '3200/REFER-HIGH/4950/Potential Fraud - High Risk/Suspicious fraud device indicators - high': 49,\n",
       " '3200/REFER-MED/3700/Potential Fraud - Medium Risk/Suspicious fraud device indicators - medium': 50,\n",
       " '3200/REFER-HIGH/5250/Potential Fraud - High Risk/Suspicious fraud device indicators - high': 51,\n",
       " '3200/REFER-HIGH/8000/Potential Fraud - High Risk/Suspicious fraud device indicators - high': 52,\n",
       " '3200/REFER-HIGH/6350/Potential Fraud - High Risk/Suspicious fraud device indicators - high': 53,\n",
       " '3200/REFER-HIGH/3750/Potential Fraud - High Risk/Suspicious fraud device indicators - high': 54,\n",
       " '3200/REFER-HIGH/4000/Potential Fraud - High Risk/Suspicious fraud device indicators - high': 55,\n",
       " '3200/REFER-HIGH/4050/Potential Fraud - High Risk/Suspicious fraud device indicators - high': 56,\n",
       " '3200/REFER-HIGH/4250/Potential Fraud - High Risk/Suspicious fraud device indicators - high': 57,\n",
       " '3200/REFER-HIGH/4425/Potential Fraud - High Risk/Suspicious fraud device indicators - high': 58,\n",
       " '3200/REFER-HIGH/4100/Potential Fraud - High Risk/Suspicious fraud device indicators - high': 59,\n",
       " '3200/REFER-HIGH/4150/Potential Fraud - High Risk/Suspicious fraud device indicators - high': 60,\n",
       " '3200/APPROVE/1050/No Fraud Detected/No device concerns': 61,\n",
       " '3200/APPROVE/1450/No Fraud Detected/No device concerns': 62,\n",
       " '3200/REFER-HIGH/7000/Potential Fraud - High Risk/Suspicious fraud device indicators - high': 63,\n",
       " '3200/REFER-HIGH/5000/Potential Fraud - High Risk/Suspicious fraud device indicators - high': 64,\n",
       " '3200/REFER-MED/2000/Potential Fraud - Medium Risk/Suspicious fraud device indicators - medium': 65,\n",
       " '3200/REFER-HIGH/1800/Potential Fraud - High Risk/Suspicious fraud device indicators - high': 66,\n",
       " '3200/REFER-HIGH/2550/Potential Fraud - High Risk/Suspicious fraud device indicators - high': 67,\n",
       " '3200/REFER-MED/2250/Potential Fraud - Medium Risk/Suspicious fraud device indicators - medium': 68,\n",
       " '3200/REFER-HIGH/7200/Potential Fraud - High Risk/Suspicious fraud device indicators - high': 69,\n",
       " '3200/REFER-HIGH/6800/Potential Fraud - High Risk/Suspicious fraud device indicators - high': 70,\n",
       " '3200/REFER-MED/2200/Potential Fraud - Medium Risk/Suspicious fraud device indicators - medium': 71,\n",
       " '3200/REFER-HIGH/3450/Potential Fraud - High Risk/Suspicious fraud device indicators - high': 72,\n",
       " '3200/REFER-HIGH/3850/Potential Fraud - High Risk/Suspicious fraud device indicators - high': 73,\n",
       " '3200/REFER-HIGH/6400/Potential Fraud - High Risk/Suspicious fraud device indicators - high': 74,\n",
       " '3200/APPROVE/1300/No Fraud Detected/No device concerns': 75,\n",
       " '3200/REFER-HIGH/5800/Potential Fraud - High Risk/Suspicious fraud device indicators - high': 76,\n",
       " '3200/APPROVE/1350/No Fraud Detected/No device concerns': 77,\n",
       " '3200/REFER-MED/1650/Potential Fraud - Medium Risk/Suspicious fraud device indicators - medium': 78,\n",
       " '3200/APPROVE/1400/No Fraud Detected/No device concerns': 79,\n",
       " '3200/REFER-MED/1500/Potential Fraud - Medium Risk/Suspicious fraud device indicators - medium': 80,\n",
       " '3200/REFER-MED/3600/Potential Fraud - Medium Risk/Suspicious fraud device indicators - medium': 81,\n",
       " '3200/REFER-MED/2050/Potential Fraud - Medium Risk/Suspicious fraud device indicators - medium': 82,\n",
       " '3200/REFER-HIGH/8150/Potential Fraud - High Risk/Suspicious fraud device indicators - high': 83,\n",
       " '3200/APPROVE/150/No Fraud Detected/No device concerns': 84,\n",
       " '3200/REFER-HIGH/6700/Potential Fraud - High Risk/Suspicious fraud device indicators - high': 85,\n",
       " '3200/REFER-HIGH/6550/Potential Fraud - High Risk/Suspicious fraud device indicators - high': 86,\n",
       " '3200/REFER-HIGH/3650/Potential Fraud - High Risk/Suspicious fraud device indicators - high': 87,\n",
       " '3200/REFER-MED/2500/Potential Fraud - Medium Risk/Suspicious fraud device indicators - medium': 88,\n",
       " '3200/REFER-MED/2350/Potential Fraud - Medium Risk/Suspicious fraud device indicators - medium': 89,\n",
       " '3200/REFER-HIGH/2000/Potential Fraud - High Risk/Suspicious fraud device indicators - high': 90,\n",
       " '3200/REFER-MED/1600/Potential Fraud - Medium Risk/Suspicious fraud device indicators - medium': 91,\n",
       " '3200/REFER-MED/1550/Potential Fraud - Medium Risk/Suspicious fraud device indicators - medium': 92,\n",
       " '3200/REFER-HIGH/3500/Potential Fraud - High Risk/Suspicious fraud device indicators - high': 93,\n",
       " '3200/REFER-MED/3500/Potential Fraud - Medium Risk/Suspicious fraud device indicators - medium': 94,\n",
       " '3200/APPROVE/1325/No Fraud Detected/No device concerns': 95,\n",
       " '3200/REFER-MED/1825/Potential Fraud - Medium Risk/Suspicious fraud device indicators - medium': 96,\n",
       " '3200/REFER-MED/1975/Potential Fraud - Medium Risk/Suspicious fraud device indicators - medium': 97,\n",
       " '3200/REFER-MED/2375/Potential Fraud - Medium Risk/Suspicious fraud device indicators - medium': 98,\n",
       " '3200/REFER-MED/1525/Potential Fraud - Medium Risk/Suspicious fraud device indicators - medium': 99,\n",
       " '3200/REFER-MED/3450/Potential Fraud - Medium Risk/Suspicious fraud device indicators - medium': 100,\n",
       " '3200/REFER-HIGH/3700/Potential Fraud - High Risk/Suspicious fraud device indicators - high': 101,\n",
       " '3200/REFER-MED/1750/Potential Fraud - Medium Risk/Suspicious fraud device indicators - medium': 102,\n",
       " '3200/APPROVE/1225/No Fraud Detected/No device concerns': 103,\n",
       " '3200/REFER-MED/2300/Potential Fraud - Medium Risk/Suspicious fraud device indicators - medium': 104,\n",
       " '3200/REFER-HIGH/7050/Potential Fraud - High Risk/Suspicious fraud device indicators - high': 105,\n",
       " '3200/APPROVE/1275/No Fraud Detected/No device concerns': 106,\n",
       " '3200/REFER-MED/1675/Potential Fraud - Medium Risk/Suspicious fraud device indicators - medium': 107,\n",
       " '3200/REFER-MED/3200/Potential Fraud - Medium Risk/Suspicious fraud device indicators - medium': 108,\n",
       " '3200/REFER-HIGH/5050/Potential Fraud - High Risk/Suspicious fraud device indicators - high': 109,\n",
       " '3200/REFER-MED/3750/Potential Fraud - Medium Risk/Suspicious fraud device indicators - medium': 110,\n",
       " '3200/REFER-HIGH/6900/Potential Fraud - High Risk/Suspicious fraud device indicators - high': 111,\n",
       " '3200/REFER-MED/4200/Potential Fraud - Medium Risk/Suspicious fraud device indicators - medium': 112,\n",
       " '3200/REFER-MED/4350/Potential Fraud - Medium Risk/Suspicious fraud device indicators - medium': 113,\n",
       " '3200/REFER-HIGH/6750/Potential Fraud - High Risk/Suspicious fraud device indicators - high': 114,\n",
       " '3200/REFER-MED/2700/Potential Fraud - Medium Risk/Suspicious fraud device indicators - medium': 115,\n",
       " '3200/REFER-MED/3350/Potential Fraud - Medium Risk/Suspicious fraud device indicators - medium': 116,\n",
       " '3200/REFER-HIGH/9550/Potential Fraud - High Risk/Suspicious fraud device indicators - high': 117,\n",
       " '3200/REFER-MED/2400/Potential Fraud - Medium Risk/Suspicious fraud device indicators - medium': 118,\n",
       " '3200/REFER-HIGH/1850/Potential Fraud - High Risk/Suspicious fraud device indicators - high': 119,\n",
       " '3200/REFER-MED/2750/Potential Fraud - Medium Risk/Suspicious fraud device indicators - medium': 120,\n",
       " '3200/REFER-HIGH/3400/Potential Fraud - High Risk/Suspicious fraud device indicators - high': 121,\n",
       " '3200/REFER-MED/3800/Potential Fraud - Medium Risk/Suspicious fraud device indicators - medium': 122,\n",
       " '3200/APPROVE/1025/No Fraud Detected/No device concerns': 123,\n",
       " '3200/REFER-HIGH/4350/Potential Fraud - High Risk/Suspicious fraud device indicators - high': 124,\n",
       " '3200/REFER-MED/5100/Potential Fraud - Medium Risk/Suspicious fraud device indicators - medium': 125,\n",
       " '3200/REFER-MED/4000/Potential Fraud - Medium Risk/Suspicious fraud device indicators - medium': 126,\n",
       " '3200/REFER-MED/4750/Potential Fraud - Medium Risk/Suspicious fraud device indicators - medium': 127,\n",
       " '3200/REFER-MED/5300/Potential Fraud - Medium Risk/Suspicious fraud device indicators - medium': 128,\n",
       " '3200/REFER-MED/4250/Potential Fraud - Medium Risk/Suspicious fraud device indicators - medium': 129,\n",
       " '3200/APPROVE/1125/No Fraud Detected/No device concerns': 130,\n",
       " '3200/REFER-MED/4050/Potential Fraud - Medium Risk/Suspicious fraud device indicators - medium': 131,\n",
       " '3200/REFER-MED/4100/Potential Fraud - Medium Risk/Suspicious fraud device indicators - medium': 132,\n",
       " '3200/REFER-HIGH/3250/Potential Fraud - High Risk/Suspicious fraud device indicators - high': 133,\n",
       " '3200/REFER-MED/2850/Potential Fraud - Medium Risk/Suspicious fraud device indicators - medium': 134,\n",
       " '3200/REFER-HIGH/5100/Potential Fraud - High Risk/Suspicious fraud device indicators - high': 135,\n",
       " '3200/REFER-MED/3900/Potential Fraud - Medium Risk/Suspicious fraud device indicators - medium': 136,\n",
       " '3200/REFER-HIGH/7300/Potential Fraud - High Risk/Suspicious fraud device indicators - high': 137,\n",
       " '3200/REFER-MED/2650/Potential Fraud - Medium Risk/Suspicious fraud device indicators - medium': 138,\n",
       " '3200/REFER-HIGH/7500/Potential Fraud - High Risk/Suspicious fraud device indicators - high': 139,\n",
       " '3200/REFER-HIGH/8250/Potential Fraud - High Risk/Suspicious fraud device indicators - high': 140,\n",
       " '3200/REFER-HIGH/4900/Potential Fraud - High Risk/Suspicious fraud device indicators - high': 141,\n",
       " '3200/REFER-HIGH/5200/Potential Fraud - High Risk/Suspicious fraud device indicators - high': 142,\n",
       " '3200/REFER-HIGH/2200/Potential Fraud - High Risk/Suspicious fraud device indicators - high': 143,\n",
       " '3200/REFER-MED/1725/Potential Fraud - Medium Risk/Suspicious fraud device indicators - medium': 144,\n",
       " '3200/REFER-MED/3050/Potential Fraud - Medium Risk/Suspicious fraud device indicators - medium': 145,\n",
       " '3200/REFER-MED/3000/Potential Fraud - Medium Risk/Suspicious fraud device indicators - medium': 146,\n",
       " '3200/REFER-MED/1875/Potential Fraud - Medium Risk/Suspicious fraud device indicators - medium': 147,\n",
       " '3200/REFER-HIGH/3550/Potential Fraud - High Risk/Suspicious fraud device indicators - high': 148,\n",
       " '3200/REFER-MED/3400/Potential Fraud - Medium Risk/Suspicious fraud device indicators - medium': 149}"
      ]
     },
     "execution_count": 196,
     "metadata": {},
     "output_type": "execute_result"
    }
   ],
   "source": [
    "EXPERIAN_RESPONSE_2_map"
   ]
  },
  {
   "cell_type": "code",
   "execution_count": 197,
   "metadata": {},
   "outputs": [],
   "source": [
    "order_category_df['EXPERIAN_RESPONSE_2_cat'] = order_category_df.apply(lambda x: generate_column_index(x['EXPERIAN_RESPONSE_2'], EXPERIAN_RESPONSE_2_map), axis=1)"
   ]
  },
  {
   "cell_type": "code",
   "execution_count": 198,
   "metadata": {},
   "outputs": [
    {
     "data": {
      "text/plain": [
       "0     0\n",
       "1     0\n",
       "2     0\n",
       "3     0\n",
       "4     0\n",
       "5     0\n",
       "6     0\n",
       "7     1\n",
       "8     0\n",
       "9     0\n",
       "10    2\n",
       "11    2\n",
       "12    2\n",
       "13    2\n",
       "14    0\n",
       "15    2\n",
       "16    0\n",
       "17    2\n",
       "18    2\n",
       "19    0\n",
       "Name: EXPERIAN_RESPONSE_2_cat, dtype: int64"
      ]
     },
     "execution_count": 198,
     "metadata": {},
     "output_type": "execute_result"
    }
   ],
   "source": [
    "order_category_df['EXPERIAN_RESPONSE_2_cat'].head(20)"
   ]
  },
  {
   "cell_type": "code",
   "execution_count": 199,
   "metadata": {},
   "outputs": [],
   "source": [
    "order_category_df.drop(['EXPERIAN_RESPONSE_2'], axis=1, inplace=True)"
   ]
  },
  {
   "cell_type": "code",
   "execution_count": 200,
   "metadata": {},
   "outputs": [
    {
     "data": {
      "text/plain": [
       "Index(['IS_EXISTING_CUSTOMER', 'FPF_HIGH_YELLOW', 'IDA_RESULT', 'YELLOW_SKU',\n",
       "       'DEVICE_AT_HOME', 'ORDER_EXCHANGE', 'SHIPPINGMETHOD', 'BLACKLIST_EMAIL',\n",
       "       'INTERNAL_CREDIT_CHECK_DONE', 'DENIAL_OF_SERVICES', 'FRAUDNET_RESULT',\n",
       "       'TPF_HIGH_YELLOW', 'EXTERNAL_CREDIT_CHECK_DONE', 'SALES_CHANNEL',\n",
       "       'SKU_vector', 'carrier_vector', 'make_vector', 'type_vector',\n",
       "       'model_vector', 'SHIPPING_STATE_cat', 'BILLING_STATE_cat',\n",
       "       'LINE_LIMIT_REACHED_cat', 'SSN_BLACKLISTED_cat',\n",
       "       'EXPERIAN_RESPONSE_1_cat', 'EXPERIAN_RESPONSE_2_cat'],\n",
       "      dtype='object')"
      ]
     },
     "execution_count": 200,
     "metadata": {},
     "output_type": "execute_result"
    }
   ],
   "source": [
    "order_category_df.columns"
   ]
  },
  {
   "cell_type": "code",
   "execution_count": 201,
   "metadata": {},
   "outputs": [],
   "source": [
    "def generate_cat_field(single_cat_field_name):\n",
    "    cat_field_name = single_cat_field_name + '_cat'\n",
    "    unique_value_list = order_category_df[single_cat_field_name].unique().tolist()\n",
    "    field_map = {}\n",
    "    i = 0\n",
    "    for field_item in unique_value_list:\n",
    "        field_map[field_item] = i\n",
    "        i += 1\n",
    "    order_category_df[cat_field_name] = order_category_df.apply(lambda x: generate_column_index(x[single_cat_field_name], field_map), axis=1)    \n",
    "    "
   ]
  },
  {
   "cell_type": "code",
   "execution_count": 203,
   "metadata": {},
   "outputs": [],
   "source": [
    "generate_cat_field('IDA_RESULT')"
   ]
  },
  {
   "cell_type": "code",
   "execution_count": 204,
   "metadata": {},
   "outputs": [
    {
     "data": {
      "text/plain": [
       "0     0\n",
       "1     0\n",
       "2     0\n",
       "3     0\n",
       "4     0\n",
       "5     0\n",
       "6     0\n",
       "7     0\n",
       "8     0\n",
       "9     0\n",
       "10    0\n",
       "11    0\n",
       "12    0\n",
       "13    0\n",
       "14    0\n",
       "15    0\n",
       "16    0\n",
       "17    1\n",
       "18    0\n",
       "19    0\n",
       "Name: IDA_RESULT_cat, dtype: int64"
      ]
     },
     "execution_count": 204,
     "metadata": {},
     "output_type": "execute_result"
    }
   ],
   "source": [
    "order_category_df['IDA_RESULT_cat'].head(20)"
   ]
  },
  {
   "cell_type": "code",
   "execution_count": 205,
   "metadata": {},
   "outputs": [],
   "source": [
    "order_category_df.drop(['IDA_RESULT'], axis=1, inplace=True)"
   ]
  },
  {
   "cell_type": "code",
   "execution_count": 206,
   "metadata": {},
   "outputs": [
    {
     "data": {
      "text/plain": [
       "Index(['IS_EXISTING_CUSTOMER', 'FPF_HIGH_YELLOW', 'YELLOW_SKU',\n",
       "       'DEVICE_AT_HOME', 'ORDER_EXCHANGE', 'SHIPPINGMETHOD', 'BLACKLIST_EMAIL',\n",
       "       'INTERNAL_CREDIT_CHECK_DONE', 'DENIAL_OF_SERVICES', 'FRAUDNET_RESULT',\n",
       "       'TPF_HIGH_YELLOW', 'EXTERNAL_CREDIT_CHECK_DONE', 'SALES_CHANNEL',\n",
       "       'SKU_vector', 'carrier_vector', 'make_vector', 'type_vector',\n",
       "       'model_vector', 'SHIPPING_STATE_cat', 'BILLING_STATE_cat',\n",
       "       'LINE_LIMIT_REACHED_cat', 'SSN_BLACKLISTED_cat',\n",
       "       'EXPERIAN_RESPONSE_1_cat', 'EXPERIAN_RESPONSE_2_cat', 'IDA_RESULT_cat'],\n",
       "      dtype='object')"
      ]
     },
     "execution_count": 206,
     "metadata": {},
     "output_type": "execute_result"
    }
   ],
   "source": [
    "order_category_df.columns"
   ]
  },
  {
   "cell_type": "code",
   "execution_count": 207,
   "metadata": {},
   "outputs": [],
   "source": [
    "generate_cat_field('INTERNAL_CREDIT_CHECK_DONE')\n",
    "order_category_df.drop(['INTERNAL_CREDIT_CHECK_DONE'], axis=1, inplace=True)"
   ]
  },
  {
   "cell_type": "code",
   "execution_count": 208,
   "metadata": {},
   "outputs": [],
   "source": [
    "generate_cat_field('TPF_HIGH_YELLOW')\n",
    "order_category_df.drop(['TPF_HIGH_YELLOW'], axis=1, inplace=True)"
   ]
  },
  {
   "cell_type": "code",
   "execution_count": 209,
   "metadata": {},
   "outputs": [],
   "source": [
    "generate_cat_field('EXTERNAL_CREDIT_CHECK_DONE')\n",
    "order_category_df.drop(['EXTERNAL_CREDIT_CHECK_DONE'], axis=1, inplace=True)"
   ]
  },
  {
   "cell_type": "code",
   "execution_count": 210,
   "metadata": {},
   "outputs": [],
   "source": [
    "generate_cat_field('IS_EXISTING_CUSTOMER')\n",
    "order_category_df.drop(['IS_EXISTING_CUSTOMER'], axis=1, inplace=True)"
   ]
  },
  {
   "cell_type": "code",
   "execution_count": 211,
   "metadata": {},
   "outputs": [],
   "source": [
    "generate_cat_field('SALES_CHANNEL')\n",
    "order_category_df.drop(['SALES_CHANNEL'], axis=1, inplace=True)"
   ]
  },
  {
   "cell_type": "code",
   "execution_count": 212,
   "metadata": {},
   "outputs": [],
   "source": [
    "generate_cat_field('SHIPPINGMETHOD')\n",
    "order_category_df.drop(['SHIPPINGMETHOD'], axis=1, inplace=True)"
   ]
  },
  {
   "cell_type": "code",
   "execution_count": 213,
   "metadata": {},
   "outputs": [],
   "source": [
    "generate_cat_field('FPF_HIGH_YELLOW')\n",
    "order_category_df.drop(['FPF_HIGH_YELLOW'], axis=1, inplace=True)"
   ]
  },
  {
   "cell_type": "code",
   "execution_count": 214,
   "metadata": {},
   "outputs": [],
   "source": [
    "generate_cat_field('FRAUDNET_RESULT')\n",
    "order_category_df.drop(['FRAUDNET_RESULT'], axis=1, inplace=True)"
   ]
  },
  {
   "cell_type": "code",
   "execution_count": 215,
   "metadata": {},
   "outputs": [],
   "source": [
    "generate_cat_field('YELLOW_SKU')\n",
    "order_category_df.drop(['YELLOW_SKU'], axis=1, inplace=True)"
   ]
  },
  {
   "cell_type": "code",
   "execution_count": 216,
   "metadata": {},
   "outputs": [
    {
     "data": {
      "text/plain": [
       "0    N\n",
       "1    Y\n",
       "2    N\n",
       "3    N\n",
       "4    Y\n",
       "Name: DEVICE_AT_HOME, dtype: object"
      ]
     },
     "execution_count": 216,
     "metadata": {},
     "output_type": "execute_result"
    }
   ],
   "source": [
    "order_category_df['DEVICE_AT_HOME'].head()"
   ]
  },
  {
   "cell_type": "code",
   "execution_count": 217,
   "metadata": {},
   "outputs": [],
   "source": [
    "generate_cat_field('DEVICE_AT_HOME')\n",
    "order_category_df.drop(['DEVICE_AT_HOME'], axis=1, inplace=True)"
   ]
  },
  {
   "cell_type": "code",
   "execution_count": 218,
   "metadata": {},
   "outputs": [],
   "source": [
    "# BLACKLIST_EMAIL is too sparse, drop\n",
    "order_category_df.drop(['BLACKLIST_EMAIL'], axis=1, inplace=True)"
   ]
  },
  {
   "cell_type": "code",
   "execution_count": 219,
   "metadata": {},
   "outputs": [],
   "source": [
    "generate_cat_field('ORDER_EXCHANGE')\n",
    "order_category_df.drop(['ORDER_EXCHANGE'], axis=1, inplace=True)"
   ]
  },
  {
   "cell_type": "code",
   "execution_count": 220,
   "metadata": {},
   "outputs": [],
   "source": [
    "generate_cat_field('DENIAL_OF_SERVICES')\n",
    "order_category_df.drop(['DENIAL_OF_SERVICES'], axis=1, inplace=True)"
   ]
  },
  {
   "cell_type": "code",
   "execution_count": 221,
   "metadata": {},
   "outputs": [
    {
     "data": {
      "text/plain": [
       "Index(['SKU_vector', 'carrier_vector', 'make_vector', 'type_vector',\n",
       "       'model_vector', 'SHIPPING_STATE_cat', 'BILLING_STATE_cat',\n",
       "       'LINE_LIMIT_REACHED_cat', 'SSN_BLACKLISTED_cat',\n",
       "       'EXPERIAN_RESPONSE_1_cat', 'EXPERIAN_RESPONSE_2_cat', 'IDA_RESULT_cat',\n",
       "       'INTERNAL_CREDIT_CHECK_DONE_cat', 'TPF_HIGH_YELLOW_cat',\n",
       "       'EXTERNAL_CREDIT_CHECK_DONE_cat', 'IS_EXISTING_CUSTOMER_cat',\n",
       "       'SALES_CHANNEL_cat', 'SHIPPINGMETHOD_cat', 'FPF_HIGH_YELLOW_cat',\n",
       "       'FRAUDNET_RESULT_cat', 'YELLOW_SKU_cat', 'DEVICE_AT_HOME_cat',\n",
       "       'ORDER_EXCHANGE_cat', 'DENIAL_OF_SERVICES_cat'],\n",
       "      dtype='object')"
      ]
     },
     "execution_count": 221,
     "metadata": {},
     "output_type": "execute_result"
    }
   ],
   "source": [
    "order_category_df.columns"
   ]
  },
  {
   "cell_type": "markdown",
   "metadata": {},
   "source": [
    "Only vector fields left. conversion is complete. save results"
   ]
  },
  {
   "cell_type": "code",
   "execution_count": 222,
   "metadata": {},
   "outputs": [],
   "source": [
    "order_category_df.to_csv('ivr_backup_data/order_category_df.csv', index=False)"
   ]
  },
  {
   "cell_type": "code",
   "execution_count": 223,
   "metadata": {},
   "outputs": [],
   "source": [
    "order_by_account = order_extract_df.groupby('ACCOUNT_NUMBER')"
   ]
  },
  {
   "cell_type": "code",
   "execution_count": 224,
   "metadata": {},
   "outputs": [
    {
     "data": {
      "text/plain": [
       "array([ 1,  4,  2,  3,  9,  6,  5,  7,  8, 10, 12, 11, 13, 16, 14, 22, 20,\n",
       "       19, 49, 26, 33, 15, 23, 21, 17])"
      ]
     },
     "execution_count": 224,
     "metadata": {},
     "output_type": "execute_result"
    }
   ],
   "source": [
    "order_by_account.size().unique()"
   ]
  },
  {
   "cell_type": "code",
   "execution_count": 225,
   "metadata": {},
   "outputs": [],
   "source": [
    "# i = 1\n",
    "# for group_name, df_group in order_by_account:\n",
    "#     print('group name={}'.format(group_name))\n",
    "#     print('group size={}'.format(df_group.size))\n",
    "#     i += 1\n",
    "#     if i > 1:\n",
    "#         break"
   ]
  },
  {
   "cell_type": "code",
   "execution_count": 226,
   "metadata": {},
   "outputs": [],
   "source": [
    "group_count_df = order_by_account.size().reset_index(name='counts')"
   ]
  },
  {
   "cell_type": "code",
   "execution_count": 227,
   "metadata": {},
   "outputs": [
    {
     "data": {
      "text/html": [
       "<div>\n",
       "<style scoped>\n",
       "    .dataframe tbody tr th:only-of-type {\n",
       "        vertical-align: middle;\n",
       "    }\n",
       "\n",
       "    .dataframe tbody tr th {\n",
       "        vertical-align: top;\n",
       "    }\n",
       "\n",
       "    .dataframe thead th {\n",
       "        text-align: right;\n",
       "    }\n",
       "</style>\n",
       "<table border=\"1\" class=\"dataframe\">\n",
       "  <thead>\n",
       "    <tr style=\"text-align: right;\">\n",
       "      <th></th>\n",
       "      <th>ACCOUNT_NUMBER</th>\n",
       "      <th>counts</th>\n",
       "    </tr>\n",
       "  </thead>\n",
       "  <tbody>\n",
       "    <tr>\n",
       "      <th>100636</th>\n",
       "      <td>2173973859</td>\n",
       "      <td>49</td>\n",
       "    </tr>\n",
       "  </tbody>\n",
       "</table>\n",
       "</div>"
      ],
      "text/plain": [
       "        ACCOUNT_NUMBER  counts\n",
       "100636      2173973859      49"
      ]
     },
     "execution_count": 227,
     "metadata": {},
     "output_type": "execute_result"
    }
   ],
   "source": [
    "group_count_df[group_count_df['counts']==49]"
   ]
  },
  {
   "cell_type": "code",
   "execution_count": 228,
   "metadata": {},
   "outputs": [
    {
     "data": {
      "text/plain": [
       "'2019-04-30 00:00:22'"
      ]
     },
     "execution_count": 228,
     "metadata": {},
     "output_type": "execute_result"
    }
   ],
   "source": [
    "min(order_extract_df['ORDER_CREATED_DATE'])"
   ]
  },
  {
   "cell_type": "code",
   "execution_count": 229,
   "metadata": {},
   "outputs": [
    {
     "data": {
      "text/plain": [
       "'2019-11-30 23:59:04'"
      ]
     },
     "execution_count": 229,
     "metadata": {},
     "output_type": "execute_result"
    }
   ],
   "source": [
    "max(order_extract_df['ORDER_CREATED_DATE'])"
   ]
  },
  {
   "cell_type": "code",
   "execution_count": 230,
   "metadata": {},
   "outputs": [
    {
     "data": {
      "text/plain": [
       "198233"
      ]
     },
     "execution_count": 230,
     "metadata": {},
     "output_type": "execute_result"
    }
   ],
   "source": [
    "order_by_account.ngroups"
   ]
  },
  {
   "cell_type": "code",
   "execution_count": 231,
   "metadata": {},
   "outputs": [
    {
     "data": {
      "text/plain": [
       "Index(['SKU_vector', 'carrier_vector', 'make_vector', 'type_vector',\n",
       "       'model_vector', 'SHIPPING_STATE_cat', 'BILLING_STATE_cat',\n",
       "       'LINE_LIMIT_REACHED_cat', 'SSN_BLACKLISTED_cat',\n",
       "       'EXPERIAN_RESPONSE_1_cat', 'EXPERIAN_RESPONSE_2_cat', 'IDA_RESULT_cat',\n",
       "       'INTERNAL_CREDIT_CHECK_DONE_cat', 'TPF_HIGH_YELLOW_cat',\n",
       "       'EXTERNAL_CREDIT_CHECK_DONE_cat', 'IS_EXISTING_CUSTOMER_cat',\n",
       "       'SALES_CHANNEL_cat', 'SHIPPINGMETHOD_cat', 'FPF_HIGH_YELLOW_cat',\n",
       "       'FRAUDNET_RESULT_cat', 'YELLOW_SKU_cat', 'DEVICE_AT_HOME_cat',\n",
       "       'ORDER_EXCHANGE_cat', 'DENIAL_OF_SERVICES_cat'],\n",
       "      dtype='object')"
      ]
     },
     "execution_count": 231,
     "metadata": {},
     "output_type": "execute_result"
    }
   ],
   "source": [
    "order_category_df.columns"
   ]
  },
  {
   "cell_type": "code",
   "execution_count": null,
   "metadata": {},
   "outputs": [],
   "source": []
  }
 ],
 "metadata": {
  "kernelspec": {
   "display_name": "Python 3.6 - AzureML",
   "language": "python",
   "name": "python3-azureml"
  },
  "language_info": {
   "codemirror_mode": {
    "name": "ipython",
    "version": 3
   },
   "file_extension": ".py",
   "mimetype": "text/x-python",
   "name": "python",
   "nbconvert_exporter": "python",
   "pygments_lexer": "ipython3",
   "version": "3.6.2"
  }
 },
 "nbformat": 4,
 "nbformat_minor": 2
}
