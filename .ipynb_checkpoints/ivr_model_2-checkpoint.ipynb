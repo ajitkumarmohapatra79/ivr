{
 "cells": [
  {
   "cell_type": "code",
   "execution_count": 1,
   "metadata": {},
   "outputs": [],
   "source": [
    "%matplotlib inline\n",
    "%reload_ext autoreload\n",
    "%autoreload 2"
   ]
  },
  {
   "cell_type": "code",
   "execution_count": 2,
   "metadata": {},
   "outputs": [],
   "source": [
    "import pandas as pd\n",
    "import numpy as np\n",
    "import torch\n",
    "import pickle as pkl"
   ]
  },
  {
   "cell_type": "code",
   "execution_count": 3,
   "metadata": {},
   "outputs": [],
   "source": [
    "PATH='order/'"
   ]
  },
  {
   "cell_type": "code",
   "execution_count": 4,
   "metadata": {},
   "outputs": [
    {
     "name": "stderr",
     "output_type": "stream",
     "text": [
      "/anaconda/envs/azureml_py36/lib/python3.6/site-packages/IPython/core/interactiveshell.py:3058: DtypeWarning: Columns (40,45) have mixed types. Specify dtype option on import or set low_memory=False.\n",
      "  interactivity=interactivity, compiler=compiler, result=result)\n"
     ]
    }
   ],
   "source": [
    "num_df = pd.read_csv('ivr_backup_data/order_num_df.csv')\n",
    "cat_df = pd.read_csv('ivr_backup_data/order_category_df.csv')\n",
    "target_df = pd.read_csv('ivr_backup_data/target_df.csv')"
   ]
  },
  {
   "cell_type": "code",
   "execution_count": 5,
   "metadata": {},
   "outputs": [
    {
     "data": {
      "text/plain": [
       "(244134, 30)"
      ]
     },
     "execution_count": 5,
     "metadata": {},
     "output_type": "execute_result"
    }
   ],
   "source": [
    "num_df.shape"
   ]
  },
  {
   "cell_type": "code",
   "execution_count": 6,
   "metadata": {},
   "outputs": [
    {
     "data": {
      "text/html": [
       "<div>\n",
       "<style scoped>\n",
       "    .dataframe tbody tr th:only-of-type {\n",
       "        vertical-align: middle;\n",
       "    }\n",
       "\n",
       "    .dataframe tbody tr th {\n",
       "        vertical-align: top;\n",
       "    }\n",
       "\n",
       "    .dataframe thead th {\n",
       "        text-align: right;\n",
       "    }\n",
       "</style>\n",
       "<table border=\"1\" class=\"dataframe\">\n",
       "  <thead>\n",
       "    <tr style=\"text-align: right;\">\n",
       "      <th></th>\n",
       "      <th>FRAUDNET_SCORE</th>\n",
       "      <th>TOTAL_PRICE</th>\n",
       "      <th>PRICE3</th>\n",
       "      <th>PRICE4</th>\n",
       "      <th>PRICE5</th>\n",
       "      <th>NUM_PORTIN</th>\n",
       "      <th>ACNT_BILL_FNAME_MATCHES</th>\n",
       "      <th>ACNT_BILL_LNAME_MATCHES</th>\n",
       "      <th>ACNT_SHIP_FNAME_MATCHES</th>\n",
       "      <th>ACNT_SHIP_LNAME_MATCHES</th>\n",
       "      <th>...</th>\n",
       "      <th>BYOD_RETRY_COUNT</th>\n",
       "      <th>PREORDER_LINES</th>\n",
       "      <th>ALLOWED_LINES</th>\n",
       "      <th>APPROVED_LINES</th>\n",
       "      <th>EXTERNAL_APPROVED_LINES</th>\n",
       "      <th>FIRST_PARTY_ID_SCORE</th>\n",
       "      <th>THIRD_PARTY_ID_SCORE</th>\n",
       "      <th>PRICE1</th>\n",
       "      <th>PRICE2</th>\n",
       "      <th>ORDER_CREATED_DATE</th>\n",
       "    </tr>\n",
       "  </thead>\n",
       "  <tbody>\n",
       "    <tr>\n",
       "      <th>0</th>\n",
       "      <td>0.0</td>\n",
       "      <td>1554.60</td>\n",
       "      <td>119.99</td>\n",
       "      <td>119.99</td>\n",
       "      <td>0.0</td>\n",
       "      <td>0</td>\n",
       "      <td>1</td>\n",
       "      <td>1</td>\n",
       "      <td>1</td>\n",
       "      <td>1</td>\n",
       "      <td>...</td>\n",
       "      <td>0</td>\n",
       "      <td>0.0</td>\n",
       "      <td>5</td>\n",
       "      <td>5</td>\n",
       "      <td>0</td>\n",
       "      <td>553</td>\n",
       "      <td>520</td>\n",
       "      <td>599.99</td>\n",
       "      <td>599.99</td>\n",
       "      <td>1.558789e+09</td>\n",
       "    </tr>\n",
       "    <tr>\n",
       "      <th>1</th>\n",
       "      <td>0.0</td>\n",
       "      <td>0.00</td>\n",
       "      <td>0.00</td>\n",
       "      <td>0.00</td>\n",
       "      <td>0.0</td>\n",
       "      <td>1</td>\n",
       "      <td>1</td>\n",
       "      <td>1</td>\n",
       "      <td>1</td>\n",
       "      <td>1</td>\n",
       "      <td>...</td>\n",
       "      <td>0</td>\n",
       "      <td>0.0</td>\n",
       "      <td>4</td>\n",
       "      <td>0</td>\n",
       "      <td>0</td>\n",
       "      <td>485</td>\n",
       "      <td>502</td>\n",
       "      <td>0.00</td>\n",
       "      <td>0.00</td>\n",
       "      <td>1.571514e+09</td>\n",
       "    </tr>\n",
       "    <tr>\n",
       "      <th>2</th>\n",
       "      <td>0.0</td>\n",
       "      <td>1080.09</td>\n",
       "      <td>0.00</td>\n",
       "      <td>0.00</td>\n",
       "      <td>0.0</td>\n",
       "      <td>1</td>\n",
       "      <td>1</td>\n",
       "      <td>1</td>\n",
       "      <td>1</td>\n",
       "      <td>1</td>\n",
       "      <td>...</td>\n",
       "      <td>4</td>\n",
       "      <td>0.0</td>\n",
       "      <td>5</td>\n",
       "      <td>5</td>\n",
       "      <td>0</td>\n",
       "      <td>370</td>\n",
       "      <td>361</td>\n",
       "      <td>999.99</td>\n",
       "      <td>0.00</td>\n",
       "      <td>1.568388e+09</td>\n",
       "    </tr>\n",
       "    <tr>\n",
       "      <th>3</th>\n",
       "      <td>0.0</td>\n",
       "      <td>593.97</td>\n",
       "      <td>0.00</td>\n",
       "      <td>0.00</td>\n",
       "      <td>0.0</td>\n",
       "      <td>0</td>\n",
       "      <td>1</td>\n",
       "      <td>1</td>\n",
       "      <td>1</td>\n",
       "      <td>1</td>\n",
       "      <td>...</td>\n",
       "      <td>0</td>\n",
       "      <td>0.0</td>\n",
       "      <td>4</td>\n",
       "      <td>0</td>\n",
       "      <td>4</td>\n",
       "      <td>504</td>\n",
       "      <td>554</td>\n",
       "      <td>549.99</td>\n",
       "      <td>0.00</td>\n",
       "      <td>1.568843e+09</td>\n",
       "    </tr>\n",
       "    <tr>\n",
       "      <th>4</th>\n",
       "      <td>0.0</td>\n",
       "      <td>0.00</td>\n",
       "      <td>0.00</td>\n",
       "      <td>0.00</td>\n",
       "      <td>0.0</td>\n",
       "      <td>1</td>\n",
       "      <td>1</td>\n",
       "      <td>1</td>\n",
       "      <td>1</td>\n",
       "      <td>1</td>\n",
       "      <td>...</td>\n",
       "      <td>0</td>\n",
       "      <td>0.0</td>\n",
       "      <td>3</td>\n",
       "      <td>5</td>\n",
       "      <td>0</td>\n",
       "      <td>386</td>\n",
       "      <td>517</td>\n",
       "      <td>469.99</td>\n",
       "      <td>0.00</td>\n",
       "      <td>1.570415e+09</td>\n",
       "    </tr>\n",
       "  </tbody>\n",
       "</table>\n",
       "<p>5 rows × 30 columns</p>\n",
       "</div>"
      ],
      "text/plain": [
       "   FRAUDNET_SCORE  TOTAL_PRICE  PRICE3  PRICE4  PRICE5  NUM_PORTIN  \\\n",
       "0             0.0      1554.60  119.99  119.99     0.0           0   \n",
       "1             0.0         0.00    0.00    0.00     0.0           1   \n",
       "2             0.0      1080.09    0.00    0.00     0.0           1   \n",
       "3             0.0       593.97    0.00    0.00     0.0           0   \n",
       "4             0.0         0.00    0.00    0.00     0.0           1   \n",
       "\n",
       "   ACNT_BILL_FNAME_MATCHES  ACNT_BILL_LNAME_MATCHES  ACNT_SHIP_FNAME_MATCHES  \\\n",
       "0                        1                        1                        1   \n",
       "1                        1                        1                        1   \n",
       "2                        1                        1                        1   \n",
       "3                        1                        1                        1   \n",
       "4                        1                        1                        1   \n",
       "\n",
       "   ACNT_SHIP_LNAME_MATCHES         ...          BYOD_RETRY_COUNT  \\\n",
       "0                        1         ...                         0   \n",
       "1                        1         ...                         0   \n",
       "2                        1         ...                         4   \n",
       "3                        1         ...                         0   \n",
       "4                        1         ...                         0   \n",
       "\n",
       "   PREORDER_LINES  ALLOWED_LINES  APPROVED_LINES  EXTERNAL_APPROVED_LINES  \\\n",
       "0             0.0              5               5                        0   \n",
       "1             0.0              4               0                        0   \n",
       "2             0.0              5               5                        0   \n",
       "3             0.0              4               0                        4   \n",
       "4             0.0              3               5                        0   \n",
       "\n",
       "   FIRST_PARTY_ID_SCORE  THIRD_PARTY_ID_SCORE  PRICE1  PRICE2  \\\n",
       "0                   553                   520  599.99  599.99   \n",
       "1                   485                   502    0.00    0.00   \n",
       "2                   370                   361  999.99    0.00   \n",
       "3                   504                   554  549.99    0.00   \n",
       "4                   386                   517  469.99    0.00   \n",
       "\n",
       "   ORDER_CREATED_DATE  \n",
       "0        1.558789e+09  \n",
       "1        1.571514e+09  \n",
       "2        1.568388e+09  \n",
       "3        1.568843e+09  \n",
       "4        1.570415e+09  \n",
       "\n",
       "[5 rows x 30 columns]"
      ]
     },
     "execution_count": 6,
     "metadata": {},
     "output_type": "execute_result"
    }
   ],
   "source": [
    "num_df.head()"
   ]
  },
  {
   "cell_type": "code",
   "execution_count": 7,
   "metadata": {},
   "outputs": [
    {
     "data": {
      "text/html": [
       "<div>\n",
       "<style scoped>\n",
       "    .dataframe tbody tr th:only-of-type {\n",
       "        vertical-align: middle;\n",
       "    }\n",
       "\n",
       "    .dataframe tbody tr th {\n",
       "        vertical-align: top;\n",
       "    }\n",
       "\n",
       "    .dataframe thead th {\n",
       "        text-align: right;\n",
       "    }\n",
       "</style>\n",
       "<table border=\"1\" class=\"dataframe\">\n",
       "  <thead>\n",
       "    <tr style=\"text-align: right;\">\n",
       "      <th></th>\n",
       "      <th>MODEL1</th>\n",
       "      <th>MAKE2</th>\n",
       "      <th>BILLING_STATE</th>\n",
       "      <th>TYPE3</th>\n",
       "      <th>TYPE2</th>\n",
       "      <th>BLACKLIST_EMAIL</th>\n",
       "      <th>YELLOW_SKU</th>\n",
       "      <th>MODEL4</th>\n",
       "      <th>TPF_HIGH_YELLOW</th>\n",
       "      <th>ACCOUNT_NUMBER</th>\n",
       "      <th>...</th>\n",
       "      <th>BYOD1</th>\n",
       "      <th>BYOD2</th>\n",
       "      <th>BYOD3</th>\n",
       "      <th>BYOD4</th>\n",
       "      <th>BYOD5</th>\n",
       "      <th>CARRIER1</th>\n",
       "      <th>CARRIER2</th>\n",
       "      <th>CARRIER3</th>\n",
       "      <th>CARRIER4</th>\n",
       "      <th>CARRIER5</th>\n",
       "    </tr>\n",
       "  </thead>\n",
       "  <tbody>\n",
       "    <tr>\n",
       "      <th>0</th>\n",
       "      <td>iPhone 8</td>\n",
       "      <td>Apple</td>\n",
       "      <td>MN</td>\n",
       "      <td>Phone</td>\n",
       "      <td>Phone</td>\n",
       "      <td>N</td>\n",
       "      <td>N</td>\n",
       "      <td>moto e5 play</td>\n",
       "      <td>N</td>\n",
       "      <td>716308354</td>\n",
       "      <td>...</td>\n",
       "      <td>NaN</td>\n",
       "      <td>NaN</td>\n",
       "      <td>NaN</td>\n",
       "      <td>NaN</td>\n",
       "      <td>NaN</td>\n",
       "      <td>NaN</td>\n",
       "      <td>NaN</td>\n",
       "      <td>NaN</td>\n",
       "      <td>NaN</td>\n",
       "      <td>NaN</td>\n",
       "    </tr>\n",
       "    <tr>\n",
       "      <th>1</th>\n",
       "      <td>iPhone 6</td>\n",
       "      <td>NaN</td>\n",
       "      <td>MN</td>\n",
       "      <td>NaN</td>\n",
       "      <td>NaN</td>\n",
       "      <td>N</td>\n",
       "      <td>N</td>\n",
       "      <td>NaN</td>\n",
       "      <td>N</td>\n",
       "      <td>2387138088</td>\n",
       "      <td>...</td>\n",
       "      <td>APLIPHONE6GOLD64</td>\n",
       "      <td>NaN</td>\n",
       "      <td>NaN</td>\n",
       "      <td>NaN</td>\n",
       "      <td>NaN</td>\n",
       "      <td>MetroPCS</td>\n",
       "      <td>NaN</td>\n",
       "      <td>NaN</td>\n",
       "      <td>NaN</td>\n",
       "      <td>NaN</td>\n",
       "    </tr>\n",
       "    <tr>\n",
       "      <th>2</th>\n",
       "      <td>iPhone 11 Pro</td>\n",
       "      <td>NaN</td>\n",
       "      <td>MN</td>\n",
       "      <td>NaN</td>\n",
       "      <td>NaN</td>\n",
       "      <td>N</td>\n",
       "      <td>N</td>\n",
       "      <td>NaN</td>\n",
       "      <td>N</td>\n",
       "      <td>2297289602</td>\n",
       "      <td>...</td>\n",
       "      <td>NaN</td>\n",
       "      <td>NaN</td>\n",
       "      <td>NaN</td>\n",
       "      <td>NaN</td>\n",
       "      <td>NaN</td>\n",
       "      <td>GoogleVoice</td>\n",
       "      <td>NaN</td>\n",
       "      <td>NaN</td>\n",
       "      <td>NaN</td>\n",
       "      <td>NaN</td>\n",
       "    </tr>\n",
       "    <tr>\n",
       "      <th>3</th>\n",
       "      <td>iPhone 8 Plus</td>\n",
       "      <td>NaN</td>\n",
       "      <td>MN</td>\n",
       "      <td>NaN</td>\n",
       "      <td>NaN</td>\n",
       "      <td>N</td>\n",
       "      <td>N</td>\n",
       "      <td>NaN</td>\n",
       "      <td>N</td>\n",
       "      <td>2747556495</td>\n",
       "      <td>...</td>\n",
       "      <td>NaN</td>\n",
       "      <td>NaN</td>\n",
       "      <td>NaN</td>\n",
       "      <td>NaN</td>\n",
       "      <td>NaN</td>\n",
       "      <td>NaN</td>\n",
       "      <td>NaN</td>\n",
       "      <td>NaN</td>\n",
       "      <td>NaN</td>\n",
       "      <td>NaN</td>\n",
       "    </tr>\n",
       "    <tr>\n",
       "      <th>4</th>\n",
       "      <td>iPhone 7 Plus</td>\n",
       "      <td>NaN</td>\n",
       "      <td>MN</td>\n",
       "      <td>NaN</td>\n",
       "      <td>NaN</td>\n",
       "      <td>N</td>\n",
       "      <td>N</td>\n",
       "      <td>NaN</td>\n",
       "      <td>N</td>\n",
       "      <td>3159523017</td>\n",
       "      <td>...</td>\n",
       "      <td>190198155795</td>\n",
       "      <td>NaN</td>\n",
       "      <td>NaN</td>\n",
       "      <td>NaN</td>\n",
       "      <td>NaN</td>\n",
       "      <td>Other/NotSure</td>\n",
       "      <td>NaN</td>\n",
       "      <td>NaN</td>\n",
       "      <td>NaN</td>\n",
       "      <td>NaN</td>\n",
       "    </tr>\n",
       "  </tbody>\n",
       "</table>\n",
       "<p>5 rows × 51 columns</p>\n",
       "</div>"
      ],
      "text/plain": [
       "          MODEL1  MAKE2 BILLING_STATE  TYPE3  TYPE2 BLACKLIST_EMAIL  \\\n",
       "0       iPhone 8  Apple            MN  Phone  Phone               N   \n",
       "1       iPhone 6    NaN            MN    NaN    NaN               N   \n",
       "2  iPhone 11 Pro    NaN            MN    NaN    NaN               N   \n",
       "3  iPhone 8 Plus    NaN            MN    NaN    NaN               N   \n",
       "4  iPhone 7 Plus    NaN            MN    NaN    NaN               N   \n",
       "\n",
       "  YELLOW_SKU        MODEL4 TPF_HIGH_YELLOW  ACCOUNT_NUMBER   ...     \\\n",
       "0          N  moto e5 play               N       716308354   ...      \n",
       "1          N           NaN               N      2387138088   ...      \n",
       "2          N           NaN               N      2297289602   ...      \n",
       "3          N           NaN               N      2747556495   ...      \n",
       "4          N           NaN               N      3159523017   ...      \n",
       "\n",
       "              BYOD1 BYOD2 BYOD3 BYOD4 BYOD5       CARRIER1 CARRIER2 CARRIER3  \\\n",
       "0               NaN   NaN   NaN   NaN   NaN            NaN      NaN      NaN   \n",
       "1  APLIPHONE6GOLD64   NaN   NaN   NaN   NaN       MetroPCS      NaN      NaN   \n",
       "2               NaN   NaN   NaN   NaN   NaN    GoogleVoice      NaN      NaN   \n",
       "3               NaN   NaN   NaN   NaN   NaN            NaN      NaN      NaN   \n",
       "4      190198155795   NaN   NaN   NaN   NaN  Other/NotSure      NaN      NaN   \n",
       "\n",
       "  CARRIER4 CARRIER5  \n",
       "0      NaN      NaN  \n",
       "1      NaN      NaN  \n",
       "2      NaN      NaN  \n",
       "3      NaN      NaN  \n",
       "4      NaN      NaN  \n",
       "\n",
       "[5 rows x 51 columns]"
      ]
     },
     "execution_count": 7,
     "metadata": {},
     "output_type": "execute_result"
    }
   ],
   "source": [
    "cat_df.head()"
   ]
  },
  {
   "cell_type": "code",
   "execution_count": 8,
   "metadata": {},
   "outputs": [
    {
     "data": {
      "text/plain": [
       "4"
      ]
     },
     "execution_count": 8,
     "metadata": {},
     "output_type": "execute_result"
    }
   ],
   "source": [
    "len(cat_df['IDA_RESULT'].unique())"
   ]
  },
  {
   "cell_type": "code",
   "execution_count": 9,
   "metadata": {},
   "outputs": [],
   "source": [
    "# inner_train_df['IDA_RESULT'].unique()"
   ]
  },
  {
   "cell_type": "code",
   "execution_count": 10,
   "metadata": {},
   "outputs": [],
   "source": [
    "# inner_train_df['MAKE1'].unique()"
   ]
  },
  {
   "cell_type": "code",
   "execution_count": 11,
   "metadata": {},
   "outputs": [],
   "source": [
    "# cat_df['EXPERIAN_RESPONSE_1'].unique()"
   ]
  },
  {
   "cell_type": "code",
   "execution_count": 12,
   "metadata": {},
   "outputs": [
    {
     "data": {
      "text/plain": [
       "(244134, 51)"
      ]
     },
     "execution_count": 12,
     "metadata": {},
     "output_type": "execute_result"
    }
   ],
   "source": [
    "cat_df.shape"
   ]
  },
  {
   "cell_type": "code",
   "execution_count": 13,
   "metadata": {},
   "outputs": [
    {
     "data": {
      "text/plain": [
       "Index(['MODEL1', 'MAKE2', 'BILLING_STATE', 'TYPE3', 'TYPE2', 'BLACKLIST_EMAIL',\n",
       "       'YELLOW_SKU', 'MODEL4', 'TPF_HIGH_YELLOW', 'ACCOUNT_NUMBER',\n",
       "       'EXTERNAL_CREDIT_CHECK_DONE', 'IS_EXISTING_CUSTOMER', 'FRAUDNET_RESULT',\n",
       "       'MAKE4', 'LINE_LIMIT_REACHED', 'MAKE1', 'IDA_RESULT',\n",
       "       'EXPERIAN_RESPONSE_1', 'EXPERIAN_RESPONSE_2', 'MODEL2', 'TYPE1',\n",
       "       'SHIPPING_STATE', 'SALES_CHANNEL', 'TYPE4', 'MAKE5', 'MODEL5',\n",
       "       'DEVICE_AT_HOME', 'SSN_BLACKLISTED', 'MAKE3', 'TYPE5',\n",
       "       'DENIAL_OF_SERVICES', 'FPF_HIGH_YELLOW', 'SHIPPINGMETHOD',\n",
       "       'INTERNAL_CREDIT_CHECK_DONE', 'ORDER_EXCHANGE', 'MODEL3', 'SKU1',\n",
       "       'SKU2', 'SKU3', 'SKU4', 'SKU5', 'BYOD1', 'BYOD2', 'BYOD3', 'BYOD4',\n",
       "       'BYOD5', 'CARRIER1', 'CARRIER2', 'CARRIER3', 'CARRIER4', 'CARRIER5'],\n",
       "      dtype='object')"
      ]
     },
     "execution_count": 13,
     "metadata": {},
     "output_type": "execute_result"
    }
   ],
   "source": [
    "cat_df.columns"
   ]
  },
  {
   "cell_type": "code",
   "execution_count": 14,
   "metadata": {},
   "outputs": [
    {
     "data": {
      "text/plain": [
       "Index(['ACTIVE_WATCH_RESULT'], dtype='object')"
      ]
     },
     "execution_count": 14,
     "metadata": {},
     "output_type": "execute_result"
    }
   ],
   "source": [
    "target_df.columns"
   ]
  },
  {
   "cell_type": "code",
   "execution_count": 15,
   "metadata": {},
   "outputs": [
    {
     "data": {
      "text/html": [
       "<div>\n",
       "<style scoped>\n",
       "    .dataframe tbody tr th:only-of-type {\n",
       "        vertical-align: middle;\n",
       "    }\n",
       "\n",
       "    .dataframe tbody tr th {\n",
       "        vertical-align: top;\n",
       "    }\n",
       "\n",
       "    .dataframe thead th {\n",
       "        text-align: right;\n",
       "    }\n",
       "</style>\n",
       "<table border=\"1\" class=\"dataframe\">\n",
       "  <thead>\n",
       "    <tr style=\"text-align: right;\">\n",
       "      <th></th>\n",
       "      <th>ACTIVE_WATCH_RESULT</th>\n",
       "    </tr>\n",
       "  </thead>\n",
       "  <tbody>\n",
       "    <tr>\n",
       "      <th>0</th>\n",
       "      <td>3</td>\n",
       "    </tr>\n",
       "    <tr>\n",
       "      <th>1</th>\n",
       "      <td>1</td>\n",
       "    </tr>\n",
       "    <tr>\n",
       "      <th>2</th>\n",
       "      <td>1</td>\n",
       "    </tr>\n",
       "    <tr>\n",
       "      <th>3</th>\n",
       "      <td>1</td>\n",
       "    </tr>\n",
       "    <tr>\n",
       "      <th>4</th>\n",
       "      <td>1</td>\n",
       "    </tr>\n",
       "  </tbody>\n",
       "</table>\n",
       "</div>"
      ],
      "text/plain": [
       "   ACTIVE_WATCH_RESULT\n",
       "0                    3\n",
       "1                    1\n",
       "2                    1\n",
       "3                    1\n",
       "4                    1"
      ]
     },
     "execution_count": 15,
     "metadata": {},
     "output_type": "execute_result"
    }
   ],
   "source": [
    "target_df.head()"
   ]
  },
  {
   "cell_type": "code",
   "execution_count": 16,
   "metadata": {},
   "outputs": [
    {
     "data": {
      "text/plain": [
       "(244134, 1)"
      ]
     },
     "execution_count": 16,
     "metadata": {},
     "output_type": "execute_result"
    }
   ],
   "source": [
    "target_df.shape"
   ]
  },
  {
   "cell_type": "code",
   "execution_count": 17,
   "metadata": {},
   "outputs": [],
   "source": [
    "ivr_df = pd.concat([num_df, cat_df, target_df], axis=1)"
   ]
  },
  {
   "cell_type": "code",
   "execution_count": 18,
   "metadata": {},
   "outputs": [
    {
     "data": {
      "text/html": [
       "<div>\n",
       "<style scoped>\n",
       "    .dataframe tbody tr th:only-of-type {\n",
       "        vertical-align: middle;\n",
       "    }\n",
       "\n",
       "    .dataframe tbody tr th {\n",
       "        vertical-align: top;\n",
       "    }\n",
       "\n",
       "    .dataframe thead th {\n",
       "        text-align: right;\n",
       "    }\n",
       "</style>\n",
       "<table border=\"1\" class=\"dataframe\">\n",
       "  <thead>\n",
       "    <tr style=\"text-align: right;\">\n",
       "      <th></th>\n",
       "      <th>FRAUDNET_SCORE</th>\n",
       "      <th>TOTAL_PRICE</th>\n",
       "      <th>PRICE3</th>\n",
       "      <th>PRICE4</th>\n",
       "      <th>PRICE5</th>\n",
       "      <th>NUM_PORTIN</th>\n",
       "      <th>ACNT_BILL_FNAME_MATCHES</th>\n",
       "      <th>ACNT_BILL_LNAME_MATCHES</th>\n",
       "      <th>ACNT_SHIP_FNAME_MATCHES</th>\n",
       "      <th>ACNT_SHIP_LNAME_MATCHES</th>\n",
       "      <th>...</th>\n",
       "      <th>BYOD2</th>\n",
       "      <th>BYOD3</th>\n",
       "      <th>BYOD4</th>\n",
       "      <th>BYOD5</th>\n",
       "      <th>CARRIER1</th>\n",
       "      <th>CARRIER2</th>\n",
       "      <th>CARRIER3</th>\n",
       "      <th>CARRIER4</th>\n",
       "      <th>CARRIER5</th>\n",
       "      <th>ACTIVE_WATCH_RESULT</th>\n",
       "    </tr>\n",
       "  </thead>\n",
       "  <tbody>\n",
       "    <tr>\n",
       "      <th>0</th>\n",
       "      <td>0.0</td>\n",
       "      <td>1554.60</td>\n",
       "      <td>119.99</td>\n",
       "      <td>119.99</td>\n",
       "      <td>0.0</td>\n",
       "      <td>0</td>\n",
       "      <td>1</td>\n",
       "      <td>1</td>\n",
       "      <td>1</td>\n",
       "      <td>1</td>\n",
       "      <td>...</td>\n",
       "      <td>NaN</td>\n",
       "      <td>NaN</td>\n",
       "      <td>NaN</td>\n",
       "      <td>NaN</td>\n",
       "      <td>NaN</td>\n",
       "      <td>NaN</td>\n",
       "      <td>NaN</td>\n",
       "      <td>NaN</td>\n",
       "      <td>NaN</td>\n",
       "      <td>3</td>\n",
       "    </tr>\n",
       "    <tr>\n",
       "      <th>1</th>\n",
       "      <td>0.0</td>\n",
       "      <td>0.00</td>\n",
       "      <td>0.00</td>\n",
       "      <td>0.00</td>\n",
       "      <td>0.0</td>\n",
       "      <td>1</td>\n",
       "      <td>1</td>\n",
       "      <td>1</td>\n",
       "      <td>1</td>\n",
       "      <td>1</td>\n",
       "      <td>...</td>\n",
       "      <td>NaN</td>\n",
       "      <td>NaN</td>\n",
       "      <td>NaN</td>\n",
       "      <td>NaN</td>\n",
       "      <td>MetroPCS</td>\n",
       "      <td>NaN</td>\n",
       "      <td>NaN</td>\n",
       "      <td>NaN</td>\n",
       "      <td>NaN</td>\n",
       "      <td>1</td>\n",
       "    </tr>\n",
       "    <tr>\n",
       "      <th>2</th>\n",
       "      <td>0.0</td>\n",
       "      <td>1080.09</td>\n",
       "      <td>0.00</td>\n",
       "      <td>0.00</td>\n",
       "      <td>0.0</td>\n",
       "      <td>1</td>\n",
       "      <td>1</td>\n",
       "      <td>1</td>\n",
       "      <td>1</td>\n",
       "      <td>1</td>\n",
       "      <td>...</td>\n",
       "      <td>NaN</td>\n",
       "      <td>NaN</td>\n",
       "      <td>NaN</td>\n",
       "      <td>NaN</td>\n",
       "      <td>GoogleVoice</td>\n",
       "      <td>NaN</td>\n",
       "      <td>NaN</td>\n",
       "      <td>NaN</td>\n",
       "      <td>NaN</td>\n",
       "      <td>1</td>\n",
       "    </tr>\n",
       "    <tr>\n",
       "      <th>3</th>\n",
       "      <td>0.0</td>\n",
       "      <td>593.97</td>\n",
       "      <td>0.00</td>\n",
       "      <td>0.00</td>\n",
       "      <td>0.0</td>\n",
       "      <td>0</td>\n",
       "      <td>1</td>\n",
       "      <td>1</td>\n",
       "      <td>1</td>\n",
       "      <td>1</td>\n",
       "      <td>...</td>\n",
       "      <td>NaN</td>\n",
       "      <td>NaN</td>\n",
       "      <td>NaN</td>\n",
       "      <td>NaN</td>\n",
       "      <td>NaN</td>\n",
       "      <td>NaN</td>\n",
       "      <td>NaN</td>\n",
       "      <td>NaN</td>\n",
       "      <td>NaN</td>\n",
       "      <td>1</td>\n",
       "    </tr>\n",
       "    <tr>\n",
       "      <th>4</th>\n",
       "      <td>0.0</td>\n",
       "      <td>0.00</td>\n",
       "      <td>0.00</td>\n",
       "      <td>0.00</td>\n",
       "      <td>0.0</td>\n",
       "      <td>1</td>\n",
       "      <td>1</td>\n",
       "      <td>1</td>\n",
       "      <td>1</td>\n",
       "      <td>1</td>\n",
       "      <td>...</td>\n",
       "      <td>NaN</td>\n",
       "      <td>NaN</td>\n",
       "      <td>NaN</td>\n",
       "      <td>NaN</td>\n",
       "      <td>Other/NotSure</td>\n",
       "      <td>NaN</td>\n",
       "      <td>NaN</td>\n",
       "      <td>NaN</td>\n",
       "      <td>NaN</td>\n",
       "      <td>1</td>\n",
       "    </tr>\n",
       "  </tbody>\n",
       "</table>\n",
       "<p>5 rows × 82 columns</p>\n",
       "</div>"
      ],
      "text/plain": [
       "   FRAUDNET_SCORE  TOTAL_PRICE  PRICE3  PRICE4  PRICE5  NUM_PORTIN  \\\n",
       "0             0.0      1554.60  119.99  119.99     0.0           0   \n",
       "1             0.0         0.00    0.00    0.00     0.0           1   \n",
       "2             0.0      1080.09    0.00    0.00     0.0           1   \n",
       "3             0.0       593.97    0.00    0.00     0.0           0   \n",
       "4             0.0         0.00    0.00    0.00     0.0           1   \n",
       "\n",
       "   ACNT_BILL_FNAME_MATCHES  ACNT_BILL_LNAME_MATCHES  ACNT_SHIP_FNAME_MATCHES  \\\n",
       "0                        1                        1                        1   \n",
       "1                        1                        1                        1   \n",
       "2                        1                        1                        1   \n",
       "3                        1                        1                        1   \n",
       "4                        1                        1                        1   \n",
       "\n",
       "   ACNT_SHIP_LNAME_MATCHES         ...           BYOD2  BYOD3  BYOD4  BYOD5  \\\n",
       "0                        1         ...             NaN    NaN    NaN    NaN   \n",
       "1                        1         ...             NaN    NaN    NaN    NaN   \n",
       "2                        1         ...             NaN    NaN    NaN    NaN   \n",
       "3                        1         ...             NaN    NaN    NaN    NaN   \n",
       "4                        1         ...             NaN    NaN    NaN    NaN   \n",
       "\n",
       "        CARRIER1  CARRIER2  CARRIER3  CARRIER4  CARRIER5  ACTIVE_WATCH_RESULT  \n",
       "0            NaN       NaN       NaN       NaN       NaN                    3  \n",
       "1       MetroPCS       NaN       NaN       NaN       NaN                    1  \n",
       "2    GoogleVoice       NaN       NaN       NaN       NaN                    1  \n",
       "3            NaN       NaN       NaN       NaN       NaN                    1  \n",
       "4  Other/NotSure       NaN       NaN       NaN       NaN                    1  \n",
       "\n",
       "[5 rows x 82 columns]"
      ]
     },
     "execution_count": 18,
     "metadata": {},
     "output_type": "execute_result"
    }
   ],
   "source": [
    "ivr_df.head()"
   ]
  },
  {
   "cell_type": "code",
   "execution_count": 19,
   "metadata": {},
   "outputs": [],
   "source": [
    "# ivr_df[ivr_df['ACCOUNT_NUMBER'].isna()].shape"
   ]
  },
  {
   "cell_type": "code",
   "execution_count": 20,
   "metadata": {},
   "outputs": [
    {
     "data": {
      "text/plain": [
       "(244134, 82)"
      ]
     },
     "execution_count": 20,
     "metadata": {},
     "output_type": "execute_result"
    }
   ],
   "source": [
    "ivr_df.shape"
   ]
  },
  {
   "cell_type": "code",
   "execution_count": 21,
   "metadata": {},
   "outputs": [],
   "source": [
    "# reduced_ivr = ivr_df.sample(n=10000)"
   ]
  },
  {
   "cell_type": "code",
   "execution_count": 22,
   "metadata": {},
   "outputs": [],
   "source": [
    "# reduced_ivr.shape"
   ]
  },
  {
   "cell_type": "code",
   "execution_count": 23,
   "metadata": {},
   "outputs": [],
   "source": [
    "# ivr_df.dtypes"
   ]
  },
  {
   "cell_type": "code",
   "execution_count": 24,
   "metadata": {},
   "outputs": [],
   "source": [
    "from sklearn.model_selection import train_test_split\n",
    "\n",
    "train_df, test_df = train_test_split(ivr_df, test_size=0.2)"
   ]
  },
  {
   "cell_type": "code",
   "execution_count": 25,
   "metadata": {},
   "outputs": [],
   "source": [
    "# train_df = pd.read_feather(f'{PATH}joined')\n",
    "# test_df = pd.read_feather(f'{PATH}joined_test')"
   ]
  },
  {
   "cell_type": "code",
   "execution_count": 26,
   "metadata": {},
   "outputs": [
    {
     "data": {
      "text/plain": [
       "(195307, 48827)"
      ]
     },
     "execution_count": 26,
     "metadata": {},
     "output_type": "execute_result"
    }
   ],
   "source": [
    "len(train_df),len(test_df)"
   ]
  },
  {
   "cell_type": "code",
   "execution_count": 27,
   "metadata": {},
   "outputs": [],
   "source": [
    "import sys\n",
    "# we use the standard fastai libs throughout\n",
    "# no customization is done\n",
    "# sys.path.append(\"/mnt/azmnt/code/Users/bho829/fastai\")\n",
    "# sys.path.append(\"/mnt/azmnt/code/Users/bho829/fastai/fastai\")"
   ]
  },
  {
   "cell_type": "code",
   "execution_count": 28,
   "metadata": {},
   "outputs": [],
   "source": [
    "from fastai.tabular.transform import *"
   ]
  },
  {
   "cell_type": "code",
   "execution_count": 29,
   "metadata": {},
   "outputs": [],
   "source": [
    "procs=[FillMissing, Categorify, Normalize]"
   ]
  },
  {
   "cell_type": "code",
   "execution_count": 30,
   "metadata": {},
   "outputs": [],
   "source": [
    "cat_vars = ['IDA_RESULT', 'MAKE1', 'EXPERIAN_RESPONSE_1', 'SHIPPINGMETHOD', 'MAKE4',\n",
    "       'MAKE5', 'MODEL5', 'EXPERIAN_RESPONSE_2', 'ACCOUNT_NUMBER',\n",
    "       'FRAUDNET_RESULT', 'SSN_BLACKLISTED', 'BLACKLIST_EMAIL',\n",
    "       'SALES_CHANNEL', 'YELLOW_SKU', 'TYPE1', 'EXTERNAL_CREDIT_CHECK_DONE',\n",
    "       'TYPE5', 'MODEL3', 'TPF_HIGH_YELLOW', 'TYPE2', 'SHIPPING_STATE',\n",
    "       'DEVICE_AT_HOME', 'ORDER_EXCHANGE', 'TYPE3', 'MODEL4',\n",
    "       'IS_EXISTING_CUSTOMER', 'LINE_LIMIT_REACHED',\n",
    "       'INTERNAL_CREDIT_CHECK_DONE', 'FPF_HIGH_YELLOW', 'MODEL2', 'MAKE3',\n",
    "       'MODEL1', 'DENIAL_OF_SERVICES', 'MAKE2', 'TYPE4', 'BILLING_STATE',\n",
    "       'SKU1', 'SKU2', 'SKU3', 'SKU4', 'SKU5', 'BYOD1', 'BYOD2', 'BYOD3',\n",
    "       'BYOD4', 'BYOD5', 'CARRIER1', 'CARRIER2', 'CARRIER3', 'CARRIER4',\n",
    "       'CARRIER5']\n",
    "cont_vars = ['FRAUDNET_SCORE',\n",
    " 'TOTAL_PRICE',\n",
    " 'PRICE3',\n",
    " 'PRICE4',\n",
    " 'PRICE5',\n",
    " 'NUM_PORTIN',\n",
    " 'ACNT_BILL_FNAME_MATCHES',\n",
    " 'ACNT_BILL_LNAME_MATCHES',\n",
    " 'ACNT_SHIP_FNAME_MATCHES',\n",
    " 'ACNT_SHIP_LNAME_MATCHES',\n",
    " 'SHIP_BILL_FNAME_MATCHES',\n",
    " 'SHIP_BILL_LNAME_MATCHES',\n",
    " 'BILL_SHIP_ADDR_MATCHES',\n",
    " 'EMAIL',\n",
    " 'IP_ADDRESS',\n",
    " 'PHONE_MATCHES',\n",
    " 'NUM_BYOD',\n",
    " 'INSTALLMENT_AMOUNT',\n",
    " 'ONETIMECHARGE',\n",
    " 'MONTHLYRECURRINGCHARGE',\n",
    " 'BYOD_RETRY_COUNT',\n",
    " 'PREORDER_LINES',\n",
    " 'ALLOWED_LINES',\n",
    " 'APPROVED_LINES',\n",
    " 'EXTERNAL_APPROVED_LINES',\n",
    " 'FIRST_PARTY_ID_SCORE',\n",
    " 'THIRD_PARTY_ID_SCORE',\n",
    " 'PRICE1',\n",
    " 'PRICE2',\n",
    " 'ORDER_CREATED_DATE']"
   ]
  },
  {
   "cell_type": "code",
   "execution_count": 31,
   "metadata": {},
   "outputs": [
    {
     "data": {
      "text/plain": [
       "51"
      ]
     },
     "execution_count": 31,
     "metadata": {},
     "output_type": "execute_result"
    }
   ],
   "source": [
    "len(cat_vars)"
   ]
  },
  {
   "cell_type": "code",
   "execution_count": 32,
   "metadata": {},
   "outputs": [],
   "source": [
    "cat_dict = {}\n",
    "i = 0\n",
    "for cat_var in cat_vars:\n",
    "#     print('{}th var={}'.format(i, cat_var))\n",
    "    cat_dict[cat_var] = i\n",
    "    i += 1"
   ]
  },
  {
   "cell_type": "code",
   "execution_count": 33,
   "metadata": {},
   "outputs": [
    {
     "data": {
      "text/plain": [
       "51"
      ]
     },
     "execution_count": 33,
     "metadata": {},
     "output_type": "execute_result"
    }
   ],
   "source": [
    "len(cat_dict)"
   ]
  },
  {
   "cell_type": "code",
   "execution_count": null,
   "metadata": {},
   "outputs": [],
   "source": [
    "with open('ivr_backup_data/cat_dict.pkl', 'wb') as cat_dict_file:\n",
    "    pkl.dump(cat_dict, cat_dict_file)"
   ]
  },
  {
   "cell_type": "code",
   "execution_count": 38,
   "metadata": {},
   "outputs": [],
   "source": [
    "cat_index_dict = {}\n",
    "i = 0\n",
    "for cat_var in cat_vars:\n",
    "#     print('{}th var={}'.format(i, cat_var))\n",
    "    cat_index_dict[i] = cat_var\n",
    "    i += 1"
   ]
  },
  {
   "cell_type": "code",
   "execution_count": 39,
   "metadata": {},
   "outputs": [
    {
     "data": {
      "text/plain": [
       "51"
      ]
     },
     "execution_count": 39,
     "metadata": {},
     "output_type": "execute_result"
    }
   ],
   "source": [
    "len(cat_index_dict)"
   ]
  },
  {
   "cell_type": "code",
   "execution_count": 40,
   "metadata": {},
   "outputs": [],
   "source": [
    "with open('ivr_backup_data/cat_index_dict.pkl', 'wb') as cat_index_dict_file:\n",
    "    pkl.dump(cat_index_dict, cat_index_dict_file)"
   ]
  },
  {
   "cell_type": "code",
   "execution_count": 209,
   "metadata": {},
   "outputs": [],
   "source": [
    "# len(inner_train_df['IDA_RESULT'].unique())"
   ]
  },
  {
   "cell_type": "code",
   "execution_count": 210,
   "metadata": {},
   "outputs": [],
   "source": [
    "# len(inner_train_df['MAKE1'].unique())"
   ]
  },
  {
   "cell_type": "code",
   "execution_count": 211,
   "metadata": {},
   "outputs": [],
   "source": [
    "# inner_train_df.loc[:,'MAKE1'].astype('category').cat.as_ordered()"
   ]
  },
  {
   "cell_type": "code",
   "execution_count": 212,
   "metadata": {},
   "outputs": [],
   "source": [
    "# categories = {}\n",
    "# categories['MAKE1'] = inner_train_df['MAKE1'].cat.categories"
   ]
  },
  {
   "cell_type": "code",
   "execution_count": 213,
   "metadata": {},
   "outputs": [],
   "source": [
    "# categories['MAKE1']"
   ]
  },
  {
   "cell_type": "code",
   "execution_count": 34,
   "metadata": {},
   "outputs": [
    {
     "data": {
      "text/plain": [
       "30"
      ]
     },
     "execution_count": 34,
     "metadata": {},
     "output_type": "execute_result"
    }
   ],
   "source": [
    "len(cont_vars)"
   ]
  },
  {
   "cell_type": "code",
   "execution_count": 35,
   "metadata": {},
   "outputs": [],
   "source": [
    "dep_var = 'ACTIVE_WATCH_RESULT'\n",
    "df = train_df[cat_vars + cont_vars + [dep_var]].copy()"
   ]
  },
  {
   "cell_type": "code",
   "execution_count": 36,
   "metadata": {},
   "outputs": [
    {
     "data": {
      "text/plain": [
       "162535"
      ]
     },
     "execution_count": 36,
     "metadata": {},
     "output_type": "execute_result"
    }
   ],
   "source": [
    "len(df['ACCOUNT_NUMBER'].unique())"
   ]
  },
  {
   "cell_type": "code",
   "execution_count": 37,
   "metadata": {},
   "outputs": [
    {
     "data": {
      "text/plain": [
       "(195307, 82)"
      ]
     },
     "execution_count": 37,
     "metadata": {},
     "output_type": "execute_result"
    }
   ],
   "source": [
    "train_df.shape"
   ]
  },
  {
   "cell_type": "code",
   "execution_count": 38,
   "metadata": {},
   "outputs": [
    {
     "data": {
      "text/plain": [
       "(48827, 82)"
      ]
     },
     "execution_count": 38,
     "metadata": {},
     "output_type": "execute_result"
    }
   ],
   "source": [
    "test_df.shape"
   ]
  },
  {
   "cell_type": "code",
   "execution_count": 39,
   "metadata": {},
   "outputs": [
    {
     "data": {
      "text/plain": [
       "89915     1\n",
       "13029     1\n",
       "124030    1\n",
       "233838    1\n",
       "87255     1\n",
       "Name: ACTIVE_WATCH_RESULT, dtype: int64"
      ]
     },
     "execution_count": 39,
     "metadata": {},
     "output_type": "execute_result"
    }
   ],
   "source": [
    "df[dep_var].head()"
   ]
  },
  {
   "cell_type": "code",
   "execution_count": 40,
   "metadata": {},
   "outputs": [
    {
     "data": {
      "text/plain": [
       "(195307, 82)"
      ]
     },
     "execution_count": 40,
     "metadata": {},
     "output_type": "execute_result"
    }
   ],
   "source": [
    "df.shape"
   ]
  },
  {
   "cell_type": "code",
   "execution_count": 41,
   "metadata": {},
   "outputs": [],
   "source": [
    "from fastai.tabular.data import *"
   ]
  },
  {
   "cell_type": "code",
   "execution_count": 42,
   "metadata": {},
   "outputs": [],
   "source": [
    "path = PATH"
   ]
  },
  {
   "cell_type": "code",
   "execution_count": 43,
   "metadata": {},
   "outputs": [
    {
     "name": "stderr",
     "output_type": "stream",
     "text": [
      "/anaconda/envs/azureml_py36/lib/python3.6/site-packages/fastai/data_block.py:215: UserWarning: `random_split_by_pct` is deprecated, please use `split_by_rand_pct`.\n",
      "  warn(\"`random_split_by_pct` is deprecated, please use `split_by_rand_pct`.\")\n"
     ]
    }
   ],
   "source": [
    "data = (TabularList.from_df(df, path=path, cat_names=cat_vars, cont_names=cont_vars, procs=procs,)\n",
    "                .random_split_by_pct(valid_pct=0.2, seed=43)\n",
    "                .label_from_df(cols = dep_var)\n",
    "                .add_test(TabularList.from_df(test_df, path=path, cat_names=cat_vars, cont_names=cont_vars), label=0)\n",
    "                .databunch())"
   ]
  },
  {
   "cell_type": "code",
   "execution_count": 44,
   "metadata": {},
   "outputs": [],
   "source": [
    "inner_train_df = data.train_ds.inner_df"
   ]
  },
  {
   "cell_type": "code",
   "execution_count": 45,
   "metadata": {},
   "outputs": [
    {
     "data": {
      "text/plain": [
       "(156246, 82)"
      ]
     },
     "execution_count": 45,
     "metadata": {},
     "output_type": "execute_result"
    }
   ],
   "source": [
    "inner_train_df.shape"
   ]
  },
  {
   "cell_type": "code",
   "execution_count": 47,
   "metadata": {},
   "outputs": [],
   "source": [
    "inner_train_df.to_csv('ivr_backup_data/inner_train_df.csv', index=False)"
   ]
  },
  {
   "cell_type": "code",
   "execution_count": 48,
   "metadata": {},
   "outputs": [
    {
     "data": {
      "text/plain": [
       "134148"
      ]
     },
     "execution_count": 48,
     "metadata": {},
     "output_type": "execute_result"
    }
   ],
   "source": [
    "len(inner_train_df['ACCOUNT_NUMBER'].unique())"
   ]
  },
  {
   "cell_type": "code",
   "execution_count": 49,
   "metadata": {},
   "outputs": [],
   "source": [
    "acct_number_df = pd.concat([inner_train_df.ACCOUNT_NUMBER, inner_train_df.ACCOUNT_NUMBER.astype('category').cat.codes.rename(\"code\", inplace=True)], axis=1)"
   ]
  },
  {
   "cell_type": "code",
   "execution_count": 50,
   "metadata": {},
   "outputs": [
    {
     "data": {
      "text/html": [
       "<div>\n",
       "<style scoped>\n",
       "    .dataframe tbody tr th:only-of-type {\n",
       "        vertical-align: middle;\n",
       "    }\n",
       "\n",
       "    .dataframe tbody tr th {\n",
       "        vertical-align: top;\n",
       "    }\n",
       "\n",
       "    .dataframe thead th {\n",
       "        text-align: right;\n",
       "    }\n",
       "</style>\n",
       "<table border=\"1\" class=\"dataframe\">\n",
       "  <thead>\n",
       "    <tr style=\"text-align: right;\">\n",
       "      <th></th>\n",
       "      <th>ACCOUNT_NUMBER</th>\n",
       "      <th>code</th>\n",
       "    </tr>\n",
       "  </thead>\n",
       "  <tbody>\n",
       "    <tr>\n",
       "      <th>89915</th>\n",
       "      <td>1075545467</td>\n",
       "      <td>33504</td>\n",
       "    </tr>\n",
       "    <tr>\n",
       "      <th>13029</th>\n",
       "      <td>1378788707</td>\n",
       "      <td>43002</td>\n",
       "    </tr>\n",
       "    <tr>\n",
       "      <th>124030</th>\n",
       "      <td>1057155734</td>\n",
       "      <td>32896</td>\n",
       "    </tr>\n",
       "    <tr>\n",
       "      <th>233838</th>\n",
       "      <td>3822109486</td>\n",
       "      <td>119428</td>\n",
       "    </tr>\n",
       "    <tr>\n",
       "      <th>87255</th>\n",
       "      <td>868614324</td>\n",
       "      <td>27075</td>\n",
       "    </tr>\n",
       "  </tbody>\n",
       "</table>\n",
       "</div>"
      ],
      "text/plain": [
       "       ACCOUNT_NUMBER    code\n",
       "89915      1075545467   33504\n",
       "13029      1378788707   43002\n",
       "124030     1057155734   32896\n",
       "233838     3822109486  119428\n",
       "87255       868614324   27075"
      ]
     },
     "execution_count": 50,
     "metadata": {},
     "output_type": "execute_result"
    }
   ],
   "source": [
    "acct_number_df.head()"
   ]
  },
  {
   "cell_type": "code",
   "execution_count": 51,
   "metadata": {},
   "outputs": [
    {
     "data": {
      "text/plain": [
       "(156246, 2)"
      ]
     },
     "execution_count": 51,
     "metadata": {},
     "output_type": "execute_result"
    }
   ],
   "source": [
    "acct_number_df.shape"
   ]
  },
  {
   "cell_type": "code",
   "execution_count": 52,
   "metadata": {},
   "outputs": [],
   "source": [
    "acct_map = acct_number_df.set_index('ACCOUNT_NUMBER').to_dict()['code']"
   ]
  },
  {
   "cell_type": "code",
   "execution_count": 53,
   "metadata": {},
   "outputs": [
    {
     "data": {
      "text/plain": [
       "134148"
      ]
     },
     "execution_count": 53,
     "metadata": {},
     "output_type": "execute_result"
    }
   ],
   "source": [
    "len(acct_map)"
   ]
  },
  {
   "cell_type": "code",
   "execution_count": 54,
   "metadata": {},
   "outputs": [
    {
     "data": {
      "text/html": [
       "<table border=\"1\" class=\"dataframe\">\n",
       "  <thead>\n",
       "    <tr style=\"text-align: right;\">\n",
       "      <th>IDA_RESULT</th>\n",
       "      <th>MAKE1</th>\n",
       "      <th>EXPERIAN_RESPONSE_1</th>\n",
       "      <th>SHIPPINGMETHOD</th>\n",
       "      <th>MAKE4</th>\n",
       "      <th>MAKE5</th>\n",
       "      <th>MODEL5</th>\n",
       "      <th>EXPERIAN_RESPONSE_2</th>\n",
       "      <th>ACCOUNT_NUMBER</th>\n",
       "      <th>FRAUDNET_RESULT</th>\n",
       "      <th>SSN_BLACKLISTED</th>\n",
       "      <th>BLACKLIST_EMAIL</th>\n",
       "      <th>SALES_CHANNEL</th>\n",
       "      <th>YELLOW_SKU</th>\n",
       "      <th>TYPE1</th>\n",
       "      <th>EXTERNAL_CREDIT_CHECK_DONE</th>\n",
       "      <th>TYPE5</th>\n",
       "      <th>MODEL3</th>\n",
       "      <th>TPF_HIGH_YELLOW</th>\n",
       "      <th>TYPE2</th>\n",
       "      <th>SHIPPING_STATE</th>\n",
       "      <th>DEVICE_AT_HOME</th>\n",
       "      <th>ORDER_EXCHANGE</th>\n",
       "      <th>TYPE3</th>\n",
       "      <th>MODEL4</th>\n",
       "      <th>IS_EXISTING_CUSTOMER</th>\n",
       "      <th>LINE_LIMIT_REACHED</th>\n",
       "      <th>INTERNAL_CREDIT_CHECK_DONE</th>\n",
       "      <th>FPF_HIGH_YELLOW</th>\n",
       "      <th>MODEL2</th>\n",
       "      <th>MAKE3</th>\n",
       "      <th>MODEL1</th>\n",
       "      <th>DENIAL_OF_SERVICES</th>\n",
       "      <th>MAKE2</th>\n",
       "      <th>TYPE4</th>\n",
       "      <th>BILLING_STATE</th>\n",
       "      <th>SKU1</th>\n",
       "      <th>SKU2</th>\n",
       "      <th>SKU3</th>\n",
       "      <th>SKU4</th>\n",
       "      <th>SKU5</th>\n",
       "      <th>BYOD1</th>\n",
       "      <th>BYOD2</th>\n",
       "      <th>BYOD3</th>\n",
       "      <th>BYOD4</th>\n",
       "      <th>BYOD5</th>\n",
       "      <th>CARRIER1</th>\n",
       "      <th>CARRIER2</th>\n",
       "      <th>CARRIER3</th>\n",
       "      <th>CARRIER4</th>\n",
       "      <th>CARRIER5</th>\n",
       "      <th>FRAUDNET_SCORE</th>\n",
       "      <th>TOTAL_PRICE</th>\n",
       "      <th>PRICE3</th>\n",
       "      <th>PRICE4</th>\n",
       "      <th>PRICE5</th>\n",
       "      <th>NUM_PORTIN</th>\n",
       "      <th>ACNT_BILL_FNAME_MATCHES</th>\n",
       "      <th>ACNT_BILL_LNAME_MATCHES</th>\n",
       "      <th>ACNT_SHIP_FNAME_MATCHES</th>\n",
       "      <th>ACNT_SHIP_LNAME_MATCHES</th>\n",
       "      <th>SHIP_BILL_FNAME_MATCHES</th>\n",
       "      <th>SHIP_BILL_LNAME_MATCHES</th>\n",
       "      <th>BILL_SHIP_ADDR_MATCHES</th>\n",
       "      <th>EMAIL</th>\n",
       "      <th>IP_ADDRESS</th>\n",
       "      <th>PHONE_MATCHES</th>\n",
       "      <th>NUM_BYOD</th>\n",
       "      <th>INSTALLMENT_AMOUNT</th>\n",
       "      <th>ONETIMECHARGE</th>\n",
       "      <th>MONTHLYRECURRINGCHARGE</th>\n",
       "      <th>BYOD_RETRY_COUNT</th>\n",
       "      <th>PREORDER_LINES</th>\n",
       "      <th>ALLOWED_LINES</th>\n",
       "      <th>APPROVED_LINES</th>\n",
       "      <th>EXTERNAL_APPROVED_LINES</th>\n",
       "      <th>FIRST_PARTY_ID_SCORE</th>\n",
       "      <th>THIRD_PARTY_ID_SCORE</th>\n",
       "      <th>PRICE1</th>\n",
       "      <th>PRICE2</th>\n",
       "      <th>ORDER_CREATED_DATE</th>\n",
       "      <th>target</th>\n",
       "    </tr>\n",
       "  </thead>\n",
       "  <tbody>\n",
       "    <tr>\n",
       "      <td>GREEN</td>\n",
       "      <td>Apple</td>\n",
       "      <td>#na#</td>\n",
       "      <td>2Days</td>\n",
       "      <td>#na#</td>\n",
       "      <td>#na#</td>\n",
       "      <td>#na#</td>\n",
       "      <td>#na#</td>\n",
       "      <td>1775288461</td>\n",
       "      <td>#na#</td>\n",
       "      <td>N</td>\n",
       "      <td>N</td>\n",
       "      <td>ONLINE</td>\n",
       "      <td>N</td>\n",
       "      <td>Phone</td>\n",
       "      <td>Y</td>\n",
       "      <td>#na#</td>\n",
       "      <td>#na#</td>\n",
       "      <td>N</td>\n",
       "      <td>#na#</td>\n",
       "      <td>LA</td>\n",
       "      <td>N</td>\n",
       "      <td>#na#</td>\n",
       "      <td>#na#</td>\n",
       "      <td>#na#</td>\n",
       "      <td>Y</td>\n",
       "      <td>N</td>\n",
       "      <td>#na#</td>\n",
       "      <td>N</td>\n",
       "      <td>#na#</td>\n",
       "      <td>#na#</td>\n",
       "      <td>iPhone 11 Pro Max</td>\n",
       "      <td>N</td>\n",
       "      <td>#na#</td>\n",
       "      <td>#na#</td>\n",
       "      <td>LA</td>\n",
       "      <td>190199380776</td>\n",
       "      <td>#na#</td>\n",
       "      <td>#na#</td>\n",
       "      <td>#na#</td>\n",
       "      <td>#na#</td>\n",
       "      <td>#na#</td>\n",
       "      <td>#na#</td>\n",
       "      <td>#na#</td>\n",
       "      <td>#na#</td>\n",
       "      <td>#na#</td>\n",
       "      <td>#na#</td>\n",
       "      <td>#na#</td>\n",
       "      <td>#na#</td>\n",
       "      <td>#na#</td>\n",
       "      <td>#na#</td>\n",
       "      <td>-0.3268</td>\n",
       "      <td>1.1205</td>\n",
       "      <td>-0.1557</td>\n",
       "      <td>-0.0877</td>\n",
       "      <td>-0.0404</td>\n",
       "      <td>-1.0653</td>\n",
       "      <td>-2.4125</td>\n",
       "      <td>-2.7473</td>\n",
       "      <td>-2.8805</td>\n",
       "      <td>-3.1085</td>\n",
       "      <td>0.2651</td>\n",
       "      <td>0.2157</td>\n",
       "      <td>0.3630</td>\n",
       "      <td>1.1271</td>\n",
       "      <td>-0.5329</td>\n",
       "      <td>0.5015</td>\n",
       "      <td>-0.5281</td>\n",
       "      <td>1.0986</td>\n",
       "      <td>-0.1073</td>\n",
       "      <td>1.3016</td>\n",
       "      <td>-0.4290</td>\n",
       "      <td>-0.1930</td>\n",
       "      <td>-0.1318</td>\n",
       "      <td>-0.7533</td>\n",
       "      <td>1.7290</td>\n",
       "      <td>0.3213</td>\n",
       "      <td>-0.2534</td>\n",
       "      <td>1.7207</td>\n",
       "      <td>-0.3670</td>\n",
       "      <td>0.6409</td>\n",
       "      <td>3</td>\n",
       "    </tr>\n",
       "    <tr>\n",
       "      <td>GREEN</td>\n",
       "      <td>Apple</td>\n",
       "      <td>3100/ACCEPT/Continue/ACCEPT- FraudNet only</td>\n",
       "      <td>2Days</td>\n",
       "      <td>#na#</td>\n",
       "      <td>#na#</td>\n",
       "      <td>#na#</td>\n",
       "      <td>3200/APPROVE/200/No Fraud Detected/No device concerns</td>\n",
       "      <td>2250919655</td>\n",
       "      <td>APPROVE</td>\n",
       "      <td>N</td>\n",
       "      <td>N</td>\n",
       "      <td>ONLINE</td>\n",
       "      <td>N</td>\n",
       "      <td>Phone</td>\n",
       "      <td>N</td>\n",
       "      <td>#na#</td>\n",
       "      <td>#na#</td>\n",
       "      <td>N</td>\n",
       "      <td>#na#</td>\n",
       "      <td>VT</td>\n",
       "      <td>N</td>\n",
       "      <td>#na#</td>\n",
       "      <td>#na#</td>\n",
       "      <td>#na#</td>\n",
       "      <td>N</td>\n",
       "      <td>N</td>\n",
       "      <td>Y</td>\n",
       "      <td>N</td>\n",
       "      <td>#na#</td>\n",
       "      <td>#na#</td>\n",
       "      <td>iPhone XS</td>\n",
       "      <td>N</td>\n",
       "      <td>#na#</td>\n",
       "      <td>#na#</td>\n",
       "      <td>VT</td>\n",
       "      <td>190198790590</td>\n",
       "      <td>#na#</td>\n",
       "      <td>#na#</td>\n",
       "      <td>#na#</td>\n",
       "      <td>#na#</td>\n",
       "      <td>190198790590</td>\n",
       "      <td>#na#</td>\n",
       "      <td>#na#</td>\n",
       "      <td>#na#</td>\n",
       "      <td>#na#</td>\n",
       "      <td>AT&amp;TWireless</td>\n",
       "      <td>#na#</td>\n",
       "      <td>#na#</td>\n",
       "      <td>#na#</td>\n",
       "      <td>#na#</td>\n",
       "      <td>0.4344</td>\n",
       "      <td>-1.0382</td>\n",
       "      <td>-0.1557</td>\n",
       "      <td>-0.0877</td>\n",
       "      <td>-0.0404</td>\n",
       "      <td>0.2391</td>\n",
       "      <td>0.4145</td>\n",
       "      <td>0.3640</td>\n",
       "      <td>0.3472</td>\n",
       "      <td>0.3217</td>\n",
       "      <td>0.2651</td>\n",
       "      <td>0.2157</td>\n",
       "      <td>0.3630</td>\n",
       "      <td>-0.9342</td>\n",
       "      <td>-1.2817</td>\n",
       "      <td>-1.9941</td>\n",
       "      <td>1.1329</td>\n",
       "      <td>-0.9456</td>\n",
       "      <td>-0.3652</td>\n",
       "      <td>-0.1648</td>\n",
       "      <td>-0.4290</td>\n",
       "      <td>-0.1930</td>\n",
       "      <td>0.7044</td>\n",
       "      <td>-0.7533</td>\n",
       "      <td>-0.8827</td>\n",
       "      <td>-0.5949</td>\n",
       "      <td>-0.9279</td>\n",
       "      <td>1.4493</td>\n",
       "      <td>-0.3670</td>\n",
       "      <td>-1.3214</td>\n",
       "      <td>1</td>\n",
       "    </tr>\n",
       "    <tr>\n",
       "      <td>GREEN</td>\n",
       "      <td>Samsung</td>\n",
       "      <td>3100/ACCEPT/Continue/ACCEPT- FraudNet only</td>\n",
       "      <td>2Days</td>\n",
       "      <td>#na#</td>\n",
       "      <td>#na#</td>\n",
       "      <td>#na#</td>\n",
       "      <td>3200/APPROVE/200/No Fraud Detected/No device concerns</td>\n",
       "      <td>2965111770</td>\n",
       "      <td>APPROVE</td>\n",
       "      <td>N</td>\n",
       "      <td>N</td>\n",
       "      <td>ONLINE</td>\n",
       "      <td>N</td>\n",
       "      <td>Phone</td>\n",
       "      <td>Y</td>\n",
       "      <td>#na#</td>\n",
       "      <td>#na#</td>\n",
       "      <td>N</td>\n",
       "      <td>#na#</td>\n",
       "      <td>FL</td>\n",
       "      <td>N</td>\n",
       "      <td>#na#</td>\n",
       "      <td>#na#</td>\n",
       "      <td>#na#</td>\n",
       "      <td>Y</td>\n",
       "      <td>N</td>\n",
       "      <td>#na#</td>\n",
       "      <td>N</td>\n",
       "      <td>#na#</td>\n",
       "      <td>#na#</td>\n",
       "      <td>Galaxy Note10+</td>\n",
       "      <td>N</td>\n",
       "      <td>#na#</td>\n",
       "      <td>#na#</td>\n",
       "      <td>FL</td>\n",
       "      <td>887276368559</td>\n",
       "      <td>#na#</td>\n",
       "      <td>#na#</td>\n",
       "      <td>#na#</td>\n",
       "      <td>#na#</td>\n",
       "      <td>#na#</td>\n",
       "      <td>#na#</td>\n",
       "      <td>#na#</td>\n",
       "      <td>#na#</td>\n",
       "      <td>#na#</td>\n",
       "      <td>StraightTalk</td>\n",
       "      <td>#na#</td>\n",
       "      <td>#na#</td>\n",
       "      <td>#na#</td>\n",
       "      <td>#na#</td>\n",
       "      <td>0.4344</td>\n",
       "      <td>0.9848</td>\n",
       "      <td>-0.1557</td>\n",
       "      <td>-0.0877</td>\n",
       "      <td>-0.0404</td>\n",
       "      <td>0.2391</td>\n",
       "      <td>0.4145</td>\n",
       "      <td>0.3640</td>\n",
       "      <td>0.3472</td>\n",
       "      <td>0.3217</td>\n",
       "      <td>0.2651</td>\n",
       "      <td>0.2157</td>\n",
       "      <td>0.3630</td>\n",
       "      <td>0.7808</td>\n",
       "      <td>1.0307</td>\n",
       "      <td>-1.9941</td>\n",
       "      <td>-0.5281</td>\n",
       "      <td>1.0165</td>\n",
       "      <td>-0.1176</td>\n",
       "      <td>0.9792</td>\n",
       "      <td>-0.4290</td>\n",
       "      <td>-0.1930</td>\n",
       "      <td>-0.1318</td>\n",
       "      <td>-0.7533</td>\n",
       "      <td>-0.3604</td>\n",
       "      <td>2.9047</td>\n",
       "      <td>1.5653</td>\n",
       "      <td>1.5850</td>\n",
       "      <td>-0.3670</td>\n",
       "      <td>1.8266</td>\n",
       "      <td>3</td>\n",
       "    </tr>\n",
       "    <tr>\n",
       "      <td>GREEN</td>\n",
       "      <td>Apple</td>\n",
       "      <td>#na#</td>\n",
       "      <td>2Days</td>\n",
       "      <td>#na#</td>\n",
       "      <td>#na#</td>\n",
       "      <td>#na#</td>\n",
       "      <td>#na#</td>\n",
       "      <td>3795650973</td>\n",
       "      <td>#na#</td>\n",
       "      <td>N</td>\n",
       "      <td>N</td>\n",
       "      <td>TELESALES</td>\n",
       "      <td>N</td>\n",
       "      <td>Phone</td>\n",
       "      <td>N</td>\n",
       "      <td>#na#</td>\n",
       "      <td>#na#</td>\n",
       "      <td>N</td>\n",
       "      <td>#na#</td>\n",
       "      <td>MI</td>\n",
       "      <td>N</td>\n",
       "      <td>#na#</td>\n",
       "      <td>#na#</td>\n",
       "      <td>#na#</td>\n",
       "      <td>N</td>\n",
       "      <td>N</td>\n",
       "      <td>Y</td>\n",
       "      <td>N</td>\n",
       "      <td>#na#</td>\n",
       "      <td>#na#</td>\n",
       "      <td>iPhone 8</td>\n",
       "      <td>N</td>\n",
       "      <td>#na#</td>\n",
       "      <td>#na#</td>\n",
       "      <td>MI</td>\n",
       "      <td>190198451736</td>\n",
       "      <td>#na#</td>\n",
       "      <td>#na#</td>\n",
       "      <td>#na#</td>\n",
       "      <td>#na#</td>\n",
       "      <td>190198451736</td>\n",
       "      <td>#na#</td>\n",
       "      <td>#na#</td>\n",
       "      <td>#na#</td>\n",
       "      <td>#na#</td>\n",
       "      <td>Sprint</td>\n",
       "      <td>#na#</td>\n",
       "      <td>#na#</td>\n",
       "      <td>#na#</td>\n",
       "      <td>#na#</td>\n",
       "      <td>-0.3268</td>\n",
       "      <td>-1.0382</td>\n",
       "      <td>-0.1557</td>\n",
       "      <td>-0.0877</td>\n",
       "      <td>-0.0404</td>\n",
       "      <td>0.2391</td>\n",
       "      <td>0.4145</td>\n",
       "      <td>0.3640</td>\n",
       "      <td>0.3472</td>\n",
       "      <td>0.3217</td>\n",
       "      <td>0.2651</td>\n",
       "      <td>0.2157</td>\n",
       "      <td>0.3630</td>\n",
       "      <td>-0.0507</td>\n",
       "      <td>0.9094</td>\n",
       "      <td>-1.9941</td>\n",
       "      <td>1.1329</td>\n",
       "      <td>-0.9456</td>\n",
       "      <td>-0.3652</td>\n",
       "      <td>-0.9200</td>\n",
       "      <td>2.3309</td>\n",
       "      <td>-0.1930</td>\n",
       "      <td>0.7044</td>\n",
       "      <td>1.3794</td>\n",
       "      <td>-0.8827</td>\n",
       "      <td>0.2480</td>\n",
       "      <td>-1.1243</td>\n",
       "      <td>-0.4505</td>\n",
       "      <td>-0.3670</td>\n",
       "      <td>-0.3221</td>\n",
       "      <td>1</td>\n",
       "    </tr>\n",
       "    <tr>\n",
       "      <td>GREEN</td>\n",
       "      <td>Apple</td>\n",
       "      <td>#na#</td>\n",
       "      <td>2Days</td>\n",
       "      <td>#na#</td>\n",
       "      <td>#na#</td>\n",
       "      <td>#na#</td>\n",
       "      <td>#na#</td>\n",
       "      <td>182334219</td>\n",
       "      <td>#na#</td>\n",
       "      <td>N</td>\n",
       "      <td>N</td>\n",
       "      <td>TELESALES</td>\n",
       "      <td>N</td>\n",
       "      <td>Phone</td>\n",
       "      <td>N</td>\n",
       "      <td>#na#</td>\n",
       "      <td>#na#</td>\n",
       "      <td>N</td>\n",
       "      <td>Phone</td>\n",
       "      <td>FL</td>\n",
       "      <td>N</td>\n",
       "      <td>#na#</td>\n",
       "      <td>#na#</td>\n",
       "      <td>#na#</td>\n",
       "      <td>N</td>\n",
       "      <td>N</td>\n",
       "      <td>Y</td>\n",
       "      <td>N</td>\n",
       "      <td>iPhone 6s</td>\n",
       "      <td>#na#</td>\n",
       "      <td>iPhone 6s</td>\n",
       "      <td>N</td>\n",
       "      <td>Apple</td>\n",
       "      <td>#na#</td>\n",
       "      <td>FL</td>\n",
       "      <td>APLIPH6SROSE16</td>\n",
       "      <td>APLIPH6SSILVER16</td>\n",
       "      <td>#na#</td>\n",
       "      <td>#na#</td>\n",
       "      <td>#na#</td>\n",
       "      <td>APLIPH6SROSE16</td>\n",
       "      <td>APLIPH6SSILVER16</td>\n",
       "      <td>#na#</td>\n",
       "      <td>#na#</td>\n",
       "      <td>#na#</td>\n",
       "      <td>VerizonWireless</td>\n",
       "      <td>VerizonWireless</td>\n",
       "      <td>#na#</td>\n",
       "      <td>#na#</td>\n",
       "      <td>#na#</td>\n",
       "      <td>-0.3268</td>\n",
       "      <td>-1.0382</td>\n",
       "      <td>-0.1557</td>\n",
       "      <td>-0.0877</td>\n",
       "      <td>-0.0404</td>\n",
       "      <td>1.5434</td>\n",
       "      <td>0.4145</td>\n",
       "      <td>0.3640</td>\n",
       "      <td>0.3472</td>\n",
       "      <td>0.3217</td>\n",
       "      <td>0.2651</td>\n",
       "      <td>0.2157</td>\n",
       "      <td>0.3630</td>\n",
       "      <td>1.0839</td>\n",
       "      <td>0.8418</td>\n",
       "      <td>0.5015</td>\n",
       "      <td>2.7939</td>\n",
       "      <td>-0.9456</td>\n",
       "      <td>-0.3652</td>\n",
       "      <td>-0.9200</td>\n",
       "      <td>2.3309</td>\n",
       "      <td>-0.1930</td>\n",
       "      <td>0.7044</td>\n",
       "      <td>1.3794</td>\n",
       "      <td>-0.8827</td>\n",
       "      <td>-0.9521</td>\n",
       "      <td>-0.5010</td>\n",
       "      <td>-1.6718</td>\n",
       "      <td>-0.3670</td>\n",
       "      <td>0.0173</td>\n",
       "      <td>1</td>\n",
       "    </tr>\n",
       "  </tbody>\n",
       "</table>"
      ],
      "text/plain": [
       "<IPython.core.display.HTML object>"
      ]
     },
     "metadata": {},
     "output_type": "display_data"
    }
   ],
   "source": [
    "data.show_batch()"
   ]
  },
  {
   "cell_type": "code",
   "execution_count": 55,
   "metadata": {},
   "outputs": [
    {
     "data": {
      "text/plain": [
       "156246"
      ]
     },
     "execution_count": 55,
     "metadata": {},
     "output_type": "execute_result"
    }
   ],
   "source": [
    "len(data.train_ds.x)"
   ]
  },
  {
   "cell_type": "code",
   "execution_count": 56,
   "metadata": {},
   "outputs": [
    {
     "data": {
      "text/plain": [
       "39061"
      ]
     },
     "execution_count": 56,
     "metadata": {},
     "output_type": "execute_result"
    }
   ],
   "source": [
    "len(data.valid_ds)"
   ]
  },
  {
   "cell_type": "code",
   "execution_count": 57,
   "metadata": {},
   "outputs": [
    {
     "data": {
      "text/plain": [
       "fastai.tabular.data.TabularDataBunch"
      ]
     },
     "execution_count": 57,
     "metadata": {},
     "output_type": "execute_result"
    }
   ],
   "source": [
    "type(data)"
   ]
  },
  {
   "cell_type": "code",
   "execution_count": 54,
   "metadata": {},
   "outputs": [],
   "source": [
    "# data.x"
   ]
  },
  {
   "cell_type": "code",
   "execution_count": 55,
   "metadata": {},
   "outputs": [],
   "source": [
    "# train_account_list = []\n",
    "# train_account_set = set()\n",
    "# for i in range(len(data.train_ds.x)):\n",
    "#     account = data.x[i].data[0][8].item()\n",
    "#     train_account_list.append(account)\n",
    "#     train_account_set.add(account)"
   ]
  },
  {
   "cell_type": "code",
   "execution_count": 153,
   "metadata": {},
   "outputs": [],
   "source": [
    "# train_account_list"
   ]
  },
  {
   "cell_type": "code",
   "execution_count": 57,
   "metadata": {},
   "outputs": [],
   "source": [
    "# len(train_account_list)"
   ]
  },
  {
   "cell_type": "code",
   "execution_count": 58,
   "metadata": {},
   "outputs": [],
   "source": [
    "# len(train_account_set)"
   ]
  },
  {
   "cell_type": "code",
   "execution_count": 59,
   "metadata": {},
   "outputs": [],
   "source": [
    "# train_account_list[0].data.item()"
   ]
  },
  {
   "cell_type": "code",
   "execution_count": 60,
   "metadata": {},
   "outputs": [],
   "source": [
    "# from fastai.gen_doc.nbdoc import doc\n",
    "\n",
    "# doc(FloatList)"
   ]
  },
  {
   "cell_type": "code",
   "execution_count": 58,
   "metadata": {},
   "outputs": [],
   "source": [
    "from fastai.torch_core import *"
   ]
  },
  {
   "cell_type": "code",
   "execution_count": 59,
   "metadata": {},
   "outputs": [],
   "source": [
    "from fastai.tabular.learner import tabular_learner"
   ]
  },
  {
   "cell_type": "code",
   "execution_count": 60,
   "metadata": {},
   "outputs": [],
   "source": [
    "from fastai.metrics import accuracy"
   ]
  },
  {
   "cell_type": "code",
   "execution_count": 61,
   "metadata": {},
   "outputs": [],
   "source": [
    "learn = tabular_learner(data, layers=[1000,500], ps=[0.001,0.01], emb_drop=0.04, \n",
    "                        metrics=accuracy)\n"
   ]
  },
  {
   "cell_type": "code",
   "execution_count": 62,
   "metadata": {},
   "outputs": [
    {
     "data": {
      "text/plain": [
       "FlattenedLoss of CrossEntropyLoss()"
      ]
     },
     "execution_count": 62,
     "metadata": {},
     "output_type": "execute_result"
    }
   ],
   "source": [
    "learn.loss_func"
   ]
  },
  {
   "cell_type": "code",
   "execution_count": 63,
   "metadata": {},
   "outputs": [
    {
     "data": {
      "text/plain": [
       "array(['GREEN', 'RED', 'YELLOW'], dtype=object)"
      ]
     },
     "execution_count": 63,
     "metadata": {},
     "output_type": "execute_result"
    }
   ],
   "source": [
    "inner_train_df['IDA_RESULT'].cat.categories.values"
   ]
  },
  {
   "cell_type": "code",
   "execution_count": 64,
   "metadata": {},
   "outputs": [
    {
     "data": {
      "text/plain": [
       "[GREEN, YELLOW, NaN, RED]\n",
       "Categories (3, object): [GREEN < RED < YELLOW]"
      ]
     },
     "execution_count": 64,
     "metadata": {},
     "output_type": "execute_result"
    }
   ],
   "source": [
    "inner_train_df['IDA_RESULT'].unique()"
   ]
  },
  {
   "cell_type": "code",
   "execution_count": 63,
   "metadata": {},
   "outputs": [
    {
     "data": {
      "text/plain": [
       "array(['#na#', 'GREEN', 'RED', 'YELLOW'], dtype=object)"
      ]
     },
     "execution_count": 63,
     "metadata": {},
     "output_type": "execute_result"
    }
   ],
   "source": [
    "np.concatenate([['#na#'],inner_train_df['IDA_RESULT'].cat.categories.values])"
   ]
  },
  {
   "cell_type": "code",
   "execution_count": 64,
   "metadata": {},
   "outputs": [
    {
     "data": {
      "text/plain": [
       "array(['Apple', 'Case-Mate', 'Gear4', 'Google', 'Incipio', 'Kate Spade', 'LG', 'Mophie', 'Motorola', 'OtterBox',\n",
       "       'PopSockets', 'Samsung', 'SanDisk', 'Sonix', 'Speck', 'Superior', 'Tech21', 'Ventev', 'Zagg'], dtype=object)"
      ]
     },
     "execution_count": 64,
     "metadata": {},
     "output_type": "execute_result"
    }
   ],
   "source": [
    "inner_train_df['MAKE1'].cat.categories.values"
   ]
  },
  {
   "cell_type": "code",
   "execution_count": 65,
   "metadata": {},
   "outputs": [
    {
     "data": {
      "text/plain": [
       "array([      9660,      49364,      73801,     141229, ..., 4294856169, 4294858705, 4294886254, 4294954959])"
      ]
     },
     "execution_count": 65,
     "metadata": {},
     "output_type": "execute_result"
    }
   ],
   "source": [
    "inner_train_df['ACCOUNT_NUMBER'].cat.categories.values"
   ]
  },
  {
   "cell_type": "code",
   "execution_count": 76,
   "metadata": {},
   "outputs": [],
   "source": [
    "acct_keys = np.concatenate([['#na#'],inner_train_df['ACCOUNT_NUMBER'].cat.categories.values])"
   ]
  },
  {
   "cell_type": "code",
   "execution_count": 77,
   "metadata": {},
   "outputs": [
    {
     "data": {
      "text/plain": [
       "array(['#na#', '9660', '49364', '73801', ..., '4294856169', '4294858705', '4294886254', '4294954959'], dtype='<U21')"
      ]
     },
     "execution_count": 77,
     "metadata": {},
     "output_type": "execute_result"
    }
   ],
   "source": [
    "acct_keys"
   ]
  },
  {
   "cell_type": "code",
   "execution_count": 102,
   "metadata": {},
   "outputs": [],
   "source": [
    "# for n,c in inner_train_df[cat_vars].items():\n",
    "#     print('n,c ={},{}'.format(n,c.cat.categories.values))"
   ]
  },
  {
   "cell_type": "code",
   "execution_count": 66,
   "metadata": {},
   "outputs": [],
   "source": [
    "# learn.data.train_dl"
   ]
  },
  {
   "cell_type": "code",
   "execution_count": 67,
   "metadata": {},
   "outputs": [],
   "source": [
    "# for i, dl in enumerate(learn.data.train_dl):\n",
    "#     if i > 0:\n",
    "#         break\n",
    "#     print('i={}'.format(i))\n",
    "#     print(dl)\n"
   ]
  },
  {
   "cell_type": "code",
   "execution_count": 69,
   "metadata": {},
   "outputs": [
    {
     "data": {
      "text/plain": [
       "TabularModel(\n",
       "  (embeds): ModuleList(\n",
       "    (0): Embedding(4, 3)\n",
       "    (1): Embedding(19, 8)\n",
       "    (2): Embedding(5, 4)\n",
       "    (3): Embedding(4, 3)\n",
       "    (4): Embedding(16, 8)\n",
       "    (5): Embedding(14, 7)\n",
       "    (6): Embedding(46, 14)\n",
       "    (7): Embedding(126, 24)\n",
       "    (8): Embedding(134149, 600)\n",
       "    (9): Embedding(6, 4)\n",
       "    (10): Embedding(3, 3)\n",
       "    (11): Embedding(3, 3)\n",
       "    (12): Embedding(4, 3)\n",
       "    (13): Embedding(3, 3)\n",
       "    (14): Embedding(5, 4)\n",
       "    (15): Embedding(3, 3)\n",
       "    (16): Embedding(4, 3)\n",
       "    (17): Embedding(59, 16)\n",
       "    (18): Embedding(3, 3)\n",
       "    (19): Embedding(5, 4)\n",
       "    (20): Embedding(41, 13)\n",
       "    (21): Embedding(3, 3)\n",
       "    (22): Embedding(3, 3)\n",
       "    (23): Embedding(5, 4)\n",
       "    (24): Embedding(56, 15)\n",
       "    (25): Embedding(3, 3)\n",
       "    (26): Embedding(3, 3)\n",
       "    (27): Embedding(2, 2)\n",
       "    (28): Embedding(3, 3)\n",
       "    (29): Embedding(60, 16)\n",
       "    (30): Embedding(17, 8)\n",
       "    (31): Embedding(66, 17)\n",
       "    (32): Embedding(3, 3)\n",
       "    (33): Embedding(18, 8)\n",
       "    (34): Embedding(5, 4)\n",
       "    (35): Embedding(52, 15)\n",
       "    (36): Embedding(496, 52)\n",
       "    (37): Embedding(518, 53)\n",
       "    (38): Embedding(422, 47)\n",
       "    (39): Embedding(343, 42)\n",
       "    (40): Embedding(199, 31)\n",
       "    (41): Embedding(289, 38)\n",
       "    (42): Embedding(236, 34)\n",
       "    (43): Embedding(191, 30)\n",
       "    (44): Embedding(144, 26)\n",
       "    (45): Embedding(66, 17)\n",
       "    (46): Embedding(22, 9)\n",
       "    (47): Embedding(22, 9)\n",
       "    (48): Embedding(21, 9)\n",
       "    (49): Embedding(18, 8)\n",
       "    (50): Embedding(15, 7)\n",
       "  )\n",
       "  (emb_drop): Dropout(p=0.04, inplace=False)\n",
       "  (bn_cont): BatchNorm1d(30, eps=1e-05, momentum=0.1, affine=True, track_running_stats=True)\n",
       "  (layers): Sequential(\n",
       "    (0): Linear(in_features=1282, out_features=1000, bias=True)\n",
       "    (1): ReLU(inplace=True)\n",
       "    (2): BatchNorm1d(1000, eps=1e-05, momentum=0.1, affine=True, track_running_stats=True)\n",
       "    (3): Dropout(p=0.001, inplace=False)\n",
       "    (4): Linear(in_features=1000, out_features=500, bias=True)\n",
       "    (5): ReLU(inplace=True)\n",
       "    (6): BatchNorm1d(500, eps=1e-05, momentum=0.1, affine=True, track_running_stats=True)\n",
       "    (7): Dropout(p=0.01, inplace=False)\n",
       "    (8): Linear(in_features=500, out_features=3, bias=True)\n",
       "  )\n",
       ")"
      ]
     },
     "execution_count": 69,
     "metadata": {},
     "output_type": "execute_result"
    }
   ],
   "source": [
    "learn.model"
   ]
  },
  {
   "cell_type": "code",
   "execution_count": 69,
   "metadata": {},
   "outputs": [],
   "source": [
    "# len(data.train_ds.cont_names)"
   ]
  },
  {
   "cell_type": "code",
   "execution_count": 66,
   "metadata": {},
   "outputs": [
    {
     "data": {
      "text/html": [
       "\n",
       "    <div>\n",
       "        <style>\n",
       "            /* Turns off some styling */\n",
       "            progress {\n",
       "                /* gets rid of default border in Firefox and Opera. */\n",
       "                border: none;\n",
       "                /* Needs to be in here for Safari polyfill so background images work as expected. */\n",
       "                background-size: auto;\n",
       "            }\n",
       "            .progress-bar-interrupted, .progress-bar-interrupted::-webkit-progress-bar {\n",
       "                background: #F44336;\n",
       "            }\n",
       "        </style>\n",
       "      <progress value='0' class='' max='1', style='width:300px; height:20px; vertical-align: middle;'></progress>\n",
       "      0.00% [0/1 00:00<00:00]\n",
       "    </div>\n",
       "    \n",
       "<table border=\"1\" class=\"dataframe\">\n",
       "  <thead>\n",
       "    <tr style=\"text-align: left;\">\n",
       "      <th>epoch</th>\n",
       "      <th>train_loss</th>\n",
       "      <th>valid_loss</th>\n",
       "      <th>accuracy</th>\n",
       "      <th>time</th>\n",
       "    </tr>\n",
       "  </thead>\n",
       "  <tbody>\n",
       "  </tbody>\n",
       "</table><p>\n",
       "\n",
       "    <div>\n",
       "        <style>\n",
       "            /* Turns off some styling */\n",
       "            progress {\n",
       "                /* gets rid of default border in Firefox and Opera. */\n",
       "                border: none;\n",
       "                /* Needs to be in here for Safari polyfill so background images work as expected. */\n",
       "                background-size: auto;\n",
       "            }\n",
       "            .progress-bar-interrupted, .progress-bar-interrupted::-webkit-progress-bar {\n",
       "                background: #F44336;\n",
       "            }\n",
       "        </style>\n",
       "      <progress value='89' class='' max='2441', style='width:300px; height:20px; vertical-align: middle;'></progress>\n",
       "      3.65% [89/2441 01:08<30:00 3.4764]\n",
       "    </div>\n",
       "    "
      ],
      "text/plain": [
       "<IPython.core.display.HTML object>"
      ]
     },
     "metadata": {},
     "output_type": "display_data"
    },
    {
     "name": "stdout",
     "output_type": "stream",
     "text": [
      "LR Finder is complete, type {learner_name}.recorder.plot() to see the graph.\n"
     ]
    }
   ],
   "source": [
    "learn.lr_find()"
   ]
  },
  {
   "cell_type": "code",
   "execution_count": 67,
   "metadata": {},
   "outputs": [
    {
     "data": {
      "image/png": "[encoded data removed]",
      "text/plain": [
       "<Figure size 432x288 with 1 Axes>"
      ]
     },
     "metadata": {
      "needs_background": "light"
     },
     "output_type": "display_data"
    }
   ],
   "source": [
    "learn.recorder.plot()"
   ]
  },
  {
   "cell_type": "code",
   "execution_count": null,
   "metadata": {},
   "outputs": [
    {
     "data": {
      "text/html": [
       "\n",
       "    <div>\n",
       "        <style>\n",
       "            /* Turns off some styling */\n",
       "            progress {\n",
       "                /* gets rid of default border in Firefox and Opera. */\n",
       "                border: none;\n",
       "                /* Needs to be in here for Safari polyfill so background images work as expected. */\n",
       "                background-size: auto;\n",
       "            }\n",
       "            .progress-bar-interrupted, .progress-bar-interrupted::-webkit-progress-bar {\n",
       "                background: #F44336;\n",
       "            }\n",
       "        </style>\n",
       "      <progress value='3' class='' max='5', style='width:300px; height:20px; vertical-align: middle;'></progress>\n",
       "      60.00% [3/5 1:11:56<47:57]\n",
       "    </div>\n",
       "    \n",
       "<table border=\"1\" class=\"dataframe\">\n",
       "  <thead>\n",
       "    <tr style=\"text-align: left;\">\n",
       "      <th>epoch</th>\n",
       "      <th>train_loss</th>\n",
       "      <th>valid_loss</th>\n",
       "      <th>accuracy</th>\n",
       "      <th>time</th>\n",
       "    </tr>\n",
       "  </thead>\n",
       "  <tbody>\n",
       "    <tr>\n",
       "      <td>0</td>\n",
       "      <td>0.454717</td>\n",
       "      <td>0.563830</td>\n",
       "      <td>0.793477</td>\n",
       "      <td>25:49</td>\n",
       "    </tr>\n",
       "    <tr>\n",
       "      <td>1</td>\n",
       "      <td>0.471323</td>\n",
       "      <td>0.610712</td>\n",
       "      <td>0.836410</td>\n",
       "      <td>22:14</td>\n",
       "    </tr>\n",
       "    <tr>\n",
       "      <td>2</td>\n",
       "      <td>0.426616</td>\n",
       "      <td>0.484467</td>\n",
       "      <td>0.850823</td>\n",
       "      <td>23:52</td>\n",
       "    </tr>\n",
       "  </tbody>\n",
       "</table><p>\n",
       "\n",
       "    <div>\n",
       "        <style>\n",
       "            /* Turns off some styling */\n",
       "            progress {\n",
       "                /* gets rid of default border in Firefox and Opera. */\n",
       "                border: none;\n",
       "                /* Needs to be in here for Safari polyfill so background images work as expected. */\n",
       "                background-size: auto;\n",
       "            }\n",
       "            .progress-bar-interrupted, .progress-bar-interrupted::-webkit-progress-bar {\n",
       "                background: #F44336;\n",
       "            }\n",
       "        </style>\n",
       "      <progress value='1790' class='' max='2441', style='width:300px; height:20px; vertical-align: middle;'></progress>\n",
       "      73.33% [1790/2441 17:16<06:17 0.3776]\n",
       "    </div>\n",
       "    "
      ],
      "text/plain": [
       "<IPython.core.display.HTML object>"
      ]
     },
     "metadata": {},
     "output_type": "display_data"
    }
   ],
   "source": [
    "learn.fit_one_cycle(5, 1e-1, wd=0.2)"
   ]
  },
  {
   "cell_type": "code",
   "execution_count": 70,
   "metadata": {},
   "outputs": [],
   "source": [
    "learn.save('1')"
   ]
  },
  {
   "cell_type": "code",
   "execution_count": 150,
   "metadata": {},
   "outputs": [],
   "source": [
    "# learn.recorder.plot_losses(skip_start=10000)"
   ]
  },
  {
   "cell_type": "code",
   "execution_count": 151,
   "metadata": {},
   "outputs": [
    {
     "data": {
      "text/plain": [
       "Embedding(4, 3)"
      ]
     },
     "execution_count": 151,
     "metadata": {},
     "output_type": "execute_result"
    }
   ],
   "source": [
    "learn.model.embeds[0]    # IDA_RESULT"
   ]
  },
  {
   "cell_type": "code",
   "execution_count": 105,
   "metadata": {},
   "outputs": [
    {
     "data": {
      "text/plain": [
       "Embedding(20, 9)"
      ]
     },
     "execution_count": 105,
     "metadata": {},
     "output_type": "execute_result"
    }
   ],
   "source": [
    "learn.model.embeds[1]    # MAKE1"
   ]
  },
  {
   "cell_type": "code",
   "execution_count": 64,
   "metadata": {},
   "outputs": [
    {
     "data": {
      "text/plain": [
       "Embedding(134289, 600)"
      ]
     },
     "execution_count": 64,
     "metadata": {},
     "output_type": "execute_result"
    }
   ],
   "source": [
    "learn.model.embeds[8]    # ACCOUNT_NUMBER"
   ]
  },
  {
   "cell_type": "code",
   "execution_count": 97,
   "metadata": {},
   "outputs": [],
   "source": [
    "# type(learn.model.embeds[0])"
   ]
  },
  {
   "cell_type": "code",
   "execution_count": 56,
   "metadata": {},
   "outputs": [],
   "source": [
    "# learn.model.embeds[0].weight"
   ]
  },
  {
   "cell_type": "code",
   "execution_count": 71,
   "metadata": {},
   "outputs": [
    {
     "data": {
      "text/plain": [
       "tensor([[ 2.7096e-08,  2.8208e-09,  3.6528e-08,  ..., -5.8600e-08,\n",
       "         -1.7306e-08,  5.1847e-08],\n",
       "        [ 5.9526e-03,  1.3807e-02,  3.4023e-02,  ..., -2.6815e-02,\n",
       "         -2.6343e-02,  9.3220e-03],\n",
       "        [ 1.0726e-02,  9.7729e-03, -1.0751e-02,  ..., -1.0748e-02,\n",
       "          9.8045e-03, -4.7564e-03],\n",
       "        ...,\n",
       "        [-1.5877e-02, -1.5800e-02, -1.5949e-02,  ..., -2.6806e-04,\n",
       "         -1.5950e-02, -3.9323e-04],\n",
       "        [-1.0470e-03, -1.5531e-03, -1.5840e-02,  ...,  1.5830e-02,\n",
       "         -1.5759e-02, -1.5378e-03],\n",
       "        [ 1.6383e-02,  1.6427e-02,  1.6393e-02,  ..., -1.5912e-02,\n",
       "          1.5900e-02,  1.6378e-02]])"
      ]
     },
     "execution_count": 71,
     "metadata": {},
     "output_type": "execute_result"
    }
   ],
   "source": [
    "learn.model.embeds[8].weight.data"
   ]
  },
  {
   "cell_type": "code",
   "execution_count": 74,
   "metadata": {},
   "outputs": [],
   "source": [
    "account_number_weights = learn.model.embeds[8].weight.data.cpu().numpy()"
   ]
  },
  {
   "cell_type": "code",
   "execution_count": 75,
   "metadata": {},
   "outputs": [
    {
     "data": {
      "text/plain": [
       "(134283, 600)"
      ]
     },
     "execution_count": 75,
     "metadata": {},
     "output_type": "execute_result"
    }
   ],
   "source": [
    "account_number_weights.shape"
   ]
  },
  {
   "cell_type": "code",
   "execution_count": 105,
   "metadata": {},
   "outputs": [
    {
     "data": {
      "text/plain": [
       "numpy.ndarray"
      ]
     },
     "execution_count": 105,
     "metadata": {},
     "output_type": "execute_result"
    }
   ],
   "source": [
    "type(acct_keys)"
   ]
  },
  {
   "cell_type": "code",
   "execution_count": 112,
   "metadata": {},
   "outputs": [
    {
     "data": {
      "text/plain": [
       "134220"
      ]
     },
     "execution_count": 112,
     "metadata": {},
     "output_type": "execute_result"
    }
   ],
   "source": [
    "len(acct_keys)"
   ]
  },
  {
   "cell_type": "code",
   "execution_count": 113,
   "metadata": {},
   "outputs": [
    {
     "data": {
      "text/plain": [
       "134219"
      ]
     },
     "execution_count": 113,
     "metadata": {},
     "output_type": "execute_result"
    }
   ],
   "source": [
    "len(inner_train_df['ACCOUNT_NUMBER'].unique())"
   ]
  },
  {
   "cell_type": "code",
   "execution_count": 123,
   "metadata": {},
   "outputs": [],
   "source": [
    "# for embed in account_number_weights:\n",
    "#     print(embed)"
   ]
  },
  {
   "cell_type": "code",
   "execution_count": 124,
   "metadata": {},
   "outputs": [],
   "source": [
    "# acct_embed = {}\n",
    "# i = 0\n",
    "# for acct_key in acct_keys:\n",
    "#     acct_embed[acct_key] = account_number_weights.item(i)\n",
    "#     i += 1"
   ]
  },
  {
   "cell_type": "code",
   "execution_count": 125,
   "metadata": {},
   "outputs": [],
   "source": [
    "# acct_embed"
   ]
  },
  {
   "cell_type": "code",
   "execution_count": 126,
   "metadata": {},
   "outputs": [],
   "source": [
    "# len(acct_embed)"
   ]
  },
  {
   "cell_type": "code",
   "execution_count": 78,
   "metadata": {},
   "outputs": [],
   "source": [
    "import pickle as pkl\n",
    "# save away ordered account numbers\n",
    "with open('ivr_backup_data/account_keys.pkl', 'wb') as key_file:\n",
    "    pkl.dump(acct_keys, key_file)\n",
    "# and corresponding account embeddings\n",
    "with open('ivr_backup_data/account_embeds.pkl', 'wb') as embed_file:\n",
    "    pkl.dump(account_number_weights, embed_file)"
   ]
  },
  {
   "cell_type": "code",
   "execution_count": 79,
   "metadata": {},
   "outputs": [],
   "source": [
    "# need to assign color to accounts. trouble is some accounts have multiple orders and therefore multiple colors\n",
    "# pick the highest severity in that case\n",
    "color_df = inner_train_df[['ACCOUNT_NUMBER', 'ACTIVE_WATCH_RESULT']]\n",
    "account_group_df = color_df.groupby(by='ACCOUNT_NUMBER').max()"
   ]
  },
  {
   "cell_type": "code",
   "execution_count": 80,
   "metadata": {},
   "outputs": [
    {
     "data": {
      "text/html": [
       "<div>\n",
       "<style scoped>\n",
       "    .dataframe tbody tr th:only-of-type {\n",
       "        vertical-align: middle;\n",
       "    }\n",
       "\n",
       "    .dataframe tbody tr th {\n",
       "        vertical-align: top;\n",
       "    }\n",
       "\n",
       "    .dataframe thead th {\n",
       "        text-align: right;\n",
       "    }\n",
       "</style>\n",
       "<table border=\"1\" class=\"dataframe\">\n",
       "  <thead>\n",
       "    <tr style=\"text-align: right;\">\n",
       "      <th></th>\n",
       "      <th>ACTIVE_WATCH_RESULT</th>\n",
       "    </tr>\n",
       "    <tr>\n",
       "      <th>ACCOUNT_NUMBER</th>\n",
       "      <th></th>\n",
       "    </tr>\n",
       "  </thead>\n",
       "  <tbody>\n",
       "    <tr>\n",
       "      <th>9660</th>\n",
       "      <td>1</td>\n",
       "    </tr>\n",
       "    <tr>\n",
       "      <th>49364</th>\n",
       "      <td>2</td>\n",
       "    </tr>\n",
       "    <tr>\n",
       "      <th>73801</th>\n",
       "      <td>1</td>\n",
       "    </tr>\n",
       "    <tr>\n",
       "      <th>141229</th>\n",
       "      <td>1</td>\n",
       "    </tr>\n",
       "    <tr>\n",
       "      <th>162095</th>\n",
       "      <td>1</td>\n",
       "    </tr>\n",
       "  </tbody>\n",
       "</table>\n",
       "</div>"
      ],
      "text/plain": [
       "                ACTIVE_WATCH_RESULT\n",
       "ACCOUNT_NUMBER                     \n",
       "9660                              1\n",
       "49364                             2\n",
       "73801                             1\n",
       "141229                            1\n",
       "162095                            1"
      ]
     },
     "execution_count": 80,
     "metadata": {},
     "output_type": "execute_result"
    }
   ],
   "source": [
    "account_group_df.head()"
   ]
  },
  {
   "cell_type": "code",
   "execution_count": 81,
   "metadata": {},
   "outputs": [],
   "source": [
    "account_group_df.to_csv('ivr_backup_data/active_watch_result.csv')"
   ]
  },
  {
   "cell_type": "code",
   "execution_count": 145,
   "metadata": {},
   "outputs": [
    {
     "data": {
      "text/plain": [
       "array(['#na#', '9660', '49364', '162095', ..., '4294858705', '4294886254', '4294907800', '4294954959'], dtype='<U21')"
      ]
     },
     "execution_count": 145,
     "metadata": {},
     "output_type": "execute_result"
    }
   ],
   "source": [
    "acct_keys"
   ]
  },
  {
   "cell_type": "code",
   "execution_count": 137,
   "metadata": {},
   "outputs": [
    {
     "data": {
      "text/plain": [
       "134219"
      ]
     },
     "execution_count": 137,
     "metadata": {},
     "output_type": "execute_result"
    }
   ],
   "source": [
    "len(account_group_df)"
   ]
  },
  {
   "cell_type": "code",
   "execution_count": 131,
   "metadata": {},
   "outputs": [
    {
     "data": {
      "text/plain": [
       "(156246, 82)"
      ]
     },
     "execution_count": 131,
     "metadata": {},
     "output_type": "execute_result"
    }
   ],
   "source": [
    "inner_train_df.shape"
   ]
  },
  {
   "cell_type": "code",
   "execution_count": 129,
   "metadata": {},
   "outputs": [],
   "source": [
    "# type(account_number_weights)"
   ]
  },
  {
   "cell_type": "code",
   "execution_count": 160,
   "metadata": {},
   "outputs": [],
   "source": [
    "# def create_account_map(number, code):\n",
    "#     try:\n",
    "#         number = int(number)\n",
    "#     except:\n",
    "#         print('number={}', number)\n",
    "#     return pd.Series([number, code],index=['account','code'])"
   ]
  },
  {
   "cell_type": "code",
   "execution_count": 103,
   "metadata": {},
   "outputs": [],
   "source": [
    "# acct_number_df = pd.concat([df.ACCOUNT_NUMBER, df.ACCOUNT_NUMBER.astype('category').cat.codes.rename(\"code\", inplace=True)], axis=1)"
   ]
  },
  {
   "cell_type": "code",
   "execution_count": 171,
   "metadata": {},
   "outputs": [],
   "source": [
    "# acct_number_df.ACCOUNT_NUMBER.astype(np.int16)"
   ]
  },
  {
   "cell_type": "code",
   "execution_count": 174,
   "metadata": {},
   "outputs": [],
   "source": [
    "# df.ACCOUNT_NUMBER"
   ]
  },
  {
   "cell_type": "code",
   "execution_count": 175,
   "metadata": {},
   "outputs": [],
   "source": [
    "# df.ACCOUNT_NUMBER.astype('category').cat.codes"
   ]
  },
  {
   "cell_type": "code",
   "execution_count": 104,
   "metadata": {},
   "outputs": [],
   "source": [
    "# account_vector = {}\n",
    "# i = 0\n",
    "# for account_number in train_account_list:\n",
    "#     account_vector[account_number] = account_number_weights[i]\n",
    "#     i += 1"
   ]
  },
  {
   "cell_type": "code",
   "execution_count": 131,
   "metadata": {},
   "outputs": [
    {
     "data": {
      "text/plain": [
       "600"
      ]
     },
     "execution_count": 131,
     "metadata": {},
     "output_type": "execute_result"
    }
   ],
   "source": [
    "len(account_number_weights[0])"
   ]
  },
  {
   "cell_type": "code",
   "execution_count": 87,
   "metadata": {},
   "outputs": [],
   "source": [
    "model1_weights = learn.model.embeds[31].weight.data.cpu().numpy()"
   ]
  },
  {
   "cell_type": "code",
   "execution_count": 89,
   "metadata": {},
   "outputs": [
    {
     "data": {
      "text/plain": [
       "(64, 16)"
      ]
     },
     "execution_count": 89,
     "metadata": {},
     "output_type": "execute_result"
    }
   ],
   "source": [
    "model1_weights.shape"
   ]
  },
  {
   "cell_type": "code",
   "execution_count": 84,
   "metadata": {},
   "outputs": [],
   "source": [
    "model1_keys = np.concatenate([['#na#'],inner_train_df['MODEL1'].cat.categories.values])"
   ]
  },
  {
   "cell_type": "code",
   "execution_count": 85,
   "metadata": {},
   "outputs": [
    {
     "data": {
      "text/plain": [
       "array(['#na#', 'Accessory', 'G8 ThinQTM', 'Galaxy A50', ..., 'iPhone XS Max', 'moto e5 play', 'moto e⁶',\n",
       "       'moto g7 power'], dtype=object)"
      ]
     },
     "execution_count": 85,
     "metadata": {},
     "output_type": "execute_result"
    }
   ],
   "source": [
    "model1_keys"
   ]
  },
  {
   "cell_type": "code",
   "execution_count": 90,
   "metadata": {},
   "outputs": [
    {
     "data": {
      "text/plain": [
       "64"
      ]
     },
     "execution_count": 90,
     "metadata": {},
     "output_type": "execute_result"
    }
   ],
   "source": [
    "len(model1_keys)"
   ]
  },
  {
   "cell_type": "code",
   "execution_count": 88,
   "metadata": {},
   "outputs": [],
   "source": [
    "with open('ivr_backup_data/model1_keys.pkl', 'wb') as model1_key_file:\n",
    "    pkl.dump(model1_keys, model1_key_file)\n",
    "# and corresponding account embeddings\n",
    "with open('ivr_backup_data/model1_embeds.pkl', 'wb') as model1_embed_file:\n",
    "    pkl.dump(model1_weights, model1_embed_file)"
   ]
  },
  {
   "cell_type": "code",
   "execution_count": 93,
   "metadata": {},
   "outputs": [
    {
     "data": {
      "text/plain": [
       "(502, 502)"
      ]
     },
     "execution_count": 93,
     "metadata": {},
     "output_type": "execute_result"
    }
   ],
   "source": [
    "sku1_weights = learn.model.embeds[36].weight.data.cpu().numpy()\n",
    "sku1_keys = np.concatenate([['#na#'],inner_train_df['SKU1'].cat.categories.values])\n",
    "len(sku1_weights), len(sku1_keys)"
   ]
  },
  {
   "cell_type": "code",
   "execution_count": 94,
   "metadata": {},
   "outputs": [],
   "source": [
    "with open('ivr_backup_data/sku1_keys.pkl', 'wb') as sku1_key_file:\n",
    "    pkl.dump(sku1_keys, sku1_key_file)\n",
    "# and corresponding account embeddings\n",
    "with open('ivr_backup_data/sku1_embeds.pkl', 'wb') as sku1_embed_file:\n",
    "    pkl.dump(sku1_weights, sku1_embed_file)"
   ]
  },
  {
   "cell_type": "code",
   "execution_count": 68,
   "metadata": {},
   "outputs": [],
   "source": [
    "learn.load('1');"
   ]
  },
  {
   "cell_type": "code",
   "execution_count": null,
   "metadata": {},
   "outputs": [
    {
     "data": {
      "text/html": [
       "\n",
       "    <div>\n",
       "        <style>\n",
       "            /* Turns off some styling */\n",
       "            progress {\n",
       "                /* gets rid of default border in Firefox and Opera. */\n",
       "                border: none;\n",
       "                /* Needs to be in here for Safari polyfill so background images work as expected. */\n",
       "                background-size: auto;\n",
       "            }\n",
       "            .progress-bar-interrupted, .progress-bar-interrupted::-webkit-progress-bar {\n",
       "                background: #F44336;\n",
       "            }\n",
       "        </style>\n",
       "      <progress value='2' class='' max='5', style='width:300px; height:20px; vertical-align: middle;'></progress>\n",
       "      40.00% [2/5 44:26<1:06:40]\n",
       "    </div>\n",
       "    \n",
       "<table border=\"1\" class=\"dataframe\">\n",
       "  <thead>\n",
       "    <tr style=\"text-align: left;\">\n",
       "      <th>epoch</th>\n",
       "      <th>train_loss</th>\n",
       "      <th>valid_loss</th>\n",
       "      <th>accuracy</th>\n",
       "      <th>time</th>\n",
       "    </tr>\n",
       "  </thead>\n",
       "  <tbody>\n",
       "    <tr>\n",
       "      <td>0</td>\n",
       "      <td>0.124950</td>\n",
       "      <td>0.294154</td>\n",
       "      <td>0.908579</td>\n",
       "      <td>21:43</td>\n",
       "    </tr>\n",
       "    <tr>\n",
       "      <td>1</td>\n",
       "      <td>0.122016</td>\n",
       "      <td>0.302155</td>\n",
       "      <td>0.911574</td>\n",
       "      <td>22:43</td>\n",
       "    </tr>\n",
       "  </tbody>\n",
       "</table><p>\n",
       "\n",
       "    <div>\n",
       "        <style>\n",
       "            /* Turns off some styling */\n",
       "            progress {\n",
       "                /* gets rid of default border in Firefox and Opera. */\n",
       "                border: none;\n",
       "                /* Needs to be in here for Safari polyfill so background images work as expected. */\n",
       "                background-size: auto;\n",
       "            }\n",
       "            .progress-bar-interrupted, .progress-bar-interrupted::-webkit-progress-bar {\n",
       "                background: #F44336;\n",
       "            }\n",
       "        </style>\n",
       "      <progress value='697' class='' max='2441', style='width:300px; height:20px; vertical-align: middle;'></progress>\n",
       "      28.55% [697/2441 06:23<16:00 0.0906]\n",
       "    </div>\n",
       "    "
      ],
      "text/plain": [
       "<IPython.core.display.HTML object>"
      ]
     },
     "metadata": {},
     "output_type": "display_data"
    },
    {
     "name": "stdout",
     "output_type": "stream",
     "text": [
      "epoch 0\n",
      "epoch 1\n",
      "epoch 2\n"
     ]
    }
   ],
   "source": [
    "learn.fit_one_cycle(5, 3e-2)"
   ]
  },
  {
   "cell_type": "code",
   "execution_count": 73,
   "metadata": {},
   "outputs": [],
   "source": [
    "learn.save('2')"
   ]
  },
  {
   "cell_type": "code",
   "execution_count": 70,
   "metadata": {},
   "outputs": [],
   "source": [
    "learn.export()"
   ]
  },
  {
   "cell_type": "code",
   "execution_count": null,
   "metadata": {},
   "outputs": [],
   "source": []
  }
 ],
 "metadata": {
  "kernelspec": {
   "display_name": "Python 3.6 - AzureML",
   "language": "python",
   "name": "python3-azureml"
  },
  "language_info": {
   "codemirror_mode": {
    "name": "ipython",
    "version": 3
   },
   "file_extension": ".py",
   "mimetype": "text/x-python",
   "name": "python",
   "nbconvert_exporter": "python",
   "pygments_lexer": "ipython3",
   "version": "3.6.9"
  }
 },
 "nbformat": 4,
 "nbformat_minor": 2
}
