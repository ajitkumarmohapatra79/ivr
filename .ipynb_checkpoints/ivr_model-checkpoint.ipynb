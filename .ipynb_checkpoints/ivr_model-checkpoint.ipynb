{
 "cells": [
  {
   "cell_type": "code",
   "execution_count": 1,
   "metadata": {},
   "outputs": [],
   "source": [
    "%matplotlib inline\n",
    "%reload_ext autoreload\n",
    "%autoreload 2"
   ]
  },
  {
   "cell_type": "code",
   "execution_count": 2,
   "metadata": {},
   "outputs": [],
   "source": [
    "import pandas as pd\n",
    "import numpy as np\n",
    "import torch"
   ]
  },
  {
   "cell_type": "code",
   "execution_count": 3,
   "metadata": {},
   "outputs": [],
   "source": [
    "PATH='order/'"
   ]
  },
  {
   "cell_type": "code",
   "execution_count": 4,
   "metadata": {},
   "outputs": [],
   "source": [
    "num_df = pd.read_csv('ivr_backup_data/order_num_df.csv')\n",
    "cat_df = pd.read_csv('ivr_backup_data/order_category_df.csv')\n",
    "target_df = pd.read_csv('ivr_backup_data/target_df.csv')"
   ]
  },
  {
   "cell_type": "code",
   "execution_count": 5,
   "metadata": {},
   "outputs": [
    {
     "data": {
      "text/plain": [
       "Index(['FRAUDNET_SCORE', 'TOTAL_PRICE', 'PRICE3', 'PRICE4', 'PRICE5',\n",
       "       'NUM_PORTIN', 'ACNT_BILL_FNAME_MATCHES', 'ACNT_BILL_LNAME_MATCHES',\n",
       "       'ACNT_SHIP_FNAME_MATCHES', 'ACNT_SHIP_LNAME_MATCHES',\n",
       "       'SHIP_BILL_FNAME_MATCHES', 'SHIP_BILL_LNAME_MATCHES',\n",
       "       'BILL_SHIP_ADDR_MATCHES', 'EMAIL', 'IP_ADDRESS', 'PHONE_MATCHES',\n",
       "       'NUM_BYOD', 'INSTALLMENT_AMOUNT', 'ONETIMECHARGE',\n",
       "       'MONTHLYRECURRINGCHARGE', 'BYOD_RETRY_COUNT', 'PREORDER_LINES',\n",
       "       'ALLOWED_LINES', 'APPROVED_LINES', 'EXTERNAL_APPROVED_LINES',\n",
       "       'FIRST_PARTY_ID_SCORE', 'THIRD_PARTY_ID_SCORE', 'PRICE1', 'PRICE2',\n",
       "       'ORDER_CREATED_DATE'],\n",
       "      dtype='object')"
      ]
     },
     "execution_count": 5,
     "metadata": {},
     "output_type": "execute_result"
    }
   ],
   "source": [
    "num_df.columns"
   ]
  },
  {
   "cell_type": "code",
   "execution_count": 6,
   "metadata": {},
   "outputs": [
    {
     "data": {
      "text/plain": [
       "(244154, 30)"
      ]
     },
     "execution_count": 6,
     "metadata": {},
     "output_type": "execute_result"
    }
   ],
   "source": [
    "num_df.shape"
   ]
  },
  {
   "cell_type": "code",
   "execution_count": 7,
   "metadata": {},
   "outputs": [
    {
     "data": {
      "text/html": [
       "<div>\n",
       "<style scoped>\n",
       "    .dataframe tbody tr th:only-of-type {\n",
       "        vertical-align: middle;\n",
       "    }\n",
       "\n",
       "    .dataframe tbody tr th {\n",
       "        vertical-align: top;\n",
       "    }\n",
       "\n",
       "    .dataframe thead th {\n",
       "        text-align: right;\n",
       "    }\n",
       "</style>\n",
       "<table border=\"1\" class=\"dataframe\">\n",
       "  <thead>\n",
       "    <tr style=\"text-align: right;\">\n",
       "      <th></th>\n",
       "      <th>FRAUDNET_SCORE</th>\n",
       "      <th>TOTAL_PRICE</th>\n",
       "      <th>PRICE3</th>\n",
       "      <th>PRICE4</th>\n",
       "      <th>PRICE5</th>\n",
       "      <th>NUM_PORTIN</th>\n",
       "      <th>ACNT_BILL_FNAME_MATCHES</th>\n",
       "      <th>ACNT_BILL_LNAME_MATCHES</th>\n",
       "      <th>ACNT_SHIP_FNAME_MATCHES</th>\n",
       "      <th>ACNT_SHIP_LNAME_MATCHES</th>\n",
       "      <th>...</th>\n",
       "      <th>BYOD_RETRY_COUNT</th>\n",
       "      <th>PREORDER_LINES</th>\n",
       "      <th>ALLOWED_LINES</th>\n",
       "      <th>APPROVED_LINES</th>\n",
       "      <th>EXTERNAL_APPROVED_LINES</th>\n",
       "      <th>FIRST_PARTY_ID_SCORE</th>\n",
       "      <th>THIRD_PARTY_ID_SCORE</th>\n",
       "      <th>PRICE1</th>\n",
       "      <th>PRICE2</th>\n",
       "      <th>ORDER_CREATED_DATE</th>\n",
       "    </tr>\n",
       "  </thead>\n",
       "  <tbody>\n",
       "    <tr>\n",
       "      <th>0</th>\n",
       "      <td>0.0</td>\n",
       "      <td>1554.60</td>\n",
       "      <td>119.99</td>\n",
       "      <td>119.99</td>\n",
       "      <td>0.0</td>\n",
       "      <td>0</td>\n",
       "      <td>1</td>\n",
       "      <td>1</td>\n",
       "      <td>1</td>\n",
       "      <td>1</td>\n",
       "      <td>...</td>\n",
       "      <td>0</td>\n",
       "      <td>0.0</td>\n",
       "      <td>5</td>\n",
       "      <td>5</td>\n",
       "      <td>0</td>\n",
       "      <td>553</td>\n",
       "      <td>520</td>\n",
       "      <td>599.99</td>\n",
       "      <td>599.99</td>\n",
       "      <td>1.558789e+09</td>\n",
       "    </tr>\n",
       "    <tr>\n",
       "      <th>1</th>\n",
       "      <td>0.0</td>\n",
       "      <td>0.00</td>\n",
       "      <td>0.00</td>\n",
       "      <td>0.00</td>\n",
       "      <td>0.0</td>\n",
       "      <td>1</td>\n",
       "      <td>1</td>\n",
       "      <td>1</td>\n",
       "      <td>1</td>\n",
       "      <td>1</td>\n",
       "      <td>...</td>\n",
       "      <td>0</td>\n",
       "      <td>0.0</td>\n",
       "      <td>4</td>\n",
       "      <td>0</td>\n",
       "      <td>0</td>\n",
       "      <td>485</td>\n",
       "      <td>502</td>\n",
       "      <td>0.00</td>\n",
       "      <td>0.00</td>\n",
       "      <td>1.571514e+09</td>\n",
       "    </tr>\n",
       "    <tr>\n",
       "      <th>2</th>\n",
       "      <td>0.0</td>\n",
       "      <td>1080.09</td>\n",
       "      <td>0.00</td>\n",
       "      <td>0.00</td>\n",
       "      <td>0.0</td>\n",
       "      <td>1</td>\n",
       "      <td>1</td>\n",
       "      <td>1</td>\n",
       "      <td>1</td>\n",
       "      <td>1</td>\n",
       "      <td>...</td>\n",
       "      <td>4</td>\n",
       "      <td>0.0</td>\n",
       "      <td>5</td>\n",
       "      <td>5</td>\n",
       "      <td>0</td>\n",
       "      <td>370</td>\n",
       "      <td>361</td>\n",
       "      <td>999.99</td>\n",
       "      <td>0.00</td>\n",
       "      <td>1.568388e+09</td>\n",
       "    </tr>\n",
       "    <tr>\n",
       "      <th>3</th>\n",
       "      <td>0.0</td>\n",
       "      <td>593.97</td>\n",
       "      <td>0.00</td>\n",
       "      <td>0.00</td>\n",
       "      <td>0.0</td>\n",
       "      <td>0</td>\n",
       "      <td>1</td>\n",
       "      <td>1</td>\n",
       "      <td>1</td>\n",
       "      <td>1</td>\n",
       "      <td>...</td>\n",
       "      <td>0</td>\n",
       "      <td>0.0</td>\n",
       "      <td>4</td>\n",
       "      <td>0</td>\n",
       "      <td>4</td>\n",
       "      <td>504</td>\n",
       "      <td>554</td>\n",
       "      <td>549.99</td>\n",
       "      <td>0.00</td>\n",
       "      <td>1.568843e+09</td>\n",
       "    </tr>\n",
       "    <tr>\n",
       "      <th>4</th>\n",
       "      <td>0.0</td>\n",
       "      <td>0.00</td>\n",
       "      <td>0.00</td>\n",
       "      <td>0.00</td>\n",
       "      <td>0.0</td>\n",
       "      <td>1</td>\n",
       "      <td>1</td>\n",
       "      <td>1</td>\n",
       "      <td>1</td>\n",
       "      <td>1</td>\n",
       "      <td>...</td>\n",
       "      <td>0</td>\n",
       "      <td>0.0</td>\n",
       "      <td>3</td>\n",
       "      <td>5</td>\n",
       "      <td>0</td>\n",
       "      <td>386</td>\n",
       "      <td>517</td>\n",
       "      <td>469.99</td>\n",
       "      <td>0.00</td>\n",
       "      <td>1.570415e+09</td>\n",
       "    </tr>\n",
       "  </tbody>\n",
       "</table>\n",
       "<p>5 rows × 30 columns</p>\n",
       "</div>"
      ],
      "text/plain": [
       "   FRAUDNET_SCORE  TOTAL_PRICE  PRICE3  PRICE4  PRICE5  NUM_PORTIN  \\\n",
       "0             0.0      1554.60  119.99  119.99     0.0           0   \n",
       "1             0.0         0.00    0.00    0.00     0.0           1   \n",
       "2             0.0      1080.09    0.00    0.00     0.0           1   \n",
       "3             0.0       593.97    0.00    0.00     0.0           0   \n",
       "4             0.0         0.00    0.00    0.00     0.0           1   \n",
       "\n",
       "   ACNT_BILL_FNAME_MATCHES  ACNT_BILL_LNAME_MATCHES  ACNT_SHIP_FNAME_MATCHES  \\\n",
       "0                        1                        1                        1   \n",
       "1                        1                        1                        1   \n",
       "2                        1                        1                        1   \n",
       "3                        1                        1                        1   \n",
       "4                        1                        1                        1   \n",
       "\n",
       "   ACNT_SHIP_LNAME_MATCHES         ...          BYOD_RETRY_COUNT  \\\n",
       "0                        1         ...                         0   \n",
       "1                        1         ...                         0   \n",
       "2                        1         ...                         4   \n",
       "3                        1         ...                         0   \n",
       "4                        1         ...                         0   \n",
       "\n",
       "   PREORDER_LINES  ALLOWED_LINES  APPROVED_LINES  EXTERNAL_APPROVED_LINES  \\\n",
       "0             0.0              5               5                        0   \n",
       "1             0.0              4               0                        0   \n",
       "2             0.0              5               5                        0   \n",
       "3             0.0              4               0                        4   \n",
       "4             0.0              3               5                        0   \n",
       "\n",
       "   FIRST_PARTY_ID_SCORE  THIRD_PARTY_ID_SCORE  PRICE1  PRICE2  \\\n",
       "0                   553                   520  599.99  599.99   \n",
       "1                   485                   502    0.00    0.00   \n",
       "2                   370                   361  999.99    0.00   \n",
       "3                   504                   554  549.99    0.00   \n",
       "4                   386                   517  469.99    0.00   \n",
       "\n",
       "   ORDER_CREATED_DATE  \n",
       "0        1.558789e+09  \n",
       "1        1.571514e+09  \n",
       "2        1.568388e+09  \n",
       "3        1.568843e+09  \n",
       "4        1.570415e+09  \n",
       "\n",
       "[5 rows x 30 columns]"
      ]
     },
     "execution_count": 7,
     "metadata": {},
     "output_type": "execute_result"
    }
   ],
   "source": [
    "num_df.head()"
   ]
  },
  {
   "cell_type": "code",
   "execution_count": 8,
   "metadata": {},
   "outputs": [
    {
     "data": {
      "text/html": [
       "<div>\n",
       "<style scoped>\n",
       "    .dataframe tbody tr th:only-of-type {\n",
       "        vertical-align: middle;\n",
       "    }\n",
       "\n",
       "    .dataframe tbody tr th {\n",
       "        vertical-align: top;\n",
       "    }\n",
       "\n",
       "    .dataframe thead th {\n",
       "        text-align: right;\n",
       "    }\n",
       "</style>\n",
       "<table border=\"1\" class=\"dataframe\">\n",
       "  <thead>\n",
       "    <tr style=\"text-align: right;\">\n",
       "      <th></th>\n",
       "      <th>EXPERIAN_RESPONSE_1</th>\n",
       "      <th>EXPERIAN_RESPONSE_2</th>\n",
       "      <th>ORDER_EXCHANGE</th>\n",
       "      <th>TPF_HIGH_YELLOW</th>\n",
       "      <th>IDA_RESULT</th>\n",
       "      <th>BLACKLIST_EMAIL</th>\n",
       "      <th>FRAUDNET_RESULT</th>\n",
       "      <th>YELLOW_SKU</th>\n",
       "      <th>SHIPPING_STATE</th>\n",
       "      <th>SALES_CHANNEL</th>\n",
       "      <th>...</th>\n",
       "      <th>DEVICE_AT_HOME</th>\n",
       "      <th>FPF_HIGH_YELLOW</th>\n",
       "      <th>DENIAL_OF_SERVICES</th>\n",
       "      <th>SHIPPINGMETHOD</th>\n",
       "      <th>EXTERNAL_CREDIT_CHECK_DONE</th>\n",
       "      <th>SKU_vector</th>\n",
       "      <th>carrier_vector</th>\n",
       "      <th>make_vector</th>\n",
       "      <th>type_vector</th>\n",
       "      <th>model_vector</th>\n",
       "    </tr>\n",
       "  </thead>\n",
       "  <tbody>\n",
       "    <tr>\n",
       "      <th>0</th>\n",
       "      <td>NaN</td>\n",
       "      <td>NaN</td>\n",
       "      <td>NaN</td>\n",
       "      <td>N</td>\n",
       "      <td>GREEN</td>\n",
       "      <td>N</td>\n",
       "      <td>NaN</td>\n",
       "      <td>N</td>\n",
       "      <td>MN</td>\n",
       "      <td>TELESALES</td>\n",
       "      <td>...</td>\n",
       "      <td>N</td>\n",
       "      <td>N</td>\n",
       "      <td>N</td>\n",
       "      <td>2Days</td>\n",
       "      <td>N</td>\n",
       "      <td>[0, 0, 0, 0, 0, 0, 0, 0, 0, 0, 0, 0, 0, 0, 0, ...</td>\n",
       "      <td>[0, 0, 0, 0, 0]</td>\n",
       "      <td>[1, 0, 0, 0, 0, 0, 0, 0, 2, 0, 0, 0, 0, 0, 2, ...</td>\n",
       "      <td>[1, 0, 4, 0, 0]</td>\n",
       "      <td>[1, 0, 0, 0, 0, 0, 0, 0, 0, 0, 2, 0, 0, 0, 0, ...</td>\n",
       "    </tr>\n",
       "    <tr>\n",
       "      <th>1</th>\n",
       "      <td>NaN</td>\n",
       "      <td>NaN</td>\n",
       "      <td>NaN</td>\n",
       "      <td>N</td>\n",
       "      <td>GREEN</td>\n",
       "      <td>N</td>\n",
       "      <td>NaN</td>\n",
       "      <td>N</td>\n",
       "      <td>MN</td>\n",
       "      <td>ONLINE</td>\n",
       "      <td>...</td>\n",
       "      <td>Y</td>\n",
       "      <td>N</td>\n",
       "      <td>N</td>\n",
       "      <td>2Days</td>\n",
       "      <td>N</td>\n",
       "      <td>[0, 0, 0, 0, 0, 0, 0, 0, 0, 0, 0, 0, 0, 0, 0, ...</td>\n",
       "      <td>[21, 0, 0, 0, 0]</td>\n",
       "      <td>[4, 0, 0, 0, 0, 0, 0, 0, 0, 0, 0, 0, 0, 0, 1, ...</td>\n",
       "      <td>[4, 0, 1, 0, 0]</td>\n",
       "      <td>[4, 0, 0, 0, 0, 0, 0, 0, 0, 0, 0, 0, 0, 0, 0, ...</td>\n",
       "    </tr>\n",
       "    <tr>\n",
       "      <th>2</th>\n",
       "      <td>NaN</td>\n",
       "      <td>NaN</td>\n",
       "      <td>NaN</td>\n",
       "      <td>N</td>\n",
       "      <td>GREEN</td>\n",
       "      <td>N</td>\n",
       "      <td>NaN</td>\n",
       "      <td>N</td>\n",
       "      <td>MN</td>\n",
       "      <td>TELESALES</td>\n",
       "      <td>...</td>\n",
       "      <td>N</td>\n",
       "      <td>N</td>\n",
       "      <td>N</td>\n",
       "      <td>2Days</td>\n",
       "      <td>N</td>\n",
       "      <td>[0, 0, 0, 0, 0, 0, 0, 0, 0, 0, 0, 0, 0, 0, 0, ...</td>\n",
       "      <td>[2, 0, 0, 0, 0]</td>\n",
       "      <td>[4, 0, 0, 0, 0, 0, 0, 0, 0, 0, 0, 0, 0, 0, 1, ...</td>\n",
       "      <td>[4, 0, 1, 0, 0]</td>\n",
       "      <td>[4, 0, 0, 0, 0, 0, 0, 0, 0, 0, 0, 0, 0, 0, 0, ...</td>\n",
       "    </tr>\n",
       "    <tr>\n",
       "      <th>3</th>\n",
       "      <td>NaN</td>\n",
       "      <td>NaN</td>\n",
       "      <td>NaN</td>\n",
       "      <td>N</td>\n",
       "      <td>GREEN</td>\n",
       "      <td>N</td>\n",
       "      <td>NaN</td>\n",
       "      <td>N</td>\n",
       "      <td>MN</td>\n",
       "      <td>TELESALES</td>\n",
       "      <td>...</td>\n",
       "      <td>N</td>\n",
       "      <td>N</td>\n",
       "      <td>N</td>\n",
       "      <td>2Days</td>\n",
       "      <td>Y</td>\n",
       "      <td>[0, 0, 0, 0, 0, 0, 0, 0, 0, 0, 0, 0, 0, 0, 0, ...</td>\n",
       "      <td>[0, 0, 0, 0, 0]</td>\n",
       "      <td>[4, 0, 0, 0, 0, 0, 0, 0, 0, 0, 0, 0, 0, 0, 1, ...</td>\n",
       "      <td>[4, 0, 1, 0, 0]</td>\n",
       "      <td>[4, 0, 0, 0, 0, 1, 0, 0, 0, 0, 0, 0, 0, 0, 0, ...</td>\n",
       "    </tr>\n",
       "    <tr>\n",
       "      <th>4</th>\n",
       "      <td>NaN</td>\n",
       "      <td>NaN</td>\n",
       "      <td>NaN</td>\n",
       "      <td>N</td>\n",
       "      <td>GREEN</td>\n",
       "      <td>N</td>\n",
       "      <td>NaN</td>\n",
       "      <td>N</td>\n",
       "      <td>MN</td>\n",
       "      <td>ONLINE</td>\n",
       "      <td>...</td>\n",
       "      <td>Y</td>\n",
       "      <td>N</td>\n",
       "      <td>N</td>\n",
       "      <td>2Days</td>\n",
       "      <td>N</td>\n",
       "      <td>[0, 0, 0, 0, 0, 0, 0, 0, 0, 0, 0, 0, 0, 0, 0, ...</td>\n",
       "      <td>[13, 0, 0, 0, 0]</td>\n",
       "      <td>[4, 0, 0, 0, 0, 0, 0, 0, 0, 0, 0, 0, 0, 0, 1, ...</td>\n",
       "      <td>[4, 0, 1, 0, 0]</td>\n",
       "      <td>[4, 0, 0, 0, 0, 0, 0, 0, 0, 0, 0, 0, 0, 0, 0, ...</td>\n",
       "    </tr>\n",
       "  </tbody>\n",
       "</table>\n",
       "<p>5 rows × 26 columns</p>\n",
       "</div>"
      ],
      "text/plain": [
       "  EXPERIAN_RESPONSE_1 EXPERIAN_RESPONSE_2 ORDER_EXCHANGE TPF_HIGH_YELLOW  \\\n",
       "0                 NaN                 NaN            NaN               N   \n",
       "1                 NaN                 NaN            NaN               N   \n",
       "2                 NaN                 NaN            NaN               N   \n",
       "3                 NaN                 NaN            NaN               N   \n",
       "4                 NaN                 NaN            NaN               N   \n",
       "\n",
       "  IDA_RESULT BLACKLIST_EMAIL FRAUDNET_RESULT YELLOW_SKU SHIPPING_STATE  \\\n",
       "0      GREEN               N             NaN          N             MN   \n",
       "1      GREEN               N             NaN          N             MN   \n",
       "2      GREEN               N             NaN          N             MN   \n",
       "3      GREEN               N             NaN          N             MN   \n",
       "4      GREEN               N             NaN          N             MN   \n",
       "\n",
       "  SALES_CHANNEL                        ...                          \\\n",
       "0     TELESALES                        ...                           \n",
       "1        ONLINE                        ...                           \n",
       "2     TELESALES                        ...                           \n",
       "3     TELESALES                        ...                           \n",
       "4        ONLINE                        ...                           \n",
       "\n",
       "  DEVICE_AT_HOME  FPF_HIGH_YELLOW DENIAL_OF_SERVICES SHIPPINGMETHOD  \\\n",
       "0              N                N                  N          2Days   \n",
       "1              Y                N                  N          2Days   \n",
       "2              N                N                  N          2Days   \n",
       "3              N                N                  N          2Days   \n",
       "4              Y                N                  N          2Days   \n",
       "\n",
       "  EXTERNAL_CREDIT_CHECK_DONE  \\\n",
       "0                          N   \n",
       "1                          N   \n",
       "2                          N   \n",
       "3                          Y   \n",
       "4                          N   \n",
       "\n",
       "                                          SKU_vector    carrier_vector  \\\n",
       "0  [0, 0, 0, 0, 0, 0, 0, 0, 0, 0, 0, 0, 0, 0, 0, ...   [0, 0, 0, 0, 0]   \n",
       "1  [0, 0, 0, 0, 0, 0, 0, 0, 0, 0, 0, 0, 0, 0, 0, ...  [21, 0, 0, 0, 0]   \n",
       "2  [0, 0, 0, 0, 0, 0, 0, 0, 0, 0, 0, 0, 0, 0, 0, ...   [2, 0, 0, 0, 0]   \n",
       "3  [0, 0, 0, 0, 0, 0, 0, 0, 0, 0, 0, 0, 0, 0, 0, ...   [0, 0, 0, 0, 0]   \n",
       "4  [0, 0, 0, 0, 0, 0, 0, 0, 0, 0, 0, 0, 0, 0, 0, ...  [13, 0, 0, 0, 0]   \n",
       "\n",
       "                                         make_vector      type_vector  \\\n",
       "0  [1, 0, 0, 0, 0, 0, 0, 0, 2, 0, 0, 0, 0, 0, 2, ...  [1, 0, 4, 0, 0]   \n",
       "1  [4, 0, 0, 0, 0, 0, 0, 0, 0, 0, 0, 0, 0, 0, 1, ...  [4, 0, 1, 0, 0]   \n",
       "2  [4, 0, 0, 0, 0, 0, 0, 0, 0, 0, 0, 0, 0, 0, 1, ...  [4, 0, 1, 0, 0]   \n",
       "3  [4, 0, 0, 0, 0, 0, 0, 0, 0, 0, 0, 0, 0, 0, 1, ...  [4, 0, 1, 0, 0]   \n",
       "4  [4, 0, 0, 0, 0, 0, 0, 0, 0, 0, 0, 0, 0, 0, 1, ...  [4, 0, 1, 0, 0]   \n",
       "\n",
       "                                        model_vector  \n",
       "0  [1, 0, 0, 0, 0, 0, 0, 0, 0, 0, 2, 0, 0, 0, 0, ...  \n",
       "1  [4, 0, 0, 0, 0, 0, 0, 0, 0, 0, 0, 0, 0, 0, 0, ...  \n",
       "2  [4, 0, 0, 0, 0, 0, 0, 0, 0, 0, 0, 0, 0, 0, 0, ...  \n",
       "3  [4, 0, 0, 0, 0, 1, 0, 0, 0, 0, 0, 0, 0, 0, 0, ...  \n",
       "4  [4, 0, 0, 0, 0, 0, 0, 0, 0, 0, 0, 0, 0, 0, 0, ...  \n",
       "\n",
       "[5 rows x 26 columns]"
      ]
     },
     "execution_count": 8,
     "metadata": {},
     "output_type": "execute_result"
    }
   ],
   "source": [
    "cat_df.head()"
   ]
  },
  {
   "cell_type": "code",
   "execution_count": 56,
   "metadata": {},
   "outputs": [
    {
     "data": {
      "text/plain": [
       "array([nan, '3100/ACCEPT/Continue/ACCEPT- FraudNet only',\n",
       "       '3100/REFER/Continue and Investigate/Suspicious fraud device indicators - medium',\n",
       "       '3100/REFER/Continue and Investigate/Suspicious fraud device indicators - high',\n",
       "       '3100/NODECISION/No Decision/Error Or No Decision From FS'], dtype=object)"
      ]
     },
     "execution_count": 56,
     "metadata": {},
     "output_type": "execute_result"
    }
   ],
   "source": [
    "cat_df['EXPERIAN_RESPONSE_1'].unique()"
   ]
  },
  {
   "cell_type": "code",
   "execution_count": 9,
   "metadata": {},
   "outputs": [
    {
     "data": {
      "text/plain": [
       "(244154, 26)"
      ]
     },
     "execution_count": 9,
     "metadata": {},
     "output_type": "execute_result"
    }
   ],
   "source": [
    "cat_df.shape"
   ]
  },
  {
   "cell_type": "code",
   "execution_count": 10,
   "metadata": {},
   "outputs": [
    {
     "data": {
      "text/plain": [
       "Index(['ACTIVE_WATCH_RESULT'], dtype='object')"
      ]
     },
     "execution_count": 10,
     "metadata": {},
     "output_type": "execute_result"
    }
   ],
   "source": [
    "target_df.columns"
   ]
  },
  {
   "cell_type": "code",
   "execution_count": 11,
   "metadata": {},
   "outputs": [
    {
     "data": {
      "text/html": [
       "<div>\n",
       "<style scoped>\n",
       "    .dataframe tbody tr th:only-of-type {\n",
       "        vertical-align: middle;\n",
       "    }\n",
       "\n",
       "    .dataframe tbody tr th {\n",
       "        vertical-align: top;\n",
       "    }\n",
       "\n",
       "    .dataframe thead th {\n",
       "        text-align: right;\n",
       "    }\n",
       "</style>\n",
       "<table border=\"1\" class=\"dataframe\">\n",
       "  <thead>\n",
       "    <tr style=\"text-align: right;\">\n",
       "      <th></th>\n",
       "      <th>ACTIVE_WATCH_RESULT</th>\n",
       "    </tr>\n",
       "  </thead>\n",
       "  <tbody>\n",
       "    <tr>\n",
       "      <th>0</th>\n",
       "      <td>0</td>\n",
       "    </tr>\n",
       "    <tr>\n",
       "      <th>1</th>\n",
       "      <td>1</td>\n",
       "    </tr>\n",
       "    <tr>\n",
       "      <th>2</th>\n",
       "      <td>1</td>\n",
       "    </tr>\n",
       "    <tr>\n",
       "      <th>3</th>\n",
       "      <td>1</td>\n",
       "    </tr>\n",
       "    <tr>\n",
       "      <th>4</th>\n",
       "      <td>1</td>\n",
       "    </tr>\n",
       "  </tbody>\n",
       "</table>\n",
       "</div>"
      ],
      "text/plain": [
       "   ACTIVE_WATCH_RESULT\n",
       "0                    0\n",
       "1                    1\n",
       "2                    1\n",
       "3                    1\n",
       "4                    1"
      ]
     },
     "execution_count": 11,
     "metadata": {},
     "output_type": "execute_result"
    }
   ],
   "source": [
    "target_df.head()"
   ]
  },
  {
   "cell_type": "code",
   "execution_count": 12,
   "metadata": {},
   "outputs": [
    {
     "data": {
      "text/plain": [
       "(244154, 1)"
      ]
     },
     "execution_count": 12,
     "metadata": {},
     "output_type": "execute_result"
    }
   ],
   "source": [
    "target_df.shape"
   ]
  },
  {
   "cell_type": "code",
   "execution_count": 13,
   "metadata": {},
   "outputs": [],
   "source": [
    "ivr_df = pd.concat([num_df, cat_df, target_df], axis=1)"
   ]
  },
  {
   "cell_type": "code",
   "execution_count": 14,
   "metadata": {},
   "outputs": [
    {
     "data": {
      "text/html": [
       "<div>\n",
       "<style scoped>\n",
       "    .dataframe tbody tr th:only-of-type {\n",
       "        vertical-align: middle;\n",
       "    }\n",
       "\n",
       "    .dataframe tbody tr th {\n",
       "        vertical-align: top;\n",
       "    }\n",
       "\n",
       "    .dataframe thead th {\n",
       "        text-align: right;\n",
       "    }\n",
       "</style>\n",
       "<table border=\"1\" class=\"dataframe\">\n",
       "  <thead>\n",
       "    <tr style=\"text-align: right;\">\n",
       "      <th></th>\n",
       "      <th>FRAUDNET_SCORE</th>\n",
       "      <th>TOTAL_PRICE</th>\n",
       "      <th>PRICE3</th>\n",
       "      <th>PRICE4</th>\n",
       "      <th>PRICE5</th>\n",
       "      <th>NUM_PORTIN</th>\n",
       "      <th>ACNT_BILL_FNAME_MATCHES</th>\n",
       "      <th>ACNT_BILL_LNAME_MATCHES</th>\n",
       "      <th>ACNT_SHIP_FNAME_MATCHES</th>\n",
       "      <th>ACNT_SHIP_LNAME_MATCHES</th>\n",
       "      <th>...</th>\n",
       "      <th>FPF_HIGH_YELLOW</th>\n",
       "      <th>DENIAL_OF_SERVICES</th>\n",
       "      <th>SHIPPINGMETHOD</th>\n",
       "      <th>EXTERNAL_CREDIT_CHECK_DONE</th>\n",
       "      <th>SKU_vector</th>\n",
       "      <th>carrier_vector</th>\n",
       "      <th>make_vector</th>\n",
       "      <th>type_vector</th>\n",
       "      <th>model_vector</th>\n",
       "      <th>ACTIVE_WATCH_RESULT</th>\n",
       "    </tr>\n",
       "  </thead>\n",
       "  <tbody>\n",
       "    <tr>\n",
       "      <th>0</th>\n",
       "      <td>0.0</td>\n",
       "      <td>1554.60</td>\n",
       "      <td>119.99</td>\n",
       "      <td>119.99</td>\n",
       "      <td>0.0</td>\n",
       "      <td>0</td>\n",
       "      <td>1</td>\n",
       "      <td>1</td>\n",
       "      <td>1</td>\n",
       "      <td>1</td>\n",
       "      <td>...</td>\n",
       "      <td>N</td>\n",
       "      <td>N</td>\n",
       "      <td>2Days</td>\n",
       "      <td>N</td>\n",
       "      <td>[0, 0, 0, 0, 0, 0, 0, 0, 0, 0, 0, 0, 0, 0, 0, ...</td>\n",
       "      <td>[0, 0, 0, 0, 0]</td>\n",
       "      <td>[1, 0, 0, 0, 0, 0, 0, 0, 2, 0, 0, 0, 0, 0, 2, ...</td>\n",
       "      <td>[1, 0, 4, 0, 0]</td>\n",
       "      <td>[1, 0, 0, 0, 0, 0, 0, 0, 0, 0, 2, 0, 0, 0, 0, ...</td>\n",
       "      <td>0</td>\n",
       "    </tr>\n",
       "    <tr>\n",
       "      <th>1</th>\n",
       "      <td>0.0</td>\n",
       "      <td>0.00</td>\n",
       "      <td>0.00</td>\n",
       "      <td>0.00</td>\n",
       "      <td>0.0</td>\n",
       "      <td>1</td>\n",
       "      <td>1</td>\n",
       "      <td>1</td>\n",
       "      <td>1</td>\n",
       "      <td>1</td>\n",
       "      <td>...</td>\n",
       "      <td>N</td>\n",
       "      <td>N</td>\n",
       "      <td>2Days</td>\n",
       "      <td>N</td>\n",
       "      <td>[0, 0, 0, 0, 0, 0, 0, 0, 0, 0, 0, 0, 0, 0, 0, ...</td>\n",
       "      <td>[21, 0, 0, 0, 0]</td>\n",
       "      <td>[4, 0, 0, 0, 0, 0, 0, 0, 0, 0, 0, 0, 0, 0, 1, ...</td>\n",
       "      <td>[4, 0, 1, 0, 0]</td>\n",
       "      <td>[4, 0, 0, 0, 0, 0, 0, 0, 0, 0, 0, 0, 0, 0, 0, ...</td>\n",
       "      <td>1</td>\n",
       "    </tr>\n",
       "    <tr>\n",
       "      <th>2</th>\n",
       "      <td>0.0</td>\n",
       "      <td>1080.09</td>\n",
       "      <td>0.00</td>\n",
       "      <td>0.00</td>\n",
       "      <td>0.0</td>\n",
       "      <td>1</td>\n",
       "      <td>1</td>\n",
       "      <td>1</td>\n",
       "      <td>1</td>\n",
       "      <td>1</td>\n",
       "      <td>...</td>\n",
       "      <td>N</td>\n",
       "      <td>N</td>\n",
       "      <td>2Days</td>\n",
       "      <td>N</td>\n",
       "      <td>[0, 0, 0, 0, 0, 0, 0, 0, 0, 0, 0, 0, 0, 0, 0, ...</td>\n",
       "      <td>[2, 0, 0, 0, 0]</td>\n",
       "      <td>[4, 0, 0, 0, 0, 0, 0, 0, 0, 0, 0, 0, 0, 0, 1, ...</td>\n",
       "      <td>[4, 0, 1, 0, 0]</td>\n",
       "      <td>[4, 0, 0, 0, 0, 0, 0, 0, 0, 0, 0, 0, 0, 0, 0, ...</td>\n",
       "      <td>1</td>\n",
       "    </tr>\n",
       "    <tr>\n",
       "      <th>3</th>\n",
       "      <td>0.0</td>\n",
       "      <td>593.97</td>\n",
       "      <td>0.00</td>\n",
       "      <td>0.00</td>\n",
       "      <td>0.0</td>\n",
       "      <td>0</td>\n",
       "      <td>1</td>\n",
       "      <td>1</td>\n",
       "      <td>1</td>\n",
       "      <td>1</td>\n",
       "      <td>...</td>\n",
       "      <td>N</td>\n",
       "      <td>N</td>\n",
       "      <td>2Days</td>\n",
       "      <td>Y</td>\n",
       "      <td>[0, 0, 0, 0, 0, 0, 0, 0, 0, 0, 0, 0, 0, 0, 0, ...</td>\n",
       "      <td>[0, 0, 0, 0, 0]</td>\n",
       "      <td>[4, 0, 0, 0, 0, 0, 0, 0, 0, 0, 0, 0, 0, 0, 1, ...</td>\n",
       "      <td>[4, 0, 1, 0, 0]</td>\n",
       "      <td>[4, 0, 0, 0, 0, 1, 0, 0, 0, 0, 0, 0, 0, 0, 0, ...</td>\n",
       "      <td>1</td>\n",
       "    </tr>\n",
       "    <tr>\n",
       "      <th>4</th>\n",
       "      <td>0.0</td>\n",
       "      <td>0.00</td>\n",
       "      <td>0.00</td>\n",
       "      <td>0.00</td>\n",
       "      <td>0.0</td>\n",
       "      <td>1</td>\n",
       "      <td>1</td>\n",
       "      <td>1</td>\n",
       "      <td>1</td>\n",
       "      <td>1</td>\n",
       "      <td>...</td>\n",
       "      <td>N</td>\n",
       "      <td>N</td>\n",
       "      <td>2Days</td>\n",
       "      <td>N</td>\n",
       "      <td>[0, 0, 0, 0, 0, 0, 0, 0, 0, 0, 0, 0, 0, 0, 0, ...</td>\n",
       "      <td>[13, 0, 0, 0, 0]</td>\n",
       "      <td>[4, 0, 0, 0, 0, 0, 0, 0, 0, 0, 0, 0, 0, 0, 1, ...</td>\n",
       "      <td>[4, 0, 1, 0, 0]</td>\n",
       "      <td>[4, 0, 0, 0, 0, 0, 0, 0, 0, 0, 0, 0, 0, 0, 0, ...</td>\n",
       "      <td>1</td>\n",
       "    </tr>\n",
       "  </tbody>\n",
       "</table>\n",
       "<p>5 rows × 57 columns</p>\n",
       "</div>"
      ],
      "text/plain": [
       "   FRAUDNET_SCORE  TOTAL_PRICE  PRICE3  PRICE4  PRICE5  NUM_PORTIN  \\\n",
       "0             0.0      1554.60  119.99  119.99     0.0           0   \n",
       "1             0.0         0.00    0.00    0.00     0.0           1   \n",
       "2             0.0      1080.09    0.00    0.00     0.0           1   \n",
       "3             0.0       593.97    0.00    0.00     0.0           0   \n",
       "4             0.0         0.00    0.00    0.00     0.0           1   \n",
       "\n",
       "   ACNT_BILL_FNAME_MATCHES  ACNT_BILL_LNAME_MATCHES  ACNT_SHIP_FNAME_MATCHES  \\\n",
       "0                        1                        1                        1   \n",
       "1                        1                        1                        1   \n",
       "2                        1                        1                        1   \n",
       "3                        1                        1                        1   \n",
       "4                        1                        1                        1   \n",
       "\n",
       "   ACNT_SHIP_LNAME_MATCHES         ...           FPF_HIGH_YELLOW  \\\n",
       "0                        1         ...                         N   \n",
       "1                        1         ...                         N   \n",
       "2                        1         ...                         N   \n",
       "3                        1         ...                         N   \n",
       "4                        1         ...                         N   \n",
       "\n",
       "   DENIAL_OF_SERVICES  SHIPPINGMETHOD  EXTERNAL_CREDIT_CHECK_DONE  \\\n",
       "0                   N           2Days                           N   \n",
       "1                   N           2Days                           N   \n",
       "2                   N           2Days                           N   \n",
       "3                   N           2Days                           Y   \n",
       "4                   N           2Days                           N   \n",
       "\n",
       "                                          SKU_vector    carrier_vector  \\\n",
       "0  [0, 0, 0, 0, 0, 0, 0, 0, 0, 0, 0, 0, 0, 0, 0, ...   [0, 0, 0, 0, 0]   \n",
       "1  [0, 0, 0, 0, 0, 0, 0, 0, 0, 0, 0, 0, 0, 0, 0, ...  [21, 0, 0, 0, 0]   \n",
       "2  [0, 0, 0, 0, 0, 0, 0, 0, 0, 0, 0, 0, 0, 0, 0, ...   [2, 0, 0, 0, 0]   \n",
       "3  [0, 0, 0, 0, 0, 0, 0, 0, 0, 0, 0, 0, 0, 0, 0, ...   [0, 0, 0, 0, 0]   \n",
       "4  [0, 0, 0, 0, 0, 0, 0, 0, 0, 0, 0, 0, 0, 0, 0, ...  [13, 0, 0, 0, 0]   \n",
       "\n",
       "                                         make_vector      type_vector  \\\n",
       "0  [1, 0, 0, 0, 0, 0, 0, 0, 2, 0, 0, 0, 0, 0, 2, ...  [1, 0, 4, 0, 0]   \n",
       "1  [4, 0, 0, 0, 0, 0, 0, 0, 0, 0, 0, 0, 0, 0, 1, ...  [4, 0, 1, 0, 0]   \n",
       "2  [4, 0, 0, 0, 0, 0, 0, 0, 0, 0, 0, 0, 0, 0, 1, ...  [4, 0, 1, 0, 0]   \n",
       "3  [4, 0, 0, 0, 0, 0, 0, 0, 0, 0, 0, 0, 0, 0, 1, ...  [4, 0, 1, 0, 0]   \n",
       "4  [4, 0, 0, 0, 0, 0, 0, 0, 0, 0, 0, 0, 0, 0, 1, ...  [4, 0, 1, 0, 0]   \n",
       "\n",
       "                                        model_vector  ACTIVE_WATCH_RESULT  \n",
       "0  [1, 0, 0, 0, 0, 0, 0, 0, 0, 0, 2, 0, 0, 0, 0, ...                    0  \n",
       "1  [4, 0, 0, 0, 0, 0, 0, 0, 0, 0, 0, 0, 0, 0, 0, ...                    1  \n",
       "2  [4, 0, 0, 0, 0, 0, 0, 0, 0, 0, 0, 0, 0, 0, 0, ...                    1  \n",
       "3  [4, 0, 0, 0, 0, 1, 0, 0, 0, 0, 0, 0, 0, 0, 0, ...                    1  \n",
       "4  [4, 0, 0, 0, 0, 0, 0, 0, 0, 0, 0, 0, 0, 0, 0, ...                    1  \n",
       "\n",
       "[5 rows x 57 columns]"
      ]
     },
     "execution_count": 14,
     "metadata": {},
     "output_type": "execute_result"
    }
   ],
   "source": [
    "ivr_df.head()"
   ]
  },
  {
   "cell_type": "code",
   "execution_count": 15,
   "metadata": {},
   "outputs": [
    {
     "data": {
      "text/plain": [
       "(244154, 57)"
      ]
     },
     "execution_count": 15,
     "metadata": {},
     "output_type": "execute_result"
    }
   ],
   "source": [
    "ivr_df.shape"
   ]
  },
  {
   "cell_type": "code",
   "execution_count": 58,
   "metadata": {},
   "outputs": [
    {
     "data": {
      "text/plain": [
       "FRAUDNET_SCORE                float64\n",
       "TOTAL_PRICE                   float64\n",
       "PRICE3                        float64\n",
       "PRICE4                        float64\n",
       "PRICE5                        float64\n",
       "NUM_PORTIN                      int64\n",
       "ACNT_BILL_FNAME_MATCHES         int64\n",
       "ACNT_BILL_LNAME_MATCHES         int64\n",
       "ACNT_SHIP_FNAME_MATCHES         int64\n",
       "ACNT_SHIP_LNAME_MATCHES         int64\n",
       "SHIP_BILL_FNAME_MATCHES         int64\n",
       "SHIP_BILL_LNAME_MATCHES         int64\n",
       "BILL_SHIP_ADDR_MATCHES          int64\n",
       "EMAIL                           int64\n",
       "IP_ADDRESS                      int64\n",
       "PHONE_MATCHES                   int64\n",
       "NUM_BYOD                        int64\n",
       "INSTALLMENT_AMOUNT            float64\n",
       "ONETIMECHARGE                 float64\n",
       "MONTHLYRECURRINGCHARGE        float64\n",
       "BYOD_RETRY_COUNT                int64\n",
       "PREORDER_LINES                float64\n",
       "ALLOWED_LINES                   int64\n",
       "APPROVED_LINES                  int64\n",
       "EXTERNAL_APPROVED_LINES         int64\n",
       "FIRST_PARTY_ID_SCORE            int64\n",
       "THIRD_PARTY_ID_SCORE            int64\n",
       "PRICE1                        float64\n",
       "PRICE2                        float64\n",
       "ORDER_CREATED_DATE            float64\n",
       "EXPERIAN_RESPONSE_1            object\n",
       "EXPERIAN_RESPONSE_2            object\n",
       "ORDER_EXCHANGE                 object\n",
       "TPF_HIGH_YELLOW                object\n",
       "IDA_RESULT                     object\n",
       "BLACKLIST_EMAIL                object\n",
       "FRAUDNET_RESULT                object\n",
       "YELLOW_SKU                     object\n",
       "SHIPPING_STATE                 object\n",
       "SALES_CHANNEL                  object\n",
       "BILLING_STATE                  object\n",
       "ACCOUNT_NUMBER                  int64\n",
       "IS_EXISTING_CUSTOMER           object\n",
       "LINE_LIMIT_REACHED             object\n",
       "SSN_BLACKLISTED                object\n",
       "INTERNAL_CREDIT_CHECK_DONE     object\n",
       "DEVICE_AT_HOME                 object\n",
       "FPF_HIGH_YELLOW                object\n",
       "DENIAL_OF_SERVICES             object\n",
       "SHIPPINGMETHOD                 object\n",
       "EXTERNAL_CREDIT_CHECK_DONE     object\n",
       "SKU_vector                     object\n",
       "carrier_vector                 object\n",
       "make_vector                    object\n",
       "type_vector                    object\n",
       "model_vector                   object\n",
       "ACTIVE_WATCH_RESULT             int64\n",
       "dtype: object"
      ]
     },
     "execution_count": 58,
     "metadata": {},
     "output_type": "execute_result"
    }
   ],
   "source": [
    "ivr_df.dtypes"
   ]
  },
  {
   "cell_type": "code",
   "execution_count": 16,
   "metadata": {},
   "outputs": [],
   "source": [
    "from sklearn.model_selection import train_test_split\n",
    "\n",
    "train_df, test_df = train_test_split(ivr_df, test_size=0.2)"
   ]
  },
  {
   "cell_type": "code",
   "execution_count": 17,
   "metadata": {},
   "outputs": [],
   "source": [
    "# train_df = pd.read_feather(f'{PATH}joined')\n",
    "# test_df = pd.read_feather(f'{PATH}joined_test')"
   ]
  },
  {
   "cell_type": "code",
   "execution_count": 18,
   "metadata": {},
   "outputs": [
    {
     "data": {
      "text/plain": [
       "(195323, 48831)"
      ]
     },
     "execution_count": 18,
     "metadata": {},
     "output_type": "execute_result"
    }
   ],
   "source": [
    "len(train_df),len(test_df)"
   ]
  },
  {
   "cell_type": "code",
   "execution_count": 19,
   "metadata": {},
   "outputs": [],
   "source": [
    "import sys\n",
    "# sys.path.append(\"/mnt/azmnt/code/Users/bho829/fastai\")\n",
    "sys.path.append(\"/mnt/azmnt/code/Users/bho829/fastai/fastai\")"
   ]
  },
  {
   "cell_type": "code",
   "execution_count": 20,
   "metadata": {},
   "outputs": [],
   "source": [
    "from xfinity.fastai.tabular.transform import *"
   ]
  },
  {
   "cell_type": "code",
   "execution_count": 21,
   "metadata": {},
   "outputs": [],
   "source": [
    "procs=[FillMissing, Categorify, Normalize]"
   ]
  },
  {
   "cell_type": "code",
   "execution_count": 22,
   "metadata": {},
   "outputs": [],
   "source": [
    "vec_vars = []   # leave out for now\n",
    "cat_vars = ['EXPERIAN_RESPONSE_1', 'EXPERIAN_RESPONSE_2', 'ORDER_EXCHANGE',\n",
    "       'TPF_HIGH_YELLOW', 'IDA_RESULT', 'BLACKLIST_EMAIL', 'FRAUDNET_RESULT',\n",
    "       'YELLOW_SKU', 'SHIPPING_STATE', 'SALES_CHANNEL', 'BILLING_STATE',\n",
    "       'ACCOUNT_NUMBER', 'IS_EXISTING_CUSTOMER', 'LINE_LIMIT_REACHED',\n",
    "       'SSN_BLACKLISTED', 'INTERNAL_CREDIT_CHECK_DONE', 'DEVICE_AT_HOME',\n",
    "       'FPF_HIGH_YELLOW', 'DENIAL_OF_SERVICES', 'SHIPPINGMETHOD',\n",
    "       'EXTERNAL_CREDIT_CHECK_DONE']\n",
    "cont_vars = ['FRAUDNET_SCORE',\n",
    " 'TOTAL_PRICE',\n",
    " 'PRICE3',\n",
    " 'PRICE4',\n",
    " 'PRICE5',\n",
    " 'NUM_PORTIN',\n",
    " 'ACNT_BILL_FNAME_MATCHES',\n",
    " 'ACNT_BILL_LNAME_MATCHES',\n",
    " 'ACNT_SHIP_FNAME_MATCHES',\n",
    " 'ACNT_SHIP_LNAME_MATCHES',\n",
    " 'SHIP_BILL_FNAME_MATCHES',\n",
    " 'SHIP_BILL_LNAME_MATCHES',\n",
    " 'BILL_SHIP_ADDR_MATCHES',\n",
    " 'EMAIL',\n",
    " 'IP_ADDRESS',\n",
    " 'PHONE_MATCHES',\n",
    " 'NUM_BYOD',\n",
    " 'INSTALLMENT_AMOUNT',\n",
    " 'ONETIMECHARGE',\n",
    " 'MONTHLYRECURRINGCHARGE',\n",
    " 'BYOD_RETRY_COUNT',\n",
    " 'PREORDER_LINES',\n",
    " 'ALLOWED_LINES',\n",
    " 'APPROVED_LINES',\n",
    " 'EXTERNAL_APPROVED_LINES',\n",
    " 'FIRST_PARTY_ID_SCORE',\n",
    " 'THIRD_PARTY_ID_SCORE',\n",
    " 'PRICE1',\n",
    " 'PRICE2',\n",
    " 'ORDER_CREATED_DATE']"
   ]
  },
  {
   "cell_type": "code",
   "execution_count": 23,
   "metadata": {},
   "outputs": [],
   "source": [
    "# vec_vars = []\n",
    "# cat_vars = ['Store', 'DayOfWeek', 'Year', 'Month', 'Day', 'StateHoliday', 'CompetitionMonthsOpen',\n",
    "#     'Promo2Weeks', 'StoreType', 'Assortment', 'PromoInterval', 'CompetitionOpenSinceYear', 'Promo2SinceYear',\n",
    "#     'State', 'Week', 'Events', 'Promo_fw', 'Promo_bw', 'StateHoliday_fw', 'StateHoliday_bw',\n",
    "#     'SchoolHoliday_fw', 'SchoolHoliday_bw']\n",
    "\n",
    "# cont_vars = ['CompetitionDistance', 'Max_TemperatureC', 'Mean_TemperatureC', 'Min_TemperatureC',\n",
    "#    'Max_Humidity', 'Mean_Humidity', 'Min_Humidity', 'Max_Wind_SpeedKm_h', \n",
    "#    'Mean_Wind_SpeedKm_h', 'CloudCover', 'trend', 'trend_DE',\n",
    "#    'AfterStateHoliday', 'BeforeStateHoliday', 'Promo', 'SchoolHoliday']"
   ]
  },
  {
   "cell_type": "code",
   "execution_count": 24,
   "metadata": {},
   "outputs": [],
   "source": [
    "# train_df['CompetitionDistance'].head(20)"
   ]
  },
  {
   "cell_type": "code",
   "execution_count": 25,
   "metadata": {},
   "outputs": [
    {
     "data": {
      "text/plain": [
       "21"
      ]
     },
     "execution_count": 25,
     "metadata": {},
     "output_type": "execute_result"
    }
   ],
   "source": [
    "len(cat_vars)"
   ]
  },
  {
   "cell_type": "code",
   "execution_count": 26,
   "metadata": {},
   "outputs": [
    {
     "data": {
      "text/plain": [
       "30"
      ]
     },
     "execution_count": 26,
     "metadata": {},
     "output_type": "execute_result"
    }
   ],
   "source": [
    "len(cont_vars)"
   ]
  },
  {
   "cell_type": "code",
   "execution_count": 27,
   "metadata": {},
   "outputs": [],
   "source": [
    "dep_var = 'ACTIVE_WATCH_RESULT'\n",
    "df = train_df[vec_vars + cat_vars + cont_vars + [dep_var]].copy()"
   ]
  },
  {
   "cell_type": "code",
   "execution_count": 28,
   "metadata": {},
   "outputs": [],
   "source": [
    "# test_df['Date'].min(), test_df['Date'].max()"
   ]
  },
  {
   "cell_type": "code",
   "execution_count": 29,
   "metadata": {},
   "outputs": [],
   "source": [
    "# cut = train_df['Date'][(train_df['Date'] == train_df['Date'][len(test_df)])].index.max()\n",
    "# cut"
   ]
  },
  {
   "cell_type": "code",
   "execution_count": 30,
   "metadata": {},
   "outputs": [
    {
     "data": {
      "text/plain": [
       "(195323, 57)"
      ]
     },
     "execution_count": 30,
     "metadata": {},
     "output_type": "execute_result"
    }
   ],
   "source": [
    "train_df.shape"
   ]
  },
  {
   "cell_type": "code",
   "execution_count": 31,
   "metadata": {},
   "outputs": [
    {
     "data": {
      "text/plain": [
       "(48831, 57)"
      ]
     },
     "execution_count": 31,
     "metadata": {},
     "output_type": "execute_result"
    }
   ],
   "source": [
    "test_df.shape"
   ]
  },
  {
   "cell_type": "code",
   "execution_count": 32,
   "metadata": {},
   "outputs": [],
   "source": [
    "# valid_idx = range(cut)"
   ]
  },
  {
   "cell_type": "code",
   "execution_count": 33,
   "metadata": {},
   "outputs": [
    {
     "data": {
      "text/plain": [
       "176049    1\n",
       "175837    0\n",
       "139826    1\n",
       "30294     1\n",
       "220270    0\n",
       "Name: ACTIVE_WATCH_RESULT, dtype: int64"
      ]
     },
     "execution_count": 33,
     "metadata": {},
     "output_type": "execute_result"
    }
   ],
   "source": [
    "df[dep_var].head()"
   ]
  },
  {
   "cell_type": "code",
   "execution_count": 34,
   "metadata": {},
   "outputs": [],
   "source": [
    "from xfinity.fastai.tabular.data import *"
   ]
  },
  {
   "cell_type": "code",
   "execution_count": 35,
   "metadata": {},
   "outputs": [],
   "source": [
    "path = PATH"
   ]
  },
  {
   "cell_type": "code",
   "execution_count": 36,
   "metadata": {},
   "outputs": [],
   "source": [
    "from xfinity.fastai.data_block import FloatList"
   ]
  },
  {
   "cell_type": "code",
   "execution_count": 37,
   "metadata": {},
   "outputs": [],
   "source": [
    "valid_idx = range(0, 40000)"
   ]
  },
  {
   "cell_type": "code",
   "execution_count": 38,
   "metadata": {},
   "outputs": [
    {
     "name": "stderr",
     "output_type": "stream",
     "text": [
      "/mnt/azmnt/code/Users/bho829/IVR/xfinity/fastai/data_block.py:447: RuntimeWarning: divide by zero encountered in log\n",
      "  return FloatItem(np.log(o) if self.log else o)\n"
     ]
    }
   ],
   "source": [
    "data = (TabularList.from_df(df, path=path, vec_names=vec_vars, cat_names=cat_vars, cont_names=cont_vars, procs=procs,)\n",
    "                .random_split_by_pct(valid_pct=0.2, seed=43)\n",
    "                .label_from_df(cols = dep_var)\n",
    "                .add_test(TabularList.from_df(test_df, path=path, vec_names=vec_vars, cat_names=cat_vars, cont_names=cont_vars), label=0)\n",
    "                .databunch())"
   ]
  },
  {
   "cell_type": "code",
   "execution_count": 39,
   "metadata": {},
   "outputs": [
    {
     "data": {
      "text/plain": [
       "xfinity.fastai.tabular.data.TabularDataBunch"
      ]
     },
     "execution_count": 39,
     "metadata": {},
     "output_type": "execute_result"
    }
   ],
   "source": [
    "type(data)"
   ]
  },
  {
   "cell_type": "code",
   "execution_count": 40,
   "metadata": {},
   "outputs": [],
   "source": [
    "# data.x"
   ]
  },
  {
   "cell_type": "code",
   "execution_count": 41,
   "metadata": {},
   "outputs": [],
   "source": [
    "# from xfinity.fastai.gen_doc.nbdoc import doc\n",
    "\n",
    "# doc(FloatList)"
   ]
  },
  {
   "cell_type": "code",
   "execution_count": 42,
   "metadata": {},
   "outputs": [],
   "source": [
    "from xfinity.fastai.torch_core import *"
   ]
  },
  {
   "cell_type": "code",
   "execution_count": 43,
   "metadata": {},
   "outputs": [],
   "source": [
    "from xfinity.fastai.tabular.learner import tabular_ext_learner"
   ]
  },
  {
   "cell_type": "code",
   "execution_count": 44,
   "metadata": {},
   "outputs": [],
   "source": [
    "from xfinity.fastai.metrics import accuracy"
   ]
  },
  {
   "cell_type": "code",
   "execution_count": 45,
   "metadata": {},
   "outputs": [],
   "source": [
    "learn = tabular_ext_learner(data, layers=[1000,500], ps=[0.001,0.01], emb_drop=0.04, \n",
    "                        metrics=accuracy)\n"
   ]
  },
  {
   "cell_type": "code",
   "execution_count": 46,
   "metadata": {},
   "outputs": [
    {
     "data": {
      "text/plain": [
       "FlattenedLoss of MSELoss()"
      ]
     },
     "execution_count": 46,
     "metadata": {},
     "output_type": "execute_result"
    }
   ],
   "source": [
    "learn.loss_func"
   ]
  },
  {
   "cell_type": "code",
   "execution_count": 47,
   "metadata": {},
   "outputs": [],
   "source": [
    "# learn.data.train_dl"
   ]
  },
  {
   "cell_type": "code",
   "execution_count": 48,
   "metadata": {},
   "outputs": [],
   "source": [
    "# for i, dl in enumerate(learn.data.train_dl):\n",
    "#     if i > 0:\n",
    "#         break\n",
    "#     print('i={}'.format(i))\n",
    "#     print(dl)\n"
   ]
  },
  {
   "cell_type": "code",
   "execution_count": 49,
   "metadata": {},
   "outputs": [],
   "source": [
    "# learn.model"
   ]
  },
  {
   "cell_type": "code",
   "execution_count": 50,
   "metadata": {},
   "outputs": [],
   "source": [
    "# len(data.train_ds.cont_names)"
   ]
  },
  {
   "cell_type": "code",
   "execution_count": 50,
   "metadata": {},
   "outputs": [
    {
     "data": {
      "text/html": [
       "\n",
       "    <div>\n",
       "        <style>\n",
       "            /* Turns off some styling */\n",
       "            progress {\n",
       "                /* gets rid of default border in Firefox and Opera. */\n",
       "                border: none;\n",
       "                /* Needs to be in here for Safari polyfill so background images work as expected. */\n",
       "                background-size: auto;\n",
       "            }\n",
       "            .progress-bar-interrupted, .progress-bar-interrupted::-webkit-progress-bar {\n",
       "                background: #F44336;\n",
       "            }\n",
       "        </style>\n",
       "      <progress value='0' class='' max='1', style='width:300px; height:20px; vertical-align: middle;'></progress>\n",
       "      0.00% [0/1 00:00<00:00]\n",
       "    </div>\n",
       "    \n",
       "<table border=\"1\" class=\"dataframe\">\n",
       "  <thead>\n",
       "    <tr style=\"text-align: left;\">\n",
       "      <th>epoch</th>\n",
       "      <th>train_loss</th>\n",
       "      <th>valid_loss</th>\n",
       "      <th>accuracy</th>\n",
       "      <th>time</th>\n",
       "    </tr>\n",
       "  </thead>\n",
       "  <tbody>\n",
       "  </tbody>\n",
       "</table><p>\n",
       "\n",
       "    <div>\n",
       "        <style>\n",
       "            /* Turns off some styling */\n",
       "            progress {\n",
       "                /* gets rid of default border in Firefox and Opera. */\n",
       "                border: none;\n",
       "                /* Needs to be in here for Safari polyfill so background images work as expected. */\n",
       "                background-size: auto;\n",
       "            }\n",
       "            .progress-bar-interrupted, .progress-bar-interrupted::-webkit-progress-bar {\n",
       "                background: #F44336;\n",
       "            }\n",
       "        </style>\n",
       "      <progress value='1' class='' max='2426', style='width:300px; height:20px; vertical-align: middle;'></progress>\n",
       "      0.04% [1/2426 00:01<54:18 inf]\n",
       "    </div>\n",
       "    "
      ],
      "text/plain": [
       "<IPython.core.display.HTML object>"
      ]
     },
     "metadata": {},
     "output_type": "display_data"
    },
    {
     "name": "stdout",
     "output_type": "stream",
     "text": [
      "epoch 0\n",
      "self.sched.is_done=False\n",
      "self.stop_div=True\n",
      "smooth_loss=nan\n",
      "self.best_loss=inf\n",
      "torch.isnan(smooth_loss)=True\n",
      "call break on epoch end\n",
      "LR Finder is complete, type {learner_name}.recorder.plot() to see the graph.\n"
     ]
    }
   ],
   "source": [
    "learn.lr_find()"
   ]
  },
  {
   "cell_type": "code",
   "execution_count": 53,
   "metadata": {},
   "outputs": [
    {
     "data": {
      "image/png": "[encoded data removed]",
      "text/plain": [
       "<Figure size 432x288 with 1 Axes>"
      ]
     },
     "metadata": {
      "needs_background": "light"
     },
     "output_type": "display_data"
    }
   ],
   "source": [
    "learn.recorder.plot()"
   ]
  },
  {
   "cell_type": "code",
   "execution_count": 51,
   "metadata": {},
   "outputs": [
    {
     "data": {
      "text/html": [
       "\n",
       "    <div>\n",
       "        <style>\n",
       "            /* Turns off some styling */\n",
       "            progress {\n",
       "                /* gets rid of default border in Firefox and Opera. */\n",
       "                border: none;\n",
       "                /* Needs to be in here for Safari polyfill so background images work as expected. */\n",
       "                background-size: auto;\n",
       "            }\n",
       "            .progress-bar-interrupted, .progress-bar-interrupted::-webkit-progress-bar {\n",
       "                background: #F44336;\n",
       "            }\n",
       "        </style>\n",
       "      <progress value='0' class='' max='5', style='width:300px; height:20px; vertical-align: middle;'></progress>\n",
       "      0.00% [0/5 00:00<00:00]\n",
       "    </div>\n",
       "    \n",
       "<table border=\"1\" class=\"dataframe\">\n",
       "  <thead>\n",
       "    <tr style=\"text-align: left;\">\n",
       "      <th>epoch</th>\n",
       "      <th>train_loss</th>\n",
       "      <th>valid_loss</th>\n",
       "      <th>accuracy</th>\n",
       "      <th>time</th>\n",
       "    </tr>\n",
       "  </thead>\n",
       "  <tbody>\n",
       "  </tbody>\n",
       "</table><p>\n",
       "\n",
       "    <div>\n",
       "        <style>\n",
       "            /* Turns off some styling */\n",
       "            progress {\n",
       "                /* gets rid of default border in Firefox and Opera. */\n",
       "                border: none;\n",
       "                /* Needs to be in here for Safari polyfill so background images work as expected. */\n",
       "                background-size: auto;\n",
       "            }\n",
       "            .progress-bar-interrupted, .progress-bar-interrupted::-webkit-progress-bar {\n",
       "                background: #F44336;\n",
       "            }\n",
       "        </style>\n",
       "      <progress value='5' class='' max='2426', style='width:300px; height:20px; vertical-align: middle;'></progress>\n",
       "      0.21% [5/2426 00:04<34:26 nan]\n",
       "    </div>\n",
       "    "
      ],
      "text/plain": [
       "<IPython.core.display.HTML object>"
      ]
     },
     "metadata": {},
     "output_type": "display_data"
    },
    {
     "name": "stdout",
     "output_type": "stream",
     "text": [
      "epoch 0\n",
      "process n_embs\n",
      "x_cat shape=torch.Size([64, 21])\n",
      "x_cat=tensor([[ 0,  0,  2,  ...,  1,  2,  1],\n",
      "        [ 0,  0,  0,  ...,  1,  1,  2],\n",
      "        [ 0,  0,  0,  ...,  1,  1,  1],\n",
      "        ...,\n",
      "        [ 0,  0,  0,  ...,  1,  1,  1],\n",
      "        [ 0,  0,  0,  ...,  1,  1,  2],\n",
      "        [ 4, 85,  0,  ...,  1,  1,  2]])\n",
      "process n_cont\n",
      "x_cont shape=torch.Size([64, 30])\n",
      "x_cont=tensor([[-0.3235, -0.7398, -0.1573,  ..., -1.2570, -0.3687, -2.0250],\n",
      "        [-0.3235,  0.4576, -0.1573,  ...,  0.7672, -0.3687, -1.5965],\n",
      "        [-0.3235,  1.1226, -0.1573,  ..., -0.0457,  2.2602,  0.5597],\n",
      "        ...,\n",
      "        [-0.3235,  1.0793, -0.1573,  ...,  1.7156, -0.3687,  0.4112],\n",
      "        [-0.3235, -0.6626, -0.1573,  ..., -1.0213, -0.3687, -1.9969],\n",
      "        [ 6.0022, -0.0656, -0.1573,  ..., -0.1270, -0.3687, -1.2503]])\n",
      "process n_embs\n",
      "x_cat shape=torch.Size([64, 21])\n",
      "x_cat=tensor([[ 0,  0,  0,  ...,  1,  1,  2],\n",
      "        [ 0,  0,  0,  ...,  1,  1,  1],\n",
      "        [ 0,  0,  0,  ...,  1,  1,  2],\n",
      "        ...,\n",
      "        [ 0,  0,  0,  ...,  1,  1,  1],\n",
      "        [ 1, 16,  0,  ...,  1,  1,  2],\n",
      "        [ 0,  0,  0,  ...,  1,  1,  2]])\n",
      "process n_cont\n",
      "x_cont shape=torch.Size([64, 30])\n",
      "x_cont=tensor([[-3.2349e-01, -7.3664e-01, -1.5727e-01,  ..., -1.2570e+00,\n",
      "         -3.6868e-01, -1.1499e-01],\n",
      "        [-3.2349e-01,  5.0035e+00,  6.8200e+00,  ...,  7.6720e-01,\n",
      "          3.0113e+00, -1.1790e+00],\n",
      "        [-3.2349e-01,  8.1683e-01, -1.5727e-01,  ...,  1.3092e+00,\n",
      "         -3.6868e-01,  5.6357e-01],\n",
      "        ...,\n",
      "        [-3.2349e-01,  1.5752e-01,  1.7033e+00,  ..., -1.0213e+00,\n",
      "          5.3262e-01, -1.7475e+00],\n",
      "        [ 4.2070e-01, -4.4175e-01, -1.5727e-01,  ..., -7.2319e-01,\n",
      "         -3.6868e-01,  1.3097e-01],\n",
      "        [-3.2349e-01, -6.4004e-01, -1.5727e-01,  ..., -1.0213e+00,\n",
      "         -3.6868e-01, -3.4650e-03]])\n",
      "process n_embs\n",
      "x_cat shape=torch.Size([64, 21])\n",
      "x_cat=tensor([[0, 0, 0,  ..., 1, 1, 2],\n",
      "        [0, 0, 0,  ..., 1, 1, 1],\n",
      "        [0, 0, 0,  ..., 1, 1, 2],\n",
      "        ...,\n",
      "        [0, 0, 0,  ..., 1, 1, 2],\n",
      "        [0, 0, 0,  ..., 1, 1, 2],\n",
      "        [0, 0, 0,  ..., 1, 1, 1]])\n",
      "process n_cont\n",
      "x_cont shape=torch.Size([64, 30])\n",
      "x_cont=tensor([[-0.3235,  0.9687, -0.1573,  ..., -0.0457,  1.8846,  0.7391],\n",
      "        [-0.3235, -0.2728, -0.1573,  ..., -0.5877, -0.3687, -0.2881],\n",
      "        [-0.3235, -0.0201, -0.1573,  ..., -0.0457, -0.3687,  1.3924],\n",
      "        ...,\n",
      "        [-0.3235, -1.0388, -0.1573,  ...,  0.1439, -0.3687,  0.5965],\n",
      "        [-0.3235, -0.0877, -0.1573,  ..., -0.1812, -0.3687,  0.4450],\n",
      "        [-0.3235, -0.0890, -0.1573,  ..., -0.1812, -0.3687,  0.8839]])\n",
      "process n_embs\n",
      "x_cat shape=torch.Size([64, 21])\n",
      "x_cat=tensor([[ 0,  0,  0,  ...,  1,  1,  1],\n",
      "        [ 0,  0,  0,  ...,  1,  1,  2],\n",
      "        [ 0,  0,  0,  ...,  1,  1,  1],\n",
      "        ...,\n",
      "        [ 1, 16,  0,  ...,  1,  1,  2],\n",
      "        [ 0,  0,  0,  ...,  1,  1,  2],\n",
      "        [ 1, 16,  0,  ...,  1,  1,  1]])\n",
      "process n_cont\n",
      "x_cont shape=torch.Size([64, 30])\n",
      "x_cont=tensor([[-0.3235, -1.0388, -0.1573,  ..., -0.1812, -0.3687, -0.0266],\n",
      "        [-0.3235,  1.9541, -0.1573,  ...,  0.7672,  3.0113,  0.6379],\n",
      "        [-0.3235, -0.0225, -0.1573,  ..., -0.0457, -0.3687, -1.4232],\n",
      "        ...,\n",
      "        [ 0.4207, -1.0388, -0.1573,  ...,  1.3092, -0.3687, -1.1385],\n",
      "        [-0.3235, -0.0225, -0.1573,  ..., -0.0457, -0.3687, -0.3050],\n",
      "        [ 0.4207,  0.8392, -0.1573,  ...,  1.0382, -0.3687, -0.0614]])\n",
      "process n_embs\n",
      "x_cat shape=torch.Size([64, 21])\n",
      "x_cat=tensor([[0, 0, 0,  ..., 1, 1, 2],\n",
      "        [0, 0, 0,  ..., 1, 1, 1],\n",
      "        [0, 0, 0,  ..., 1, 1, 1],\n",
      "        ...,\n",
      "        [0, 0, 0,  ..., 1, 1, 1],\n",
      "        [0, 0, 0,  ..., 1, 1, 1],\n",
      "        [0, 0, 0,  ..., 1, 1, 2]])\n",
      "process n_cont\n",
      "x_cont shape=torch.Size([64, 30])\n",
      "x_cont=tensor([[-0.3235,  1.0597, -0.1573,  ...,  1.7156, -0.3687, -1.3644],\n",
      "        [-0.3235, -1.0388, -0.1573,  ..., -1.6716, -0.3687, -0.3297],\n",
      "        [-0.3235, -1.0388, -0.1573,  ..., -1.6716, -0.3687,  0.1466],\n",
      "        ...,\n",
      "        [-0.3235,  1.1267, -0.1573,  ..., -0.0457,  2.0724,  0.3760],\n",
      "        [-0.3235, -1.0388, -0.1573,  ..., -0.1812, -0.3687,  0.2444],\n",
      "        [-0.3235,  0.8078, -0.1573,  ...,  1.3092, -0.3687, -0.2500]])\n",
      "process n_embs\n",
      "x_cat shape=torch.Size([64, 21])\n",
      "x_cat=tensor([[ 0,  0,  0,  ...,  1,  1,  2],\n",
      "        [ 0,  0,  0,  ...,  1,  1,  2],\n",
      "        [ 1, 16,  0,  ...,  1,  1,  2],\n",
      "        ...,\n",
      "        [ 0,  0,  0,  ...,  1,  1,  1],\n",
      "        [ 0,  0,  0,  ...,  1,  1,  2],\n",
      "        [ 0,  0,  0,  ...,  1,  1,  1]])\n",
      "process n_cont\n",
      "x_cont shape=torch.Size([64, 30])\n",
      "x_cont=tensor([[-0.3235,  1.0498, -0.1573,  ...,  1.7156, -0.3687, -0.4578],\n",
      "        [-0.3235, -1.0388, -0.1573,  ..., -1.6716, -0.3687,  0.2231],\n",
      "        [ 0.4207, -1.0388, -0.1573,  ..., -1.6716, -0.3687, -1.2335],\n",
      "        ...,\n",
      "        [-0.3235, -1.0388, -0.1573,  ..., -0.1812, -0.3687,  0.0877],\n",
      "        [-0.3235,  1.3841, -0.1573,  ...,  2.2576, -0.3687,  1.0226],\n",
      "        [-0.3235, -1.0388, -0.1573,  ..., -0.5877, -0.3687,  1.2454]])\n"
     ]
    },
    {
     "ename": "KeyboardInterrupt",
     "evalue": "",
     "output_type": "error",
     "traceback": [
      "\u001b[0;31m---------------------------------------------------------------------------\u001b[0m",
      "\u001b[0;31mKeyboardInterrupt\u001b[0m                         Traceback (most recent call last)",
      "\u001b[0;32m<ipython-input-51-38ba37a3a754>\u001b[0m in \u001b[0;36m<module>\u001b[0;34m\u001b[0m\n\u001b[0;32m----> 1\u001b[0;31m \u001b[0mlearn\u001b[0m\u001b[0;34m.\u001b[0m\u001b[0mfit_one_cycle\u001b[0m\u001b[0;34m(\u001b[0m\u001b[0;36m5\u001b[0m\u001b[0;34m,\u001b[0m \u001b[0;36m1e-3\u001b[0m\u001b[0;34m,\u001b[0m \u001b[0mwd\u001b[0m\u001b[0;34m=\u001b[0m\u001b[0;36m0.2\u001b[0m\u001b[0;34m)\u001b[0m\u001b[0;34m\u001b[0m\u001b[0;34m\u001b[0m\u001b[0m\n\u001b[0m",
      "\u001b[0;32m/mnt/azmnt/code/Users/bho829/IVR/xfinity/fastai/train.py\u001b[0m in \u001b[0;36mfit_one_cycle\u001b[0;34m(learn, cyc_len, max_lr, moms, div_factor, pct_start, final_div, wd, callbacks, tot_epochs, start_epoch)\u001b[0m\n\u001b[1;32m     21\u001b[0m     callbacks.append(OneCycleScheduler(learn, max_lr, moms=moms, div_factor=div_factor, pct_start=pct_start,\n\u001b[1;32m     22\u001b[0m                                        final_div=final_div, tot_epochs=tot_epochs, start_epoch=start_epoch))\n\u001b[0;32m---> 23\u001b[0;31m     \u001b[0mlearn\u001b[0m\u001b[0;34m.\u001b[0m\u001b[0mfit\u001b[0m\u001b[0;34m(\u001b[0m\u001b[0mcyc_len\u001b[0m\u001b[0;34m,\u001b[0m \u001b[0mmax_lr\u001b[0m\u001b[0;34m,\u001b[0m \u001b[0mwd\u001b[0m\u001b[0;34m=\u001b[0m\u001b[0mwd\u001b[0m\u001b[0;34m,\u001b[0m \u001b[0mcallbacks\u001b[0m\u001b[0;34m=\u001b[0m\u001b[0mcallbacks\u001b[0m\u001b[0;34m)\u001b[0m\u001b[0;34m\u001b[0m\u001b[0;34m\u001b[0m\u001b[0m\n\u001b[0m\u001b[1;32m     24\u001b[0m \u001b[0;34m\u001b[0m\u001b[0m\n\u001b[1;32m     25\u001b[0m def fit_fc(learn:Learner, tot_epochs:int=1, lr:float=defaults.lr,  moms:Tuple[float,float]=(0.95,0.85), start_pct:float=0.72,\n",
      "\u001b[0;32m/mnt/azmnt/code/Users/bho829/IVR/xfinity/fastai/basic_train.py\u001b[0m in \u001b[0;36mfit\u001b[0;34m(self, epochs, lr, wd, callbacks)\u001b[0m\n\u001b[1;32m    224\u001b[0m         \u001b[0;32melse\u001b[0m\u001b[0;34m:\u001b[0m \u001b[0mself\u001b[0m\u001b[0;34m.\u001b[0m\u001b[0mopt\u001b[0m\u001b[0;34m.\u001b[0m\u001b[0mlr\u001b[0m\u001b[0;34m,\u001b[0m\u001b[0mself\u001b[0m\u001b[0;34m.\u001b[0m\u001b[0mopt\u001b[0m\u001b[0;34m.\u001b[0m\u001b[0mwd\u001b[0m \u001b[0;34m=\u001b[0m \u001b[0mlr\u001b[0m\u001b[0;34m,\u001b[0m\u001b[0mwd\u001b[0m\u001b[0;34m\u001b[0m\u001b[0;34m\u001b[0m\u001b[0m\n\u001b[1;32m    225\u001b[0m         \u001b[0mcallbacks\u001b[0m \u001b[0;34m=\u001b[0m \u001b[0;34m[\u001b[0m\u001b[0mcb\u001b[0m\u001b[0;34m(\u001b[0m\u001b[0mself\u001b[0m\u001b[0;34m)\u001b[0m \u001b[0;32mfor\u001b[0m \u001b[0mcb\u001b[0m \u001b[0;32min\u001b[0m \u001b[0mself\u001b[0m\u001b[0;34m.\u001b[0m\u001b[0mcallback_fns\u001b[0m \u001b[0;34m+\u001b[0m \u001b[0mlistify\u001b[0m\u001b[0;34m(\u001b[0m\u001b[0mdefaults\u001b[0m\u001b[0;34m.\u001b[0m\u001b[0mextra_callback_fns\u001b[0m\u001b[0;34m)\u001b[0m\u001b[0;34m]\u001b[0m \u001b[0;34m+\u001b[0m \u001b[0mlistify\u001b[0m\u001b[0;34m(\u001b[0m\u001b[0mcallbacks\u001b[0m\u001b[0;34m)\u001b[0m\u001b[0;34m\u001b[0m\u001b[0;34m\u001b[0m\u001b[0m\n\u001b[0;32m--> 226\u001b[0;31m         \u001b[0mfit\u001b[0m\u001b[0;34m(\u001b[0m\u001b[0mepochs\u001b[0m\u001b[0;34m,\u001b[0m \u001b[0mself\u001b[0m\u001b[0;34m,\u001b[0m \u001b[0mmetrics\u001b[0m\u001b[0;34m=\u001b[0m\u001b[0mself\u001b[0m\u001b[0;34m.\u001b[0m\u001b[0mmetrics\u001b[0m\u001b[0;34m,\u001b[0m \u001b[0mcallbacks\u001b[0m\u001b[0;34m=\u001b[0m\u001b[0mself\u001b[0m\u001b[0;34m.\u001b[0m\u001b[0mcallbacks\u001b[0m\u001b[0;34m+\u001b[0m\u001b[0mcallbacks\u001b[0m\u001b[0;34m)\u001b[0m\u001b[0;34m\u001b[0m\u001b[0;34m\u001b[0m\u001b[0m\n\u001b[0m\u001b[1;32m    227\u001b[0m \u001b[0;34m\u001b[0m\u001b[0m\n\u001b[1;32m    228\u001b[0m     \u001b[0;32mdef\u001b[0m \u001b[0mcreate_opt\u001b[0m\u001b[0;34m(\u001b[0m\u001b[0mself\u001b[0m\u001b[0;34m,\u001b[0m \u001b[0mlr\u001b[0m\u001b[0;34m:\u001b[0m\u001b[0mFloats\u001b[0m\u001b[0;34m,\u001b[0m \u001b[0mwd\u001b[0m\u001b[0;34m:\u001b[0m\u001b[0mFloats\u001b[0m\u001b[0;34m=\u001b[0m\u001b[0;36m0.\u001b[0m\u001b[0;34m)\u001b[0m\u001b[0;34m->\u001b[0m\u001b[0;32mNone\u001b[0m\u001b[0;34m:\u001b[0m\u001b[0;34m\u001b[0m\u001b[0;34m\u001b[0m\u001b[0m\n",
      "\u001b[0;32m/mnt/azmnt/code/Users/bho829/IVR/xfinity/fastai/basic_train.py\u001b[0m in \u001b[0;36mfit\u001b[0;34m(epochs, learn, callbacks, metrics)\u001b[0m\n\u001b[1;32m    122\u001b[0m                 \u001b[0mi\u001b[0m \u001b[0;34m+=\u001b[0m \u001b[0;36m1\u001b[0m\u001b[0;34m\u001b[0m\u001b[0;34m\u001b[0m\u001b[0m\n\u001b[1;32m    123\u001b[0m                 \u001b[0mxb\u001b[0m\u001b[0;34m,\u001b[0m \u001b[0myb\u001b[0m \u001b[0;34m=\u001b[0m \u001b[0mcb_handler\u001b[0m\u001b[0;34m.\u001b[0m\u001b[0mon_batch_begin\u001b[0m\u001b[0;34m(\u001b[0m\u001b[0mxb\u001b[0m\u001b[0;34m,\u001b[0m \u001b[0myb\u001b[0m\u001b[0;34m)\u001b[0m\u001b[0;34m\u001b[0m\u001b[0;34m\u001b[0m\u001b[0m\n\u001b[0;32m--> 124\u001b[0;31m                 \u001b[0mloss\u001b[0m \u001b[0;34m=\u001b[0m \u001b[0mloss_batch\u001b[0m\u001b[0;34m(\u001b[0m\u001b[0mlearn\u001b[0m\u001b[0;34m.\u001b[0m\u001b[0mmodel\u001b[0m\u001b[0;34m,\u001b[0m \u001b[0mxb\u001b[0m\u001b[0;34m,\u001b[0m \u001b[0myb\u001b[0m\u001b[0;34m,\u001b[0m \u001b[0mlearn\u001b[0m\u001b[0;34m.\u001b[0m\u001b[0mloss_func\u001b[0m\u001b[0;34m,\u001b[0m \u001b[0mlearn\u001b[0m\u001b[0;34m.\u001b[0m\u001b[0mopt\u001b[0m\u001b[0;34m,\u001b[0m \u001b[0mcb_handler\u001b[0m\u001b[0;34m)\u001b[0m\u001b[0;34m\u001b[0m\u001b[0;34m\u001b[0m\u001b[0m\n\u001b[0m\u001b[1;32m    125\u001b[0m                 \u001b[0;32mif\u001b[0m \u001b[0mcb_handler\u001b[0m\u001b[0;34m.\u001b[0m\u001b[0mon_batch_end\u001b[0m\u001b[0;34m(\u001b[0m\u001b[0mloss\u001b[0m\u001b[0;34m)\u001b[0m\u001b[0;34m:\u001b[0m \u001b[0;32mbreak\u001b[0m\u001b[0;34m\u001b[0m\u001b[0;34m\u001b[0m\u001b[0m\n\u001b[1;32m    126\u001b[0m \u001b[0;34m\u001b[0m\u001b[0m\n",
      "\u001b[0;32m/mnt/azmnt/code/Users/bho829/IVR/xfinity/fastai/basic_train.py\u001b[0m in \u001b[0;36mloss_batch\u001b[0;34m(model, xb, yb, loss_func, opt, cb_handler)\u001b[0m\n\u001b[1;32m     43\u001b[0m         \u001b[0mloss\u001b[0m\u001b[0;34m,\u001b[0m\u001b[0mskip_bwd\u001b[0m \u001b[0;34m=\u001b[0m \u001b[0mcb_handler\u001b[0m\u001b[0;34m.\u001b[0m\u001b[0mon_backward_begin\u001b[0m\u001b[0;34m(\u001b[0m\u001b[0mloss\u001b[0m\u001b[0;34m)\u001b[0m\u001b[0;34m\u001b[0m\u001b[0;34m\u001b[0m\u001b[0m\n\u001b[1;32m     44\u001b[0m         \u001b[0;32mif\u001b[0m \u001b[0;32mnot\u001b[0m \u001b[0mskip_bwd\u001b[0m\u001b[0;34m:\u001b[0m                     \u001b[0mloss\u001b[0m\u001b[0;34m.\u001b[0m\u001b[0mbackward\u001b[0m\u001b[0;34m(\u001b[0m\u001b[0;34m)\u001b[0m\u001b[0;34m\u001b[0m\u001b[0;34m\u001b[0m\u001b[0m\n\u001b[0;32m---> 45\u001b[0;31m         \u001b[0;32mif\u001b[0m \u001b[0;32mnot\u001b[0m \u001b[0mcb_handler\u001b[0m\u001b[0;34m.\u001b[0m\u001b[0mon_backward_end\u001b[0m\u001b[0;34m(\u001b[0m\u001b[0;34m)\u001b[0m\u001b[0;34m:\u001b[0m \u001b[0mopt\u001b[0m\u001b[0;34m.\u001b[0m\u001b[0mstep\u001b[0m\u001b[0;34m(\u001b[0m\u001b[0;34m)\u001b[0m\u001b[0;34m\u001b[0m\u001b[0;34m\u001b[0m\u001b[0m\n\u001b[0m\u001b[1;32m     46\u001b[0m         \u001b[0;32mif\u001b[0m \u001b[0;32mnot\u001b[0m \u001b[0mcb_handler\u001b[0m\u001b[0;34m.\u001b[0m\u001b[0mon_step_end\u001b[0m\u001b[0;34m(\u001b[0m\u001b[0;34m)\u001b[0m\u001b[0;34m:\u001b[0m     \u001b[0mopt\u001b[0m\u001b[0;34m.\u001b[0m\u001b[0mzero_grad\u001b[0m\u001b[0;34m(\u001b[0m\u001b[0;34m)\u001b[0m\u001b[0;34m\u001b[0m\u001b[0;34m\u001b[0m\u001b[0m\n\u001b[1;32m     47\u001b[0m \u001b[0;34m\u001b[0m\u001b[0m\n",
      "\u001b[0;32m/mnt/azmnt/code/Users/bho829/IVR/xfinity/fastai/callback.py\u001b[0m in \u001b[0;36mstep\u001b[0;34m(self)\u001b[0m\n\u001b[1;32m     55\u001b[0m                     \u001b[0;32mfor\u001b[0m \u001b[0mp\u001b[0m \u001b[0;32min\u001b[0m \u001b[0mpg2\u001b[0m\u001b[0;34m[\u001b[0m\u001b[0;34m'params'\u001b[0m\u001b[0;34m]\u001b[0m\u001b[0;34m:\u001b[0m \u001b[0mp\u001b[0m\u001b[0;34m.\u001b[0m\u001b[0mdata\u001b[0m\u001b[0;34m.\u001b[0m\u001b[0mmul_\u001b[0m\u001b[0;34m(\u001b[0m\u001b[0;36m1\u001b[0m \u001b[0;34m-\u001b[0m \u001b[0mwd\u001b[0m\u001b[0;34m*\u001b[0m\u001b[0mlr\u001b[0m\u001b[0;34m)\u001b[0m\u001b[0;34m\u001b[0m\u001b[0;34m\u001b[0m\u001b[0m\n\u001b[1;32m     56\u001b[0m             \u001b[0mself\u001b[0m\u001b[0;34m.\u001b[0m\u001b[0mset_val\u001b[0m\u001b[0;34m(\u001b[0m\u001b[0;34m'weight_decay'\u001b[0m\u001b[0;34m,\u001b[0m \u001b[0mlistify\u001b[0m\u001b[0;34m(\u001b[0m\u001b[0;36m0\u001b[0m\u001b[0;34m,\u001b[0m \u001b[0mself\u001b[0m\u001b[0;34m.\u001b[0m\u001b[0m_wd\u001b[0m\u001b[0;34m)\u001b[0m\u001b[0;34m)\u001b[0m\u001b[0;34m\u001b[0m\u001b[0;34m\u001b[0m\u001b[0m\n\u001b[0;32m---> 57\u001b[0;31m         \u001b[0mself\u001b[0m\u001b[0;34m.\u001b[0m\u001b[0mopt\u001b[0m\u001b[0;34m.\u001b[0m\u001b[0mstep\u001b[0m\u001b[0;34m(\u001b[0m\u001b[0;34m)\u001b[0m\u001b[0;34m\u001b[0m\u001b[0;34m\u001b[0m\u001b[0m\n\u001b[0m\u001b[1;32m     58\u001b[0m \u001b[0;34m\u001b[0m\u001b[0m\n\u001b[1;32m     59\u001b[0m     \u001b[0;32mdef\u001b[0m \u001b[0mzero_grad\u001b[0m\u001b[0;34m(\u001b[0m\u001b[0mself\u001b[0m\u001b[0;34m)\u001b[0m\u001b[0;34m->\u001b[0m\u001b[0;32mNone\u001b[0m\u001b[0;34m:\u001b[0m\u001b[0;34m\u001b[0m\u001b[0;34m\u001b[0m\u001b[0m\n",
      "\u001b[0;32m/anaconda/envs/azureml_py36/lib/python3.6/site-packages/torch/optim/adam.py\u001b[0m in \u001b[0;36mstep\u001b[0;34m(self, closure)\u001b[0m\n\u001b[1;32m    101\u001b[0m                     \u001b[0mdenom\u001b[0m \u001b[0;34m=\u001b[0m \u001b[0;34m(\u001b[0m\u001b[0mmax_exp_avg_sq\u001b[0m\u001b[0;34m.\u001b[0m\u001b[0msqrt\u001b[0m\u001b[0;34m(\u001b[0m\u001b[0;34m)\u001b[0m \u001b[0;34m/\u001b[0m \u001b[0mmath\u001b[0m\u001b[0;34m.\u001b[0m\u001b[0msqrt\u001b[0m\u001b[0;34m(\u001b[0m\u001b[0mbias_correction2\u001b[0m\u001b[0;34m)\u001b[0m\u001b[0;34m)\u001b[0m\u001b[0;34m.\u001b[0m\u001b[0madd_\u001b[0m\u001b[0;34m(\u001b[0m\u001b[0mgroup\u001b[0m\u001b[0;34m[\u001b[0m\u001b[0;34m'eps'\u001b[0m\u001b[0;34m]\u001b[0m\u001b[0;34m)\u001b[0m\u001b[0;34m\u001b[0m\u001b[0;34m\u001b[0m\u001b[0m\n\u001b[1;32m    102\u001b[0m                 \u001b[0;32melse\u001b[0m\u001b[0;34m:\u001b[0m\u001b[0;34m\u001b[0m\u001b[0;34m\u001b[0m\u001b[0m\n\u001b[0;32m--> 103\u001b[0;31m                     \u001b[0mdenom\u001b[0m \u001b[0;34m=\u001b[0m \u001b[0;34m(\u001b[0m\u001b[0mexp_avg_sq\u001b[0m\u001b[0;34m.\u001b[0m\u001b[0msqrt\u001b[0m\u001b[0;34m(\u001b[0m\u001b[0;34m)\u001b[0m \u001b[0;34m/\u001b[0m \u001b[0mmath\u001b[0m\u001b[0;34m.\u001b[0m\u001b[0msqrt\u001b[0m\u001b[0;34m(\u001b[0m\u001b[0mbias_correction2\u001b[0m\u001b[0;34m)\u001b[0m\u001b[0;34m)\u001b[0m\u001b[0;34m.\u001b[0m\u001b[0madd_\u001b[0m\u001b[0;34m(\u001b[0m\u001b[0mgroup\u001b[0m\u001b[0;34m[\u001b[0m\u001b[0;34m'eps'\u001b[0m\u001b[0;34m]\u001b[0m\u001b[0;34m)\u001b[0m\u001b[0;34m\u001b[0m\u001b[0;34m\u001b[0m\u001b[0m\n\u001b[0m\u001b[1;32m    104\u001b[0m \u001b[0;34m\u001b[0m\u001b[0m\n\u001b[1;32m    105\u001b[0m                 \u001b[0mstep_size\u001b[0m \u001b[0;34m=\u001b[0m \u001b[0mgroup\u001b[0m\u001b[0;34m[\u001b[0m\u001b[0;34m'lr'\u001b[0m\u001b[0;34m]\u001b[0m \u001b[0;34m/\u001b[0m \u001b[0mbias_correction1\u001b[0m\u001b[0;34m\u001b[0m\u001b[0;34m\u001b[0m\u001b[0m\n",
      "\u001b[0;31mKeyboardInterrupt\u001b[0m: "
     ]
    }
   ],
   "source": [
    "learn.fit_one_cycle(5, 1e-3, wd=0.2)"
   ]
  },
  {
   "cell_type": "code",
   "execution_count": null,
   "metadata": {},
   "outputs": [],
   "source": [
    "learn.save('1')"
   ]
  },
  {
   "cell_type": "code",
   "execution_count": null,
   "metadata": {},
   "outputs": [],
   "source": [
    "learn.recorder.plot_losses(skip_start=10000)"
   ]
  },
  {
   "cell_type": "code",
   "execution_count": 59,
   "metadata": {},
   "outputs": [
    {
     "data": {
      "text/plain": [
       "TabularExtModel(\n",
       "  (vecs): ModuleList()\n",
       "  (embeds): ModuleList(\n",
       "    (0): Embedding(5, 4)\n",
       "    (1): Embedding(126, 24)\n",
       "    (2): Embedding(3, 3)\n",
       "    (3): Embedding(3, 3)\n",
       "    (4): Embedding(4, 3)\n",
       "    (5): Embedding(3, 3)\n",
       "    (6): Embedding(6, 4)\n",
       "    (7): Embedding(3, 3)\n",
       "    (8): Embedding(41, 13)\n",
       "    (9): Embedding(4, 3)\n",
       "    (10): Embedding(52, 15)\n",
       "    (11): Embedding(133535, 600)\n",
       "    (12): Embedding(3, 3)\n",
       "    (13): Embedding(3, 3)\n",
       "    (14): Embedding(3, 3)\n",
       "    (15): Embedding(2, 2)\n",
       "    (16): Embedding(3, 3)\n",
       "    (17): Embedding(3, 3)\n",
       "    (18): Embedding(3, 3)\n",
       "    (19): Embedding(4, 3)\n",
       "    (20): Embedding(3, 3)\n",
       "  )\n",
       "  (emb_drop): Dropout(p=0.04, inplace=False)\n",
       "  (bn_cont): BatchNorm1d(30, eps=1e-05, momentum=0.1, affine=True, track_running_stats=True)\n",
       "  (layers): Sequential(\n",
       "    (0): Linear(in_features=734, out_features=1000, bias=True)\n",
       "    (1): ReLU(inplace=True)\n",
       "    (2): BatchNorm1d(1000, eps=1e-05, momentum=0.1, affine=True, track_running_stats=True)\n",
       "    (3): Dropout(p=0.001, inplace=False)\n",
       "    (4): Linear(in_features=1000, out_features=500, bias=True)\n",
       "    (5): ReLU(inplace=True)\n",
       "    (6): BatchNorm1d(500, eps=1e-05, momentum=0.1, affine=True, track_running_stats=True)\n",
       "    (7): Dropout(p=0.01, inplace=False)\n",
       "    (8): Linear(in_features=500, out_features=1, bias=True)\n",
       "  )\n",
       ")"
      ]
     },
     "execution_count": 59,
     "metadata": {},
     "output_type": "execute_result"
    }
   ],
   "source": [
    "learn.model"
   ]
  },
  {
   "cell_type": "code",
   "execution_count": 71,
   "metadata": {},
   "outputs": [
    {
     "data": {
      "text/plain": [
       "<bound method Module.parameters of TabularExtModel(\n",
       "  (vecs): ModuleList()\n",
       "  (embeds): ModuleList(\n",
       "    (0): Embedding(5, 4)\n",
       "    (1): Embedding(126, 24)\n",
       "    (2): Embedding(3, 3)\n",
       "    (3): Embedding(3, 3)\n",
       "    (4): Embedding(4, 3)\n",
       "    (5): Embedding(3, 3)\n",
       "    (6): Embedding(6, 4)\n",
       "    (7): Embedding(3, 3)\n",
       "    (8): Embedding(41, 13)\n",
       "    (9): Embedding(4, 3)\n",
       "    (10): Embedding(52, 15)\n",
       "    (11): Embedding(133535, 600)\n",
       "    (12): Embedding(3, 3)\n",
       "    (13): Embedding(3, 3)\n",
       "    (14): Embedding(3, 3)\n",
       "    (15): Embedding(2, 2)\n",
       "    (16): Embedding(3, 3)\n",
       "    (17): Embedding(3, 3)\n",
       "    (18): Embedding(3, 3)\n",
       "    (19): Embedding(4, 3)\n",
       "    (20): Embedding(3, 3)\n",
       "  )\n",
       "  (emb_drop): Dropout(p=0.04, inplace=False)\n",
       "  (bn_cont): BatchNorm1d(30, eps=1e-05, momentum=0.1, affine=True, track_running_stats=True)\n",
       "  (layers): Sequential(\n",
       "    (0): Linear(in_features=734, out_features=1000, bias=True)\n",
       "    (1): ReLU(inplace=True)\n",
       "    (2): BatchNorm1d(1000, eps=1e-05, momentum=0.1, affine=True, track_running_stats=True)\n",
       "    (3): Dropout(p=0.001, inplace=False)\n",
       "    (4): Linear(in_features=1000, out_features=500, bias=True)\n",
       "    (5): ReLU(inplace=True)\n",
       "    (6): BatchNorm1d(500, eps=1e-05, momentum=0.1, affine=True, track_running_stats=True)\n",
       "    (7): Dropout(p=0.01, inplace=False)\n",
       "    (8): Linear(in_features=500, out_features=1, bias=True)\n",
       "  )\n",
       ")>"
      ]
     },
     "execution_count": 71,
     "metadata": {},
     "output_type": "execute_result"
    }
   ],
   "source": [
    "learn.model.parameters"
   ]
  },
  {
   "cell_type": "code",
   "execution_count": 67,
   "metadata": {},
   "outputs": [
    {
     "data": {
      "text/plain": [
       "Embedding(5, 4)"
      ]
     },
     "execution_count": 67,
     "metadata": {},
     "output_type": "execute_result"
    }
   ],
   "source": [
    "learn.model.embeds[0]"
   ]
  },
  {
   "cell_type": "code",
   "execution_count": 73,
   "metadata": {},
   "outputs": [
    {
     "data": {
      "text/plain": [
       "torch.nn.modules.sparse.Embedding"
      ]
     },
     "execution_count": 73,
     "metadata": {},
     "output_type": "execute_result"
    }
   ],
   "source": [
    "type(learn.model.embeds[0])"
   ]
  },
  {
   "cell_type": "code",
   "execution_count": 69,
   "metadata": {},
   "outputs": [
    {
     "data": {
      "text/plain": [
       "Parameter containing:\n",
       "tensor([[nan, nan, nan, nan],\n",
       "        [nan, nan, nan, nan],\n",
       "        [nan, nan, nan, nan],\n",
       "        [nan, nan, nan, nan],\n",
       "        [nan, nan, nan, nan]], requires_grad=True)"
      ]
     },
     "execution_count": 69,
     "metadata": {},
     "output_type": "execute_result"
    }
   ],
   "source": [
    "learn.model.embeds[0].weight"
   ]
  },
  {
   "cell_type": "code",
   "execution_count": 74,
   "metadata": {},
   "outputs": [
    {
     "data": {
      "text/plain": [
       "tensor([[nan, nan, nan, nan],\n",
       "        [nan, nan, nan, nan],\n",
       "        [nan, nan, nan, nan],\n",
       "        [nan, nan, nan, nan],\n",
       "        [nan, nan, nan, nan]])"
      ]
     },
     "execution_count": 74,
     "metadata": {},
     "output_type": "execute_result"
    }
   ],
   "source": [
    "learn.model.embeds[0].weight.data"
   ]
  },
  {
   "cell_type": "code",
   "execution_count": 68,
   "metadata": {},
   "outputs": [],
   "source": [
    "learn.load('1');"
   ]
  },
  {
   "cell_type": "code",
   "execution_count": null,
   "metadata": {},
   "outputs": [
    {
     "data": {
      "text/html": [
       "\n",
       "    <div>\n",
       "        <style>\n",
       "            /* Turns off some styling */\n",
       "            progress {\n",
       "                /* gets rid of default border in Firefox and Opera. */\n",
       "                border: none;\n",
       "                /* Needs to be in here for Safari polyfill so background images work as expected. */\n",
       "                background-size: auto;\n",
       "            }\n",
       "            .progress-bar-interrupted, .progress-bar-interrupted::-webkit-progress-bar {\n",
       "                background: #F44336;\n",
       "            }\n",
       "        </style>\n",
       "      <progress value='1' class='' max='5', style='width:300px; height:20px; vertical-align: middle;'></progress>\n",
       "      20.00% [1/5 13:39<54:39]\n",
       "    </div>\n",
       "    \n",
       "<table border=\"1\" class=\"dataframe\">\n",
       "  <thead>\n",
       "    <tr style=\"text-align: left;\">\n",
       "      <th>epoch</th>\n",
       "      <th>train_loss</th>\n",
       "      <th>valid_loss</th>\n",
       "      <th>exp_rmspe</th>\n",
       "      <th>time</th>\n",
       "    </tr>\n",
       "  </thead>\n",
       "  <tbody>\n",
       "    <tr>\n",
       "      <td>0</td>\n",
       "      <td>0.012393</td>\n",
       "      <td>0.016367</td>\n",
       "      <td>0.116766</td>\n",
       "      <td>13:39</td>\n",
       "    </tr>\n",
       "  </tbody>\n",
       "</table><p>\n",
       "\n",
       "    <div>\n",
       "        <style>\n",
       "            /* Turns off some styling */\n",
       "            progress {\n",
       "                /* gets rid of default border in Firefox and Opera. */\n",
       "                border: none;\n",
       "                /* Needs to be in here for Safari polyfill so background images work as expected. */\n",
       "                background-size: auto;\n",
       "            }\n",
       "            .progress-bar-interrupted, .progress-bar-interrupted::-webkit-progress-bar {\n",
       "                background: #F44336;\n",
       "            }\n",
       "        </style>\n",
       "      <progress value='1901' class='' max='12545', style='width:300px; height:20px; vertical-align: middle;'></progress>\n",
       "      15.15% [1901/12545 01:58<11:03 0.0106]\n",
       "    </div>\n",
       "    "
      ],
      "text/plain": [
       "<IPython.core.display.HTML object>"
      ]
     },
     "metadata": {},
     "output_type": "display_data"
    }
   ],
   "source": [
    "learn.fit_one_cycle(5, 3e-4)"
   ]
  },
  {
   "cell_type": "code",
   "execution_count": null,
   "metadata": {},
   "outputs": [],
   "source": []
  }
 ],
 "metadata": {
  "kernelspec": {
   "display_name": "Python 3.6 - AzureML",
   "language": "python",
   "name": "python3-azureml"
  },
  "language_info": {
   "codemirror_mode": {
    "name": "ipython",
    "version": 3
   },
   "file_extension": ".py",
   "mimetype": "text/x-python",
   "name": "python",
   "nbconvert_exporter": "python",
   "pygments_lexer": "ipython3",
   "version": "3.6.9"
  }
 },
 "nbformat": 4,
 "nbformat_minor": 2
}
